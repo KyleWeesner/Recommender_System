{
 "cells": [
  {
   "cell_type": "markdown",
   "metadata": {},
   "source": [
    "## Imports"
   ]
  },
  {
   "cell_type": "code",
   "execution_count": 174,
   "metadata": {
    "ExecuteTime": {
     "end_time": "2022-05-10T14:40:58.950955Z",
     "start_time": "2022-05-10T14:40:58.936937Z"
    }
   },
   "outputs": [],
   "source": [
    "import pandas as pd\n",
    "\n",
    "import surprise\n",
    "from surprise.prediction_algorithms import *\n",
    "import pandas as pd\n",
    "import numpy as np\n",
    "import datetime as dt\n",
    "\n",
    "from surprise import Dataset\n",
    "from surprise import Reader\n",
    "\n",
    "from surprise.prediction_algorithms import knns\n",
    "from surprise.similarities import cosine, msd, pearson\n",
    "from surprise import accuracy\n",
    "from surprise.model_selection import GridSearchCV\n",
    "from sklearn.model_selection import train_test_split\n",
    "from surprise.model_selection import cross_validate\n",
    "\n",
    "from nltk.tokenize import RegexpTokenizer\n",
    "\n",
    "import pickle "
   ]
  },
  {
   "cell_type": "markdown",
   "metadata": {},
   "source": [
    "## EDA"
   ]
  },
  {
   "cell_type": "code",
   "execution_count": 175,
   "metadata": {
    "ExecuteTime": {
     "end_time": "2022-05-10T14:40:59.671472Z",
     "start_time": "2022-05-10T14:40:59.573322Z"
    }
   },
   "outputs": [],
   "source": [
    "movies = pd.read_csv('./ml-latest-small/movies.csv')"
   ]
  },
  {
   "cell_type": "code",
   "execution_count": 176,
   "metadata": {
    "ExecuteTime": {
     "end_time": "2022-05-10T14:40:59.785627Z",
     "start_time": "2022-05-10T14:40:59.769955Z"
    }
   },
   "outputs": [],
   "source": [
    "link = pd.read_csv('./ml-latest-small/links.csv')"
   ]
  },
  {
   "cell_type": "code",
   "execution_count": 177,
   "metadata": {
    "ExecuteTime": {
     "end_time": "2022-05-10T14:40:59.990773Z",
     "start_time": "2022-05-10T14:40:59.926643Z"
    }
   },
   "outputs": [],
   "source": [
    "rating = pd.read_csv('./ml-latest-small/ratings.csv')"
   ]
  },
  {
   "cell_type": "code",
   "execution_count": 178,
   "metadata": {
    "ExecuteTime": {
     "end_time": "2022-05-10T14:41:00.124547Z",
     "start_time": "2022-05-10T14:41:00.103253Z"
    }
   },
   "outputs": [],
   "source": [
    "tags = pd.read_csv('./ml-latest-small/tags.csv')"
   ]
  },
  {
   "cell_type": "code",
   "execution_count": 179,
   "metadata": {
    "ExecuteTime": {
     "end_time": "2022-05-10T14:41:00.275722Z",
     "start_time": "2022-05-10T14:41:00.242872Z"
    },
    "scrolled": true
   },
   "outputs": [
    {
     "data": {
      "text/html": [
       "<div>\n",
       "<style scoped>\n",
       "    .dataframe tbody tr th:only-of-type {\n",
       "        vertical-align: middle;\n",
       "    }\n",
       "\n",
       "    .dataframe tbody tr th {\n",
       "        vertical-align: top;\n",
       "    }\n",
       "\n",
       "    .dataframe thead th {\n",
       "        text-align: right;\n",
       "    }\n",
       "</style>\n",
       "<table border=\"1\" class=\"dataframe\">\n",
       "  <thead>\n",
       "    <tr style=\"text-align: right;\">\n",
       "      <th></th>\n",
       "      <th>movieId</th>\n",
       "      <th>title</th>\n",
       "      <th>genres</th>\n",
       "    </tr>\n",
       "  </thead>\n",
       "  <tbody>\n",
       "    <tr>\n",
       "      <th>0</th>\n",
       "      <td>1</td>\n",
       "      <td>Toy Story (1995)</td>\n",
       "      <td>Adventure|Animation|Children|Comedy|Fantasy</td>\n",
       "    </tr>\n",
       "    <tr>\n",
       "      <th>1</th>\n",
       "      <td>2</td>\n",
       "      <td>Jumanji (1995)</td>\n",
       "      <td>Adventure|Children|Fantasy</td>\n",
       "    </tr>\n",
       "    <tr>\n",
       "      <th>2</th>\n",
       "      <td>3</td>\n",
       "      <td>Grumpier Old Men (1995)</td>\n",
       "      <td>Comedy|Romance</td>\n",
       "    </tr>\n",
       "    <tr>\n",
       "      <th>3</th>\n",
       "      <td>4</td>\n",
       "      <td>Waiting to Exhale (1995)</td>\n",
       "      <td>Comedy|Drama|Romance</td>\n",
       "    </tr>\n",
       "    <tr>\n",
       "      <th>4</th>\n",
       "      <td>5</td>\n",
       "      <td>Father of the Bride Part II (1995)</td>\n",
       "      <td>Comedy</td>\n",
       "    </tr>\n",
       "    <tr>\n",
       "      <th>...</th>\n",
       "      <td>...</td>\n",
       "      <td>...</td>\n",
       "      <td>...</td>\n",
       "    </tr>\n",
       "    <tr>\n",
       "      <th>9737</th>\n",
       "      <td>193581</td>\n",
       "      <td>Black Butler: Book of the Atlantic (2017)</td>\n",
       "      <td>Action|Animation|Comedy|Fantasy</td>\n",
       "    </tr>\n",
       "    <tr>\n",
       "      <th>9738</th>\n",
       "      <td>193583</td>\n",
       "      <td>No Game No Life: Zero (2017)</td>\n",
       "      <td>Animation|Comedy|Fantasy</td>\n",
       "    </tr>\n",
       "    <tr>\n",
       "      <th>9739</th>\n",
       "      <td>193585</td>\n",
       "      <td>Flint (2017)</td>\n",
       "      <td>Drama</td>\n",
       "    </tr>\n",
       "    <tr>\n",
       "      <th>9740</th>\n",
       "      <td>193587</td>\n",
       "      <td>Bungo Stray Dogs: Dead Apple (2018)</td>\n",
       "      <td>Action|Animation</td>\n",
       "    </tr>\n",
       "    <tr>\n",
       "      <th>9741</th>\n",
       "      <td>193609</td>\n",
       "      <td>Andrew Dice Clay: Dice Rules (1991)</td>\n",
       "      <td>Comedy</td>\n",
       "    </tr>\n",
       "  </tbody>\n",
       "</table>\n",
       "<p>9742 rows × 3 columns</p>\n",
       "</div>"
      ],
      "text/plain": [
       "      movieId                                      title  \\\n",
       "0           1                           Toy Story (1995)   \n",
       "1           2                             Jumanji (1995)   \n",
       "2           3                    Grumpier Old Men (1995)   \n",
       "3           4                   Waiting to Exhale (1995)   \n",
       "4           5         Father of the Bride Part II (1995)   \n",
       "...       ...                                        ...   \n",
       "9737   193581  Black Butler: Book of the Atlantic (2017)   \n",
       "9738   193583               No Game No Life: Zero (2017)   \n",
       "9739   193585                               Flint (2017)   \n",
       "9740   193587        Bungo Stray Dogs: Dead Apple (2018)   \n",
       "9741   193609        Andrew Dice Clay: Dice Rules (1991)   \n",
       "\n",
       "                                           genres  \n",
       "0     Adventure|Animation|Children|Comedy|Fantasy  \n",
       "1                      Adventure|Children|Fantasy  \n",
       "2                                  Comedy|Romance  \n",
       "3                            Comedy|Drama|Romance  \n",
       "4                                          Comedy  \n",
       "...                                           ...  \n",
       "9737              Action|Animation|Comedy|Fantasy  \n",
       "9738                     Animation|Comedy|Fantasy  \n",
       "9739                                        Drama  \n",
       "9740                             Action|Animation  \n",
       "9741                                       Comedy  \n",
       "\n",
       "[9742 rows x 3 columns]"
      ]
     },
     "execution_count": 179,
     "metadata": {},
     "output_type": "execute_result"
    }
   ],
   "source": [
    "movies"
   ]
  },
  {
   "cell_type": "code",
   "execution_count": 180,
   "metadata": {
    "ExecuteTime": {
     "end_time": "2022-05-10T14:41:00.418883Z",
     "start_time": "2022-05-10T14:41:00.402640Z"
    }
   },
   "outputs": [
    {
     "data": {
      "text/plain": [
       "movieId    0\n",
       "title      0\n",
       "genres     0\n",
       "dtype: int64"
      ]
     },
     "execution_count": 180,
     "metadata": {},
     "output_type": "execute_result"
    }
   ],
   "source": [
    "movies.isna().sum()"
   ]
  },
  {
   "cell_type": "code",
   "execution_count": 181,
   "metadata": {
    "ExecuteTime": {
     "end_time": "2022-05-10T14:41:01.142585Z",
     "start_time": "2022-05-10T14:41:01.115719Z"
    },
    "scrolled": false
   },
   "outputs": [
    {
     "data": {
      "text/plain": [
       "Eros (2004)                                                           2\n",
       "War of the Worlds (2005)                                              2\n",
       "Confessions of a Dangerous Mind (2002)                                2\n",
       "Emma (1996)                                                           2\n",
       "Saturn 3 (1980)                                                       2\n",
       "                                                                     ..\n",
       "Woman in the Dunes (Suna no onna) (1964)                              1\n",
       "Toy Story (1995)                                                      1\n",
       "Saragossa Manuscript, The (Rekopis znaleziony w Saragossie) (1965)    1\n",
       "Five Senses, The (1999)                                               1\n",
       "Hello, Dolly! (1969)                                                  1\n",
       "Name: title, Length: 9737, dtype: int64"
      ]
     },
     "execution_count": 181,
     "metadata": {},
     "output_type": "execute_result"
    }
   ],
   "source": [
    "movies.title.value_counts()"
   ]
  },
  {
   "cell_type": "code",
   "execution_count": 182,
   "metadata": {
    "ExecuteTime": {
     "end_time": "2022-05-10T14:41:01.321209Z",
     "start_time": "2022-05-10T14:41:01.310099Z"
    }
   },
   "outputs": [
    {
     "data": {
      "text/plain": [
       "5"
      ]
     },
     "execution_count": 182,
     "metadata": {},
     "output_type": "execute_result"
    }
   ],
   "source": [
    "#Check to see if there are any duplicate titles\n",
    "movies.title.duplicated().sum()"
   ]
  },
  {
   "cell_type": "code",
   "execution_count": 183,
   "metadata": {
    "ExecuteTime": {
     "end_time": "2022-05-10T14:41:01.642901Z",
     "start_time": "2022-05-10T14:41:01.626718Z"
    }
   },
   "outputs": [],
   "source": [
    "#Drop the 5 duplicated movie titles\n",
    "movies.drop_duplicates(subset='title', inplace=True)"
   ]
  },
  {
   "cell_type": "code",
   "execution_count": 184,
   "metadata": {
    "ExecuteTime": {
     "end_time": "2022-05-10T14:41:02.064015Z",
     "start_time": "2022-05-10T14:41:02.054027Z"
    }
   },
   "outputs": [
    {
     "data": {
      "text/plain": [
       "0"
      ]
     },
     "execution_count": 184,
     "metadata": {},
     "output_type": "execute_result"
    }
   ],
   "source": [
    "#Sanity check to ensure all duplicates were dropped from title column\n",
    "\n",
    "movies.title.duplicated().sum()"
   ]
  },
  {
   "cell_type": "code",
   "execution_count": 185,
   "metadata": {
    "ExecuteTime": {
     "end_time": "2022-05-10T14:41:02.593943Z",
     "start_time": "2022-05-10T14:41:02.582108Z"
    }
   },
   "outputs": [
    {
     "data": {
      "text/html": [
       "<div>\n",
       "<style scoped>\n",
       "    .dataframe tbody tr th:only-of-type {\n",
       "        vertical-align: middle;\n",
       "    }\n",
       "\n",
       "    .dataframe tbody tr th {\n",
       "        vertical-align: top;\n",
       "    }\n",
       "\n",
       "    .dataframe thead th {\n",
       "        text-align: right;\n",
       "    }\n",
       "</style>\n",
       "<table border=\"1\" class=\"dataframe\">\n",
       "  <thead>\n",
       "    <tr style=\"text-align: right;\">\n",
       "      <th></th>\n",
       "      <th>movieId</th>\n",
       "      <th>title</th>\n",
       "      <th>genres</th>\n",
       "    </tr>\n",
       "  </thead>\n",
       "  <tbody>\n",
       "  </tbody>\n",
       "</table>\n",
       "</div>"
      ],
      "text/plain": [
       "Empty DataFrame\n",
       "Columns: [movieId, title, genres]\n",
       "Index: []"
      ]
     },
     "execution_count": 185,
     "metadata": {},
     "output_type": "execute_result"
    }
   ],
   "source": [
    "movies[movies.title.duplicated() == True]"
   ]
  },
  {
   "cell_type": "code",
   "execution_count": 186,
   "metadata": {
    "ExecuteTime": {
     "end_time": "2022-05-10T14:41:02.948924Z",
     "start_time": "2022-05-10T14:41:02.943280Z"
    }
   },
   "outputs": [
    {
     "data": {
      "text/plain": [
       "9737"
      ]
     },
     "execution_count": 186,
     "metadata": {},
     "output_type": "execute_result"
    }
   ],
   "source": [
    "#Check length of DataFrame\n",
    "\n",
    "len(movies)"
   ]
  },
  {
   "cell_type": "code",
   "execution_count": 187,
   "metadata": {
    "ExecuteTime": {
     "end_time": "2022-05-10T14:41:04.462550Z",
     "start_time": "2022-05-10T14:41:04.403748Z"
    },
    "scrolled": true
   },
   "outputs": [],
   "source": [
    "# Split title column into two new columns: Title and year \n",
    "\n",
    "movies['Title'] = movies['title'].str.split('(', n=1, expand=True)[0]\n",
    "\n",
    "movies['year_released'] = movies['title'].str.split('(', n=1, expand=True)[1]"
   ]
  },
  {
   "cell_type": "code",
   "execution_count": null,
   "metadata": {},
   "outputs": [],
   "source": []
  },
  {
   "cell_type": "code",
   "execution_count": 188,
   "metadata": {
    "ExecuteTime": {
     "end_time": "2022-05-10T14:41:05.007101Z",
     "start_time": "2022-05-10T14:41:04.998637Z"
    }
   },
   "outputs": [],
   "source": [
    "# Drop original column title\n",
    "\n",
    "movies.drop(columns='title', inplace=True)"
   ]
  },
  {
   "cell_type": "code",
   "execution_count": 189,
   "metadata": {
    "ExecuteTime": {
     "end_time": "2022-05-10T14:41:05.222477Z",
     "start_time": "2022-05-10T14:41:05.204853Z"
    }
   },
   "outputs": [
    {
     "data": {
      "text/html": [
       "<div>\n",
       "<style scoped>\n",
       "    .dataframe tbody tr th:only-of-type {\n",
       "        vertical-align: middle;\n",
       "    }\n",
       "\n",
       "    .dataframe tbody tr th {\n",
       "        vertical-align: top;\n",
       "    }\n",
       "\n",
       "    .dataframe thead th {\n",
       "        text-align: right;\n",
       "    }\n",
       "</style>\n",
       "<table border=\"1\" class=\"dataframe\">\n",
       "  <thead>\n",
       "    <tr style=\"text-align: right;\">\n",
       "      <th></th>\n",
       "      <th>movieId</th>\n",
       "      <th>genres</th>\n",
       "      <th>Title</th>\n",
       "      <th>year_released</th>\n",
       "    </tr>\n",
       "  </thead>\n",
       "  <tbody>\n",
       "    <tr>\n",
       "      <th>0</th>\n",
       "      <td>1</td>\n",
       "      <td>Adventure|Animation|Children|Comedy|Fantasy</td>\n",
       "      <td>Toy Story</td>\n",
       "      <td>1995)</td>\n",
       "    </tr>\n",
       "    <tr>\n",
       "      <th>1</th>\n",
       "      <td>2</td>\n",
       "      <td>Adventure|Children|Fantasy</td>\n",
       "      <td>Jumanji</td>\n",
       "      <td>1995)</td>\n",
       "    </tr>\n",
       "    <tr>\n",
       "      <th>2</th>\n",
       "      <td>3</td>\n",
       "      <td>Comedy|Romance</td>\n",
       "      <td>Grumpier Old Men</td>\n",
       "      <td>1995)</td>\n",
       "    </tr>\n",
       "    <tr>\n",
       "      <th>3</th>\n",
       "      <td>4</td>\n",
       "      <td>Comedy|Drama|Romance</td>\n",
       "      <td>Waiting to Exhale</td>\n",
       "      <td>1995)</td>\n",
       "    </tr>\n",
       "    <tr>\n",
       "      <th>4</th>\n",
       "      <td>5</td>\n",
       "      <td>Comedy</td>\n",
       "      <td>Father of the Bride Part II</td>\n",
       "      <td>1995)</td>\n",
       "    </tr>\n",
       "    <tr>\n",
       "      <th>...</th>\n",
       "      <td>...</td>\n",
       "      <td>...</td>\n",
       "      <td>...</td>\n",
       "      <td>...</td>\n",
       "    </tr>\n",
       "    <tr>\n",
       "      <th>9737</th>\n",
       "      <td>193581</td>\n",
       "      <td>Action|Animation|Comedy|Fantasy</td>\n",
       "      <td>Black Butler: Book of the Atlantic</td>\n",
       "      <td>2017)</td>\n",
       "    </tr>\n",
       "    <tr>\n",
       "      <th>9738</th>\n",
       "      <td>193583</td>\n",
       "      <td>Animation|Comedy|Fantasy</td>\n",
       "      <td>No Game No Life: Zero</td>\n",
       "      <td>2017)</td>\n",
       "    </tr>\n",
       "    <tr>\n",
       "      <th>9739</th>\n",
       "      <td>193585</td>\n",
       "      <td>Drama</td>\n",
       "      <td>Flint</td>\n",
       "      <td>2017)</td>\n",
       "    </tr>\n",
       "    <tr>\n",
       "      <th>9740</th>\n",
       "      <td>193587</td>\n",
       "      <td>Action|Animation</td>\n",
       "      <td>Bungo Stray Dogs: Dead Apple</td>\n",
       "      <td>2018)</td>\n",
       "    </tr>\n",
       "    <tr>\n",
       "      <th>9741</th>\n",
       "      <td>193609</td>\n",
       "      <td>Comedy</td>\n",
       "      <td>Andrew Dice Clay: Dice Rules</td>\n",
       "      <td>1991)</td>\n",
       "    </tr>\n",
       "  </tbody>\n",
       "</table>\n",
       "<p>9737 rows × 4 columns</p>\n",
       "</div>"
      ],
      "text/plain": [
       "      movieId                                       genres  \\\n",
       "0           1  Adventure|Animation|Children|Comedy|Fantasy   \n",
       "1           2                   Adventure|Children|Fantasy   \n",
       "2           3                               Comedy|Romance   \n",
       "3           4                         Comedy|Drama|Romance   \n",
       "4           5                                       Comedy   \n",
       "...       ...                                          ...   \n",
       "9737   193581              Action|Animation|Comedy|Fantasy   \n",
       "9738   193583                     Animation|Comedy|Fantasy   \n",
       "9739   193585                                        Drama   \n",
       "9740   193587                             Action|Animation   \n",
       "9741   193609                                       Comedy   \n",
       "\n",
       "                                    Title year_released  \n",
       "0                              Toy Story          1995)  \n",
       "1                                Jumanji          1995)  \n",
       "2                       Grumpier Old Men          1995)  \n",
       "3                      Waiting to Exhale          1995)  \n",
       "4            Father of the Bride Part II          1995)  \n",
       "...                                   ...           ...  \n",
       "9737  Black Butler: Book of the Atlantic          2017)  \n",
       "9738               No Game No Life: Zero          2017)  \n",
       "9739                               Flint          2017)  \n",
       "9740        Bungo Stray Dogs: Dead Apple          2018)  \n",
       "9741        Andrew Dice Clay: Dice Rules          1991)  \n",
       "\n",
       "[9737 rows x 4 columns]"
      ]
     },
     "execution_count": 189,
     "metadata": {},
     "output_type": "execute_result"
    }
   ],
   "source": [
    "# Sanity Check \n",
    "movies"
   ]
  },
  {
   "cell_type": "code",
   "execution_count": 190,
   "metadata": {
    "ExecuteTime": {
     "end_time": "2022-05-10T14:41:05.591772Z",
     "start_time": "2022-05-10T14:41:05.570967Z"
    }
   },
   "outputs": [],
   "source": [
    "# Format year_released column\n",
    "\n",
    "movies['year_released'] = movies.year_released.str.replace(')', '')"
   ]
  },
  {
   "cell_type": "code",
   "execution_count": 191,
   "metadata": {
    "ExecuteTime": {
     "end_time": "2022-05-10T14:41:05.810858Z",
     "start_time": "2022-05-10T14:41:05.790800Z"
    }
   },
   "outputs": [
    {
     "data": {
      "text/html": [
       "<div>\n",
       "<style scoped>\n",
       "    .dataframe tbody tr th:only-of-type {\n",
       "        vertical-align: middle;\n",
       "    }\n",
       "\n",
       "    .dataframe tbody tr th {\n",
       "        vertical-align: top;\n",
       "    }\n",
       "\n",
       "    .dataframe thead th {\n",
       "        text-align: right;\n",
       "    }\n",
       "</style>\n",
       "<table border=\"1\" class=\"dataframe\">\n",
       "  <thead>\n",
       "    <tr style=\"text-align: right;\">\n",
       "      <th></th>\n",
       "      <th>movieId</th>\n",
       "      <th>genres</th>\n",
       "      <th>Title</th>\n",
       "      <th>year_released</th>\n",
       "    </tr>\n",
       "  </thead>\n",
       "  <tbody>\n",
       "    <tr>\n",
       "      <th>0</th>\n",
       "      <td>1</td>\n",
       "      <td>Adventure|Animation|Children|Comedy|Fantasy</td>\n",
       "      <td>Toy Story</td>\n",
       "      <td>1995</td>\n",
       "    </tr>\n",
       "    <tr>\n",
       "      <th>1</th>\n",
       "      <td>2</td>\n",
       "      <td>Adventure|Children|Fantasy</td>\n",
       "      <td>Jumanji</td>\n",
       "      <td>1995</td>\n",
       "    </tr>\n",
       "    <tr>\n",
       "      <th>2</th>\n",
       "      <td>3</td>\n",
       "      <td>Comedy|Romance</td>\n",
       "      <td>Grumpier Old Men</td>\n",
       "      <td>1995</td>\n",
       "    </tr>\n",
       "    <tr>\n",
       "      <th>3</th>\n",
       "      <td>4</td>\n",
       "      <td>Comedy|Drama|Romance</td>\n",
       "      <td>Waiting to Exhale</td>\n",
       "      <td>1995</td>\n",
       "    </tr>\n",
       "    <tr>\n",
       "      <th>4</th>\n",
       "      <td>5</td>\n",
       "      <td>Comedy</td>\n",
       "      <td>Father of the Bride Part II</td>\n",
       "      <td>1995</td>\n",
       "    </tr>\n",
       "    <tr>\n",
       "      <th>...</th>\n",
       "      <td>...</td>\n",
       "      <td>...</td>\n",
       "      <td>...</td>\n",
       "      <td>...</td>\n",
       "    </tr>\n",
       "    <tr>\n",
       "      <th>9737</th>\n",
       "      <td>193581</td>\n",
       "      <td>Action|Animation|Comedy|Fantasy</td>\n",
       "      <td>Black Butler: Book of the Atlantic</td>\n",
       "      <td>2017</td>\n",
       "    </tr>\n",
       "    <tr>\n",
       "      <th>9738</th>\n",
       "      <td>193583</td>\n",
       "      <td>Animation|Comedy|Fantasy</td>\n",
       "      <td>No Game No Life: Zero</td>\n",
       "      <td>2017</td>\n",
       "    </tr>\n",
       "    <tr>\n",
       "      <th>9739</th>\n",
       "      <td>193585</td>\n",
       "      <td>Drama</td>\n",
       "      <td>Flint</td>\n",
       "      <td>2017</td>\n",
       "    </tr>\n",
       "    <tr>\n",
       "      <th>9740</th>\n",
       "      <td>193587</td>\n",
       "      <td>Action|Animation</td>\n",
       "      <td>Bungo Stray Dogs: Dead Apple</td>\n",
       "      <td>2018</td>\n",
       "    </tr>\n",
       "    <tr>\n",
       "      <th>9741</th>\n",
       "      <td>193609</td>\n",
       "      <td>Comedy</td>\n",
       "      <td>Andrew Dice Clay: Dice Rules</td>\n",
       "      <td>1991</td>\n",
       "    </tr>\n",
       "  </tbody>\n",
       "</table>\n",
       "<p>9737 rows × 4 columns</p>\n",
       "</div>"
      ],
      "text/plain": [
       "      movieId                                       genres  \\\n",
       "0           1  Adventure|Animation|Children|Comedy|Fantasy   \n",
       "1           2                   Adventure|Children|Fantasy   \n",
       "2           3                               Comedy|Romance   \n",
       "3           4                         Comedy|Drama|Romance   \n",
       "4           5                                       Comedy   \n",
       "...       ...                                          ...   \n",
       "9737   193581              Action|Animation|Comedy|Fantasy   \n",
       "9738   193583                     Animation|Comedy|Fantasy   \n",
       "9739   193585                                        Drama   \n",
       "9740   193587                             Action|Animation   \n",
       "9741   193609                                       Comedy   \n",
       "\n",
       "                                    Title year_released  \n",
       "0                              Toy Story           1995  \n",
       "1                                Jumanji           1995  \n",
       "2                       Grumpier Old Men           1995  \n",
       "3                      Waiting to Exhale           1995  \n",
       "4            Father of the Bride Part II           1995  \n",
       "...                                   ...           ...  \n",
       "9737  Black Butler: Book of the Atlantic           2017  \n",
       "9738               No Game No Life: Zero           2017  \n",
       "9739                               Flint           2017  \n",
       "9740        Bungo Stray Dogs: Dead Apple           2018  \n",
       "9741        Andrew Dice Clay: Dice Rules           1991  \n",
       "\n",
       "[9737 rows x 4 columns]"
      ]
     },
     "execution_count": 191,
     "metadata": {},
     "output_type": "execute_result"
    }
   ],
   "source": [
    "# Sanity Check to ensure formatting was completed\n",
    "movies"
   ]
  },
  {
   "cell_type": "code",
   "execution_count": 192,
   "metadata": {
    "ExecuteTime": {
     "end_time": "2022-05-10T14:41:08.094724Z",
     "start_time": "2022-05-10T14:41:08.073849Z"
    }
   },
   "outputs": [
    {
     "data": {
      "text/html": [
       "<div>\n",
       "<style scoped>\n",
       "    .dataframe tbody tr th:only-of-type {\n",
       "        vertical-align: middle;\n",
       "    }\n",
       "\n",
       "    .dataframe tbody tr th {\n",
       "        vertical-align: top;\n",
       "    }\n",
       "\n",
       "    .dataframe thead th {\n",
       "        text-align: right;\n",
       "    }\n",
       "</style>\n",
       "<table border=\"1\" class=\"dataframe\">\n",
       "  <thead>\n",
       "    <tr style=\"text-align: right;\">\n",
       "      <th></th>\n",
       "      <th>movieId</th>\n",
       "      <th>imdbId</th>\n",
       "      <th>tmdbId</th>\n",
       "    </tr>\n",
       "  </thead>\n",
       "  <tbody>\n",
       "    <tr>\n",
       "      <th>0</th>\n",
       "      <td>1</td>\n",
       "      <td>114709</td>\n",
       "      <td>862.0</td>\n",
       "    </tr>\n",
       "    <tr>\n",
       "      <th>1</th>\n",
       "      <td>2</td>\n",
       "      <td>113497</td>\n",
       "      <td>8844.0</td>\n",
       "    </tr>\n",
       "    <tr>\n",
       "      <th>2</th>\n",
       "      <td>3</td>\n",
       "      <td>113228</td>\n",
       "      <td>15602.0</td>\n",
       "    </tr>\n",
       "    <tr>\n",
       "      <th>3</th>\n",
       "      <td>4</td>\n",
       "      <td>114885</td>\n",
       "      <td>31357.0</td>\n",
       "    </tr>\n",
       "    <tr>\n",
       "      <th>4</th>\n",
       "      <td>5</td>\n",
       "      <td>113041</td>\n",
       "      <td>11862.0</td>\n",
       "    </tr>\n",
       "    <tr>\n",
       "      <th>...</th>\n",
       "      <td>...</td>\n",
       "      <td>...</td>\n",
       "      <td>...</td>\n",
       "    </tr>\n",
       "    <tr>\n",
       "      <th>9737</th>\n",
       "      <td>193581</td>\n",
       "      <td>5476944</td>\n",
       "      <td>432131.0</td>\n",
       "    </tr>\n",
       "    <tr>\n",
       "      <th>9738</th>\n",
       "      <td>193583</td>\n",
       "      <td>5914996</td>\n",
       "      <td>445030.0</td>\n",
       "    </tr>\n",
       "    <tr>\n",
       "      <th>9739</th>\n",
       "      <td>193585</td>\n",
       "      <td>6397426</td>\n",
       "      <td>479308.0</td>\n",
       "    </tr>\n",
       "    <tr>\n",
       "      <th>9740</th>\n",
       "      <td>193587</td>\n",
       "      <td>8391976</td>\n",
       "      <td>483455.0</td>\n",
       "    </tr>\n",
       "    <tr>\n",
       "      <th>9741</th>\n",
       "      <td>193609</td>\n",
       "      <td>101726</td>\n",
       "      <td>37891.0</td>\n",
       "    </tr>\n",
       "  </tbody>\n",
       "</table>\n",
       "<p>9742 rows × 3 columns</p>\n",
       "</div>"
      ],
      "text/plain": [
       "      movieId   imdbId    tmdbId\n",
       "0           1   114709     862.0\n",
       "1           2   113497    8844.0\n",
       "2           3   113228   15602.0\n",
       "3           4   114885   31357.0\n",
       "4           5   113041   11862.0\n",
       "...       ...      ...       ...\n",
       "9737   193581  5476944  432131.0\n",
       "9738   193583  5914996  445030.0\n",
       "9739   193585  6397426  479308.0\n",
       "9740   193587  8391976  483455.0\n",
       "9741   193609   101726   37891.0\n",
       "\n",
       "[9742 rows x 3 columns]"
      ]
     },
     "execution_count": 192,
     "metadata": {},
     "output_type": "execute_result"
    }
   ],
   "source": [
    "link"
   ]
  },
  {
   "cell_type": "code",
   "execution_count": 193,
   "metadata": {
    "ExecuteTime": {
     "end_time": "2022-05-10T14:41:08.265858Z",
     "start_time": "2022-05-10T14:41:08.248648Z"
    },
    "scrolled": false
   },
   "outputs": [
    {
     "data": {
      "text/html": [
       "<div>\n",
       "<style scoped>\n",
       "    .dataframe tbody tr th:only-of-type {\n",
       "        vertical-align: middle;\n",
       "    }\n",
       "\n",
       "    .dataframe tbody tr th {\n",
       "        vertical-align: top;\n",
       "    }\n",
       "\n",
       "    .dataframe thead th {\n",
       "        text-align: right;\n",
       "    }\n",
       "</style>\n",
       "<table border=\"1\" class=\"dataframe\">\n",
       "  <thead>\n",
       "    <tr style=\"text-align: right;\">\n",
       "      <th></th>\n",
       "      <th>userId</th>\n",
       "      <th>movieId</th>\n",
       "      <th>rating</th>\n",
       "      <th>timestamp</th>\n",
       "    </tr>\n",
       "  </thead>\n",
       "  <tbody>\n",
       "    <tr>\n",
       "      <th>0</th>\n",
       "      <td>1</td>\n",
       "      <td>1</td>\n",
       "      <td>4.0</td>\n",
       "      <td>964982703</td>\n",
       "    </tr>\n",
       "    <tr>\n",
       "      <th>1</th>\n",
       "      <td>1</td>\n",
       "      <td>3</td>\n",
       "      <td>4.0</td>\n",
       "      <td>964981247</td>\n",
       "    </tr>\n",
       "    <tr>\n",
       "      <th>2</th>\n",
       "      <td>1</td>\n",
       "      <td>6</td>\n",
       "      <td>4.0</td>\n",
       "      <td>964982224</td>\n",
       "    </tr>\n",
       "    <tr>\n",
       "      <th>3</th>\n",
       "      <td>1</td>\n",
       "      <td>47</td>\n",
       "      <td>5.0</td>\n",
       "      <td>964983815</td>\n",
       "    </tr>\n",
       "    <tr>\n",
       "      <th>4</th>\n",
       "      <td>1</td>\n",
       "      <td>50</td>\n",
       "      <td>5.0</td>\n",
       "      <td>964982931</td>\n",
       "    </tr>\n",
       "    <tr>\n",
       "      <th>...</th>\n",
       "      <td>...</td>\n",
       "      <td>...</td>\n",
       "      <td>...</td>\n",
       "      <td>...</td>\n",
       "    </tr>\n",
       "    <tr>\n",
       "      <th>100831</th>\n",
       "      <td>610</td>\n",
       "      <td>166534</td>\n",
       "      <td>4.0</td>\n",
       "      <td>1493848402</td>\n",
       "    </tr>\n",
       "    <tr>\n",
       "      <th>100832</th>\n",
       "      <td>610</td>\n",
       "      <td>168248</td>\n",
       "      <td>5.0</td>\n",
       "      <td>1493850091</td>\n",
       "    </tr>\n",
       "    <tr>\n",
       "      <th>100833</th>\n",
       "      <td>610</td>\n",
       "      <td>168250</td>\n",
       "      <td>5.0</td>\n",
       "      <td>1494273047</td>\n",
       "    </tr>\n",
       "    <tr>\n",
       "      <th>100834</th>\n",
       "      <td>610</td>\n",
       "      <td>168252</td>\n",
       "      <td>5.0</td>\n",
       "      <td>1493846352</td>\n",
       "    </tr>\n",
       "    <tr>\n",
       "      <th>100835</th>\n",
       "      <td>610</td>\n",
       "      <td>170875</td>\n",
       "      <td>3.0</td>\n",
       "      <td>1493846415</td>\n",
       "    </tr>\n",
       "  </tbody>\n",
       "</table>\n",
       "<p>100836 rows × 4 columns</p>\n",
       "</div>"
      ],
      "text/plain": [
       "        userId  movieId  rating   timestamp\n",
       "0            1        1     4.0   964982703\n",
       "1            1        3     4.0   964981247\n",
       "2            1        6     4.0   964982224\n",
       "3            1       47     5.0   964983815\n",
       "4            1       50     5.0   964982931\n",
       "...        ...      ...     ...         ...\n",
       "100831     610   166534     4.0  1493848402\n",
       "100832     610   168248     5.0  1493850091\n",
       "100833     610   168250     5.0  1494273047\n",
       "100834     610   168252     5.0  1493846352\n",
       "100835     610   170875     3.0  1493846415\n",
       "\n",
       "[100836 rows x 4 columns]"
      ]
     },
     "execution_count": 193,
     "metadata": {},
     "output_type": "execute_result"
    }
   ],
   "source": [
    "rating"
   ]
  },
  {
   "cell_type": "code",
   "execution_count": 194,
   "metadata": {
    "ExecuteTime": {
     "end_time": "2022-05-10T14:41:08.429240Z",
     "start_time": "2022-05-10T14:41:08.392464Z"
    },
    "scrolled": true
   },
   "outputs": [],
   "source": [
    "#converted timestamp to datetime\n",
    "rating['timestamp'] = pd.to_datetime(rating['timestamp'], unit='s')"
   ]
  },
  {
   "cell_type": "code",
   "execution_count": 195,
   "metadata": {
    "ExecuteTime": {
     "end_time": "2022-05-10T14:41:08.771074Z",
     "start_time": "2022-05-10T14:41:08.756303Z"
    }
   },
   "outputs": [
    {
     "data": {
      "text/plain": [
       "4.0    0.265957\n",
       "3.0    0.198808\n",
       "5.0    0.131015\n",
       "3.5    0.130271\n",
       "4.5    0.084801\n",
       "2.0    0.074884\n",
       "2.5    0.055040\n",
       "1.0    0.027877\n",
       "1.5    0.017762\n",
       "0.5    0.013586\n",
       "Name: rating, dtype: float64"
      ]
     },
     "execution_count": 195,
     "metadata": {},
     "output_type": "execute_result"
    }
   ],
   "source": [
    "rating.rating.value_counts(normalize=True)"
   ]
  },
  {
   "cell_type": "code",
   "execution_count": 196,
   "metadata": {
    "ExecuteTime": {
     "end_time": "2022-05-10T14:41:09.083147Z",
     "start_time": "2022-05-10T14:41:09.051940Z"
    }
   },
   "outputs": [
    {
     "data": {
      "text/plain": [
       "0"
      ]
     },
     "execution_count": 196,
     "metadata": {},
     "output_type": "execute_result"
    }
   ],
   "source": [
    "rating.duplicated().sum()"
   ]
  },
  {
   "cell_type": "code",
   "execution_count": 197,
   "metadata": {
    "ExecuteTime": {
     "end_time": "2022-05-10T14:41:09.406771Z",
     "start_time": "2022-05-10T14:41:09.396346Z"
    }
   },
   "outputs": [
    {
     "data": {
      "text/plain": [
       "userId       0\n",
       "movieId      0\n",
       "rating       0\n",
       "timestamp    0\n",
       "dtype: int64"
      ]
     },
     "execution_count": 197,
     "metadata": {},
     "output_type": "execute_result"
    }
   ],
   "source": [
    "rating.isna().sum()"
   ]
  },
  {
   "cell_type": "code",
   "execution_count": null,
   "metadata": {},
   "outputs": [],
   "source": []
  },
  {
   "cell_type": "code",
   "execution_count": 198,
   "metadata": {
    "ExecuteTime": {
     "end_time": "2022-05-10T14:41:10.166636Z",
     "start_time": "2022-05-10T14:41:10.142895Z"
    }
   },
   "outputs": [
    {
     "data": {
      "text/html": [
       "<div>\n",
       "<style scoped>\n",
       "    .dataframe tbody tr th:only-of-type {\n",
       "        vertical-align: middle;\n",
       "    }\n",
       "\n",
       "    .dataframe tbody tr th {\n",
       "        vertical-align: top;\n",
       "    }\n",
       "\n",
       "    .dataframe thead th {\n",
       "        text-align: right;\n",
       "    }\n",
       "</style>\n",
       "<table border=\"1\" class=\"dataframe\">\n",
       "  <thead>\n",
       "    <tr style=\"text-align: right;\">\n",
       "      <th></th>\n",
       "      <th>userId</th>\n",
       "      <th>movieId</th>\n",
       "      <th>tag</th>\n",
       "      <th>timestamp</th>\n",
       "    </tr>\n",
       "  </thead>\n",
       "  <tbody>\n",
       "    <tr>\n",
       "      <th>0</th>\n",
       "      <td>2</td>\n",
       "      <td>60756</td>\n",
       "      <td>funny</td>\n",
       "      <td>1445714994</td>\n",
       "    </tr>\n",
       "    <tr>\n",
       "      <th>1</th>\n",
       "      <td>2</td>\n",
       "      <td>60756</td>\n",
       "      <td>Highly quotable</td>\n",
       "      <td>1445714996</td>\n",
       "    </tr>\n",
       "    <tr>\n",
       "      <th>2</th>\n",
       "      <td>2</td>\n",
       "      <td>60756</td>\n",
       "      <td>will ferrell</td>\n",
       "      <td>1445714992</td>\n",
       "    </tr>\n",
       "    <tr>\n",
       "      <th>3</th>\n",
       "      <td>2</td>\n",
       "      <td>89774</td>\n",
       "      <td>Boxing story</td>\n",
       "      <td>1445715207</td>\n",
       "    </tr>\n",
       "    <tr>\n",
       "      <th>4</th>\n",
       "      <td>2</td>\n",
       "      <td>89774</td>\n",
       "      <td>MMA</td>\n",
       "      <td>1445715200</td>\n",
       "    </tr>\n",
       "    <tr>\n",
       "      <th>...</th>\n",
       "      <td>...</td>\n",
       "      <td>...</td>\n",
       "      <td>...</td>\n",
       "      <td>...</td>\n",
       "    </tr>\n",
       "    <tr>\n",
       "      <th>3678</th>\n",
       "      <td>606</td>\n",
       "      <td>7382</td>\n",
       "      <td>for katie</td>\n",
       "      <td>1171234019</td>\n",
       "    </tr>\n",
       "    <tr>\n",
       "      <th>3679</th>\n",
       "      <td>606</td>\n",
       "      <td>7936</td>\n",
       "      <td>austere</td>\n",
       "      <td>1173392334</td>\n",
       "    </tr>\n",
       "    <tr>\n",
       "      <th>3680</th>\n",
       "      <td>610</td>\n",
       "      <td>3265</td>\n",
       "      <td>gun fu</td>\n",
       "      <td>1493843984</td>\n",
       "    </tr>\n",
       "    <tr>\n",
       "      <th>3681</th>\n",
       "      <td>610</td>\n",
       "      <td>3265</td>\n",
       "      <td>heroic bloodshed</td>\n",
       "      <td>1493843978</td>\n",
       "    </tr>\n",
       "    <tr>\n",
       "      <th>3682</th>\n",
       "      <td>610</td>\n",
       "      <td>168248</td>\n",
       "      <td>Heroic Bloodshed</td>\n",
       "      <td>1493844270</td>\n",
       "    </tr>\n",
       "  </tbody>\n",
       "</table>\n",
       "<p>3683 rows × 4 columns</p>\n",
       "</div>"
      ],
      "text/plain": [
       "      userId  movieId               tag   timestamp\n",
       "0          2    60756             funny  1445714994\n",
       "1          2    60756   Highly quotable  1445714996\n",
       "2          2    60756      will ferrell  1445714992\n",
       "3          2    89774      Boxing story  1445715207\n",
       "4          2    89774               MMA  1445715200\n",
       "...      ...      ...               ...         ...\n",
       "3678     606     7382         for katie  1171234019\n",
       "3679     606     7936           austere  1173392334\n",
       "3680     610     3265            gun fu  1493843984\n",
       "3681     610     3265  heroic bloodshed  1493843978\n",
       "3682     610   168248  Heroic Bloodshed  1493844270\n",
       "\n",
       "[3683 rows x 4 columns]"
      ]
     },
     "execution_count": 198,
     "metadata": {},
     "output_type": "execute_result"
    }
   ],
   "source": [
    "tags"
   ]
  },
  {
   "cell_type": "code",
   "execution_count": 199,
   "metadata": {
    "ExecuteTime": {
     "end_time": "2022-05-10T14:41:10.552470Z",
     "start_time": "2022-05-10T14:41:10.508651Z"
    }
   },
   "outputs": [],
   "source": [
    "movie_rating = movies.merge(rating, on='movieId', how='outer')"
   ]
  },
  {
   "cell_type": "code",
   "execution_count": 200,
   "metadata": {
    "ExecuteTime": {
     "end_time": "2022-05-10T14:41:10.996702Z",
     "start_time": "2022-05-10T14:41:10.969012Z"
    }
   },
   "outputs": [
    {
     "data": {
      "text/html": [
       "<div>\n",
       "<style scoped>\n",
       "    .dataframe tbody tr th:only-of-type {\n",
       "        vertical-align: middle;\n",
       "    }\n",
       "\n",
       "    .dataframe tbody tr th {\n",
       "        vertical-align: top;\n",
       "    }\n",
       "\n",
       "    .dataframe thead th {\n",
       "        text-align: right;\n",
       "    }\n",
       "</style>\n",
       "<table border=\"1\" class=\"dataframe\">\n",
       "  <thead>\n",
       "    <tr style=\"text-align: right;\">\n",
       "      <th></th>\n",
       "      <th>movieId</th>\n",
       "      <th>genres</th>\n",
       "      <th>Title</th>\n",
       "      <th>year_released</th>\n",
       "      <th>userId</th>\n",
       "      <th>rating</th>\n",
       "      <th>timestamp</th>\n",
       "    </tr>\n",
       "  </thead>\n",
       "  <tbody>\n",
       "    <tr>\n",
       "      <th>0</th>\n",
       "      <td>1</td>\n",
       "      <td>Adventure|Animation|Children|Comedy|Fantasy</td>\n",
       "      <td>Toy Story</td>\n",
       "      <td>1995</td>\n",
       "      <td>1.0</td>\n",
       "      <td>4.0</td>\n",
       "      <td>2000-07-30 18:45:03</td>\n",
       "    </tr>\n",
       "    <tr>\n",
       "      <th>1</th>\n",
       "      <td>1</td>\n",
       "      <td>Adventure|Animation|Children|Comedy|Fantasy</td>\n",
       "      <td>Toy Story</td>\n",
       "      <td>1995</td>\n",
       "      <td>5.0</td>\n",
       "      <td>4.0</td>\n",
       "      <td>1996-11-08 06:36:02</td>\n",
       "    </tr>\n",
       "    <tr>\n",
       "      <th>2</th>\n",
       "      <td>1</td>\n",
       "      <td>Adventure|Animation|Children|Comedy|Fantasy</td>\n",
       "      <td>Toy Story</td>\n",
       "      <td>1995</td>\n",
       "      <td>7.0</td>\n",
       "      <td>4.5</td>\n",
       "      <td>2005-01-25 06:52:26</td>\n",
       "    </tr>\n",
       "    <tr>\n",
       "      <th>3</th>\n",
       "      <td>1</td>\n",
       "      <td>Adventure|Animation|Children|Comedy|Fantasy</td>\n",
       "      <td>Toy Story</td>\n",
       "      <td>1995</td>\n",
       "      <td>15.0</td>\n",
       "      <td>2.5</td>\n",
       "      <td>2017-11-13 12:59:30</td>\n",
       "    </tr>\n",
       "    <tr>\n",
       "      <th>4</th>\n",
       "      <td>1</td>\n",
       "      <td>Adventure|Animation|Children|Comedy|Fantasy</td>\n",
       "      <td>Toy Story</td>\n",
       "      <td>1995</td>\n",
       "      <td>17.0</td>\n",
       "      <td>4.5</td>\n",
       "      <td>2011-05-18 05:28:03</td>\n",
       "    </tr>\n",
       "    <tr>\n",
       "      <th>...</th>\n",
       "      <td>...</td>\n",
       "      <td>...</td>\n",
       "      <td>...</td>\n",
       "      <td>...</td>\n",
       "      <td>...</td>\n",
       "      <td>...</td>\n",
       "      <td>...</td>\n",
       "    </tr>\n",
       "    <tr>\n",
       "      <th>100849</th>\n",
       "      <td>64997</td>\n",
       "      <td>NaN</td>\n",
       "      <td>NaN</td>\n",
       "      <td>NaN</td>\n",
       "      <td>68.0</td>\n",
       "      <td>2.5</td>\n",
       "      <td>2008-12-28 20:55:15</td>\n",
       "    </tr>\n",
       "    <tr>\n",
       "      <th>100850</th>\n",
       "      <td>144606</td>\n",
       "      <td>NaN</td>\n",
       "      <td>NaN</td>\n",
       "      <td>NaN</td>\n",
       "      <td>111.0</td>\n",
       "      <td>4.0</td>\n",
       "      <td>2018-01-31 23:27:37</td>\n",
       "    </tr>\n",
       "    <tr>\n",
       "      <th>100851</th>\n",
       "      <td>147002</td>\n",
       "      <td>NaN</td>\n",
       "      <td>NaN</td>\n",
       "      <td>NaN</td>\n",
       "      <td>318.0</td>\n",
       "      <td>4.0</td>\n",
       "      <td>2017-08-08 15:45:52</td>\n",
       "    </tr>\n",
       "    <tr>\n",
       "      <th>100852</th>\n",
       "      <td>26958</td>\n",
       "      <td>NaN</td>\n",
       "      <td>NaN</td>\n",
       "      <td>NaN</td>\n",
       "      <td>509.0</td>\n",
       "      <td>3.5</td>\n",
       "      <td>2015-07-04 17:42:33</td>\n",
       "    </tr>\n",
       "    <tr>\n",
       "      <th>100853</th>\n",
       "      <td>168358</td>\n",
       "      <td>NaN</td>\n",
       "      <td>NaN</td>\n",
       "      <td>NaN</td>\n",
       "      <td>514.0</td>\n",
       "      <td>2.5</td>\n",
       "      <td>2018-08-11 00:06:10</td>\n",
       "    </tr>\n",
       "  </tbody>\n",
       "</table>\n",
       "<p>100854 rows × 7 columns</p>\n",
       "</div>"
      ],
      "text/plain": [
       "        movieId                                       genres       Title  \\\n",
       "0             1  Adventure|Animation|Children|Comedy|Fantasy  Toy Story    \n",
       "1             1  Adventure|Animation|Children|Comedy|Fantasy  Toy Story    \n",
       "2             1  Adventure|Animation|Children|Comedy|Fantasy  Toy Story    \n",
       "3             1  Adventure|Animation|Children|Comedy|Fantasy  Toy Story    \n",
       "4             1  Adventure|Animation|Children|Comedy|Fantasy  Toy Story    \n",
       "...         ...                                          ...         ...   \n",
       "100849    64997                                          NaN         NaN   \n",
       "100850   144606                                          NaN         NaN   \n",
       "100851   147002                                          NaN         NaN   \n",
       "100852    26958                                          NaN         NaN   \n",
       "100853   168358                                          NaN         NaN   \n",
       "\n",
       "       year_released  userId  rating           timestamp  \n",
       "0               1995     1.0     4.0 2000-07-30 18:45:03  \n",
       "1               1995     5.0     4.0 1996-11-08 06:36:02  \n",
       "2               1995     7.0     4.5 2005-01-25 06:52:26  \n",
       "3               1995    15.0     2.5 2017-11-13 12:59:30  \n",
       "4               1995    17.0     4.5 2011-05-18 05:28:03  \n",
       "...              ...     ...     ...                 ...  \n",
       "100849           NaN    68.0     2.5 2008-12-28 20:55:15  \n",
       "100850           NaN   111.0     4.0 2018-01-31 23:27:37  \n",
       "100851           NaN   318.0     4.0 2017-08-08 15:45:52  \n",
       "100852           NaN   509.0     3.5 2015-07-04 17:42:33  \n",
       "100853           NaN   514.0     2.5 2018-08-11 00:06:10  \n",
       "\n",
       "[100854 rows x 7 columns]"
      ]
     },
     "execution_count": 200,
     "metadata": {},
     "output_type": "execute_result"
    }
   ],
   "source": [
    "movie_rating"
   ]
  },
  {
   "cell_type": "code",
   "execution_count": 201,
   "metadata": {
    "ExecuteTime": {
     "end_time": "2022-05-10T14:41:12.471278Z",
     "start_time": "2022-05-10T14:41:12.424966Z"
    }
   },
   "outputs": [],
   "source": [
    "movie_rating.dropna(inplace=True)"
   ]
  },
  {
   "cell_type": "code",
   "execution_count": 202,
   "metadata": {
    "ExecuteTime": {
     "end_time": "2022-05-10T14:41:23.144131Z",
     "start_time": "2022-05-10T14:41:23.083672Z"
    },
    "scrolled": true
   },
   "outputs": [],
   "source": [
    "movie_rating['genres']=[row.strip().lower().replace('|',',') for row in movie_rating['genres']]"
   ]
  },
  {
   "cell_type": "code",
   "execution_count": 203,
   "metadata": {
    "ExecuteTime": {
     "end_time": "2022-05-10T14:41:25.124006Z",
     "start_time": "2022-05-10T14:41:25.110263Z"
    }
   },
   "outputs": [
    {
     "data": {
      "text/plain": [
       "610"
      ]
     },
     "execution_count": 203,
     "metadata": {},
     "output_type": "execute_result"
    }
   ],
   "source": [
    "movie_rating['userId'].nunique()"
   ]
  },
  {
   "cell_type": "code",
   "execution_count": 204,
   "metadata": {
    "ExecuteTime": {
     "end_time": "2022-05-10T14:41:27.094900Z",
     "start_time": "2022-05-10T14:41:27.060766Z"
    },
    "scrolled": true
   },
   "outputs": [
    {
     "data": {
      "text/html": [
       "<div>\n",
       "<style scoped>\n",
       "    .dataframe tbody tr th:only-of-type {\n",
       "        vertical-align: middle;\n",
       "    }\n",
       "\n",
       "    .dataframe tbody tr th {\n",
       "        vertical-align: top;\n",
       "    }\n",
       "\n",
       "    .dataframe thead th {\n",
       "        text-align: right;\n",
       "    }\n",
       "</style>\n",
       "<table border=\"1\" class=\"dataframe\">\n",
       "  <thead>\n",
       "    <tr style=\"text-align: right;\">\n",
       "      <th></th>\n",
       "      <th>rating</th>\n",
       "    </tr>\n",
       "  </thead>\n",
       "  <tbody>\n",
       "    <tr>\n",
       "      <th>count</th>\n",
       "      <td>100813.000000</td>\n",
       "    </tr>\n",
       "    <tr>\n",
       "      <th>mean</th>\n",
       "      <td>3.501557</td>\n",
       "    </tr>\n",
       "    <tr>\n",
       "      <th>std</th>\n",
       "      <td>1.042494</td>\n",
       "    </tr>\n",
       "    <tr>\n",
       "      <th>min</th>\n",
       "      <td>0.500000</td>\n",
       "    </tr>\n",
       "    <tr>\n",
       "      <th>25%</th>\n",
       "      <td>3.000000</td>\n",
       "    </tr>\n",
       "    <tr>\n",
       "      <th>50%</th>\n",
       "      <td>3.500000</td>\n",
       "    </tr>\n",
       "    <tr>\n",
       "      <th>75%</th>\n",
       "      <td>4.000000</td>\n",
       "    </tr>\n",
       "    <tr>\n",
       "      <th>max</th>\n",
       "      <td>5.000000</td>\n",
       "    </tr>\n",
       "  </tbody>\n",
       "</table>\n",
       "</div>"
      ],
      "text/plain": [
       "              rating\n",
       "count  100813.000000\n",
       "mean        3.501557\n",
       "std         1.042494\n",
       "min         0.500000\n",
       "25%         3.000000\n",
       "50%         3.500000\n",
       "75%         4.000000\n",
       "max         5.000000"
      ]
     },
     "execution_count": 204,
     "metadata": {},
     "output_type": "execute_result"
    }
   ],
   "source": [
    "stats = movie_rating.filter(['rating', 'timestamp']).describe()\n",
    "stats"
   ]
  },
  {
   "cell_type": "code",
   "execution_count": 205,
   "metadata": {
    "ExecuteTime": {
     "end_time": "2022-05-10T14:41:28.807997Z",
     "start_time": "2022-05-10T14:41:28.782351Z"
    },
    "scrolled": false
   },
   "outputs": [
    {
     "data": {
      "text/html": [
       "<div>\n",
       "<style scoped>\n",
       "    .dataframe tbody tr th:only-of-type {\n",
       "        vertical-align: middle;\n",
       "    }\n",
       "\n",
       "    .dataframe tbody tr th {\n",
       "        vertical-align: top;\n",
       "    }\n",
       "\n",
       "    .dataframe thead th {\n",
       "        text-align: right;\n",
       "    }\n",
       "</style>\n",
       "<table border=\"1\" class=\"dataframe\">\n",
       "  <thead>\n",
       "    <tr style=\"text-align: right;\">\n",
       "      <th></th>\n",
       "      <th>movieId</th>\n",
       "      <th>genres</th>\n",
       "      <th>Title</th>\n",
       "      <th>year_released</th>\n",
       "      <th>userId</th>\n",
       "      <th>rating</th>\n",
       "      <th>timestamp</th>\n",
       "    </tr>\n",
       "  </thead>\n",
       "  <tbody>\n",
       "    <tr>\n",
       "      <th>0</th>\n",
       "      <td>1</td>\n",
       "      <td>adventure,animation,children,comedy,fantasy</td>\n",
       "      <td>Toy Story</td>\n",
       "      <td>1995</td>\n",
       "      <td>1.0</td>\n",
       "      <td>4.0</td>\n",
       "      <td>2000-07-30 18:45:03</td>\n",
       "    </tr>\n",
       "    <tr>\n",
       "      <th>1</th>\n",
       "      <td>1</td>\n",
       "      <td>adventure,animation,children,comedy,fantasy</td>\n",
       "      <td>Toy Story</td>\n",
       "      <td>1995</td>\n",
       "      <td>5.0</td>\n",
       "      <td>4.0</td>\n",
       "      <td>1996-11-08 06:36:02</td>\n",
       "    </tr>\n",
       "    <tr>\n",
       "      <th>2</th>\n",
       "      <td>1</td>\n",
       "      <td>adventure,animation,children,comedy,fantasy</td>\n",
       "      <td>Toy Story</td>\n",
       "      <td>1995</td>\n",
       "      <td>7.0</td>\n",
       "      <td>4.5</td>\n",
       "      <td>2005-01-25 06:52:26</td>\n",
       "    </tr>\n",
       "    <tr>\n",
       "      <th>3</th>\n",
       "      <td>1</td>\n",
       "      <td>adventure,animation,children,comedy,fantasy</td>\n",
       "      <td>Toy Story</td>\n",
       "      <td>1995</td>\n",
       "      <td>15.0</td>\n",
       "      <td>2.5</td>\n",
       "      <td>2017-11-13 12:59:30</td>\n",
       "    </tr>\n",
       "    <tr>\n",
       "      <th>4</th>\n",
       "      <td>1</td>\n",
       "      <td>adventure,animation,children,comedy,fantasy</td>\n",
       "      <td>Toy Story</td>\n",
       "      <td>1995</td>\n",
       "      <td>17.0</td>\n",
       "      <td>4.5</td>\n",
       "      <td>2011-05-18 05:28:03</td>\n",
       "    </tr>\n",
       "    <tr>\n",
       "      <th>...</th>\n",
       "      <td>...</td>\n",
       "      <td>...</td>\n",
       "      <td>...</td>\n",
       "      <td>...</td>\n",
       "      <td>...</td>\n",
       "      <td>...</td>\n",
       "      <td>...</td>\n",
       "    </tr>\n",
       "    <tr>\n",
       "      <th>100843</th>\n",
       "      <td>193581</td>\n",
       "      <td>action,animation,comedy,fantasy</td>\n",
       "      <td>Black Butler: Book of the Atlantic</td>\n",
       "      <td>2017</td>\n",
       "      <td>184.0</td>\n",
       "      <td>4.0</td>\n",
       "      <td>2018-09-16 14:44:42</td>\n",
       "    </tr>\n",
       "    <tr>\n",
       "      <th>100844</th>\n",
       "      <td>193583</td>\n",
       "      <td>animation,comedy,fantasy</td>\n",
       "      <td>No Game No Life: Zero</td>\n",
       "      <td>2017</td>\n",
       "      <td>184.0</td>\n",
       "      <td>3.5</td>\n",
       "      <td>2018-09-16 14:52:25</td>\n",
       "    </tr>\n",
       "    <tr>\n",
       "      <th>100845</th>\n",
       "      <td>193585</td>\n",
       "      <td>drama</td>\n",
       "      <td>Flint</td>\n",
       "      <td>2017</td>\n",
       "      <td>184.0</td>\n",
       "      <td>3.5</td>\n",
       "      <td>2018-09-16 14:56:45</td>\n",
       "    </tr>\n",
       "    <tr>\n",
       "      <th>100846</th>\n",
       "      <td>193587</td>\n",
       "      <td>action,animation</td>\n",
       "      <td>Bungo Stray Dogs: Dead Apple</td>\n",
       "      <td>2018</td>\n",
       "      <td>184.0</td>\n",
       "      <td>3.5</td>\n",
       "      <td>2018-09-16 15:00:21</td>\n",
       "    </tr>\n",
       "    <tr>\n",
       "      <th>100847</th>\n",
       "      <td>193609</td>\n",
       "      <td>comedy</td>\n",
       "      <td>Andrew Dice Clay: Dice Rules</td>\n",
       "      <td>1991</td>\n",
       "      <td>331.0</td>\n",
       "      <td>4.0</td>\n",
       "      <td>2018-09-17 04:13:26</td>\n",
       "    </tr>\n",
       "  </tbody>\n",
       "</table>\n",
       "<p>100813 rows × 7 columns</p>\n",
       "</div>"
      ],
      "text/plain": [
       "        movieId                                       genres  \\\n",
       "0             1  adventure,animation,children,comedy,fantasy   \n",
       "1             1  adventure,animation,children,comedy,fantasy   \n",
       "2             1  adventure,animation,children,comedy,fantasy   \n",
       "3             1  adventure,animation,children,comedy,fantasy   \n",
       "4             1  adventure,animation,children,comedy,fantasy   \n",
       "...         ...                                          ...   \n",
       "100843   193581              action,animation,comedy,fantasy   \n",
       "100844   193583                     animation,comedy,fantasy   \n",
       "100845   193585                                        drama   \n",
       "100846   193587                             action,animation   \n",
       "100847   193609                                       comedy   \n",
       "\n",
       "                                      Title year_released  userId  rating  \\\n",
       "0                                Toy Story           1995     1.0     4.0   \n",
       "1                                Toy Story           1995     5.0     4.0   \n",
       "2                                Toy Story           1995     7.0     4.5   \n",
       "3                                Toy Story           1995    15.0     2.5   \n",
       "4                                Toy Story           1995    17.0     4.5   \n",
       "...                                     ...           ...     ...     ...   \n",
       "100843  Black Butler: Book of the Atlantic           2017   184.0     4.0   \n",
       "100844               No Game No Life: Zero           2017   184.0     3.5   \n",
       "100845                               Flint           2017   184.0     3.5   \n",
       "100846        Bungo Stray Dogs: Dead Apple           2018   184.0     3.5   \n",
       "100847        Andrew Dice Clay: Dice Rules           1991   331.0     4.0   \n",
       "\n",
       "                 timestamp  \n",
       "0      2000-07-30 18:45:03  \n",
       "1      1996-11-08 06:36:02  \n",
       "2      2005-01-25 06:52:26  \n",
       "3      2017-11-13 12:59:30  \n",
       "4      2011-05-18 05:28:03  \n",
       "...                    ...  \n",
       "100843 2018-09-16 14:44:42  \n",
       "100844 2018-09-16 14:52:25  \n",
       "100845 2018-09-16 14:56:45  \n",
       "100846 2018-09-16 15:00:21  \n",
       "100847 2018-09-17 04:13:26  \n",
       "\n",
       "[100813 rows x 7 columns]"
      ]
     },
     "execution_count": 205,
     "metadata": {},
     "output_type": "execute_result"
    }
   ],
   "source": [
    "movie_rating"
   ]
  },
  {
   "cell_type": "code",
   "execution_count": 207,
   "metadata": {
    "ExecuteTime": {
     "end_time": "2022-05-10T14:42:15.842834Z",
     "start_time": "2022-05-10T14:42:15.808569Z"
    }
   },
   "outputs": [],
   "source": [
    "movie_rating['genres'] = movie_rating['genres'].to_list()"
   ]
  },
  {
   "cell_type": "code",
   "execution_count": 208,
   "metadata": {
    "ExecuteTime": {
     "end_time": "2022-05-10T14:43:22.492744Z",
     "start_time": "2022-05-10T14:43:22.097165Z"
    }
   },
   "outputs": [],
   "source": [
    "pattern = \"([a-zA-Z]+(?:'[a-z]+)?)\"\n",
    "tokenizer = RegexpTokenizer(pattern)\n",
    "movie_rating['genres'] = [tokenizer.tokenize(token) for token in movie_rating['genres']]"
   ]
  },
  {
   "cell_type": "markdown",
   "metadata": {},
   "source": [
    "## Split"
   ]
  },
  {
   "cell_type": "code",
   "execution_count": 79,
   "metadata": {
    "ExecuteTime": {
     "end_time": "2022-05-10T13:34:23.808128Z",
     "start_time": "2022-05-10T13:34:23.765400Z"
    }
   },
   "outputs": [],
   "source": [
    "train, test = train_test_split(movie_rating)"
   ]
  },
  {
   "cell_type": "code",
   "execution_count": 80,
   "metadata": {
    "ExecuteTime": {
     "end_time": "2022-05-10T13:34:24.050235Z",
     "start_time": "2022-05-10T13:34:23.968500Z"
    }
   },
   "outputs": [],
   "source": [
    "reader = Reader(rating_scale=(1, 5))\n",
    "train_data = Dataset.load_from_df(train[['userId', 'movieId', 'rating']], reader)"
   ]
  },
  {
   "cell_type": "code",
   "execution_count": 81,
   "metadata": {
    "ExecuteTime": {
     "end_time": "2022-05-10T13:34:24.890108Z",
     "start_time": "2022-05-10T13:34:24.840639Z"
    }
   },
   "outputs": [],
   "source": [
    "test_data = Dataset.load_from_df(test[['userId', 'movieId', 'rating']], reader)"
   ]
  },
  {
   "cell_type": "markdown",
   "metadata": {},
   "source": [
    "## Tuning"
   ]
  },
  {
   "cell_type": "markdown",
   "metadata": {},
   "source": [
    "### KNNBasics"
   ]
  },
  {
   "cell_type": "code",
   "execution_count": 85,
   "metadata": {
    "ExecuteTime": {
     "end_time": "2022-05-10T13:35:41.343043Z",
     "start_time": "2022-05-10T13:35:12.083888Z"
    },
    "scrolled": true
   },
   "outputs": [
    {
     "name": "stderr",
     "output_type": "stream",
     "text": [
      "[Parallel(n_jobs=1)]: Using backend SequentialBackend with 1 concurrent workers.\n"
     ]
    },
    {
     "name": "stdout",
     "output_type": "stream",
     "text": [
      "Computing the msd similarity matrix...\n",
      "Done computing similarity matrix.\n"
     ]
    },
    {
     "name": "stderr",
     "output_type": "stream",
     "text": [
      "[Parallel(n_jobs=1)]: Done   1 out of   1 | elapsed:    0.6s remaining:    0.0s\n"
     ]
    },
    {
     "name": "stdout",
     "output_type": "stream",
     "text": [
      "Computing the msd similarity matrix...\n",
      "Done computing similarity matrix.\n"
     ]
    },
    {
     "name": "stderr",
     "output_type": "stream",
     "text": [
      "[Parallel(n_jobs=1)]: Done   2 out of   2 | elapsed:    1.1s remaining:    0.0s\n"
     ]
    },
    {
     "name": "stdout",
     "output_type": "stream",
     "text": [
      "Computing the msd similarity matrix...\n",
      "Done computing similarity matrix.\n"
     ]
    },
    {
     "name": "stderr",
     "output_type": "stream",
     "text": [
      "[Parallel(n_jobs=1)]: Done   3 out of   3 | elapsed:    1.5s remaining:    0.0s\n"
     ]
    },
    {
     "name": "stdout",
     "output_type": "stream",
     "text": [
      "Computing the msd similarity matrix...\n",
      "Done computing similarity matrix.\n"
     ]
    },
    {
     "name": "stderr",
     "output_type": "stream",
     "text": [
      "[Parallel(n_jobs=1)]: Done   4 out of   4 | elapsed:    2.0s remaining:    0.0s\n"
     ]
    },
    {
     "name": "stdout",
     "output_type": "stream",
     "text": [
      "Computing the msd similarity matrix...\n",
      "Done computing similarity matrix.\n",
      "Computing the msd similarity matrix...\n",
      "Done computing similarity matrix.\n",
      "Computing the msd similarity matrix...\n",
      "Done computing similarity matrix.\n",
      "Computing the msd similarity matrix...\n",
      "Done computing similarity matrix.\n",
      "Computing the msd similarity matrix...\n",
      "Done computing similarity matrix.\n",
      "Computing the msd similarity matrix...\n",
      "Done computing similarity matrix.\n",
      "Computing the msd similarity matrix...\n",
      "Done computing similarity matrix.\n",
      "Computing the msd similarity matrix...\n",
      "Done computing similarity matrix.\n",
      "Computing the msd similarity matrix...\n",
      "Done computing similarity matrix.\n",
      "Computing the msd similarity matrix...\n",
      "Done computing similarity matrix.\n",
      "Computing the msd similarity matrix...\n",
      "Done computing similarity matrix.\n",
      "Computing the msd similarity matrix...\n",
      "Done computing similarity matrix.\n",
      "Computing the msd similarity matrix...\n",
      "Done computing similarity matrix.\n",
      "Computing the msd similarity matrix...\n",
      "Done computing similarity matrix.\n",
      "Computing the msd similarity matrix...\n",
      "Done computing similarity matrix.\n",
      "Computing the msd similarity matrix...\n",
      "Done computing similarity matrix.\n",
      "Computing the msd similarity matrix...\n",
      "Done computing similarity matrix.\n",
      "Computing the msd similarity matrix...\n",
      "Done computing similarity matrix.\n",
      "Computing the msd similarity matrix...\n",
      "Done computing similarity matrix.\n",
      "Computing the msd similarity matrix...\n",
      "Done computing similarity matrix.\n",
      "Computing the msd similarity matrix...\n",
      "Done computing similarity matrix.\n",
      "Computing the msd similarity matrix...\n",
      "Done computing similarity matrix.\n",
      "Computing the msd similarity matrix...\n",
      "Done computing similarity matrix.\n",
      "Computing the msd similarity matrix...\n",
      "Done computing similarity matrix.\n",
      "Computing the msd similarity matrix...\n",
      "Done computing similarity matrix.\n",
      "Computing the msd similarity matrix...\n",
      "Done computing similarity matrix.\n",
      "Computing the msd similarity matrix...\n",
      "Done computing similarity matrix.\n",
      "Computing the msd similarity matrix...\n",
      "Done computing similarity matrix.\n",
      "Computing the msd similarity matrix...\n",
      "Done computing similarity matrix.\n",
      "Computing the msd similarity matrix...\n",
      "Done computing similarity matrix.\n",
      "Computing the msd similarity matrix...\n",
      "Done computing similarity matrix.\n",
      "Computing the msd similarity matrix...\n",
      "Done computing similarity matrix.\n",
      "Computing the msd similarity matrix...\n",
      "Done computing similarity matrix.\n",
      "Computing the msd similarity matrix...\n",
      "Done computing similarity matrix.\n",
      "Computing the msd similarity matrix...\n",
      "Done computing similarity matrix.\n",
      "Computing the msd similarity matrix...\n",
      "Done computing similarity matrix.\n",
      "Computing the msd similarity matrix...\n",
      "Done computing similarity matrix.\n",
      "Computing the msd similarity matrix...\n",
      "Done computing similarity matrix.\n",
      "Computing the msd similarity matrix...\n",
      "Done computing similarity matrix.\n",
      "Computing the msd similarity matrix...\n",
      "Done computing similarity matrix.\n",
      "Computing the msd similarity matrix...\n",
      "Done computing similarity matrix.\n"
     ]
    },
    {
     "name": "stderr",
     "output_type": "stream",
     "text": [
      "[Parallel(n_jobs=1)]: Done  45 out of  45 | elapsed:   28.8s finished\n"
     ]
    }
   ],
   "source": [
    "param_grid = {'k':[10, 50, 100],'min_k': [1, 5, 10]}\n",
    "base_model = GridSearchCV(KNNBasic,param_grid=param_grid,joblib_verbose=5)\n",
    "base_model.fit(train_data)"
   ]
  },
  {
   "cell_type": "code",
   "execution_count": 86,
   "metadata": {
    "ExecuteTime": {
     "end_time": "2022-05-10T13:35:41.346627Z",
     "start_time": "2022-05-10T13:35:41.344217Z"
    },
    "scrolled": true
   },
   "outputs": [
    {
     "data": {
      "text/plain": [
       "{'rmse': {'k': 10, 'min_k': 5}, 'mae': {'k': 10, 'min_k': 5}}"
      ]
     },
     "execution_count": 86,
     "metadata": {},
     "output_type": "execute_result"
    }
   ],
   "source": [
    "base_model.best_params"
   ]
  },
  {
   "cell_type": "code",
   "execution_count": 87,
   "metadata": {
    "ExecuteTime": {
     "end_time": "2022-05-10T13:35:41.349867Z",
     "start_time": "2022-05-10T13:35:41.347893Z"
    }
   },
   "outputs": [
    {
     "data": {
      "text/plain": [
       "{'rmse': <surprise.prediction_algorithms.knns.KNNBasic at 0x7fc7d99384f0>,\n",
       " 'mae': <surprise.prediction_algorithms.knns.KNNBasic at 0x7fc7f0c7beb0>}"
      ]
     },
     "execution_count": 87,
     "metadata": {},
     "output_type": "execute_result"
    }
   ],
   "source": [
    "base_model.best_estimator"
   ]
  },
  {
   "cell_type": "code",
   "execution_count": null,
   "metadata": {
    "ExecuteTime": {
     "end_time": "2022-05-10T13:28:21.129400Z",
     "start_time": "2022-05-10T13:28:20.465Z"
    }
   },
   "outputs": [],
   "source": [
    "# param_grid = {'n_factors':[20, 100],'n_epochs': [5, 10], 'lr_all': [0.002, 0.005],\n",
    "#               'reg_all': [0.4, 0.6]}\n",
    "# gs_model = GridSearchCV(SVD,param_grid=param_grid,n_jobs = -1,joblib_verbose=5)\n",
    "# gs_model.fit(jokes)"
   ]
  },
  {
   "cell_type": "markdown",
   "metadata": {},
   "source": [
    "## Cross Validation"
   ]
  },
  {
   "cell_type": "code",
   "execution_count": 88,
   "metadata": {
    "ExecuteTime": {
     "end_time": "2022-05-10T13:36:06.686779Z",
     "start_time": "2022-05-10T13:36:06.682199Z"
    }
   },
   "outputs": [],
   "source": [
    "#instantiate KNN model \n",
    "model1=KNNBasic(k=10, min_k=5)\n"
   ]
  },
  {
   "cell_type": "code",
   "execution_count": 89,
   "metadata": {
    "ExecuteTime": {
     "end_time": "2022-05-10T13:36:09.754291Z",
     "start_time": "2022-05-10T13:36:06.858189Z"
    },
    "scrolled": true
   },
   "outputs": [
    {
     "name": "stdout",
     "output_type": "stream",
     "text": [
      "Computing the msd similarity matrix...\n",
      "Done computing similarity matrix.\n",
      "Computing the msd similarity matrix...\n",
      "Done computing similarity matrix.\n",
      "Computing the msd similarity matrix...\n",
      "Done computing similarity matrix.\n",
      "Computing the msd similarity matrix...\n",
      "Done computing similarity matrix.\n",
      "Computing the msd similarity matrix...\n",
      "Done computing similarity matrix.\n",
      "Evaluating RMSE, MAE of algorithm KNNBasic on 5 split(s).\n",
      "\n",
      "                  Fold 1  Fold 2  Fold 3  Fold 4  Fold 5  Mean    Std     \n",
      "RMSE (testset)    0.9566  0.9586  0.9585  0.9574  0.9582  0.9579  0.0008  \n",
      "MAE (testset)     0.7322  0.7312  0.7340  0.7317  0.7344  0.7327  0.0013  \n",
      "Fit time          0.04    0.04    0.04    0.04    0.04    0.04    0.00    \n",
      "Test time         0.50    0.42    0.45    0.43    0.42    0.44    0.03    \n"
     ]
    },
    {
     "data": {
      "text/plain": [
       "{'test_rmse': array([0.95662226, 0.9586244 , 0.95847623, 0.95736453, 0.95821985]),\n",
       " 'test_mae': array([0.73216068, 0.73124745, 0.73402863, 0.73171831, 0.73436309]),\n",
       " 'fit_time': (0.04146003723144531,\n",
       "  0.043396949768066406,\n",
       "  0.04292130470275879,\n",
       "  0.042973995208740234,\n",
       "  0.04100513458251953),\n",
       " 'test_time': (0.4954948425292969,\n",
       "  0.42408299446105957,\n",
       "  0.4539670944213867,\n",
       "  0.43243908882141113,\n",
       "  0.4184870719909668)}"
      ]
     },
     "execution_count": 89,
     "metadata": {},
     "output_type": "execute_result"
    }
   ],
   "source": [
    "#instaniatite and perform cross val with training data\n",
    "cross_validate(model1, train_data, measures=['RMSE', 'MAE'], cv=5, verbose=True)"
   ]
  },
  {
   "cell_type": "code",
   "execution_count": 90,
   "metadata": {
    "ExecuteTime": {
     "end_time": "2022-05-10T13:36:09.758924Z",
     "start_time": "2022-05-10T13:36:09.755359Z"
    },
    "scrolled": true
   },
   "outputs": [
    {
     "data": {
      "text/plain": [
       "Prediction(uid=10, iid=20, r_ui=None, est=2.5954781702914445, details={'actual_k': 10, 'was_impossible': False})"
      ]
     },
     "execution_count": 90,
     "metadata": {},
     "output_type": "execute_result"
    }
   ],
   "source": [
    "#use model to predict\n",
    "model1.predict(uid=10, iid = 20)\n",
    "#this model just predicted what user 10 would predict movie 20"
   ]
  },
  {
   "cell_type": "markdown",
   "metadata": {},
   "source": [
    "looking at the output above we can determine that our model predicted that use 10 would rate movie 20 a 2.5 give or take our RSME which is .95."
   ]
  },
  {
   "cell_type": "markdown",
   "metadata": {},
   "source": [
    "## Models"
   ]
  },
  {
   "cell_type": "markdown",
   "metadata": {},
   "source": [
    "### SVD"
   ]
  },
  {
   "cell_type": "code",
   "execution_count": 91,
   "metadata": {
    "ExecuteTime": {
     "end_time": "2022-05-10T13:36:23.528605Z",
     "start_time": "2022-05-10T13:36:23.521705Z"
    }
   },
   "outputs": [],
   "source": [
    "model2 = SVD()"
   ]
  },
  {
   "cell_type": "code",
   "execution_count": 92,
   "metadata": {
    "ExecuteTime": {
     "end_time": "2022-05-10T13:36:23.806516Z",
     "start_time": "2022-05-10T13:36:23.800652Z"
    }
   },
   "outputs": [
    {
     "data": {
      "text/plain": [
       "<surprise.prediction_algorithms.matrix_factorization.SVD at 0x7fc7b009b880>"
      ]
     },
     "execution_count": 92,
     "metadata": {},
     "output_type": "execute_result"
    }
   ],
   "source": [
    "model2"
   ]
  },
  {
   "cell_type": "code",
   "execution_count": 93,
   "metadata": {
    "ExecuteTime": {
     "end_time": "2022-05-10T13:36:40.846726Z",
     "start_time": "2022-05-10T13:36:24.340570Z"
    },
    "scrolled": true
   },
   "outputs": [
    {
     "name": "stdout",
     "output_type": "stream",
     "text": [
      "Evaluating RMSE, MAE of algorithm SVD on 5 split(s).\n",
      "\n",
      "                  Fold 1  Fold 2  Fold 3  Fold 4  Fold 5  Mean    Std     \n",
      "RMSE (testset)    0.8733  0.8849  0.8851  0.8905  0.8850  0.8838  0.0057  \n",
      "MAE (testset)     0.6710  0.6829  0.6808  0.6851  0.6825  0.6804  0.0049  \n",
      "Fit time          3.08    3.07    3.07    3.12    3.20    3.11    0.05    \n",
      "Test time         0.15    0.06    0.11    0.07    0.06    0.09    0.03    \n"
     ]
    },
    {
     "data": {
      "text/plain": [
       "{'test_rmse': array([0.87326247, 0.88493798, 0.88511106, 0.89052024, 0.88503285]),\n",
       " 'test_mae': array([0.67098726, 0.68287995, 0.68078858, 0.68507058, 0.68251225]),\n",
       " 'fit_time': (3.081982135772705,\n",
       "  3.0685839653015137,\n",
       "  3.073172092437744,\n",
       "  3.117435932159424,\n",
       "  3.199558734893799),\n",
       " 'test_time': (0.14911890029907227,\n",
       "  0.06330490112304688,\n",
       "  0.10545897483825684,\n",
       "  0.0747988224029541,\n",
       "  0.062090158462524414)}"
      ]
     },
     "execution_count": 93,
     "metadata": {},
     "output_type": "execute_result"
    }
   ],
   "source": [
    "cross_validate(model2, train_data, measures=['RMSE', 'MAE'], cv=5, verbose=True)"
   ]
  },
  {
   "cell_type": "code",
   "execution_count": 94,
   "metadata": {
    "ExecuteTime": {
     "end_time": "2022-05-10T13:42:11.939530Z",
     "start_time": "2022-05-10T13:36:57.047666Z"
    }
   },
   "outputs": [
    {
     "name": "stderr",
     "output_type": "stream",
     "text": [
      "[Parallel(n_jobs=1)]: Using backend SequentialBackend with 1 concurrent workers.\n",
      "[Parallel(n_jobs=1)]: Done   1 out of   1 | elapsed:    0.4s remaining:    0.0s\n",
      "[Parallel(n_jobs=1)]: Done   2 out of   2 | elapsed:    0.8s remaining:    0.0s\n",
      "[Parallel(n_jobs=1)]: Done   3 out of   3 | elapsed:    1.2s remaining:    0.0s\n",
      "[Parallel(n_jobs=1)]: Done   4 out of   4 | elapsed:    1.5s remaining:    0.0s\n",
      "[Parallel(n_jobs=1)]: Done 405 out of 405 | elapsed:  5.2min finished\n"
     ]
    }
   ],
   "source": [
    "param_grid = {'n_factors':[10,20,50],'n_epochs': [5, 10, 15], 'lr_all': [0.002,0.005,0.01],\n",
    "             'reg_all': [0.2,0.4,0.6]}\n",
    "gs_model2 = GridSearchCV(SVD,param_grid=param_grid,joblib_verbose=5)\n",
    "gs_model2.fit(train_data)"
   ]
  },
  {
   "cell_type": "code",
   "execution_count": null,
   "metadata": {},
   "outputs": [],
   "source": []
  },
  {
   "cell_type": "code",
   "execution_count": 95,
   "metadata": {
    "ExecuteTime": {
     "end_time": "2022-05-10T13:42:42.047729Z",
     "start_time": "2022-05-10T13:42:42.027446Z"
    }
   },
   "outputs": [
    {
     "data": {
      "text/plain": [
       "{'rmse': {'n_factors': 50, 'n_epochs': 15, 'lr_all': 0.01, 'reg_all': 0.2},\n",
       " 'mae': {'n_factors': 10, 'n_epochs': 15, 'lr_all': 0.01, 'reg_all': 0.2}}"
      ]
     },
     "execution_count": 95,
     "metadata": {},
     "output_type": "execute_result"
    }
   ],
   "source": [
    "gs_model2.best_params"
   ]
  },
  {
   "cell_type": "code",
   "execution_count": 96,
   "metadata": {
    "ExecuteTime": {
     "end_time": "2022-05-10T13:42:50.709568Z",
     "start_time": "2022-05-10T13:42:46.404875Z"
    },
    "scrolled": true
   },
   "outputs": [
    {
     "name": "stdout",
     "output_type": "stream",
     "text": [
      "Evaluating RMSE, MAE of algorithm SVD on 5 split(s).\n",
      "\n",
      "                  Fold 1  Fold 2  Fold 3  Fold 4  Fold 5  Mean    Std     \n",
      "RMSE (testset)    0.8678  0.8757  0.8793  0.8797  0.8852  0.8775  0.0057  \n",
      "MAE (testset)     0.6695  0.6737  0.6782  0.6779  0.6810  0.6761  0.0040  \n",
      "Fit time          0.68    0.70    0.67    0.69    0.68    0.68    0.01    \n",
      "Test time         0.06    0.14    0.06    0.06    0.06    0.08    0.03    \n"
     ]
    },
    {
     "data": {
      "text/plain": [
       "{'test_rmse': array([0.86781303, 0.87567133, 0.87932099, 0.87974803, 0.88519124]),\n",
       " 'test_mae': array([0.66945194, 0.67373658, 0.67817905, 0.67793459, 0.68101278]),\n",
       " 'fit_time': (0.6791110038757324,\n",
       "  0.699415922164917,\n",
       "  0.6696891784667969,\n",
       "  0.6889510154724121,\n",
       "  0.6825358867645264),\n",
       " 'test_time': (0.06285405158996582,\n",
       "  0.1411600112915039,\n",
       "  0.06126713752746582,\n",
       "  0.061760902404785156,\n",
       "  0.06254005432128906)}"
      ]
     },
     "execution_count": 96,
     "metadata": {},
     "output_type": "execute_result"
    }
   ],
   "source": [
    "cross_validate(SVD(n_factors=10,n_epochs=15,lr_all=0.01,reg_all=0.2), train_data, measures=['RMSE', 'MAE'], cv=5, verbose=True)"
   ]
  },
  {
   "cell_type": "code",
   "execution_count": 97,
   "metadata": {
    "ExecuteTime": {
     "end_time": "2022-05-10T13:52:46.953433Z",
     "start_time": "2022-05-10T13:42:54.842102Z"
    }
   },
   "outputs": [
    {
     "name": "stderr",
     "output_type": "stream",
     "text": [
      "[Parallel(n_jobs=1)]: Using backend SequentialBackend with 1 concurrent workers.\n",
      "[Parallel(n_jobs=1)]: Done   1 out of   1 | elapsed:    0.7s remaining:    0.0s\n",
      "[Parallel(n_jobs=1)]: Done   2 out of   2 | elapsed:    1.3s remaining:    0.0s\n",
      "[Parallel(n_jobs=1)]: Done   3 out of   3 | elapsed:    2.1s remaining:    0.0s\n",
      "[Parallel(n_jobs=1)]: Done   4 out of   4 | elapsed:    2.8s remaining:    0.0s\n",
      "[Parallel(n_jobs=1)]: Done 405 out of 405 | elapsed:  9.9min finished\n"
     ]
    }
   ],
   "source": [
    "param_grid = {'n_factors':[5,10,15],'n_epochs': [15, 30, 45], 'lr_all': [0.01,0.05,0.1],\n",
    "             'reg_all': [0.1,0.2,0.3]}\n",
    "gs_model2 = GridSearchCV(SVD,param_grid=param_grid,joblib_verbose=5)\n",
    "gs_model2.fit(train_data)"
   ]
  },
  {
   "cell_type": "code",
   "execution_count": 98,
   "metadata": {
    "ExecuteTime": {
     "end_time": "2022-05-10T13:52:46.957555Z",
     "start_time": "2022-05-10T13:52:46.954654Z"
    }
   },
   "outputs": [
    {
     "data": {
      "text/plain": [
       "{'rmse': {'n_factors': 15, 'n_epochs': 45, 'lr_all': 0.01, 'reg_all': 0.1},\n",
       " 'mae': {'n_factors': 15, 'n_epochs': 45, 'lr_all': 0.01, 'reg_all': 0.1}}"
      ]
     },
     "execution_count": 98,
     "metadata": {},
     "output_type": "execute_result"
    }
   ],
   "source": [
    "gs_model2.best_params"
   ]
  },
  {
   "cell_type": "code",
   "execution_count": 99,
   "metadata": {
    "ExecuteTime": {
     "end_time": "2022-05-10T13:52:50.954481Z",
     "start_time": "2022-05-10T13:52:46.958898Z"
    }
   },
   "outputs": [
    {
     "name": "stdout",
     "output_type": "stream",
     "text": [
      "Evaluating RMSE, MAE of algorithm SVD on 5 split(s).\n",
      "\n",
      "                  Fold 1  Fold 2  Fold 3  Fold 4  Fold 5  Mean    Std     \n",
      "RMSE (testset)    0.8751  0.8742  0.8765  0.8758  0.8729  0.8749  0.0013  \n",
      "MAE (testset)     0.6723  0.6766  0.6753  0.6706  0.6708  0.6731  0.0024  \n",
      "Fit time          0.63    0.57    0.58    0.69    0.63    0.62    0.04    \n",
      "Test time         0.06    0.11    0.06    0.06    0.07    0.07    0.02    \n"
     ]
    },
    {
     "data": {
      "text/plain": [
       "{'test_rmse': array([0.87510021, 0.87423531, 0.87647316, 0.8757893 , 0.87288297]),\n",
       " 'test_mae': array([0.67225328, 0.67662827, 0.67530597, 0.67059179, 0.67081036]),\n",
       " 'fit_time': (0.6305809020996094,\n",
       "  0.5681240558624268,\n",
       "  0.5798242092132568,\n",
       "  0.6912031173706055,\n",
       "  0.6298172473907471),\n",
       " 'test_time': (0.06019425392150879,\n",
       "  0.11260795593261719,\n",
       "  0.060318946838378906,\n",
       "  0.060355186462402344,\n",
       "  0.06863784790039062)}"
      ]
     },
     "execution_count": 99,
     "metadata": {},
     "output_type": "execute_result"
    }
   ],
   "source": [
    "cross_validate(SVD(n_factors=5,n_epochs=15,lr_all=0.01,reg_all=0.1), train_data, measures=['RMSE', 'MAE'], cv=5, verbose=True)"
   ]
  },
  {
   "cell_type": "markdown",
   "metadata": {},
   "source": [
    "### NMF"
   ]
  },
  {
   "cell_type": "code",
   "execution_count": 100,
   "metadata": {
    "ExecuteTime": {
     "end_time": "2022-05-10T13:53:10.208373Z",
     "start_time": "2022-05-10T13:53:10.194053Z"
    }
   },
   "outputs": [],
   "source": [
    "model3 = NMF()"
   ]
  },
  {
   "cell_type": "code",
   "execution_count": 101,
   "metadata": {
    "ExecuteTime": {
     "end_time": "2022-05-10T13:53:27.976018Z",
     "start_time": "2022-05-10T13:53:10.625292Z"
    }
   },
   "outputs": [
    {
     "name": "stdout",
     "output_type": "stream",
     "text": [
      "Evaluating RMSE, MAE of algorithm NMF on 5 split(s).\n",
      "\n",
      "                  Fold 1  Fold 2  Fold 3  Fold 4  Fold 5  Mean    Std     \n",
      "RMSE (testset)    0.9311  0.9409  0.9359  0.9529  0.9431  0.9408  0.0074  \n",
      "MAE (testset)     0.7164  0.7229  0.7176  0.7304  0.7231  0.7221  0.0049  \n",
      "Fit time          3.26    3.28    3.41    3.26    3.23    3.29    0.06    \n",
      "Test time         0.05    0.10    0.05    0.05    0.10    0.07    0.02    \n"
     ]
    },
    {
     "data": {
      "text/plain": [
       "{'test_rmse': array([0.9310605 , 0.94090828, 0.93586938, 0.95291381, 0.94306527]),\n",
       " 'test_mae': array([0.71644085, 0.72288764, 0.71763757, 0.73037795, 0.72309408]),\n",
       " 'fit_time': (3.2576072216033936,\n",
       "  3.2819290161132812,\n",
       "  3.4126431941986084,\n",
       "  3.2604942321777344,\n",
       "  3.232913017272949),\n",
       " 'test_time': (0.05363583564758301,\n",
       "  0.09865593910217285,\n",
       "  0.052152156829833984,\n",
       "  0.05205488204956055,\n",
       "  0.1030580997467041)}"
      ]
     },
     "execution_count": 101,
     "metadata": {},
     "output_type": "execute_result"
    }
   ],
   "source": [
    "cross_validate(model3, train_data, measures=['RMSE', 'MAE'], cv=5, verbose=True)"
   ]
  },
  {
   "cell_type": "code",
   "execution_count": 102,
   "metadata": {
    "ExecuteTime": {
     "end_time": "2022-05-10T13:56:17.584158Z",
     "start_time": "2022-05-10T13:53:27.977156Z"
    }
   },
   "outputs": [
    {
     "name": "stderr",
     "output_type": "stream",
     "text": [
      "[Parallel(n_jobs=1)]: Using backend SequentialBackend with 1 concurrent workers.\n",
      "[Parallel(n_jobs=1)]: Done   1 out of   1 | elapsed:    1.5s remaining:    0.0s\n",
      "[Parallel(n_jobs=1)]: Done   2 out of   2 | elapsed:    3.2s remaining:    0.0s\n",
      "[Parallel(n_jobs=1)]: Done   3 out of   3 | elapsed:    5.0s remaining:    0.0s\n",
      "[Parallel(n_jobs=1)]: Done   4 out of   4 | elapsed:    6.6s remaining:    0.0s\n",
      "[Parallel(n_jobs=1)]: Done  45 out of  45 | elapsed:  2.8min finished\n"
     ]
    }
   ],
   "source": [
    "param_grid = {'n_factors':[10,15,20],'n_epochs': [25, 50, 75]}\n",
    "gs_model3 = GridSearchCV(NMF,param_grid=param_grid,joblib_verbose=5)\n",
    "gs_model3.fit(train_data)"
   ]
  },
  {
   "cell_type": "code",
   "execution_count": 103,
   "metadata": {
    "ExecuteTime": {
     "end_time": "2022-05-10T13:56:17.588599Z",
     "start_time": "2022-05-10T13:56:17.585796Z"
    },
    "scrolled": true
   },
   "outputs": [
    {
     "data": {
      "text/plain": [
       "{'rmse': {'n_factors': 20, 'n_epochs': 50},\n",
       " 'mae': {'n_factors': 20, 'n_epochs': 50}}"
      ]
     },
     "execution_count": 103,
     "metadata": {},
     "output_type": "execute_result"
    }
   ],
   "source": [
    "gs_model3.best_params"
   ]
  },
  {
   "cell_type": "code",
   "execution_count": 104,
   "metadata": {
    "ExecuteTime": {
     "end_time": "2022-05-10T13:56:25.538837Z",
     "start_time": "2022-05-10T13:56:17.589847Z"
    }
   },
   "outputs": [
    {
     "name": "stdout",
     "output_type": "stream",
     "text": [
      "Evaluating RMSE, MAE of algorithm NMF on 5 split(s).\n",
      "\n",
      "                  Fold 1  Fold 2  Fold 3  Fold 4  Fold 5  Mean    Std     \n",
      "RMSE (testset)    0.9699  0.9793  0.9757  0.9709  0.9806  0.9753  0.0043  \n",
      "MAE (testset)     0.7353  0.7358  0.7380  0.7371  0.7420  0.7377  0.0024  \n",
      "Fit time          1.41    1.40    1.42    1.42    1.43    1.42    0.01    \n",
      "Test time         0.05    0.11    0.05    0.11    0.06    0.08    0.03    \n"
     ]
    },
    {
     "data": {
      "text/plain": [
       "{'test_rmse': array([0.96993939, 0.9793044 , 0.97574823, 0.97092178, 0.98058092]),\n",
       " 'test_mae': array([0.73532161, 0.73580918, 0.73798238, 0.73714762, 0.74204795]),\n",
       " 'fit_time': (1.4068889617919922,\n",
       "  1.400604009628296,\n",
       "  1.4214591979980469,\n",
       "  1.4241881370544434,\n",
       "  1.428539752960205),\n",
       " 'test_time': (0.05293607711791992,\n",
       "  0.11087679862976074,\n",
       "  0.05334877967834473,\n",
       "  0.10718297958374023,\n",
       "  0.0592350959777832)}"
      ]
     },
     "execution_count": 104,
     "metadata": {},
     "output_type": "execute_result"
    }
   ],
   "source": [
    "cross_validate(NMF(n_factors=10,n_epochs=25), train_data, measures=['RMSE', 'MAE'], cv=5, verbose=True)"
   ]
  },
  {
   "cell_type": "code",
   "execution_count": 105,
   "metadata": {
    "ExecuteTime": {
     "end_time": "2022-05-10T13:57:45.907360Z",
     "start_time": "2022-05-10T13:56:56.140424Z"
    }
   },
   "outputs": [
    {
     "name": "stderr",
     "output_type": "stream",
     "text": [
      "[Parallel(n_jobs=1)]: Using backend SequentialBackend with 1 concurrent workers.\n",
      "[Parallel(n_jobs=1)]: Done   1 out of   1 | elapsed:    0.8s remaining:    0.0s\n",
      "[Parallel(n_jobs=1)]: Done   2 out of   2 | elapsed:    1.6s remaining:    0.0s\n",
      "[Parallel(n_jobs=1)]: Done   3 out of   3 | elapsed:    2.4s remaining:    0.0s\n",
      "[Parallel(n_jobs=1)]: Done   4 out of   4 | elapsed:    3.0s remaining:    0.0s\n",
      "[Parallel(n_jobs=1)]: Done  45 out of  45 | elapsed:   49.3s finished\n"
     ]
    }
   ],
   "source": [
    "param_grid = {'n_factors':[3,5,10],'n_epochs': [15, 20, 25]}\n",
    "gs_model3 = GridSearchCV(NMF,param_grid=param_grid,joblib_verbose=5)\n",
    "gs_model3.fit(train_data)"
   ]
  },
  {
   "cell_type": "code",
   "execution_count": 106,
   "metadata": {
    "ExecuteTime": {
     "end_time": "2022-05-10T13:57:45.917433Z",
     "start_time": "2022-05-10T13:57:45.908922Z"
    }
   },
   "outputs": [
    {
     "data": {
      "text/plain": [
       "{'rmse': {'n_factors': 10, 'n_epochs': 25},\n",
       " 'mae': {'n_factors': 10, 'n_epochs': 25}}"
      ]
     },
     "execution_count": 106,
     "metadata": {},
     "output_type": "execute_result"
    }
   ],
   "source": [
    "gs_model3.best_params"
   ]
  },
  {
   "cell_type": "code",
   "execution_count": null,
   "metadata": {},
   "outputs": [],
   "source": []
  },
  {
   "cell_type": "code",
   "execution_count": null,
   "metadata": {},
   "outputs": [],
   "source": []
  },
  {
   "cell_type": "markdown",
   "metadata": {},
   "source": [
    "## Deployment "
   ]
  },
  {
   "cell_type": "code",
   "execution_count": 234,
   "metadata": {
    "ExecuteTime": {
     "end_time": "2022-05-10T14:53:13.170676Z",
     "start_time": "2022-05-10T14:53:12.312624Z"
    }
   },
   "outputs": [],
   "source": [
    "train['est_rating_user10'] = train['movieId'].apply(lambda x: model3.predict(train.userId[10], x).est)\n",
    "train.sort_values(by='est_rating_user10', ascending=False, inplace=True)"
   ]
  },
  {
   "cell_type": "code",
   "execution_count": 235,
   "metadata": {
    "ExecuteTime": {
     "end_time": "2022-05-10T14:53:17.164359Z",
     "start_time": "2022-05-10T14:53:17.133304Z"
    }
   },
   "outputs": [
    {
     "data": {
      "text/html": [
       "<div>\n",
       "<style scoped>\n",
       "    .dataframe tbody tr th:only-of-type {\n",
       "        vertical-align: middle;\n",
       "    }\n",
       "\n",
       "    .dataframe tbody tr th {\n",
       "        vertical-align: top;\n",
       "    }\n",
       "\n",
       "    .dataframe thead th {\n",
       "        text-align: right;\n",
       "    }\n",
       "</style>\n",
       "<table border=\"1\" class=\"dataframe\">\n",
       "  <thead>\n",
       "    <tr style=\"text-align: right;\">\n",
       "      <th></th>\n",
       "      <th>movieId</th>\n",
       "      <th>genres</th>\n",
       "      <th>Title</th>\n",
       "      <th>year_released</th>\n",
       "      <th>userId</th>\n",
       "      <th>rating</th>\n",
       "      <th>timestamp</th>\n",
       "      <th>est_rating_user10</th>\n",
       "    </tr>\n",
       "  </thead>\n",
       "  <tbody>\n",
       "    <tr>\n",
       "      <th>27780</th>\n",
       "      <td>1250</td>\n",
       "      <td>adventure,drama,war</td>\n",
       "      <td>Bridge on the River Kwai, The</td>\n",
       "      <td>1957</td>\n",
       "      <td>334.0</td>\n",
       "      <td>3.5</td>\n",
       "      <td>2008-10-31 18:28:51</td>\n",
       "      <td>5.0</td>\n",
       "    </tr>\n",
       "    <tr>\n",
       "      <th>96095</th>\n",
       "      <td>104879</td>\n",
       "      <td>drama,mystery,thriller</td>\n",
       "      <td>Prisoners</td>\n",
       "      <td>2013</td>\n",
       "      <td>279.0</td>\n",
       "      <td>5.0</td>\n",
       "      <td>2017-09-26 03:00:11</td>\n",
       "      <td>5.0</td>\n",
       "    </tr>\n",
       "    <tr>\n",
       "      <th>26436</th>\n",
       "      <td>1217</td>\n",
       "      <td>drama,war</td>\n",
       "      <td>Ran</td>\n",
       "      <td>1985</td>\n",
       "      <td>74.0</td>\n",
       "      <td>4.0</td>\n",
       "      <td>2008-04-06 17:12:15</td>\n",
       "      <td>5.0</td>\n",
       "    </tr>\n",
       "    <tr>\n",
       "      <th>41101</th>\n",
       "      <td>2239</td>\n",
       "      <td>comedy,drama</td>\n",
       "      <td>Swept Away</td>\n",
       "      <td>Travolti da un insolito destino nell'azzurro m...</td>\n",
       "      <td>587.0</td>\n",
       "      <td>5.0</td>\n",
       "      <td>2000-03-15 17:05:07</td>\n",
       "      <td>5.0</td>\n",
       "    </tr>\n",
       "    <tr>\n",
       "      <th>62202</th>\n",
       "      <td>4437</td>\n",
       "      <td>horror</td>\n",
       "      <td>Suspiria</td>\n",
       "      <td>1977</td>\n",
       "      <td>606.0</td>\n",
       "      <td>4.0</td>\n",
       "      <td>2007-02-18 01:25:48</td>\n",
       "      <td>5.0</td>\n",
       "    </tr>\n",
       "    <tr>\n",
       "      <th>...</th>\n",
       "      <td>...</td>\n",
       "      <td>...</td>\n",
       "      <td>...</td>\n",
       "      <td>...</td>\n",
       "      <td>...</td>\n",
       "      <td>...</td>\n",
       "      <td>...</td>\n",
       "      <td>...</td>\n",
       "    </tr>\n",
       "    <tr>\n",
       "      <th>71590</th>\n",
       "      <td>6554</td>\n",
       "      <td>comedy,musical</td>\n",
       "      <td>Garage Days</td>\n",
       "      <td>2002</td>\n",
       "      <td>414.0</td>\n",
       "      <td>2.0</td>\n",
       "      <td>2004-11-09 06:07:41</td>\n",
       "      <td>1.0</td>\n",
       "    </tr>\n",
       "    <tr>\n",
       "      <th>85152</th>\n",
       "      <td>53453</td>\n",
       "      <td>action,adventure,fantasy,sci-fi</td>\n",
       "      <td>Starcrash</td>\n",
       "      <td>a.k.a. Star Crash (1978</td>\n",
       "      <td>448.0</td>\n",
       "      <td>0.5</td>\n",
       "      <td>2017-04-16 18:10:40</td>\n",
       "      <td>1.0</td>\n",
       "    </tr>\n",
       "    <tr>\n",
       "      <th>100051</th>\n",
       "      <td>161830</td>\n",
       "      <td>drama,horror,thriller</td>\n",
       "      <td>Body</td>\n",
       "      <td>2015</td>\n",
       "      <td>448.0</td>\n",
       "      <td>1.0</td>\n",
       "      <td>2016-08-29 17:50:10</td>\n",
       "      <td>1.0</td>\n",
       "    </tr>\n",
       "    <tr>\n",
       "      <th>48545</th>\n",
       "      <td>2828</td>\n",
       "      <td>children,comedy</td>\n",
       "      <td>Dudley Do-Right</td>\n",
       "      <td>1999</td>\n",
       "      <td>292.0</td>\n",
       "      <td>1.0</td>\n",
       "      <td>2002-03-06 00:33:21</td>\n",
       "      <td>1.0</td>\n",
       "    </tr>\n",
       "    <tr>\n",
       "      <th>62033</th>\n",
       "      <td>4371</td>\n",
       "      <td>crime,drama</td>\n",
       "      <td>Baby Boy</td>\n",
       "      <td>2001</td>\n",
       "      <td>307.0</td>\n",
       "      <td>0.5</td>\n",
       "      <td>2007-08-02 20:12:49</td>\n",
       "      <td>1.0</td>\n",
       "    </tr>\n",
       "  </tbody>\n",
       "</table>\n",
       "<p>75609 rows × 8 columns</p>\n",
       "</div>"
      ],
      "text/plain": [
       "        movieId                           genres  \\\n",
       "27780      1250              adventure,drama,war   \n",
       "96095    104879           drama,mystery,thriller   \n",
       "26436      1217                        drama,war   \n",
       "41101      2239                     comedy,drama   \n",
       "62202      4437                           horror   \n",
       "...         ...                              ...   \n",
       "71590      6554                   comedy,musical   \n",
       "85152     53453  action,adventure,fantasy,sci-fi   \n",
       "100051   161830            drama,horror,thriller   \n",
       "48545      2828                  children,comedy   \n",
       "62033      4371                      crime,drama   \n",
       "\n",
       "                                 Title  \\\n",
       "27780   Bridge on the River Kwai, The    \n",
       "96095                       Prisoners    \n",
       "26436                             Ran    \n",
       "41101                      Swept Away    \n",
       "62202                        Suspiria    \n",
       "...                                ...   \n",
       "71590                     Garage Days    \n",
       "85152                       Starcrash    \n",
       "100051                           Body    \n",
       "48545                 Dudley Do-Right    \n",
       "62033                        Baby Boy    \n",
       "\n",
       "                                            year_released  userId  rating  \\\n",
       "27780                                                1957   334.0     3.5   \n",
       "96095                                                2013   279.0     5.0   \n",
       "26436                                                1985    74.0     4.0   \n",
       "41101   Travolti da un insolito destino nell'azzurro m...   587.0     5.0   \n",
       "62202                                                1977   606.0     4.0   \n",
       "...                                                   ...     ...     ...   \n",
       "71590                                                2002   414.0     2.0   \n",
       "85152                             a.k.a. Star Crash (1978   448.0     0.5   \n",
       "100051                                               2015   448.0     1.0   \n",
       "48545                                                1999   292.0     1.0   \n",
       "62033                                                2001   307.0     0.5   \n",
       "\n",
       "                 timestamp  est_rating_user10  \n",
       "27780  2008-10-31 18:28:51                5.0  \n",
       "96095  2017-09-26 03:00:11                5.0  \n",
       "26436  2008-04-06 17:12:15                5.0  \n",
       "41101  2000-03-15 17:05:07                5.0  \n",
       "62202  2007-02-18 01:25:48                5.0  \n",
       "...                    ...                ...  \n",
       "71590  2004-11-09 06:07:41                1.0  \n",
       "85152  2017-04-16 18:10:40                1.0  \n",
       "100051 2016-08-29 17:50:10                1.0  \n",
       "48545  2002-03-06 00:33:21                1.0  \n",
       "62033  2007-08-02 20:12:49                1.0  \n",
       "\n",
       "[75609 rows x 8 columns]"
      ]
     },
     "execution_count": 235,
     "metadata": {},
     "output_type": "execute_result"
    }
   ],
   "source": [
    "train"
   ]
  },
  {
   "cell_type": "code",
   "execution_count": 230,
   "metadata": {
    "ExecuteTime": {
     "end_time": "2022-05-10T14:52:21.548272Z",
     "start_time": "2022-05-10T14:52:14.666675Z"
    }
   },
   "outputs": [
    {
     "name": "stdout",
     "output_type": "stream",
     "text": [
      "userId: 10\n",
      "What genres are you interested in? drama\n",
      "How many recomendations would you like? 10\n"
     ]
    }
   ],
   "source": [
    "user = input('userId: ')\n",
    "genre = input('What genres are you interested in? ')\n",
    "num_recs = input('How many recomendations would you like? ')"
   ]
  },
  {
   "cell_type": "code",
   "execution_count": 236,
   "metadata": {
    "ExecuteTime": {
     "end_time": "2022-05-10T14:53:32.629820Z",
     "start_time": "2022-05-10T14:53:32.326877Z"
    }
   },
   "outputs": [],
   "source": [
    "movies['est_rating_user10'] = train['movieId'].apply(lambda x: model3.predict(uid=user, iid=x).est)\n",
    "movies.sort_values(by='est_rating_user10', ascending=False, inplace=True) "
   ]
  },
  {
   "cell_type": "code",
   "execution_count": 231,
   "metadata": {
    "ExecuteTime": {
     "end_time": "2022-05-10T14:52:25.642582Z",
     "start_time": "2022-05-10T14:52:25.637143Z"
    }
   },
   "outputs": [
    {
     "data": {
      "text/plain": [
       "'drama'"
      ]
     },
     "execution_count": 231,
     "metadata": {},
     "output_type": "execute_result"
    }
   ],
   "source": [
    "genre"
   ]
  },
  {
   "cell_type": "code",
   "execution_count": 232,
   "metadata": {
    "ExecuteTime": {
     "end_time": "2022-05-10T14:52:27.486113Z",
     "start_time": "2022-05-10T14:52:27.410042Z"
    }
   },
   "outputs": [],
   "source": [
    "genre_df = train[train['genres'].str.contains(genre)]"
   ]
  },
  {
   "cell_type": "code",
   "execution_count": 233,
   "metadata": {
    "ExecuteTime": {
     "end_time": "2022-05-10T14:52:28.224694Z",
     "start_time": "2022-05-10T14:52:28.192789Z"
    }
   },
   "outputs": [
    {
     "data": {
      "text/html": [
       "<div>\n",
       "<style scoped>\n",
       "    .dataframe tbody tr th:only-of-type {\n",
       "        vertical-align: middle;\n",
       "    }\n",
       "\n",
       "    .dataframe tbody tr th {\n",
       "        vertical-align: top;\n",
       "    }\n",
       "\n",
       "    .dataframe thead th {\n",
       "        text-align: right;\n",
       "    }\n",
       "</style>\n",
       "<table border=\"1\" class=\"dataframe\">\n",
       "  <thead>\n",
       "    <tr style=\"text-align: right;\">\n",
       "      <th></th>\n",
       "      <th>movieId</th>\n",
       "      <th>genres</th>\n",
       "      <th>Title</th>\n",
       "      <th>year_released</th>\n",
       "      <th>userId</th>\n",
       "      <th>rating</th>\n",
       "      <th>timestamp</th>\n",
       "      <th>est_rating_user10</th>\n",
       "    </tr>\n",
       "  </thead>\n",
       "  <tbody>\n",
       "    <tr>\n",
       "      <th>27780</th>\n",
       "      <td>1250</td>\n",
       "      <td>adventure,drama,war</td>\n",
       "      <td>Bridge on the River Kwai, The</td>\n",
       "      <td>1957</td>\n",
       "      <td>334.0</td>\n",
       "      <td>3.5</td>\n",
       "      <td>2008-10-31 18:28:51</td>\n",
       "      <td>3.502769</td>\n",
       "    </tr>\n",
       "    <tr>\n",
       "      <th>71799</th>\n",
       "      <td>6620</td>\n",
       "      <td>comedy,drama</td>\n",
       "      <td>American Splendor</td>\n",
       "      <td>2003</td>\n",
       "      <td>610.0</td>\n",
       "      <td>4.0</td>\n",
       "      <td>2017-05-03 21:02:20</td>\n",
       "      <td>3.502769</td>\n",
       "    </tr>\n",
       "    <tr>\n",
       "      <th>71783</th>\n",
       "      <td>6620</td>\n",
       "      <td>comedy,drama</td>\n",
       "      <td>American Splendor</td>\n",
       "      <td>2003</td>\n",
       "      <td>182.0</td>\n",
       "      <td>4.0</td>\n",
       "      <td>2005-05-22 10:04:09</td>\n",
       "      <td>3.502769</td>\n",
       "    </tr>\n",
       "    <tr>\n",
       "      <th>71784</th>\n",
       "      <td>6620</td>\n",
       "      <td>comedy,drama</td>\n",
       "      <td>American Splendor</td>\n",
       "      <td>2003</td>\n",
       "      <td>187.0</td>\n",
       "      <td>5.0</td>\n",
       "      <td>2006-10-26 08:01:25</td>\n",
       "      <td>3.502769</td>\n",
       "    </tr>\n",
       "    <tr>\n",
       "      <th>71782</th>\n",
       "      <td>6620</td>\n",
       "      <td>comedy,drama</td>\n",
       "      <td>American Splendor</td>\n",
       "      <td>2003</td>\n",
       "      <td>91.0</td>\n",
       "      <td>3.5</td>\n",
       "      <td>2005-04-05 14:59:15</td>\n",
       "      <td>3.502769</td>\n",
       "    </tr>\n",
       "    <tr>\n",
       "      <th>...</th>\n",
       "      <td>...</td>\n",
       "      <td>...</td>\n",
       "      <td>...</td>\n",
       "      <td>...</td>\n",
       "      <td>...</td>\n",
       "      <td>...</td>\n",
       "      <td>...</td>\n",
       "      <td>...</td>\n",
       "    </tr>\n",
       "    <tr>\n",
       "      <th>24411</th>\n",
       "      <td>1184</td>\n",
       "      <td>comedy,drama</td>\n",
       "      <td>Mediterraneo</td>\n",
       "      <td>1991</td>\n",
       "      <td>606.0</td>\n",
       "      <td>4.5</td>\n",
       "      <td>2007-02-12 23:39:37</td>\n",
       "      <td>3.502769</td>\n",
       "    </tr>\n",
       "    <tr>\n",
       "      <th>24408</th>\n",
       "      <td>1184</td>\n",
       "      <td>comedy,drama</td>\n",
       "      <td>Mediterraneo</td>\n",
       "      <td>1991</td>\n",
       "      <td>391.0</td>\n",
       "      <td>4.0</td>\n",
       "      <td>2002-09-03 05:25:26</td>\n",
       "      <td>3.502769</td>\n",
       "    </tr>\n",
       "    <tr>\n",
       "      <th>24407</th>\n",
       "      <td>1184</td>\n",
       "      <td>comedy,drama</td>\n",
       "      <td>Mediterraneo</td>\n",
       "      <td>1991</td>\n",
       "      <td>202.0</td>\n",
       "      <td>4.0</td>\n",
       "      <td>2000-11-22 20:21:42</td>\n",
       "      <td>3.502769</td>\n",
       "    </tr>\n",
       "    <tr>\n",
       "      <th>22493</th>\n",
       "      <td>1046</td>\n",
       "      <td>drama,romance</td>\n",
       "      <td>Beautiful Thing</td>\n",
       "      <td>1996</td>\n",
       "      <td>596.0</td>\n",
       "      <td>4.0</td>\n",
       "      <td>2018-09-01 20:12:24</td>\n",
       "      <td>3.502769</td>\n",
       "    </tr>\n",
       "    <tr>\n",
       "      <th>62033</th>\n",
       "      <td>4371</td>\n",
       "      <td>crime,drama</td>\n",
       "      <td>Baby Boy</td>\n",
       "      <td>2001</td>\n",
       "      <td>307.0</td>\n",
       "      <td>0.5</td>\n",
       "      <td>2007-08-02 20:12:49</td>\n",
       "      <td>3.502769</td>\n",
       "    </tr>\n",
       "  </tbody>\n",
       "</table>\n",
       "<p>31317 rows × 8 columns</p>\n",
       "</div>"
      ],
      "text/plain": [
       "       movieId               genres                           Title  \\\n",
       "27780     1250  adventure,drama,war  Bridge on the River Kwai, The    \n",
       "71799     6620         comedy,drama              American Splendor    \n",
       "71783     6620         comedy,drama              American Splendor    \n",
       "71784     6620         comedy,drama              American Splendor    \n",
       "71782     6620         comedy,drama              American Splendor    \n",
       "...        ...                  ...                             ...   \n",
       "24411     1184         comedy,drama                   Mediterraneo    \n",
       "24408     1184         comedy,drama                   Mediterraneo    \n",
       "24407     1184         comedy,drama                   Mediterraneo    \n",
       "22493     1046        drama,romance                Beautiful Thing    \n",
       "62033     4371          crime,drama                       Baby Boy    \n",
       "\n",
       "      year_released  userId  rating           timestamp  est_rating_user10  \n",
       "27780          1957   334.0     3.5 2008-10-31 18:28:51           3.502769  \n",
       "71799          2003   610.0     4.0 2017-05-03 21:02:20           3.502769  \n",
       "71783          2003   182.0     4.0 2005-05-22 10:04:09           3.502769  \n",
       "71784          2003   187.0     5.0 2006-10-26 08:01:25           3.502769  \n",
       "71782          2003    91.0     3.5 2005-04-05 14:59:15           3.502769  \n",
       "...             ...     ...     ...                 ...                ...  \n",
       "24411          1991   606.0     4.5 2007-02-12 23:39:37           3.502769  \n",
       "24408          1991   391.0     4.0 2002-09-03 05:25:26           3.502769  \n",
       "24407          1991   202.0     4.0 2000-11-22 20:21:42           3.502769  \n",
       "22493          1996   596.0     4.0 2018-09-01 20:12:24           3.502769  \n",
       "62033          2001   307.0     0.5 2007-08-02 20:12:49           3.502769  \n",
       "\n",
       "[31317 rows x 8 columns]"
      ]
     },
     "execution_count": 233,
     "metadata": {},
     "output_type": "execute_result"
    }
   ],
   "source": [
    "genre_df"
   ]
  },
  {
   "cell_type": "code",
   "execution_count": 226,
   "metadata": {
    "ExecuteTime": {
     "end_time": "2022-05-10T14:48:46.981177Z",
     "start_time": "2022-05-10T14:48:46.916336Z"
    },
    "collapsed": true
   },
   "outputs": [
    {
     "ename": "KeyError",
     "evalue": "'genre'",
     "output_type": "error",
     "traceback": [
      "\u001b[0;31m---------------------------------------------------------------------------\u001b[0m",
      "\u001b[0;31mKeyError\u001b[0m                                  Traceback (most recent call last)",
      "\u001b[0;32m~/opt/anaconda3/envs/learn-env/lib/python3.8/site-packages/pandas/core/indexes/base.py\u001b[0m in \u001b[0;36mget_loc\u001b[0;34m(self, key, method, tolerance)\u001b[0m\n\u001b[1;32m   2894\u001b[0m             \u001b[0;32mtry\u001b[0m\u001b[0;34m:\u001b[0m\u001b[0;34m\u001b[0m\u001b[0;34m\u001b[0m\u001b[0m\n\u001b[0;32m-> 2895\u001b[0;31m                 \u001b[0;32mreturn\u001b[0m \u001b[0mself\u001b[0m\u001b[0;34m.\u001b[0m\u001b[0m_engine\u001b[0m\u001b[0;34m.\u001b[0m\u001b[0mget_loc\u001b[0m\u001b[0;34m(\u001b[0m\u001b[0mcasted_key\u001b[0m\u001b[0;34m)\u001b[0m\u001b[0;34m\u001b[0m\u001b[0;34m\u001b[0m\u001b[0m\n\u001b[0m\u001b[1;32m   2896\u001b[0m             \u001b[0;32mexcept\u001b[0m \u001b[0mKeyError\u001b[0m \u001b[0;32mas\u001b[0m \u001b[0merr\u001b[0m\u001b[0;34m:\u001b[0m\u001b[0;34m\u001b[0m\u001b[0;34m\u001b[0m\u001b[0m\n",
      "\u001b[0;32mpandas/_libs/index.pyx\u001b[0m in \u001b[0;36mpandas._libs.index.IndexEngine.get_loc\u001b[0;34m()\u001b[0m\n",
      "\u001b[0;32mpandas/_libs/index.pyx\u001b[0m in \u001b[0;36mpandas._libs.index.IndexEngine.get_loc\u001b[0;34m()\u001b[0m\n",
      "\u001b[0;32mpandas/_libs/hashtable_class_helper.pxi\u001b[0m in \u001b[0;36mpandas._libs.hashtable.PyObjectHashTable.get_item\u001b[0;34m()\u001b[0m\n",
      "\u001b[0;32mpandas/_libs/hashtable_class_helper.pxi\u001b[0m in \u001b[0;36mpandas._libs.hashtable.PyObjectHashTable.get_item\u001b[0;34m()\u001b[0m\n",
      "\u001b[0;31mKeyError\u001b[0m: 'genre'",
      "\nThe above exception was the direct cause of the following exception:\n",
      "\u001b[0;31mKeyError\u001b[0m                                  Traceback (most recent call last)",
      "\u001b[0;32m<ipython-input-226-42da7a7b30c0>\u001b[0m in \u001b[0;36m<module>\u001b[0;34m\u001b[0m\n\u001b[0;32m----> 1\u001b[0;31m \u001b[0;32mfor\u001b[0m \u001b[0mx\u001b[0m \u001b[0;32min\u001b[0m \u001b[0mtrain\u001b[0m\u001b[0;34m[\u001b[0m\u001b[0;34m'genre'\u001b[0m\u001b[0;34m]\u001b[0m\u001b[0;34m:\u001b[0m\u001b[0;34m\u001b[0m\u001b[0;34m\u001b[0m\u001b[0m\n\u001b[0m\u001b[1;32m      2\u001b[0m     \u001b[0;32mif\u001b[0m \u001b[0mgenre\u001b[0m \u001b[0;32min\u001b[0m \u001b[0mx\u001b[0m\u001b[0;34m:\u001b[0m\u001b[0;34m\u001b[0m\u001b[0;34m\u001b[0m\u001b[0m\n\u001b[1;32m      3\u001b[0m         \u001b[0mprint\u001b[0m\u001b[0;34m(\u001b[0m\u001b[0mx\u001b[0m\u001b[0;34m)\u001b[0m\u001b[0;34m\u001b[0m\u001b[0;34m\u001b[0m\u001b[0m\n",
      "\u001b[0;32m~/opt/anaconda3/envs/learn-env/lib/python3.8/site-packages/pandas/core/frame.py\u001b[0m in \u001b[0;36m__getitem__\u001b[0;34m(self, key)\u001b[0m\n\u001b[1;32m   2900\u001b[0m             \u001b[0;32mif\u001b[0m \u001b[0mself\u001b[0m\u001b[0;34m.\u001b[0m\u001b[0mcolumns\u001b[0m\u001b[0;34m.\u001b[0m\u001b[0mnlevels\u001b[0m \u001b[0;34m>\u001b[0m \u001b[0;36m1\u001b[0m\u001b[0;34m:\u001b[0m\u001b[0;34m\u001b[0m\u001b[0;34m\u001b[0m\u001b[0m\n\u001b[1;32m   2901\u001b[0m                 \u001b[0;32mreturn\u001b[0m \u001b[0mself\u001b[0m\u001b[0;34m.\u001b[0m\u001b[0m_getitem_multilevel\u001b[0m\u001b[0;34m(\u001b[0m\u001b[0mkey\u001b[0m\u001b[0;34m)\u001b[0m\u001b[0;34m\u001b[0m\u001b[0;34m\u001b[0m\u001b[0m\n\u001b[0;32m-> 2902\u001b[0;31m             \u001b[0mindexer\u001b[0m \u001b[0;34m=\u001b[0m \u001b[0mself\u001b[0m\u001b[0;34m.\u001b[0m\u001b[0mcolumns\u001b[0m\u001b[0;34m.\u001b[0m\u001b[0mget_loc\u001b[0m\u001b[0;34m(\u001b[0m\u001b[0mkey\u001b[0m\u001b[0;34m)\u001b[0m\u001b[0;34m\u001b[0m\u001b[0;34m\u001b[0m\u001b[0m\n\u001b[0m\u001b[1;32m   2903\u001b[0m             \u001b[0;32mif\u001b[0m \u001b[0mis_integer\u001b[0m\u001b[0;34m(\u001b[0m\u001b[0mindexer\u001b[0m\u001b[0;34m)\u001b[0m\u001b[0;34m:\u001b[0m\u001b[0;34m\u001b[0m\u001b[0;34m\u001b[0m\u001b[0m\n\u001b[1;32m   2904\u001b[0m                 \u001b[0mindexer\u001b[0m \u001b[0;34m=\u001b[0m \u001b[0;34m[\u001b[0m\u001b[0mindexer\u001b[0m\u001b[0;34m]\u001b[0m\u001b[0;34m\u001b[0m\u001b[0;34m\u001b[0m\u001b[0m\n",
      "\u001b[0;32m~/opt/anaconda3/envs/learn-env/lib/python3.8/site-packages/pandas/core/indexes/base.py\u001b[0m in \u001b[0;36mget_loc\u001b[0;34m(self, key, method, tolerance)\u001b[0m\n\u001b[1;32m   2895\u001b[0m                 \u001b[0;32mreturn\u001b[0m \u001b[0mself\u001b[0m\u001b[0;34m.\u001b[0m\u001b[0m_engine\u001b[0m\u001b[0;34m.\u001b[0m\u001b[0mget_loc\u001b[0m\u001b[0;34m(\u001b[0m\u001b[0mcasted_key\u001b[0m\u001b[0;34m)\u001b[0m\u001b[0;34m\u001b[0m\u001b[0;34m\u001b[0m\u001b[0m\n\u001b[1;32m   2896\u001b[0m             \u001b[0;32mexcept\u001b[0m \u001b[0mKeyError\u001b[0m \u001b[0;32mas\u001b[0m \u001b[0merr\u001b[0m\u001b[0;34m:\u001b[0m\u001b[0;34m\u001b[0m\u001b[0;34m\u001b[0m\u001b[0m\n\u001b[0;32m-> 2897\u001b[0;31m                 \u001b[0;32mraise\u001b[0m \u001b[0mKeyError\u001b[0m\u001b[0;34m(\u001b[0m\u001b[0mkey\u001b[0m\u001b[0;34m)\u001b[0m \u001b[0;32mfrom\u001b[0m \u001b[0merr\u001b[0m\u001b[0;34m\u001b[0m\u001b[0;34m\u001b[0m\u001b[0m\n\u001b[0m\u001b[1;32m   2898\u001b[0m \u001b[0;34m\u001b[0m\u001b[0m\n\u001b[1;32m   2899\u001b[0m         \u001b[0;32mif\u001b[0m \u001b[0mtolerance\u001b[0m \u001b[0;32mis\u001b[0m \u001b[0;32mnot\u001b[0m \u001b[0;32mNone\u001b[0m\u001b[0;34m:\u001b[0m\u001b[0;34m\u001b[0m\u001b[0;34m\u001b[0m\u001b[0m\n",
      "\u001b[0;31mKeyError\u001b[0m: 'genre'"
     ]
    }
   ],
   "source": [
    "for x in train['genre']:\n",
    "    if genre in x:\n",
    "        print(x)"
   ]
  },
  {
   "cell_type": "code",
   "execution_count": 224,
   "metadata": {
    "ExecuteTime": {
     "end_time": "2022-05-10T14:47:16.740044Z",
     "start_time": "2022-05-10T14:47:16.732480Z"
    }
   },
   "outputs": [],
   "source": [
    "if genre in train['genres']:\n",
    "    #print(genre)\n",
    "    print(train['genres'])\n",
    "    "
   ]
  },
  {
   "cell_type": "code",
   "execution_count": 237,
   "metadata": {
    "ExecuteTime": {
     "end_time": "2022-05-10T14:53:40.890233Z",
     "start_time": "2022-05-10T14:53:40.831533Z"
    },
    "scrolled": false
   },
   "outputs": [
    {
     "data": {
      "text/html": [
       "<div>\n",
       "<style scoped>\n",
       "    .dataframe tbody tr th:only-of-type {\n",
       "        vertical-align: middle;\n",
       "    }\n",
       "\n",
       "    .dataframe tbody tr th {\n",
       "        vertical-align: top;\n",
       "    }\n",
       "\n",
       "    .dataframe thead th {\n",
       "        text-align: right;\n",
       "    }\n",
       "</style>\n",
       "<table border=\"1\" class=\"dataframe\">\n",
       "  <thead>\n",
       "    <tr style=\"text-align: right;\">\n",
       "      <th></th>\n",
       "      <th>movieId</th>\n",
       "      <th>genres</th>\n",
       "      <th>Title</th>\n",
       "      <th>year_released</th>\n",
       "      <th>userId</th>\n",
       "      <th>rating</th>\n",
       "      <th>timestamp</th>\n",
       "      <th>est_rating_user10</th>\n",
       "    </tr>\n",
       "  </thead>\n",
       "  <tbody>\n",
       "    <tr>\n",
       "      <th>27780</th>\n",
       "      <td>1250</td>\n",
       "      <td>adventure,drama,war</td>\n",
       "      <td>Bridge on the River Kwai, The</td>\n",
       "      <td>1957</td>\n",
       "      <td>334.0</td>\n",
       "      <td>3.5</td>\n",
       "      <td>2008-10-31 18:28:51</td>\n",
       "      <td>5.0</td>\n",
       "    </tr>\n",
       "    <tr>\n",
       "      <th>96095</th>\n",
       "      <td>104879</td>\n",
       "      <td>drama,mystery,thriller</td>\n",
       "      <td>Prisoners</td>\n",
       "      <td>2013</td>\n",
       "      <td>279.0</td>\n",
       "      <td>5.0</td>\n",
       "      <td>2017-09-26 03:00:11</td>\n",
       "      <td>5.0</td>\n",
       "    </tr>\n",
       "    <tr>\n",
       "      <th>26436</th>\n",
       "      <td>1217</td>\n",
       "      <td>drama,war</td>\n",
       "      <td>Ran</td>\n",
       "      <td>1985</td>\n",
       "      <td>74.0</td>\n",
       "      <td>4.0</td>\n",
       "      <td>2008-04-06 17:12:15</td>\n",
       "      <td>5.0</td>\n",
       "    </tr>\n",
       "    <tr>\n",
       "      <th>41101</th>\n",
       "      <td>2239</td>\n",
       "      <td>comedy,drama</td>\n",
       "      <td>Swept Away</td>\n",
       "      <td>Travolti da un insolito destino nell'azzurro m...</td>\n",
       "      <td>587.0</td>\n",
       "      <td>5.0</td>\n",
       "      <td>2000-03-15 17:05:07</td>\n",
       "      <td>5.0</td>\n",
       "    </tr>\n",
       "    <tr>\n",
       "      <th>62202</th>\n",
       "      <td>4437</td>\n",
       "      <td>horror</td>\n",
       "      <td>Suspiria</td>\n",
       "      <td>1977</td>\n",
       "      <td>606.0</td>\n",
       "      <td>4.0</td>\n",
       "      <td>2007-02-18 01:25:48</td>\n",
       "      <td>5.0</td>\n",
       "    </tr>\n",
       "    <tr>\n",
       "      <th>...</th>\n",
       "      <td>...</td>\n",
       "      <td>...</td>\n",
       "      <td>...</td>\n",
       "      <td>...</td>\n",
       "      <td>...</td>\n",
       "      <td>...</td>\n",
       "      <td>...</td>\n",
       "      <td>...</td>\n",
       "    </tr>\n",
       "    <tr>\n",
       "      <th>71590</th>\n",
       "      <td>6554</td>\n",
       "      <td>comedy,musical</td>\n",
       "      <td>Garage Days</td>\n",
       "      <td>2002</td>\n",
       "      <td>414.0</td>\n",
       "      <td>2.0</td>\n",
       "      <td>2004-11-09 06:07:41</td>\n",
       "      <td>1.0</td>\n",
       "    </tr>\n",
       "    <tr>\n",
       "      <th>85152</th>\n",
       "      <td>53453</td>\n",
       "      <td>action,adventure,fantasy,sci-fi</td>\n",
       "      <td>Starcrash</td>\n",
       "      <td>a.k.a. Star Crash (1978</td>\n",
       "      <td>448.0</td>\n",
       "      <td>0.5</td>\n",
       "      <td>2017-04-16 18:10:40</td>\n",
       "      <td>1.0</td>\n",
       "    </tr>\n",
       "    <tr>\n",
       "      <th>100051</th>\n",
       "      <td>161830</td>\n",
       "      <td>drama,horror,thriller</td>\n",
       "      <td>Body</td>\n",
       "      <td>2015</td>\n",
       "      <td>448.0</td>\n",
       "      <td>1.0</td>\n",
       "      <td>2016-08-29 17:50:10</td>\n",
       "      <td>1.0</td>\n",
       "    </tr>\n",
       "    <tr>\n",
       "      <th>48545</th>\n",
       "      <td>2828</td>\n",
       "      <td>children,comedy</td>\n",
       "      <td>Dudley Do-Right</td>\n",
       "      <td>1999</td>\n",
       "      <td>292.0</td>\n",
       "      <td>1.0</td>\n",
       "      <td>2002-03-06 00:33:21</td>\n",
       "      <td>1.0</td>\n",
       "    </tr>\n",
       "    <tr>\n",
       "      <th>62033</th>\n",
       "      <td>4371</td>\n",
       "      <td>crime,drama</td>\n",
       "      <td>Baby Boy</td>\n",
       "      <td>2001</td>\n",
       "      <td>307.0</td>\n",
       "      <td>0.5</td>\n",
       "      <td>2007-08-02 20:12:49</td>\n",
       "      <td>1.0</td>\n",
       "    </tr>\n",
       "  </tbody>\n",
       "</table>\n",
       "<p>75609 rows × 8 columns</p>\n",
       "</div>"
      ],
      "text/plain": [
       "        movieId                           genres  \\\n",
       "27780      1250              adventure,drama,war   \n",
       "96095    104879           drama,mystery,thriller   \n",
       "26436      1217                        drama,war   \n",
       "41101      2239                     comedy,drama   \n",
       "62202      4437                           horror   \n",
       "...         ...                              ...   \n",
       "71590      6554                   comedy,musical   \n",
       "85152     53453  action,adventure,fantasy,sci-fi   \n",
       "100051   161830            drama,horror,thriller   \n",
       "48545      2828                  children,comedy   \n",
       "62033      4371                      crime,drama   \n",
       "\n",
       "                                 Title  \\\n",
       "27780   Bridge on the River Kwai, The    \n",
       "96095                       Prisoners    \n",
       "26436                             Ran    \n",
       "41101                      Swept Away    \n",
       "62202                        Suspiria    \n",
       "...                                ...   \n",
       "71590                     Garage Days    \n",
       "85152                       Starcrash    \n",
       "100051                           Body    \n",
       "48545                 Dudley Do-Right    \n",
       "62033                        Baby Boy    \n",
       "\n",
       "                                            year_released  userId  rating  \\\n",
       "27780                                                1957   334.0     3.5   \n",
       "96095                                                2013   279.0     5.0   \n",
       "26436                                                1985    74.0     4.0   \n",
       "41101   Travolti da un insolito destino nell'azzurro m...   587.0     5.0   \n",
       "62202                                                1977   606.0     4.0   \n",
       "...                                                   ...     ...     ...   \n",
       "71590                                                2002   414.0     2.0   \n",
       "85152                             a.k.a. Star Crash (1978   448.0     0.5   \n",
       "100051                                               2015   448.0     1.0   \n",
       "48545                                                1999   292.0     1.0   \n",
       "62033                                                2001   307.0     0.5   \n",
       "\n",
       "                 timestamp  est_rating_user10  \n",
       "27780  2008-10-31 18:28:51                5.0  \n",
       "96095  2017-09-26 03:00:11                5.0  \n",
       "26436  2008-04-06 17:12:15                5.0  \n",
       "41101  2000-03-15 17:05:07                5.0  \n",
       "62202  2007-02-18 01:25:48                5.0  \n",
       "...                    ...                ...  \n",
       "71590  2004-11-09 06:07:41                1.0  \n",
       "85152  2017-04-16 18:10:40                1.0  \n",
       "100051 2016-08-29 17:50:10                1.0  \n",
       "48545  2002-03-06 00:33:21                1.0  \n",
       "62033  2007-08-02 20:12:49                1.0  \n",
       "\n",
       "[75609 rows x 8 columns]"
      ]
     },
     "execution_count": 237,
     "metadata": {},
     "output_type": "execute_result"
    }
   ],
   "source": [
    "train #['Title'].head(int(num_recs))"
   ]
  },
  {
   "cell_type": "code",
   "execution_count": 238,
   "metadata": {
    "ExecuteTime": {
     "end_time": "2022-05-10T14:53:51.241209Z",
     "start_time": "2022-05-10T14:53:51.216954Z"
    }
   },
   "outputs": [
    {
     "data": {
      "text/html": [
       "<div>\n",
       "<style scoped>\n",
       "    .dataframe tbody tr th:only-of-type {\n",
       "        vertical-align: middle;\n",
       "    }\n",
       "\n",
       "    .dataframe tbody tr th {\n",
       "        vertical-align: top;\n",
       "    }\n",
       "\n",
       "    .dataframe thead th {\n",
       "        text-align: right;\n",
       "    }\n",
       "</style>\n",
       "<table border=\"1\" class=\"dataframe\">\n",
       "  <thead>\n",
       "    <tr style=\"text-align: right;\">\n",
       "      <th></th>\n",
       "      <th>movieId</th>\n",
       "      <th>genres</th>\n",
       "      <th>Title</th>\n",
       "      <th>year_released</th>\n",
       "      <th>est_rating_user10</th>\n",
       "    </tr>\n",
       "  </thead>\n",
       "  <tbody>\n",
       "    <tr>\n",
       "      <th>1</th>\n",
       "      <td>2</td>\n",
       "      <td>Adventure|Children|Fantasy</td>\n",
       "      <td>Jumanji</td>\n",
       "      <td>1995</td>\n",
       "      <td>3.502769</td>\n",
       "    </tr>\n",
       "    <tr>\n",
       "      <th>36</th>\n",
       "      <td>40</td>\n",
       "      <td>Drama</td>\n",
       "      <td>Cry, the Beloved Country</td>\n",
       "      <td>1995</td>\n",
       "      <td>3.502769</td>\n",
       "    </tr>\n",
       "    <tr>\n",
       "      <th>6</th>\n",
       "      <td>7</td>\n",
       "      <td>Comedy|Romance</td>\n",
       "      <td>Sabrina</td>\n",
       "      <td>1995</td>\n",
       "      <td>3.502769</td>\n",
       "    </tr>\n",
       "    <tr>\n",
       "      <th>7</th>\n",
       "      <td>8</td>\n",
       "      <td>Adventure|Children</td>\n",
       "      <td>Tom and Huck</td>\n",
       "      <td>1995</td>\n",
       "      <td>3.502769</td>\n",
       "    </tr>\n",
       "    <tr>\n",
       "      <th>8</th>\n",
       "      <td>9</td>\n",
       "      <td>Action</td>\n",
       "      <td>Sudden Death</td>\n",
       "      <td>1995</td>\n",
       "      <td>3.502769</td>\n",
       "    </tr>\n",
       "    <tr>\n",
       "      <th>...</th>\n",
       "      <td>...</td>\n",
       "      <td>...</td>\n",
       "      <td>...</td>\n",
       "      <td>...</td>\n",
       "      <td>...</td>\n",
       "    </tr>\n",
       "    <tr>\n",
       "      <th>9727</th>\n",
       "      <td>190213</td>\n",
       "      <td>Drama</td>\n",
       "      <td>John From</td>\n",
       "      <td>2015</td>\n",
       "      <td>NaN</td>\n",
       "    </tr>\n",
       "    <tr>\n",
       "      <th>9729</th>\n",
       "      <td>190219</td>\n",
       "      <td>Animation</td>\n",
       "      <td>Bunny</td>\n",
       "      <td>1998</td>\n",
       "      <td>NaN</td>\n",
       "    </tr>\n",
       "    <tr>\n",
       "      <th>9733</th>\n",
       "      <td>193567</td>\n",
       "      <td>Animation|Drama</td>\n",
       "      <td>anohana: The Flower We Saw That Day - The Movie</td>\n",
       "      <td>2013</td>\n",
       "      <td>NaN</td>\n",
       "    </tr>\n",
       "    <tr>\n",
       "      <th>9736</th>\n",
       "      <td>193579</td>\n",
       "      <td>Documentary</td>\n",
       "      <td>Jon Stewart Has Left the Building</td>\n",
       "      <td>2015</td>\n",
       "      <td>NaN</td>\n",
       "    </tr>\n",
       "    <tr>\n",
       "      <th>9738</th>\n",
       "      <td>193583</td>\n",
       "      <td>Animation|Comedy|Fantasy</td>\n",
       "      <td>No Game No Life: Zero</td>\n",
       "      <td>2017</td>\n",
       "      <td>NaN</td>\n",
       "    </tr>\n",
       "  </tbody>\n",
       "</table>\n",
       "<p>9737 rows × 5 columns</p>\n",
       "</div>"
      ],
      "text/plain": [
       "      movieId                      genres  \\\n",
       "1           2  Adventure|Children|Fantasy   \n",
       "36         40                       Drama   \n",
       "6           7              Comedy|Romance   \n",
       "7           8          Adventure|Children   \n",
       "8           9                      Action   \n",
       "...       ...                         ...   \n",
       "9727   190213                       Drama   \n",
       "9729   190219                   Animation   \n",
       "9733   193567             Animation|Drama   \n",
       "9736   193579                 Documentary   \n",
       "9738   193583    Animation|Comedy|Fantasy   \n",
       "\n",
       "                                                 Title year_released  \\\n",
       "1                                             Jumanji           1995   \n",
       "36                           Cry, the Beloved Country           1995   \n",
       "6                                             Sabrina           1995   \n",
       "7                                        Tom and Huck           1995   \n",
       "8                                        Sudden Death           1995   \n",
       "...                                                ...           ...   \n",
       "9727                                        John From           2015   \n",
       "9729                                            Bunny           1998   \n",
       "9733  anohana: The Flower We Saw That Day - The Movie           2013   \n",
       "9736                Jon Stewart Has Left the Building           2015   \n",
       "9738                            No Game No Life: Zero           2017   \n",
       "\n",
       "      est_rating_user10  \n",
       "1              3.502769  \n",
       "36             3.502769  \n",
       "6              3.502769  \n",
       "7              3.502769  \n",
       "8              3.502769  \n",
       "...                 ...  \n",
       "9727                NaN  \n",
       "9729                NaN  \n",
       "9733                NaN  \n",
       "9736                NaN  \n",
       "9738                NaN  \n",
       "\n",
       "[9737 rows x 5 columns]"
      ]
     },
     "execution_count": 238,
     "metadata": {},
     "output_type": "execute_result"
    }
   ],
   "source": [
    "movies #['Title'].head(int(num_recs))"
   ]
  },
  {
   "cell_type": "code",
   "execution_count": null,
   "metadata": {},
   "outputs": [],
   "source": [
    "movies[]"
   ]
  }
 ],
 "metadata": {
  "kernelspec": {
   "display_name": "Python (learn-env)",
   "language": "python",
   "name": "learn-env"
  },
  "language_info": {
   "codemirror_mode": {
    "name": "ipython",
    "version": 3
   },
   "file_extension": ".py",
   "mimetype": "text/x-python",
   "name": "python",
   "nbconvert_exporter": "python",
   "pygments_lexer": "ipython3",
   "version": "3.8.5"
  },
  "toc": {
   "base_numbering": 1,
   "nav_menu": {},
   "number_sections": true,
   "sideBar": true,
   "skip_h1_title": false,
   "title_cell": "Table of Contents",
   "title_sidebar": "Contents",
   "toc_cell": false,
   "toc_position": {},
   "toc_section_display": true,
   "toc_window_display": false
  },
  "varInspector": {
   "cols": {
    "lenName": 16,
    "lenType": 16,
    "lenVar": 40
   },
   "kernels_config": {
    "python": {
     "delete_cmd_postfix": "",
     "delete_cmd_prefix": "del ",
     "library": "var_list.py",
     "varRefreshCmd": "print(var_dic_list())"
    },
    "r": {
     "delete_cmd_postfix": ") ",
     "delete_cmd_prefix": "rm(",
     "library": "var_list.r",
     "varRefreshCmd": "cat(var_dic_list()) "
    }
   },
   "types_to_exclude": [
    "module",
    "function",
    "builtin_function_or_method",
    "instance",
    "_Feature"
   ],
   "window_display": false
  }
 },
 "nbformat": 4,
 "nbformat_minor": 5
}
