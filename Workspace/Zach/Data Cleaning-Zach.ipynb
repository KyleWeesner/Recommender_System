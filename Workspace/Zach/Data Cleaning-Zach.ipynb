{
 "cells": [
  {
   "cell_type": "markdown",
   "metadata": {},
   "source": [
    "## Imports"
   ]
  },
  {
   "cell_type": "code",
   "execution_count": 1,
   "metadata": {
    "ExecuteTime": {
     "end_time": "2022-05-10T16:47:16.636029Z",
     "start_time": "2022-05-10T16:47:15.496223Z"
    }
   },
   "outputs": [],
   "source": [
    "import pandas as pd\n",
    "\n",
    "import surprise\n",
    "from surprise.prediction_algorithms import *\n",
    "import pandas as pd\n",
    "import numpy as np\n",
    "import datetime as dt\n",
    "\n",
    "from surprise import Dataset\n",
    "from surprise import Reader\n",
    "\n",
    "from surprise.prediction_algorithms import knns\n",
    "from surprise.similarities import cosine, msd, pearson\n",
    "from surprise import accuracy\n",
    "from surprise.model_selection import GridSearchCV\n",
    "from sklearn.model_selection import train_test_split\n",
    "from surprise.model_selection import cross_validate\n",
    "\n",
    "from nltk.tokenize import RegexpTokenizer\n",
    "\n",
    "import pickle "
   ]
  },
  {
   "cell_type": "markdown",
   "metadata": {},
   "source": [
    "## EDA"
   ]
  },
  {
   "cell_type": "code",
   "execution_count": 2,
   "metadata": {
    "ExecuteTime": {
     "end_time": "2022-05-10T16:47:16.652799Z",
     "start_time": "2022-05-10T16:47:16.637225Z"
    }
   },
   "outputs": [],
   "source": [
    "movies = pd.read_csv('../../ml-latest-small/movies.csv')"
   ]
  },
  {
   "cell_type": "code",
   "execution_count": 3,
   "metadata": {
    "ExecuteTime": {
     "end_time": "2022-05-10T16:47:16.659492Z",
     "start_time": "2022-05-10T16:47:16.654516Z"
    }
   },
   "outputs": [],
   "source": [
    "link = pd.read_csv('../../ml-latest-small/links.csv')"
   ]
  },
  {
   "cell_type": "code",
   "execution_count": 4,
   "metadata": {
    "ExecuteTime": {
     "end_time": "2022-05-10T16:47:16.686714Z",
     "start_time": "2022-05-10T16:47:16.660878Z"
    }
   },
   "outputs": [],
   "source": [
    "rating = pd.read_csv('../../ml-latest-small/ratings.csv')"
   ]
  },
  {
   "cell_type": "code",
   "execution_count": 5,
   "metadata": {
    "ExecuteTime": {
     "end_time": "2022-05-10T16:47:16.693700Z",
     "start_time": "2022-05-10T16:47:16.687974Z"
    }
   },
   "outputs": [],
   "source": [
    "tags = pd.read_csv('../../ml-latest-small/tags.csv')"
   ]
  },
  {
   "cell_type": "code",
   "execution_count": 6,
   "metadata": {
    "ExecuteTime": {
     "end_time": "2022-05-10T16:47:16.710189Z",
     "start_time": "2022-05-10T16:47:16.694764Z"
    },
    "scrolled": true
   },
   "outputs": [
    {
     "data": {
      "text/html": [
       "<div>\n",
       "<style scoped>\n",
       "    .dataframe tbody tr th:only-of-type {\n",
       "        vertical-align: middle;\n",
       "    }\n",
       "\n",
       "    .dataframe tbody tr th {\n",
       "        vertical-align: top;\n",
       "    }\n",
       "\n",
       "    .dataframe thead th {\n",
       "        text-align: right;\n",
       "    }\n",
       "</style>\n",
       "<table border=\"1\" class=\"dataframe\">\n",
       "  <thead>\n",
       "    <tr style=\"text-align: right;\">\n",
       "      <th></th>\n",
       "      <th>movieId</th>\n",
       "      <th>title</th>\n",
       "      <th>genres</th>\n",
       "    </tr>\n",
       "  </thead>\n",
       "  <tbody>\n",
       "    <tr>\n",
       "      <th>0</th>\n",
       "      <td>1</td>\n",
       "      <td>Toy Story (1995)</td>\n",
       "      <td>Adventure|Animation|Children|Comedy|Fantasy</td>\n",
       "    </tr>\n",
       "    <tr>\n",
       "      <th>1</th>\n",
       "      <td>2</td>\n",
       "      <td>Jumanji (1995)</td>\n",
       "      <td>Adventure|Children|Fantasy</td>\n",
       "    </tr>\n",
       "    <tr>\n",
       "      <th>2</th>\n",
       "      <td>3</td>\n",
       "      <td>Grumpier Old Men (1995)</td>\n",
       "      <td>Comedy|Romance</td>\n",
       "    </tr>\n",
       "    <tr>\n",
       "      <th>3</th>\n",
       "      <td>4</td>\n",
       "      <td>Waiting to Exhale (1995)</td>\n",
       "      <td>Comedy|Drama|Romance</td>\n",
       "    </tr>\n",
       "    <tr>\n",
       "      <th>4</th>\n",
       "      <td>5</td>\n",
       "      <td>Father of the Bride Part II (1995)</td>\n",
       "      <td>Comedy</td>\n",
       "    </tr>\n",
       "    <tr>\n",
       "      <th>...</th>\n",
       "      <td>...</td>\n",
       "      <td>...</td>\n",
       "      <td>...</td>\n",
       "    </tr>\n",
       "    <tr>\n",
       "      <th>9737</th>\n",
       "      <td>193581</td>\n",
       "      <td>Black Butler: Book of the Atlantic (2017)</td>\n",
       "      <td>Action|Animation|Comedy|Fantasy</td>\n",
       "    </tr>\n",
       "    <tr>\n",
       "      <th>9738</th>\n",
       "      <td>193583</td>\n",
       "      <td>No Game No Life: Zero (2017)</td>\n",
       "      <td>Animation|Comedy|Fantasy</td>\n",
       "    </tr>\n",
       "    <tr>\n",
       "      <th>9739</th>\n",
       "      <td>193585</td>\n",
       "      <td>Flint (2017)</td>\n",
       "      <td>Drama</td>\n",
       "    </tr>\n",
       "    <tr>\n",
       "      <th>9740</th>\n",
       "      <td>193587</td>\n",
       "      <td>Bungo Stray Dogs: Dead Apple (2018)</td>\n",
       "      <td>Action|Animation</td>\n",
       "    </tr>\n",
       "    <tr>\n",
       "      <th>9741</th>\n",
       "      <td>193609</td>\n",
       "      <td>Andrew Dice Clay: Dice Rules (1991)</td>\n",
       "      <td>Comedy</td>\n",
       "    </tr>\n",
       "  </tbody>\n",
       "</table>\n",
       "<p>9742 rows × 3 columns</p>\n",
       "</div>"
      ],
      "text/plain": [
       "      movieId                                      title  \\\n",
       "0           1                           Toy Story (1995)   \n",
       "1           2                             Jumanji (1995)   \n",
       "2           3                    Grumpier Old Men (1995)   \n",
       "3           4                   Waiting to Exhale (1995)   \n",
       "4           5         Father of the Bride Part II (1995)   \n",
       "...       ...                                        ...   \n",
       "9737   193581  Black Butler: Book of the Atlantic (2017)   \n",
       "9738   193583               No Game No Life: Zero (2017)   \n",
       "9739   193585                               Flint (2017)   \n",
       "9740   193587        Bungo Stray Dogs: Dead Apple (2018)   \n",
       "9741   193609        Andrew Dice Clay: Dice Rules (1991)   \n",
       "\n",
       "                                           genres  \n",
       "0     Adventure|Animation|Children|Comedy|Fantasy  \n",
       "1                      Adventure|Children|Fantasy  \n",
       "2                                  Comedy|Romance  \n",
       "3                            Comedy|Drama|Romance  \n",
       "4                                          Comedy  \n",
       "...                                           ...  \n",
       "9737              Action|Animation|Comedy|Fantasy  \n",
       "9738                     Animation|Comedy|Fantasy  \n",
       "9739                                        Drama  \n",
       "9740                             Action|Animation  \n",
       "9741                                       Comedy  \n",
       "\n",
       "[9742 rows x 3 columns]"
      ]
     },
     "execution_count": 6,
     "metadata": {},
     "output_type": "execute_result"
    }
   ],
   "source": [
    "movies"
   ]
  },
  {
   "cell_type": "code",
   "execution_count": 7,
   "metadata": {
    "ExecuteTime": {
     "end_time": "2022-05-10T16:47:16.716164Z",
     "start_time": "2022-05-10T16:47:16.711079Z"
    }
   },
   "outputs": [
    {
     "data": {
      "text/plain": [
       "movieId    0\n",
       "title      0\n",
       "genres     0\n",
       "dtype: int64"
      ]
     },
     "execution_count": 7,
     "metadata": {},
     "output_type": "execute_result"
    }
   ],
   "source": [
    "movies.isna().sum()"
   ]
  },
  {
   "cell_type": "code",
   "execution_count": 8,
   "metadata": {
    "ExecuteTime": {
     "end_time": "2022-05-10T16:47:16.732627Z",
     "start_time": "2022-05-10T16:47:16.719228Z"
    },
    "scrolled": false
   },
   "outputs": [
    {
     "data": {
      "text/plain": [
       "Eros (2004)                               2\n",
       "Saturn 3 (1980)                           2\n",
       "Emma (1996)                               2\n",
       "Confessions of a Dangerous Mind (2002)    2\n",
       "War of the Worlds (2005)                  2\n",
       "                                         ..\n",
       "The Fool (2014)                           1\n",
       "Danny Deckchair (2003)                    1\n",
       "A Street Cat Named Bob (2016)             1\n",
       "Lifeforce (1985)                          1\n",
       "Dance of the Dead (2008)                  1\n",
       "Name: title, Length: 9737, dtype: int64"
      ]
     },
     "execution_count": 8,
     "metadata": {},
     "output_type": "execute_result"
    }
   ],
   "source": [
    "movies.title.value_counts()"
   ]
  },
  {
   "cell_type": "code",
   "execution_count": 9,
   "metadata": {
    "ExecuteTime": {
     "end_time": "2022-05-10T16:47:16.740507Z",
     "start_time": "2022-05-10T16:47:16.735928Z"
    }
   },
   "outputs": [
    {
     "data": {
      "text/plain": [
       "5"
      ]
     },
     "execution_count": 9,
     "metadata": {},
     "output_type": "execute_result"
    }
   ],
   "source": [
    "#Check to see if there are any duplicate titles\n",
    "movies.title.duplicated().sum()"
   ]
  },
  {
   "cell_type": "code",
   "execution_count": 10,
   "metadata": {
    "ExecuteTime": {
     "end_time": "2022-05-10T16:47:16.747631Z",
     "start_time": "2022-05-10T16:47:16.741702Z"
    }
   },
   "outputs": [],
   "source": [
    "#Drop the 5 duplicated movie titles\n",
    "movies.drop_duplicates(subset='title', inplace=True)"
   ]
  },
  {
   "cell_type": "code",
   "execution_count": 11,
   "metadata": {
    "ExecuteTime": {
     "end_time": "2022-05-10T16:47:16.755365Z",
     "start_time": "2022-05-10T16:47:16.750864Z"
    }
   },
   "outputs": [
    {
     "data": {
      "text/plain": [
       "0"
      ]
     },
     "execution_count": 11,
     "metadata": {},
     "output_type": "execute_result"
    }
   ],
   "source": [
    "#Sanity check to ensure all duplicates were dropped from title column\n",
    "\n",
    "movies.title.duplicated().sum()"
   ]
  },
  {
   "cell_type": "code",
   "execution_count": 12,
   "metadata": {
    "ExecuteTime": {
     "end_time": "2022-05-10T16:47:16.764433Z",
     "start_time": "2022-05-10T16:47:16.756447Z"
    }
   },
   "outputs": [
    {
     "data": {
      "text/html": [
       "<div>\n",
       "<style scoped>\n",
       "    .dataframe tbody tr th:only-of-type {\n",
       "        vertical-align: middle;\n",
       "    }\n",
       "\n",
       "    .dataframe tbody tr th {\n",
       "        vertical-align: top;\n",
       "    }\n",
       "\n",
       "    .dataframe thead th {\n",
       "        text-align: right;\n",
       "    }\n",
       "</style>\n",
       "<table border=\"1\" class=\"dataframe\">\n",
       "  <thead>\n",
       "    <tr style=\"text-align: right;\">\n",
       "      <th></th>\n",
       "      <th>movieId</th>\n",
       "      <th>title</th>\n",
       "      <th>genres</th>\n",
       "    </tr>\n",
       "  </thead>\n",
       "  <tbody>\n",
       "  </tbody>\n",
       "</table>\n",
       "</div>"
      ],
      "text/plain": [
       "Empty DataFrame\n",
       "Columns: [movieId, title, genres]\n",
       "Index: []"
      ]
     },
     "execution_count": 12,
     "metadata": {},
     "output_type": "execute_result"
    }
   ],
   "source": [
    "movies[movies.title.duplicated() == True]"
   ]
  },
  {
   "cell_type": "code",
   "execution_count": 13,
   "metadata": {
    "ExecuteTime": {
     "end_time": "2022-05-10T16:47:16.774304Z",
     "start_time": "2022-05-10T16:47:16.765754Z"
    }
   },
   "outputs": [
    {
     "data": {
      "text/plain": [
       "9737"
      ]
     },
     "execution_count": 13,
     "metadata": {},
     "output_type": "execute_result"
    }
   ],
   "source": [
    "#Check length of DataFrame\n",
    "\n",
    "len(movies)"
   ]
  },
  {
   "cell_type": "code",
   "execution_count": 14,
   "metadata": {
    "ExecuteTime": {
     "end_time": "2022-05-10T16:47:16.813929Z",
     "start_time": "2022-05-10T16:47:16.776160Z"
    },
    "scrolled": true
   },
   "outputs": [],
   "source": [
    "# Split title column into two new columns: Title and year \n",
    "\n",
    "movies['Title'] = movies['title'].str.split('(', n=1, expand=True)[0]\n",
    "\n",
    "movies['year_released'] = movies['title'].str.split('(', n=1, expand=True)[1]"
   ]
  },
  {
   "cell_type": "code",
   "execution_count": 15,
   "metadata": {
    "ExecuteTime": {
     "end_time": "2022-05-10T16:47:16.826125Z",
     "start_time": "2022-05-10T16:47:16.817949Z"
    }
   },
   "outputs": [],
   "source": [
    "# Drop original column title\n",
    "\n",
    "movies.drop(columns='title', inplace=True)"
   ]
  },
  {
   "cell_type": "code",
   "execution_count": 16,
   "metadata": {
    "ExecuteTime": {
     "end_time": "2022-05-10T16:47:16.835225Z",
     "start_time": "2022-05-10T16:47:16.827132Z"
    }
   },
   "outputs": [
    {
     "data": {
      "text/html": [
       "<div>\n",
       "<style scoped>\n",
       "    .dataframe tbody tr th:only-of-type {\n",
       "        vertical-align: middle;\n",
       "    }\n",
       "\n",
       "    .dataframe tbody tr th {\n",
       "        vertical-align: top;\n",
       "    }\n",
       "\n",
       "    .dataframe thead th {\n",
       "        text-align: right;\n",
       "    }\n",
       "</style>\n",
       "<table border=\"1\" class=\"dataframe\">\n",
       "  <thead>\n",
       "    <tr style=\"text-align: right;\">\n",
       "      <th></th>\n",
       "      <th>movieId</th>\n",
       "      <th>genres</th>\n",
       "      <th>Title</th>\n",
       "      <th>year_released</th>\n",
       "    </tr>\n",
       "  </thead>\n",
       "  <tbody>\n",
       "    <tr>\n",
       "      <th>0</th>\n",
       "      <td>1</td>\n",
       "      <td>Adventure|Animation|Children|Comedy|Fantasy</td>\n",
       "      <td>Toy Story</td>\n",
       "      <td>1995)</td>\n",
       "    </tr>\n",
       "    <tr>\n",
       "      <th>1</th>\n",
       "      <td>2</td>\n",
       "      <td>Adventure|Children|Fantasy</td>\n",
       "      <td>Jumanji</td>\n",
       "      <td>1995)</td>\n",
       "    </tr>\n",
       "    <tr>\n",
       "      <th>2</th>\n",
       "      <td>3</td>\n",
       "      <td>Comedy|Romance</td>\n",
       "      <td>Grumpier Old Men</td>\n",
       "      <td>1995)</td>\n",
       "    </tr>\n",
       "    <tr>\n",
       "      <th>3</th>\n",
       "      <td>4</td>\n",
       "      <td>Comedy|Drama|Romance</td>\n",
       "      <td>Waiting to Exhale</td>\n",
       "      <td>1995)</td>\n",
       "    </tr>\n",
       "    <tr>\n",
       "      <th>4</th>\n",
       "      <td>5</td>\n",
       "      <td>Comedy</td>\n",
       "      <td>Father of the Bride Part II</td>\n",
       "      <td>1995)</td>\n",
       "    </tr>\n",
       "    <tr>\n",
       "      <th>...</th>\n",
       "      <td>...</td>\n",
       "      <td>...</td>\n",
       "      <td>...</td>\n",
       "      <td>...</td>\n",
       "    </tr>\n",
       "    <tr>\n",
       "      <th>9737</th>\n",
       "      <td>193581</td>\n",
       "      <td>Action|Animation|Comedy|Fantasy</td>\n",
       "      <td>Black Butler: Book of the Atlantic</td>\n",
       "      <td>2017)</td>\n",
       "    </tr>\n",
       "    <tr>\n",
       "      <th>9738</th>\n",
       "      <td>193583</td>\n",
       "      <td>Animation|Comedy|Fantasy</td>\n",
       "      <td>No Game No Life: Zero</td>\n",
       "      <td>2017)</td>\n",
       "    </tr>\n",
       "    <tr>\n",
       "      <th>9739</th>\n",
       "      <td>193585</td>\n",
       "      <td>Drama</td>\n",
       "      <td>Flint</td>\n",
       "      <td>2017)</td>\n",
       "    </tr>\n",
       "    <tr>\n",
       "      <th>9740</th>\n",
       "      <td>193587</td>\n",
       "      <td>Action|Animation</td>\n",
       "      <td>Bungo Stray Dogs: Dead Apple</td>\n",
       "      <td>2018)</td>\n",
       "    </tr>\n",
       "    <tr>\n",
       "      <th>9741</th>\n",
       "      <td>193609</td>\n",
       "      <td>Comedy</td>\n",
       "      <td>Andrew Dice Clay: Dice Rules</td>\n",
       "      <td>1991)</td>\n",
       "    </tr>\n",
       "  </tbody>\n",
       "</table>\n",
       "<p>9737 rows × 4 columns</p>\n",
       "</div>"
      ],
      "text/plain": [
       "      movieId                                       genres  \\\n",
       "0           1  Adventure|Animation|Children|Comedy|Fantasy   \n",
       "1           2                   Adventure|Children|Fantasy   \n",
       "2           3                               Comedy|Romance   \n",
       "3           4                         Comedy|Drama|Romance   \n",
       "4           5                                       Comedy   \n",
       "...       ...                                          ...   \n",
       "9737   193581              Action|Animation|Comedy|Fantasy   \n",
       "9738   193583                     Animation|Comedy|Fantasy   \n",
       "9739   193585                                        Drama   \n",
       "9740   193587                             Action|Animation   \n",
       "9741   193609                                       Comedy   \n",
       "\n",
       "                                    Title year_released  \n",
       "0                              Toy Story          1995)  \n",
       "1                                Jumanji          1995)  \n",
       "2                       Grumpier Old Men          1995)  \n",
       "3                      Waiting to Exhale          1995)  \n",
       "4            Father of the Bride Part II          1995)  \n",
       "...                                   ...           ...  \n",
       "9737  Black Butler: Book of the Atlantic          2017)  \n",
       "9738               No Game No Life: Zero          2017)  \n",
       "9739                               Flint          2017)  \n",
       "9740        Bungo Stray Dogs: Dead Apple          2018)  \n",
       "9741        Andrew Dice Clay: Dice Rules          1991)  \n",
       "\n",
       "[9737 rows x 4 columns]"
      ]
     },
     "execution_count": 16,
     "metadata": {},
     "output_type": "execute_result"
    }
   ],
   "source": [
    "# Sanity Check \n",
    "movies"
   ]
  },
  {
   "cell_type": "code",
   "execution_count": 17,
   "metadata": {
    "ExecuteTime": {
     "end_time": "2022-05-10T16:47:16.847997Z",
     "start_time": "2022-05-10T16:47:16.836547Z"
    }
   },
   "outputs": [],
   "source": [
    "# Format year_released column\n",
    "\n",
    "movies['year_released'] = movies.year_released.str.replace(')', '')"
   ]
  },
  {
   "cell_type": "code",
   "execution_count": 18,
   "metadata": {
    "ExecuteTime": {
     "end_time": "2022-05-10T16:47:16.864268Z",
     "start_time": "2022-05-10T16:47:16.849649Z"
    }
   },
   "outputs": [
    {
     "data": {
      "text/html": [
       "<div>\n",
       "<style scoped>\n",
       "    .dataframe tbody tr th:only-of-type {\n",
       "        vertical-align: middle;\n",
       "    }\n",
       "\n",
       "    .dataframe tbody tr th {\n",
       "        vertical-align: top;\n",
       "    }\n",
       "\n",
       "    .dataframe thead th {\n",
       "        text-align: right;\n",
       "    }\n",
       "</style>\n",
       "<table border=\"1\" class=\"dataframe\">\n",
       "  <thead>\n",
       "    <tr style=\"text-align: right;\">\n",
       "      <th></th>\n",
       "      <th>movieId</th>\n",
       "      <th>genres</th>\n",
       "      <th>Title</th>\n",
       "      <th>year_released</th>\n",
       "    </tr>\n",
       "  </thead>\n",
       "  <tbody>\n",
       "    <tr>\n",
       "      <th>0</th>\n",
       "      <td>1</td>\n",
       "      <td>Adventure|Animation|Children|Comedy|Fantasy</td>\n",
       "      <td>Toy Story</td>\n",
       "      <td>1995</td>\n",
       "    </tr>\n",
       "    <tr>\n",
       "      <th>1</th>\n",
       "      <td>2</td>\n",
       "      <td>Adventure|Children|Fantasy</td>\n",
       "      <td>Jumanji</td>\n",
       "      <td>1995</td>\n",
       "    </tr>\n",
       "    <tr>\n",
       "      <th>2</th>\n",
       "      <td>3</td>\n",
       "      <td>Comedy|Romance</td>\n",
       "      <td>Grumpier Old Men</td>\n",
       "      <td>1995</td>\n",
       "    </tr>\n",
       "    <tr>\n",
       "      <th>3</th>\n",
       "      <td>4</td>\n",
       "      <td>Comedy|Drama|Romance</td>\n",
       "      <td>Waiting to Exhale</td>\n",
       "      <td>1995</td>\n",
       "    </tr>\n",
       "    <tr>\n",
       "      <th>4</th>\n",
       "      <td>5</td>\n",
       "      <td>Comedy</td>\n",
       "      <td>Father of the Bride Part II</td>\n",
       "      <td>1995</td>\n",
       "    </tr>\n",
       "    <tr>\n",
       "      <th>...</th>\n",
       "      <td>...</td>\n",
       "      <td>...</td>\n",
       "      <td>...</td>\n",
       "      <td>...</td>\n",
       "    </tr>\n",
       "    <tr>\n",
       "      <th>9737</th>\n",
       "      <td>193581</td>\n",
       "      <td>Action|Animation|Comedy|Fantasy</td>\n",
       "      <td>Black Butler: Book of the Atlantic</td>\n",
       "      <td>2017</td>\n",
       "    </tr>\n",
       "    <tr>\n",
       "      <th>9738</th>\n",
       "      <td>193583</td>\n",
       "      <td>Animation|Comedy|Fantasy</td>\n",
       "      <td>No Game No Life: Zero</td>\n",
       "      <td>2017</td>\n",
       "    </tr>\n",
       "    <tr>\n",
       "      <th>9739</th>\n",
       "      <td>193585</td>\n",
       "      <td>Drama</td>\n",
       "      <td>Flint</td>\n",
       "      <td>2017</td>\n",
       "    </tr>\n",
       "    <tr>\n",
       "      <th>9740</th>\n",
       "      <td>193587</td>\n",
       "      <td>Action|Animation</td>\n",
       "      <td>Bungo Stray Dogs: Dead Apple</td>\n",
       "      <td>2018</td>\n",
       "    </tr>\n",
       "    <tr>\n",
       "      <th>9741</th>\n",
       "      <td>193609</td>\n",
       "      <td>Comedy</td>\n",
       "      <td>Andrew Dice Clay: Dice Rules</td>\n",
       "      <td>1991</td>\n",
       "    </tr>\n",
       "  </tbody>\n",
       "</table>\n",
       "<p>9737 rows × 4 columns</p>\n",
       "</div>"
      ],
      "text/plain": [
       "      movieId                                       genres  \\\n",
       "0           1  Adventure|Animation|Children|Comedy|Fantasy   \n",
       "1           2                   Adventure|Children|Fantasy   \n",
       "2           3                               Comedy|Romance   \n",
       "3           4                         Comedy|Drama|Romance   \n",
       "4           5                                       Comedy   \n",
       "...       ...                                          ...   \n",
       "9737   193581              Action|Animation|Comedy|Fantasy   \n",
       "9738   193583                     Animation|Comedy|Fantasy   \n",
       "9739   193585                                        Drama   \n",
       "9740   193587                             Action|Animation   \n",
       "9741   193609                                       Comedy   \n",
       "\n",
       "                                    Title year_released  \n",
       "0                              Toy Story           1995  \n",
       "1                                Jumanji           1995  \n",
       "2                       Grumpier Old Men           1995  \n",
       "3                      Waiting to Exhale           1995  \n",
       "4            Father of the Bride Part II           1995  \n",
       "...                                   ...           ...  \n",
       "9737  Black Butler: Book of the Atlantic           2017  \n",
       "9738               No Game No Life: Zero           2017  \n",
       "9739                               Flint           2017  \n",
       "9740        Bungo Stray Dogs: Dead Apple           2018  \n",
       "9741        Andrew Dice Clay: Dice Rules           1991  \n",
       "\n",
       "[9737 rows x 4 columns]"
      ]
     },
     "execution_count": 18,
     "metadata": {},
     "output_type": "execute_result"
    }
   ],
   "source": [
    "# Sanity Check to ensure formatting was completed\n",
    "movies"
   ]
  },
  {
   "cell_type": "code",
   "execution_count": 19,
   "metadata": {
    "ExecuteTime": {
     "end_time": "2022-05-10T16:47:16.874872Z",
     "start_time": "2022-05-10T16:47:16.867076Z"
    }
   },
   "outputs": [
    {
     "data": {
      "text/html": [
       "<div>\n",
       "<style scoped>\n",
       "    .dataframe tbody tr th:only-of-type {\n",
       "        vertical-align: middle;\n",
       "    }\n",
       "\n",
       "    .dataframe tbody tr th {\n",
       "        vertical-align: top;\n",
       "    }\n",
       "\n",
       "    .dataframe thead th {\n",
       "        text-align: right;\n",
       "    }\n",
       "</style>\n",
       "<table border=\"1\" class=\"dataframe\">\n",
       "  <thead>\n",
       "    <tr style=\"text-align: right;\">\n",
       "      <th></th>\n",
       "      <th>movieId</th>\n",
       "      <th>imdbId</th>\n",
       "      <th>tmdbId</th>\n",
       "    </tr>\n",
       "  </thead>\n",
       "  <tbody>\n",
       "    <tr>\n",
       "      <th>0</th>\n",
       "      <td>1</td>\n",
       "      <td>114709</td>\n",
       "      <td>862.0</td>\n",
       "    </tr>\n",
       "    <tr>\n",
       "      <th>1</th>\n",
       "      <td>2</td>\n",
       "      <td>113497</td>\n",
       "      <td>8844.0</td>\n",
       "    </tr>\n",
       "    <tr>\n",
       "      <th>2</th>\n",
       "      <td>3</td>\n",
       "      <td>113228</td>\n",
       "      <td>15602.0</td>\n",
       "    </tr>\n",
       "    <tr>\n",
       "      <th>3</th>\n",
       "      <td>4</td>\n",
       "      <td>114885</td>\n",
       "      <td>31357.0</td>\n",
       "    </tr>\n",
       "    <tr>\n",
       "      <th>4</th>\n",
       "      <td>5</td>\n",
       "      <td>113041</td>\n",
       "      <td>11862.0</td>\n",
       "    </tr>\n",
       "    <tr>\n",
       "      <th>...</th>\n",
       "      <td>...</td>\n",
       "      <td>...</td>\n",
       "      <td>...</td>\n",
       "    </tr>\n",
       "    <tr>\n",
       "      <th>9737</th>\n",
       "      <td>193581</td>\n",
       "      <td>5476944</td>\n",
       "      <td>432131.0</td>\n",
       "    </tr>\n",
       "    <tr>\n",
       "      <th>9738</th>\n",
       "      <td>193583</td>\n",
       "      <td>5914996</td>\n",
       "      <td>445030.0</td>\n",
       "    </tr>\n",
       "    <tr>\n",
       "      <th>9739</th>\n",
       "      <td>193585</td>\n",
       "      <td>6397426</td>\n",
       "      <td>479308.0</td>\n",
       "    </tr>\n",
       "    <tr>\n",
       "      <th>9740</th>\n",
       "      <td>193587</td>\n",
       "      <td>8391976</td>\n",
       "      <td>483455.0</td>\n",
       "    </tr>\n",
       "    <tr>\n",
       "      <th>9741</th>\n",
       "      <td>193609</td>\n",
       "      <td>101726</td>\n",
       "      <td>37891.0</td>\n",
       "    </tr>\n",
       "  </tbody>\n",
       "</table>\n",
       "<p>9742 rows × 3 columns</p>\n",
       "</div>"
      ],
      "text/plain": [
       "      movieId   imdbId    tmdbId\n",
       "0           1   114709     862.0\n",
       "1           2   113497    8844.0\n",
       "2           3   113228   15602.0\n",
       "3           4   114885   31357.0\n",
       "4           5   113041   11862.0\n",
       "...       ...      ...       ...\n",
       "9737   193581  5476944  432131.0\n",
       "9738   193583  5914996  445030.0\n",
       "9739   193585  6397426  479308.0\n",
       "9740   193587  8391976  483455.0\n",
       "9741   193609   101726   37891.0\n",
       "\n",
       "[9742 rows x 3 columns]"
      ]
     },
     "execution_count": 19,
     "metadata": {},
     "output_type": "execute_result"
    }
   ],
   "source": [
    "link"
   ]
  },
  {
   "cell_type": "code",
   "execution_count": 20,
   "metadata": {
    "ExecuteTime": {
     "end_time": "2022-05-10T16:47:16.893421Z",
     "start_time": "2022-05-10T16:47:16.875819Z"
    },
    "scrolled": false
   },
   "outputs": [
    {
     "data": {
      "text/html": [
       "<div>\n",
       "<style scoped>\n",
       "    .dataframe tbody tr th:only-of-type {\n",
       "        vertical-align: middle;\n",
       "    }\n",
       "\n",
       "    .dataframe tbody tr th {\n",
       "        vertical-align: top;\n",
       "    }\n",
       "\n",
       "    .dataframe thead th {\n",
       "        text-align: right;\n",
       "    }\n",
       "</style>\n",
       "<table border=\"1\" class=\"dataframe\">\n",
       "  <thead>\n",
       "    <tr style=\"text-align: right;\">\n",
       "      <th></th>\n",
       "      <th>userId</th>\n",
       "      <th>movieId</th>\n",
       "      <th>rating</th>\n",
       "      <th>timestamp</th>\n",
       "    </tr>\n",
       "  </thead>\n",
       "  <tbody>\n",
       "    <tr>\n",
       "      <th>0</th>\n",
       "      <td>1</td>\n",
       "      <td>1</td>\n",
       "      <td>4.0</td>\n",
       "      <td>964982703</td>\n",
       "    </tr>\n",
       "    <tr>\n",
       "      <th>1</th>\n",
       "      <td>1</td>\n",
       "      <td>3</td>\n",
       "      <td>4.0</td>\n",
       "      <td>964981247</td>\n",
       "    </tr>\n",
       "    <tr>\n",
       "      <th>2</th>\n",
       "      <td>1</td>\n",
       "      <td>6</td>\n",
       "      <td>4.0</td>\n",
       "      <td>964982224</td>\n",
       "    </tr>\n",
       "    <tr>\n",
       "      <th>3</th>\n",
       "      <td>1</td>\n",
       "      <td>47</td>\n",
       "      <td>5.0</td>\n",
       "      <td>964983815</td>\n",
       "    </tr>\n",
       "    <tr>\n",
       "      <th>4</th>\n",
       "      <td>1</td>\n",
       "      <td>50</td>\n",
       "      <td>5.0</td>\n",
       "      <td>964982931</td>\n",
       "    </tr>\n",
       "    <tr>\n",
       "      <th>...</th>\n",
       "      <td>...</td>\n",
       "      <td>...</td>\n",
       "      <td>...</td>\n",
       "      <td>...</td>\n",
       "    </tr>\n",
       "    <tr>\n",
       "      <th>100831</th>\n",
       "      <td>610</td>\n",
       "      <td>166534</td>\n",
       "      <td>4.0</td>\n",
       "      <td>1493848402</td>\n",
       "    </tr>\n",
       "    <tr>\n",
       "      <th>100832</th>\n",
       "      <td>610</td>\n",
       "      <td>168248</td>\n",
       "      <td>5.0</td>\n",
       "      <td>1493850091</td>\n",
       "    </tr>\n",
       "    <tr>\n",
       "      <th>100833</th>\n",
       "      <td>610</td>\n",
       "      <td>168250</td>\n",
       "      <td>5.0</td>\n",
       "      <td>1494273047</td>\n",
       "    </tr>\n",
       "    <tr>\n",
       "      <th>100834</th>\n",
       "      <td>610</td>\n",
       "      <td>168252</td>\n",
       "      <td>5.0</td>\n",
       "      <td>1493846352</td>\n",
       "    </tr>\n",
       "    <tr>\n",
       "      <th>100835</th>\n",
       "      <td>610</td>\n",
       "      <td>170875</td>\n",
       "      <td>3.0</td>\n",
       "      <td>1493846415</td>\n",
       "    </tr>\n",
       "  </tbody>\n",
       "</table>\n",
       "<p>100836 rows × 4 columns</p>\n",
       "</div>"
      ],
      "text/plain": [
       "        userId  movieId  rating   timestamp\n",
       "0            1        1     4.0   964982703\n",
       "1            1        3     4.0   964981247\n",
       "2            1        6     4.0   964982224\n",
       "3            1       47     5.0   964983815\n",
       "4            1       50     5.0   964982931\n",
       "...        ...      ...     ...         ...\n",
       "100831     610   166534     4.0  1493848402\n",
       "100832     610   168248     5.0  1493850091\n",
       "100833     610   168250     5.0  1494273047\n",
       "100834     610   168252     5.0  1493846352\n",
       "100835     610   170875     3.0  1493846415\n",
       "\n",
       "[100836 rows x 4 columns]"
      ]
     },
     "execution_count": 20,
     "metadata": {},
     "output_type": "execute_result"
    }
   ],
   "source": [
    "rating"
   ]
  },
  {
   "cell_type": "code",
   "execution_count": 21,
   "metadata": {
    "ExecuteTime": {
     "end_time": "2022-05-10T16:47:16.910254Z",
     "start_time": "2022-05-10T16:47:16.894614Z"
    },
    "scrolled": true
   },
   "outputs": [],
   "source": [
    "#converted timestamp to datetime\n",
    "rating['timestamp'] = pd.to_datetime(rating['timestamp'], unit='s')"
   ]
  },
  {
   "cell_type": "code",
   "execution_count": 22,
   "metadata": {
    "ExecuteTime": {
     "end_time": "2022-05-10T16:47:16.924904Z",
     "start_time": "2022-05-10T16:47:16.912053Z"
    }
   },
   "outputs": [
    {
     "data": {
      "text/plain": [
       "4.0    0.265957\n",
       "3.0    0.198808\n",
       "5.0    0.131015\n",
       "3.5    0.130271\n",
       "4.5    0.084801\n",
       "2.0    0.074884\n",
       "2.5    0.055040\n",
       "1.0    0.027877\n",
       "1.5    0.017762\n",
       "0.5    0.013586\n",
       "Name: rating, dtype: float64"
      ]
     },
     "execution_count": 22,
     "metadata": {},
     "output_type": "execute_result"
    }
   ],
   "source": [
    "rating.rating.value_counts(normalize=True)"
   ]
  },
  {
   "cell_type": "code",
   "execution_count": 23,
   "metadata": {
    "ExecuteTime": {
     "end_time": "2022-05-10T16:47:16.958454Z",
     "start_time": "2022-05-10T16:47:16.933110Z"
    }
   },
   "outputs": [
    {
     "data": {
      "text/plain": [
       "0"
      ]
     },
     "execution_count": 23,
     "metadata": {},
     "output_type": "execute_result"
    }
   ],
   "source": [
    "rating.duplicated().sum()"
   ]
  },
  {
   "cell_type": "code",
   "execution_count": 24,
   "metadata": {
    "ExecuteTime": {
     "end_time": "2022-05-10T16:47:16.974017Z",
     "start_time": "2022-05-10T16:47:16.960551Z"
    }
   },
   "outputs": [
    {
     "data": {
      "text/plain": [
       "userId       0\n",
       "movieId      0\n",
       "rating       0\n",
       "timestamp    0\n",
       "dtype: int64"
      ]
     },
     "execution_count": 24,
     "metadata": {},
     "output_type": "execute_result"
    }
   ],
   "source": [
    "rating.isna().sum()"
   ]
  },
  {
   "cell_type": "code",
   "execution_count": 25,
   "metadata": {
    "ExecuteTime": {
     "end_time": "2022-05-10T16:47:16.994298Z",
     "start_time": "2022-05-10T16:47:16.975850Z"
    }
   },
   "outputs": [
    {
     "data": {
      "text/html": [
       "<div>\n",
       "<style scoped>\n",
       "    .dataframe tbody tr th:only-of-type {\n",
       "        vertical-align: middle;\n",
       "    }\n",
       "\n",
       "    .dataframe tbody tr th {\n",
       "        vertical-align: top;\n",
       "    }\n",
       "\n",
       "    .dataframe thead th {\n",
       "        text-align: right;\n",
       "    }\n",
       "</style>\n",
       "<table border=\"1\" class=\"dataframe\">\n",
       "  <thead>\n",
       "    <tr style=\"text-align: right;\">\n",
       "      <th></th>\n",
       "      <th>userId</th>\n",
       "      <th>movieId</th>\n",
       "      <th>tag</th>\n",
       "      <th>timestamp</th>\n",
       "    </tr>\n",
       "  </thead>\n",
       "  <tbody>\n",
       "    <tr>\n",
       "      <th>0</th>\n",
       "      <td>2</td>\n",
       "      <td>60756</td>\n",
       "      <td>funny</td>\n",
       "      <td>1445714994</td>\n",
       "    </tr>\n",
       "    <tr>\n",
       "      <th>1</th>\n",
       "      <td>2</td>\n",
       "      <td>60756</td>\n",
       "      <td>Highly quotable</td>\n",
       "      <td>1445714996</td>\n",
       "    </tr>\n",
       "    <tr>\n",
       "      <th>2</th>\n",
       "      <td>2</td>\n",
       "      <td>60756</td>\n",
       "      <td>will ferrell</td>\n",
       "      <td>1445714992</td>\n",
       "    </tr>\n",
       "    <tr>\n",
       "      <th>3</th>\n",
       "      <td>2</td>\n",
       "      <td>89774</td>\n",
       "      <td>Boxing story</td>\n",
       "      <td>1445715207</td>\n",
       "    </tr>\n",
       "    <tr>\n",
       "      <th>4</th>\n",
       "      <td>2</td>\n",
       "      <td>89774</td>\n",
       "      <td>MMA</td>\n",
       "      <td>1445715200</td>\n",
       "    </tr>\n",
       "    <tr>\n",
       "      <th>...</th>\n",
       "      <td>...</td>\n",
       "      <td>...</td>\n",
       "      <td>...</td>\n",
       "      <td>...</td>\n",
       "    </tr>\n",
       "    <tr>\n",
       "      <th>3678</th>\n",
       "      <td>606</td>\n",
       "      <td>7382</td>\n",
       "      <td>for katie</td>\n",
       "      <td>1171234019</td>\n",
       "    </tr>\n",
       "    <tr>\n",
       "      <th>3679</th>\n",
       "      <td>606</td>\n",
       "      <td>7936</td>\n",
       "      <td>austere</td>\n",
       "      <td>1173392334</td>\n",
       "    </tr>\n",
       "    <tr>\n",
       "      <th>3680</th>\n",
       "      <td>610</td>\n",
       "      <td>3265</td>\n",
       "      <td>gun fu</td>\n",
       "      <td>1493843984</td>\n",
       "    </tr>\n",
       "    <tr>\n",
       "      <th>3681</th>\n",
       "      <td>610</td>\n",
       "      <td>3265</td>\n",
       "      <td>heroic bloodshed</td>\n",
       "      <td>1493843978</td>\n",
       "    </tr>\n",
       "    <tr>\n",
       "      <th>3682</th>\n",
       "      <td>610</td>\n",
       "      <td>168248</td>\n",
       "      <td>Heroic Bloodshed</td>\n",
       "      <td>1493844270</td>\n",
       "    </tr>\n",
       "  </tbody>\n",
       "</table>\n",
       "<p>3683 rows × 4 columns</p>\n",
       "</div>"
      ],
      "text/plain": [
       "      userId  movieId               tag   timestamp\n",
       "0          2    60756             funny  1445714994\n",
       "1          2    60756   Highly quotable  1445714996\n",
       "2          2    60756      will ferrell  1445714992\n",
       "3          2    89774      Boxing story  1445715207\n",
       "4          2    89774               MMA  1445715200\n",
       "...      ...      ...               ...         ...\n",
       "3678     606     7382         for katie  1171234019\n",
       "3679     606     7936           austere  1173392334\n",
       "3680     610     3265            gun fu  1493843984\n",
       "3681     610     3265  heroic bloodshed  1493843978\n",
       "3682     610   168248  Heroic Bloodshed  1493844270\n",
       "\n",
       "[3683 rows x 4 columns]"
      ]
     },
     "execution_count": 25,
     "metadata": {},
     "output_type": "execute_result"
    }
   ],
   "source": [
    "tags"
   ]
  },
  {
   "cell_type": "code",
   "execution_count": 26,
   "metadata": {
    "ExecuteTime": {
     "end_time": "2022-05-10T16:47:17.038080Z",
     "start_time": "2022-05-10T16:47:16.998470Z"
    }
   },
   "outputs": [],
   "source": [
    "movie_rating = movies.merge(rating, on='movieId', how='outer')"
   ]
  },
  {
   "cell_type": "code",
   "execution_count": 27,
   "metadata": {
    "ExecuteTime": {
     "end_time": "2022-05-10T16:47:17.055087Z",
     "start_time": "2022-05-10T16:47:17.039038Z"
    }
   },
   "outputs": [
    {
     "data": {
      "text/html": [
       "<div>\n",
       "<style scoped>\n",
       "    .dataframe tbody tr th:only-of-type {\n",
       "        vertical-align: middle;\n",
       "    }\n",
       "\n",
       "    .dataframe tbody tr th {\n",
       "        vertical-align: top;\n",
       "    }\n",
       "\n",
       "    .dataframe thead th {\n",
       "        text-align: right;\n",
       "    }\n",
       "</style>\n",
       "<table border=\"1\" class=\"dataframe\">\n",
       "  <thead>\n",
       "    <tr style=\"text-align: right;\">\n",
       "      <th></th>\n",
       "      <th>movieId</th>\n",
       "      <th>genres</th>\n",
       "      <th>Title</th>\n",
       "      <th>year_released</th>\n",
       "      <th>userId</th>\n",
       "      <th>rating</th>\n",
       "      <th>timestamp</th>\n",
       "    </tr>\n",
       "  </thead>\n",
       "  <tbody>\n",
       "    <tr>\n",
       "      <th>0</th>\n",
       "      <td>1</td>\n",
       "      <td>Adventure|Animation|Children|Comedy|Fantasy</td>\n",
       "      <td>Toy Story</td>\n",
       "      <td>1995</td>\n",
       "      <td>1.0</td>\n",
       "      <td>4.0</td>\n",
       "      <td>2000-07-30 18:45:03</td>\n",
       "    </tr>\n",
       "    <tr>\n",
       "      <th>1</th>\n",
       "      <td>1</td>\n",
       "      <td>Adventure|Animation|Children|Comedy|Fantasy</td>\n",
       "      <td>Toy Story</td>\n",
       "      <td>1995</td>\n",
       "      <td>5.0</td>\n",
       "      <td>4.0</td>\n",
       "      <td>1996-11-08 06:36:02</td>\n",
       "    </tr>\n",
       "    <tr>\n",
       "      <th>2</th>\n",
       "      <td>1</td>\n",
       "      <td>Adventure|Animation|Children|Comedy|Fantasy</td>\n",
       "      <td>Toy Story</td>\n",
       "      <td>1995</td>\n",
       "      <td>7.0</td>\n",
       "      <td>4.5</td>\n",
       "      <td>2005-01-25 06:52:26</td>\n",
       "    </tr>\n",
       "    <tr>\n",
       "      <th>3</th>\n",
       "      <td>1</td>\n",
       "      <td>Adventure|Animation|Children|Comedy|Fantasy</td>\n",
       "      <td>Toy Story</td>\n",
       "      <td>1995</td>\n",
       "      <td>15.0</td>\n",
       "      <td>2.5</td>\n",
       "      <td>2017-11-13 12:59:30</td>\n",
       "    </tr>\n",
       "    <tr>\n",
       "      <th>4</th>\n",
       "      <td>1</td>\n",
       "      <td>Adventure|Animation|Children|Comedy|Fantasy</td>\n",
       "      <td>Toy Story</td>\n",
       "      <td>1995</td>\n",
       "      <td>17.0</td>\n",
       "      <td>4.5</td>\n",
       "      <td>2011-05-18 05:28:03</td>\n",
       "    </tr>\n",
       "    <tr>\n",
       "      <th>...</th>\n",
       "      <td>...</td>\n",
       "      <td>...</td>\n",
       "      <td>...</td>\n",
       "      <td>...</td>\n",
       "      <td>...</td>\n",
       "      <td>...</td>\n",
       "      <td>...</td>\n",
       "    </tr>\n",
       "    <tr>\n",
       "      <th>100849</th>\n",
       "      <td>64997</td>\n",
       "      <td>NaN</td>\n",
       "      <td>NaN</td>\n",
       "      <td>NaN</td>\n",
       "      <td>68.0</td>\n",
       "      <td>2.5</td>\n",
       "      <td>2008-12-28 20:55:15</td>\n",
       "    </tr>\n",
       "    <tr>\n",
       "      <th>100850</th>\n",
       "      <td>144606</td>\n",
       "      <td>NaN</td>\n",
       "      <td>NaN</td>\n",
       "      <td>NaN</td>\n",
       "      <td>111.0</td>\n",
       "      <td>4.0</td>\n",
       "      <td>2018-01-31 23:27:37</td>\n",
       "    </tr>\n",
       "    <tr>\n",
       "      <th>100851</th>\n",
       "      <td>147002</td>\n",
       "      <td>NaN</td>\n",
       "      <td>NaN</td>\n",
       "      <td>NaN</td>\n",
       "      <td>318.0</td>\n",
       "      <td>4.0</td>\n",
       "      <td>2017-08-08 15:45:52</td>\n",
       "    </tr>\n",
       "    <tr>\n",
       "      <th>100852</th>\n",
       "      <td>26958</td>\n",
       "      <td>NaN</td>\n",
       "      <td>NaN</td>\n",
       "      <td>NaN</td>\n",
       "      <td>509.0</td>\n",
       "      <td>3.5</td>\n",
       "      <td>2015-07-04 17:42:33</td>\n",
       "    </tr>\n",
       "    <tr>\n",
       "      <th>100853</th>\n",
       "      <td>168358</td>\n",
       "      <td>NaN</td>\n",
       "      <td>NaN</td>\n",
       "      <td>NaN</td>\n",
       "      <td>514.0</td>\n",
       "      <td>2.5</td>\n",
       "      <td>2018-08-11 00:06:10</td>\n",
       "    </tr>\n",
       "  </tbody>\n",
       "</table>\n",
       "<p>100854 rows × 7 columns</p>\n",
       "</div>"
      ],
      "text/plain": [
       "        movieId                                       genres       Title  \\\n",
       "0             1  Adventure|Animation|Children|Comedy|Fantasy  Toy Story    \n",
       "1             1  Adventure|Animation|Children|Comedy|Fantasy  Toy Story    \n",
       "2             1  Adventure|Animation|Children|Comedy|Fantasy  Toy Story    \n",
       "3             1  Adventure|Animation|Children|Comedy|Fantasy  Toy Story    \n",
       "4             1  Adventure|Animation|Children|Comedy|Fantasy  Toy Story    \n",
       "...         ...                                          ...         ...   \n",
       "100849    64997                                          NaN         NaN   \n",
       "100850   144606                                          NaN         NaN   \n",
       "100851   147002                                          NaN         NaN   \n",
       "100852    26958                                          NaN         NaN   \n",
       "100853   168358                                          NaN         NaN   \n",
       "\n",
       "       year_released  userId  rating           timestamp  \n",
       "0               1995     1.0     4.0 2000-07-30 18:45:03  \n",
       "1               1995     5.0     4.0 1996-11-08 06:36:02  \n",
       "2               1995     7.0     4.5 2005-01-25 06:52:26  \n",
       "3               1995    15.0     2.5 2017-11-13 12:59:30  \n",
       "4               1995    17.0     4.5 2011-05-18 05:28:03  \n",
       "...              ...     ...     ...                 ...  \n",
       "100849           NaN    68.0     2.5 2008-12-28 20:55:15  \n",
       "100850           NaN   111.0     4.0 2018-01-31 23:27:37  \n",
       "100851           NaN   318.0     4.0 2017-08-08 15:45:52  \n",
       "100852           NaN   509.0     3.5 2015-07-04 17:42:33  \n",
       "100853           NaN   514.0     2.5 2018-08-11 00:06:10  \n",
       "\n",
       "[100854 rows x 7 columns]"
      ]
     },
     "execution_count": 27,
     "metadata": {},
     "output_type": "execute_result"
    }
   ],
   "source": [
    "movie_rating"
   ]
  },
  {
   "cell_type": "code",
   "execution_count": 28,
   "metadata": {
    "ExecuteTime": {
     "end_time": "2022-05-10T16:47:17.081956Z",
     "start_time": "2022-05-10T16:47:17.058954Z"
    }
   },
   "outputs": [],
   "source": [
    "movie_rating.dropna(inplace=True)"
   ]
  },
  {
   "cell_type": "code",
   "execution_count": 29,
   "metadata": {
    "ExecuteTime": {
     "end_time": "2022-05-10T16:47:17.123045Z",
     "start_time": "2022-05-10T16:47:17.083224Z"
    },
    "scrolled": true
   },
   "outputs": [],
   "source": [
    "movie_rating['genres']=[row.strip().lower().replace('|',',') for row in movie_rating['genres']]"
   ]
  },
  {
   "cell_type": "code",
   "execution_count": 30,
   "metadata": {
    "ExecuteTime": {
     "end_time": "2022-05-10T16:47:17.130903Z",
     "start_time": "2022-05-10T16:47:17.124448Z"
    }
   },
   "outputs": [
    {
     "data": {
      "text/plain": [
       "610"
      ]
     },
     "execution_count": 30,
     "metadata": {},
     "output_type": "execute_result"
    }
   ],
   "source": [
    "movie_rating['userId'].nunique()"
   ]
  },
  {
   "cell_type": "code",
   "execution_count": 31,
   "metadata": {
    "ExecuteTime": {
     "end_time": "2022-05-10T16:47:17.148585Z",
     "start_time": "2022-05-10T16:47:17.132761Z"
    },
    "scrolled": true
   },
   "outputs": [
    {
     "data": {
      "text/html": [
       "<div>\n",
       "<style scoped>\n",
       "    .dataframe tbody tr th:only-of-type {\n",
       "        vertical-align: middle;\n",
       "    }\n",
       "\n",
       "    .dataframe tbody tr th {\n",
       "        vertical-align: top;\n",
       "    }\n",
       "\n",
       "    .dataframe thead th {\n",
       "        text-align: right;\n",
       "    }\n",
       "</style>\n",
       "<table border=\"1\" class=\"dataframe\">\n",
       "  <thead>\n",
       "    <tr style=\"text-align: right;\">\n",
       "      <th></th>\n",
       "      <th>rating</th>\n",
       "    </tr>\n",
       "  </thead>\n",
       "  <tbody>\n",
       "    <tr>\n",
       "      <th>count</th>\n",
       "      <td>100813.000000</td>\n",
       "    </tr>\n",
       "    <tr>\n",
       "      <th>mean</th>\n",
       "      <td>3.501557</td>\n",
       "    </tr>\n",
       "    <tr>\n",
       "      <th>std</th>\n",
       "      <td>1.042494</td>\n",
       "    </tr>\n",
       "    <tr>\n",
       "      <th>min</th>\n",
       "      <td>0.500000</td>\n",
       "    </tr>\n",
       "    <tr>\n",
       "      <th>25%</th>\n",
       "      <td>3.000000</td>\n",
       "    </tr>\n",
       "    <tr>\n",
       "      <th>50%</th>\n",
       "      <td>3.500000</td>\n",
       "    </tr>\n",
       "    <tr>\n",
       "      <th>75%</th>\n",
       "      <td>4.000000</td>\n",
       "    </tr>\n",
       "    <tr>\n",
       "      <th>max</th>\n",
       "      <td>5.000000</td>\n",
       "    </tr>\n",
       "  </tbody>\n",
       "</table>\n",
       "</div>"
      ],
      "text/plain": [
       "              rating\n",
       "count  100813.000000\n",
       "mean        3.501557\n",
       "std         1.042494\n",
       "min         0.500000\n",
       "25%         3.000000\n",
       "50%         3.500000\n",
       "75%         4.000000\n",
       "max         5.000000"
      ]
     },
     "execution_count": 31,
     "metadata": {},
     "output_type": "execute_result"
    }
   ],
   "source": [
    "stats = movie_rating.filter(['rating', 'timestamp']).describe()\n",
    "stats"
   ]
  },
  {
   "cell_type": "code",
   "execution_count": 32,
   "metadata": {
    "ExecuteTime": {
     "end_time": "2022-05-10T16:47:17.163426Z",
     "start_time": "2022-05-10T16:47:17.152751Z"
    },
    "scrolled": false
   },
   "outputs": [
    {
     "data": {
      "text/html": [
       "<div>\n",
       "<style scoped>\n",
       "    .dataframe tbody tr th:only-of-type {\n",
       "        vertical-align: middle;\n",
       "    }\n",
       "\n",
       "    .dataframe tbody tr th {\n",
       "        vertical-align: top;\n",
       "    }\n",
       "\n",
       "    .dataframe thead th {\n",
       "        text-align: right;\n",
       "    }\n",
       "</style>\n",
       "<table border=\"1\" class=\"dataframe\">\n",
       "  <thead>\n",
       "    <tr style=\"text-align: right;\">\n",
       "      <th></th>\n",
       "      <th>movieId</th>\n",
       "      <th>genres</th>\n",
       "      <th>Title</th>\n",
       "      <th>year_released</th>\n",
       "      <th>userId</th>\n",
       "      <th>rating</th>\n",
       "      <th>timestamp</th>\n",
       "    </tr>\n",
       "  </thead>\n",
       "  <tbody>\n",
       "    <tr>\n",
       "      <th>0</th>\n",
       "      <td>1</td>\n",
       "      <td>adventure,animation,children,comedy,fantasy</td>\n",
       "      <td>Toy Story</td>\n",
       "      <td>1995</td>\n",
       "      <td>1.0</td>\n",
       "      <td>4.0</td>\n",
       "      <td>2000-07-30 18:45:03</td>\n",
       "    </tr>\n",
       "    <tr>\n",
       "      <th>1</th>\n",
       "      <td>1</td>\n",
       "      <td>adventure,animation,children,comedy,fantasy</td>\n",
       "      <td>Toy Story</td>\n",
       "      <td>1995</td>\n",
       "      <td>5.0</td>\n",
       "      <td>4.0</td>\n",
       "      <td>1996-11-08 06:36:02</td>\n",
       "    </tr>\n",
       "    <tr>\n",
       "      <th>2</th>\n",
       "      <td>1</td>\n",
       "      <td>adventure,animation,children,comedy,fantasy</td>\n",
       "      <td>Toy Story</td>\n",
       "      <td>1995</td>\n",
       "      <td>7.0</td>\n",
       "      <td>4.5</td>\n",
       "      <td>2005-01-25 06:52:26</td>\n",
       "    </tr>\n",
       "    <tr>\n",
       "      <th>3</th>\n",
       "      <td>1</td>\n",
       "      <td>adventure,animation,children,comedy,fantasy</td>\n",
       "      <td>Toy Story</td>\n",
       "      <td>1995</td>\n",
       "      <td>15.0</td>\n",
       "      <td>2.5</td>\n",
       "      <td>2017-11-13 12:59:30</td>\n",
       "    </tr>\n",
       "    <tr>\n",
       "      <th>4</th>\n",
       "      <td>1</td>\n",
       "      <td>adventure,animation,children,comedy,fantasy</td>\n",
       "      <td>Toy Story</td>\n",
       "      <td>1995</td>\n",
       "      <td>17.0</td>\n",
       "      <td>4.5</td>\n",
       "      <td>2011-05-18 05:28:03</td>\n",
       "    </tr>\n",
       "    <tr>\n",
       "      <th>...</th>\n",
       "      <td>...</td>\n",
       "      <td>...</td>\n",
       "      <td>...</td>\n",
       "      <td>...</td>\n",
       "      <td>...</td>\n",
       "      <td>...</td>\n",
       "      <td>...</td>\n",
       "    </tr>\n",
       "    <tr>\n",
       "      <th>100843</th>\n",
       "      <td>193581</td>\n",
       "      <td>action,animation,comedy,fantasy</td>\n",
       "      <td>Black Butler: Book of the Atlantic</td>\n",
       "      <td>2017</td>\n",
       "      <td>184.0</td>\n",
       "      <td>4.0</td>\n",
       "      <td>2018-09-16 14:44:42</td>\n",
       "    </tr>\n",
       "    <tr>\n",
       "      <th>100844</th>\n",
       "      <td>193583</td>\n",
       "      <td>animation,comedy,fantasy</td>\n",
       "      <td>No Game No Life: Zero</td>\n",
       "      <td>2017</td>\n",
       "      <td>184.0</td>\n",
       "      <td>3.5</td>\n",
       "      <td>2018-09-16 14:52:25</td>\n",
       "    </tr>\n",
       "    <tr>\n",
       "      <th>100845</th>\n",
       "      <td>193585</td>\n",
       "      <td>drama</td>\n",
       "      <td>Flint</td>\n",
       "      <td>2017</td>\n",
       "      <td>184.0</td>\n",
       "      <td>3.5</td>\n",
       "      <td>2018-09-16 14:56:45</td>\n",
       "    </tr>\n",
       "    <tr>\n",
       "      <th>100846</th>\n",
       "      <td>193587</td>\n",
       "      <td>action,animation</td>\n",
       "      <td>Bungo Stray Dogs: Dead Apple</td>\n",
       "      <td>2018</td>\n",
       "      <td>184.0</td>\n",
       "      <td>3.5</td>\n",
       "      <td>2018-09-16 15:00:21</td>\n",
       "    </tr>\n",
       "    <tr>\n",
       "      <th>100847</th>\n",
       "      <td>193609</td>\n",
       "      <td>comedy</td>\n",
       "      <td>Andrew Dice Clay: Dice Rules</td>\n",
       "      <td>1991</td>\n",
       "      <td>331.0</td>\n",
       "      <td>4.0</td>\n",
       "      <td>2018-09-17 04:13:26</td>\n",
       "    </tr>\n",
       "  </tbody>\n",
       "</table>\n",
       "<p>100813 rows × 7 columns</p>\n",
       "</div>"
      ],
      "text/plain": [
       "        movieId                                       genres  \\\n",
       "0             1  adventure,animation,children,comedy,fantasy   \n",
       "1             1  adventure,animation,children,comedy,fantasy   \n",
       "2             1  adventure,animation,children,comedy,fantasy   \n",
       "3             1  adventure,animation,children,comedy,fantasy   \n",
       "4             1  adventure,animation,children,comedy,fantasy   \n",
       "...         ...                                          ...   \n",
       "100843   193581              action,animation,comedy,fantasy   \n",
       "100844   193583                     animation,comedy,fantasy   \n",
       "100845   193585                                        drama   \n",
       "100846   193587                             action,animation   \n",
       "100847   193609                                       comedy   \n",
       "\n",
       "                                      Title year_released  userId  rating  \\\n",
       "0                                Toy Story           1995     1.0     4.0   \n",
       "1                                Toy Story           1995     5.0     4.0   \n",
       "2                                Toy Story           1995     7.0     4.5   \n",
       "3                                Toy Story           1995    15.0     2.5   \n",
       "4                                Toy Story           1995    17.0     4.5   \n",
       "...                                     ...           ...     ...     ...   \n",
       "100843  Black Butler: Book of the Atlantic           2017   184.0     4.0   \n",
       "100844               No Game No Life: Zero           2017   184.0     3.5   \n",
       "100845                               Flint           2017   184.0     3.5   \n",
       "100846        Bungo Stray Dogs: Dead Apple           2018   184.0     3.5   \n",
       "100847        Andrew Dice Clay: Dice Rules           1991   331.0     4.0   \n",
       "\n",
       "                 timestamp  \n",
       "0      2000-07-30 18:45:03  \n",
       "1      1996-11-08 06:36:02  \n",
       "2      2005-01-25 06:52:26  \n",
       "3      2017-11-13 12:59:30  \n",
       "4      2011-05-18 05:28:03  \n",
       "...                    ...  \n",
       "100843 2018-09-16 14:44:42  \n",
       "100844 2018-09-16 14:52:25  \n",
       "100845 2018-09-16 14:56:45  \n",
       "100846 2018-09-16 15:00:21  \n",
       "100847 2018-09-17 04:13:26  \n",
       "\n",
       "[100813 rows x 7 columns]"
      ]
     },
     "execution_count": 32,
     "metadata": {},
     "output_type": "execute_result"
    }
   ],
   "source": [
    "movie_rating"
   ]
  },
  {
   "cell_type": "code",
   "execution_count": 33,
   "metadata": {
    "ExecuteTime": {
     "end_time": "2022-05-10T16:47:17.172341Z",
     "start_time": "2022-05-10T16:47:17.165912Z"
    }
   },
   "outputs": [],
   "source": [
    "# movie_rating['genres'] = movie_rating['genres'].to_list()"
   ]
  },
  {
   "cell_type": "code",
   "execution_count": 34,
   "metadata": {
    "ExecuteTime": {
     "end_time": "2022-05-10T16:47:17.176235Z",
     "start_time": "2022-05-10T16:47:17.174223Z"
    },
    "scrolled": true
   },
   "outputs": [],
   "source": [
    "# pattern = \"([a-zA-Z]+(?:'[a-z]+)?)\"\n",
    "# tokenizer = RegexpTokenizer(pattern)\n",
    "# movie_rating['genres'] = [tokenizer.tokenize(token) for token in movie_rating['genres']]"
   ]
  },
  {
   "cell_type": "markdown",
   "metadata": {},
   "source": [
    "## Split"
   ]
  },
  {
   "cell_type": "code",
   "execution_count": 35,
   "metadata": {
    "ExecuteTime": {
     "end_time": "2022-05-10T16:47:17.194308Z",
     "start_time": "2022-05-10T16:47:17.177861Z"
    }
   },
   "outputs": [],
   "source": [
    "train, test = train_test_split(movie_rating, random_state=42)"
   ]
  },
  {
   "cell_type": "code",
   "execution_count": 36,
   "metadata": {
    "ExecuteTime": {
     "end_time": "2022-05-10T16:47:17.249249Z",
     "start_time": "2022-05-10T16:47:17.195541Z"
    }
   },
   "outputs": [],
   "source": [
    "reader = Reader(rating_scale=(1, 5))\n",
    "train_data = Dataset.load_from_df(train[['userId', 'movieId', 'rating']], reader)"
   ]
  },
  {
   "cell_type": "code",
   "execution_count": 37,
   "metadata": {
    "ExecuteTime": {
     "end_time": "2022-05-10T16:47:17.278562Z",
     "start_time": "2022-05-10T16:47:17.251221Z"
    }
   },
   "outputs": [],
   "source": [
    "test_data = Dataset.load_from_df(test[['userId', 'movieId', 'rating']], reader)"
   ]
  },
  {
   "cell_type": "markdown",
   "metadata": {},
   "source": [
    "## Tuning"
   ]
  },
  {
   "cell_type": "markdown",
   "metadata": {},
   "source": [
    "### KNNBasics"
   ]
  },
  {
   "cell_type": "code",
   "execution_count": 38,
   "metadata": {
    "ExecuteTime": {
     "end_time": "2022-05-10T15:47:36.647652Z",
     "start_time": "2022-05-10T15:47:10.169120Z"
    },
    "scrolled": true
   },
   "outputs": [
    {
     "name": "stderr",
     "output_type": "stream",
     "text": [
      "[Parallel(n_jobs=1)]: Using backend SequentialBackend with 1 concurrent workers.\n"
     ]
    },
    {
     "name": "stdout",
     "output_type": "stream",
     "text": [
      "Computing the msd similarity matrix...\n",
      "Done computing similarity matrix.\n"
     ]
    },
    {
     "name": "stderr",
     "output_type": "stream",
     "text": [
      "[Parallel(n_jobs=1)]: Done   1 out of   1 | elapsed:    0.5s remaining:    0.0s\n"
     ]
    },
    {
     "name": "stdout",
     "output_type": "stream",
     "text": [
      "Computing the msd similarity matrix...\n",
      "Done computing similarity matrix.\n"
     ]
    },
    {
     "name": "stderr",
     "output_type": "stream",
     "text": [
      "[Parallel(n_jobs=1)]: Done   2 out of   2 | elapsed:    0.9s remaining:    0.0s\n"
     ]
    },
    {
     "name": "stdout",
     "output_type": "stream",
     "text": [
      "Computing the msd similarity matrix...\n",
      "Done computing similarity matrix.\n"
     ]
    },
    {
     "name": "stderr",
     "output_type": "stream",
     "text": [
      "[Parallel(n_jobs=1)]: Done   3 out of   3 | elapsed:    1.4s remaining:    0.0s\n"
     ]
    },
    {
     "name": "stdout",
     "output_type": "stream",
     "text": [
      "Computing the msd similarity matrix...\n",
      "Done computing similarity matrix.\n"
     ]
    },
    {
     "name": "stderr",
     "output_type": "stream",
     "text": [
      "[Parallel(n_jobs=1)]: Done   4 out of   4 | elapsed:    1.9s remaining:    0.0s\n"
     ]
    },
    {
     "name": "stdout",
     "output_type": "stream",
     "text": [
      "Computing the msd similarity matrix...\n",
      "Done computing similarity matrix.\n",
      "Computing the msd similarity matrix...\n",
      "Done computing similarity matrix.\n",
      "Computing the msd similarity matrix...\n",
      "Done computing similarity matrix.\n",
      "Computing the msd similarity matrix...\n",
      "Done computing similarity matrix.\n",
      "Computing the msd similarity matrix...\n",
      "Done computing similarity matrix.\n",
      "Computing the msd similarity matrix...\n",
      "Done computing similarity matrix.\n",
      "Computing the msd similarity matrix...\n",
      "Done computing similarity matrix.\n",
      "Computing the msd similarity matrix...\n",
      "Done computing similarity matrix.\n",
      "Computing the msd similarity matrix...\n",
      "Done computing similarity matrix.\n",
      "Computing the msd similarity matrix...\n",
      "Done computing similarity matrix.\n",
      "Computing the msd similarity matrix...\n",
      "Done computing similarity matrix.\n",
      "Computing the msd similarity matrix...\n",
      "Done computing similarity matrix.\n",
      "Computing the msd similarity matrix...\n",
      "Done computing similarity matrix.\n",
      "Computing the msd similarity matrix...\n",
      "Done computing similarity matrix.\n",
      "Computing the msd similarity matrix...\n",
      "Done computing similarity matrix.\n",
      "Computing the msd similarity matrix...\n",
      "Done computing similarity matrix.\n",
      "Computing the msd similarity matrix...\n",
      "Done computing similarity matrix.\n",
      "Computing the msd similarity matrix...\n",
      "Done computing similarity matrix.\n",
      "Computing the msd similarity matrix...\n",
      "Done computing similarity matrix.\n",
      "Computing the msd similarity matrix...\n",
      "Done computing similarity matrix.\n",
      "Computing the msd similarity matrix...\n",
      "Done computing similarity matrix.\n",
      "Computing the msd similarity matrix...\n",
      "Done computing similarity matrix.\n",
      "Computing the msd similarity matrix...\n",
      "Done computing similarity matrix.\n",
      "Computing the msd similarity matrix...\n",
      "Done computing similarity matrix.\n",
      "Computing the msd similarity matrix...\n",
      "Done computing similarity matrix.\n",
      "Computing the msd similarity matrix...\n",
      "Done computing similarity matrix.\n",
      "Computing the msd similarity matrix...\n",
      "Done computing similarity matrix.\n",
      "Computing the msd similarity matrix...\n",
      "Done computing similarity matrix.\n",
      "Computing the msd similarity matrix...\n",
      "Done computing similarity matrix.\n",
      "Computing the msd similarity matrix...\n",
      "Done computing similarity matrix.\n",
      "Computing the msd similarity matrix...\n",
      "Done computing similarity matrix.\n",
      "Computing the msd similarity matrix...\n",
      "Done computing similarity matrix.\n",
      "Computing the msd similarity matrix...\n",
      "Done computing similarity matrix.\n",
      "Computing the msd similarity matrix...\n",
      "Done computing similarity matrix.\n",
      "Computing the msd similarity matrix...\n",
      "Done computing similarity matrix.\n",
      "Computing the msd similarity matrix...\n",
      "Done computing similarity matrix.\n",
      "Computing the msd similarity matrix...\n",
      "Done computing similarity matrix.\n",
      "Computing the msd similarity matrix...\n",
      "Done computing similarity matrix.\n",
      "Computing the msd similarity matrix...\n",
      "Done computing similarity matrix.\n",
      "Computing the msd similarity matrix...\n",
      "Done computing similarity matrix.\n",
      "Computing the msd similarity matrix...\n",
      "Done computing similarity matrix.\n"
     ]
    },
    {
     "name": "stderr",
     "output_type": "stream",
     "text": [
      "[Parallel(n_jobs=1)]: Done  45 out of  45 | elapsed:   26.1s finished\n"
     ]
    }
   ],
   "source": [
    "param_grid = {'k':[10, 50, 100],'min_k': [1, 5, 10]}\n",
    "base_model = GridSearchCV(KNNBasic,param_grid=param_grid,joblib_verbose=5)\n",
    "base_model.fit(train_data)"
   ]
  },
  {
   "cell_type": "code",
   "execution_count": 39,
   "metadata": {
    "ExecuteTime": {
     "end_time": "2022-05-10T15:47:36.651751Z",
     "start_time": "2022-05-10T15:47:36.648649Z"
    },
    "scrolled": true
   },
   "outputs": [
    {
     "data": {
      "text/plain": [
       "{'rmse': {'k': 10, 'min_k': 5}, 'mae': {'k': 10, 'min_k': 5}}"
      ]
     },
     "execution_count": 39,
     "metadata": {},
     "output_type": "execute_result"
    }
   ],
   "source": [
    "base_model.best_params"
   ]
  },
  {
   "cell_type": "code",
   "execution_count": 40,
   "metadata": {
    "ExecuteTime": {
     "end_time": "2022-05-10T15:47:36.655642Z",
     "start_time": "2022-05-10T15:47:36.653306Z"
    }
   },
   "outputs": [
    {
     "data": {
      "text/plain": [
       "{'rmse': <surprise.prediction_algorithms.knns.KNNBasic at 0x7fe65b4adeb0>,\n",
       " 'mae': <surprise.prediction_algorithms.knns.KNNBasic at 0x7fe65b4adf70>}"
      ]
     },
     "execution_count": 40,
     "metadata": {},
     "output_type": "execute_result"
    }
   ],
   "source": [
    "base_model.best_estimator"
   ]
  },
  {
   "cell_type": "code",
   "execution_count": 41,
   "metadata": {
    "ExecuteTime": {
     "end_time": "2022-05-10T15:47:36.657933Z",
     "start_time": "2022-05-10T15:47:36.656670Z"
    }
   },
   "outputs": [],
   "source": [
    "# param_grid = {'n_factors':[20, 100],'n_epochs': [5, 10], 'lr_all': [0.002, 0.005],\n",
    "#               'reg_all': [0.4, 0.6]}\n",
    "# gs_model = GridSearchCV(SVD,param_grid=param_grid,n_jobs = -1,joblib_verbose=5)\n",
    "# gs_model.fit(jokes)"
   ]
  },
  {
   "cell_type": "markdown",
   "metadata": {},
   "source": [
    "## Cross Validation"
   ]
  },
  {
   "cell_type": "code",
   "execution_count": 48,
   "metadata": {
    "ExecuteTime": {
     "end_time": "2022-05-10T16:29:21.865021Z",
     "start_time": "2022-05-10T16:29:21.854644Z"
    }
   },
   "outputs": [],
   "source": [
    "#instantiate KNN model \n",
    "model1=KNNBasic(k=10, min_k=5)\n"
   ]
  },
  {
   "cell_type": "code",
   "execution_count": 49,
   "metadata": {
    "ExecuteTime": {
     "end_time": "2022-05-10T16:29:26.666883Z",
     "start_time": "2022-05-10T16:29:23.780858Z"
    },
    "scrolled": true
   },
   "outputs": [
    {
     "name": "stdout",
     "output_type": "stream",
     "text": [
      "Computing the msd similarity matrix...\n",
      "Done computing similarity matrix.\n",
      "Computing the msd similarity matrix...\n",
      "Done computing similarity matrix.\n",
      "Computing the msd similarity matrix...\n",
      "Done computing similarity matrix.\n",
      "Computing the msd similarity matrix...\n",
      "Done computing similarity matrix.\n",
      "Computing the msd similarity matrix...\n",
      "Done computing similarity matrix.\n",
      "Evaluating RMSE, MAE of algorithm KNNBasic on 5 split(s).\n",
      "\n",
      "                  Fold 1  Fold 2  Fold 3  Fold 4  Fold 5  Mean    Std     \n",
      "RMSE (testset)    0.9588  0.9598  0.9516  0.9513  0.9542  0.9551  0.0036  \n",
      "MAE (testset)     0.7351  0.7340  0.7300  0.7320  0.7303  0.7323  0.0020  \n",
      "Fit time          0.04    0.05    0.05    0.04    0.04    0.04    0.01    \n",
      "Test time         0.42    0.45    0.55    0.40    0.41    0.45    0.05    \n"
     ]
    },
    {
     "data": {
      "text/plain": [
       "{'test_rmse': array([0.95883482, 0.959756  , 0.9515532 , 0.9512703 , 0.95419506]),\n",
       " 'test_mae': array([0.73506809, 0.73400591, 0.72998074, 0.73202206, 0.73034738]),\n",
       " 'fit_time': (0.03529691696166992,\n",
       "  0.04733395576477051,\n",
       "  0.04931807518005371,\n",
       "  0.04144001007080078,\n",
       "  0.039576053619384766),\n",
       " 'test_time': (0.4208352565765381,\n",
       "  0.45091986656188965,\n",
       "  0.5453548431396484,\n",
       "  0.40152788162231445,\n",
       "  0.4126100540161133)}"
      ]
     },
     "execution_count": 49,
     "metadata": {},
     "output_type": "execute_result"
    }
   ],
   "source": [
    "#instaniatite and perform cross val with training data\n",
    "cross_validate(model1, train_data, measures=['RMSE', 'MAE'], cv=5, verbose=True)"
   ]
  },
  {
   "cell_type": "code",
   "execution_count": 50,
   "metadata": {
    "ExecuteTime": {
     "end_time": "2022-05-10T16:29:31.753400Z",
     "start_time": "2022-05-10T16:29:31.731039Z"
    },
    "scrolled": false
   },
   "outputs": [
    {
     "data": {
      "text/plain": [
       "Prediction(uid=10, iid=20, r_ui=None, est=2.7059151340014385, details={'actual_k': 5, 'was_impossible': False})"
      ]
     },
     "execution_count": 50,
     "metadata": {},
     "output_type": "execute_result"
    }
   ],
   "source": [
    "#use model to predict\n",
    "model1.predict(uid=10, iid = 20)\n",
    "#this model just predicted what user 10 would predict movie 20"
   ]
  },
  {
   "cell_type": "markdown",
   "metadata": {},
   "source": [
    "looking at the output above we can determine that our model predicted that use 10 would rate movie 20 a 2.5 give or take our RSME which is .95."
   ]
  },
  {
   "cell_type": "markdown",
   "metadata": {},
   "source": [
    "## Models"
   ]
  },
  {
   "cell_type": "markdown",
   "metadata": {},
   "source": [
    "### SVD"
   ]
  },
  {
   "cell_type": "code",
   "execution_count": 51,
   "metadata": {
    "ExecuteTime": {
     "end_time": "2022-05-10T16:29:54.183621Z",
     "start_time": "2022-05-10T16:29:54.167800Z"
    }
   },
   "outputs": [],
   "source": [
    "model2 = SVD()"
   ]
  },
  {
   "cell_type": "code",
   "execution_count": 52,
   "metadata": {
    "ExecuteTime": {
     "end_time": "2022-05-10T16:30:14.914925Z",
     "start_time": "2022-05-10T16:29:58.936677Z"
    },
    "scrolled": true
   },
   "outputs": [
    {
     "name": "stdout",
     "output_type": "stream",
     "text": [
      "Evaluating RMSE, MAE of algorithm SVD on 5 split(s).\n",
      "\n",
      "                  Fold 1  Fold 2  Fold 3  Fold 4  Fold 5  Mean    Std     \n",
      "RMSE (testset)    0.8924  0.8806  0.8777  0.8733  0.8777  0.8804  0.0065  \n",
      "MAE (testset)     0.6866  0.6773  0.6756  0.6727  0.6775  0.6779  0.0047  \n",
      "Fit time          3.04    2.97    3.11    2.98    2.87    3.00    0.08    \n",
      "Test time         0.20    0.06    0.09    0.06    0.06    0.10    0.05    \n"
     ]
    },
    {
     "data": {
      "text/plain": [
       "{'test_rmse': array([0.89242912, 0.88059063, 0.87771404, 0.8733405 , 0.87772798]),\n",
       " 'test_mae': array([0.68660044, 0.67726468, 0.67560583, 0.67266015, 0.67752156]),\n",
       " 'fit_time': (3.0398781299591064,\n",
       "  2.971126079559326,\n",
       "  3.1089589595794678,\n",
       "  2.9835081100463867,\n",
       "  2.873904228210449),\n",
       " 'test_time': (0.20312094688415527,\n",
       "  0.0620272159576416,\n",
       "  0.08593201637268066,\n",
       "  0.06340384483337402,\n",
       "  0.06144404411315918)}"
      ]
     },
     "execution_count": 52,
     "metadata": {},
     "output_type": "execute_result"
    }
   ],
   "source": [
    "cross_validate(model2, train_data, measures=['RMSE', 'MAE'], cv=5, verbose=True)"
   ]
  },
  {
   "cell_type": "code",
   "execution_count": 51,
   "metadata": {
    "ExecuteTime": {
     "end_time": "2022-05-10T15:50:30.956956Z",
     "start_time": "2022-05-10T15:49:23.347527Z"
    }
   },
   "outputs": [
    {
     "name": "stderr",
     "output_type": "stream",
     "text": [
      "[Parallel(n_jobs=-2)]: Using backend LokyBackend with 7 concurrent workers.\n",
      "[Parallel(n_jobs=-2)]: Done   4 tasks      | elapsed:    0.7s\n",
      "[Parallel(n_jobs=-2)]: Done  58 tasks      | elapsed:    5.3s\n",
      "[Parallel(n_jobs=-2)]: Done 148 tasks      | elapsed:   17.5s\n",
      "[Parallel(n_jobs=-2)]: Done 274 tasks      | elapsed:   35.8s\n",
      "[Parallel(n_jobs=-2)]: Done 405 out of 405 | elapsed:  1.1min finished\n"
     ]
    }
   ],
   "source": [
    "param_grid = {'n_factors':[10,20,50],'n_epochs': [5, 10, 15], 'lr_all': [0.002,0.005,0.01],\n",
    "             'reg_all': [0.2,0.4,0.6]}\n",
    "gs_model2 = GridSearchCV(SVD,param_grid=param_grid,joblib_verbose=5)\n",
    "gs_model2.fit(train_data)"
   ]
  },
  {
   "cell_type": "code",
   "execution_count": null,
   "metadata": {},
   "outputs": [],
   "source": []
  },
  {
   "cell_type": "code",
   "execution_count": 52,
   "metadata": {
    "ExecuteTime": {
     "end_time": "2022-05-10T15:50:30.961460Z",
     "start_time": "2022-05-10T15:50:30.958389Z"
    }
   },
   "outputs": [
    {
     "data": {
      "text/plain": [
       "{'rmse': {'n_factors': 20, 'n_epochs': 15, 'lr_all': 0.01, 'reg_all': 0.2},\n",
       " 'mae': {'n_factors': 20, 'n_epochs': 15, 'lr_all': 0.01, 'reg_all': 0.2}}"
      ]
     },
     "execution_count": 52,
     "metadata": {},
     "output_type": "execute_result"
    }
   ],
   "source": [
    "gs_model2.best_params"
   ]
  },
  {
   "cell_type": "code",
   "execution_count": 53,
   "metadata": {
    "ExecuteTime": {
     "end_time": "2022-05-10T15:50:32.511709Z",
     "start_time": "2022-05-10T15:50:30.962385Z"
    },
    "scrolled": true
   },
   "outputs": [
    {
     "name": "stdout",
     "output_type": "stream",
     "text": [
      "Evaluating RMSE, MAE of algorithm SVD on 5 split(s).\n",
      "\n",
      "                  Fold 1  Fold 2  Fold 3  Fold 4  Fold 5  Mean    Std     \n",
      "RMSE (testset)    0.8787  0.8756  0.8802  0.8801  0.8712  0.8771  0.0034  \n",
      "MAE (testset)     0.6745  0.6758  0.6753  0.6794  0.6739  0.6758  0.0019  \n",
      "Fit time          0.69    0.70    0.65    0.61    0.71    0.67    0.04    \n",
      "Test time         0.09    0.09    0.06    0.08    0.06    0.08    0.01    \n"
     ]
    },
    {
     "data": {
      "text/plain": [
       "{'test_rmse': array([0.87869201, 0.87555019, 0.880187  , 0.88005202, 0.87120237]),\n",
       " 'test_mae': array([0.67451242, 0.67581994, 0.67528781, 0.67940681, 0.67392675]),\n",
       " 'fit_time': (0.6936919689178467,\n",
       "  0.7033431529998779,\n",
       "  0.6500248908996582,\n",
       "  0.6095118522644043,\n",
       "  0.7063009738922119),\n",
       " 'test_time': (0.08542680740356445,\n",
       "  0.08688211441040039,\n",
       "  0.06186819076538086,\n",
       "  0.08358979225158691,\n",
       "  0.05843400955200195)}"
      ]
     },
     "execution_count": 53,
     "metadata": {},
     "output_type": "execute_result"
    }
   ],
   "source": [
    "cross_validate(SVD(n_factors=10,n_epochs=15,lr_all=0.01,reg_all=0.2), train_data, measures=['RMSE', 'MAE'], \n",
    "               cv=5, verbose=True)"
   ]
  },
  {
   "cell_type": "code",
   "execution_count": 55,
   "metadata": {
    "ExecuteTime": {
     "end_time": "2022-05-10T15:55:06.002662Z",
     "start_time": "2022-05-10T15:51:18.672261Z"
    },
    "collapsed": true
   },
   "outputs": [
    {
     "name": "stderr",
     "output_type": "stream",
     "text": [
      "[Parallel(n_jobs=1)]: Using backend SequentialBackend with 1 concurrent workers.\n",
      "[Parallel(n_jobs=1)]: Done   1 out of   1 | elapsed:    0.6s remaining:    0.0s\n",
      "[Parallel(n_jobs=1)]: Done   2 out of   2 | elapsed:    1.2s remaining:    0.0s\n",
      "[Parallel(n_jobs=1)]: Done   3 out of   3 | elapsed:    1.8s remaining:    0.0s\n",
      "[Parallel(n_jobs=1)]: Done   4 out of   4 | elapsed:    2.4s remaining:    0.0s\n"
     ]
    },
    {
     "ename": "KeyboardInterrupt",
     "evalue": "",
     "output_type": "error",
     "traceback": [
      "\u001b[0;31m---------------------------------------------------------------------------\u001b[0m",
      "\u001b[0;31mKeyboardInterrupt\u001b[0m                         Traceback (most recent call last)",
      "\u001b[0;32m<ipython-input-55-f384d57d698e>\u001b[0m in \u001b[0;36m<module>\u001b[0;34m\u001b[0m\n\u001b[1;32m      2\u001b[0m              'reg_all': [0.1,0.2,0.3]}\n\u001b[1;32m      3\u001b[0m \u001b[0mgs_model2\u001b[0m \u001b[0;34m=\u001b[0m \u001b[0mGridSearchCV\u001b[0m\u001b[0;34m(\u001b[0m\u001b[0mSVD\u001b[0m\u001b[0;34m,\u001b[0m\u001b[0mparam_grid\u001b[0m\u001b[0;34m=\u001b[0m\u001b[0mparam_grid\u001b[0m\u001b[0;34m,\u001b[0m\u001b[0mjoblib_verbose\u001b[0m\u001b[0;34m=\u001b[0m\u001b[0;36m5\u001b[0m\u001b[0;34m)\u001b[0m\u001b[0;34m\u001b[0m\u001b[0;34m\u001b[0m\u001b[0m\n\u001b[0;32m----> 4\u001b[0;31m \u001b[0mgs_model2\u001b[0m\u001b[0;34m.\u001b[0m\u001b[0mfit\u001b[0m\u001b[0;34m(\u001b[0m\u001b[0mtrain_data\u001b[0m\u001b[0;34m)\u001b[0m\u001b[0;34m\u001b[0m\u001b[0;34m\u001b[0m\u001b[0m\n\u001b[0m",
      "\u001b[0;32m~/opt/anaconda3/envs/learn-env/lib/python3.8/site-packages/surprise/model_selection/search.py\u001b[0m in \u001b[0;36mfit\u001b[0;34m(self, data)\u001b[0m\n\u001b[1;32m     86\u001b[0m                                                        cv.split(data))\n\u001b[1;32m     87\u001b[0m         )\n\u001b[0;32m---> 88\u001b[0;31m         out = Parallel(n_jobs=self.n_jobs,\n\u001b[0m\u001b[1;32m     89\u001b[0m                        \u001b[0mpre_dispatch\u001b[0m\u001b[0;34m=\u001b[0m\u001b[0mself\u001b[0m\u001b[0;34m.\u001b[0m\u001b[0mpre_dispatch\u001b[0m\u001b[0;34m,\u001b[0m\u001b[0;34m\u001b[0m\u001b[0;34m\u001b[0m\u001b[0m\n\u001b[1;32m     90\u001b[0m                        verbose=self.joblib_verbose)(delayed_list)\n",
      "\u001b[0;32m~/opt/anaconda3/envs/learn-env/lib/python3.8/site-packages/joblib/parallel.py\u001b[0m in \u001b[0;36m__call__\u001b[0;34m(self, iterable)\u001b[0m\n\u001b[1;32m   1049\u001b[0m                 \u001b[0mself\u001b[0m\u001b[0;34m.\u001b[0m\u001b[0m_iterating\u001b[0m \u001b[0;34m=\u001b[0m \u001b[0mself\u001b[0m\u001b[0;34m.\u001b[0m\u001b[0m_original_iterator\u001b[0m \u001b[0;32mis\u001b[0m \u001b[0;32mnot\u001b[0m \u001b[0;32mNone\u001b[0m\u001b[0;34m\u001b[0m\u001b[0;34m\u001b[0m\u001b[0m\n\u001b[1;32m   1050\u001b[0m \u001b[0;34m\u001b[0m\u001b[0m\n\u001b[0;32m-> 1051\u001b[0;31m             \u001b[0;32mwhile\u001b[0m \u001b[0mself\u001b[0m\u001b[0;34m.\u001b[0m\u001b[0mdispatch_one_batch\u001b[0m\u001b[0;34m(\u001b[0m\u001b[0miterator\u001b[0m\u001b[0;34m)\u001b[0m\u001b[0;34m:\u001b[0m\u001b[0;34m\u001b[0m\u001b[0;34m\u001b[0m\u001b[0m\n\u001b[0m\u001b[1;32m   1052\u001b[0m                 \u001b[0;32mpass\u001b[0m\u001b[0;34m\u001b[0m\u001b[0;34m\u001b[0m\u001b[0m\n\u001b[1;32m   1053\u001b[0m \u001b[0;34m\u001b[0m\u001b[0m\n",
      "\u001b[0;32m~/opt/anaconda3/envs/learn-env/lib/python3.8/site-packages/joblib/parallel.py\u001b[0m in \u001b[0;36mdispatch_one_batch\u001b[0;34m(self, iterator)\u001b[0m\n\u001b[1;32m    864\u001b[0m                 \u001b[0;32mreturn\u001b[0m \u001b[0;32mFalse\u001b[0m\u001b[0;34m\u001b[0m\u001b[0;34m\u001b[0m\u001b[0m\n\u001b[1;32m    865\u001b[0m             \u001b[0;32melse\u001b[0m\u001b[0;34m:\u001b[0m\u001b[0;34m\u001b[0m\u001b[0;34m\u001b[0m\u001b[0m\n\u001b[0;32m--> 866\u001b[0;31m                 \u001b[0mself\u001b[0m\u001b[0;34m.\u001b[0m\u001b[0m_dispatch\u001b[0m\u001b[0;34m(\u001b[0m\u001b[0mtasks\u001b[0m\u001b[0;34m)\u001b[0m\u001b[0;34m\u001b[0m\u001b[0;34m\u001b[0m\u001b[0m\n\u001b[0m\u001b[1;32m    867\u001b[0m                 \u001b[0;32mreturn\u001b[0m \u001b[0;32mTrue\u001b[0m\u001b[0;34m\u001b[0m\u001b[0;34m\u001b[0m\u001b[0m\n\u001b[1;32m    868\u001b[0m \u001b[0;34m\u001b[0m\u001b[0m\n",
      "\u001b[0;32m~/opt/anaconda3/envs/learn-env/lib/python3.8/site-packages/joblib/parallel.py\u001b[0m in \u001b[0;36m_dispatch\u001b[0;34m(self, batch)\u001b[0m\n\u001b[1;32m    782\u001b[0m         \u001b[0;32mwith\u001b[0m \u001b[0mself\u001b[0m\u001b[0;34m.\u001b[0m\u001b[0m_lock\u001b[0m\u001b[0;34m:\u001b[0m\u001b[0;34m\u001b[0m\u001b[0;34m\u001b[0m\u001b[0m\n\u001b[1;32m    783\u001b[0m             \u001b[0mjob_idx\u001b[0m \u001b[0;34m=\u001b[0m \u001b[0mlen\u001b[0m\u001b[0;34m(\u001b[0m\u001b[0mself\u001b[0m\u001b[0;34m.\u001b[0m\u001b[0m_jobs\u001b[0m\u001b[0;34m)\u001b[0m\u001b[0;34m\u001b[0m\u001b[0;34m\u001b[0m\u001b[0m\n\u001b[0;32m--> 784\u001b[0;31m             \u001b[0mjob\u001b[0m \u001b[0;34m=\u001b[0m \u001b[0mself\u001b[0m\u001b[0;34m.\u001b[0m\u001b[0m_backend\u001b[0m\u001b[0;34m.\u001b[0m\u001b[0mapply_async\u001b[0m\u001b[0;34m(\u001b[0m\u001b[0mbatch\u001b[0m\u001b[0;34m,\u001b[0m \u001b[0mcallback\u001b[0m\u001b[0;34m=\u001b[0m\u001b[0mcb\u001b[0m\u001b[0;34m)\u001b[0m\u001b[0;34m\u001b[0m\u001b[0;34m\u001b[0m\u001b[0m\n\u001b[0m\u001b[1;32m    785\u001b[0m             \u001b[0;31m# A job can complete so quickly than its callback is\u001b[0m\u001b[0;34m\u001b[0m\u001b[0;34m\u001b[0m\u001b[0;34m\u001b[0m\u001b[0m\n\u001b[1;32m    786\u001b[0m             \u001b[0;31m# called before we get here, causing self._jobs to\u001b[0m\u001b[0;34m\u001b[0m\u001b[0;34m\u001b[0m\u001b[0;34m\u001b[0m\u001b[0m\n",
      "\u001b[0;32m~/opt/anaconda3/envs/learn-env/lib/python3.8/site-packages/joblib/_parallel_backends.py\u001b[0m in \u001b[0;36mapply_async\u001b[0;34m(self, func, callback)\u001b[0m\n\u001b[1;32m    206\u001b[0m     \u001b[0;32mdef\u001b[0m \u001b[0mapply_async\u001b[0m\u001b[0;34m(\u001b[0m\u001b[0mself\u001b[0m\u001b[0;34m,\u001b[0m \u001b[0mfunc\u001b[0m\u001b[0;34m,\u001b[0m \u001b[0mcallback\u001b[0m\u001b[0;34m=\u001b[0m\u001b[0;32mNone\u001b[0m\u001b[0;34m)\u001b[0m\u001b[0;34m:\u001b[0m\u001b[0;34m\u001b[0m\u001b[0;34m\u001b[0m\u001b[0m\n\u001b[1;32m    207\u001b[0m         \u001b[0;34m\"\"\"Schedule a func to be run\"\"\"\u001b[0m\u001b[0;34m\u001b[0m\u001b[0;34m\u001b[0m\u001b[0m\n\u001b[0;32m--> 208\u001b[0;31m         \u001b[0mresult\u001b[0m \u001b[0;34m=\u001b[0m \u001b[0mImmediateResult\u001b[0m\u001b[0;34m(\u001b[0m\u001b[0mfunc\u001b[0m\u001b[0;34m)\u001b[0m\u001b[0;34m\u001b[0m\u001b[0;34m\u001b[0m\u001b[0m\n\u001b[0m\u001b[1;32m    209\u001b[0m         \u001b[0;32mif\u001b[0m \u001b[0mcallback\u001b[0m\u001b[0;34m:\u001b[0m\u001b[0;34m\u001b[0m\u001b[0;34m\u001b[0m\u001b[0m\n\u001b[1;32m    210\u001b[0m             \u001b[0mcallback\u001b[0m\u001b[0;34m(\u001b[0m\u001b[0mresult\u001b[0m\u001b[0;34m)\u001b[0m\u001b[0;34m\u001b[0m\u001b[0;34m\u001b[0m\u001b[0m\n",
      "\u001b[0;32m~/opt/anaconda3/envs/learn-env/lib/python3.8/site-packages/joblib/_parallel_backends.py\u001b[0m in \u001b[0;36m__init__\u001b[0;34m(self, batch)\u001b[0m\n\u001b[1;32m    570\u001b[0m         \u001b[0;31m# Don't delay the application, to avoid keeping the input\u001b[0m\u001b[0;34m\u001b[0m\u001b[0;34m\u001b[0m\u001b[0;34m\u001b[0m\u001b[0m\n\u001b[1;32m    571\u001b[0m         \u001b[0;31m# arguments in memory\u001b[0m\u001b[0;34m\u001b[0m\u001b[0;34m\u001b[0m\u001b[0;34m\u001b[0m\u001b[0m\n\u001b[0;32m--> 572\u001b[0;31m         \u001b[0mself\u001b[0m\u001b[0;34m.\u001b[0m\u001b[0mresults\u001b[0m \u001b[0;34m=\u001b[0m \u001b[0mbatch\u001b[0m\u001b[0;34m(\u001b[0m\u001b[0;34m)\u001b[0m\u001b[0;34m\u001b[0m\u001b[0;34m\u001b[0m\u001b[0m\n\u001b[0m\u001b[1;32m    573\u001b[0m \u001b[0;34m\u001b[0m\u001b[0m\n\u001b[1;32m    574\u001b[0m     \u001b[0;32mdef\u001b[0m \u001b[0mget\u001b[0m\u001b[0;34m(\u001b[0m\u001b[0mself\u001b[0m\u001b[0;34m)\u001b[0m\u001b[0;34m:\u001b[0m\u001b[0;34m\u001b[0m\u001b[0;34m\u001b[0m\u001b[0m\n",
      "\u001b[0;32m~/opt/anaconda3/envs/learn-env/lib/python3.8/site-packages/joblib/parallel.py\u001b[0m in \u001b[0;36m__call__\u001b[0;34m(self)\u001b[0m\n\u001b[1;32m    260\u001b[0m         \u001b[0;31m# change the default number of processes to -1\u001b[0m\u001b[0;34m\u001b[0m\u001b[0;34m\u001b[0m\u001b[0;34m\u001b[0m\u001b[0m\n\u001b[1;32m    261\u001b[0m         \u001b[0;32mwith\u001b[0m \u001b[0mparallel_backend\u001b[0m\u001b[0;34m(\u001b[0m\u001b[0mself\u001b[0m\u001b[0;34m.\u001b[0m\u001b[0m_backend\u001b[0m\u001b[0;34m,\u001b[0m \u001b[0mn_jobs\u001b[0m\u001b[0;34m=\u001b[0m\u001b[0mself\u001b[0m\u001b[0;34m.\u001b[0m\u001b[0m_n_jobs\u001b[0m\u001b[0;34m)\u001b[0m\u001b[0;34m:\u001b[0m\u001b[0;34m\u001b[0m\u001b[0;34m\u001b[0m\u001b[0m\n\u001b[0;32m--> 262\u001b[0;31m             return [func(*args, **kwargs)\n\u001b[0m\u001b[1;32m    263\u001b[0m                     for func, args, kwargs in self.items]\n\u001b[1;32m    264\u001b[0m \u001b[0;34m\u001b[0m\u001b[0m\n",
      "\u001b[0;32m~/opt/anaconda3/envs/learn-env/lib/python3.8/site-packages/joblib/parallel.py\u001b[0m in \u001b[0;36m<listcomp>\u001b[0;34m(.0)\u001b[0m\n\u001b[1;32m    260\u001b[0m         \u001b[0;31m# change the default number of processes to -1\u001b[0m\u001b[0;34m\u001b[0m\u001b[0;34m\u001b[0m\u001b[0;34m\u001b[0m\u001b[0m\n\u001b[1;32m    261\u001b[0m         \u001b[0;32mwith\u001b[0m \u001b[0mparallel_backend\u001b[0m\u001b[0;34m(\u001b[0m\u001b[0mself\u001b[0m\u001b[0;34m.\u001b[0m\u001b[0m_backend\u001b[0m\u001b[0;34m,\u001b[0m \u001b[0mn_jobs\u001b[0m\u001b[0;34m=\u001b[0m\u001b[0mself\u001b[0m\u001b[0;34m.\u001b[0m\u001b[0m_n_jobs\u001b[0m\u001b[0;34m)\u001b[0m\u001b[0;34m:\u001b[0m\u001b[0;34m\u001b[0m\u001b[0;34m\u001b[0m\u001b[0m\n\u001b[0;32m--> 262\u001b[0;31m             return [func(*args, **kwargs)\n\u001b[0m\u001b[1;32m    263\u001b[0m                     for func, args, kwargs in self.items]\n\u001b[1;32m    264\u001b[0m \u001b[0;34m\u001b[0m\u001b[0m\n",
      "\u001b[0;32m~/opt/anaconda3/envs/learn-env/lib/python3.8/site-packages/surprise/model_selection/validation.py\u001b[0m in \u001b[0;36mfit_and_score\u001b[0;34m(algo, trainset, testset, measures, return_train_measures)\u001b[0m\n\u001b[1;32m    164\u001b[0m \u001b[0;34m\u001b[0m\u001b[0m\n\u001b[1;32m    165\u001b[0m     \u001b[0mstart_fit\u001b[0m \u001b[0;34m=\u001b[0m \u001b[0mtime\u001b[0m\u001b[0;34m.\u001b[0m\u001b[0mtime\u001b[0m\u001b[0;34m(\u001b[0m\u001b[0;34m)\u001b[0m\u001b[0;34m\u001b[0m\u001b[0;34m\u001b[0m\u001b[0m\n\u001b[0;32m--> 166\u001b[0;31m     \u001b[0malgo\u001b[0m\u001b[0;34m.\u001b[0m\u001b[0mfit\u001b[0m\u001b[0;34m(\u001b[0m\u001b[0mtrainset\u001b[0m\u001b[0;34m)\u001b[0m\u001b[0;34m\u001b[0m\u001b[0;34m\u001b[0m\u001b[0m\n\u001b[0m\u001b[1;32m    167\u001b[0m     \u001b[0mfit_time\u001b[0m \u001b[0;34m=\u001b[0m \u001b[0mtime\u001b[0m\u001b[0;34m.\u001b[0m\u001b[0mtime\u001b[0m\u001b[0;34m(\u001b[0m\u001b[0;34m)\u001b[0m \u001b[0;34m-\u001b[0m \u001b[0mstart_fit\u001b[0m\u001b[0;34m\u001b[0m\u001b[0;34m\u001b[0m\u001b[0m\n\u001b[1;32m    168\u001b[0m     \u001b[0mstart_test\u001b[0m \u001b[0;34m=\u001b[0m \u001b[0mtime\u001b[0m\u001b[0;34m.\u001b[0m\u001b[0mtime\u001b[0m\u001b[0;34m(\u001b[0m\u001b[0;34m)\u001b[0m\u001b[0;34m\u001b[0m\u001b[0;34m\u001b[0m\u001b[0m\n",
      "\u001b[0;32m~/opt/anaconda3/envs/learn-env/lib/python3.8/site-packages/surprise/prediction_algorithms/matrix_factorization.pyx\u001b[0m in \u001b[0;36msurprise.prediction_algorithms.matrix_factorization.SVD.fit\u001b[0;34m()\u001b[0m\n",
      "\u001b[0;32m~/opt/anaconda3/envs/learn-env/lib/python3.8/site-packages/surprise/prediction_algorithms/matrix_factorization.pyx\u001b[0m in \u001b[0;36msurprise.prediction_algorithms.matrix_factorization.SVD.sgd\u001b[0;34m()\u001b[0m\n",
      "\u001b[0;32m~/opt/anaconda3/envs/learn-env/lib/python3.8/site-packages/surprise/trainset.py\u001b[0m in \u001b[0;36mall_ratings\u001b[0;34m(self)\u001b[0m\n\u001b[1;32m    187\u001b[0m         \u001b[0;32mfor\u001b[0m \u001b[0mu\u001b[0m\u001b[0;34m,\u001b[0m \u001b[0mu_ratings\u001b[0m \u001b[0;32min\u001b[0m \u001b[0miteritems\u001b[0m\u001b[0;34m(\u001b[0m\u001b[0mself\u001b[0m\u001b[0;34m.\u001b[0m\u001b[0mur\u001b[0m\u001b[0;34m)\u001b[0m\u001b[0;34m:\u001b[0m\u001b[0;34m\u001b[0m\u001b[0;34m\u001b[0m\u001b[0m\n\u001b[1;32m    188\u001b[0m             \u001b[0;32mfor\u001b[0m \u001b[0mi\u001b[0m\u001b[0;34m,\u001b[0m \u001b[0mr\u001b[0m \u001b[0;32min\u001b[0m \u001b[0mu_ratings\u001b[0m\u001b[0;34m:\u001b[0m\u001b[0;34m\u001b[0m\u001b[0;34m\u001b[0m\u001b[0m\n\u001b[0;32m--> 189\u001b[0;31m                 \u001b[0;32myield\u001b[0m \u001b[0mu\u001b[0m\u001b[0;34m,\u001b[0m \u001b[0mi\u001b[0m\u001b[0;34m,\u001b[0m \u001b[0mr\u001b[0m\u001b[0;34m\u001b[0m\u001b[0;34m\u001b[0m\u001b[0m\n\u001b[0m\u001b[1;32m    190\u001b[0m \u001b[0;34m\u001b[0m\u001b[0m\n\u001b[1;32m    191\u001b[0m     \u001b[0;32mdef\u001b[0m \u001b[0mbuild_testset\u001b[0m\u001b[0;34m(\u001b[0m\u001b[0mself\u001b[0m\u001b[0;34m)\u001b[0m\u001b[0;34m:\u001b[0m\u001b[0;34m\u001b[0m\u001b[0;34m\u001b[0m\u001b[0m\n",
      "\u001b[0;31mKeyboardInterrupt\u001b[0m: "
     ]
    }
   ],
   "source": [
    "param_grid = {'n_factors':[5,10,15],'n_epochs': [15, 30, 45], 'lr_all': [0.01,0.05,0.1],\n",
    "             'reg_all': [0.1,0.2,0.3]}\n",
    "gs_model2 = GridSearchCV(SVD,param_grid=param_grid,joblib_verbose=5)\n",
    "gs_model2.fit(train_data)"
   ]
  },
  {
   "cell_type": "code",
   "execution_count": null,
   "metadata": {
    "ExecuteTime": {
     "end_time": "2022-05-10T15:55:06.004167Z",
     "start_time": "2022-05-10T15:51:41.117Z"
    }
   },
   "outputs": [],
   "source": [
    "gs_model2.best_params"
   ]
  },
  {
   "cell_type": "code",
   "execution_count": null,
   "metadata": {
    "ExecuteTime": {
     "end_time": "2022-05-10T15:55:06.004769Z",
     "start_time": "2022-05-10T15:51:41.629Z"
    },
    "scrolled": true
   },
   "outputs": [],
   "source": [
    "cross_validate(SVD(n_factors=5,n_epochs=15,lr_all=0.01,reg_all=0.1), train_data, measures=['RMSE', 'MAE'], \n",
    "               cv=5, verbose=True)"
   ]
  },
  {
   "cell_type": "markdown",
   "metadata": {},
   "source": [
    "### NMF"
   ]
  },
  {
   "cell_type": "code",
   "execution_count": 42,
   "metadata": {
    "ExecuteTime": {
     "end_time": "2022-05-10T16:48:28.276743Z",
     "start_time": "2022-05-10T16:48:28.267081Z"
    }
   },
   "outputs": [],
   "source": [
    "model3 = NMF()"
   ]
  },
  {
   "cell_type": "code",
   "execution_count": 43,
   "metadata": {
    "ExecuteTime": {
     "end_time": "2022-05-10T16:48:45.857065Z",
     "start_time": "2022-05-10T16:48:29.762523Z"
    }
   },
   "outputs": [
    {
     "name": "stdout",
     "output_type": "stream",
     "text": [
      "Evaluating RMSE, MAE of algorithm NMF on 5 split(s).\n",
      "\n",
      "                  Fold 1  Fold 2  Fold 3  Fold 4  Fold 5  Mean    Std     \n",
      "RMSE (testset)    0.9398  0.9391  0.9340  0.9513  0.9339  0.9396  0.0064  \n",
      "MAE (testset)     0.7252  0.7212  0.7160  0.7282  0.7188  0.7219  0.0044  \n",
      "Fit time          3.24    3.01    3.01    3.02    3.02    3.06    0.09    \n",
      "Test time         0.11    0.05    0.05    0.09    0.05    0.07    0.02    \n"
     ]
    },
    {
     "data": {
      "text/plain": [
       "{'test_rmse': array([0.93984413, 0.93910374, 0.93398797, 0.9513296 , 0.9338885 ]),\n",
       " 'test_mae': array([0.72518286, 0.72124777, 0.71596247, 0.72822217, 0.71880044]),\n",
       " 'fit_time': (3.240769863128662,\n",
       "  3.0081989765167236,\n",
       "  3.013028860092163,\n",
       "  3.021505117416382,\n",
       "  3.0191800594329834),\n",
       " 'test_time': (0.10989117622375488,\n",
       "  0.05228900909423828,\n",
       "  0.051406145095825195,\n",
       "  0.09004521369934082,\n",
       "  0.05221915245056152)}"
      ]
     },
     "execution_count": 43,
     "metadata": {},
     "output_type": "execute_result"
    }
   ],
   "source": [
    "cross_validate(model3, train_data, measures=['RMSE', 'MAE'], cv=5, verbose=True)"
   ]
  },
  {
   "cell_type": "code",
   "execution_count": null,
   "metadata": {
    "ExecuteTime": {
     "end_time": "2022-05-10T15:50:55.214125Z",
     "start_time": "2022-05-10T15:49:07.716Z"
    }
   },
   "outputs": [],
   "source": [
    "param_grid = {'n_factors':[10,15,20],'n_epochs': [25, 50, 75]}\n",
    "gs_model3 = GridSearchCV(NMF,param_grid=param_grid,joblib_verbose=5)\n",
    "gs_model3.fit(train_data)"
   ]
  },
  {
   "cell_type": "code",
   "execution_count": null,
   "metadata": {
    "ExecuteTime": {
     "end_time": "2022-05-10T15:50:55.214555Z",
     "start_time": "2022-05-10T15:49:07.717Z"
    },
    "scrolled": true
   },
   "outputs": [],
   "source": [
    "gs_model3.best_params"
   ]
  },
  {
   "cell_type": "code",
   "execution_count": null,
   "metadata": {
    "ExecuteTime": {
     "end_time": "2022-05-10T15:50:55.215149Z",
     "start_time": "2022-05-10T15:49:07.718Z"
    }
   },
   "outputs": [],
   "source": [
    "cross_validate(NMF(n_factors=10,n_epochs=25), train_data, measures=['RMSE', 'MAE'], \n",
    "               cv=5, verbose=True,  n_jobs= -2)"
   ]
  },
  {
   "cell_type": "code",
   "execution_count": null,
   "metadata": {
    "ExecuteTime": {
     "end_time": "2022-05-10T15:50:55.215713Z",
     "start_time": "2022-05-10T15:49:07.719Z"
    }
   },
   "outputs": [],
   "source": [
    "param_grid = {'n_factors':[3,5,10],'n_epochs': [15, 20, 25]}\n",
    "gs_model3 = GridSearchCV(NMF,param_grid=param_grid,joblib_verbose=5)\n",
    "gs_model3.fit(train_data)"
   ]
  },
  {
   "cell_type": "code",
   "execution_count": null,
   "metadata": {
    "ExecuteTime": {
     "end_time": "2022-05-10T15:50:55.216194Z",
     "start_time": "2022-05-10T15:49:07.720Z"
    }
   },
   "outputs": [],
   "source": [
    "gs_model3.best_params"
   ]
  },
  {
   "cell_type": "markdown",
   "metadata": {},
   "source": [
    "## Deployment "
   ]
  },
  {
   "cell_type": "code",
   "execution_count": 44,
   "metadata": {
    "ExecuteTime": {
     "end_time": "2022-05-10T16:48:47.872191Z",
     "start_time": "2022-05-10T16:48:47.045597Z"
    }
   },
   "outputs": [],
   "source": [
    "train['est_rating_user10'] = train['movieId'].apply(lambda x: model3.predict(train.userId[10], x).est)\n",
    "train.sort_values(by='est_rating_user10', ascending=False, inplace=True)"
   ]
  },
  {
   "cell_type": "code",
   "execution_count": 45,
   "metadata": {
    "ExecuteTime": {
     "end_time": "2022-05-10T16:48:49.743304Z",
     "start_time": "2022-05-10T16:48:49.715557Z"
    }
   },
   "outputs": [
    {
     "data": {
      "text/html": [
       "<div>\n",
       "<style scoped>\n",
       "    .dataframe tbody tr th:only-of-type {\n",
       "        vertical-align: middle;\n",
       "    }\n",
       "\n",
       "    .dataframe tbody tr th {\n",
       "        vertical-align: top;\n",
       "    }\n",
       "\n",
       "    .dataframe thead th {\n",
       "        text-align: right;\n",
       "    }\n",
       "</style>\n",
       "<table border=\"1\" class=\"dataframe\">\n",
       "  <thead>\n",
       "    <tr style=\"text-align: right;\">\n",
       "      <th></th>\n",
       "      <th>movieId</th>\n",
       "      <th>genres</th>\n",
       "      <th>Title</th>\n",
       "      <th>year_released</th>\n",
       "      <th>userId</th>\n",
       "      <th>rating</th>\n",
       "      <th>timestamp</th>\n",
       "      <th>est_rating_user10</th>\n",
       "    </tr>\n",
       "  </thead>\n",
       "  <tbody>\n",
       "    <tr>\n",
       "      <th>6584</th>\n",
       "      <td>247</td>\n",
       "      <td>crime,drama</td>\n",
       "      <td>Heavenly Creatures</td>\n",
       "      <td>1994</td>\n",
       "      <td>600.0</td>\n",
       "      <td>4.5</td>\n",
       "      <td>2009-03-22 09:51:34</td>\n",
       "      <td>5.0</td>\n",
       "    </tr>\n",
       "    <tr>\n",
       "      <th>74809</th>\n",
       "      <td>7371</td>\n",
       "      <td>drama,mystery,thriller</td>\n",
       "      <td>Dogville</td>\n",
       "      <td>2003</td>\n",
       "      <td>237.0</td>\n",
       "      <td>3.5</td>\n",
       "      <td>2014-09-13 18:19:32</td>\n",
       "      <td>5.0</td>\n",
       "    </tr>\n",
       "    <tr>\n",
       "      <th>74811</th>\n",
       "      <td>7371</td>\n",
       "      <td>drama,mystery,thriller</td>\n",
       "      <td>Dogville</td>\n",
       "      <td>2003</td>\n",
       "      <td>298.0</td>\n",
       "      <td>1.5</td>\n",
       "      <td>2015-11-15 04:04:04</td>\n",
       "      <td>5.0</td>\n",
       "    </tr>\n",
       "    <tr>\n",
       "      <th>96345</th>\n",
       "      <td>106642</td>\n",
       "      <td>adventure,drama,sci-fi</td>\n",
       "      <td>Day of the Doctor, The</td>\n",
       "      <td>2013</td>\n",
       "      <td>509.0</td>\n",
       "      <td>4.0</td>\n",
       "      <td>2015-07-04 06:58:34</td>\n",
       "      <td>5.0</td>\n",
       "    </tr>\n",
       "    <tr>\n",
       "      <th>60364</th>\n",
       "      <td>4144</td>\n",
       "      <td>drama,romance</td>\n",
       "      <td>In the Mood For Love</td>\n",
       "      <td>Fa yeung nin wa (2000</td>\n",
       "      <td>490.0</td>\n",
       "      <td>4.5</td>\n",
       "      <td>2012-04-20 16:45:36</td>\n",
       "      <td>5.0</td>\n",
       "    </tr>\n",
       "    <tr>\n",
       "      <th>...</th>\n",
       "      <td>...</td>\n",
       "      <td>...</td>\n",
       "      <td>...</td>\n",
       "      <td>...</td>\n",
       "      <td>...</td>\n",
       "      <td>...</td>\n",
       "      <td>...</td>\n",
       "      <td>...</td>\n",
       "    </tr>\n",
       "    <tr>\n",
       "      <th>40457</th>\n",
       "      <td>2149</td>\n",
       "      <td>comedy,fantasy,horror</td>\n",
       "      <td>House II: The Second Story</td>\n",
       "      <td>1987</td>\n",
       "      <td>555.0</td>\n",
       "      <td>1.0</td>\n",
       "      <td>2001-01-06 23:26:55</td>\n",
       "      <td>1.0</td>\n",
       "    </tr>\n",
       "    <tr>\n",
       "      <th>58096</th>\n",
       "      <td>3909</td>\n",
       "      <td>comedy,romance</td>\n",
       "      <td>Woman on Top</td>\n",
       "      <td>2000</td>\n",
       "      <td>391.0</td>\n",
       "      <td>2.0</td>\n",
       "      <td>2002-08-31 20:23:59</td>\n",
       "      <td>1.0</td>\n",
       "    </tr>\n",
       "    <tr>\n",
       "      <th>55743</th>\n",
       "      <td>3596</td>\n",
       "      <td>comedy</td>\n",
       "      <td>Screwed</td>\n",
       "      <td>2000</td>\n",
       "      <td>448.0</td>\n",
       "      <td>1.0</td>\n",
       "      <td>2003-02-03 11:34:49</td>\n",
       "      <td>1.0</td>\n",
       "    </tr>\n",
       "    <tr>\n",
       "      <th>64421</th>\n",
       "      <td>4932</td>\n",
       "      <td>mystery,thriller</td>\n",
       "      <td>Dressed to Kill</td>\n",
       "      <td>1980</td>\n",
       "      <td>198.0</td>\n",
       "      <td>1.0</td>\n",
       "      <td>2002-10-09 04:50:38</td>\n",
       "      <td>1.0</td>\n",
       "    </tr>\n",
       "    <tr>\n",
       "      <th>85853</th>\n",
       "      <td>55241</td>\n",
       "      <td>comedy</td>\n",
       "      <td>Mr. Woodcock</td>\n",
       "      <td>2007</td>\n",
       "      <td>298.0</td>\n",
       "      <td>0.5</td>\n",
       "      <td>2016-06-18 19:24:04</td>\n",
       "      <td>1.0</td>\n",
       "    </tr>\n",
       "  </tbody>\n",
       "</table>\n",
       "<p>75609 rows × 8 columns</p>\n",
       "</div>"
      ],
      "text/plain": [
       "       movieId                  genres                        Title  \\\n",
       "6584       247             crime,drama          Heavenly Creatures    \n",
       "74809     7371  drama,mystery,thriller                    Dogville    \n",
       "74811     7371  drama,mystery,thriller                    Dogville    \n",
       "96345   106642  adventure,drama,sci-fi      Day of the Doctor, The    \n",
       "60364     4144           drama,romance        In the Mood For Love    \n",
       "...        ...                     ...                          ...   \n",
       "40457     2149   comedy,fantasy,horror  House II: The Second Story    \n",
       "58096     3909          comedy,romance                Woman on Top    \n",
       "55743     3596                  comedy                     Screwed    \n",
       "64421     4932        mystery,thriller             Dressed to Kill    \n",
       "85853    55241                  comedy                Mr. Woodcock    \n",
       "\n",
       "               year_released  userId  rating           timestamp  \\\n",
       "6584                    1994   600.0     4.5 2009-03-22 09:51:34   \n",
       "74809                   2003   237.0     3.5 2014-09-13 18:19:32   \n",
       "74811                   2003   298.0     1.5 2015-11-15 04:04:04   \n",
       "96345                   2013   509.0     4.0 2015-07-04 06:58:34   \n",
       "60364  Fa yeung nin wa (2000   490.0     4.5 2012-04-20 16:45:36   \n",
       "...                      ...     ...     ...                 ...   \n",
       "40457                   1987   555.0     1.0 2001-01-06 23:26:55   \n",
       "58096                   2000   391.0     2.0 2002-08-31 20:23:59   \n",
       "55743                   2000   448.0     1.0 2003-02-03 11:34:49   \n",
       "64421                   1980   198.0     1.0 2002-10-09 04:50:38   \n",
       "85853                   2007   298.0     0.5 2016-06-18 19:24:04   \n",
       "\n",
       "       est_rating_user10  \n",
       "6584                 5.0  \n",
       "74809                5.0  \n",
       "74811                5.0  \n",
       "96345                5.0  \n",
       "60364                5.0  \n",
       "...                  ...  \n",
       "40457                1.0  \n",
       "58096                1.0  \n",
       "55743                1.0  \n",
       "64421                1.0  \n",
       "85853                1.0  \n",
       "\n",
       "[75609 rows x 8 columns]"
      ]
     },
     "execution_count": 45,
     "metadata": {},
     "output_type": "execute_result"
    }
   ],
   "source": [
    "train"
   ]
  },
  {
   "cell_type": "code",
   "execution_count": 46,
   "metadata": {
    "ExecuteTime": {
     "end_time": "2022-05-10T16:49:01.188248Z",
     "start_time": "2022-05-10T16:48:50.446696Z"
    }
   },
   "outputs": [
    {
     "name": "stdout",
     "output_type": "stream",
     "text": [
      "userId: 15\n",
      "What genres are you interested in? drama\n",
      "How many recomendations would you like? 10\n"
     ]
    }
   ],
   "source": [
    "user = input('userId: ')\n",
    "genre = input('What genres are you interested in? ')\n",
    "num_recs = input('How many recomendations would you like? ')"
   ]
  },
  {
   "cell_type": "code",
   "execution_count": 72,
   "metadata": {
    "ExecuteTime": {
     "end_time": "2022-05-10T16:37:28.501200Z",
     "start_time": "2022-05-10T16:37:28.433433Z"
    }
   },
   "outputs": [
    {
     "name": "stdout",
     "output_type": "stream",
     "text": [
      "<class 'pandas.core.frame.DataFrame'>\n",
      "Int64Index: 75609 entries, 5825 to 55744\n",
      "Data columns (total 8 columns):\n",
      " #   Column             Non-Null Count  Dtype         \n",
      "---  ------             --------------  -----         \n",
      " 0   movieId            75609 non-null  int64         \n",
      " 1   genres             75609 non-null  object        \n",
      " 2   Title              75609 non-null  object        \n",
      " 3   year_released      75609 non-null  object        \n",
      " 4   userId             75609 non-null  float64       \n",
      " 5   rating             75609 non-null  float64       \n",
      " 6   timestamp          75609 non-null  datetime64[ns]\n",
      " 7   est_rating_user10  75609 non-null  float64       \n",
      "dtypes: datetime64[ns](1), float64(3), int64(1), object(3)\n",
      "memory usage: 7.7+ MB\n"
     ]
    }
   ],
   "source": [
    "train.info()"
   ]
  },
  {
   "cell_type": "code",
   "execution_count": 88,
   "metadata": {
    "ExecuteTime": {
     "end_time": "2022-05-10T16:39:56.092913Z",
     "start_time": "2022-05-10T16:39:56.083668Z"
    }
   },
   "outputs": [
    {
     "data": {
      "text/plain": [
       "'comedy'"
      ]
     },
     "execution_count": 88,
     "metadata": {},
     "output_type": "execute_result"
    }
   ],
   "source": [
    "genre"
   ]
  },
  {
   "cell_type": "code",
   "execution_count": 47,
   "metadata": {
    "ExecuteTime": {
     "end_time": "2022-05-10T16:49:04.935213Z",
     "start_time": "2022-05-10T16:49:04.861919Z"
    },
    "scrolled": true
   },
   "outputs": [],
   "source": [
    "genre_df = train[train['genres'].str.contains(genre)]"
   ]
  },
  {
   "cell_type": "code",
   "execution_count": 48,
   "metadata": {
    "ExecuteTime": {
     "end_time": "2022-05-10T16:49:05.394901Z",
     "start_time": "2022-05-10T16:49:05.364471Z"
    }
   },
   "outputs": [
    {
     "data": {
      "text/html": [
       "<div>\n",
       "<style scoped>\n",
       "    .dataframe tbody tr th:only-of-type {\n",
       "        vertical-align: middle;\n",
       "    }\n",
       "\n",
       "    .dataframe tbody tr th {\n",
       "        vertical-align: top;\n",
       "    }\n",
       "\n",
       "    .dataframe thead th {\n",
       "        text-align: right;\n",
       "    }\n",
       "</style>\n",
       "<table border=\"1\" class=\"dataframe\">\n",
       "  <thead>\n",
       "    <tr style=\"text-align: right;\">\n",
       "      <th></th>\n",
       "      <th>movieId</th>\n",
       "      <th>genres</th>\n",
       "      <th>Title</th>\n",
       "      <th>year_released</th>\n",
       "      <th>userId</th>\n",
       "      <th>rating</th>\n",
       "      <th>timestamp</th>\n",
       "      <th>est_rating_user10</th>\n",
       "    </tr>\n",
       "  </thead>\n",
       "  <tbody>\n",
       "    <tr>\n",
       "      <th>6584</th>\n",
       "      <td>247</td>\n",
       "      <td>crime,drama</td>\n",
       "      <td>Heavenly Creatures</td>\n",
       "      <td>1994</td>\n",
       "      <td>600.0</td>\n",
       "      <td>4.5</td>\n",
       "      <td>2009-03-22 09:51:34</td>\n",
       "      <td>5.0</td>\n",
       "    </tr>\n",
       "    <tr>\n",
       "      <th>74809</th>\n",
       "      <td>7371</td>\n",
       "      <td>drama,mystery,thriller</td>\n",
       "      <td>Dogville</td>\n",
       "      <td>2003</td>\n",
       "      <td>237.0</td>\n",
       "      <td>3.5</td>\n",
       "      <td>2014-09-13 18:19:32</td>\n",
       "      <td>5.0</td>\n",
       "    </tr>\n",
       "    <tr>\n",
       "      <th>74811</th>\n",
       "      <td>7371</td>\n",
       "      <td>drama,mystery,thriller</td>\n",
       "      <td>Dogville</td>\n",
       "      <td>2003</td>\n",
       "      <td>298.0</td>\n",
       "      <td>1.5</td>\n",
       "      <td>2015-11-15 04:04:04</td>\n",
       "      <td>5.0</td>\n",
       "    </tr>\n",
       "    <tr>\n",
       "      <th>96345</th>\n",
       "      <td>106642</td>\n",
       "      <td>adventure,drama,sci-fi</td>\n",
       "      <td>Day of the Doctor, The</td>\n",
       "      <td>2013</td>\n",
       "      <td>509.0</td>\n",
       "      <td>4.0</td>\n",
       "      <td>2015-07-04 06:58:34</td>\n",
       "      <td>5.0</td>\n",
       "    </tr>\n",
       "    <tr>\n",
       "      <th>60364</th>\n",
       "      <td>4144</td>\n",
       "      <td>drama,romance</td>\n",
       "      <td>In the Mood For Love</td>\n",
       "      <td>Fa yeung nin wa (2000</td>\n",
       "      <td>490.0</td>\n",
       "      <td>4.5</td>\n",
       "      <td>2012-04-20 16:45:36</td>\n",
       "      <td>5.0</td>\n",
       "    </tr>\n",
       "    <tr>\n",
       "      <th>...</th>\n",
       "      <td>...</td>\n",
       "      <td>...</td>\n",
       "      <td>...</td>\n",
       "      <td>...</td>\n",
       "      <td>...</td>\n",
       "      <td>...</td>\n",
       "      <td>...</td>\n",
       "      <td>...</td>\n",
       "    </tr>\n",
       "    <tr>\n",
       "      <th>43561</th>\n",
       "      <td>2417</td>\n",
       "      <td>comedy,drama</td>\n",
       "      <td>Heartburn</td>\n",
       "      <td>1986</td>\n",
       "      <td>603.0</td>\n",
       "      <td>1.0</td>\n",
       "      <td>2000-03-24 20:03:23</td>\n",
       "      <td>1.0</td>\n",
       "    </tr>\n",
       "    <tr>\n",
       "      <th>13062</th>\n",
       "      <td>476</td>\n",
       "      <td>comedy,drama</td>\n",
       "      <td>Inkwell, The</td>\n",
       "      <td>1994</td>\n",
       "      <td>266.0</td>\n",
       "      <td>1.0</td>\n",
       "      <td>1999-12-20 05:53:25</td>\n",
       "      <td>1.0</td>\n",
       "    </tr>\n",
       "    <tr>\n",
       "      <th>50062</th>\n",
       "      <td>2964</td>\n",
       "      <td>drama</td>\n",
       "      <td>Julien Donkey-Boy</td>\n",
       "      <td>1999</td>\n",
       "      <td>275.0</td>\n",
       "      <td>1.0</td>\n",
       "      <td>2003-03-31 02:47:13</td>\n",
       "      <td>1.0</td>\n",
       "    </tr>\n",
       "    <tr>\n",
       "      <th>92313</th>\n",
       "      <td>82684</td>\n",
       "      <td>drama</td>\n",
       "      <td>Trash Humpers</td>\n",
       "      <td>2009</td>\n",
       "      <td>567.0</td>\n",
       "      <td>0.5</td>\n",
       "      <td>2018-05-02 19:38:36</td>\n",
       "      <td>1.0</td>\n",
       "    </tr>\n",
       "    <tr>\n",
       "      <th>33764</th>\n",
       "      <td>1624</td>\n",
       "      <td>drama</td>\n",
       "      <td>Thousand Acres, A</td>\n",
       "      <td>1997</td>\n",
       "      <td>606.0</td>\n",
       "      <td>2.5</td>\n",
       "      <td>2007-06-24 13:26:12</td>\n",
       "      <td>1.0</td>\n",
       "    </tr>\n",
       "  </tbody>\n",
       "</table>\n",
       "<p>31364 rows × 8 columns</p>\n",
       "</div>"
      ],
      "text/plain": [
       "       movieId                  genres                    Title  \\\n",
       "6584       247             crime,drama      Heavenly Creatures    \n",
       "74809     7371  drama,mystery,thriller                Dogville    \n",
       "74811     7371  drama,mystery,thriller                Dogville    \n",
       "96345   106642  adventure,drama,sci-fi  Day of the Doctor, The    \n",
       "60364     4144           drama,romance    In the Mood For Love    \n",
       "...        ...                     ...                      ...   \n",
       "43561     2417            comedy,drama               Heartburn    \n",
       "13062      476            comedy,drama            Inkwell, The    \n",
       "50062     2964                   drama       Julien Donkey-Boy    \n",
       "92313    82684                   drama           Trash Humpers    \n",
       "33764     1624                   drama       Thousand Acres, A    \n",
       "\n",
       "               year_released  userId  rating           timestamp  \\\n",
       "6584                    1994   600.0     4.5 2009-03-22 09:51:34   \n",
       "74809                   2003   237.0     3.5 2014-09-13 18:19:32   \n",
       "74811                   2003   298.0     1.5 2015-11-15 04:04:04   \n",
       "96345                   2013   509.0     4.0 2015-07-04 06:58:34   \n",
       "60364  Fa yeung nin wa (2000   490.0     4.5 2012-04-20 16:45:36   \n",
       "...                      ...     ...     ...                 ...   \n",
       "43561                   1986   603.0     1.0 2000-03-24 20:03:23   \n",
       "13062                   1994   266.0     1.0 1999-12-20 05:53:25   \n",
       "50062                   1999   275.0     1.0 2003-03-31 02:47:13   \n",
       "92313                   2009   567.0     0.5 2018-05-02 19:38:36   \n",
       "33764                   1997   606.0     2.5 2007-06-24 13:26:12   \n",
       "\n",
       "       est_rating_user10  \n",
       "6584                 5.0  \n",
       "74809                5.0  \n",
       "74811                5.0  \n",
       "96345                5.0  \n",
       "60364                5.0  \n",
       "...                  ...  \n",
       "43561                1.0  \n",
       "13062                1.0  \n",
       "50062                1.0  \n",
       "92313                1.0  \n",
       "33764                1.0  \n",
       "\n",
       "[31364 rows x 8 columns]"
      ]
     },
     "execution_count": 48,
     "metadata": {},
     "output_type": "execute_result"
    }
   ],
   "source": [
    "genre_df"
   ]
  },
  {
   "cell_type": "code",
   "execution_count": 49,
   "metadata": {
    "ExecuteTime": {
     "end_time": "2022-05-10T16:49:09.416377Z",
     "start_time": "2022-05-10T16:49:09.118846Z"
    }
   },
   "outputs": [],
   "source": [
    "movies['est_rating_user10'] = train['movieId'].apply(lambda x: model3.predict(uid=user, iid=x).est)\n",
    "movies.sort_values(by='est_rating_user10', ascending=False, inplace=True) "
   ]
  },
  {
   "cell_type": "code",
   "execution_count": 50,
   "metadata": {
    "ExecuteTime": {
     "end_time": "2022-05-10T16:49:11.708127Z",
     "start_time": "2022-05-10T16:49:11.684208Z"
    }
   },
   "outputs": [
    {
     "data": {
      "text/html": [
       "<div>\n",
       "<style scoped>\n",
       "    .dataframe tbody tr th:only-of-type {\n",
       "        vertical-align: middle;\n",
       "    }\n",
       "\n",
       "    .dataframe tbody tr th {\n",
       "        vertical-align: top;\n",
       "    }\n",
       "\n",
       "    .dataframe thead th {\n",
       "        text-align: right;\n",
       "    }\n",
       "</style>\n",
       "<table border=\"1\" class=\"dataframe\">\n",
       "  <thead>\n",
       "    <tr style=\"text-align: right;\">\n",
       "      <th></th>\n",
       "      <th>movieId</th>\n",
       "      <th>genres</th>\n",
       "      <th>Title</th>\n",
       "      <th>year_released</th>\n",
       "      <th>est_rating_user10</th>\n",
       "    </tr>\n",
       "  </thead>\n",
       "  <tbody>\n",
       "    <tr>\n",
       "      <th>0</th>\n",
       "      <td>1</td>\n",
       "      <td>Adventure|Animation|Children|Comedy|Fantasy</td>\n",
       "      <td>Toy Story</td>\n",
       "      <td>1995</td>\n",
       "      <td>3.497272</td>\n",
       "    </tr>\n",
       "    <tr>\n",
       "      <th>6464</th>\n",
       "      <td>52604</td>\n",
       "      <td>Crime|Drama|Mystery|Thriller</td>\n",
       "      <td>Fracture</td>\n",
       "      <td>2007</td>\n",
       "      <td>3.497272</td>\n",
       "    </tr>\n",
       "    <tr>\n",
       "      <th>6462</th>\n",
       "      <td>52462</td>\n",
       "      <td>Action|Adventure|Animation|Comedy|Fantasy|Myst...</td>\n",
       "      <td>Aqua Teen Hunger Force Colon Movie Film for Th...</td>\n",
       "      <td>2007</td>\n",
       "      <td>3.497272</td>\n",
       "    </tr>\n",
       "    <tr>\n",
       "      <th>6461</th>\n",
       "      <td>52458</td>\n",
       "      <td>Drama|Thriller</td>\n",
       "      <td>Disturbia</td>\n",
       "      <td>2007</td>\n",
       "      <td>3.497272</td>\n",
       "    </tr>\n",
       "    <tr>\n",
       "      <th>6460</th>\n",
       "      <td>52435</td>\n",
       "      <td>Animation|Comedy|Fantasy|Musical</td>\n",
       "      <td>How the Grinch Stole Christmas!</td>\n",
       "      <td>1966</td>\n",
       "      <td>3.497272</td>\n",
       "    </tr>\n",
       "    <tr>\n",
       "      <th>...</th>\n",
       "      <td>...</td>\n",
       "      <td>...</td>\n",
       "      <td>...</td>\n",
       "      <td>...</td>\n",
       "      <td>...</td>\n",
       "    </tr>\n",
       "    <tr>\n",
       "      <th>9724</th>\n",
       "      <td>190183</td>\n",
       "      <td>Sci-Fi|Thriller</td>\n",
       "      <td>The Darkest Minds</td>\n",
       "      <td>2018</td>\n",
       "      <td>NaN</td>\n",
       "    </tr>\n",
       "    <tr>\n",
       "      <th>9731</th>\n",
       "      <td>191005</td>\n",
       "      <td>Action|Adventure|Comedy|Sci-Fi</td>\n",
       "      <td>Gintama</td>\n",
       "      <td>2017</td>\n",
       "      <td>NaN</td>\n",
       "    </tr>\n",
       "    <tr>\n",
       "      <th>9732</th>\n",
       "      <td>193565</td>\n",
       "      <td>Action|Animation|Comedy|Sci-Fi</td>\n",
       "      <td>Gintama: The Movie</td>\n",
       "      <td>2010</td>\n",
       "      <td>NaN</td>\n",
       "    </tr>\n",
       "    <tr>\n",
       "      <th>9735</th>\n",
       "      <td>193573</td>\n",
       "      <td>Animation</td>\n",
       "      <td>Love Live! The School Idol Movie</td>\n",
       "      <td>2015</td>\n",
       "      <td>NaN</td>\n",
       "    </tr>\n",
       "    <tr>\n",
       "      <th>9736</th>\n",
       "      <td>193579</td>\n",
       "      <td>Documentary</td>\n",
       "      <td>Jon Stewart Has Left the Building</td>\n",
       "      <td>2015</td>\n",
       "      <td>NaN</td>\n",
       "    </tr>\n",
       "  </tbody>\n",
       "</table>\n",
       "<p>9737 rows × 5 columns</p>\n",
       "</div>"
      ],
      "text/plain": [
       "      movieId                                             genres  \\\n",
       "0           1        Adventure|Animation|Children|Comedy|Fantasy   \n",
       "6464    52604                       Crime|Drama|Mystery|Thriller   \n",
       "6462    52462  Action|Adventure|Animation|Comedy|Fantasy|Myst...   \n",
       "6461    52458                                     Drama|Thriller   \n",
       "6460    52435                   Animation|Comedy|Fantasy|Musical   \n",
       "...       ...                                                ...   \n",
       "9724   190183                                    Sci-Fi|Thriller   \n",
       "9731   191005                     Action|Adventure|Comedy|Sci-Fi   \n",
       "9732   193565                     Action|Animation|Comedy|Sci-Fi   \n",
       "9735   193573                                          Animation   \n",
       "9736   193579                                        Documentary   \n",
       "\n",
       "                                                  Title year_released  \\\n",
       "0                                            Toy Story           1995   \n",
       "6464                                          Fracture           2007   \n",
       "6462  Aqua Teen Hunger Force Colon Movie Film for Th...          2007   \n",
       "6461                                         Disturbia           2007   \n",
       "6460                   How the Grinch Stole Christmas!           1966   \n",
       "...                                                 ...           ...   \n",
       "9724                                 The Darkest Minds           2018   \n",
       "9731                                           Gintama           2017   \n",
       "9732                                Gintama: The Movie           2010   \n",
       "9735                  Love Live! The School Idol Movie           2015   \n",
       "9736                 Jon Stewart Has Left the Building           2015   \n",
       "\n",
       "      est_rating_user10  \n",
       "0              3.497272  \n",
       "6464           3.497272  \n",
       "6462           3.497272  \n",
       "6461           3.497272  \n",
       "6460           3.497272  \n",
       "...                 ...  \n",
       "9724                NaN  \n",
       "9731                NaN  \n",
       "9732                NaN  \n",
       "9735                NaN  \n",
       "9736                NaN  \n",
       "\n",
       "[9737 rows x 5 columns]"
      ]
     },
     "execution_count": 50,
     "metadata": {},
     "output_type": "execute_result"
    }
   ],
   "source": [
    "movies #['Title'].head(int(num_recs))"
   ]
  },
  {
   "cell_type": "code",
   "execution_count": 62,
   "metadata": {
    "ExecuteTime": {
     "end_time": "2022-05-10T16:32:10.679683Z",
     "start_time": "2022-05-10T16:32:10.665715Z"
    }
   },
   "outputs": [
    {
     "data": {
      "text/plain": [
       "3.500653    7344\n",
       "Name: est_rating_user10, dtype: int64"
      ]
     },
     "execution_count": 62,
     "metadata": {},
     "output_type": "execute_result"
    }
   ],
   "source": [
    "movies['est_rating_user10'].value_counts()"
   ]
  },
  {
   "cell_type": "code",
   "execution_count": 61,
   "metadata": {
    "ExecuteTime": {
     "end_time": "2022-05-10T16:31:47.261213Z",
     "start_time": "2022-05-10T16:31:47.247618Z"
    },
    "scrolled": true
   },
   "outputs": [
    {
     "data": {
      "text/plain": [
       "0                                              Toy Story \n",
       "6464                                            Fracture \n",
       "6462    Aqua Teen Hunger Force Colon Movie Film for Th...\n",
       "6461                                           Disturbia \n",
       "6460                     How the Grinch Stole Christmas! \n",
       "6458                                            Sunshine \n",
       "6457                                 Inglorious Bastards \n",
       "6453                                          Grindhouse \n",
       "6452                                    Are We Done Yet? \n",
       "6450                                        Lookout, The \n",
       "Name: Title, dtype: object"
      ]
     },
     "execution_count": 61,
     "metadata": {},
     "output_type": "execute_result"
    }
   ],
   "source": [
    "movies['Title'].head(int(num_recs))"
   ]
  },
  {
   "cell_type": "code",
   "execution_count": 39,
   "metadata": {
    "ExecuteTime": {
     "end_time": "2022-05-10T16:46:10.429828Z",
     "start_time": "2022-05-10T16:46:10.397267Z"
    }
   },
   "outputs": [
    {
     "data": {
      "text/html": [
       "<div>\n",
       "<style scoped>\n",
       "    .dataframe tbody tr th:only-of-type {\n",
       "        vertical-align: middle;\n",
       "    }\n",
       "\n",
       "    .dataframe tbody tr th {\n",
       "        vertical-align: top;\n",
       "    }\n",
       "\n",
       "    .dataframe thead th {\n",
       "        text-align: right;\n",
       "    }\n",
       "</style>\n",
       "<table border=\"1\" class=\"dataframe\">\n",
       "  <thead>\n",
       "    <tr style=\"text-align: right;\">\n",
       "      <th></th>\n",
       "      <th>movieId</th>\n",
       "      <th>genres</th>\n",
       "      <th>Title</th>\n",
       "      <th>year_released</th>\n",
       "      <th>userId</th>\n",
       "      <th>rating</th>\n",
       "      <th>timestamp</th>\n",
       "    </tr>\n",
       "  </thead>\n",
       "  <tbody>\n",
       "    <tr>\n",
       "      <th>0</th>\n",
       "      <td>1</td>\n",
       "      <td>[adventure, animation, children, comedy, fantasy]</td>\n",
       "      <td>Toy Story</td>\n",
       "      <td>1995</td>\n",
       "      <td>1.0</td>\n",
       "      <td>4.0</td>\n",
       "      <td>2000-07-30 18:45:03</td>\n",
       "    </tr>\n",
       "    <tr>\n",
       "      <th>1</th>\n",
       "      <td>1</td>\n",
       "      <td>[adventure, animation, children, comedy, fantasy]</td>\n",
       "      <td>Toy Story</td>\n",
       "      <td>1995</td>\n",
       "      <td>5.0</td>\n",
       "      <td>4.0</td>\n",
       "      <td>1996-11-08 06:36:02</td>\n",
       "    </tr>\n",
       "    <tr>\n",
       "      <th>2</th>\n",
       "      <td>1</td>\n",
       "      <td>[adventure, animation, children, comedy, fantasy]</td>\n",
       "      <td>Toy Story</td>\n",
       "      <td>1995</td>\n",
       "      <td>7.0</td>\n",
       "      <td>4.5</td>\n",
       "      <td>2005-01-25 06:52:26</td>\n",
       "    </tr>\n",
       "    <tr>\n",
       "      <th>3</th>\n",
       "      <td>1</td>\n",
       "      <td>[adventure, animation, children, comedy, fantasy]</td>\n",
       "      <td>Toy Story</td>\n",
       "      <td>1995</td>\n",
       "      <td>15.0</td>\n",
       "      <td>2.5</td>\n",
       "      <td>2017-11-13 12:59:30</td>\n",
       "    </tr>\n",
       "    <tr>\n",
       "      <th>4</th>\n",
       "      <td>1</td>\n",
       "      <td>[adventure, animation, children, comedy, fantasy]</td>\n",
       "      <td>Toy Story</td>\n",
       "      <td>1995</td>\n",
       "      <td>17.0</td>\n",
       "      <td>4.5</td>\n",
       "      <td>2011-05-18 05:28:03</td>\n",
       "    </tr>\n",
       "    <tr>\n",
       "      <th>...</th>\n",
       "      <td>...</td>\n",
       "      <td>...</td>\n",
       "      <td>...</td>\n",
       "      <td>...</td>\n",
       "      <td>...</td>\n",
       "      <td>...</td>\n",
       "      <td>...</td>\n",
       "    </tr>\n",
       "    <tr>\n",
       "      <th>100843</th>\n",
       "      <td>193581</td>\n",
       "      <td>[action, animation, comedy, fantasy]</td>\n",
       "      <td>Black Butler: Book of the Atlantic</td>\n",
       "      <td>2017</td>\n",
       "      <td>184.0</td>\n",
       "      <td>4.0</td>\n",
       "      <td>2018-09-16 14:44:42</td>\n",
       "    </tr>\n",
       "    <tr>\n",
       "      <th>100844</th>\n",
       "      <td>193583</td>\n",
       "      <td>[animation, comedy, fantasy]</td>\n",
       "      <td>No Game No Life: Zero</td>\n",
       "      <td>2017</td>\n",
       "      <td>184.0</td>\n",
       "      <td>3.5</td>\n",
       "      <td>2018-09-16 14:52:25</td>\n",
       "    </tr>\n",
       "    <tr>\n",
       "      <th>100845</th>\n",
       "      <td>193585</td>\n",
       "      <td>[drama]</td>\n",
       "      <td>Flint</td>\n",
       "      <td>2017</td>\n",
       "      <td>184.0</td>\n",
       "      <td>3.5</td>\n",
       "      <td>2018-09-16 14:56:45</td>\n",
       "    </tr>\n",
       "    <tr>\n",
       "      <th>100846</th>\n",
       "      <td>193587</td>\n",
       "      <td>[action, animation]</td>\n",
       "      <td>Bungo Stray Dogs: Dead Apple</td>\n",
       "      <td>2018</td>\n",
       "      <td>184.0</td>\n",
       "      <td>3.5</td>\n",
       "      <td>2018-09-16 15:00:21</td>\n",
       "    </tr>\n",
       "    <tr>\n",
       "      <th>100847</th>\n",
       "      <td>193609</td>\n",
       "      <td>[comedy]</td>\n",
       "      <td>Andrew Dice Clay: Dice Rules</td>\n",
       "      <td>1991</td>\n",
       "      <td>331.0</td>\n",
       "      <td>4.0</td>\n",
       "      <td>2018-09-17 04:13:26</td>\n",
       "    </tr>\n",
       "  </tbody>\n",
       "</table>\n",
       "<p>100813 rows × 7 columns</p>\n",
       "</div>"
      ],
      "text/plain": [
       "        movieId                                             genres  \\\n",
       "0             1  [adventure, animation, children, comedy, fantasy]   \n",
       "1             1  [adventure, animation, children, comedy, fantasy]   \n",
       "2             1  [adventure, animation, children, comedy, fantasy]   \n",
       "3             1  [adventure, animation, children, comedy, fantasy]   \n",
       "4             1  [adventure, animation, children, comedy, fantasy]   \n",
       "...         ...                                                ...   \n",
       "100843   193581               [action, animation, comedy, fantasy]   \n",
       "100844   193583                       [animation, comedy, fantasy]   \n",
       "100845   193585                                            [drama]   \n",
       "100846   193587                                [action, animation]   \n",
       "100847   193609                                           [comedy]   \n",
       "\n",
       "                                      Title year_released  userId  rating  \\\n",
       "0                                Toy Story           1995     1.0     4.0   \n",
       "1                                Toy Story           1995     5.0     4.0   \n",
       "2                                Toy Story           1995     7.0     4.5   \n",
       "3                                Toy Story           1995    15.0     2.5   \n",
       "4                                Toy Story           1995    17.0     4.5   \n",
       "...                                     ...           ...     ...     ...   \n",
       "100843  Black Butler: Book of the Atlantic           2017   184.0     4.0   \n",
       "100844               No Game No Life: Zero           2017   184.0     3.5   \n",
       "100845                               Flint           2017   184.0     3.5   \n",
       "100846        Bungo Stray Dogs: Dead Apple           2018   184.0     3.5   \n",
       "100847        Andrew Dice Clay: Dice Rules           1991   331.0     4.0   \n",
       "\n",
       "                 timestamp  \n",
       "0      2000-07-30 18:45:03  \n",
       "1      1996-11-08 06:36:02  \n",
       "2      2005-01-25 06:52:26  \n",
       "3      2017-11-13 12:59:30  \n",
       "4      2011-05-18 05:28:03  \n",
       "...                    ...  \n",
       "100843 2018-09-16 14:44:42  \n",
       "100844 2018-09-16 14:52:25  \n",
       "100845 2018-09-16 14:56:45  \n",
       "100846 2018-09-16 15:00:21  \n",
       "100847 2018-09-17 04:13:26  \n",
       "\n",
       "[100813 rows x 7 columns]"
      ]
     },
     "execution_count": 39,
     "metadata": {},
     "output_type": "execute_result"
    }
   ],
   "source": [
    "movie_rating"
   ]
  },
  {
   "cell_type": "code",
   "execution_count": null,
   "metadata": {},
   "outputs": [],
   "source": []
  }
 ],
 "metadata": {
  "kernelspec": {
   "display_name": "Python (learn-env)",
   "language": "python",
   "name": "learn-env"
  },
  "language_info": {
   "codemirror_mode": {
    "name": "ipython",
    "version": 3
   },
   "file_extension": ".py",
   "mimetype": "text/x-python",
   "name": "python",
   "nbconvert_exporter": "python",
   "pygments_lexer": "ipython3",
   "version": "3.8.5"
  },
  "toc": {
   "base_numbering": 1,
   "nav_menu": {},
   "number_sections": true,
   "sideBar": true,
   "skip_h1_title": false,
   "title_cell": "Table of Contents",
   "title_sidebar": "Contents",
   "toc_cell": false,
   "toc_position": {},
   "toc_section_display": true,
   "toc_window_display": false
  },
  "varInspector": {
   "cols": {
    "lenName": 16,
    "lenType": 16,
    "lenVar": 40
   },
   "kernels_config": {
    "python": {
     "delete_cmd_postfix": "",
     "delete_cmd_prefix": "del ",
     "library": "var_list.py",
     "varRefreshCmd": "print(var_dic_list())"
    },
    "r": {
     "delete_cmd_postfix": ") ",
     "delete_cmd_prefix": "rm(",
     "library": "var_list.r",
     "varRefreshCmd": "cat(var_dic_list()) "
    }
   },
   "types_to_exclude": [
    "module",
    "function",
    "builtin_function_or_method",
    "instance",
    "_Feature"
   ],
   "window_display": false
  }
 },
 "nbformat": 4,
 "nbformat_minor": 5
}
