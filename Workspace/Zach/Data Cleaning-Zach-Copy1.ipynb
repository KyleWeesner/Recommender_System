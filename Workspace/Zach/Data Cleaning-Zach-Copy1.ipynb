{
 "cells": [
  {
   "cell_type": "markdown",
   "metadata": {},
   "source": [
    "## Imports"
   ]
  },
  {
   "cell_type": "code",
   "execution_count": 1,
   "metadata": {
    "ExecuteTime": {
     "end_time": "2022-05-10T22:21:11.961744Z",
     "start_time": "2022-05-10T22:21:11.105454Z"
    }
   },
   "outputs": [],
   "source": [
    "import pandas as pd\n",
    "\n",
    "import surprise\n",
    "from surprise.prediction_algorithms import *\n",
    "import pandas as pd\n",
    "import numpy as np\n",
    "import datetime as dt\n",
    "\n",
    "from surprise import Dataset\n",
    "from surprise import Reader\n",
    "\n",
    "from surprise.prediction_algorithms import knns\n",
    "from surprise.similarities import cosine, msd, pearson\n",
    "from surprise import accuracy\n",
    "from surprise.model_selection import GridSearchCV\n",
    "from sklearn.model_selection import train_test_split\n",
    "from surprise.model_selection import cross_validate\n",
    "\n",
    "from nltk.tokenize import RegexpTokenizer\n",
    "\n",
    "import pickle "
   ]
  },
  {
   "cell_type": "markdown",
   "metadata": {},
   "source": [
    "## EDA"
   ]
  },
  {
   "cell_type": "code",
   "execution_count": 2,
   "metadata": {
    "ExecuteTime": {
     "end_time": "2022-05-10T22:21:11.972498Z",
     "start_time": "2022-05-10T22:21:11.962853Z"
    }
   },
   "outputs": [],
   "source": [
    "movies = pd.read_csv('../../ml-latest-small/movies.csv')"
   ]
  },
  {
   "cell_type": "code",
   "execution_count": 3,
   "metadata": {
    "ExecuteTime": {
     "end_time": "2022-05-10T22:21:11.978152Z",
     "start_time": "2022-05-10T22:21:11.973769Z"
    }
   },
   "outputs": [],
   "source": [
    "link = pd.read_csv('../../ml-latest-small/links.csv')"
   ]
  },
  {
   "cell_type": "code",
   "execution_count": 4,
   "metadata": {
    "ExecuteTime": {
     "end_time": "2022-05-10T22:21:12.003838Z",
     "start_time": "2022-05-10T22:21:11.979374Z"
    }
   },
   "outputs": [],
   "source": [
    "rating = pd.read_csv('../../ml-latest-small/ratings.csv')"
   ]
  },
  {
   "cell_type": "code",
   "execution_count": 5,
   "metadata": {
    "ExecuteTime": {
     "end_time": "2022-05-10T22:21:12.009283Z",
     "start_time": "2022-05-10T22:21:12.004821Z"
    }
   },
   "outputs": [],
   "source": [
    "tags = pd.read_csv('../../ml-latest-small/tags.csv')"
   ]
  },
  {
   "cell_type": "code",
   "execution_count": 6,
   "metadata": {
    "ExecuteTime": {
     "end_time": "2022-05-10T22:21:12.020219Z",
     "start_time": "2022-05-10T22:21:12.010347Z"
    },
    "scrolled": true
   },
   "outputs": [
    {
     "data": {
      "text/html": [
       "<div>\n",
       "<style scoped>\n",
       "    .dataframe tbody tr th:only-of-type {\n",
       "        vertical-align: middle;\n",
       "    }\n",
       "\n",
       "    .dataframe tbody tr th {\n",
       "        vertical-align: top;\n",
       "    }\n",
       "\n",
       "    .dataframe thead th {\n",
       "        text-align: right;\n",
       "    }\n",
       "</style>\n",
       "<table border=\"1\" class=\"dataframe\">\n",
       "  <thead>\n",
       "    <tr style=\"text-align: right;\">\n",
       "      <th></th>\n",
       "      <th>movieId</th>\n",
       "      <th>title</th>\n",
       "      <th>genres</th>\n",
       "    </tr>\n",
       "  </thead>\n",
       "  <tbody>\n",
       "    <tr>\n",
       "      <th>0</th>\n",
       "      <td>1</td>\n",
       "      <td>Toy Story (1995)</td>\n",
       "      <td>Adventure|Animation|Children|Comedy|Fantasy</td>\n",
       "    </tr>\n",
       "    <tr>\n",
       "      <th>1</th>\n",
       "      <td>2</td>\n",
       "      <td>Jumanji (1995)</td>\n",
       "      <td>Adventure|Children|Fantasy</td>\n",
       "    </tr>\n",
       "    <tr>\n",
       "      <th>2</th>\n",
       "      <td>3</td>\n",
       "      <td>Grumpier Old Men (1995)</td>\n",
       "      <td>Comedy|Romance</td>\n",
       "    </tr>\n",
       "    <tr>\n",
       "      <th>3</th>\n",
       "      <td>4</td>\n",
       "      <td>Waiting to Exhale (1995)</td>\n",
       "      <td>Comedy|Drama|Romance</td>\n",
       "    </tr>\n",
       "    <tr>\n",
       "      <th>4</th>\n",
       "      <td>5</td>\n",
       "      <td>Father of the Bride Part II (1995)</td>\n",
       "      <td>Comedy</td>\n",
       "    </tr>\n",
       "    <tr>\n",
       "      <th>...</th>\n",
       "      <td>...</td>\n",
       "      <td>...</td>\n",
       "      <td>...</td>\n",
       "    </tr>\n",
       "    <tr>\n",
       "      <th>9737</th>\n",
       "      <td>193581</td>\n",
       "      <td>Black Butler: Book of the Atlantic (2017)</td>\n",
       "      <td>Action|Animation|Comedy|Fantasy</td>\n",
       "    </tr>\n",
       "    <tr>\n",
       "      <th>9738</th>\n",
       "      <td>193583</td>\n",
       "      <td>No Game No Life: Zero (2017)</td>\n",
       "      <td>Animation|Comedy|Fantasy</td>\n",
       "    </tr>\n",
       "    <tr>\n",
       "      <th>9739</th>\n",
       "      <td>193585</td>\n",
       "      <td>Flint (2017)</td>\n",
       "      <td>Drama</td>\n",
       "    </tr>\n",
       "    <tr>\n",
       "      <th>9740</th>\n",
       "      <td>193587</td>\n",
       "      <td>Bungo Stray Dogs: Dead Apple (2018)</td>\n",
       "      <td>Action|Animation</td>\n",
       "    </tr>\n",
       "    <tr>\n",
       "      <th>9741</th>\n",
       "      <td>193609</td>\n",
       "      <td>Andrew Dice Clay: Dice Rules (1991)</td>\n",
       "      <td>Comedy</td>\n",
       "    </tr>\n",
       "  </tbody>\n",
       "</table>\n",
       "<p>9742 rows × 3 columns</p>\n",
       "</div>"
      ],
      "text/plain": [
       "      movieId                                      title  \\\n",
       "0           1                           Toy Story (1995)   \n",
       "1           2                             Jumanji (1995)   \n",
       "2           3                    Grumpier Old Men (1995)   \n",
       "3           4                   Waiting to Exhale (1995)   \n",
       "4           5         Father of the Bride Part II (1995)   \n",
       "...       ...                                        ...   \n",
       "9737   193581  Black Butler: Book of the Atlantic (2017)   \n",
       "9738   193583               No Game No Life: Zero (2017)   \n",
       "9739   193585                               Flint (2017)   \n",
       "9740   193587        Bungo Stray Dogs: Dead Apple (2018)   \n",
       "9741   193609        Andrew Dice Clay: Dice Rules (1991)   \n",
       "\n",
       "                                           genres  \n",
       "0     Adventure|Animation|Children|Comedy|Fantasy  \n",
       "1                      Adventure|Children|Fantasy  \n",
       "2                                  Comedy|Romance  \n",
       "3                            Comedy|Drama|Romance  \n",
       "4                                          Comedy  \n",
       "...                                           ...  \n",
       "9737              Action|Animation|Comedy|Fantasy  \n",
       "9738                     Animation|Comedy|Fantasy  \n",
       "9739                                        Drama  \n",
       "9740                             Action|Animation  \n",
       "9741                                       Comedy  \n",
       "\n",
       "[9742 rows x 3 columns]"
      ]
     },
     "execution_count": 6,
     "metadata": {},
     "output_type": "execute_result"
    }
   ],
   "source": [
    "movies"
   ]
  },
  {
   "cell_type": "code",
   "execution_count": 7,
   "metadata": {
    "ExecuteTime": {
     "end_time": "2022-05-10T22:21:12.025415Z",
     "start_time": "2022-05-10T22:21:12.021204Z"
    }
   },
   "outputs": [
    {
     "data": {
      "text/plain": [
       "movieId    0\n",
       "title      0\n",
       "genres     0\n",
       "dtype: int64"
      ]
     },
     "execution_count": 7,
     "metadata": {},
     "output_type": "execute_result"
    }
   ],
   "source": [
    "movies.isna().sum()"
   ]
  },
  {
   "cell_type": "code",
   "execution_count": 8,
   "metadata": {
    "ExecuteTime": {
     "end_time": "2022-05-10T22:21:12.037203Z",
     "start_time": "2022-05-10T22:21:12.028106Z"
    },
    "scrolled": false
   },
   "outputs": [
    {
     "data": {
      "text/plain": [
       "Eros (2004)                               2\n",
       "Emma (1996)                               2\n",
       "War of the Worlds (2005)                  2\n",
       "Saturn 3 (1980)                           2\n",
       "Confessions of a Dangerous Mind (2002)    2\n",
       "                                         ..\n",
       "Meatballs Part II (1984)                  1\n",
       "Bottle Rocket (1996)                      1\n",
       "Moulin Rouge (2001)                       1\n",
       "3 Days to Kill (2014)                     1\n",
       "Buffalo Soldiers (2001)                   1\n",
       "Name: title, Length: 9737, dtype: int64"
      ]
     },
     "execution_count": 8,
     "metadata": {},
     "output_type": "execute_result"
    }
   ],
   "source": [
    "movies.title.value_counts()"
   ]
  },
  {
   "cell_type": "code",
   "execution_count": 9,
   "metadata": {
    "ExecuteTime": {
     "end_time": "2022-05-10T22:21:12.041847Z",
     "start_time": "2022-05-10T22:21:12.038821Z"
    }
   },
   "outputs": [
    {
     "data": {
      "text/plain": [
       "5"
      ]
     },
     "execution_count": 9,
     "metadata": {},
     "output_type": "execute_result"
    }
   ],
   "source": [
    "#Check to see if there are any duplicate titles\n",
    "movies.title.duplicated().sum()"
   ]
  },
  {
   "cell_type": "code",
   "execution_count": 10,
   "metadata": {
    "ExecuteTime": {
     "end_time": "2022-05-10T22:21:12.049489Z",
     "start_time": "2022-05-10T22:21:12.043723Z"
    }
   },
   "outputs": [],
   "source": [
    "#Drop the 5 duplicated movie titles\n",
    "movies.drop_duplicates(subset='title', inplace=True)"
   ]
  },
  {
   "cell_type": "code",
   "execution_count": 11,
   "metadata": {
    "ExecuteTime": {
     "end_time": "2022-05-10T22:21:12.053334Z",
     "start_time": "2022-05-10T22:21:12.050478Z"
    }
   },
   "outputs": [
    {
     "data": {
      "text/plain": [
       "0"
      ]
     },
     "execution_count": 11,
     "metadata": {},
     "output_type": "execute_result"
    }
   ],
   "source": [
    "#Sanity check to ensure all duplicates were dropped from title column\n",
    "\n",
    "movies.title.duplicated().sum()"
   ]
  },
  {
   "cell_type": "code",
   "execution_count": 12,
   "metadata": {
    "ExecuteTime": {
     "end_time": "2022-05-10T22:21:12.060188Z",
     "start_time": "2022-05-10T22:21:12.054316Z"
    }
   },
   "outputs": [
    {
     "data": {
      "text/html": [
       "<div>\n",
       "<style scoped>\n",
       "    .dataframe tbody tr th:only-of-type {\n",
       "        vertical-align: middle;\n",
       "    }\n",
       "\n",
       "    .dataframe tbody tr th {\n",
       "        vertical-align: top;\n",
       "    }\n",
       "\n",
       "    .dataframe thead th {\n",
       "        text-align: right;\n",
       "    }\n",
       "</style>\n",
       "<table border=\"1\" class=\"dataframe\">\n",
       "  <thead>\n",
       "    <tr style=\"text-align: right;\">\n",
       "      <th></th>\n",
       "      <th>movieId</th>\n",
       "      <th>title</th>\n",
       "      <th>genres</th>\n",
       "    </tr>\n",
       "  </thead>\n",
       "  <tbody>\n",
       "  </tbody>\n",
       "</table>\n",
       "</div>"
      ],
      "text/plain": [
       "Empty DataFrame\n",
       "Columns: [movieId, title, genres]\n",
       "Index: []"
      ]
     },
     "execution_count": 12,
     "metadata": {},
     "output_type": "execute_result"
    }
   ],
   "source": [
    "movies[movies.title.duplicated() == True]"
   ]
  },
  {
   "cell_type": "code",
   "execution_count": 13,
   "metadata": {
    "ExecuteTime": {
     "end_time": "2022-05-10T22:21:12.064980Z",
     "start_time": "2022-05-10T22:21:12.061680Z"
    }
   },
   "outputs": [
    {
     "data": {
      "text/plain": [
       "9737"
      ]
     },
     "execution_count": 13,
     "metadata": {},
     "output_type": "execute_result"
    }
   ],
   "source": [
    "#Check length of DataFrame\n",
    "\n",
    "len(movies)"
   ]
  },
  {
   "cell_type": "code",
   "execution_count": 14,
   "metadata": {
    "ExecuteTime": {
     "end_time": "2022-05-10T22:21:12.094885Z",
     "start_time": "2022-05-10T22:21:12.066533Z"
    },
    "scrolled": true
   },
   "outputs": [],
   "source": [
    "# Split title column into two new columns: Title and year \n",
    "\n",
    "movies['Title'] = movies['title'].str.split('(', n=1, expand=True)[0]\n",
    "\n",
    "movies['year_released'] = movies['title'].str.split('(', n=1, expand=True)[1]"
   ]
  },
  {
   "cell_type": "code",
   "execution_count": 15,
   "metadata": {
    "ExecuteTime": {
     "end_time": "2022-05-10T22:21:12.100202Z",
     "start_time": "2022-05-10T22:21:12.096048Z"
    }
   },
   "outputs": [],
   "source": [
    "# Drop original column title\n",
    "\n",
    "movies.drop(columns='title', inplace=True)"
   ]
  },
  {
   "cell_type": "code",
   "execution_count": 16,
   "metadata": {
    "ExecuteTime": {
     "end_time": "2022-05-10T22:21:12.107684Z",
     "start_time": "2022-05-10T22:21:12.101110Z"
    }
   },
   "outputs": [
    {
     "data": {
      "text/html": [
       "<div>\n",
       "<style scoped>\n",
       "    .dataframe tbody tr th:only-of-type {\n",
       "        vertical-align: middle;\n",
       "    }\n",
       "\n",
       "    .dataframe tbody tr th {\n",
       "        vertical-align: top;\n",
       "    }\n",
       "\n",
       "    .dataframe thead th {\n",
       "        text-align: right;\n",
       "    }\n",
       "</style>\n",
       "<table border=\"1\" class=\"dataframe\">\n",
       "  <thead>\n",
       "    <tr style=\"text-align: right;\">\n",
       "      <th></th>\n",
       "      <th>movieId</th>\n",
       "      <th>genres</th>\n",
       "      <th>Title</th>\n",
       "      <th>year_released</th>\n",
       "    </tr>\n",
       "  </thead>\n",
       "  <tbody>\n",
       "    <tr>\n",
       "      <th>0</th>\n",
       "      <td>1</td>\n",
       "      <td>Adventure|Animation|Children|Comedy|Fantasy</td>\n",
       "      <td>Toy Story</td>\n",
       "      <td>1995)</td>\n",
       "    </tr>\n",
       "    <tr>\n",
       "      <th>1</th>\n",
       "      <td>2</td>\n",
       "      <td>Adventure|Children|Fantasy</td>\n",
       "      <td>Jumanji</td>\n",
       "      <td>1995)</td>\n",
       "    </tr>\n",
       "    <tr>\n",
       "      <th>2</th>\n",
       "      <td>3</td>\n",
       "      <td>Comedy|Romance</td>\n",
       "      <td>Grumpier Old Men</td>\n",
       "      <td>1995)</td>\n",
       "    </tr>\n",
       "    <tr>\n",
       "      <th>3</th>\n",
       "      <td>4</td>\n",
       "      <td>Comedy|Drama|Romance</td>\n",
       "      <td>Waiting to Exhale</td>\n",
       "      <td>1995)</td>\n",
       "    </tr>\n",
       "    <tr>\n",
       "      <th>4</th>\n",
       "      <td>5</td>\n",
       "      <td>Comedy</td>\n",
       "      <td>Father of the Bride Part II</td>\n",
       "      <td>1995)</td>\n",
       "    </tr>\n",
       "    <tr>\n",
       "      <th>...</th>\n",
       "      <td>...</td>\n",
       "      <td>...</td>\n",
       "      <td>...</td>\n",
       "      <td>...</td>\n",
       "    </tr>\n",
       "    <tr>\n",
       "      <th>9737</th>\n",
       "      <td>193581</td>\n",
       "      <td>Action|Animation|Comedy|Fantasy</td>\n",
       "      <td>Black Butler: Book of the Atlantic</td>\n",
       "      <td>2017)</td>\n",
       "    </tr>\n",
       "    <tr>\n",
       "      <th>9738</th>\n",
       "      <td>193583</td>\n",
       "      <td>Animation|Comedy|Fantasy</td>\n",
       "      <td>No Game No Life: Zero</td>\n",
       "      <td>2017)</td>\n",
       "    </tr>\n",
       "    <tr>\n",
       "      <th>9739</th>\n",
       "      <td>193585</td>\n",
       "      <td>Drama</td>\n",
       "      <td>Flint</td>\n",
       "      <td>2017)</td>\n",
       "    </tr>\n",
       "    <tr>\n",
       "      <th>9740</th>\n",
       "      <td>193587</td>\n",
       "      <td>Action|Animation</td>\n",
       "      <td>Bungo Stray Dogs: Dead Apple</td>\n",
       "      <td>2018)</td>\n",
       "    </tr>\n",
       "    <tr>\n",
       "      <th>9741</th>\n",
       "      <td>193609</td>\n",
       "      <td>Comedy</td>\n",
       "      <td>Andrew Dice Clay: Dice Rules</td>\n",
       "      <td>1991)</td>\n",
       "    </tr>\n",
       "  </tbody>\n",
       "</table>\n",
       "<p>9737 rows × 4 columns</p>\n",
       "</div>"
      ],
      "text/plain": [
       "      movieId                                       genres  \\\n",
       "0           1  Adventure|Animation|Children|Comedy|Fantasy   \n",
       "1           2                   Adventure|Children|Fantasy   \n",
       "2           3                               Comedy|Romance   \n",
       "3           4                         Comedy|Drama|Romance   \n",
       "4           5                                       Comedy   \n",
       "...       ...                                          ...   \n",
       "9737   193581              Action|Animation|Comedy|Fantasy   \n",
       "9738   193583                     Animation|Comedy|Fantasy   \n",
       "9739   193585                                        Drama   \n",
       "9740   193587                             Action|Animation   \n",
       "9741   193609                                       Comedy   \n",
       "\n",
       "                                    Title year_released  \n",
       "0                              Toy Story          1995)  \n",
       "1                                Jumanji          1995)  \n",
       "2                       Grumpier Old Men          1995)  \n",
       "3                      Waiting to Exhale          1995)  \n",
       "4            Father of the Bride Part II          1995)  \n",
       "...                                   ...           ...  \n",
       "9737  Black Butler: Book of the Atlantic          2017)  \n",
       "9738               No Game No Life: Zero          2017)  \n",
       "9739                               Flint          2017)  \n",
       "9740        Bungo Stray Dogs: Dead Apple          2018)  \n",
       "9741        Andrew Dice Clay: Dice Rules          1991)  \n",
       "\n",
       "[9737 rows x 4 columns]"
      ]
     },
     "execution_count": 16,
     "metadata": {},
     "output_type": "execute_result"
    }
   ],
   "source": [
    "# Sanity Check \n",
    "movies"
   ]
  },
  {
   "cell_type": "code",
   "execution_count": 17,
   "metadata": {
    "ExecuteTime": {
     "end_time": "2022-05-10T22:21:12.116567Z",
     "start_time": "2022-05-10T22:21:12.110164Z"
    }
   },
   "outputs": [],
   "source": [
    "# Format year_released column\n",
    "\n",
    "movies['year_released'] = movies.year_released.str.replace(')', '')"
   ]
  },
  {
   "cell_type": "code",
   "execution_count": 18,
   "metadata": {
    "ExecuteTime": {
     "end_time": "2022-05-10T22:21:12.125401Z",
     "start_time": "2022-05-10T22:21:12.117796Z"
    }
   },
   "outputs": [
    {
     "data": {
      "text/html": [
       "<div>\n",
       "<style scoped>\n",
       "    .dataframe tbody tr th:only-of-type {\n",
       "        vertical-align: middle;\n",
       "    }\n",
       "\n",
       "    .dataframe tbody tr th {\n",
       "        vertical-align: top;\n",
       "    }\n",
       "\n",
       "    .dataframe thead th {\n",
       "        text-align: right;\n",
       "    }\n",
       "</style>\n",
       "<table border=\"1\" class=\"dataframe\">\n",
       "  <thead>\n",
       "    <tr style=\"text-align: right;\">\n",
       "      <th></th>\n",
       "      <th>movieId</th>\n",
       "      <th>genres</th>\n",
       "      <th>Title</th>\n",
       "      <th>year_released</th>\n",
       "    </tr>\n",
       "  </thead>\n",
       "  <tbody>\n",
       "    <tr>\n",
       "      <th>0</th>\n",
       "      <td>1</td>\n",
       "      <td>Adventure|Animation|Children|Comedy|Fantasy</td>\n",
       "      <td>Toy Story</td>\n",
       "      <td>1995</td>\n",
       "    </tr>\n",
       "    <tr>\n",
       "      <th>1</th>\n",
       "      <td>2</td>\n",
       "      <td>Adventure|Children|Fantasy</td>\n",
       "      <td>Jumanji</td>\n",
       "      <td>1995</td>\n",
       "    </tr>\n",
       "    <tr>\n",
       "      <th>2</th>\n",
       "      <td>3</td>\n",
       "      <td>Comedy|Romance</td>\n",
       "      <td>Grumpier Old Men</td>\n",
       "      <td>1995</td>\n",
       "    </tr>\n",
       "    <tr>\n",
       "      <th>3</th>\n",
       "      <td>4</td>\n",
       "      <td>Comedy|Drama|Romance</td>\n",
       "      <td>Waiting to Exhale</td>\n",
       "      <td>1995</td>\n",
       "    </tr>\n",
       "    <tr>\n",
       "      <th>4</th>\n",
       "      <td>5</td>\n",
       "      <td>Comedy</td>\n",
       "      <td>Father of the Bride Part II</td>\n",
       "      <td>1995</td>\n",
       "    </tr>\n",
       "    <tr>\n",
       "      <th>...</th>\n",
       "      <td>...</td>\n",
       "      <td>...</td>\n",
       "      <td>...</td>\n",
       "      <td>...</td>\n",
       "    </tr>\n",
       "    <tr>\n",
       "      <th>9737</th>\n",
       "      <td>193581</td>\n",
       "      <td>Action|Animation|Comedy|Fantasy</td>\n",
       "      <td>Black Butler: Book of the Atlantic</td>\n",
       "      <td>2017</td>\n",
       "    </tr>\n",
       "    <tr>\n",
       "      <th>9738</th>\n",
       "      <td>193583</td>\n",
       "      <td>Animation|Comedy|Fantasy</td>\n",
       "      <td>No Game No Life: Zero</td>\n",
       "      <td>2017</td>\n",
       "    </tr>\n",
       "    <tr>\n",
       "      <th>9739</th>\n",
       "      <td>193585</td>\n",
       "      <td>Drama</td>\n",
       "      <td>Flint</td>\n",
       "      <td>2017</td>\n",
       "    </tr>\n",
       "    <tr>\n",
       "      <th>9740</th>\n",
       "      <td>193587</td>\n",
       "      <td>Action|Animation</td>\n",
       "      <td>Bungo Stray Dogs: Dead Apple</td>\n",
       "      <td>2018</td>\n",
       "    </tr>\n",
       "    <tr>\n",
       "      <th>9741</th>\n",
       "      <td>193609</td>\n",
       "      <td>Comedy</td>\n",
       "      <td>Andrew Dice Clay: Dice Rules</td>\n",
       "      <td>1991</td>\n",
       "    </tr>\n",
       "  </tbody>\n",
       "</table>\n",
       "<p>9737 rows × 4 columns</p>\n",
       "</div>"
      ],
      "text/plain": [
       "      movieId                                       genres  \\\n",
       "0           1  Adventure|Animation|Children|Comedy|Fantasy   \n",
       "1           2                   Adventure|Children|Fantasy   \n",
       "2           3                               Comedy|Romance   \n",
       "3           4                         Comedy|Drama|Romance   \n",
       "4           5                                       Comedy   \n",
       "...       ...                                          ...   \n",
       "9737   193581              Action|Animation|Comedy|Fantasy   \n",
       "9738   193583                     Animation|Comedy|Fantasy   \n",
       "9739   193585                                        Drama   \n",
       "9740   193587                             Action|Animation   \n",
       "9741   193609                                       Comedy   \n",
       "\n",
       "                                    Title year_released  \n",
       "0                              Toy Story           1995  \n",
       "1                                Jumanji           1995  \n",
       "2                       Grumpier Old Men           1995  \n",
       "3                      Waiting to Exhale           1995  \n",
       "4            Father of the Bride Part II           1995  \n",
       "...                                   ...           ...  \n",
       "9737  Black Butler: Book of the Atlantic           2017  \n",
       "9738               No Game No Life: Zero           2017  \n",
       "9739                               Flint           2017  \n",
       "9740        Bungo Stray Dogs: Dead Apple           2018  \n",
       "9741        Andrew Dice Clay: Dice Rules           1991  \n",
       "\n",
       "[9737 rows x 4 columns]"
      ]
     },
     "execution_count": 18,
     "metadata": {},
     "output_type": "execute_result"
    }
   ],
   "source": [
    "# Sanity Check to ensure formatting was completed\n",
    "movies"
   ]
  },
  {
   "cell_type": "code",
   "execution_count": 19,
   "metadata": {
    "ExecuteTime": {
     "end_time": "2022-05-10T22:21:12.133172Z",
     "start_time": "2022-05-10T22:21:12.126502Z"
    }
   },
   "outputs": [
    {
     "data": {
      "text/html": [
       "<div>\n",
       "<style scoped>\n",
       "    .dataframe tbody tr th:only-of-type {\n",
       "        vertical-align: middle;\n",
       "    }\n",
       "\n",
       "    .dataframe tbody tr th {\n",
       "        vertical-align: top;\n",
       "    }\n",
       "\n",
       "    .dataframe thead th {\n",
       "        text-align: right;\n",
       "    }\n",
       "</style>\n",
       "<table border=\"1\" class=\"dataframe\">\n",
       "  <thead>\n",
       "    <tr style=\"text-align: right;\">\n",
       "      <th></th>\n",
       "      <th>movieId</th>\n",
       "      <th>imdbId</th>\n",
       "      <th>tmdbId</th>\n",
       "    </tr>\n",
       "  </thead>\n",
       "  <tbody>\n",
       "    <tr>\n",
       "      <th>0</th>\n",
       "      <td>1</td>\n",
       "      <td>114709</td>\n",
       "      <td>862.0</td>\n",
       "    </tr>\n",
       "    <tr>\n",
       "      <th>1</th>\n",
       "      <td>2</td>\n",
       "      <td>113497</td>\n",
       "      <td>8844.0</td>\n",
       "    </tr>\n",
       "    <tr>\n",
       "      <th>2</th>\n",
       "      <td>3</td>\n",
       "      <td>113228</td>\n",
       "      <td>15602.0</td>\n",
       "    </tr>\n",
       "    <tr>\n",
       "      <th>3</th>\n",
       "      <td>4</td>\n",
       "      <td>114885</td>\n",
       "      <td>31357.0</td>\n",
       "    </tr>\n",
       "    <tr>\n",
       "      <th>4</th>\n",
       "      <td>5</td>\n",
       "      <td>113041</td>\n",
       "      <td>11862.0</td>\n",
       "    </tr>\n",
       "    <tr>\n",
       "      <th>...</th>\n",
       "      <td>...</td>\n",
       "      <td>...</td>\n",
       "      <td>...</td>\n",
       "    </tr>\n",
       "    <tr>\n",
       "      <th>9737</th>\n",
       "      <td>193581</td>\n",
       "      <td>5476944</td>\n",
       "      <td>432131.0</td>\n",
       "    </tr>\n",
       "    <tr>\n",
       "      <th>9738</th>\n",
       "      <td>193583</td>\n",
       "      <td>5914996</td>\n",
       "      <td>445030.0</td>\n",
       "    </tr>\n",
       "    <tr>\n",
       "      <th>9739</th>\n",
       "      <td>193585</td>\n",
       "      <td>6397426</td>\n",
       "      <td>479308.0</td>\n",
       "    </tr>\n",
       "    <tr>\n",
       "      <th>9740</th>\n",
       "      <td>193587</td>\n",
       "      <td>8391976</td>\n",
       "      <td>483455.0</td>\n",
       "    </tr>\n",
       "    <tr>\n",
       "      <th>9741</th>\n",
       "      <td>193609</td>\n",
       "      <td>101726</td>\n",
       "      <td>37891.0</td>\n",
       "    </tr>\n",
       "  </tbody>\n",
       "</table>\n",
       "<p>9742 rows × 3 columns</p>\n",
       "</div>"
      ],
      "text/plain": [
       "      movieId   imdbId    tmdbId\n",
       "0           1   114709     862.0\n",
       "1           2   113497    8844.0\n",
       "2           3   113228   15602.0\n",
       "3           4   114885   31357.0\n",
       "4           5   113041   11862.0\n",
       "...       ...      ...       ...\n",
       "9737   193581  5476944  432131.0\n",
       "9738   193583  5914996  445030.0\n",
       "9739   193585  6397426  479308.0\n",
       "9740   193587  8391976  483455.0\n",
       "9741   193609   101726   37891.0\n",
       "\n",
       "[9742 rows x 3 columns]"
      ]
     },
     "execution_count": 19,
     "metadata": {},
     "output_type": "execute_result"
    }
   ],
   "source": [
    "link"
   ]
  },
  {
   "cell_type": "code",
   "execution_count": 20,
   "metadata": {
    "ExecuteTime": {
     "end_time": "2022-05-10T22:21:12.141954Z",
     "start_time": "2022-05-10T22:21:12.134457Z"
    },
    "scrolled": false
   },
   "outputs": [
    {
     "data": {
      "text/html": [
       "<div>\n",
       "<style scoped>\n",
       "    .dataframe tbody tr th:only-of-type {\n",
       "        vertical-align: middle;\n",
       "    }\n",
       "\n",
       "    .dataframe tbody tr th {\n",
       "        vertical-align: top;\n",
       "    }\n",
       "\n",
       "    .dataframe thead th {\n",
       "        text-align: right;\n",
       "    }\n",
       "</style>\n",
       "<table border=\"1\" class=\"dataframe\">\n",
       "  <thead>\n",
       "    <tr style=\"text-align: right;\">\n",
       "      <th></th>\n",
       "      <th>userId</th>\n",
       "      <th>movieId</th>\n",
       "      <th>rating</th>\n",
       "      <th>timestamp</th>\n",
       "    </tr>\n",
       "  </thead>\n",
       "  <tbody>\n",
       "    <tr>\n",
       "      <th>0</th>\n",
       "      <td>1</td>\n",
       "      <td>1</td>\n",
       "      <td>4.0</td>\n",
       "      <td>964982703</td>\n",
       "    </tr>\n",
       "    <tr>\n",
       "      <th>1</th>\n",
       "      <td>1</td>\n",
       "      <td>3</td>\n",
       "      <td>4.0</td>\n",
       "      <td>964981247</td>\n",
       "    </tr>\n",
       "    <tr>\n",
       "      <th>2</th>\n",
       "      <td>1</td>\n",
       "      <td>6</td>\n",
       "      <td>4.0</td>\n",
       "      <td>964982224</td>\n",
       "    </tr>\n",
       "    <tr>\n",
       "      <th>3</th>\n",
       "      <td>1</td>\n",
       "      <td>47</td>\n",
       "      <td>5.0</td>\n",
       "      <td>964983815</td>\n",
       "    </tr>\n",
       "    <tr>\n",
       "      <th>4</th>\n",
       "      <td>1</td>\n",
       "      <td>50</td>\n",
       "      <td>5.0</td>\n",
       "      <td>964982931</td>\n",
       "    </tr>\n",
       "    <tr>\n",
       "      <th>...</th>\n",
       "      <td>...</td>\n",
       "      <td>...</td>\n",
       "      <td>...</td>\n",
       "      <td>...</td>\n",
       "    </tr>\n",
       "    <tr>\n",
       "      <th>100831</th>\n",
       "      <td>610</td>\n",
       "      <td>166534</td>\n",
       "      <td>4.0</td>\n",
       "      <td>1493848402</td>\n",
       "    </tr>\n",
       "    <tr>\n",
       "      <th>100832</th>\n",
       "      <td>610</td>\n",
       "      <td>168248</td>\n",
       "      <td>5.0</td>\n",
       "      <td>1493850091</td>\n",
       "    </tr>\n",
       "    <tr>\n",
       "      <th>100833</th>\n",
       "      <td>610</td>\n",
       "      <td>168250</td>\n",
       "      <td>5.0</td>\n",
       "      <td>1494273047</td>\n",
       "    </tr>\n",
       "    <tr>\n",
       "      <th>100834</th>\n",
       "      <td>610</td>\n",
       "      <td>168252</td>\n",
       "      <td>5.0</td>\n",
       "      <td>1493846352</td>\n",
       "    </tr>\n",
       "    <tr>\n",
       "      <th>100835</th>\n",
       "      <td>610</td>\n",
       "      <td>170875</td>\n",
       "      <td>3.0</td>\n",
       "      <td>1493846415</td>\n",
       "    </tr>\n",
       "  </tbody>\n",
       "</table>\n",
       "<p>100836 rows × 4 columns</p>\n",
       "</div>"
      ],
      "text/plain": [
       "        userId  movieId  rating   timestamp\n",
       "0            1        1     4.0   964982703\n",
       "1            1        3     4.0   964981247\n",
       "2            1        6     4.0   964982224\n",
       "3            1       47     5.0   964983815\n",
       "4            1       50     5.0   964982931\n",
       "...        ...      ...     ...         ...\n",
       "100831     610   166534     4.0  1493848402\n",
       "100832     610   168248     5.0  1493850091\n",
       "100833     610   168250     5.0  1494273047\n",
       "100834     610   168252     5.0  1493846352\n",
       "100835     610   170875     3.0  1493846415\n",
       "\n",
       "[100836 rows x 4 columns]"
      ]
     },
     "execution_count": 20,
     "metadata": {},
     "output_type": "execute_result"
    }
   ],
   "source": [
    "rating"
   ]
  },
  {
   "cell_type": "code",
   "execution_count": 21,
   "metadata": {
    "ExecuteTime": {
     "end_time": "2022-05-10T22:21:12.154137Z",
     "start_time": "2022-05-10T22:21:12.143166Z"
    },
    "scrolled": true
   },
   "outputs": [],
   "source": [
    "#converted timestamp to datetime\n",
    "rating['timestamp'] = pd.to_datetime(rating['timestamp'], unit='s')"
   ]
  },
  {
   "cell_type": "code",
   "execution_count": 22,
   "metadata": {
    "ExecuteTime": {
     "end_time": "2022-05-10T22:21:12.160270Z",
     "start_time": "2022-05-10T22:21:12.155157Z"
    }
   },
   "outputs": [
    {
     "data": {
      "text/plain": [
       "4.0    0.265957\n",
       "3.0    0.198808\n",
       "5.0    0.131015\n",
       "3.5    0.130271\n",
       "4.5    0.084801\n",
       "2.0    0.074884\n",
       "2.5    0.055040\n",
       "1.0    0.027877\n",
       "1.5    0.017762\n",
       "0.5    0.013586\n",
       "Name: rating, dtype: float64"
      ]
     },
     "execution_count": 22,
     "metadata": {},
     "output_type": "execute_result"
    }
   ],
   "source": [
    "rating.rating.value_counts(normalize=True)"
   ]
  },
  {
   "cell_type": "code",
   "execution_count": 23,
   "metadata": {
    "ExecuteTime": {
     "end_time": "2022-05-10T22:21:12.175429Z",
     "start_time": "2022-05-10T22:21:12.163699Z"
    }
   },
   "outputs": [
    {
     "data": {
      "text/plain": [
       "0"
      ]
     },
     "execution_count": 23,
     "metadata": {},
     "output_type": "execute_result"
    }
   ],
   "source": [
    "rating.duplicated().sum()"
   ]
  },
  {
   "cell_type": "code",
   "execution_count": 24,
   "metadata": {
    "ExecuteTime": {
     "end_time": "2022-05-10T22:21:12.183178Z",
     "start_time": "2022-05-10T22:21:12.178307Z"
    }
   },
   "outputs": [
    {
     "data": {
      "text/plain": [
       "userId       0\n",
       "movieId      0\n",
       "rating       0\n",
       "timestamp    0\n",
       "dtype: int64"
      ]
     },
     "execution_count": 24,
     "metadata": {},
     "output_type": "execute_result"
    }
   ],
   "source": [
    "rating.isna().sum()"
   ]
  },
  {
   "cell_type": "code",
   "execution_count": 25,
   "metadata": {
    "ExecuteTime": {
     "end_time": "2022-05-10T22:21:12.190593Z",
     "start_time": "2022-05-10T22:21:12.184270Z"
    }
   },
   "outputs": [
    {
     "data": {
      "text/html": [
       "<div>\n",
       "<style scoped>\n",
       "    .dataframe tbody tr th:only-of-type {\n",
       "        vertical-align: middle;\n",
       "    }\n",
       "\n",
       "    .dataframe tbody tr th {\n",
       "        vertical-align: top;\n",
       "    }\n",
       "\n",
       "    .dataframe thead th {\n",
       "        text-align: right;\n",
       "    }\n",
       "</style>\n",
       "<table border=\"1\" class=\"dataframe\">\n",
       "  <thead>\n",
       "    <tr style=\"text-align: right;\">\n",
       "      <th></th>\n",
       "      <th>userId</th>\n",
       "      <th>movieId</th>\n",
       "      <th>tag</th>\n",
       "      <th>timestamp</th>\n",
       "    </tr>\n",
       "  </thead>\n",
       "  <tbody>\n",
       "    <tr>\n",
       "      <th>0</th>\n",
       "      <td>2</td>\n",
       "      <td>60756</td>\n",
       "      <td>funny</td>\n",
       "      <td>1445714994</td>\n",
       "    </tr>\n",
       "    <tr>\n",
       "      <th>1</th>\n",
       "      <td>2</td>\n",
       "      <td>60756</td>\n",
       "      <td>Highly quotable</td>\n",
       "      <td>1445714996</td>\n",
       "    </tr>\n",
       "    <tr>\n",
       "      <th>2</th>\n",
       "      <td>2</td>\n",
       "      <td>60756</td>\n",
       "      <td>will ferrell</td>\n",
       "      <td>1445714992</td>\n",
       "    </tr>\n",
       "    <tr>\n",
       "      <th>3</th>\n",
       "      <td>2</td>\n",
       "      <td>89774</td>\n",
       "      <td>Boxing story</td>\n",
       "      <td>1445715207</td>\n",
       "    </tr>\n",
       "    <tr>\n",
       "      <th>4</th>\n",
       "      <td>2</td>\n",
       "      <td>89774</td>\n",
       "      <td>MMA</td>\n",
       "      <td>1445715200</td>\n",
       "    </tr>\n",
       "    <tr>\n",
       "      <th>...</th>\n",
       "      <td>...</td>\n",
       "      <td>...</td>\n",
       "      <td>...</td>\n",
       "      <td>...</td>\n",
       "    </tr>\n",
       "    <tr>\n",
       "      <th>3678</th>\n",
       "      <td>606</td>\n",
       "      <td>7382</td>\n",
       "      <td>for katie</td>\n",
       "      <td>1171234019</td>\n",
       "    </tr>\n",
       "    <tr>\n",
       "      <th>3679</th>\n",
       "      <td>606</td>\n",
       "      <td>7936</td>\n",
       "      <td>austere</td>\n",
       "      <td>1173392334</td>\n",
       "    </tr>\n",
       "    <tr>\n",
       "      <th>3680</th>\n",
       "      <td>610</td>\n",
       "      <td>3265</td>\n",
       "      <td>gun fu</td>\n",
       "      <td>1493843984</td>\n",
       "    </tr>\n",
       "    <tr>\n",
       "      <th>3681</th>\n",
       "      <td>610</td>\n",
       "      <td>3265</td>\n",
       "      <td>heroic bloodshed</td>\n",
       "      <td>1493843978</td>\n",
       "    </tr>\n",
       "    <tr>\n",
       "      <th>3682</th>\n",
       "      <td>610</td>\n",
       "      <td>168248</td>\n",
       "      <td>Heroic Bloodshed</td>\n",
       "      <td>1493844270</td>\n",
       "    </tr>\n",
       "  </tbody>\n",
       "</table>\n",
       "<p>3683 rows × 4 columns</p>\n",
       "</div>"
      ],
      "text/plain": [
       "      userId  movieId               tag   timestamp\n",
       "0          2    60756             funny  1445714994\n",
       "1          2    60756   Highly quotable  1445714996\n",
       "2          2    60756      will ferrell  1445714992\n",
       "3          2    89774      Boxing story  1445715207\n",
       "4          2    89774               MMA  1445715200\n",
       "...      ...      ...               ...         ...\n",
       "3678     606     7382         for katie  1171234019\n",
       "3679     606     7936           austere  1173392334\n",
       "3680     610     3265            gun fu  1493843984\n",
       "3681     610     3265  heroic bloodshed  1493843978\n",
       "3682     610   168248  Heroic Bloodshed  1493844270\n",
       "\n",
       "[3683 rows x 4 columns]"
      ]
     },
     "execution_count": 25,
     "metadata": {},
     "output_type": "execute_result"
    }
   ],
   "source": [
    "tags"
   ]
  },
  {
   "cell_type": "code",
   "execution_count": 26,
   "metadata": {
    "ExecuteTime": {
     "end_time": "2022-05-10T22:21:12.207884Z",
     "start_time": "2022-05-10T22:21:12.191560Z"
    }
   },
   "outputs": [],
   "source": [
    "movie_rating = movies.merge(rating, on='movieId', how='outer')"
   ]
  },
  {
   "cell_type": "code",
   "execution_count": 27,
   "metadata": {
    "ExecuteTime": {
     "end_time": "2022-05-10T22:21:12.235688Z",
     "start_time": "2022-05-10T22:21:12.209390Z"
    }
   },
   "outputs": [
    {
     "data": {
      "text/html": [
       "<div>\n",
       "<style scoped>\n",
       "    .dataframe tbody tr th:only-of-type {\n",
       "        vertical-align: middle;\n",
       "    }\n",
       "\n",
       "    .dataframe tbody tr th {\n",
       "        vertical-align: top;\n",
       "    }\n",
       "\n",
       "    .dataframe thead th {\n",
       "        text-align: right;\n",
       "    }\n",
       "</style>\n",
       "<table border=\"1\" class=\"dataframe\">\n",
       "  <thead>\n",
       "    <tr style=\"text-align: right;\">\n",
       "      <th></th>\n",
       "      <th>movieId</th>\n",
       "      <th>genres</th>\n",
       "      <th>Title</th>\n",
       "      <th>year_released</th>\n",
       "      <th>userId</th>\n",
       "      <th>rating</th>\n",
       "      <th>timestamp</th>\n",
       "    </tr>\n",
       "  </thead>\n",
       "  <tbody>\n",
       "    <tr>\n",
       "      <th>0</th>\n",
       "      <td>1</td>\n",
       "      <td>Adventure|Animation|Children|Comedy|Fantasy</td>\n",
       "      <td>Toy Story</td>\n",
       "      <td>1995</td>\n",
       "      <td>1.0</td>\n",
       "      <td>4.0</td>\n",
       "      <td>2000-07-30 18:45:03</td>\n",
       "    </tr>\n",
       "    <tr>\n",
       "      <th>1</th>\n",
       "      <td>1</td>\n",
       "      <td>Adventure|Animation|Children|Comedy|Fantasy</td>\n",
       "      <td>Toy Story</td>\n",
       "      <td>1995</td>\n",
       "      <td>5.0</td>\n",
       "      <td>4.0</td>\n",
       "      <td>1996-11-08 06:36:02</td>\n",
       "    </tr>\n",
       "    <tr>\n",
       "      <th>2</th>\n",
       "      <td>1</td>\n",
       "      <td>Adventure|Animation|Children|Comedy|Fantasy</td>\n",
       "      <td>Toy Story</td>\n",
       "      <td>1995</td>\n",
       "      <td>7.0</td>\n",
       "      <td>4.5</td>\n",
       "      <td>2005-01-25 06:52:26</td>\n",
       "    </tr>\n",
       "    <tr>\n",
       "      <th>3</th>\n",
       "      <td>1</td>\n",
       "      <td>Adventure|Animation|Children|Comedy|Fantasy</td>\n",
       "      <td>Toy Story</td>\n",
       "      <td>1995</td>\n",
       "      <td>15.0</td>\n",
       "      <td>2.5</td>\n",
       "      <td>2017-11-13 12:59:30</td>\n",
       "    </tr>\n",
       "    <tr>\n",
       "      <th>4</th>\n",
       "      <td>1</td>\n",
       "      <td>Adventure|Animation|Children|Comedy|Fantasy</td>\n",
       "      <td>Toy Story</td>\n",
       "      <td>1995</td>\n",
       "      <td>17.0</td>\n",
       "      <td>4.5</td>\n",
       "      <td>2011-05-18 05:28:03</td>\n",
       "    </tr>\n",
       "    <tr>\n",
       "      <th>...</th>\n",
       "      <td>...</td>\n",
       "      <td>...</td>\n",
       "      <td>...</td>\n",
       "      <td>...</td>\n",
       "      <td>...</td>\n",
       "      <td>...</td>\n",
       "      <td>...</td>\n",
       "    </tr>\n",
       "    <tr>\n",
       "      <th>100849</th>\n",
       "      <td>64997</td>\n",
       "      <td>NaN</td>\n",
       "      <td>NaN</td>\n",
       "      <td>NaN</td>\n",
       "      <td>68.0</td>\n",
       "      <td>2.5</td>\n",
       "      <td>2008-12-28 20:55:15</td>\n",
       "    </tr>\n",
       "    <tr>\n",
       "      <th>100850</th>\n",
       "      <td>144606</td>\n",
       "      <td>NaN</td>\n",
       "      <td>NaN</td>\n",
       "      <td>NaN</td>\n",
       "      <td>111.0</td>\n",
       "      <td>4.0</td>\n",
       "      <td>2018-01-31 23:27:37</td>\n",
       "    </tr>\n",
       "    <tr>\n",
       "      <th>100851</th>\n",
       "      <td>147002</td>\n",
       "      <td>NaN</td>\n",
       "      <td>NaN</td>\n",
       "      <td>NaN</td>\n",
       "      <td>318.0</td>\n",
       "      <td>4.0</td>\n",
       "      <td>2017-08-08 15:45:52</td>\n",
       "    </tr>\n",
       "    <tr>\n",
       "      <th>100852</th>\n",
       "      <td>26958</td>\n",
       "      <td>NaN</td>\n",
       "      <td>NaN</td>\n",
       "      <td>NaN</td>\n",
       "      <td>509.0</td>\n",
       "      <td>3.5</td>\n",
       "      <td>2015-07-04 17:42:33</td>\n",
       "    </tr>\n",
       "    <tr>\n",
       "      <th>100853</th>\n",
       "      <td>168358</td>\n",
       "      <td>NaN</td>\n",
       "      <td>NaN</td>\n",
       "      <td>NaN</td>\n",
       "      <td>514.0</td>\n",
       "      <td>2.5</td>\n",
       "      <td>2018-08-11 00:06:10</td>\n",
       "    </tr>\n",
       "  </tbody>\n",
       "</table>\n",
       "<p>100854 rows × 7 columns</p>\n",
       "</div>"
      ],
      "text/plain": [
       "        movieId                                       genres       Title  \\\n",
       "0             1  Adventure|Animation|Children|Comedy|Fantasy  Toy Story    \n",
       "1             1  Adventure|Animation|Children|Comedy|Fantasy  Toy Story    \n",
       "2             1  Adventure|Animation|Children|Comedy|Fantasy  Toy Story    \n",
       "3             1  Adventure|Animation|Children|Comedy|Fantasy  Toy Story    \n",
       "4             1  Adventure|Animation|Children|Comedy|Fantasy  Toy Story    \n",
       "...         ...                                          ...         ...   \n",
       "100849    64997                                          NaN         NaN   \n",
       "100850   144606                                          NaN         NaN   \n",
       "100851   147002                                          NaN         NaN   \n",
       "100852    26958                                          NaN         NaN   \n",
       "100853   168358                                          NaN         NaN   \n",
       "\n",
       "       year_released  userId  rating           timestamp  \n",
       "0               1995     1.0     4.0 2000-07-30 18:45:03  \n",
       "1               1995     5.0     4.0 1996-11-08 06:36:02  \n",
       "2               1995     7.0     4.5 2005-01-25 06:52:26  \n",
       "3               1995    15.0     2.5 2017-11-13 12:59:30  \n",
       "4               1995    17.0     4.5 2011-05-18 05:28:03  \n",
       "...              ...     ...     ...                 ...  \n",
       "100849           NaN    68.0     2.5 2008-12-28 20:55:15  \n",
       "100850           NaN   111.0     4.0 2018-01-31 23:27:37  \n",
       "100851           NaN   318.0     4.0 2017-08-08 15:45:52  \n",
       "100852           NaN   509.0     3.5 2015-07-04 17:42:33  \n",
       "100853           NaN   514.0     2.5 2018-08-11 00:06:10  \n",
       "\n",
       "[100854 rows x 7 columns]"
      ]
     },
     "execution_count": 27,
     "metadata": {},
     "output_type": "execute_result"
    }
   ],
   "source": [
    "movie_rating"
   ]
  },
  {
   "cell_type": "code",
   "execution_count": 28,
   "metadata": {
    "ExecuteTime": {
     "end_time": "2022-05-10T22:21:12.259855Z",
     "start_time": "2022-05-10T22:21:12.236786Z"
    }
   },
   "outputs": [],
   "source": [
    "movie_rating.dropna(inplace=True)"
   ]
  },
  {
   "cell_type": "code",
   "execution_count": 29,
   "metadata": {
    "ExecuteTime": {
     "end_time": "2022-05-10T22:21:12.291929Z",
     "start_time": "2022-05-10T22:21:12.260827Z"
    },
    "scrolled": true
   },
   "outputs": [],
   "source": [
    "movie_rating['genres']=[row.strip().lower().replace('|',',') for row in movie_rating['genres']]"
   ]
  },
  {
   "cell_type": "code",
   "execution_count": 30,
   "metadata": {
    "ExecuteTime": {
     "end_time": "2022-05-10T22:21:12.298222Z",
     "start_time": "2022-05-10T22:21:12.293257Z"
    }
   },
   "outputs": [
    {
     "data": {
      "text/plain": [
       "610"
      ]
     },
     "execution_count": 30,
     "metadata": {},
     "output_type": "execute_result"
    }
   ],
   "source": [
    "movie_rating['userId'].nunique()"
   ]
  },
  {
   "cell_type": "code",
   "execution_count": 31,
   "metadata": {
    "ExecuteTime": {
     "end_time": "2022-05-10T22:21:12.313066Z",
     "start_time": "2022-05-10T22:21:12.300513Z"
    },
    "scrolled": true
   },
   "outputs": [
    {
     "data": {
      "text/html": [
       "<div>\n",
       "<style scoped>\n",
       "    .dataframe tbody tr th:only-of-type {\n",
       "        vertical-align: middle;\n",
       "    }\n",
       "\n",
       "    .dataframe tbody tr th {\n",
       "        vertical-align: top;\n",
       "    }\n",
       "\n",
       "    .dataframe thead th {\n",
       "        text-align: right;\n",
       "    }\n",
       "</style>\n",
       "<table border=\"1\" class=\"dataframe\">\n",
       "  <thead>\n",
       "    <tr style=\"text-align: right;\">\n",
       "      <th></th>\n",
       "      <th>rating</th>\n",
       "    </tr>\n",
       "  </thead>\n",
       "  <tbody>\n",
       "    <tr>\n",
       "      <th>count</th>\n",
       "      <td>100813.000000</td>\n",
       "    </tr>\n",
       "    <tr>\n",
       "      <th>mean</th>\n",
       "      <td>3.501557</td>\n",
       "    </tr>\n",
       "    <tr>\n",
       "      <th>std</th>\n",
       "      <td>1.042494</td>\n",
       "    </tr>\n",
       "    <tr>\n",
       "      <th>min</th>\n",
       "      <td>0.500000</td>\n",
       "    </tr>\n",
       "    <tr>\n",
       "      <th>25%</th>\n",
       "      <td>3.000000</td>\n",
       "    </tr>\n",
       "    <tr>\n",
       "      <th>50%</th>\n",
       "      <td>3.500000</td>\n",
       "    </tr>\n",
       "    <tr>\n",
       "      <th>75%</th>\n",
       "      <td>4.000000</td>\n",
       "    </tr>\n",
       "    <tr>\n",
       "      <th>max</th>\n",
       "      <td>5.000000</td>\n",
       "    </tr>\n",
       "  </tbody>\n",
       "</table>\n",
       "</div>"
      ],
      "text/plain": [
       "              rating\n",
       "count  100813.000000\n",
       "mean        3.501557\n",
       "std         1.042494\n",
       "min         0.500000\n",
       "25%         3.000000\n",
       "50%         3.500000\n",
       "75%         4.000000\n",
       "max         5.000000"
      ]
     },
     "execution_count": 31,
     "metadata": {},
     "output_type": "execute_result"
    }
   ],
   "source": [
    "stats = movie_rating.filter(['rating', 'timestamp']).describe()\n",
    "stats"
   ]
  },
  {
   "cell_type": "code",
   "execution_count": 32,
   "metadata": {
    "ExecuteTime": {
     "end_time": "2022-05-10T22:21:12.323018Z",
     "start_time": "2022-05-10T22:21:12.314285Z"
    },
    "scrolled": true
   },
   "outputs": [
    {
     "data": {
      "text/html": [
       "<div>\n",
       "<style scoped>\n",
       "    .dataframe tbody tr th:only-of-type {\n",
       "        vertical-align: middle;\n",
       "    }\n",
       "\n",
       "    .dataframe tbody tr th {\n",
       "        vertical-align: top;\n",
       "    }\n",
       "\n",
       "    .dataframe thead th {\n",
       "        text-align: right;\n",
       "    }\n",
       "</style>\n",
       "<table border=\"1\" class=\"dataframe\">\n",
       "  <thead>\n",
       "    <tr style=\"text-align: right;\">\n",
       "      <th></th>\n",
       "      <th>movieId</th>\n",
       "      <th>genres</th>\n",
       "      <th>Title</th>\n",
       "      <th>year_released</th>\n",
       "      <th>userId</th>\n",
       "      <th>rating</th>\n",
       "      <th>timestamp</th>\n",
       "    </tr>\n",
       "  </thead>\n",
       "  <tbody>\n",
       "    <tr>\n",
       "      <th>0</th>\n",
       "      <td>1</td>\n",
       "      <td>adventure,animation,children,comedy,fantasy</td>\n",
       "      <td>Toy Story</td>\n",
       "      <td>1995</td>\n",
       "      <td>1.0</td>\n",
       "      <td>4.0</td>\n",
       "      <td>2000-07-30 18:45:03</td>\n",
       "    </tr>\n",
       "    <tr>\n",
       "      <th>1</th>\n",
       "      <td>1</td>\n",
       "      <td>adventure,animation,children,comedy,fantasy</td>\n",
       "      <td>Toy Story</td>\n",
       "      <td>1995</td>\n",
       "      <td>5.0</td>\n",
       "      <td>4.0</td>\n",
       "      <td>1996-11-08 06:36:02</td>\n",
       "    </tr>\n",
       "    <tr>\n",
       "      <th>2</th>\n",
       "      <td>1</td>\n",
       "      <td>adventure,animation,children,comedy,fantasy</td>\n",
       "      <td>Toy Story</td>\n",
       "      <td>1995</td>\n",
       "      <td>7.0</td>\n",
       "      <td>4.5</td>\n",
       "      <td>2005-01-25 06:52:26</td>\n",
       "    </tr>\n",
       "    <tr>\n",
       "      <th>3</th>\n",
       "      <td>1</td>\n",
       "      <td>adventure,animation,children,comedy,fantasy</td>\n",
       "      <td>Toy Story</td>\n",
       "      <td>1995</td>\n",
       "      <td>15.0</td>\n",
       "      <td>2.5</td>\n",
       "      <td>2017-11-13 12:59:30</td>\n",
       "    </tr>\n",
       "    <tr>\n",
       "      <th>4</th>\n",
       "      <td>1</td>\n",
       "      <td>adventure,animation,children,comedy,fantasy</td>\n",
       "      <td>Toy Story</td>\n",
       "      <td>1995</td>\n",
       "      <td>17.0</td>\n",
       "      <td>4.5</td>\n",
       "      <td>2011-05-18 05:28:03</td>\n",
       "    </tr>\n",
       "    <tr>\n",
       "      <th>...</th>\n",
       "      <td>...</td>\n",
       "      <td>...</td>\n",
       "      <td>...</td>\n",
       "      <td>...</td>\n",
       "      <td>...</td>\n",
       "      <td>...</td>\n",
       "      <td>...</td>\n",
       "    </tr>\n",
       "    <tr>\n",
       "      <th>100843</th>\n",
       "      <td>193581</td>\n",
       "      <td>action,animation,comedy,fantasy</td>\n",
       "      <td>Black Butler: Book of the Atlantic</td>\n",
       "      <td>2017</td>\n",
       "      <td>184.0</td>\n",
       "      <td>4.0</td>\n",
       "      <td>2018-09-16 14:44:42</td>\n",
       "    </tr>\n",
       "    <tr>\n",
       "      <th>100844</th>\n",
       "      <td>193583</td>\n",
       "      <td>animation,comedy,fantasy</td>\n",
       "      <td>No Game No Life: Zero</td>\n",
       "      <td>2017</td>\n",
       "      <td>184.0</td>\n",
       "      <td>3.5</td>\n",
       "      <td>2018-09-16 14:52:25</td>\n",
       "    </tr>\n",
       "    <tr>\n",
       "      <th>100845</th>\n",
       "      <td>193585</td>\n",
       "      <td>drama</td>\n",
       "      <td>Flint</td>\n",
       "      <td>2017</td>\n",
       "      <td>184.0</td>\n",
       "      <td>3.5</td>\n",
       "      <td>2018-09-16 14:56:45</td>\n",
       "    </tr>\n",
       "    <tr>\n",
       "      <th>100846</th>\n",
       "      <td>193587</td>\n",
       "      <td>action,animation</td>\n",
       "      <td>Bungo Stray Dogs: Dead Apple</td>\n",
       "      <td>2018</td>\n",
       "      <td>184.0</td>\n",
       "      <td>3.5</td>\n",
       "      <td>2018-09-16 15:00:21</td>\n",
       "    </tr>\n",
       "    <tr>\n",
       "      <th>100847</th>\n",
       "      <td>193609</td>\n",
       "      <td>comedy</td>\n",
       "      <td>Andrew Dice Clay: Dice Rules</td>\n",
       "      <td>1991</td>\n",
       "      <td>331.0</td>\n",
       "      <td>4.0</td>\n",
       "      <td>2018-09-17 04:13:26</td>\n",
       "    </tr>\n",
       "  </tbody>\n",
       "</table>\n",
       "<p>100813 rows × 7 columns</p>\n",
       "</div>"
      ],
      "text/plain": [
       "        movieId                                       genres  \\\n",
       "0             1  adventure,animation,children,comedy,fantasy   \n",
       "1             1  adventure,animation,children,comedy,fantasy   \n",
       "2             1  adventure,animation,children,comedy,fantasy   \n",
       "3             1  adventure,animation,children,comedy,fantasy   \n",
       "4             1  adventure,animation,children,comedy,fantasy   \n",
       "...         ...                                          ...   \n",
       "100843   193581              action,animation,comedy,fantasy   \n",
       "100844   193583                     animation,comedy,fantasy   \n",
       "100845   193585                                        drama   \n",
       "100846   193587                             action,animation   \n",
       "100847   193609                                       comedy   \n",
       "\n",
       "                                      Title year_released  userId  rating  \\\n",
       "0                                Toy Story           1995     1.0     4.0   \n",
       "1                                Toy Story           1995     5.0     4.0   \n",
       "2                                Toy Story           1995     7.0     4.5   \n",
       "3                                Toy Story           1995    15.0     2.5   \n",
       "4                                Toy Story           1995    17.0     4.5   \n",
       "...                                     ...           ...     ...     ...   \n",
       "100843  Black Butler: Book of the Atlantic           2017   184.0     4.0   \n",
       "100844               No Game No Life: Zero           2017   184.0     3.5   \n",
       "100845                               Flint           2017   184.0     3.5   \n",
       "100846        Bungo Stray Dogs: Dead Apple           2018   184.0     3.5   \n",
       "100847        Andrew Dice Clay: Dice Rules           1991   331.0     4.0   \n",
       "\n",
       "                 timestamp  \n",
       "0      2000-07-30 18:45:03  \n",
       "1      1996-11-08 06:36:02  \n",
       "2      2005-01-25 06:52:26  \n",
       "3      2017-11-13 12:59:30  \n",
       "4      2011-05-18 05:28:03  \n",
       "...                    ...  \n",
       "100843 2018-09-16 14:44:42  \n",
       "100844 2018-09-16 14:52:25  \n",
       "100845 2018-09-16 14:56:45  \n",
       "100846 2018-09-16 15:00:21  \n",
       "100847 2018-09-17 04:13:26  \n",
       "\n",
       "[100813 rows x 7 columns]"
      ]
     },
     "execution_count": 32,
     "metadata": {},
     "output_type": "execute_result"
    }
   ],
   "source": [
    "movie_rating"
   ]
  },
  {
   "cell_type": "code",
   "execution_count": 33,
   "metadata": {
    "ExecuteTime": {
     "end_time": "2022-05-10T22:21:12.325558Z",
     "start_time": "2022-05-10T22:21:12.324096Z"
    }
   },
   "outputs": [],
   "source": [
    "# movie_rating['genres'] = movie_rating['genres'].to_list()"
   ]
  },
  {
   "cell_type": "code",
   "execution_count": 34,
   "metadata": {
    "ExecuteTime": {
     "end_time": "2022-05-10T22:21:12.327878Z",
     "start_time": "2022-05-10T22:21:12.326530Z"
    },
    "scrolled": true
   },
   "outputs": [],
   "source": [
    "# pattern = \"([a-zA-Z]+(?:'[a-z]+)?)\"\n",
    "# tokenizer = RegexpTokenizer(pattern)\n",
    "# movie_rating['genres'] = [tokenizer.tokenize(token) for token in movie_rating['genres']]"
   ]
  },
  {
   "cell_type": "markdown",
   "metadata": {},
   "source": [
    "## Split"
   ]
  },
  {
   "cell_type": "code",
   "execution_count": 35,
   "metadata": {
    "ExecuteTime": {
     "end_time": "2022-05-10T22:21:12.342406Z",
     "start_time": "2022-05-10T22:21:12.329183Z"
    }
   },
   "outputs": [],
   "source": [
    "train, test = train_test_split(movie_rating, random_state=42)"
   ]
  },
  {
   "cell_type": "code",
   "execution_count": 36,
   "metadata": {
    "ExecuteTime": {
     "end_time": "2022-05-10T22:21:12.393901Z",
     "start_time": "2022-05-10T22:21:12.344707Z"
    }
   },
   "outputs": [],
   "source": [
    "reader = Reader(rating_scale=(1, 5))\n",
    "train_data = Dataset.load_from_df(train[['userId', 'movieId', 'rating']], reader)"
   ]
  },
  {
   "cell_type": "code",
   "execution_count": 37,
   "metadata": {
    "ExecuteTime": {
     "end_time": "2022-05-10T22:21:12.413227Z",
     "start_time": "2022-05-10T22:21:12.395100Z"
    }
   },
   "outputs": [],
   "source": [
    "test_data = Dataset.load_from_df(test[['userId', 'movieId', 'rating']], reader)"
   ]
  },
  {
   "cell_type": "markdown",
   "metadata": {},
   "source": [
    "## Tuning"
   ]
  },
  {
   "cell_type": "markdown",
   "metadata": {},
   "source": [
    "### KNNBasics"
   ]
  },
  {
   "cell_type": "code",
   "execution_count": 39,
   "metadata": {
    "ExecuteTime": {
     "end_time": "2022-05-10T21:15:49.632995Z",
     "start_time": "2022-05-10T21:15:20.414991Z"
    },
    "collapsed": true
   },
   "outputs": [
    {
     "name": "stderr",
     "output_type": "stream",
     "text": [
      "[Parallel(n_jobs=1)]: Using backend SequentialBackend with 1 concurrent workers.\n"
     ]
    },
    {
     "name": "stdout",
     "output_type": "stream",
     "text": [
      "Computing the msd similarity matrix...\n",
      "Done computing similarity matrix.\n"
     ]
    },
    {
     "name": "stderr",
     "output_type": "stream",
     "text": [
      "[Parallel(n_jobs=1)]: Done   1 out of   1 | elapsed:    0.5s remaining:    0.0s\n"
     ]
    },
    {
     "name": "stdout",
     "output_type": "stream",
     "text": [
      "Computing the msd similarity matrix...\n",
      "Done computing similarity matrix.\n"
     ]
    },
    {
     "name": "stderr",
     "output_type": "stream",
     "text": [
      "[Parallel(n_jobs=1)]: Done   2 out of   2 | elapsed:    1.0s remaining:    0.0s\n"
     ]
    },
    {
     "name": "stdout",
     "output_type": "stream",
     "text": [
      "Computing the msd similarity matrix...\n",
      "Done computing similarity matrix.\n"
     ]
    },
    {
     "name": "stderr",
     "output_type": "stream",
     "text": [
      "[Parallel(n_jobs=1)]: Done   3 out of   3 | elapsed:    1.5s remaining:    0.0s\n"
     ]
    },
    {
     "name": "stdout",
     "output_type": "stream",
     "text": [
      "Computing the msd similarity matrix...\n",
      "Done computing similarity matrix.\n"
     ]
    },
    {
     "name": "stderr",
     "output_type": "stream",
     "text": [
      "[Parallel(n_jobs=1)]: Done   4 out of   4 | elapsed:    2.0s remaining:    0.0s\n"
     ]
    },
    {
     "name": "stdout",
     "output_type": "stream",
     "text": [
      "Computing the msd similarity matrix...\n",
      "Done computing similarity matrix.\n",
      "Computing the msd similarity matrix...\n",
      "Done computing similarity matrix.\n",
      "Computing the msd similarity matrix...\n",
      "Done computing similarity matrix.\n",
      "Computing the msd similarity matrix...\n",
      "Done computing similarity matrix.\n",
      "Computing the msd similarity matrix...\n",
      "Done computing similarity matrix.\n",
      "Computing the msd similarity matrix...\n",
      "Done computing similarity matrix.\n",
      "Computing the msd similarity matrix...\n",
      "Done computing similarity matrix.\n",
      "Computing the msd similarity matrix...\n",
      "Done computing similarity matrix.\n",
      "Computing the msd similarity matrix...\n",
      "Done computing similarity matrix.\n",
      "Computing the msd similarity matrix...\n",
      "Done computing similarity matrix.\n",
      "Computing the msd similarity matrix...\n",
      "Done computing similarity matrix.\n",
      "Computing the msd similarity matrix...\n",
      "Done computing similarity matrix.\n",
      "Computing the msd similarity matrix...\n",
      "Done computing similarity matrix.\n",
      "Computing the msd similarity matrix...\n",
      "Done computing similarity matrix.\n",
      "Computing the msd similarity matrix...\n",
      "Done computing similarity matrix.\n",
      "Computing the msd similarity matrix...\n",
      "Done computing similarity matrix.\n",
      "Computing the msd similarity matrix...\n",
      "Done computing similarity matrix.\n",
      "Computing the msd similarity matrix...\n",
      "Done computing similarity matrix.\n",
      "Computing the msd similarity matrix...\n",
      "Done computing similarity matrix.\n",
      "Computing the msd similarity matrix...\n",
      "Done computing similarity matrix.\n",
      "Computing the msd similarity matrix...\n",
      "Done computing similarity matrix.\n",
      "Computing the msd similarity matrix...\n",
      "Done computing similarity matrix.\n",
      "Computing the msd similarity matrix...\n",
      "Done computing similarity matrix.\n",
      "Computing the msd similarity matrix...\n",
      "Done computing similarity matrix.\n",
      "Computing the msd similarity matrix...\n",
      "Done computing similarity matrix.\n",
      "Computing the msd similarity matrix...\n",
      "Done computing similarity matrix.\n",
      "Computing the msd similarity matrix...\n",
      "Done computing similarity matrix.\n",
      "Computing the msd similarity matrix...\n",
      "Done computing similarity matrix.\n",
      "Computing the msd similarity matrix...\n",
      "Done computing similarity matrix.\n",
      "Computing the msd similarity matrix...\n",
      "Done computing similarity matrix.\n",
      "Computing the msd similarity matrix...\n",
      "Done computing similarity matrix.\n",
      "Computing the msd similarity matrix...\n",
      "Done computing similarity matrix.\n",
      "Computing the msd similarity matrix...\n",
      "Done computing similarity matrix.\n",
      "Computing the msd similarity matrix...\n",
      "Done computing similarity matrix.\n",
      "Computing the msd similarity matrix...\n",
      "Done computing similarity matrix.\n",
      "Computing the msd similarity matrix...\n",
      "Done computing similarity matrix.\n",
      "Computing the msd similarity matrix...\n",
      "Done computing similarity matrix.\n",
      "Computing the msd similarity matrix...\n",
      "Done computing similarity matrix.\n",
      "Computing the msd similarity matrix...\n",
      "Done computing similarity matrix.\n",
      "Computing the msd similarity matrix...\n",
      "Done computing similarity matrix.\n",
      "Computing the msd similarity matrix...\n",
      "Done computing similarity matrix.\n"
     ]
    },
    {
     "name": "stderr",
     "output_type": "stream",
     "text": [
      "[Parallel(n_jobs=1)]: Done  45 out of  45 | elapsed:   28.8s finished\n"
     ]
    }
   ],
   "source": [
    "param_grid = {'k':[10, 50, 100],'min_k': [1, 5, 10]}\n",
    "base_model = GridSearchCV(KNNBasic,param_grid=param_grid,joblib_verbose=5)\n",
    "base_model.fit(train_data)"
   ]
  },
  {
   "cell_type": "code",
   "execution_count": 40,
   "metadata": {
    "ExecuteTime": {
     "end_time": "2022-05-10T21:15:49.637061Z",
     "start_time": "2022-05-10T21:15:49.634406Z"
    },
    "scrolled": true
   },
   "outputs": [
    {
     "data": {
      "text/plain": [
       "{'rmse': {'k': 10, 'min_k': 5}, 'mae': {'k': 10, 'min_k': 1}}"
      ]
     },
     "execution_count": 40,
     "metadata": {},
     "output_type": "execute_result"
    }
   ],
   "source": [
    "base_model.best_params"
   ]
  },
  {
   "cell_type": "code",
   "execution_count": 41,
   "metadata": {
    "ExecuteTime": {
     "end_time": "2022-05-10T21:16:12.527162Z",
     "start_time": "2022-05-10T21:15:49.638523Z"
    },
    "collapsed": true
   },
   "outputs": [
    {
     "name": "stderr",
     "output_type": "stream",
     "text": [
      "[Parallel(n_jobs=1)]: Using backend SequentialBackend with 1 concurrent workers.\n"
     ]
    },
    {
     "name": "stdout",
     "output_type": "stream",
     "text": [
      "Computing the msd similarity matrix...\n",
      "Done computing similarity matrix.\n"
     ]
    },
    {
     "name": "stderr",
     "output_type": "stream",
     "text": [
      "[Parallel(n_jobs=1)]: Done   1 out of   1 | elapsed:    0.4s remaining:    0.0s\n"
     ]
    },
    {
     "name": "stdout",
     "output_type": "stream",
     "text": [
      "Computing the msd similarity matrix...\n",
      "Done computing similarity matrix.\n"
     ]
    },
    {
     "name": "stderr",
     "output_type": "stream",
     "text": [
      "[Parallel(n_jobs=1)]: Done   2 out of   2 | elapsed:    0.9s remaining:    0.0s\n"
     ]
    },
    {
     "name": "stdout",
     "output_type": "stream",
     "text": [
      "Computing the msd similarity matrix...\n",
      "Done computing similarity matrix.\n"
     ]
    },
    {
     "name": "stderr",
     "output_type": "stream",
     "text": [
      "[Parallel(n_jobs=1)]: Done   3 out of   3 | elapsed:    1.4s remaining:    0.0s\n"
     ]
    },
    {
     "name": "stdout",
     "output_type": "stream",
     "text": [
      "Computing the msd similarity matrix...\n",
      "Done computing similarity matrix.\n"
     ]
    },
    {
     "name": "stderr",
     "output_type": "stream",
     "text": [
      "[Parallel(n_jobs=1)]: Done   4 out of   4 | elapsed:    1.8s remaining:    0.0s\n"
     ]
    },
    {
     "name": "stdout",
     "output_type": "stream",
     "text": [
      "Computing the msd similarity matrix...\n",
      "Done computing similarity matrix.\n",
      "Computing the msd similarity matrix...\n",
      "Done computing similarity matrix.\n",
      "Computing the msd similarity matrix...\n",
      "Done computing similarity matrix.\n",
      "Computing the msd similarity matrix...\n",
      "Done computing similarity matrix.\n",
      "Computing the msd similarity matrix...\n",
      "Done computing similarity matrix.\n",
      "Computing the msd similarity matrix...\n",
      "Done computing similarity matrix.\n",
      "Computing the msd similarity matrix...\n",
      "Done computing similarity matrix.\n",
      "Computing the msd similarity matrix...\n",
      "Done computing similarity matrix.\n",
      "Computing the msd similarity matrix...\n",
      "Done computing similarity matrix.\n",
      "Computing the msd similarity matrix...\n",
      "Done computing similarity matrix.\n",
      "Computing the msd similarity matrix...\n",
      "Done computing similarity matrix.\n",
      "Computing the msd similarity matrix...\n",
      "Done computing similarity matrix.\n",
      "Computing the msd similarity matrix...\n",
      "Done computing similarity matrix.\n",
      "Computing the msd similarity matrix...\n",
      "Done computing similarity matrix.\n",
      "Computing the msd similarity matrix...\n",
      "Done computing similarity matrix.\n",
      "Computing the msd similarity matrix...\n",
      "Done computing similarity matrix.\n",
      "Computing the msd similarity matrix...\n",
      "Done computing similarity matrix.\n",
      "Computing the msd similarity matrix...\n",
      "Done computing similarity matrix.\n",
      "Computing the msd similarity matrix...\n",
      "Done computing similarity matrix.\n",
      "Computing the msd similarity matrix...\n",
      "Done computing similarity matrix.\n",
      "Computing the msd similarity matrix...\n",
      "Done computing similarity matrix.\n",
      "Computing the msd similarity matrix...\n",
      "Done computing similarity matrix.\n",
      "Computing the msd similarity matrix...\n",
      "Done computing similarity matrix.\n",
      "Computing the msd similarity matrix...\n",
      "Done computing similarity matrix.\n",
      "Computing the msd similarity matrix...\n",
      "Done computing similarity matrix.\n",
      "Computing the msd similarity matrix...\n",
      "Done computing similarity matrix.\n",
      "Computing the msd similarity matrix...\n",
      "Done computing similarity matrix.\n",
      "Computing the msd similarity matrix...\n",
      "Done computing similarity matrix.\n",
      "Computing the msd similarity matrix...\n",
      "Done computing similarity matrix.\n",
      "Computing the msd similarity matrix...\n",
      "Done computing similarity matrix.\n",
      "Computing the msd similarity matrix...\n",
      "Done computing similarity matrix.\n",
      "Computing the msd similarity matrix...\n",
      "Done computing similarity matrix.\n",
      "Computing the msd similarity matrix...\n",
      "Done computing similarity matrix.\n",
      "Computing the msd similarity matrix...\n",
      "Done computing similarity matrix.\n",
      "Computing the msd similarity matrix...\n",
      "Done computing similarity matrix.\n",
      "Computing the msd similarity matrix...\n",
      "Done computing similarity matrix.\n",
      "Computing the msd similarity matrix...\n",
      "Done computing similarity matrix.\n",
      "Computing the msd similarity matrix...\n",
      "Done computing similarity matrix.\n",
      "Computing the msd similarity matrix...\n",
      "Done computing similarity matrix.\n",
      "Computing the msd similarity matrix...\n",
      "Done computing similarity matrix.\n",
      "Computing the msd similarity matrix...\n",
      "Done computing similarity matrix.\n"
     ]
    },
    {
     "name": "stderr",
     "output_type": "stream",
     "text": [
      "[Parallel(n_jobs=1)]: Done  45 out of  45 | elapsed:   22.5s finished\n"
     ]
    }
   ],
   "source": [
    "param_grid = {'k':[5, 10, 15],'min_k': [1, 5, 10]}\n",
    "base_model = GridSearchCV(KNNBasic,param_grid=param_grid,joblib_verbose=5)\n",
    "base_model.fit(train_data)"
   ]
  },
  {
   "cell_type": "code",
   "execution_count": 42,
   "metadata": {
    "ExecuteTime": {
     "end_time": "2022-05-10T21:16:12.531125Z",
     "start_time": "2022-05-10T21:16:12.528752Z"
    }
   },
   "outputs": [
    {
     "data": {
      "text/plain": [
       "{'rmse': {'k': 15, 'min_k': 5}, 'mae': {'k': 15, 'min_k': 5}}"
      ]
     },
     "execution_count": 42,
     "metadata": {},
     "output_type": "execute_result"
    }
   ],
   "source": [
    "base_model.best_params"
   ]
  },
  {
   "cell_type": "code",
   "execution_count": 43,
   "metadata": {
    "ExecuteTime": {
     "end_time": "2022-05-10T21:16:37.357679Z",
     "start_time": "2022-05-10T21:16:12.532528Z"
    },
    "collapsed": true
   },
   "outputs": [
    {
     "name": "stderr",
     "output_type": "stream",
     "text": [
      "[Parallel(n_jobs=1)]: Using backend SequentialBackend with 1 concurrent workers.\n"
     ]
    },
    {
     "name": "stdout",
     "output_type": "stream",
     "text": [
      "Computing the msd similarity matrix...\n",
      "Done computing similarity matrix.\n"
     ]
    },
    {
     "name": "stderr",
     "output_type": "stream",
     "text": [
      "[Parallel(n_jobs=1)]: Done   1 out of   1 | elapsed:    0.5s remaining:    0.0s\n"
     ]
    },
    {
     "name": "stdout",
     "output_type": "stream",
     "text": [
      "Computing the msd similarity matrix...\n",
      "Done computing similarity matrix.\n"
     ]
    },
    {
     "name": "stderr",
     "output_type": "stream",
     "text": [
      "[Parallel(n_jobs=1)]: Done   2 out of   2 | elapsed:    1.0s remaining:    0.0s\n"
     ]
    },
    {
     "name": "stdout",
     "output_type": "stream",
     "text": [
      "Computing the msd similarity matrix...\n",
      "Done computing similarity matrix.\n"
     ]
    },
    {
     "name": "stderr",
     "output_type": "stream",
     "text": [
      "[Parallel(n_jobs=1)]: Done   3 out of   3 | elapsed:    1.6s remaining:    0.0s\n"
     ]
    },
    {
     "name": "stdout",
     "output_type": "stream",
     "text": [
      "Computing the msd similarity matrix...\n",
      "Done computing similarity matrix.\n"
     ]
    },
    {
     "name": "stderr",
     "output_type": "stream",
     "text": [
      "[Parallel(n_jobs=1)]: Done   4 out of   4 | elapsed:    2.1s remaining:    0.0s\n"
     ]
    },
    {
     "name": "stdout",
     "output_type": "stream",
     "text": [
      "Computing the msd similarity matrix...\n",
      "Done computing similarity matrix.\n",
      "Computing the msd similarity matrix...\n",
      "Done computing similarity matrix.\n",
      "Computing the msd similarity matrix...\n",
      "Done computing similarity matrix.\n",
      "Computing the msd similarity matrix...\n",
      "Done computing similarity matrix.\n",
      "Computing the msd similarity matrix...\n",
      "Done computing similarity matrix.\n",
      "Computing the msd similarity matrix...\n",
      "Done computing similarity matrix.\n",
      "Computing the msd similarity matrix...\n",
      "Done computing similarity matrix.\n",
      "Computing the msd similarity matrix...\n",
      "Done computing similarity matrix.\n",
      "Computing the msd similarity matrix...\n",
      "Done computing similarity matrix.\n",
      "Computing the msd similarity matrix...\n",
      "Done computing similarity matrix.\n",
      "Computing the msd similarity matrix...\n",
      "Done computing similarity matrix.\n",
      "Computing the msd similarity matrix...\n",
      "Done computing similarity matrix.\n",
      "Computing the msd similarity matrix...\n",
      "Done computing similarity matrix.\n",
      "Computing the msd similarity matrix...\n",
      "Done computing similarity matrix.\n",
      "Computing the msd similarity matrix...\n",
      "Done computing similarity matrix.\n",
      "Computing the msd similarity matrix...\n",
      "Done computing similarity matrix.\n",
      "Computing the msd similarity matrix...\n",
      "Done computing similarity matrix.\n",
      "Computing the msd similarity matrix...\n",
      "Done computing similarity matrix.\n",
      "Computing the msd similarity matrix...\n",
      "Done computing similarity matrix.\n",
      "Computing the msd similarity matrix...\n",
      "Done computing similarity matrix.\n",
      "Computing the msd similarity matrix...\n",
      "Done computing similarity matrix.\n",
      "Computing the msd similarity matrix...\n",
      "Done computing similarity matrix.\n",
      "Computing the msd similarity matrix...\n",
      "Done computing similarity matrix.\n",
      "Computing the msd similarity matrix...\n",
      "Done computing similarity matrix.\n",
      "Computing the msd similarity matrix...\n",
      "Done computing similarity matrix.\n",
      "Computing the msd similarity matrix...\n",
      "Done computing similarity matrix.\n",
      "Computing the msd similarity matrix...\n",
      "Done computing similarity matrix.\n",
      "Computing the msd similarity matrix...\n",
      "Done computing similarity matrix.\n",
      "Computing the msd similarity matrix...\n",
      "Done computing similarity matrix.\n",
      "Computing the msd similarity matrix...\n",
      "Done computing similarity matrix.\n",
      "Computing the msd similarity matrix...\n",
      "Done computing similarity matrix.\n",
      "Computing the msd similarity matrix...\n",
      "Done computing similarity matrix.\n",
      "Computing the msd similarity matrix...\n",
      "Done computing similarity matrix.\n",
      "Computing the msd similarity matrix...\n",
      "Done computing similarity matrix.\n",
      "Computing the msd similarity matrix...\n",
      "Done computing similarity matrix.\n",
      "Computing the msd similarity matrix...\n",
      "Done computing similarity matrix.\n",
      "Computing the msd similarity matrix...\n",
      "Done computing similarity matrix.\n",
      "Computing the msd similarity matrix...\n",
      "Done computing similarity matrix.\n",
      "Computing the msd similarity matrix...\n",
      "Done computing similarity matrix.\n",
      "Computing the msd similarity matrix...\n",
      "Done computing similarity matrix.\n",
      "Computing the msd similarity matrix...\n",
      "Done computing similarity matrix.\n"
     ]
    },
    {
     "name": "stderr",
     "output_type": "stream",
     "text": [
      "[Parallel(n_jobs=1)]: Done  45 out of  45 | elapsed:   24.4s finished\n"
     ]
    }
   ],
   "source": [
    "param_grid = {'k':[10, 15, 20],'min_k': [1, 5, 10]}\n",
    "base_model = GridSearchCV(KNNBasic,param_grid=param_grid,joblib_verbose=5)\n",
    "base_model.fit(train_data)"
   ]
  },
  {
   "cell_type": "code",
   "execution_count": 44,
   "metadata": {
    "ExecuteTime": {
     "end_time": "2022-05-10T21:16:37.361585Z",
     "start_time": "2022-05-10T21:16:37.358973Z"
    }
   },
   "outputs": [
    {
     "data": {
      "text/plain": [
       "{'rmse': {'k': 15, 'min_k': 5}, 'mae': {'k': 15, 'min_k': 5}}"
      ]
     },
     "execution_count": 44,
     "metadata": {},
     "output_type": "execute_result"
    }
   ],
   "source": [
    "base_model.best_params"
   ]
  },
  {
   "cell_type": "markdown",
   "metadata": {
    "ExecuteTime": {
     "end_time": "2022-05-10T15:47:36.657933Z",
     "start_time": "2022-05-10T15:47:36.656670Z"
    }
   },
   "source": [
    "Best Params for KNNBasics is k=15, min_k = 5."
   ]
  },
  {
   "cell_type": "markdown",
   "metadata": {},
   "source": [
    "## Cross Validation"
   ]
  },
  {
   "cell_type": "code",
   "execution_count": 45,
   "metadata": {
    "ExecuteTime": {
     "end_time": "2022-05-10T21:16:37.364611Z",
     "start_time": "2022-05-10T21:16:37.362786Z"
    }
   },
   "outputs": [],
   "source": [
    "#instantiate KNN model \n",
    "model1=KNNBasic(k=15, min_k=5)\n"
   ]
  },
  {
   "cell_type": "code",
   "execution_count": 46,
   "metadata": {
    "ExecuteTime": {
     "end_time": "2022-05-10T21:16:40.652299Z",
     "start_time": "2022-05-10T21:16:37.365811Z"
    },
    "collapsed": true
   },
   "outputs": [
    {
     "name": "stdout",
     "output_type": "stream",
     "text": [
      "Computing the msd similarity matrix...\n",
      "Done computing similarity matrix.\n",
      "Computing the msd similarity matrix...\n",
      "Done computing similarity matrix.\n",
      "Computing the msd similarity matrix...\n",
      "Done computing similarity matrix.\n",
      "Computing the msd similarity matrix...\n",
      "Done computing similarity matrix.\n",
      "Computing the msd similarity matrix...\n",
      "Done computing similarity matrix.\n",
      "Evaluating RMSE, MAE of algorithm KNNBasic on 5 split(s).\n",
      "\n",
      "                  Fold 1  Fold 2  Fold 3  Fold 4  Fold 5  Mean    Std     \n",
      "RMSE (testset)    0.9589  0.9495  0.9574  0.9498  0.9479  0.9527  0.0045  \n",
      "MAE (testset)     0.7346  0.7278  0.7331  0.7301  0.7276  0.7306  0.0028  \n",
      "Fit time          0.04    0.04    0.04    0.05    0.04    0.04    0.00    \n",
      "Test time         0.52    0.48    0.54    0.55    0.53    0.52    0.02    \n"
     ]
    },
    {
     "data": {
      "text/plain": [
       "{'test_rmse': array([0.95893731, 0.94949721, 0.95740546, 0.94980463, 0.94790481]),\n",
       " 'test_mae': array([0.73457432, 0.72778195, 0.73310003, 0.73010966, 0.72761696]),\n",
       " 'fit_time': (0.03542494773864746,\n",
       "  0.03873014450073242,\n",
       "  0.03877711296081543,\n",
       "  0.04777073860168457,\n",
       "  0.03985118865966797),\n",
       " 'test_time': (0.5164041519165039,\n",
       "  0.47905874252319336,\n",
       "  0.5378899574279785,\n",
       "  0.5523221492767334,\n",
       "  0.5309839248657227)}"
      ]
     },
     "execution_count": 46,
     "metadata": {},
     "output_type": "execute_result"
    }
   ],
   "source": [
    "#instaniatite and perform cross val with training data\n",
    "cross_validate(model1, train_data, measures=['RMSE', 'MAE'], cv=5, verbose=True)"
   ]
  },
  {
   "cell_type": "code",
   "execution_count": 47,
   "metadata": {
    "ExecuteTime": {
     "end_time": "2022-05-10T21:16:40.659556Z",
     "start_time": "2022-05-10T21:16:40.655158Z"
    },
    "scrolled": false
   },
   "outputs": [
    {
     "data": {
      "text/plain": [
       "Prediction(uid=10, iid=20, r_ui=None, est=2.1956622189890136, details={'actual_k': 8, 'was_impossible': False})"
      ]
     },
     "execution_count": 47,
     "metadata": {},
     "output_type": "execute_result"
    }
   ],
   "source": [
    "#use model to predict\n",
    "model1.predict(uid=10, iid = 20)\n",
    "#this model just predicted what user 10 would predict movie 20"
   ]
  },
  {
   "cell_type": "markdown",
   "metadata": {},
   "source": [
    "looking at the output above we can determine that our model predicted that use 10 would rate movie 20 a 2.5 give or take our RSME which is .95."
   ]
  },
  {
   "cell_type": "markdown",
   "metadata": {},
   "source": [
    "## Models"
   ]
  },
  {
   "cell_type": "markdown",
   "metadata": {},
   "source": [
    "### SVD"
   ]
  },
  {
   "cell_type": "code",
   "execution_count": 48,
   "metadata": {
    "ExecuteTime": {
     "end_time": "2022-05-10T21:16:40.664250Z",
     "start_time": "2022-05-10T21:16:40.661208Z"
    }
   },
   "outputs": [],
   "source": [
    "model2 = SVD()"
   ]
  },
  {
   "cell_type": "code",
   "execution_count": 49,
   "metadata": {
    "ExecuteTime": {
     "end_time": "2022-05-10T21:16:57.685606Z",
     "start_time": "2022-05-10T21:16:40.665669Z"
    },
    "collapsed": true
   },
   "outputs": [
    {
     "name": "stdout",
     "output_type": "stream",
     "text": [
      "Evaluating RMSE, MAE of algorithm SVD on 5 split(s).\n",
      "\n",
      "                  Fold 1  Fold 2  Fold 3  Fold 4  Fold 5  Mean    Std     \n",
      "RMSE (testset)    0.8685  0.8879  0.8827  0.8926  0.8773  0.8818  0.0084  \n",
      "MAE (testset)     0.6690  0.6830  0.6793  0.6882  0.6768  0.6793  0.0064  \n",
      "Fit time          3.27    3.25    3.17    3.21    3.26    3.23    0.04    \n",
      "Test time         0.12    0.07    0.11    0.07    0.12    0.10    0.02    \n"
     ]
    },
    {
     "data": {
      "text/plain": [
       "{'test_rmse': array([0.86848295, 0.88794065, 0.88266035, 0.89263364, 0.8772598 ]),\n",
       " 'test_mae': array([0.66900581, 0.68298654, 0.67929014, 0.68815641, 0.67683607]),\n",
       " 'fit_time': (3.273005723953247,\n",
       "  3.2491211891174316,\n",
       "  3.1650030612945557,\n",
       "  3.2113587856292725,\n",
       "  3.2586748600006104),\n",
       " 'test_time': (0.12311315536499023,\n",
       "  0.06955289840698242,\n",
       "  0.11039900779724121,\n",
       "  0.06747102737426758,\n",
       "  0.12031912803649902)}"
      ]
     },
     "execution_count": 49,
     "metadata": {},
     "output_type": "execute_result"
    }
   ],
   "source": [
    "cross_validate(model2, train_data, measures=['RMSE', 'MAE'], cv=5, verbose=True)"
   ]
  },
  {
   "cell_type": "code",
   "execution_count": 51,
   "metadata": {
    "ExecuteTime": {
     "end_time": "2022-05-10T21:26:27.990713Z",
     "start_time": "2022-05-10T21:21:24.268646Z"
    },
    "collapsed": true
   },
   "outputs": [
    {
     "name": "stderr",
     "output_type": "stream",
     "text": [
      "[Parallel(n_jobs=1)]: Using backend SequentialBackend with 1 concurrent workers.\n",
      "[Parallel(n_jobs=1)]: Done   1 out of   1 | elapsed:    0.3s remaining:    0.0s\n",
      "[Parallel(n_jobs=1)]: Done   2 out of   2 | elapsed:    0.7s remaining:    0.0s\n",
      "[Parallel(n_jobs=1)]: Done   3 out of   3 | elapsed:    1.0s remaining:    0.0s\n",
      "[Parallel(n_jobs=1)]: Done   4 out of   4 | elapsed:    1.4s remaining:    0.0s\n",
      "[Parallel(n_jobs=1)]: Done 405 out of 405 | elapsed:  5.1min finished\n"
     ]
    }
   ],
   "source": [
    "param_grid = {'n_factors':[10,20,50],'n_epochs': [5, 10, 15], 'lr_all': [0.002,0.005,0.01],\n",
    "             'reg_all': [0.2,0.4,0.6]}\n",
    "gs_model2 = GridSearchCV(SVD,param_grid=param_grid,joblib_verbose=5)\n",
    "gs_model2.fit(train_data)"
   ]
  },
  {
   "cell_type": "code",
   "execution_count": 53,
   "metadata": {
    "ExecuteTime": {
     "end_time": "2022-05-10T21:26:36.144404Z",
     "start_time": "2022-05-10T21:26:36.130558Z"
    }
   },
   "outputs": [
    {
     "data": {
      "text/plain": [
       "{'rmse': {'n_factors': 50, 'n_epochs': 15, 'lr_all': 0.01, 'reg_all': 0.2},\n",
       " 'mae': {'n_factors': 20, 'n_epochs': 15, 'lr_all': 0.01, 'reg_all': 0.2}}"
      ]
     },
     "execution_count": 53,
     "metadata": {},
     "output_type": "execute_result"
    }
   ],
   "source": [
    "gs_model2.best_params"
   ]
  },
  {
   "cell_type": "code",
   "execution_count": 54,
   "metadata": {
    "ExecuteTime": {
     "end_time": "2022-05-10T21:46:16.512125Z",
     "start_time": "2022-05-10T21:26:37.121360Z"
    },
    "collapsed": true
   },
   "outputs": [
    {
     "name": "stderr",
     "output_type": "stream",
     "text": [
      "[Parallel(n_jobs=1)]: Using backend SequentialBackend with 1 concurrent workers.\n",
      "[Parallel(n_jobs=1)]: Done   1 out of   1 | elapsed:    1.0s remaining:    0.0s\n",
      "[Parallel(n_jobs=1)]: Done   2 out of   2 | elapsed:    2.2s remaining:    0.0s\n",
      "[Parallel(n_jobs=1)]: Done   3 out of   3 | elapsed:    3.2s remaining:    0.0s\n",
      "[Parallel(n_jobs=1)]: Done   4 out of   4 | elapsed:    4.2s remaining:    0.0s\n",
      "[Parallel(n_jobs=1)]: Done 405 out of 405 | elapsed: 19.7min finished\n"
     ]
    }
   ],
   "source": [
    "param_grid = {'n_factors':[25, 50, 75],'n_epochs': [15, 30, 45], 'lr_all': [0.01,0.05,0.1],\n",
    "             'reg_all': [0.1,0.2,0.3]}\n",
    "gs_model2 = GridSearchCV(SVD,param_grid=param_grid,joblib_verbose=5)\n",
    "gs_model2.fit(train_data)"
   ]
  },
  {
   "cell_type": "code",
   "execution_count": 55,
   "metadata": {
    "ExecuteTime": {
     "end_time": "2022-05-10T21:46:16.539290Z",
     "start_time": "2022-05-10T21:46:16.536731Z"
    }
   },
   "outputs": [
    {
     "data": {
      "text/plain": [
       "{'rmse': {'n_factors': 75, 'n_epochs': 45, 'lr_all': 0.01, 'reg_all': 0.1},\n",
       " 'mae': {'n_factors': 75, 'n_epochs': 45, 'lr_all': 0.01, 'reg_all': 0.1}}"
      ]
     },
     "execution_count": 55,
     "metadata": {},
     "output_type": "execute_result"
    }
   ],
   "source": [
    "gs_model2.best_params"
   ]
  },
  {
   "cell_type": "code",
   "execution_count": null,
   "metadata": {},
   "outputs": [],
   "source": []
  },
  {
   "cell_type": "code",
   "execution_count": null,
   "metadata": {
    "ExecuteTime": {
     "start_time": "2022-05-10T21:44:34.231Z"
    },
    "scrolled": true
   },
   "outputs": [],
   "source": [
    "cross_validate(SVD(n_factors=75,n_epochs=45,lr_all=0.01,reg_all=0.1), train_data, measures=['RMSE', 'MAE'], \n",
    "               cv=5, verbose=True)"
   ]
  },
  {
   "cell_type": "code",
   "execution_count": null,
   "metadata": {
    "ExecuteTime": {
     "start_time": "2022-05-10T21:44:36.750Z"
    }
   },
   "outputs": [],
   "source": [
    "param_grid = {'n_factors':[75, 100, 125],'n_epochs': [45, 60, 75], 'lr_all': [.005, 0.01, .015],\n",
    "             'reg_all': [.05, 0.1, 0.15]}\n",
    "gs_model2 = GridSearchCV(SVD,param_grid=param_grid,joblib_verbose=5)\n",
    "gs_model2.fit(train_data)"
   ]
  },
  {
   "cell_type": "code",
   "execution_count": null,
   "metadata": {
    "ExecuteTime": {
     "start_time": "2022-05-10T21:44:37.293Z"
    }
   },
   "outputs": [],
   "source": [
    "gs_model2.best_params"
   ]
  },
  {
   "cell_type": "markdown",
   "metadata": {},
   "source": [
    "At some point we have to stop. If we have more time we will run another grid search for the model above. \n",
    "Best Params for SVD are n_factors=125, n_epochs= 45, lr_all= .015, reg_all= .1."
   ]
  },
  {
   "cell_type": "code",
   "execution_count": null,
   "metadata": {
    "ExecuteTime": {
     "start_time": "2022-05-10T21:44:38.417Z"
    }
   },
   "outputs": [],
   "source": [
    "cross_validate(SVD(n_factors=125,n_epochs=45,lr_all=0.015,reg_all=0.1), train_data, measures=['RMSE', 'MAE'], \n",
    "               cv=5, verbose=True)"
   ]
  },
  {
   "cell_type": "markdown",
   "metadata": {},
   "source": [
    "Best model so far with an RMSE of .86."
   ]
  },
  {
   "cell_type": "markdown",
   "metadata": {},
   "source": [
    "### NMF"
   ]
  },
  {
   "cell_type": "code",
   "execution_count": null,
   "metadata": {
    "ExecuteTime": {
     "start_time": "2022-05-10T21:44:39.518Z"
    }
   },
   "outputs": [],
   "source": [
    "model3 = NMF()"
   ]
  },
  {
   "cell_type": "code",
   "execution_count": null,
   "metadata": {
    "ExecuteTime": {
     "start_time": "2022-05-10T21:44:40.012Z"
    }
   },
   "outputs": [],
   "source": [
    "cross_validate(model3, train_data, measures=['RMSE', 'MAE'], cv=5, verbose=True)"
   ]
  },
  {
   "cell_type": "code",
   "execution_count": null,
   "metadata": {
    "ExecuteTime": {
     "start_time": "2022-05-10T21:44:40.259Z"
    }
   },
   "outputs": [],
   "source": [
    "param_grid = {'n_factors':[10,15,20],'n_epochs': [25, 50, 75]}\n",
    "gs_model3 = GridSearchCV(NMF,param_grid=param_grid,joblib_verbose=5)\n",
    "gs_model3.fit(train_data)"
   ]
  },
  {
   "cell_type": "code",
   "execution_count": null,
   "metadata": {
    "ExecuteTime": {
     "start_time": "2022-05-10T21:44:40.688Z"
    },
    "scrolled": true
   },
   "outputs": [],
   "source": [
    "gs_model3.best_params"
   ]
  },
  {
   "cell_type": "code",
   "execution_count": null,
   "metadata": {
    "ExecuteTime": {
     "start_time": "2022-05-10T21:44:40.911Z"
    }
   },
   "outputs": [],
   "source": [
    "cross_validate(NMF(n_factors=10,n_epochs=25), train_data, measures=['RMSE', 'MAE'], \n",
    "               cv=5, verbose=True,  n_jobs= -2)"
   ]
  },
  {
   "cell_type": "code",
   "execution_count": null,
   "metadata": {
    "ExecuteTime": {
     "start_time": "2022-05-10T21:44:41.116Z"
    }
   },
   "outputs": [],
   "source": [
    "param_grid = {'n_factors':[3,5,10],'n_epochs': [15, 20, 25]}\n",
    "gs_model3 = GridSearchCV(NMF,param_grid=param_grid,joblib_verbose=5)\n",
    "gs_model3.fit(train_data)"
   ]
  },
  {
   "cell_type": "code",
   "execution_count": null,
   "metadata": {
    "ExecuteTime": {
     "start_time": "2022-05-10T21:44:41.320Z"
    }
   },
   "outputs": [],
   "source": [
    "gs_model3.best_params"
   ]
  },
  {
   "cell_type": "code",
   "execution_count": null,
   "metadata": {},
   "outputs": [],
   "source": []
  },
  {
   "cell_type": "markdown",
   "metadata": {},
   "source": [
    "## Final Model Evaluation "
   ]
  },
  {
   "cell_type": "code",
   "execution_count": 38,
   "metadata": {
    "ExecuteTime": {
     "end_time": "2022-05-10T22:21:20.685058Z",
     "start_time": "2022-05-10T22:21:20.681409Z"
    }
   },
   "outputs": [],
   "source": [
    "final_model = SVD(n_factors=125,n_epochs=45,lr_all=0.015,reg_all=0.1)"
   ]
  },
  {
   "cell_type": "code",
   "execution_count": 56,
   "metadata": {
    "ExecuteTime": {
     "end_time": "2022-05-10T22:30:40.384775Z",
     "start_time": "2022-05-10T22:30:40.265089Z"
    }
   },
   "outputs": [],
   "source": [
    "from surprise.model_selection import train_test_split\n",
    "train_data2 = train_data.build_full_trainset()\n",
    "test_data2 = test_data.build_full_trainset().build_testset()\n"
   ]
  },
  {
   "cell_type": "code",
   "execution_count": 59,
   "metadata": {
    "ExecuteTime": {
     "end_time": "2022-05-10T22:32:32.279817Z",
     "start_time": "2022-05-10T22:32:22.325770Z"
    }
   },
   "outputs": [],
   "source": [
    "predictions = final_model.fit(train_data2).test(test_data2)"
   ]
  },
  {
   "cell_type": "code",
   "execution_count": 60,
   "metadata": {
    "ExecuteTime": {
     "end_time": "2022-05-10T22:32:33.327036Z",
     "start_time": "2022-05-10T22:32:33.279766Z"
    }
   },
   "outputs": [
    {
     "name": "stdout",
     "output_type": "stream",
     "text": [
      "RMSE: 0.8608\n"
     ]
    },
    {
     "data": {
      "text/plain": [
       "0.8608358147078945"
      ]
     },
     "execution_count": 60,
     "metadata": {},
     "output_type": "execute_result"
    }
   ],
   "source": [
    "accuracy.rmse(predictions)"
   ]
  },
  {
   "cell_type": "markdown",
   "metadata": {},
   "source": [
    "## Deployment "
   ]
  },
  {
   "cell_type": "code",
   "execution_count": null,
   "metadata": {
    "ExecuteTime": {
     "start_time": "2022-05-10T21:44:44.017Z"
    }
   },
   "outputs": [],
   "source": [
    "train['est_rating_user10'] = train['movieId'].apply(lambda x: model3.predict(train.userId[10], x).est)\n",
    "train.sort_values(by='est_rating_user10', ascending=False, inplace=True)"
   ]
  },
  {
   "cell_type": "code",
   "execution_count": null,
   "metadata": {
    "ExecuteTime": {
     "start_time": "2022-05-10T21:44:44.226Z"
    }
   },
   "outputs": [],
   "source": [
    "train"
   ]
  },
  {
   "cell_type": "code",
   "execution_count": null,
   "metadata": {
    "ExecuteTime": {
     "start_time": "2022-05-10T21:44:44.402Z"
    }
   },
   "outputs": [],
   "source": [
    "user = input('userId: ')\n",
    "genre = input('What genres are you interested in? ')\n",
    "num_recs = input('How many recomendations would you like? ')"
   ]
  },
  {
   "cell_type": "code",
   "execution_count": null,
   "metadata": {
    "ExecuteTime": {
     "start_time": "2022-05-10T21:44:44.626Z"
    }
   },
   "outputs": [],
   "source": [
    "train.info()"
   ]
  },
  {
   "cell_type": "code",
   "execution_count": null,
   "metadata": {
    "ExecuteTime": {
     "start_time": "2022-05-10T21:44:45.233Z"
    }
   },
   "outputs": [],
   "source": [
    "genre"
   ]
  },
  {
   "cell_type": "code",
   "execution_count": null,
   "metadata": {
    "ExecuteTime": {
     "start_time": "2022-05-10T21:44:45.602Z"
    },
    "scrolled": true
   },
   "outputs": [],
   "source": [
    "genre_df = train[train['genres'].str.contains(genre)]"
   ]
  },
  {
   "cell_type": "code",
   "execution_count": null,
   "metadata": {
    "ExecuteTime": {
     "start_time": "2022-05-10T21:44:46.066Z"
    }
   },
   "outputs": [],
   "source": [
    "genre_df"
   ]
  },
  {
   "cell_type": "code",
   "execution_count": null,
   "metadata": {
    "ExecuteTime": {
     "start_time": "2022-05-10T21:44:46.586Z"
    }
   },
   "outputs": [],
   "source": [
    "movies['est_rating_user10'] = train['movieId'].apply(lambda x: model3.predict(uid=user, iid=x).est)\n",
    "movies.sort_values(by='est_rating_user10', ascending=False, inplace=True) "
   ]
  },
  {
   "cell_type": "code",
   "execution_count": null,
   "metadata": {
    "ExecuteTime": {
     "start_time": "2022-05-10T21:44:46.989Z"
    }
   },
   "outputs": [],
   "source": [
    "movies #['Title'].head(int(num_recs))"
   ]
  },
  {
   "cell_type": "code",
   "execution_count": null,
   "metadata": {
    "ExecuteTime": {
     "start_time": "2022-05-10T21:44:47.505Z"
    }
   },
   "outputs": [],
   "source": [
    "movies['est_rating_user10'].value_counts()"
   ]
  },
  {
   "cell_type": "code",
   "execution_count": null,
   "metadata": {
    "ExecuteTime": {
     "start_time": "2022-05-10T21:44:47.775Z"
    },
    "scrolled": true
   },
   "outputs": [],
   "source": [
    "movies['Title'].head(int(num_recs))"
   ]
  },
  {
   "cell_type": "code",
   "execution_count": null,
   "metadata": {
    "ExecuteTime": {
     "start_time": "2022-05-10T21:44:48.001Z"
    }
   },
   "outputs": [],
   "source": [
    "movie_rating"
   ]
  },
  {
   "cell_type": "markdown",
   "metadata": {},
   "source": [
    "## Deployment 2.0"
   ]
  },
  {
   "cell_type": "code",
   "execution_count": 69,
   "metadata": {
    "ExecuteTime": {
     "end_time": "2022-05-10T22:43:38.559817Z",
     "start_time": "2022-05-10T22:43:38.525319Z"
    },
    "scrolled": true
   },
   "outputs": [
    {
     "data": {
      "text/html": [
       "<div>\n",
       "<style scoped>\n",
       "    .dataframe tbody tr th:only-of-type {\n",
       "        vertical-align: middle;\n",
       "    }\n",
       "\n",
       "    .dataframe tbody tr th {\n",
       "        vertical-align: top;\n",
       "    }\n",
       "\n",
       "    .dataframe thead th {\n",
       "        text-align: right;\n",
       "    }\n",
       "</style>\n",
       "<table border=\"1\" class=\"dataframe\">\n",
       "  <thead>\n",
       "    <tr style=\"text-align: right;\">\n",
       "      <th></th>\n",
       "      <th>movieId</th>\n",
       "      <th>genres</th>\n",
       "      <th>Title</th>\n",
       "      <th>year_released</th>\n",
       "      <th>userId</th>\n",
       "      <th>rating</th>\n",
       "      <th>timestamp</th>\n",
       "    </tr>\n",
       "  </thead>\n",
       "  <tbody>\n",
       "    <tr>\n",
       "      <th>0</th>\n",
       "      <td>1</td>\n",
       "      <td>adventure,animation,children,comedy,fantasy</td>\n",
       "      <td>Toy Story</td>\n",
       "      <td>1995</td>\n",
       "      <td>1.0</td>\n",
       "      <td>4.0</td>\n",
       "      <td>2000-07-30 18:45:03</td>\n",
       "    </tr>\n",
       "    <tr>\n",
       "      <th>1</th>\n",
       "      <td>1</td>\n",
       "      <td>adventure,animation,children,comedy,fantasy</td>\n",
       "      <td>Toy Story</td>\n",
       "      <td>1995</td>\n",
       "      <td>5.0</td>\n",
       "      <td>4.0</td>\n",
       "      <td>1996-11-08 06:36:02</td>\n",
       "    </tr>\n",
       "    <tr>\n",
       "      <th>2</th>\n",
       "      <td>1</td>\n",
       "      <td>adventure,animation,children,comedy,fantasy</td>\n",
       "      <td>Toy Story</td>\n",
       "      <td>1995</td>\n",
       "      <td>7.0</td>\n",
       "      <td>4.5</td>\n",
       "      <td>2005-01-25 06:52:26</td>\n",
       "    </tr>\n",
       "    <tr>\n",
       "      <th>3</th>\n",
       "      <td>1</td>\n",
       "      <td>adventure,animation,children,comedy,fantasy</td>\n",
       "      <td>Toy Story</td>\n",
       "      <td>1995</td>\n",
       "      <td>15.0</td>\n",
       "      <td>2.5</td>\n",
       "      <td>2017-11-13 12:59:30</td>\n",
       "    </tr>\n",
       "    <tr>\n",
       "      <th>4</th>\n",
       "      <td>1</td>\n",
       "      <td>adventure,animation,children,comedy,fantasy</td>\n",
       "      <td>Toy Story</td>\n",
       "      <td>1995</td>\n",
       "      <td>17.0</td>\n",
       "      <td>4.5</td>\n",
       "      <td>2011-05-18 05:28:03</td>\n",
       "    </tr>\n",
       "    <tr>\n",
       "      <th>...</th>\n",
       "      <td>...</td>\n",
       "      <td>...</td>\n",
       "      <td>...</td>\n",
       "      <td>...</td>\n",
       "      <td>...</td>\n",
       "      <td>...</td>\n",
       "      <td>...</td>\n",
       "    </tr>\n",
       "    <tr>\n",
       "      <th>100843</th>\n",
       "      <td>193581</td>\n",
       "      <td>action,animation,comedy,fantasy</td>\n",
       "      <td>Black Butler: Book of the Atlantic</td>\n",
       "      <td>2017</td>\n",
       "      <td>184.0</td>\n",
       "      <td>4.0</td>\n",
       "      <td>2018-09-16 14:44:42</td>\n",
       "    </tr>\n",
       "    <tr>\n",
       "      <th>100844</th>\n",
       "      <td>193583</td>\n",
       "      <td>animation,comedy,fantasy</td>\n",
       "      <td>No Game No Life: Zero</td>\n",
       "      <td>2017</td>\n",
       "      <td>184.0</td>\n",
       "      <td>3.5</td>\n",
       "      <td>2018-09-16 14:52:25</td>\n",
       "    </tr>\n",
       "    <tr>\n",
       "      <th>100845</th>\n",
       "      <td>193585</td>\n",
       "      <td>drama</td>\n",
       "      <td>Flint</td>\n",
       "      <td>2017</td>\n",
       "      <td>184.0</td>\n",
       "      <td>3.5</td>\n",
       "      <td>2018-09-16 14:56:45</td>\n",
       "    </tr>\n",
       "    <tr>\n",
       "      <th>100846</th>\n",
       "      <td>193587</td>\n",
       "      <td>action,animation</td>\n",
       "      <td>Bungo Stray Dogs: Dead Apple</td>\n",
       "      <td>2018</td>\n",
       "      <td>184.0</td>\n",
       "      <td>3.5</td>\n",
       "      <td>2018-09-16 15:00:21</td>\n",
       "    </tr>\n",
       "    <tr>\n",
       "      <th>100847</th>\n",
       "      <td>193609</td>\n",
       "      <td>comedy</td>\n",
       "      <td>Andrew Dice Clay: Dice Rules</td>\n",
       "      <td>1991</td>\n",
       "      <td>331.0</td>\n",
       "      <td>4.0</td>\n",
       "      <td>2018-09-17 04:13:26</td>\n",
       "    </tr>\n",
       "  </tbody>\n",
       "</table>\n",
       "<p>100813 rows × 7 columns</p>\n",
       "</div>"
      ],
      "text/plain": [
       "        movieId                                       genres  \\\n",
       "0             1  adventure,animation,children,comedy,fantasy   \n",
       "1             1  adventure,animation,children,comedy,fantasy   \n",
       "2             1  adventure,animation,children,comedy,fantasy   \n",
       "3             1  adventure,animation,children,comedy,fantasy   \n",
       "4             1  adventure,animation,children,comedy,fantasy   \n",
       "...         ...                                          ...   \n",
       "100843   193581              action,animation,comedy,fantasy   \n",
       "100844   193583                     animation,comedy,fantasy   \n",
       "100845   193585                                        drama   \n",
       "100846   193587                             action,animation   \n",
       "100847   193609                                       comedy   \n",
       "\n",
       "                                      Title year_released  userId  rating  \\\n",
       "0                                Toy Story           1995     1.0     4.0   \n",
       "1                                Toy Story           1995     5.0     4.0   \n",
       "2                                Toy Story           1995     7.0     4.5   \n",
       "3                                Toy Story           1995    15.0     2.5   \n",
       "4                                Toy Story           1995    17.0     4.5   \n",
       "...                                     ...           ...     ...     ...   \n",
       "100843  Black Butler: Book of the Atlantic           2017   184.0     4.0   \n",
       "100844               No Game No Life: Zero           2017   184.0     3.5   \n",
       "100845                               Flint           2017   184.0     3.5   \n",
       "100846        Bungo Stray Dogs: Dead Apple           2018   184.0     3.5   \n",
       "100847        Andrew Dice Clay: Dice Rules           1991   331.0     4.0   \n",
       "\n",
       "                 timestamp  \n",
       "0      2000-07-30 18:45:03  \n",
       "1      1996-11-08 06:36:02  \n",
       "2      2005-01-25 06:52:26  \n",
       "3      2017-11-13 12:59:30  \n",
       "4      2011-05-18 05:28:03  \n",
       "...                    ...  \n",
       "100843 2018-09-16 14:44:42  \n",
       "100844 2018-09-16 14:52:25  \n",
       "100845 2018-09-16 14:56:45  \n",
       "100846 2018-09-16 15:00:21  \n",
       "100847 2018-09-17 04:13:26  \n",
       "\n",
       "[100813 rows x 7 columns]"
      ]
     },
     "execution_count": 69,
     "metadata": {},
     "output_type": "execute_result"
    }
   ],
   "source": [
    "movie_rating"
   ]
  },
  {
   "cell_type": "code",
   "execution_count": 70,
   "metadata": {
    "ExecuteTime": {
     "end_time": "2022-05-10T22:43:39.441266Z",
     "start_time": "2022-05-10T22:43:39.333936Z"
    }
   },
   "outputs": [],
   "source": [
    "reader = Reader(rating_scale=(1, 5))\n",
    "full_data = Dataset.load_from_df(movie_rating[['userId', 'movieId', 'rating']], reader)"
   ]
  },
  {
   "cell_type": "code",
   "execution_count": 71,
   "metadata": {
    "ExecuteTime": {
     "end_time": "2022-05-10T22:43:40.597520Z",
     "start_time": "2022-05-10T22:43:40.373079Z"
    }
   },
   "outputs": [],
   "source": [
    "full_data_trainset = full_data.build_full_trainset()"
   ]
  },
  {
   "cell_type": "code",
   "execution_count": 72,
   "metadata": {
    "ExecuteTime": {
     "end_time": "2022-05-10T22:43:41.711568Z",
     "start_time": "2022-05-10T22:43:41.708763Z"
    }
   },
   "outputs": [],
   "source": [
    "#Final_model tune and/or cross validation? Or that may be leakage."
   ]
  },
  {
   "cell_type": "code",
   "execution_count": 74,
   "metadata": {
    "ExecuteTime": {
     "end_time": "2022-05-10T22:44:10.862197Z",
     "start_time": "2022-05-10T22:43:57.751610Z"
    },
    "scrolled": false
   },
   "outputs": [
    {
     "data": {
      "text/plain": [
       "<surprise.prediction_algorithms.matrix_factorization.SVD at 0x7fdb0a2b22e0>"
      ]
     },
     "execution_count": 74,
     "metadata": {},
     "output_type": "execute_result"
    }
   ],
   "source": [
    "final_model.fit(full_data_trainset)"
   ]
  },
  {
   "cell_type": "code",
   "execution_count": 78,
   "metadata": {
    "ExecuteTime": {
     "end_time": "2022-05-10T22:49:25.757275Z",
     "start_time": "2022-05-10T22:49:25.290452Z"
    },
    "scrolled": true
   },
   "outputs": [],
   "source": [
    "movies['est_rating_user10'] = movie_rating['movieId'].apply(lambda x: final_model.predict(uid=10, iid=x).est)\n",
    "movies.sort_values(by='est_rating_user10', ascending=False, inplace=True) "
   ]
  },
  {
   "cell_type": "code",
   "execution_count": 86,
   "metadata": {
    "ExecuteTime": {
     "end_time": "2022-05-10T22:50:59.206224Z",
     "start_time": "2022-05-10T22:50:59.196296Z"
    },
    "scrolled": true
   },
   "outputs": [
    {
     "data": {
      "text/plain": [
       "4.005881    15\n",
       "3.863070     4\n",
       "3.853381     2\n",
       "3.824466     1\n",
       "3.800909    20\n",
       "            ..\n",
       "1.987433    35\n",
       "1.981418     5\n",
       "1.864057    92\n",
       "1.720886     2\n",
       "1.354459     9\n",
       "Name: est_rating_user10, Length: 308, dtype: int64"
      ]
     },
     "execution_count": 86,
     "metadata": {},
     "output_type": "execute_result"
    }
   ],
   "source": [
    "movies.est_rating_user10.value_counts().sort_index(ascending=False)"
   ]
  },
  {
   "cell_type": "code",
   "execution_count": null,
   "metadata": {},
   "outputs": [],
   "source": []
  },
  {
   "cell_type": "code",
   "execution_count": null,
   "metadata": {},
   "outputs": [],
   "source": []
  },
  {
   "cell_type": "code",
   "execution_count": null,
   "metadata": {},
   "outputs": [],
   "source": []
  },
  {
   "cell_type": "code",
   "execution_count": null,
   "metadata": {},
   "outputs": [],
   "source": []
  },
  {
   "cell_type": "code",
   "execution_count": 95,
   "metadata": {
    "ExecuteTime": {
     "end_time": "2022-05-10T23:05:29.573056Z",
     "start_time": "2022-05-10T23:04:55.653349Z"
    }
   },
   "outputs": [
    {
     "name": "stdout",
     "output_type": "stream",
     "text": [
      "userId: 10\n",
      "What genres are you interested in? comedy\n",
      "How many recomendations would you like? 10\n"
     ]
    }
   ],
   "source": [
    "user = input('userId: ')\n",
    "genre = input('What genres are you interested in? ')\n",
    "num_recs = input('How many recomendations would you like? ')"
   ]
  },
  {
   "cell_type": "code",
   "execution_count": 93,
   "metadata": {
    "ExecuteTime": {
     "end_time": "2022-05-10T22:57:25.748281Z",
     "start_time": "2022-05-10T22:57:25.721736Z"
    }
   },
   "outputs": [
    {
     "data": {
      "text/html": [
       "<div>\n",
       "<style scoped>\n",
       "    .dataframe tbody tr th:only-of-type {\n",
       "        vertical-align: middle;\n",
       "    }\n",
       "\n",
       "    .dataframe tbody tr th {\n",
       "        vertical-align: top;\n",
       "    }\n",
       "\n",
       "    .dataframe thead th {\n",
       "        text-align: right;\n",
       "    }\n",
       "</style>\n",
       "<table border=\"1\" class=\"dataframe\">\n",
       "  <thead>\n",
       "    <tr style=\"text-align: right;\">\n",
       "      <th></th>\n",
       "      <th>movieId</th>\n",
       "      <th>userId</th>\n",
       "    </tr>\n",
       "  </thead>\n",
       "  <tbody>\n",
       "    <tr>\n",
       "      <th>70325</th>\n",
       "      <td>6294</td>\n",
       "      <td>380.0</td>\n",
       "    </tr>\n",
       "    <tr>\n",
       "      <th>60569</th>\n",
       "      <td>4211</td>\n",
       "      <td>387.0</td>\n",
       "    </tr>\n",
       "    <tr>\n",
       "      <th>5706</th>\n",
       "      <td>208</td>\n",
       "      <td>58.0</td>\n",
       "    </tr>\n",
       "    <tr>\n",
       "      <th>96291</th>\n",
       "      <td>106487</td>\n",
       "      <td>380.0</td>\n",
       "    </tr>\n",
       "    <tr>\n",
       "      <th>20327</th>\n",
       "      <td>903</td>\n",
       "      <td>606.0</td>\n",
       "    </tr>\n",
       "    <tr>\n",
       "      <th>...</th>\n",
       "      <td>...</td>\n",
       "      <td>...</td>\n",
       "    </tr>\n",
       "    <tr>\n",
       "      <th>6265</th>\n",
       "      <td>231</td>\n",
       "      <td>353.0</td>\n",
       "    </tr>\n",
       "    <tr>\n",
       "      <th>54890</th>\n",
       "      <td>3499</td>\n",
       "      <td>599.0</td>\n",
       "    </tr>\n",
       "    <tr>\n",
       "      <th>76830</th>\n",
       "      <td>8670</td>\n",
       "      <td>387.0</td>\n",
       "    </tr>\n",
       "    <tr>\n",
       "      <th>860</th>\n",
       "      <td>15</td>\n",
       "      <td>6.0</td>\n",
       "    </tr>\n",
       "    <tr>\n",
       "      <th>15795</th>\n",
       "      <td>589</td>\n",
       "      <td>386.0</td>\n",
       "    </tr>\n",
       "  </tbody>\n",
       "</table>\n",
       "<p>75609 rows × 2 columns</p>\n",
       "</div>"
      ],
      "text/plain": [
       "       movieId  userId\n",
       "70325     6294   380.0\n",
       "60569     4211   387.0\n",
       "5706       208    58.0\n",
       "96291   106487   380.0\n",
       "20327      903   606.0\n",
       "...        ...     ...\n",
       "6265       231   353.0\n",
       "54890     3499   599.0\n",
       "76830     8670   387.0\n",
       "860         15     6.0\n",
       "15795      589   386.0\n",
       "\n",
       "[75609 rows x 2 columns]"
      ]
     },
     "execution_count": 93,
     "metadata": {},
     "output_type": "execute_result"
    }
   ],
   "source": [
    "users_movies_seen = train[['movieId', 'userId']]\n",
    "users_movies_seen"
   ]
  },
  {
   "cell_type": "code",
   "execution_count": 87,
   "metadata": {
    "ExecuteTime": {
     "end_time": "2022-05-10T22:54:36.243905Z",
     "start_time": "2022-05-10T22:54:36.212601Z"
    },
    "collapsed": true
   },
   "outputs": [
    {
     "data": {
      "text/html": [
       "<div>\n",
       "<style scoped>\n",
       "    .dataframe tbody tr th:only-of-type {\n",
       "        vertical-align: middle;\n",
       "    }\n",
       "\n",
       "    .dataframe tbody tr th {\n",
       "        vertical-align: top;\n",
       "    }\n",
       "\n",
       "    .dataframe thead th {\n",
       "        text-align: right;\n",
       "    }\n",
       "</style>\n",
       "<table border=\"1\" class=\"dataframe\">\n",
       "  <thead>\n",
       "    <tr style=\"text-align: right;\">\n",
       "      <th></th>\n",
       "      <th>movieId</th>\n",
       "    </tr>\n",
       "    <tr>\n",
       "      <th>userId</th>\n",
       "      <th></th>\n",
       "    </tr>\n",
       "  </thead>\n",
       "  <tbody>\n",
       "    <tr>\n",
       "      <th>380.0</th>\n",
       "      <td>6294</td>\n",
       "    </tr>\n",
       "    <tr>\n",
       "      <th>387.0</th>\n",
       "      <td>4211</td>\n",
       "    </tr>\n",
       "    <tr>\n",
       "      <th>58.0</th>\n",
       "      <td>208</td>\n",
       "    </tr>\n",
       "    <tr>\n",
       "      <th>380.0</th>\n",
       "      <td>106487</td>\n",
       "    </tr>\n",
       "    <tr>\n",
       "      <th>606.0</th>\n",
       "      <td>903</td>\n",
       "    </tr>\n",
       "    <tr>\n",
       "      <th>...</th>\n",
       "      <td>...</td>\n",
       "    </tr>\n",
       "    <tr>\n",
       "      <th>353.0</th>\n",
       "      <td>231</td>\n",
       "    </tr>\n",
       "    <tr>\n",
       "      <th>599.0</th>\n",
       "      <td>3499</td>\n",
       "    </tr>\n",
       "    <tr>\n",
       "      <th>387.0</th>\n",
       "      <td>8670</td>\n",
       "    </tr>\n",
       "    <tr>\n",
       "      <th>6.0</th>\n",
       "      <td>15</td>\n",
       "    </tr>\n",
       "    <tr>\n",
       "      <th>386.0</th>\n",
       "      <td>589</td>\n",
       "    </tr>\n",
       "  </tbody>\n",
       "</table>\n",
       "<p>75609 rows × 1 columns</p>\n",
       "</div>"
      ],
      "text/plain": [
       "        movieId\n",
       "userId         \n",
       "380.0      6294\n",
       "387.0      4211\n",
       "58.0        208\n",
       "380.0    106487\n",
       "606.0       903\n",
       "...         ...\n",
       "353.0       231\n",
       "599.0      3499\n",
       "387.0      8670\n",
       "6.0          15\n",
       "386.0       589\n",
       "\n",
       "[75609 rows x 1 columns]"
      ]
     },
     "execution_count": 87,
     "metadata": {},
     "output_type": "execute_result"
    }
   ],
   "source": [
    "#creating a variable that only has the userid and movies that they've rated\n",
    "#this uses the original train dataset not surprise's version\n",
    "users_movies_seen = train[['movieId', 'userId']]\n",
    "#setting user id as index to make it easier to use loc on it\n",
    "users_movies_seen.set_index('userId')"
   ]
  },
  {
   "cell_type": "code",
   "execution_count": 96,
   "metadata": {
    "ExecuteTime": {
     "end_time": "2022-05-10T23:07:04.243890Z",
     "start_time": "2022-05-10T23:07:04.215765Z"
    },
    "scrolled": true
   },
   "outputs": [
    {
     "data": {
      "text/plain": [
       "414.0    2016\n",
       "599.0    1885\n",
       "474.0    1572\n",
       "448.0    1381\n",
       "274.0    1013\n",
       "         ... \n",
       "37.0       13\n",
       "157.0      13\n",
       "576.0      11\n",
       "189.0      10\n",
       "508.0      10\n",
       "Name: userId, Length: 610, dtype: int64"
      ]
     },
     "execution_count": 96,
     "metadata": {},
     "output_type": "execute_result"
    }
   ],
   "source": [
    "users_movies_seen['userId'].value_counts()"
   ]
  },
  {
   "cell_type": "code",
   "execution_count": 105,
   "metadata": {
    "ExecuteTime": {
     "end_time": "2022-05-10T23:08:39.646019Z",
     "start_time": "2022-05-10T23:08:39.635653Z"
    }
   },
   "outputs": [
    {
     "data": {
      "text/plain": [
       "movieId    61323.0\n",
       "userId       560.0\n",
       "Name: 88034, dtype: float64"
      ]
     },
     "execution_count": 105,
     "metadata": {},
     "output_type": "execute_result"
    }
   ],
   "source": [
    "users_movies_seen.iloc[10]"
   ]
  },
  {
   "cell_type": "code",
   "execution_count": 88,
   "metadata": {
    "ExecuteTime": {
     "end_time": "2022-05-10T22:55:22.908517Z",
     "start_time": "2022-05-10T22:55:22.889241Z"
    }
   },
   "outputs": [],
   "source": [
    "#function to get stuff up\n",
    "def stuff():\n",
    "    user = input('userId: ')\n",
    "    genre = input('What genres are you interested in? ')\n",
    "    num_recs = input('How many recomendations would you like? ')\n",
    "\n",
    "    #using the train data\n",
    "    #create the seen_movie\n",
    "    seen_movie = list(users_movies_seen.loc[user, 'movieId'])\n",
    "\n",
    "    #create df with all the unseen/unrated movies\n",
    "    train_copy = train.copy()\n",
    "    not_seen = train_copy.drop(seen_movie)\n",
    "    #using the not_seen df, create a rating for a user\n",
    "    not_seen = not_seen[not_seen['genres'] == genre]\n",
    "    not_seen['est_rating'] = not_seen['movieId'].apply(lambda x: best_model.predict(user, x).est)\n",
    "    not_seen.sort_values(by='est_rating', ascending=False, inplace=True)\n",
    "\n",
    "    return (not_seen.head(num_recs))"
   ]
  },
  {
   "cell_type": "code",
   "execution_count": null,
   "metadata": {},
   "outputs": [],
   "source": [
    "stuff()"
   ]
  },
  {
   "cell_type": "code",
   "execution_count": null,
   "metadata": {},
   "outputs": [],
   "source": [
    "#creating a variable that only has the userid and movies that they've rated\n",
    "#this uses the original train dataset not surprise's version\n",
    "users_movies_seen = train[['movieId', 'userId']]\n",
    "#setting user id as index to make it easier to use loc on it\n",
    "users_movies_seen.set_index('userId')\n",
    "\n",
    "\n",
    "#function to get stuff up\n",
    "def stuff():\n",
    "    user = input('userId: ')\n",
    "    genre = input('What genres are you interested in? ')\n",
    "    num_recs = input('How many recomendations would you like? ')\n",
    "\n",
    "    #using the train data\n",
    "    #create the seen_movie\n",
    "    seen_movie = list(users_movies_seen.loc[user, 'movieId'])\n",
    "\n",
    "    #create df with all the unseen/unrated movies\n",
    "    train_copy = train.copy()\n",
    "    not_seen = train_copy.drop(seen_movie)\n",
    "    #using the not_seen df, create a rating for a user\n",
    "    not_seen = not_seen[not_seen['genres'] == genre]\n",
    "    not_seen['est_rating'] = not_seen['movieId'].apply(lambda x: best_model.predict(user, x).est)\n",
    "    not_seen.sort_values(by='est_rating', ascending=False, inplace=True)\n",
    "\n",
    "    return (not_seen.head(num_recs))"
   ]
  },
  {
   "cell_type": "code",
   "execution_count": null,
   "metadata": {},
   "outputs": [],
   "source": []
  },
  {
   "cell_type": "code",
   "execution_count": null,
   "metadata": {},
   "outputs": [],
   "source": []
  },
  {
   "cell_type": "code",
   "execution_count": null,
   "metadata": {},
   "outputs": [],
   "source": []
  },
  {
   "cell_type": "code",
   "execution_count": null,
   "metadata": {
    "ExecuteTime": {
     "start_time": "2022-05-10T21:44:49.733Z"
    }
   },
   "outputs": [],
   "source": [
    "user = input('userId: ')\n",
    "genre = input('What genres are you interested in? ')\n",
    "num_recs = input('How many recomendations would you like? ')"
   ]
  },
  {
   "cell_type": "code",
   "execution_count": null,
   "metadata": {
    "ExecuteTime": {
     "start_time": "2022-05-10T21:44:50.159Z"
    }
   },
   "outputs": [],
   "source": [
    "df_user = rating_review.reset_index('userId')\n",
    "df_user.drop(columns=['Title', 'year_released', 'timestamp', 'genres', ], inplace=True)\n",
    "df_user.head()"
   ]
  },
  {
   "cell_type": "code",
   "execution_count": null,
   "metadata": {
    "ExecuteTime": {
     "start_time": "2022-05-10T21:44:51.688Z"
    }
   },
   "outputs": [],
   "source": [
    "reader = Reader(rating_scale=(1, 5))\n",
    "full_data = Dataset.load_from_df(rating_review[['userId', 'movieId', 'rating']], reader)"
   ]
  },
  {
   "cell_type": "code",
   "execution_count": null,
   "metadata": {
    "ExecuteTime": {
     "start_time": "2022-05-10T21:44:51.870Z"
    }
   },
   "outputs": [],
   "source": [
    "final_model.fit(full_data)"
   ]
  },
  {
   "cell_type": "code",
   "execution_count": null,
   "metadata": {
    "ExecuteTime": {
     "start_time": "2022-05-10T21:44:52.342Z"
    }
   },
   "outputs": [],
   "source": [
    "#Function\n",
    "def Stuff():\n",
    "    user = input('userId: ')\n",
    "    genre = input('What genres are you interested in? ')\n",
    "    num_recs = input('How many recomendations would you like? ')\n",
    "    sub1 = user full_data['']\n",
    "\n",
    "\n",
    "\n",
    "\n",
    "\n"
   ]
  },
  {
   "cell_type": "code",
   "execution_count": null,
   "metadata": {},
   "outputs": [],
   "source": []
  },
  {
   "cell_type": "code",
   "execution_count": null,
   "metadata": {},
   "outputs": [],
   "source": []
  },
  {
   "cell_type": "code",
   "execution_count": null,
   "metadata": {},
   "outputs": [],
   "source": []
  },
  {
   "cell_type": "code",
   "execution_count": null,
   "metadata": {},
   "outputs": [],
   "source": []
  },
  {
   "cell_type": "code",
   "execution_count": null,
   "metadata": {},
   "outputs": [],
   "source": [
    "from pprint import pprint\n",
    "\n",
    "def recommender_system(user_id, n_similar_users, n_movies): #, user_to_movie_df, knn_model):\n",
    "  \n",
    "  print(\"Movie seen by the User:\")\n",
    "  pprint(list(refined_dataset[refined_dataset['user id'] == user_id]['movie title']))\n",
    "  print(\"\")\n",
    "\n",
    "  # def get_similar_users(user, user_to_movie_df, knn_model, n = 5):\n",
    "  def get_similar_users(user, n = 5):\n",
    "    \n",
    "    knn_input = np.asarray([user_to_movie_df.values[user-1]])\n",
    "    \n",
    "    distances, indices = knn_model.kneighbors(knn_input, n_neighbors=n+1)\n",
    "    \n",
    "    print(\"Top\",n,\"users who are very much similar to the User-\",user, \"are: \")\n",
    "    print(\" \")\n",
    "\n",
    "    for i in range(1,len(distances[0])):\n",
    "      print(i,\". User:\", indices[0][i]+1, \"separated by distance of\",distances[0][i])\n",
    "    print(\"\")\n",
    "    return indices.flatten()[1:] + 1, distances.flatten()[1:]\n",
    "\n",
    "\n",
    "  def filtered_movie_recommendations(n = 10):\n",
    "  \n",
    "    first_zero_index = np.where(mean_rating_list == 0)[0][-1]\n",
    "    sortd_index = np.argsort(mean_rating_list)[::-1]\n",
    "    sortd_index = sortd_index[:list(sortd_index).index(first_zero_index)]\n",
    "    n = min(len(sortd_index),n)\n",
    "    movies_watched = list(refined_dataset[refined_dataset['user id'] == user_id]['movie title'])\n",
    "    filtered_movie_list = list(movies_list[sortd_index])\n",
    "    count = 0\n",
    "    final_movie_list = []\n",
    "    for i in filtered_movie_list:\n",
    "      if i not in movies_watched:\n",
    "        count+=1\n",
    "        final_movie_list.append(i)\n",
    "      if count == n:\n",
    "        break\n",
    "    if count == 0:\n",
    "      print(\"There are no movies left which are not seen by the input users and seen by similar users. May be increasing the number of similar users who are to be considered may give a chance of suggesting an unseen good movie.\")\n",
    "    else:\n",
    "      pprint(final_movie_list)\n",
    "\n",
    "  similar_user_list, distance_list = get_similar_users(user_id,n_similar_users)\n",
    "  weightage_list = distance_list/np.sum(distance_list)\n",
    "  mov_rtngs_sim_users = user_to_movie_df.values[similar_user_list]\n",
    "  movies_list = user_to_movie_df.columns\n",
    "  weightage_list = weightage_list[:,np.newaxis] + np.zeros(len(movies_list))\n",
    "  new_rating_matrix = weightage_list*mov_rtngs_sim_users\n",
    "  mean_rating_list = new_rating_matrix.sum(axis =0)\n",
    "  print(\"\")\n",
    "  print(\"Movies recommended based on similar users are: \")\n",
    "  print(\"\")\n",
    "  filtered_movie_recommendations(n_movies)"
   ]
  }
 ],
 "metadata": {
  "kernelspec": {
   "display_name": "Python (learn-env)",
   "language": "python",
   "name": "learn-env"
  },
  "language_info": {
   "codemirror_mode": {
    "name": "ipython",
    "version": 3
   },
   "file_extension": ".py",
   "mimetype": "text/x-python",
   "name": "python",
   "nbconvert_exporter": "python",
   "pygments_lexer": "ipython3",
   "version": "3.8.5"
  },
  "toc": {
   "base_numbering": 1,
   "nav_menu": {},
   "number_sections": true,
   "sideBar": true,
   "skip_h1_title": false,
   "title_cell": "Table of Contents",
   "title_sidebar": "Contents",
   "toc_cell": false,
   "toc_position": {},
   "toc_section_display": true,
   "toc_window_display": false
  },
  "varInspector": {
   "cols": {
    "lenName": 16,
    "lenType": 16,
    "lenVar": 40
   },
   "kernels_config": {
    "python": {
     "delete_cmd_postfix": "",
     "delete_cmd_prefix": "del ",
     "library": "var_list.py",
     "varRefreshCmd": "print(var_dic_list())"
    },
    "r": {
     "delete_cmd_postfix": ") ",
     "delete_cmd_prefix": "rm(",
     "library": "var_list.r",
     "varRefreshCmd": "cat(var_dic_list()) "
    }
   },
   "types_to_exclude": [
    "module",
    "function",
    "builtin_function_or_method",
    "instance",
    "_Feature"
   ],
   "window_display": false
  }
 },
 "nbformat": 4,
 "nbformat_minor": 5
}
