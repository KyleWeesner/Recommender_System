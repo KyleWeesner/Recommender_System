{
 "cells": [
  {
   "cell_type": "markdown",
   "metadata": {},
   "source": [
    "## Imports"
   ]
  },
  {
   "cell_type": "code",
   "execution_count": 3,
   "metadata": {
    "ExecuteTime": {
     "end_time": "2022-05-11T14:01:45.295357Z",
     "start_time": "2022-05-11T14:01:45.283108Z"
    }
   },
   "outputs": [],
   "source": [
    "import pandas as pd\n",
    "\n",
    "import surprise\n",
    "from surprise.prediction_algorithms import *\n",
    "import pandas as pd\n",
    "import numpy as np\n",
    "import datetime as dt\n",
    "\n",
    "from surprise import Dataset\n",
    "from surprise import Reader\n",
    "\n",
    "from surprise.prediction_algorithms import knns\n",
    "from surprise.similarities import cosine, msd, pearson\n",
    "from surprise import accuracy\n",
    "from surprise.model_selection import GridSearchCV\n",
    "from surprise.model_selection import train_test_split\n",
    "from surprise.model_selection import cross_validate\n",
    "\n",
    "from sklearn import model_selection as smodel\n",
    "\n",
    "from nltk.tokenize import RegexpTokenizer\n",
    "\n",
    "import pickle "
   ]
  },
  {
   "cell_type": "markdown",
   "metadata": {},
   "source": [
    "## EDA"
   ]
  },
  {
   "cell_type": "code",
   "execution_count": 4,
   "metadata": {
    "ExecuteTime": {
     "end_time": "2022-05-11T14:01:45.636536Z",
     "start_time": "2022-05-11T14:01:45.604970Z"
    }
   },
   "outputs": [],
   "source": [
    "movies = pd.read_csv('../../ml-latest-small/movies.csv')"
   ]
  },
  {
   "cell_type": "code",
   "execution_count": 5,
   "metadata": {
    "ExecuteTime": {
     "end_time": "2022-05-11T14:01:45.789491Z",
     "start_time": "2022-05-11T14:01:45.775964Z"
    }
   },
   "outputs": [],
   "source": [
    "link = pd.read_csv('../../ml-latest-small/links.csv')"
   ]
  },
  {
   "cell_type": "code",
   "execution_count": 6,
   "metadata": {
    "ExecuteTime": {
     "end_time": "2022-05-11T14:01:45.974067Z",
     "start_time": "2022-05-11T14:01:45.937115Z"
    }
   },
   "outputs": [],
   "source": [
    "rating = pd.read_csv('../../ml-latest-small/ratings.csv')"
   ]
  },
  {
   "cell_type": "code",
   "execution_count": 7,
   "metadata": {
    "ExecuteTime": {
     "end_time": "2022-05-11T14:01:46.115536Z",
     "start_time": "2022-05-11T14:01:46.104431Z"
    }
   },
   "outputs": [],
   "source": [
    "tags = pd.read_csv('../../ml-latest-small/tags.csv')"
   ]
  },
  {
   "cell_type": "code",
   "execution_count": 8,
   "metadata": {
    "ExecuteTime": {
     "end_time": "2022-05-11T14:01:46.305680Z",
     "start_time": "2022-05-11T14:01:46.271100Z"
    },
    "scrolled": true
   },
   "outputs": [
    {
     "data": {
      "text/html": [
       "<div>\n",
       "<style scoped>\n",
       "    .dataframe tbody tr th:only-of-type {\n",
       "        vertical-align: middle;\n",
       "    }\n",
       "\n",
       "    .dataframe tbody tr th {\n",
       "        vertical-align: top;\n",
       "    }\n",
       "\n",
       "    .dataframe thead th {\n",
       "        text-align: right;\n",
       "    }\n",
       "</style>\n",
       "<table border=\"1\" class=\"dataframe\">\n",
       "  <thead>\n",
       "    <tr style=\"text-align: right;\">\n",
       "      <th></th>\n",
       "      <th>movieId</th>\n",
       "      <th>title</th>\n",
       "      <th>genres</th>\n",
       "    </tr>\n",
       "  </thead>\n",
       "  <tbody>\n",
       "    <tr>\n",
       "      <th>0</th>\n",
       "      <td>1</td>\n",
       "      <td>Toy Story (1995)</td>\n",
       "      <td>Adventure|Animation|Children|Comedy|Fantasy</td>\n",
       "    </tr>\n",
       "    <tr>\n",
       "      <th>1</th>\n",
       "      <td>2</td>\n",
       "      <td>Jumanji (1995)</td>\n",
       "      <td>Adventure|Children|Fantasy</td>\n",
       "    </tr>\n",
       "    <tr>\n",
       "      <th>2</th>\n",
       "      <td>3</td>\n",
       "      <td>Grumpier Old Men (1995)</td>\n",
       "      <td>Comedy|Romance</td>\n",
       "    </tr>\n",
       "    <tr>\n",
       "      <th>3</th>\n",
       "      <td>4</td>\n",
       "      <td>Waiting to Exhale (1995)</td>\n",
       "      <td>Comedy|Drama|Romance</td>\n",
       "    </tr>\n",
       "    <tr>\n",
       "      <th>4</th>\n",
       "      <td>5</td>\n",
       "      <td>Father of the Bride Part II (1995)</td>\n",
       "      <td>Comedy</td>\n",
       "    </tr>\n",
       "    <tr>\n",
       "      <th>...</th>\n",
       "      <td>...</td>\n",
       "      <td>...</td>\n",
       "      <td>...</td>\n",
       "    </tr>\n",
       "    <tr>\n",
       "      <th>9737</th>\n",
       "      <td>193581</td>\n",
       "      <td>Black Butler: Book of the Atlantic (2017)</td>\n",
       "      <td>Action|Animation|Comedy|Fantasy</td>\n",
       "    </tr>\n",
       "    <tr>\n",
       "      <th>9738</th>\n",
       "      <td>193583</td>\n",
       "      <td>No Game No Life: Zero (2017)</td>\n",
       "      <td>Animation|Comedy|Fantasy</td>\n",
       "    </tr>\n",
       "    <tr>\n",
       "      <th>9739</th>\n",
       "      <td>193585</td>\n",
       "      <td>Flint (2017)</td>\n",
       "      <td>Drama</td>\n",
       "    </tr>\n",
       "    <tr>\n",
       "      <th>9740</th>\n",
       "      <td>193587</td>\n",
       "      <td>Bungo Stray Dogs: Dead Apple (2018)</td>\n",
       "      <td>Action|Animation</td>\n",
       "    </tr>\n",
       "    <tr>\n",
       "      <th>9741</th>\n",
       "      <td>193609</td>\n",
       "      <td>Andrew Dice Clay: Dice Rules (1991)</td>\n",
       "      <td>Comedy</td>\n",
       "    </tr>\n",
       "  </tbody>\n",
       "</table>\n",
       "<p>9742 rows × 3 columns</p>\n",
       "</div>"
      ],
      "text/plain": [
       "      movieId                                      title  \\\n",
       "0           1                           Toy Story (1995)   \n",
       "1           2                             Jumanji (1995)   \n",
       "2           3                    Grumpier Old Men (1995)   \n",
       "3           4                   Waiting to Exhale (1995)   \n",
       "4           5         Father of the Bride Part II (1995)   \n",
       "...       ...                                        ...   \n",
       "9737   193581  Black Butler: Book of the Atlantic (2017)   \n",
       "9738   193583               No Game No Life: Zero (2017)   \n",
       "9739   193585                               Flint (2017)   \n",
       "9740   193587        Bungo Stray Dogs: Dead Apple (2018)   \n",
       "9741   193609        Andrew Dice Clay: Dice Rules (1991)   \n",
       "\n",
       "                                           genres  \n",
       "0     Adventure|Animation|Children|Comedy|Fantasy  \n",
       "1                      Adventure|Children|Fantasy  \n",
       "2                                  Comedy|Romance  \n",
       "3                            Comedy|Drama|Romance  \n",
       "4                                          Comedy  \n",
       "...                                           ...  \n",
       "9737              Action|Animation|Comedy|Fantasy  \n",
       "9738                     Animation|Comedy|Fantasy  \n",
       "9739                                        Drama  \n",
       "9740                             Action|Animation  \n",
       "9741                                       Comedy  \n",
       "\n",
       "[9742 rows x 3 columns]"
      ]
     },
     "execution_count": 8,
     "metadata": {},
     "output_type": "execute_result"
    }
   ],
   "source": [
    "movies"
   ]
  },
  {
   "cell_type": "code",
   "execution_count": 9,
   "metadata": {
    "ExecuteTime": {
     "end_time": "2022-05-11T14:01:46.449751Z",
     "start_time": "2022-05-11T14:01:46.437586Z"
    }
   },
   "outputs": [
    {
     "data": {
      "text/plain": [
       "movieId    0\n",
       "title      0\n",
       "genres     0\n",
       "dtype: int64"
      ]
     },
     "execution_count": 9,
     "metadata": {},
     "output_type": "execute_result"
    }
   ],
   "source": [
    "movies.isna().sum()"
   ]
  },
  {
   "cell_type": "code",
   "execution_count": 10,
   "metadata": {
    "ExecuteTime": {
     "end_time": "2022-05-11T14:01:46.641223Z",
     "start_time": "2022-05-11T14:01:46.606716Z"
    },
    "scrolled": false
   },
   "outputs": [
    {
     "data": {
      "text/plain": [
       "Eros (2004)                                              2\n",
       "Emma (1996)                                              2\n",
       "Saturn 3 (1980)                                          2\n",
       "War of the Worlds (2005)                                 2\n",
       "Confessions of a Dangerous Mind (2002)                   2\n",
       "                                                        ..\n",
       "Anacleto: Agente secreto (2015)                          1\n",
       "Evil Dead II (Dead by Dawn) (1987)                       1\n",
       "The Walk (2015)                                          1\n",
       "Three Musketeers, The (1993)                             1\n",
       "Alias Betty (Betty Fisher et autres histoires) (2001)    1\n",
       "Name: title, Length: 9737, dtype: int64"
      ]
     },
     "execution_count": 10,
     "metadata": {},
     "output_type": "execute_result"
    }
   ],
   "source": [
    "movies.title.value_counts()"
   ]
  },
  {
   "cell_type": "code",
   "execution_count": 11,
   "metadata": {
    "ExecuteTime": {
     "end_time": "2022-05-11T14:01:46.777430Z",
     "start_time": "2022-05-11T14:01:46.766944Z"
    }
   },
   "outputs": [
    {
     "data": {
      "text/plain": [
       "5"
      ]
     },
     "execution_count": 11,
     "metadata": {},
     "output_type": "execute_result"
    }
   ],
   "source": [
    "#Check to see if there are any duplicate titles\n",
    "movies.title.duplicated().sum()"
   ]
  },
  {
   "cell_type": "code",
   "execution_count": 12,
   "metadata": {
    "ExecuteTime": {
     "end_time": "2022-05-11T14:01:46.938141Z",
     "start_time": "2022-05-11T14:01:46.925667Z"
    }
   },
   "outputs": [],
   "source": [
    "#Drop the 5 duplicated movie titles\n",
    "movies.drop_duplicates(subset='title', inplace=True)"
   ]
  },
  {
   "cell_type": "code",
   "execution_count": 13,
   "metadata": {
    "ExecuteTime": {
     "end_time": "2022-05-11T14:01:47.102319Z",
     "start_time": "2022-05-11T14:01:47.093735Z"
    }
   },
   "outputs": [
    {
     "data": {
      "text/plain": [
       "0"
      ]
     },
     "execution_count": 13,
     "metadata": {},
     "output_type": "execute_result"
    }
   ],
   "source": [
    "#Sanity check to ensure all duplicates were dropped from title column\n",
    "\n",
    "movies.title.duplicated().sum()"
   ]
  },
  {
   "cell_type": "code",
   "execution_count": 14,
   "metadata": {
    "ExecuteTime": {
     "end_time": "2022-05-11T14:01:47.278223Z",
     "start_time": "2022-05-11T14:01:47.260043Z"
    }
   },
   "outputs": [
    {
     "data": {
      "text/html": [
       "<div>\n",
       "<style scoped>\n",
       "    .dataframe tbody tr th:only-of-type {\n",
       "        vertical-align: middle;\n",
       "    }\n",
       "\n",
       "    .dataframe tbody tr th {\n",
       "        vertical-align: top;\n",
       "    }\n",
       "\n",
       "    .dataframe thead th {\n",
       "        text-align: right;\n",
       "    }\n",
       "</style>\n",
       "<table border=\"1\" class=\"dataframe\">\n",
       "  <thead>\n",
       "    <tr style=\"text-align: right;\">\n",
       "      <th></th>\n",
       "      <th>movieId</th>\n",
       "      <th>title</th>\n",
       "      <th>genres</th>\n",
       "    </tr>\n",
       "  </thead>\n",
       "  <tbody>\n",
       "  </tbody>\n",
       "</table>\n",
       "</div>"
      ],
      "text/plain": [
       "Empty DataFrame\n",
       "Columns: [movieId, title, genres]\n",
       "Index: []"
      ]
     },
     "execution_count": 14,
     "metadata": {},
     "output_type": "execute_result"
    }
   ],
   "source": [
    "movies[movies.title.duplicated() == True]"
   ]
  },
  {
   "cell_type": "code",
   "execution_count": 15,
   "metadata": {
    "ExecuteTime": {
     "end_time": "2022-05-11T14:01:47.433042Z",
     "start_time": "2022-05-11T14:01:47.427907Z"
    }
   },
   "outputs": [
    {
     "data": {
      "text/plain": [
       "9737"
      ]
     },
     "execution_count": 15,
     "metadata": {},
     "output_type": "execute_result"
    }
   ],
   "source": [
    "#Check length of DataFrame\n",
    "\n",
    "len(movies)"
   ]
  },
  {
   "cell_type": "code",
   "execution_count": 16,
   "metadata": {
    "ExecuteTime": {
     "end_time": "2022-05-11T14:01:47.656262Z",
     "start_time": "2022-05-11T14:01:47.613837Z"
    },
    "scrolled": true
   },
   "outputs": [],
   "source": [
    "# Split title column into two new columns: Title and year \n",
    "\n",
    "movies['Title'] = movies['title'].str.split('(', n=1, expand=True)[0]\n",
    "\n",
    "movies['year_released'] = movies['title'].str.split('(', n=1, expand=True)[1]"
   ]
  },
  {
   "cell_type": "code",
   "execution_count": 17,
   "metadata": {
    "ExecuteTime": {
     "end_time": "2022-05-11T14:01:47.790856Z",
     "start_time": "2022-05-11T14:01:47.776101Z"
    }
   },
   "outputs": [],
   "source": [
    "# Drop original column title\n",
    "\n",
    "movies.drop(columns='title', inplace=True)"
   ]
  },
  {
   "cell_type": "code",
   "execution_count": 18,
   "metadata": {
    "ExecuteTime": {
     "end_time": "2022-05-11T14:01:47.968081Z",
     "start_time": "2022-05-11T14:01:47.949585Z"
    }
   },
   "outputs": [
    {
     "data": {
      "text/html": [
       "<div>\n",
       "<style scoped>\n",
       "    .dataframe tbody tr th:only-of-type {\n",
       "        vertical-align: middle;\n",
       "    }\n",
       "\n",
       "    .dataframe tbody tr th {\n",
       "        vertical-align: top;\n",
       "    }\n",
       "\n",
       "    .dataframe thead th {\n",
       "        text-align: right;\n",
       "    }\n",
       "</style>\n",
       "<table border=\"1\" class=\"dataframe\">\n",
       "  <thead>\n",
       "    <tr style=\"text-align: right;\">\n",
       "      <th></th>\n",
       "      <th>movieId</th>\n",
       "      <th>genres</th>\n",
       "      <th>Title</th>\n",
       "      <th>year_released</th>\n",
       "    </tr>\n",
       "  </thead>\n",
       "  <tbody>\n",
       "    <tr>\n",
       "      <th>0</th>\n",
       "      <td>1</td>\n",
       "      <td>Adventure|Animation|Children|Comedy|Fantasy</td>\n",
       "      <td>Toy Story</td>\n",
       "      <td>1995)</td>\n",
       "    </tr>\n",
       "    <tr>\n",
       "      <th>1</th>\n",
       "      <td>2</td>\n",
       "      <td>Adventure|Children|Fantasy</td>\n",
       "      <td>Jumanji</td>\n",
       "      <td>1995)</td>\n",
       "    </tr>\n",
       "    <tr>\n",
       "      <th>2</th>\n",
       "      <td>3</td>\n",
       "      <td>Comedy|Romance</td>\n",
       "      <td>Grumpier Old Men</td>\n",
       "      <td>1995)</td>\n",
       "    </tr>\n",
       "    <tr>\n",
       "      <th>3</th>\n",
       "      <td>4</td>\n",
       "      <td>Comedy|Drama|Romance</td>\n",
       "      <td>Waiting to Exhale</td>\n",
       "      <td>1995)</td>\n",
       "    </tr>\n",
       "    <tr>\n",
       "      <th>4</th>\n",
       "      <td>5</td>\n",
       "      <td>Comedy</td>\n",
       "      <td>Father of the Bride Part II</td>\n",
       "      <td>1995)</td>\n",
       "    </tr>\n",
       "    <tr>\n",
       "      <th>...</th>\n",
       "      <td>...</td>\n",
       "      <td>...</td>\n",
       "      <td>...</td>\n",
       "      <td>...</td>\n",
       "    </tr>\n",
       "    <tr>\n",
       "      <th>9737</th>\n",
       "      <td>193581</td>\n",
       "      <td>Action|Animation|Comedy|Fantasy</td>\n",
       "      <td>Black Butler: Book of the Atlantic</td>\n",
       "      <td>2017)</td>\n",
       "    </tr>\n",
       "    <tr>\n",
       "      <th>9738</th>\n",
       "      <td>193583</td>\n",
       "      <td>Animation|Comedy|Fantasy</td>\n",
       "      <td>No Game No Life: Zero</td>\n",
       "      <td>2017)</td>\n",
       "    </tr>\n",
       "    <tr>\n",
       "      <th>9739</th>\n",
       "      <td>193585</td>\n",
       "      <td>Drama</td>\n",
       "      <td>Flint</td>\n",
       "      <td>2017)</td>\n",
       "    </tr>\n",
       "    <tr>\n",
       "      <th>9740</th>\n",
       "      <td>193587</td>\n",
       "      <td>Action|Animation</td>\n",
       "      <td>Bungo Stray Dogs: Dead Apple</td>\n",
       "      <td>2018)</td>\n",
       "    </tr>\n",
       "    <tr>\n",
       "      <th>9741</th>\n",
       "      <td>193609</td>\n",
       "      <td>Comedy</td>\n",
       "      <td>Andrew Dice Clay: Dice Rules</td>\n",
       "      <td>1991)</td>\n",
       "    </tr>\n",
       "  </tbody>\n",
       "</table>\n",
       "<p>9737 rows × 4 columns</p>\n",
       "</div>"
      ],
      "text/plain": [
       "      movieId                                       genres  \\\n",
       "0           1  Adventure|Animation|Children|Comedy|Fantasy   \n",
       "1           2                   Adventure|Children|Fantasy   \n",
       "2           3                               Comedy|Romance   \n",
       "3           4                         Comedy|Drama|Romance   \n",
       "4           5                                       Comedy   \n",
       "...       ...                                          ...   \n",
       "9737   193581              Action|Animation|Comedy|Fantasy   \n",
       "9738   193583                     Animation|Comedy|Fantasy   \n",
       "9739   193585                                        Drama   \n",
       "9740   193587                             Action|Animation   \n",
       "9741   193609                                       Comedy   \n",
       "\n",
       "                                    Title year_released  \n",
       "0                              Toy Story          1995)  \n",
       "1                                Jumanji          1995)  \n",
       "2                       Grumpier Old Men          1995)  \n",
       "3                      Waiting to Exhale          1995)  \n",
       "4            Father of the Bride Part II          1995)  \n",
       "...                                   ...           ...  \n",
       "9737  Black Butler: Book of the Atlantic          2017)  \n",
       "9738               No Game No Life: Zero          2017)  \n",
       "9739                               Flint          2017)  \n",
       "9740        Bungo Stray Dogs: Dead Apple          2018)  \n",
       "9741        Andrew Dice Clay: Dice Rules          1991)  \n",
       "\n",
       "[9737 rows x 4 columns]"
      ]
     },
     "execution_count": 18,
     "metadata": {},
     "output_type": "execute_result"
    }
   ],
   "source": [
    "# Sanity Check \n",
    "movies"
   ]
  },
  {
   "cell_type": "code",
   "execution_count": 19,
   "metadata": {
    "ExecuteTime": {
     "end_time": "2022-05-11T14:01:48.133022Z",
     "start_time": "2022-05-11T14:01:48.113946Z"
    }
   },
   "outputs": [],
   "source": [
    "# Format year_released column\n",
    "\n",
    "movies['year_released'] = movies.year_released.str.replace(')', '')"
   ]
  },
  {
   "cell_type": "code",
   "execution_count": 20,
   "metadata": {
    "ExecuteTime": {
     "end_time": "2022-05-11T14:01:48.304279Z",
     "start_time": "2022-05-11T14:01:48.284670Z"
    }
   },
   "outputs": [
    {
     "data": {
      "text/html": [
       "<div>\n",
       "<style scoped>\n",
       "    .dataframe tbody tr th:only-of-type {\n",
       "        vertical-align: middle;\n",
       "    }\n",
       "\n",
       "    .dataframe tbody tr th {\n",
       "        vertical-align: top;\n",
       "    }\n",
       "\n",
       "    .dataframe thead th {\n",
       "        text-align: right;\n",
       "    }\n",
       "</style>\n",
       "<table border=\"1\" class=\"dataframe\">\n",
       "  <thead>\n",
       "    <tr style=\"text-align: right;\">\n",
       "      <th></th>\n",
       "      <th>movieId</th>\n",
       "      <th>genres</th>\n",
       "      <th>Title</th>\n",
       "      <th>year_released</th>\n",
       "    </tr>\n",
       "  </thead>\n",
       "  <tbody>\n",
       "    <tr>\n",
       "      <th>0</th>\n",
       "      <td>1</td>\n",
       "      <td>Adventure|Animation|Children|Comedy|Fantasy</td>\n",
       "      <td>Toy Story</td>\n",
       "      <td>1995</td>\n",
       "    </tr>\n",
       "    <tr>\n",
       "      <th>1</th>\n",
       "      <td>2</td>\n",
       "      <td>Adventure|Children|Fantasy</td>\n",
       "      <td>Jumanji</td>\n",
       "      <td>1995</td>\n",
       "    </tr>\n",
       "    <tr>\n",
       "      <th>2</th>\n",
       "      <td>3</td>\n",
       "      <td>Comedy|Romance</td>\n",
       "      <td>Grumpier Old Men</td>\n",
       "      <td>1995</td>\n",
       "    </tr>\n",
       "    <tr>\n",
       "      <th>3</th>\n",
       "      <td>4</td>\n",
       "      <td>Comedy|Drama|Romance</td>\n",
       "      <td>Waiting to Exhale</td>\n",
       "      <td>1995</td>\n",
       "    </tr>\n",
       "    <tr>\n",
       "      <th>4</th>\n",
       "      <td>5</td>\n",
       "      <td>Comedy</td>\n",
       "      <td>Father of the Bride Part II</td>\n",
       "      <td>1995</td>\n",
       "    </tr>\n",
       "    <tr>\n",
       "      <th>...</th>\n",
       "      <td>...</td>\n",
       "      <td>...</td>\n",
       "      <td>...</td>\n",
       "      <td>...</td>\n",
       "    </tr>\n",
       "    <tr>\n",
       "      <th>9737</th>\n",
       "      <td>193581</td>\n",
       "      <td>Action|Animation|Comedy|Fantasy</td>\n",
       "      <td>Black Butler: Book of the Atlantic</td>\n",
       "      <td>2017</td>\n",
       "    </tr>\n",
       "    <tr>\n",
       "      <th>9738</th>\n",
       "      <td>193583</td>\n",
       "      <td>Animation|Comedy|Fantasy</td>\n",
       "      <td>No Game No Life: Zero</td>\n",
       "      <td>2017</td>\n",
       "    </tr>\n",
       "    <tr>\n",
       "      <th>9739</th>\n",
       "      <td>193585</td>\n",
       "      <td>Drama</td>\n",
       "      <td>Flint</td>\n",
       "      <td>2017</td>\n",
       "    </tr>\n",
       "    <tr>\n",
       "      <th>9740</th>\n",
       "      <td>193587</td>\n",
       "      <td>Action|Animation</td>\n",
       "      <td>Bungo Stray Dogs: Dead Apple</td>\n",
       "      <td>2018</td>\n",
       "    </tr>\n",
       "    <tr>\n",
       "      <th>9741</th>\n",
       "      <td>193609</td>\n",
       "      <td>Comedy</td>\n",
       "      <td>Andrew Dice Clay: Dice Rules</td>\n",
       "      <td>1991</td>\n",
       "    </tr>\n",
       "  </tbody>\n",
       "</table>\n",
       "<p>9737 rows × 4 columns</p>\n",
       "</div>"
      ],
      "text/plain": [
       "      movieId                                       genres  \\\n",
       "0           1  Adventure|Animation|Children|Comedy|Fantasy   \n",
       "1           2                   Adventure|Children|Fantasy   \n",
       "2           3                               Comedy|Romance   \n",
       "3           4                         Comedy|Drama|Romance   \n",
       "4           5                                       Comedy   \n",
       "...       ...                                          ...   \n",
       "9737   193581              Action|Animation|Comedy|Fantasy   \n",
       "9738   193583                     Animation|Comedy|Fantasy   \n",
       "9739   193585                                        Drama   \n",
       "9740   193587                             Action|Animation   \n",
       "9741   193609                                       Comedy   \n",
       "\n",
       "                                    Title year_released  \n",
       "0                              Toy Story           1995  \n",
       "1                                Jumanji           1995  \n",
       "2                       Grumpier Old Men           1995  \n",
       "3                      Waiting to Exhale           1995  \n",
       "4            Father of the Bride Part II           1995  \n",
       "...                                   ...           ...  \n",
       "9737  Black Butler: Book of the Atlantic           2017  \n",
       "9738               No Game No Life: Zero           2017  \n",
       "9739                               Flint           2017  \n",
       "9740        Bungo Stray Dogs: Dead Apple           2018  \n",
       "9741        Andrew Dice Clay: Dice Rules           1991  \n",
       "\n",
       "[9737 rows x 4 columns]"
      ]
     },
     "execution_count": 20,
     "metadata": {},
     "output_type": "execute_result"
    }
   ],
   "source": [
    "# Sanity Check to ensure formatting was completed\n",
    "movies"
   ]
  },
  {
   "cell_type": "code",
   "execution_count": 21,
   "metadata": {
    "ExecuteTime": {
     "end_time": "2022-05-11T14:01:48.471242Z",
     "start_time": "2022-05-11T14:01:48.451761Z"
    }
   },
   "outputs": [
    {
     "data": {
      "text/html": [
       "<div>\n",
       "<style scoped>\n",
       "    .dataframe tbody tr th:only-of-type {\n",
       "        vertical-align: middle;\n",
       "    }\n",
       "\n",
       "    .dataframe tbody tr th {\n",
       "        vertical-align: top;\n",
       "    }\n",
       "\n",
       "    .dataframe thead th {\n",
       "        text-align: right;\n",
       "    }\n",
       "</style>\n",
       "<table border=\"1\" class=\"dataframe\">\n",
       "  <thead>\n",
       "    <tr style=\"text-align: right;\">\n",
       "      <th></th>\n",
       "      <th>movieId</th>\n",
       "      <th>imdbId</th>\n",
       "      <th>tmdbId</th>\n",
       "    </tr>\n",
       "  </thead>\n",
       "  <tbody>\n",
       "    <tr>\n",
       "      <th>0</th>\n",
       "      <td>1</td>\n",
       "      <td>114709</td>\n",
       "      <td>862.0</td>\n",
       "    </tr>\n",
       "    <tr>\n",
       "      <th>1</th>\n",
       "      <td>2</td>\n",
       "      <td>113497</td>\n",
       "      <td>8844.0</td>\n",
       "    </tr>\n",
       "    <tr>\n",
       "      <th>2</th>\n",
       "      <td>3</td>\n",
       "      <td>113228</td>\n",
       "      <td>15602.0</td>\n",
       "    </tr>\n",
       "    <tr>\n",
       "      <th>3</th>\n",
       "      <td>4</td>\n",
       "      <td>114885</td>\n",
       "      <td>31357.0</td>\n",
       "    </tr>\n",
       "    <tr>\n",
       "      <th>4</th>\n",
       "      <td>5</td>\n",
       "      <td>113041</td>\n",
       "      <td>11862.0</td>\n",
       "    </tr>\n",
       "    <tr>\n",
       "      <th>...</th>\n",
       "      <td>...</td>\n",
       "      <td>...</td>\n",
       "      <td>...</td>\n",
       "    </tr>\n",
       "    <tr>\n",
       "      <th>9737</th>\n",
       "      <td>193581</td>\n",
       "      <td>5476944</td>\n",
       "      <td>432131.0</td>\n",
       "    </tr>\n",
       "    <tr>\n",
       "      <th>9738</th>\n",
       "      <td>193583</td>\n",
       "      <td>5914996</td>\n",
       "      <td>445030.0</td>\n",
       "    </tr>\n",
       "    <tr>\n",
       "      <th>9739</th>\n",
       "      <td>193585</td>\n",
       "      <td>6397426</td>\n",
       "      <td>479308.0</td>\n",
       "    </tr>\n",
       "    <tr>\n",
       "      <th>9740</th>\n",
       "      <td>193587</td>\n",
       "      <td>8391976</td>\n",
       "      <td>483455.0</td>\n",
       "    </tr>\n",
       "    <tr>\n",
       "      <th>9741</th>\n",
       "      <td>193609</td>\n",
       "      <td>101726</td>\n",
       "      <td>37891.0</td>\n",
       "    </tr>\n",
       "  </tbody>\n",
       "</table>\n",
       "<p>9742 rows × 3 columns</p>\n",
       "</div>"
      ],
      "text/plain": [
       "      movieId   imdbId    tmdbId\n",
       "0           1   114709     862.0\n",
       "1           2   113497    8844.0\n",
       "2           3   113228   15602.0\n",
       "3           4   114885   31357.0\n",
       "4           5   113041   11862.0\n",
       "...       ...      ...       ...\n",
       "9737   193581  5476944  432131.0\n",
       "9738   193583  5914996  445030.0\n",
       "9739   193585  6397426  479308.0\n",
       "9740   193587  8391976  483455.0\n",
       "9741   193609   101726   37891.0\n",
       "\n",
       "[9742 rows x 3 columns]"
      ]
     },
     "execution_count": 21,
     "metadata": {},
     "output_type": "execute_result"
    }
   ],
   "source": [
    "link"
   ]
  },
  {
   "cell_type": "code",
   "execution_count": 22,
   "metadata": {
    "ExecuteTime": {
     "end_time": "2022-05-11T14:01:48.656687Z",
     "start_time": "2022-05-11T14:01:48.630568Z"
    },
    "scrolled": false
   },
   "outputs": [
    {
     "data": {
      "text/html": [
       "<div>\n",
       "<style scoped>\n",
       "    .dataframe tbody tr th:only-of-type {\n",
       "        vertical-align: middle;\n",
       "    }\n",
       "\n",
       "    .dataframe tbody tr th {\n",
       "        vertical-align: top;\n",
       "    }\n",
       "\n",
       "    .dataframe thead th {\n",
       "        text-align: right;\n",
       "    }\n",
       "</style>\n",
       "<table border=\"1\" class=\"dataframe\">\n",
       "  <thead>\n",
       "    <tr style=\"text-align: right;\">\n",
       "      <th></th>\n",
       "      <th>userId</th>\n",
       "      <th>movieId</th>\n",
       "      <th>rating</th>\n",
       "      <th>timestamp</th>\n",
       "    </tr>\n",
       "  </thead>\n",
       "  <tbody>\n",
       "    <tr>\n",
       "      <th>0</th>\n",
       "      <td>1</td>\n",
       "      <td>1</td>\n",
       "      <td>4.0</td>\n",
       "      <td>964982703</td>\n",
       "    </tr>\n",
       "    <tr>\n",
       "      <th>1</th>\n",
       "      <td>1</td>\n",
       "      <td>3</td>\n",
       "      <td>4.0</td>\n",
       "      <td>964981247</td>\n",
       "    </tr>\n",
       "    <tr>\n",
       "      <th>2</th>\n",
       "      <td>1</td>\n",
       "      <td>6</td>\n",
       "      <td>4.0</td>\n",
       "      <td>964982224</td>\n",
       "    </tr>\n",
       "    <tr>\n",
       "      <th>3</th>\n",
       "      <td>1</td>\n",
       "      <td>47</td>\n",
       "      <td>5.0</td>\n",
       "      <td>964983815</td>\n",
       "    </tr>\n",
       "    <tr>\n",
       "      <th>4</th>\n",
       "      <td>1</td>\n",
       "      <td>50</td>\n",
       "      <td>5.0</td>\n",
       "      <td>964982931</td>\n",
       "    </tr>\n",
       "    <tr>\n",
       "      <th>...</th>\n",
       "      <td>...</td>\n",
       "      <td>...</td>\n",
       "      <td>...</td>\n",
       "      <td>...</td>\n",
       "    </tr>\n",
       "    <tr>\n",
       "      <th>100831</th>\n",
       "      <td>610</td>\n",
       "      <td>166534</td>\n",
       "      <td>4.0</td>\n",
       "      <td>1493848402</td>\n",
       "    </tr>\n",
       "    <tr>\n",
       "      <th>100832</th>\n",
       "      <td>610</td>\n",
       "      <td>168248</td>\n",
       "      <td>5.0</td>\n",
       "      <td>1493850091</td>\n",
       "    </tr>\n",
       "    <tr>\n",
       "      <th>100833</th>\n",
       "      <td>610</td>\n",
       "      <td>168250</td>\n",
       "      <td>5.0</td>\n",
       "      <td>1494273047</td>\n",
       "    </tr>\n",
       "    <tr>\n",
       "      <th>100834</th>\n",
       "      <td>610</td>\n",
       "      <td>168252</td>\n",
       "      <td>5.0</td>\n",
       "      <td>1493846352</td>\n",
       "    </tr>\n",
       "    <tr>\n",
       "      <th>100835</th>\n",
       "      <td>610</td>\n",
       "      <td>170875</td>\n",
       "      <td>3.0</td>\n",
       "      <td>1493846415</td>\n",
       "    </tr>\n",
       "  </tbody>\n",
       "</table>\n",
       "<p>100836 rows × 4 columns</p>\n",
       "</div>"
      ],
      "text/plain": [
       "        userId  movieId  rating   timestamp\n",
       "0            1        1     4.0   964982703\n",
       "1            1        3     4.0   964981247\n",
       "2            1        6     4.0   964982224\n",
       "3            1       47     5.0   964983815\n",
       "4            1       50     5.0   964982931\n",
       "...        ...      ...     ...         ...\n",
       "100831     610   166534     4.0  1493848402\n",
       "100832     610   168248     5.0  1493850091\n",
       "100833     610   168250     5.0  1494273047\n",
       "100834     610   168252     5.0  1493846352\n",
       "100835     610   170875     3.0  1493846415\n",
       "\n",
       "[100836 rows x 4 columns]"
      ]
     },
     "execution_count": 22,
     "metadata": {},
     "output_type": "execute_result"
    }
   ],
   "source": [
    "rating"
   ]
  },
  {
   "cell_type": "code",
   "execution_count": 23,
   "metadata": {
    "ExecuteTime": {
     "end_time": "2022-05-11T14:01:48.830847Z",
     "start_time": "2022-05-11T14:01:48.799813Z"
    },
    "scrolled": true
   },
   "outputs": [],
   "source": [
    "#converted timestamp to datetime\n",
    "rating['timestamp'] = pd.to_datetime(rating['timestamp'], unit='s')"
   ]
  },
  {
   "cell_type": "code",
   "execution_count": 24,
   "metadata": {
    "ExecuteTime": {
     "end_time": "2022-05-11T14:01:48.976023Z",
     "start_time": "2022-05-11T14:01:48.959070Z"
    }
   },
   "outputs": [
    {
     "data": {
      "text/plain": [
       "4.0    0.265957\n",
       "3.0    0.198808\n",
       "5.0    0.131015\n",
       "3.5    0.130271\n",
       "4.5    0.084801\n",
       "2.0    0.074884\n",
       "2.5    0.055040\n",
       "1.0    0.027877\n",
       "1.5    0.017762\n",
       "0.5    0.013586\n",
       "Name: rating, dtype: float64"
      ]
     },
     "execution_count": 24,
     "metadata": {},
     "output_type": "execute_result"
    }
   ],
   "source": [
    "rating.rating.value_counts(normalize=True)"
   ]
  },
  {
   "cell_type": "code",
   "execution_count": 25,
   "metadata": {
    "ExecuteTime": {
     "end_time": "2022-05-11T14:01:49.191114Z",
     "start_time": "2022-05-11T14:01:49.159576Z"
    }
   },
   "outputs": [
    {
     "data": {
      "text/plain": [
       "0"
      ]
     },
     "execution_count": 25,
     "metadata": {},
     "output_type": "execute_result"
    }
   ],
   "source": [
    "rating.duplicated().sum()"
   ]
  },
  {
   "cell_type": "code",
   "execution_count": 26,
   "metadata": {
    "ExecuteTime": {
     "end_time": "2022-05-11T14:01:49.359481Z",
     "start_time": "2022-05-11T14:01:49.348403Z"
    }
   },
   "outputs": [
    {
     "data": {
      "text/plain": [
       "userId       0\n",
       "movieId      0\n",
       "rating       0\n",
       "timestamp    0\n",
       "dtype: int64"
      ]
     },
     "execution_count": 26,
     "metadata": {},
     "output_type": "execute_result"
    }
   ],
   "source": [
    "rating.isna().sum()"
   ]
  },
  {
   "cell_type": "code",
   "execution_count": 27,
   "metadata": {
    "ExecuteTime": {
     "end_time": "2022-05-11T14:01:49.525521Z",
     "start_time": "2022-05-11T14:01:49.504972Z"
    }
   },
   "outputs": [
    {
     "data": {
      "text/html": [
       "<div>\n",
       "<style scoped>\n",
       "    .dataframe tbody tr th:only-of-type {\n",
       "        vertical-align: middle;\n",
       "    }\n",
       "\n",
       "    .dataframe tbody tr th {\n",
       "        vertical-align: top;\n",
       "    }\n",
       "\n",
       "    .dataframe thead th {\n",
       "        text-align: right;\n",
       "    }\n",
       "</style>\n",
       "<table border=\"1\" class=\"dataframe\">\n",
       "  <thead>\n",
       "    <tr style=\"text-align: right;\">\n",
       "      <th></th>\n",
       "      <th>userId</th>\n",
       "      <th>movieId</th>\n",
       "      <th>tag</th>\n",
       "      <th>timestamp</th>\n",
       "    </tr>\n",
       "  </thead>\n",
       "  <tbody>\n",
       "    <tr>\n",
       "      <th>0</th>\n",
       "      <td>2</td>\n",
       "      <td>60756</td>\n",
       "      <td>funny</td>\n",
       "      <td>1445714994</td>\n",
       "    </tr>\n",
       "    <tr>\n",
       "      <th>1</th>\n",
       "      <td>2</td>\n",
       "      <td>60756</td>\n",
       "      <td>Highly quotable</td>\n",
       "      <td>1445714996</td>\n",
       "    </tr>\n",
       "    <tr>\n",
       "      <th>2</th>\n",
       "      <td>2</td>\n",
       "      <td>60756</td>\n",
       "      <td>will ferrell</td>\n",
       "      <td>1445714992</td>\n",
       "    </tr>\n",
       "    <tr>\n",
       "      <th>3</th>\n",
       "      <td>2</td>\n",
       "      <td>89774</td>\n",
       "      <td>Boxing story</td>\n",
       "      <td>1445715207</td>\n",
       "    </tr>\n",
       "    <tr>\n",
       "      <th>4</th>\n",
       "      <td>2</td>\n",
       "      <td>89774</td>\n",
       "      <td>MMA</td>\n",
       "      <td>1445715200</td>\n",
       "    </tr>\n",
       "    <tr>\n",
       "      <th>...</th>\n",
       "      <td>...</td>\n",
       "      <td>...</td>\n",
       "      <td>...</td>\n",
       "      <td>...</td>\n",
       "    </tr>\n",
       "    <tr>\n",
       "      <th>3678</th>\n",
       "      <td>606</td>\n",
       "      <td>7382</td>\n",
       "      <td>for katie</td>\n",
       "      <td>1171234019</td>\n",
       "    </tr>\n",
       "    <tr>\n",
       "      <th>3679</th>\n",
       "      <td>606</td>\n",
       "      <td>7936</td>\n",
       "      <td>austere</td>\n",
       "      <td>1173392334</td>\n",
       "    </tr>\n",
       "    <tr>\n",
       "      <th>3680</th>\n",
       "      <td>610</td>\n",
       "      <td>3265</td>\n",
       "      <td>gun fu</td>\n",
       "      <td>1493843984</td>\n",
       "    </tr>\n",
       "    <tr>\n",
       "      <th>3681</th>\n",
       "      <td>610</td>\n",
       "      <td>3265</td>\n",
       "      <td>heroic bloodshed</td>\n",
       "      <td>1493843978</td>\n",
       "    </tr>\n",
       "    <tr>\n",
       "      <th>3682</th>\n",
       "      <td>610</td>\n",
       "      <td>168248</td>\n",
       "      <td>Heroic Bloodshed</td>\n",
       "      <td>1493844270</td>\n",
       "    </tr>\n",
       "  </tbody>\n",
       "</table>\n",
       "<p>3683 rows × 4 columns</p>\n",
       "</div>"
      ],
      "text/plain": [
       "      userId  movieId               tag   timestamp\n",
       "0          2    60756             funny  1445714994\n",
       "1          2    60756   Highly quotable  1445714996\n",
       "2          2    60756      will ferrell  1445714992\n",
       "3          2    89774      Boxing story  1445715207\n",
       "4          2    89774               MMA  1445715200\n",
       "...      ...      ...               ...         ...\n",
       "3678     606     7382         for katie  1171234019\n",
       "3679     606     7936           austere  1173392334\n",
       "3680     610     3265            gun fu  1493843984\n",
       "3681     610     3265  heroic bloodshed  1493843978\n",
       "3682     610   168248  Heroic Bloodshed  1493844270\n",
       "\n",
       "[3683 rows x 4 columns]"
      ]
     },
     "execution_count": 27,
     "metadata": {},
     "output_type": "execute_result"
    }
   ],
   "source": [
    "tags"
   ]
  },
  {
   "cell_type": "code",
   "execution_count": 28,
   "metadata": {
    "ExecuteTime": {
     "end_time": "2022-05-11T14:01:49.713557Z",
     "start_time": "2022-05-11T14:01:49.676592Z"
    }
   },
   "outputs": [],
   "source": [
    "movie_rating = movies.merge(rating, on='movieId', how='outer')"
   ]
  },
  {
   "cell_type": "code",
   "execution_count": 29,
   "metadata": {
    "ExecuteTime": {
     "end_time": "2022-05-11T14:01:49.887081Z",
     "start_time": "2022-05-11T14:01:49.861954Z"
    }
   },
   "outputs": [
    {
     "data": {
      "text/html": [
       "<div>\n",
       "<style scoped>\n",
       "    .dataframe tbody tr th:only-of-type {\n",
       "        vertical-align: middle;\n",
       "    }\n",
       "\n",
       "    .dataframe tbody tr th {\n",
       "        vertical-align: top;\n",
       "    }\n",
       "\n",
       "    .dataframe thead th {\n",
       "        text-align: right;\n",
       "    }\n",
       "</style>\n",
       "<table border=\"1\" class=\"dataframe\">\n",
       "  <thead>\n",
       "    <tr style=\"text-align: right;\">\n",
       "      <th></th>\n",
       "      <th>movieId</th>\n",
       "      <th>genres</th>\n",
       "      <th>Title</th>\n",
       "      <th>year_released</th>\n",
       "      <th>userId</th>\n",
       "      <th>rating</th>\n",
       "      <th>timestamp</th>\n",
       "    </tr>\n",
       "  </thead>\n",
       "  <tbody>\n",
       "    <tr>\n",
       "      <th>0</th>\n",
       "      <td>1</td>\n",
       "      <td>Adventure|Animation|Children|Comedy|Fantasy</td>\n",
       "      <td>Toy Story</td>\n",
       "      <td>1995</td>\n",
       "      <td>1.0</td>\n",
       "      <td>4.0</td>\n",
       "      <td>2000-07-30 18:45:03</td>\n",
       "    </tr>\n",
       "    <tr>\n",
       "      <th>1</th>\n",
       "      <td>1</td>\n",
       "      <td>Adventure|Animation|Children|Comedy|Fantasy</td>\n",
       "      <td>Toy Story</td>\n",
       "      <td>1995</td>\n",
       "      <td>5.0</td>\n",
       "      <td>4.0</td>\n",
       "      <td>1996-11-08 06:36:02</td>\n",
       "    </tr>\n",
       "    <tr>\n",
       "      <th>2</th>\n",
       "      <td>1</td>\n",
       "      <td>Adventure|Animation|Children|Comedy|Fantasy</td>\n",
       "      <td>Toy Story</td>\n",
       "      <td>1995</td>\n",
       "      <td>7.0</td>\n",
       "      <td>4.5</td>\n",
       "      <td>2005-01-25 06:52:26</td>\n",
       "    </tr>\n",
       "    <tr>\n",
       "      <th>3</th>\n",
       "      <td>1</td>\n",
       "      <td>Adventure|Animation|Children|Comedy|Fantasy</td>\n",
       "      <td>Toy Story</td>\n",
       "      <td>1995</td>\n",
       "      <td>15.0</td>\n",
       "      <td>2.5</td>\n",
       "      <td>2017-11-13 12:59:30</td>\n",
       "    </tr>\n",
       "    <tr>\n",
       "      <th>4</th>\n",
       "      <td>1</td>\n",
       "      <td>Adventure|Animation|Children|Comedy|Fantasy</td>\n",
       "      <td>Toy Story</td>\n",
       "      <td>1995</td>\n",
       "      <td>17.0</td>\n",
       "      <td>4.5</td>\n",
       "      <td>2011-05-18 05:28:03</td>\n",
       "    </tr>\n",
       "    <tr>\n",
       "      <th>...</th>\n",
       "      <td>...</td>\n",
       "      <td>...</td>\n",
       "      <td>...</td>\n",
       "      <td>...</td>\n",
       "      <td>...</td>\n",
       "      <td>...</td>\n",
       "      <td>...</td>\n",
       "    </tr>\n",
       "    <tr>\n",
       "      <th>100849</th>\n",
       "      <td>64997</td>\n",
       "      <td>NaN</td>\n",
       "      <td>NaN</td>\n",
       "      <td>NaN</td>\n",
       "      <td>68.0</td>\n",
       "      <td>2.5</td>\n",
       "      <td>2008-12-28 20:55:15</td>\n",
       "    </tr>\n",
       "    <tr>\n",
       "      <th>100850</th>\n",
       "      <td>144606</td>\n",
       "      <td>NaN</td>\n",
       "      <td>NaN</td>\n",
       "      <td>NaN</td>\n",
       "      <td>111.0</td>\n",
       "      <td>4.0</td>\n",
       "      <td>2018-01-31 23:27:37</td>\n",
       "    </tr>\n",
       "    <tr>\n",
       "      <th>100851</th>\n",
       "      <td>147002</td>\n",
       "      <td>NaN</td>\n",
       "      <td>NaN</td>\n",
       "      <td>NaN</td>\n",
       "      <td>318.0</td>\n",
       "      <td>4.0</td>\n",
       "      <td>2017-08-08 15:45:52</td>\n",
       "    </tr>\n",
       "    <tr>\n",
       "      <th>100852</th>\n",
       "      <td>26958</td>\n",
       "      <td>NaN</td>\n",
       "      <td>NaN</td>\n",
       "      <td>NaN</td>\n",
       "      <td>509.0</td>\n",
       "      <td>3.5</td>\n",
       "      <td>2015-07-04 17:42:33</td>\n",
       "    </tr>\n",
       "    <tr>\n",
       "      <th>100853</th>\n",
       "      <td>168358</td>\n",
       "      <td>NaN</td>\n",
       "      <td>NaN</td>\n",
       "      <td>NaN</td>\n",
       "      <td>514.0</td>\n",
       "      <td>2.5</td>\n",
       "      <td>2018-08-11 00:06:10</td>\n",
       "    </tr>\n",
       "  </tbody>\n",
       "</table>\n",
       "<p>100854 rows × 7 columns</p>\n",
       "</div>"
      ],
      "text/plain": [
       "        movieId                                       genres       Title  \\\n",
       "0             1  Adventure|Animation|Children|Comedy|Fantasy  Toy Story    \n",
       "1             1  Adventure|Animation|Children|Comedy|Fantasy  Toy Story    \n",
       "2             1  Adventure|Animation|Children|Comedy|Fantasy  Toy Story    \n",
       "3             1  Adventure|Animation|Children|Comedy|Fantasy  Toy Story    \n",
       "4             1  Adventure|Animation|Children|Comedy|Fantasy  Toy Story    \n",
       "...         ...                                          ...         ...   \n",
       "100849    64997                                          NaN         NaN   \n",
       "100850   144606                                          NaN         NaN   \n",
       "100851   147002                                          NaN         NaN   \n",
       "100852    26958                                          NaN         NaN   \n",
       "100853   168358                                          NaN         NaN   \n",
       "\n",
       "       year_released  userId  rating           timestamp  \n",
       "0               1995     1.0     4.0 2000-07-30 18:45:03  \n",
       "1               1995     5.0     4.0 1996-11-08 06:36:02  \n",
       "2               1995     7.0     4.5 2005-01-25 06:52:26  \n",
       "3               1995    15.0     2.5 2017-11-13 12:59:30  \n",
       "4               1995    17.0     4.5 2011-05-18 05:28:03  \n",
       "...              ...     ...     ...                 ...  \n",
       "100849           NaN    68.0     2.5 2008-12-28 20:55:15  \n",
       "100850           NaN   111.0     4.0 2018-01-31 23:27:37  \n",
       "100851           NaN   318.0     4.0 2017-08-08 15:45:52  \n",
       "100852           NaN   509.0     3.5 2015-07-04 17:42:33  \n",
       "100853           NaN   514.0     2.5 2018-08-11 00:06:10  \n",
       "\n",
       "[100854 rows x 7 columns]"
      ]
     },
     "execution_count": 29,
     "metadata": {},
     "output_type": "execute_result"
    }
   ],
   "source": [
    "movie_rating"
   ]
  },
  {
   "cell_type": "code",
   "execution_count": 30,
   "metadata": {
    "ExecuteTime": {
     "end_time": "2022-05-11T14:01:50.073651Z",
     "start_time": "2022-05-11T14:01:50.036681Z"
    }
   },
   "outputs": [],
   "source": [
    "movie_rating.dropna(inplace=True)"
   ]
  },
  {
   "cell_type": "code",
   "execution_count": 31,
   "metadata": {
    "ExecuteTime": {
     "end_time": "2022-05-11T14:01:50.257584Z",
     "start_time": "2022-05-11T14:01:50.217756Z"
    },
    "scrolled": true
   },
   "outputs": [],
   "source": [
    "movie_rating['genres']=[row.strip().lower().replace('|',',') for row in movie_rating['genres']]"
   ]
  },
  {
   "cell_type": "code",
   "execution_count": 32,
   "metadata": {
    "ExecuteTime": {
     "end_time": "2022-05-11T14:01:50.408513Z",
     "start_time": "2022-05-11T14:01:50.397494Z"
    }
   },
   "outputs": [
    {
     "data": {
      "text/plain": [
       "610"
      ]
     },
     "execution_count": 32,
     "metadata": {},
     "output_type": "execute_result"
    }
   ],
   "source": [
    "movie_rating['userId'].nunique()"
   ]
  },
  {
   "cell_type": "code",
   "execution_count": 33,
   "metadata": {
    "ExecuteTime": {
     "end_time": "2022-05-11T14:01:50.611732Z",
     "start_time": "2022-05-11T14:01:50.577797Z"
    },
    "scrolled": true
   },
   "outputs": [
    {
     "data": {
      "text/html": [
       "<div>\n",
       "<style scoped>\n",
       "    .dataframe tbody tr th:only-of-type {\n",
       "        vertical-align: middle;\n",
       "    }\n",
       "\n",
       "    .dataframe tbody tr th {\n",
       "        vertical-align: top;\n",
       "    }\n",
       "\n",
       "    .dataframe thead th {\n",
       "        text-align: right;\n",
       "    }\n",
       "</style>\n",
       "<table border=\"1\" class=\"dataframe\">\n",
       "  <thead>\n",
       "    <tr style=\"text-align: right;\">\n",
       "      <th></th>\n",
       "      <th>rating</th>\n",
       "    </tr>\n",
       "  </thead>\n",
       "  <tbody>\n",
       "    <tr>\n",
       "      <th>count</th>\n",
       "      <td>100813.000000</td>\n",
       "    </tr>\n",
       "    <tr>\n",
       "      <th>mean</th>\n",
       "      <td>3.501557</td>\n",
       "    </tr>\n",
       "    <tr>\n",
       "      <th>std</th>\n",
       "      <td>1.042494</td>\n",
       "    </tr>\n",
       "    <tr>\n",
       "      <th>min</th>\n",
       "      <td>0.500000</td>\n",
       "    </tr>\n",
       "    <tr>\n",
       "      <th>25%</th>\n",
       "      <td>3.000000</td>\n",
       "    </tr>\n",
       "    <tr>\n",
       "      <th>50%</th>\n",
       "      <td>3.500000</td>\n",
       "    </tr>\n",
       "    <tr>\n",
       "      <th>75%</th>\n",
       "      <td>4.000000</td>\n",
       "    </tr>\n",
       "    <tr>\n",
       "      <th>max</th>\n",
       "      <td>5.000000</td>\n",
       "    </tr>\n",
       "  </tbody>\n",
       "</table>\n",
       "</div>"
      ],
      "text/plain": [
       "              rating\n",
       "count  100813.000000\n",
       "mean        3.501557\n",
       "std         1.042494\n",
       "min         0.500000\n",
       "25%         3.000000\n",
       "50%         3.500000\n",
       "75%         4.000000\n",
       "max         5.000000"
      ]
     },
     "execution_count": 33,
     "metadata": {},
     "output_type": "execute_result"
    }
   ],
   "source": [
    "stats = movie_rating.filter(['rating', 'timestamp']).describe()\n",
    "stats"
   ]
  },
  {
   "cell_type": "code",
   "execution_count": 34,
   "metadata": {
    "ExecuteTime": {
     "end_time": "2022-05-11T14:01:50.795661Z",
     "start_time": "2022-05-11T14:01:50.762901Z"
    },
    "scrolled": false
   },
   "outputs": [
    {
     "data": {
      "text/html": [
       "<div>\n",
       "<style scoped>\n",
       "    .dataframe tbody tr th:only-of-type {\n",
       "        vertical-align: middle;\n",
       "    }\n",
       "\n",
       "    .dataframe tbody tr th {\n",
       "        vertical-align: top;\n",
       "    }\n",
       "\n",
       "    .dataframe thead th {\n",
       "        text-align: right;\n",
       "    }\n",
       "</style>\n",
       "<table border=\"1\" class=\"dataframe\">\n",
       "  <thead>\n",
       "    <tr style=\"text-align: right;\">\n",
       "      <th></th>\n",
       "      <th>movieId</th>\n",
       "      <th>genres</th>\n",
       "      <th>Title</th>\n",
       "      <th>year_released</th>\n",
       "      <th>userId</th>\n",
       "      <th>rating</th>\n",
       "      <th>timestamp</th>\n",
       "    </tr>\n",
       "  </thead>\n",
       "  <tbody>\n",
       "    <tr>\n",
       "      <th>0</th>\n",
       "      <td>1</td>\n",
       "      <td>adventure,animation,children,comedy,fantasy</td>\n",
       "      <td>Toy Story</td>\n",
       "      <td>1995</td>\n",
       "      <td>1.0</td>\n",
       "      <td>4.0</td>\n",
       "      <td>2000-07-30 18:45:03</td>\n",
       "    </tr>\n",
       "    <tr>\n",
       "      <th>1</th>\n",
       "      <td>1</td>\n",
       "      <td>adventure,animation,children,comedy,fantasy</td>\n",
       "      <td>Toy Story</td>\n",
       "      <td>1995</td>\n",
       "      <td>5.0</td>\n",
       "      <td>4.0</td>\n",
       "      <td>1996-11-08 06:36:02</td>\n",
       "    </tr>\n",
       "    <tr>\n",
       "      <th>2</th>\n",
       "      <td>1</td>\n",
       "      <td>adventure,animation,children,comedy,fantasy</td>\n",
       "      <td>Toy Story</td>\n",
       "      <td>1995</td>\n",
       "      <td>7.0</td>\n",
       "      <td>4.5</td>\n",
       "      <td>2005-01-25 06:52:26</td>\n",
       "    </tr>\n",
       "    <tr>\n",
       "      <th>3</th>\n",
       "      <td>1</td>\n",
       "      <td>adventure,animation,children,comedy,fantasy</td>\n",
       "      <td>Toy Story</td>\n",
       "      <td>1995</td>\n",
       "      <td>15.0</td>\n",
       "      <td>2.5</td>\n",
       "      <td>2017-11-13 12:59:30</td>\n",
       "    </tr>\n",
       "    <tr>\n",
       "      <th>4</th>\n",
       "      <td>1</td>\n",
       "      <td>adventure,animation,children,comedy,fantasy</td>\n",
       "      <td>Toy Story</td>\n",
       "      <td>1995</td>\n",
       "      <td>17.0</td>\n",
       "      <td>4.5</td>\n",
       "      <td>2011-05-18 05:28:03</td>\n",
       "    </tr>\n",
       "    <tr>\n",
       "      <th>...</th>\n",
       "      <td>...</td>\n",
       "      <td>...</td>\n",
       "      <td>...</td>\n",
       "      <td>...</td>\n",
       "      <td>...</td>\n",
       "      <td>...</td>\n",
       "      <td>...</td>\n",
       "    </tr>\n",
       "    <tr>\n",
       "      <th>100843</th>\n",
       "      <td>193581</td>\n",
       "      <td>action,animation,comedy,fantasy</td>\n",
       "      <td>Black Butler: Book of the Atlantic</td>\n",
       "      <td>2017</td>\n",
       "      <td>184.0</td>\n",
       "      <td>4.0</td>\n",
       "      <td>2018-09-16 14:44:42</td>\n",
       "    </tr>\n",
       "    <tr>\n",
       "      <th>100844</th>\n",
       "      <td>193583</td>\n",
       "      <td>animation,comedy,fantasy</td>\n",
       "      <td>No Game No Life: Zero</td>\n",
       "      <td>2017</td>\n",
       "      <td>184.0</td>\n",
       "      <td>3.5</td>\n",
       "      <td>2018-09-16 14:52:25</td>\n",
       "    </tr>\n",
       "    <tr>\n",
       "      <th>100845</th>\n",
       "      <td>193585</td>\n",
       "      <td>drama</td>\n",
       "      <td>Flint</td>\n",
       "      <td>2017</td>\n",
       "      <td>184.0</td>\n",
       "      <td>3.5</td>\n",
       "      <td>2018-09-16 14:56:45</td>\n",
       "    </tr>\n",
       "    <tr>\n",
       "      <th>100846</th>\n",
       "      <td>193587</td>\n",
       "      <td>action,animation</td>\n",
       "      <td>Bungo Stray Dogs: Dead Apple</td>\n",
       "      <td>2018</td>\n",
       "      <td>184.0</td>\n",
       "      <td>3.5</td>\n",
       "      <td>2018-09-16 15:00:21</td>\n",
       "    </tr>\n",
       "    <tr>\n",
       "      <th>100847</th>\n",
       "      <td>193609</td>\n",
       "      <td>comedy</td>\n",
       "      <td>Andrew Dice Clay: Dice Rules</td>\n",
       "      <td>1991</td>\n",
       "      <td>331.0</td>\n",
       "      <td>4.0</td>\n",
       "      <td>2018-09-17 04:13:26</td>\n",
       "    </tr>\n",
       "  </tbody>\n",
       "</table>\n",
       "<p>100813 rows × 7 columns</p>\n",
       "</div>"
      ],
      "text/plain": [
       "        movieId                                       genres  \\\n",
       "0             1  adventure,animation,children,comedy,fantasy   \n",
       "1             1  adventure,animation,children,comedy,fantasy   \n",
       "2             1  adventure,animation,children,comedy,fantasy   \n",
       "3             1  adventure,animation,children,comedy,fantasy   \n",
       "4             1  adventure,animation,children,comedy,fantasy   \n",
       "...         ...                                          ...   \n",
       "100843   193581              action,animation,comedy,fantasy   \n",
       "100844   193583                     animation,comedy,fantasy   \n",
       "100845   193585                                        drama   \n",
       "100846   193587                             action,animation   \n",
       "100847   193609                                       comedy   \n",
       "\n",
       "                                      Title year_released  userId  rating  \\\n",
       "0                                Toy Story           1995     1.0     4.0   \n",
       "1                                Toy Story           1995     5.0     4.0   \n",
       "2                                Toy Story           1995     7.0     4.5   \n",
       "3                                Toy Story           1995    15.0     2.5   \n",
       "4                                Toy Story           1995    17.0     4.5   \n",
       "...                                     ...           ...     ...     ...   \n",
       "100843  Black Butler: Book of the Atlantic           2017   184.0     4.0   \n",
       "100844               No Game No Life: Zero           2017   184.0     3.5   \n",
       "100845                               Flint           2017   184.0     3.5   \n",
       "100846        Bungo Stray Dogs: Dead Apple           2018   184.0     3.5   \n",
       "100847        Andrew Dice Clay: Dice Rules           1991   331.0     4.0   \n",
       "\n",
       "                 timestamp  \n",
       "0      2000-07-30 18:45:03  \n",
       "1      1996-11-08 06:36:02  \n",
       "2      2005-01-25 06:52:26  \n",
       "3      2017-11-13 12:59:30  \n",
       "4      2011-05-18 05:28:03  \n",
       "...                    ...  \n",
       "100843 2018-09-16 14:44:42  \n",
       "100844 2018-09-16 14:52:25  \n",
       "100845 2018-09-16 14:56:45  \n",
       "100846 2018-09-16 15:00:21  \n",
       "100847 2018-09-17 04:13:26  \n",
       "\n",
       "[100813 rows x 7 columns]"
      ]
     },
     "execution_count": 34,
     "metadata": {},
     "output_type": "execute_result"
    }
   ],
   "source": [
    "movie_rating"
   ]
  },
  {
   "cell_type": "code",
   "execution_count": 35,
   "metadata": {
    "ExecuteTime": {
     "end_time": "2022-05-11T14:01:50.930845Z",
     "start_time": "2022-05-11T14:01:50.927421Z"
    }
   },
   "outputs": [],
   "source": [
    "# movie_rating['genres'] = movie_rating['genres'].to_list()"
   ]
  },
  {
   "cell_type": "code",
   "execution_count": 36,
   "metadata": {
    "ExecuteTime": {
     "end_time": "2022-05-11T14:01:51.121511Z",
     "start_time": "2022-05-11T14:01:51.109849Z"
    },
    "scrolled": true
   },
   "outputs": [],
   "source": [
    "# pattern = \"([a-zA-Z]+(?:'[a-z]+)?)\"\n",
    "# tokenizer = RegexpTokenizer(pattern)\n",
    "# movie_rating['genres'] = [tokenizer.tokenize(token) for token in movie_rating['genres']]"
   ]
  },
  {
   "cell_type": "markdown",
   "metadata": {},
   "source": [
    "## Split"
   ]
  },
  {
   "cell_type": "code",
   "execution_count": 37,
   "metadata": {
    "ExecuteTime": {
     "end_time": "2022-05-11T14:01:51.487360Z",
     "start_time": "2022-05-11T14:01:51.460279Z"
    }
   },
   "outputs": [],
   "source": [
    "train, test = smodel.train_test_split(movie_rating, random_state=42)"
   ]
  },
  {
   "cell_type": "code",
   "execution_count": 38,
   "metadata": {
    "ExecuteTime": {
     "end_time": "2022-05-11T14:01:51.722677Z",
     "start_time": "2022-05-11T14:01:51.658767Z"
    }
   },
   "outputs": [],
   "source": [
    "reader = Reader(rating_scale=(1, 5))\n",
    "train_data = Dataset.load_from_df(train[['userId', 'movieId', 'rating']], reader)"
   ]
  },
  {
   "cell_type": "code",
   "execution_count": 49,
   "metadata": {
    "ExecuteTime": {
     "end_time": "2022-05-11T14:03:41.423482Z",
     "start_time": "2022-05-11T14:03:41.417465Z"
    }
   },
   "outputs": [
    {
     "data": {
      "text/plain": [
       "surprise.dataset.DatasetAutoFolds"
      ]
     },
     "execution_count": 49,
     "metadata": {},
     "output_type": "execute_result"
    }
   ],
   "source": [
    "type(train_data)"
   ]
  },
  {
   "cell_type": "code",
   "execution_count": 39,
   "metadata": {
    "ExecuteTime": {
     "end_time": "2022-05-11T14:01:52.474866Z",
     "start_time": "2022-05-11T14:01:52.439805Z"
    }
   },
   "outputs": [],
   "source": [
    "test_data = Dataset.load_from_df(test[['userId', 'movieId', 'rating']], reader)"
   ]
  },
  {
   "cell_type": "code",
   "execution_count": 40,
   "metadata": {
    "ExecuteTime": {
     "end_time": "2022-05-11T14:01:52.807027Z",
     "start_time": "2022-05-11T14:01:52.794848Z"
    }
   },
   "outputs": [
    {
     "data": {
      "text/plain": [
       "surprise.dataset.DatasetAutoFolds"
      ]
     },
     "execution_count": 40,
     "metadata": {},
     "output_type": "execute_result"
    }
   ],
   "source": [
    "type (test_data)"
   ]
  },
  {
   "cell_type": "code",
   "execution_count": 41,
   "metadata": {
    "ExecuteTime": {
     "end_time": "2022-05-11T14:01:52.999414Z",
     "start_time": "2022-05-11T14:01:52.985166Z"
    }
   },
   "outputs": [],
   "source": [
    "movie_rating_df = movie_rating[['userId', 'movieId', 'rating']]\n",
    "# movie_rating_df.columns = ['userId', 'movieId', 'raw_ratings']"
   ]
  },
  {
   "cell_type": "code",
   "execution_count": 42,
   "metadata": {
    "ExecuteTime": {
     "end_time": "2022-05-11T14:01:53.242067Z",
     "start_time": "2022-05-11T14:01:53.155058Z"
    }
   },
   "outputs": [],
   "source": [
    "reader = Reader(rating_scale=(1, 5))\n",
    "movie_rating_ds = Dataset.load_from_df(movie_rating_df, reader)"
   ]
  },
  {
   "cell_type": "code",
   "execution_count": 43,
   "metadata": {
    "ExecuteTime": {
     "end_time": "2022-05-11T14:01:53.401761Z",
     "start_time": "2022-05-11T14:01:53.357310Z"
    }
   },
   "outputs": [],
   "source": [
    "trainset = movie_rating_ds.build_full_trainset()"
   ]
  },
  {
   "cell_type": "code",
   "execution_count": 44,
   "metadata": {
    "ExecuteTime": {
     "end_time": "2022-05-11T14:01:53.530212Z",
     "start_time": "2022-05-11T14:01:53.527117Z"
    }
   },
   "outputs": [
    {
     "data": {
      "text/plain": [
       "surprise.dataset.DatasetAutoFolds"
      ]
     },
     "execution_count": 44,
     "metadata": {},
     "output_type": "execute_result"
    }
   ],
   "source": [
    "type(movie_rating_ds)"
   ]
  },
  {
   "cell_type": "code",
   "execution_count": 45,
   "metadata": {
    "ExecuteTime": {
     "end_time": "2022-05-11T14:01:53.810554Z",
     "start_time": "2022-05-11T14:01:53.670298Z"
    }
   },
   "outputs": [],
   "source": [
    "# train_data, test_data = smodel.train_test_split(movie_rating_df, random_state=42)\n",
    "trainset, testset = train_test_split(movie_rating_ds, random_state=42)"
   ]
  },
  {
   "cell_type": "code",
   "execution_count": 46,
   "metadata": {
    "ExecuteTime": {
     "end_time": "2022-05-11T14:01:53.854145Z",
     "start_time": "2022-05-11T14:01:53.850886Z"
    }
   },
   "outputs": [
    {
     "data": {
      "text/plain": [
       "surprise.trainset.Trainset"
      ]
     },
     "execution_count": 46,
     "metadata": {},
     "output_type": "execute_result"
    }
   ],
   "source": [
    "type(trainset)"
   ]
  },
  {
   "cell_type": "markdown",
   "metadata": {},
   "source": [
    "## Tuning"
   ]
  },
  {
   "cell_type": "markdown",
   "metadata": {},
   "source": [
    "### KNNBasics"
   ]
  },
  {
   "cell_type": "code",
   "execution_count": 55,
   "metadata": {
    "ExecuteTime": {
     "end_time": "2022-05-11T14:16:12.246138Z",
     "start_time": "2022-05-11T14:15:43.366530Z"
    },
    "scrolled": true
   },
   "outputs": [
    {
     "name": "stderr",
     "output_type": "stream",
     "text": [
      "[Parallel(n_jobs=1)]: Using backend SequentialBackend with 1 concurrent workers.\n"
     ]
    },
    {
     "name": "stdout",
     "output_type": "stream",
     "text": [
      "Computing the msd similarity matrix...\n",
      "Done computing similarity matrix.\n"
     ]
    },
    {
     "name": "stderr",
     "output_type": "stream",
     "text": [
      "[Parallel(n_jobs=1)]: Done   1 out of   1 | elapsed:    0.5s remaining:    0.0s\n"
     ]
    },
    {
     "name": "stdout",
     "output_type": "stream",
     "text": [
      "Computing the msd similarity matrix...\n",
      "Done computing similarity matrix.\n"
     ]
    },
    {
     "name": "stderr",
     "output_type": "stream",
     "text": [
      "[Parallel(n_jobs=1)]: Done   2 out of   2 | elapsed:    1.0s remaining:    0.0s\n"
     ]
    },
    {
     "name": "stdout",
     "output_type": "stream",
     "text": [
      "Computing the msd similarity matrix...\n",
      "Done computing similarity matrix.\n"
     ]
    },
    {
     "name": "stderr",
     "output_type": "stream",
     "text": [
      "[Parallel(n_jobs=1)]: Done   3 out of   3 | elapsed:    1.6s remaining:    0.0s\n"
     ]
    },
    {
     "name": "stdout",
     "output_type": "stream",
     "text": [
      "Computing the msd similarity matrix...\n",
      "Done computing similarity matrix.\n"
     ]
    },
    {
     "name": "stderr",
     "output_type": "stream",
     "text": [
      "[Parallel(n_jobs=1)]: Done   4 out of   4 | elapsed:    2.1s remaining:    0.0s\n"
     ]
    },
    {
     "name": "stdout",
     "output_type": "stream",
     "text": [
      "Computing the msd similarity matrix...\n",
      "Done computing similarity matrix.\n",
      "Computing the msd similarity matrix...\n",
      "Done computing similarity matrix.\n",
      "Computing the msd similarity matrix...\n",
      "Done computing similarity matrix.\n",
      "Computing the msd similarity matrix...\n",
      "Done computing similarity matrix.\n",
      "Computing the msd similarity matrix...\n",
      "Done computing similarity matrix.\n",
      "Computing the msd similarity matrix...\n",
      "Done computing similarity matrix.\n",
      "Computing the msd similarity matrix...\n",
      "Done computing similarity matrix.\n",
      "Computing the msd similarity matrix...\n",
      "Done computing similarity matrix.\n",
      "Computing the msd similarity matrix...\n",
      "Done computing similarity matrix.\n",
      "Computing the msd similarity matrix...\n",
      "Done computing similarity matrix.\n",
      "Computing the msd similarity matrix...\n",
      "Done computing similarity matrix.\n",
      "Computing the msd similarity matrix...\n",
      "Done computing similarity matrix.\n",
      "Computing the msd similarity matrix...\n",
      "Done computing similarity matrix.\n",
      "Computing the msd similarity matrix...\n",
      "Done computing similarity matrix.\n",
      "Computing the msd similarity matrix...\n",
      "Done computing similarity matrix.\n",
      "Computing the msd similarity matrix...\n",
      "Done computing similarity matrix.\n",
      "Computing the msd similarity matrix...\n",
      "Done computing similarity matrix.\n",
      "Computing the msd similarity matrix...\n",
      "Done computing similarity matrix.\n",
      "Computing the msd similarity matrix...\n",
      "Done computing similarity matrix.\n",
      "Computing the msd similarity matrix...\n",
      "Done computing similarity matrix.\n",
      "Computing the msd similarity matrix...\n",
      "Done computing similarity matrix.\n",
      "Computing the msd similarity matrix...\n",
      "Done computing similarity matrix.\n",
      "Computing the msd similarity matrix...\n",
      "Done computing similarity matrix.\n",
      "Computing the msd similarity matrix...\n",
      "Done computing similarity matrix.\n",
      "Computing the msd similarity matrix...\n",
      "Done computing similarity matrix.\n",
      "Computing the msd similarity matrix...\n",
      "Done computing similarity matrix.\n",
      "Computing the msd similarity matrix...\n",
      "Done computing similarity matrix.\n",
      "Computing the msd similarity matrix...\n",
      "Done computing similarity matrix.\n",
      "Computing the msd similarity matrix...\n",
      "Done computing similarity matrix.\n",
      "Computing the msd similarity matrix...\n",
      "Done computing similarity matrix.\n",
      "Computing the msd similarity matrix...\n",
      "Done computing similarity matrix.\n",
      "Computing the msd similarity matrix...\n",
      "Done computing similarity matrix.\n",
      "Computing the msd similarity matrix...\n",
      "Done computing similarity matrix.\n",
      "Computing the msd similarity matrix...\n",
      "Done computing similarity matrix.\n",
      "Computing the msd similarity matrix...\n",
      "Done computing similarity matrix.\n",
      "Computing the msd similarity matrix...\n",
      "Done computing similarity matrix.\n",
      "Computing the msd similarity matrix...\n",
      "Done computing similarity matrix.\n",
      "Computing the msd similarity matrix...\n",
      "Done computing similarity matrix.\n",
      "Computing the msd similarity matrix...\n",
      "Done computing similarity matrix.\n",
      "Computing the msd similarity matrix...\n",
      "Done computing similarity matrix.\n",
      "Computing the msd similarity matrix...\n",
      "Done computing similarity matrix.\n"
     ]
    },
    {
     "name": "stderr",
     "output_type": "stream",
     "text": [
      "[Parallel(n_jobs=1)]: Done  45 out of  45 | elapsed:   28.6s finished\n"
     ]
    }
   ],
   "source": [
    "param_grid = {'k':[10, 50, 100],'min_k': [1, 5, 10]}\n",
    "base_model = GridSearchCV(KNNBasic,param_grid=param_grid,joblib_verbose=5)\n",
    "base_model.fit(train_data)"
   ]
  },
  {
   "cell_type": "code",
   "execution_count": null,
   "metadata": {
    "ExecuteTime": {
     "end_time": "2022-05-10T22:19:51.156277Z",
     "start_time": "2022-05-10T22:19:51.153942Z"
    },
    "scrolled": true
   },
   "outputs": [],
   "source": [
    "base_model.best_params"
   ]
  },
  {
   "cell_type": "code",
   "execution_count": null,
   "metadata": {
    "ExecuteTime": {
     "end_time": "2022-05-10T22:20:13.848722Z",
     "start_time": "2022-05-10T22:19:51.157730Z"
    },
    "scrolled": true
   },
   "outputs": [],
   "source": [
    "param_grid = {'k':[5, 10, 15],'min_k': [1, 5, 10]}\n",
    "base_model = GridSearchCV(KNNBasic,param_grid=param_grid,joblib_verbose=5)\n",
    "base_model.fit(train_data)"
   ]
  },
  {
   "cell_type": "code",
   "execution_count": null,
   "metadata": {
    "ExecuteTime": {
     "end_time": "2022-05-10T22:20:13.852707Z",
     "start_time": "2022-05-10T22:20:13.849885Z"
    }
   },
   "outputs": [],
   "source": [
    "base_model.best_params"
   ]
  },
  {
   "cell_type": "code",
   "execution_count": null,
   "metadata": {
    "ExecuteTime": {
     "end_time": "2022-05-10T22:20:38.562404Z",
     "start_time": "2022-05-10T22:20:13.854455Z"
    },
    "scrolled": true
   },
   "outputs": [],
   "source": [
    "param_grid = {'k':[10, 15, 20],'min_k': [1, 5, 10]}\n",
    "base_model = GridSearchCV(KNNBasic,param_grid=param_grid,joblib_verbose=5)\n",
    "base_model.fit(train_data)"
   ]
  },
  {
   "cell_type": "code",
   "execution_count": null,
   "metadata": {
    "ExecuteTime": {
     "end_time": "2022-05-10T22:20:38.566432Z",
     "start_time": "2022-05-10T22:20:38.563909Z"
    }
   },
   "outputs": [],
   "source": [
    "base_model.best_params"
   ]
  },
  {
   "cell_type": "markdown",
   "metadata": {
    "ExecuteTime": {
     "end_time": "2022-05-10T15:47:36.657933Z",
     "start_time": "2022-05-10T15:47:36.656670Z"
    }
   },
   "source": [
    "Best Params for KNNBasics is k=15, min_k = 5."
   ]
  },
  {
   "cell_type": "markdown",
   "metadata": {
    "heading_collapsed": true
   },
   "source": [
    "## Cross Validation"
   ]
  },
  {
   "cell_type": "code",
   "execution_count": null,
   "metadata": {
    "ExecuteTime": {
     "end_time": "2022-05-10T22:20:38.569685Z",
     "start_time": "2022-05-10T22:20:38.567856Z"
    },
    "hidden": true
   },
   "outputs": [],
   "source": [
    "#instantiate KNN model \n",
    "model1=KNNBasic(k=15, min_k=5)\n"
   ]
  },
  {
   "cell_type": "code",
   "execution_count": null,
   "metadata": {
    "ExecuteTime": {
     "end_time": "2022-05-10T22:20:41.676531Z",
     "start_time": "2022-05-10T22:20:38.570958Z"
    },
    "hidden": true,
    "scrolled": true
   },
   "outputs": [],
   "source": [
    "#instaniatite and perform cross val with training data\n",
    "cross_validate(model1, train_data, measures=['RMSE', 'MAE'], cv=5, verbose=True)"
   ]
  },
  {
   "cell_type": "code",
   "execution_count": null,
   "metadata": {
    "ExecuteTime": {
     "end_time": "2022-05-10T22:20:41.680288Z",
     "start_time": "2022-05-10T22:20:41.677906Z"
    },
    "hidden": true,
    "scrolled": false
   },
   "outputs": [],
   "source": [
    "#use model to predict\n",
    "model1.predict(uid=10, iid = 20)\n",
    "#this model just predicted what user 10 would predict movie 20"
   ]
  },
  {
   "cell_type": "markdown",
   "metadata": {
    "hidden": true
   },
   "source": [
    "looking at the output above we can determine that our model predicted that use 10 would rate movie 20 a 2.5 give or take our RSME which is .95."
   ]
  },
  {
   "cell_type": "markdown",
   "metadata": {},
   "source": [
    "## Models"
   ]
  },
  {
   "cell_type": "markdown",
   "metadata": {},
   "source": [
    "### SVD"
   ]
  },
  {
   "cell_type": "code",
   "execution_count": 51,
   "metadata": {
    "ExecuteTime": {
     "end_time": "2022-05-11T14:04:16.041116Z",
     "start_time": "2022-05-11T14:04:16.035200Z"
    }
   },
   "outputs": [],
   "source": [
    "model2 = SVD()"
   ]
  },
  {
   "cell_type": "code",
   "execution_count": 54,
   "metadata": {
    "ExecuteTime": {
     "end_time": "2022-05-11T14:06:03.058459Z",
     "start_time": "2022-05-11T14:05:58.837023Z"
    }
   },
   "outputs": [
    {
     "data": {
      "text/plain": [
       "<surprise.prediction_algorithms.matrix_factorization.SVD at 0x7fb890afc970>"
      ]
     },
     "execution_count": 54,
     "metadata": {},
     "output_type": "execute_result"
    }
   ],
   "source": [
    "model2.fit(trainset)"
   ]
  },
  {
   "cell_type": "code",
   "execution_count": 53,
   "metadata": {
    "ExecuteTime": {
     "end_time": "2022-05-11T14:05:56.863696Z",
     "start_time": "2022-05-11T14:05:40.441156Z"
    },
    "scrolled": true
   },
   "outputs": [
    {
     "name": "stdout",
     "output_type": "stream",
     "text": [
      "Evaluating RMSE, MAE of algorithm SVD on 5 split(s).\n",
      "\n",
      "                  Fold 1  Fold 2  Fold 3  Fold 4  Fold 5  Mean    Std     \n",
      "RMSE (testset)    0.8770  0.8741  0.8801  0.8782  0.8940  0.8807  0.0069  \n",
      "MAE (testset)     0.6753  0.6766  0.6805  0.6748  0.6859  0.6786  0.0041  \n",
      "Fit time          3.13    3.09    3.10    3.13    3.12    3.11    0.02    \n",
      "Test time         0.11    0.07    0.11    0.07    0.07    0.09    0.02    \n"
     ]
    },
    {
     "data": {
      "text/plain": [
       "{'test_rmse': array([0.87703689, 0.87414758, 0.88010125, 0.87816621, 0.89404373]),\n",
       " 'test_mae': array([0.67527705, 0.67659572, 0.68049581, 0.67478795, 0.68587177]),\n",
       " 'fit_time': (3.1337499618530273,\n",
       "  3.0947208404541016,\n",
       "  3.096944808959961,\n",
       "  3.1263210773468018,\n",
       "  3.122912883758545),\n",
       " 'test_time': (0.11261200904846191,\n",
       "  0.07059788703918457,\n",
       "  0.11052203178405762,\n",
       "  0.0700528621673584,\n",
       "  0.07198596000671387)}"
      ]
     },
     "execution_count": 53,
     "metadata": {},
     "output_type": "execute_result"
    }
   ],
   "source": [
    "cross_validate(model2, train_data, measures=['RMSE', 'MAE'], cv=5, verbose=True)"
   ]
  },
  {
   "cell_type": "code",
   "execution_count": null,
   "metadata": {
    "ExecuteTime": {
     "end_time": "2022-05-10T22:25:59.126040Z",
     "start_time": "2022-05-10T22:20:58.195047Z"
    }
   },
   "outputs": [],
   "source": [
    "param_grid = {'n_factors':[10,20,50],'n_epochs': [5, 10, 15], 'lr_all': [0.002,0.005,0.01],\n",
    "             'reg_all': [0.2,0.4,0.6]}\n",
    "gs_model2 = GridSearchCV(SVD,param_grid=param_grid,joblib_verbose=5)\n",
    "gs_model2.fit(train_data)"
   ]
  },
  {
   "cell_type": "code",
   "execution_count": null,
   "metadata": {
    "ExecuteTime": {
     "end_time": "2022-05-10T22:25:59.130023Z",
     "start_time": "2022-05-10T22:25:59.127309Z"
    }
   },
   "outputs": [],
   "source": [
    "gs_model2.best_params"
   ]
  },
  {
   "cell_type": "code",
   "execution_count": null,
   "metadata": {
    "ExecuteTime": {
     "end_time": "2022-05-10T22:45:42.078332Z",
     "start_time": "2022-05-10T22:25:59.131209Z"
    }
   },
   "outputs": [],
   "source": [
    "param_grid = {'n_factors':[25, 50, 75],'n_epochs': [15, 30, 45], 'lr_all': [0.01,0.05,0.1],\n",
    "             'reg_all': [0.1,0.2,0.3]}\n",
    "gs_model2 = GridSearchCV(SVD,param_grid=param_grid,joblib_verbose=5)\n",
    "gs_model2.fit(train_data)"
   ]
  },
  {
   "cell_type": "code",
   "execution_count": null,
   "metadata": {
    "ExecuteTime": {
     "end_time": "2022-05-10T22:45:42.082208Z",
     "start_time": "2022-05-10T22:45:42.079742Z"
    }
   },
   "outputs": [],
   "source": [
    "gs_model2.best_params"
   ]
  },
  {
   "cell_type": "code",
   "execution_count": null,
   "metadata": {},
   "outputs": [],
   "source": []
  },
  {
   "cell_type": "code",
   "execution_count": null,
   "metadata": {
    "ExecuteTime": {
     "end_time": "2022-05-10T22:46:10.925298Z",
     "start_time": "2022-05-10T22:45:42.083746Z"
    },
    "scrolled": true
   },
   "outputs": [],
   "source": [
    "cross_validate(SVD(n_factors=75,n_epochs=45,lr_all=0.01,reg_all=0.1), train_data, measures=['RMSE', 'MAE'], \n",
    "               cv=5, verbose=True)"
   ]
  },
  {
   "cell_type": "code",
   "execution_count": null,
   "metadata": {
    "ExecuteTime": {
     "end_time": "2022-05-10T23:49:52.653949Z",
     "start_time": "2022-05-10T22:46:10.926940Z"
    }
   },
   "outputs": [],
   "source": [
    "param_grid = {'n_factors':[75, 100, 125],'n_epochs': [45, 60, 75], 'lr_all': [.005, 0.01, .015],\n",
    "             'reg_all': [.05, 0.1, 0.15]}\n",
    "gs_model2 = GridSearchCV(SVD,param_grid=param_grid,joblib_verbose=5)\n",
    "gs_model2.fit(train_data)"
   ]
  },
  {
   "cell_type": "code",
   "execution_count": null,
   "metadata": {
    "ExecuteTime": {
     "end_time": "2022-05-10T23:49:52.658023Z",
     "start_time": "2022-05-10T23:49:52.655409Z"
    }
   },
   "outputs": [],
   "source": [
    "gs_model2.best_params"
   ]
  },
  {
   "cell_type": "markdown",
   "metadata": {},
   "source": [
    "At some point we have to stop. If we have more time we will run another grid search for the model above. \n",
    "Best Params for SVD are n_factors=125, n_epochs= 45, lr_all= .015, reg_all= .1."
   ]
  },
  {
   "cell_type": "code",
   "execution_count": 120,
   "metadata": {
    "ExecuteTime": {
     "end_time": "2022-05-11T10:25:27.996911Z",
     "start_time": "2022-05-11T10:24:45.329395Z"
    }
   },
   "outputs": [
    {
     "name": "stdout",
     "output_type": "stream",
     "text": [
      "Evaluating RMSE, MAE of algorithm SVD on 5 split(s).\n",
      "\n",
      "                  Fold 1  Fold 2  Fold 3  Fold 4  Fold 5  Mean    Std     \n",
      "RMSE (testset)    0.8574  0.8568  0.8605  0.8679  0.8613  0.8608  0.0040  \n",
      "MAE (testset)     0.6589  0.6610  0.6595  0.6666  0.6599  0.6612  0.0028  \n",
      "Fit time          8.38    8.37    8.39    8.39    8.33    8.37    0.02    \n",
      "Test time         0.07    0.07    0.07    0.07    0.07    0.07    0.00    \n"
     ]
    },
    {
     "data": {
      "text/plain": [
       "{'test_rmse': array([0.85737477, 0.85677494, 0.86050478, 0.86794986, 0.861253  ]),\n",
       " 'test_mae': array([0.65891036, 0.66097398, 0.65953158, 0.66658012, 0.65986547]),\n",
       " 'fit_time': (8.3762788772583,\n",
       "  8.371620893478394,\n",
       "  8.385881900787354,\n",
       "  8.38858699798584,\n",
       "  8.330207109451294),\n",
       " 'test_time': (0.06965517997741699,\n",
       "  0.07026791572570801,\n",
       "  0.07081794738769531,\n",
       "  0.0722508430480957,\n",
       "  0.07192397117614746)}"
      ]
     },
     "execution_count": 120,
     "metadata": {},
     "output_type": "execute_result"
    }
   ],
   "source": [
    "model = SVD(n_factors=125,n_epochs=45,lr_all=0.015,reg_all=0.1)\n",
    "\n",
    "cross_validate(model, train_data, measures=['RMSE', 'MAE'], \n",
    "               cv=5, verbose=True)"
   ]
  },
  {
   "cell_type": "markdown",
   "metadata": {},
   "source": [
    "Best model so far with an RMSE of .86."
   ]
  },
  {
   "cell_type": "markdown",
   "metadata": {
    "heading_collapsed": true
   },
   "source": [
    "### NMF"
   ]
  },
  {
   "cell_type": "code",
   "execution_count": null,
   "metadata": {
    "ExecuteTime": {
     "end_time": "2022-05-10T23:50:35.429350Z",
     "start_time": "2022-05-10T23:50:35.426659Z"
    },
    "hidden": true
   },
   "outputs": [],
   "source": [
    "model3 = NMF()"
   ]
  },
  {
   "cell_type": "code",
   "execution_count": null,
   "metadata": {
    "ExecuteTime": {
     "end_time": "2022-05-10T23:50:51.912044Z",
     "start_time": "2022-05-10T23:50:35.430663Z"
    },
    "hidden": true
   },
   "outputs": [],
   "source": [
    "cross_validate(model3, train_data, measures=['RMSE', 'MAE'], cv=5, verbose=True)"
   ]
  },
  {
   "cell_type": "code",
   "execution_count": null,
   "metadata": {
    "ExecuteTime": {
     "end_time": "2022-05-10T23:53:16.706591Z",
     "start_time": "2022-05-10T23:50:51.913582Z"
    },
    "hidden": true
   },
   "outputs": [],
   "source": [
    "param_grid = {'n_factors':[10,15,20],'n_epochs': [25, 50, 75]}\n",
    "gs_model3 = GridSearchCV(NMF,param_grid=param_grid,joblib_verbose=5)\n",
    "gs_model3.fit(train_data)"
   ]
  },
  {
   "cell_type": "code",
   "execution_count": null,
   "metadata": {
    "ExecuteTime": {
     "end_time": "2022-05-10T23:53:16.710650Z",
     "start_time": "2022-05-10T23:53:16.707909Z"
    },
    "hidden": true,
    "scrolled": true
   },
   "outputs": [],
   "source": [
    "gs_model3.best_params"
   ]
  },
  {
   "cell_type": "code",
   "execution_count": null,
   "metadata": {
    "ExecuteTime": {
     "end_time": "2022-05-10T23:53:19.038087Z",
     "start_time": "2022-05-10T23:53:16.711995Z"
    },
    "hidden": true
   },
   "outputs": [],
   "source": [
    "cross_validate(NMF(n_factors=10,n_epochs=25), train_data, measures=['RMSE', 'MAE'], \n",
    "               cv=5, verbose=True,  n_jobs= -2)"
   ]
  },
  {
   "cell_type": "code",
   "execution_count": null,
   "metadata": {
    "ExecuteTime": {
     "end_time": "2022-05-10T23:54:02.849111Z",
     "start_time": "2022-05-10T23:53:19.039680Z"
    },
    "hidden": true
   },
   "outputs": [],
   "source": [
    "param_grid = {'n_factors':[3,5,10],'n_epochs': [15, 20, 25]}\n",
    "gs_model3 = GridSearchCV(NMF,param_grid=param_grid,joblib_verbose=5)\n",
    "gs_model3.fit(train_data)"
   ]
  },
  {
   "cell_type": "code",
   "execution_count": null,
   "metadata": {
    "ExecuteTime": {
     "end_time": "2022-05-10T23:54:02.852962Z",
     "start_time": "2022-05-10T23:54:02.850465Z"
    },
    "hidden": true
   },
   "outputs": [],
   "source": [
    "gs_model3.best_params"
   ]
  },
  {
   "cell_type": "code",
   "execution_count": null,
   "metadata": {
    "hidden": true
   },
   "outputs": [],
   "source": [
    "# Instantiate reader the same convention as a sklearn class\n",
    "reader = Reader(rating_scale=(1, 5))\n",
    "# Load user_data from imported dataframe specifiyng which columns to use\n",
    "user_data = Dataset.load_from_df(df_rev5[['reviewerID', 'asin', 'overall']], reader)\n",
    "\n",
    "# Perform an appropriate split for the recommendation models\n",
    "trainset, testset = train_test_split(user_data, test_size=0.2, random_state=42)"
   ]
  },
  {
   "cell_type": "markdown",
   "metadata": {},
   "source": [
    "## Final Model Evaluation "
   ]
  },
  {
   "cell_type": "code",
   "execution_count": 121,
   "metadata": {
    "ExecuteTime": {
     "end_time": "2022-05-11T10:25:33.273412Z",
     "start_time": "2022-05-11T10:25:33.078274Z"
    }
   },
   "outputs": [
    {
     "data": {
      "text/plain": [
       "[Prediction(uid=263.0, iid=5617, r_ui=4.5, est=4.0701659116538655, details={'was_impossible': False}),\n",
       " Prediction(uid=414.0, iid=5425, r_ui=4.0, est=3.8273069295121105, details={'was_impossible': False}),\n",
       " Prediction(uid=380.0, iid=7293, r_ui=3.0, est=3.3625452150084816, details={'was_impossible': False}),\n",
       " Prediction(uid=76.0, iid=2628, r_ui=2.0, est=2.136888052480864, details={'was_impossible': False}),\n",
       " Prediction(uid=608.0, iid=2541, r_ui=3.0, est=2.7813103727121744, details={'was_impossible': False}),\n",
       " Prediction(uid=79.0, iid=858, r_ui=5.0, est=4.767642781229847, details={'was_impossible': False}),\n",
       " Prediction(uid=290.0, iid=2391, r_ui=4.0, est=4.1953657659279315, details={'was_impossible': False}),\n",
       " Prediction(uid=599.0, iid=6217, r_ui=1.5, est=2.3791611615348884, details={'was_impossible': False}),\n",
       " Prediction(uid=322.0, iid=2302, r_ui=3.5, est=3.146757897676017, details={'was_impossible': False}),\n",
       " Prediction(uid=226.0, iid=3081, r_ui=2.5, est=3.2563972341102048, details={'was_impossible': False}),\n",
       " Prediction(uid=465.0, iid=2987, r_ui=4.0, est=3.9327665802769816, details={'was_impossible': False}),\n",
       " Prediction(uid=318.0, iid=34048, r_ui=3.5, est=3.3585223698816336, details={'was_impossible': False}),\n",
       " Prediction(uid=390.0, iid=2312, r_ui=4.5, est=4.210973174100049, details={'was_impossible': False}),\n",
       " Prediction(uid=59.0, iid=1674, r_ui=5.0, est=4.598182720206306, details={'was_impossible': False}),\n",
       " Prediction(uid=420.0, iid=6104, r_ui=4.0, est=4.3274266161471475, details={'was_impossible': False}),\n",
       " Prediction(uid=464.0, iid=9, r_ui=2.5, est=3.29129910284481, details={'was_impossible': False}),\n",
       " Prediction(uid=167.0, iid=296, r_ui=3.0, est=3.6817441264719535, details={'was_impossible': False}),\n",
       " Prediction(uid=332.0, iid=2021, r_ui=1.5, est=2.823090916329525, details={'was_impossible': False}),\n",
       " Prediction(uid=401.0, iid=239, r_ui=4.5, est=3.051220582410598, details={'was_impossible': False}),\n",
       " Prediction(uid=263.0, iid=6218, r_ui=4.0, est=3.672155199311803, details={'was_impossible': False}),\n",
       " Prediction(uid=232.0, iid=46965, r_ui=2.0, est=2.3032840228128304, details={'was_impossible': False}),\n",
       " Prediction(uid=417.0, iid=68157, r_ui=5.0, est=4.525437083223914, details={'was_impossible': False}),\n",
       " Prediction(uid=414.0, iid=1605, r_ui=3.0, est=3.0172087014224673, details={'was_impossible': False}),\n",
       " Prediction(uid=111.0, iid=85367, r_ui=5.0, est=4.617739402951121, details={'was_impossible': False}),\n",
       " Prediction(uid=602.0, iid=100, r_ui=3.0, est=2.993338390161044, details={'was_impossible': False}),\n",
       " Prediction(uid=62.0, iid=4011, r_ui=4.5, est=4.523102129867473, details={'was_impossible': False}),\n",
       " Prediction(uid=318.0, iid=4306, r_ui=3.5, est=3.8431148699222355, details={'was_impossible': False}),\n",
       " Prediction(uid=221.0, iid=913, r_ui=4.5, est=4.47804063965429, details={'was_impossible': False}),\n",
       " Prediction(uid=95.0, iid=2167, r_ui=3.0, est=3.360387454609529, details={'was_impossible': False}),\n",
       " Prediction(uid=193.0, iid=1198, r_ui=2.0, est=3.013572096588624, details={'was_impossible': False}),\n",
       " Prediction(uid=95.0, iid=2009, r_ui=4.0, est=3.8749637524387794, details={'was_impossible': False}),\n",
       " Prediction(uid=68.0, iid=87430, r_ui=3.5, est=3.1154834218027143, details={'was_impossible': False}),\n",
       " Prediction(uid=13.0, iid=305, r_ui=1.0, est=1.6633726626109928, details={'was_impossible': False}),\n",
       " Prediction(uid=89.0, iid=48649, r_ui=4.5, est=4.324793746935575, details={'was_impossible': False}),\n",
       " Prediction(uid=422.0, iid=2628, r_ui=4.0, est=3.685633411265591, details={'was_impossible': False}),\n",
       " Prediction(uid=249.0, iid=5574, r_ui=3.5, est=3.5050026994928807, details={'was_impossible': False}),\n",
       " Prediction(uid=68.0, iid=2081, r_ui=5.0, est=3.843016708059464, details={'was_impossible': False}),\n",
       " Prediction(uid=305.0, iid=55276, r_ui=5.0, est=4.190646568911306, details={'was_impossible': False}),\n",
       " Prediction(uid=19.0, iid=2143, r_ui=3.0, est=2.822156932783046, details={'was_impossible': False}),\n",
       " Prediction(uid=80.0, iid=6365, r_ui=4.0, est=3.9983390799079013, details={'was_impossible': False}),\n",
       " Prediction(uid=539.0, iid=3608, r_ui=3.0, est=3.1903754671665423, details={'was_impossible': False}),\n",
       " Prediction(uid=290.0, iid=1266, r_ui=4.0, est=4.331380976674536, details={'was_impossible': False}),\n",
       " Prediction(uid=493.0, iid=1197, r_ui=4.0, est=4.246900411284814, details={'was_impossible': False}),\n",
       " Prediction(uid=600.0, iid=2060, r_ui=4.0, est=3.6544785411427596, details={'was_impossible': False}),\n",
       " Prediction(uid=280.0, iid=2572, r_ui=4.0, est=3.864322008825378, details={'was_impossible': False}),\n",
       " Prediction(uid=602.0, iid=364, r_ui=4.0, est=4.05021809083742, details={'was_impossible': False}),\n",
       " Prediction(uid=608.0, iid=924, r_ui=3.0, est=3.3472798582120493, details={'was_impossible': False}),\n",
       " Prediction(uid=39.0, iid=1617, r_ui=2.0, est=3.199824816581805, details={'was_impossible': False}),\n",
       " Prediction(uid=351.0, iid=57669, r_ui=3.5, est=3.9648475228124673, details={'was_impossible': False}),\n",
       " Prediction(uid=298.0, iid=1288, r_ui=4.0, est=3.482801113084151, details={'was_impossible': False}),\n",
       " Prediction(uid=567.0, iid=3266, r_ui=5.0, est=4.537288167145238, details={'was_impossible': False}),\n",
       " Prediction(uid=64.0, iid=1285, r_ui=3.0, est=3.983075616134, details={'was_impossible': False}),\n",
       " Prediction(uid=466.0, iid=78499, r_ui=3.5, est=4.024975329975527, details={'was_impossible': False}),\n",
       " Prediction(uid=105.0, iid=8874, r_ui=3.5, est=3.99835522406033, details={'was_impossible': False}),\n",
       " Prediction(uid=298.0, iid=7153, r_ui=4.0, est=3.390037483629855, details={'was_impossible': False}),\n",
       " Prediction(uid=267.0, iid=2861, r_ui=2.0, est=2.5728694689945413, details={'was_impossible': False}),\n",
       " Prediction(uid=2.0, iid=3578, r_ui=4.0, est=3.9795551838317738, details={'was_impossible': False}),\n",
       " Prediction(uid=177.0, iid=69122, r_ui=4.0, est=3.647095004130846, details={'was_impossible': False}),\n",
       " Prediction(uid=132.0, iid=596, r_ui=2.0, est=2.539894159680233, details={'was_impossible': False}),\n",
       " Prediction(uid=448.0, iid=6564, r_ui=1.5, est=1.8009709936452598, details={'was_impossible': False}),\n",
       " Prediction(uid=567.0, iid=3157, r_ui=2.0, est=1.9866366734306253, details={'was_impossible': False}),\n",
       " Prediction(uid=157.0, iid=2720, r_ui=2.0, est=1.8956585603844691, details={'was_impossible': False}),\n",
       " Prediction(uid=261.0, iid=47, r_ui=4.0, est=4.069440495408871, details={'was_impossible': False}),\n",
       " Prediction(uid=288.0, iid=1603, r_ui=2.0, est=2.3982702706458436, details={'was_impossible': False}),\n",
       " Prediction(uid=489.0, iid=3633, r_ui=1.5, est=2.152048091727149, details={'was_impossible': False}),\n",
       " Prediction(uid=470.0, iid=1073, r_ui=4.0, est=3.839526250470839, details={'was_impossible': False}),\n",
       " Prediction(uid=580.0, iid=260, r_ui=4.0, est=4.026438460331103, details={'was_impossible': False}),\n",
       " Prediction(uid=45.0, iid=3489, r_ui=3.0, est=3.508724846692632, details={'was_impossible': False}),\n",
       " Prediction(uid=377.0, iid=585, r_ui=4.0, est=2.8588221514585195, details={'was_impossible': False}),\n",
       " Prediction(uid=590.0, iid=1947, r_ui=4.0, est=3.566816980248289, details={'was_impossible': False}),\n",
       " Prediction(uid=434.0, iid=8874, r_ui=4.5, est=4.384907541800434, details={'was_impossible': False}),\n",
       " Prediction(uid=68.0, iid=8371, r_ui=2.5, est=2.8639456708906303, details={'was_impossible': False}),\n",
       " Prediction(uid=599.0, iid=26865, r_ui=3.0, est=2.3482524771928506, details={'was_impossible': False}),\n",
       " Prediction(uid=200.0, iid=2858, r_ui=3.5, est=4.1048570244201255, details={'was_impossible': False}),\n",
       " Prediction(uid=274.0, iid=7064, r_ui=3.0, est=2.949007368122381, details={'was_impossible': False}),\n",
       " Prediction(uid=23.0, iid=750, r_ui=3.0, est=3.852139309630656, details={'was_impossible': False}),\n",
       " Prediction(uid=210.0, iid=79091, r_ui=4.0, est=4.1436095016297925, details={'was_impossible': False}),\n",
       " Prediction(uid=182.0, iid=2467, r_ui=4.0, est=3.798186590367805, details={'was_impossible': False}),\n",
       " Prediction(uid=409.0, iid=471, r_ui=3.0, est=3.296659669028486, details={'was_impossible': False}),\n",
       " Prediction(uid=51.0, iid=7004, r_ui=3.0, est=3.1610242935087927, details={'was_impossible': False}),\n",
       " Prediction(uid=288.0, iid=3481, r_ui=3.0, est=3.628753802714559, details={'was_impossible': False}),\n",
       " Prediction(uid=200.0, iid=19, r_ui=3.5, est=3.4194259012781556, details={'was_impossible': False}),\n",
       " Prediction(uid=522.0, iid=56367, r_ui=2.0, est=2.756300497477015, details={'was_impossible': False}),\n",
       " Prediction(uid=555.0, iid=1088, r_ui=4.0, est=3.8108152707987317, details={'was_impossible': False}),\n",
       " Prediction(uid=489.0, iid=10, r_ui=2.5, est=2.9077849580950588, details={'was_impossible': False}),\n",
       " Prediction(uid=610.0, iid=4721, r_ui=1.0, est=1.801604306239295, details={'was_impossible': False}),\n",
       " Prediction(uid=313.0, iid=1199, r_ui=5.0, est=4.478738751934104, details={'was_impossible': False}),\n",
       " Prediction(uid=298.0, iid=78209, r_ui=3.5, est=2.9992261360767833, details={'was_impossible': False}),\n",
       " Prediction(uid=580.0, iid=3081, r_ui=4.0, est=3.8665439937008133, details={'was_impossible': False}),\n",
       " Prediction(uid=57.0, iid=480, r_ui=5.0, est=3.8283885206150092, details={'was_impossible': False}),\n",
       " Prediction(uid=599.0, iid=505, r_ui=1.0, est=1.9106079502746725, details={'was_impossible': False}),\n",
       " Prediction(uid=73.0, iid=134853, r_ui=4.0, est=3.9918516743100216, details={'was_impossible': False}),\n",
       " Prediction(uid=414.0, iid=7324, r_ui=3.0, est=3.2210621457179385, details={'was_impossible': False}),\n",
       " Prediction(uid=78.0, iid=466, r_ui=3.0, est=3.000724809948797, details={'was_impossible': False}),\n",
       " Prediction(uid=410.0, iid=2858, r_ui=3.0, est=3.7593390136250813, details={'was_impossible': False}),\n",
       " Prediction(uid=590.0, iid=2944, r_ui=4.0, est=3.8587630650911184, details={'was_impossible': False}),\n",
       " Prediction(uid=325.0, iid=1863, r_ui=2.0, est=2.2356509952976102, details={'was_impossible': False}),\n",
       " Prediction(uid=564.0, iid=84374, r_ui=3.0, est=3.242297626669812, details={'was_impossible': False}),\n",
       " Prediction(uid=489.0, iid=4018, r_ui=3.0, est=2.6128284247756617, details={'was_impossible': False}),\n",
       " Prediction(uid=100.0, iid=1500, r_ui=4.5, est=4.021910434016304, details={'was_impossible': False}),\n",
       " Prediction(uid=210.0, iid=3147, r_ui=4.0, est=4.303834105728073, details={'was_impossible': False}),\n",
       " Prediction(uid=249.0, iid=95167, r_ui=4.0, est=3.748377842523087, details={'was_impossible': False}),\n",
       " Prediction(uid=469.0, iid=3208, r_ui=1.0, est=2.5711086401167913, details={'was_impossible': False}),\n",
       " Prediction(uid=441.0, iid=91529, r_ui=5.0, est=4.849259537302203, details={'was_impossible': False}),\n",
       " Prediction(uid=70.0, iid=3468, r_ui=5.0, est=4.776738918616392, details={'was_impossible': False}),\n",
       " Prediction(uid=31.0, iid=736, r_ui=4.0, est=3.3632258626180813, details={'was_impossible': False}),\n",
       " Prediction(uid=208.0, iid=733, r_ui=3.0, est=3.1619516249816804, details={'was_impossible': False}),\n",
       " Prediction(uid=286.0, iid=7361, r_ui=5.0, est=4.563621911383762, details={'was_impossible': False}),\n",
       " Prediction(uid=111.0, iid=74458, r_ui=3.5, est=3.572780146895564, details={'was_impossible': False}),\n",
       " Prediction(uid=111.0, iid=7225, r_ui=4.0, est=3.895952078241655, details={'was_impossible': False}),\n",
       " Prediction(uid=380.0, iid=103249, r_ui=3.0, est=3.221195209296252, details={'was_impossible': False}),\n",
       " Prediction(uid=71.0, iid=1036, r_ui=4.0, est=3.975728488165843, details={'was_impossible': False}),\n",
       " Prediction(uid=489.0, iid=588, r_ui=3.5, est=3.5673156975100566, details={'was_impossible': False}),\n",
       " Prediction(uid=312.0, iid=5881, r_ui=4.0, est=3.6334774954562685, details={'was_impossible': False}),\n",
       " Prediction(uid=298.0, iid=34523, r_ui=2.0, est=2.0817677434586153, details={'was_impossible': False}),\n",
       " Prediction(uid=119.0, iid=59784, r_ui=4.0, est=3.9831486202204194, details={'was_impossible': False}),\n",
       " Prediction(uid=474.0, iid=1096, r_ui=2.5, est=3.4388503083851387, details={'was_impossible': False}),\n",
       " Prediction(uid=448.0, iid=3130, r_ui=2.0, est=2.2008285203171214, details={'was_impossible': False}),\n",
       " Prediction(uid=204.0, iid=81591, r_ui=4.5, est=4.126387362482904, details={'was_impossible': False}),\n",
       " Prediction(uid=86.0, iid=4306, r_ui=4.0, est=4.135766990540345, details={'was_impossible': False}),\n",
       " Prediction(uid=274.0, iid=1682, r_ui=4.5, est=3.6725231553173323, details={'was_impossible': False}),\n",
       " Prediction(uid=560.0, iid=48385, r_ui=4.0, est=3.497655556800755, details={'was_impossible': False}),\n",
       " Prediction(uid=96.0, iid=1721, r_ui=2.0, est=2.9162376989969685, details={'was_impossible': False}),\n",
       " Prediction(uid=387.0, iid=1089, r_ui=4.5, est=4.079964431286191, details={'was_impossible': False}),\n",
       " Prediction(uid=266.0, iid=2797, r_ui=4.0, est=3.565917568047573, details={'was_impossible': False}),\n",
       " Prediction(uid=414.0, iid=52245, r_ui=2.5, est=2.694804853555367, details={'was_impossible': False}),\n",
       " Prediction(uid=234.0, iid=2761, r_ui=5.0, est=4.703123146772869, details={'was_impossible': False}),\n",
       " Prediction(uid=600.0, iid=3247, r_ui=2.0, est=2.4228488487928166, details={'was_impossible': False}),\n",
       " Prediction(uid=221.0, iid=8873, r_ui=4.5, est=4.175134460511042, details={'was_impossible': False}),\n",
       " Prediction(uid=474.0, iid=1093, r_ui=3.0, est=3.523721003784714, details={'was_impossible': False}),\n",
       " Prediction(uid=237.0, iid=44195, r_ui=4.0, est=3.813998944872656, details={'was_impossible': False}),\n",
       " Prediction(uid=58.0, iid=21, r_ui=4.0, est=4.034491246336037, details={'was_impossible': False}),\n",
       " Prediction(uid=599.0, iid=8910, r_ui=2.5, est=2.843739248931725, details={'was_impossible': False}),\n",
       " Prediction(uid=115.0, iid=1200, r_ui=5.0, est=4.713298180220766, details={'was_impossible': False}),\n",
       " Prediction(uid=274.0, iid=6755, r_ui=3.5, est=3.3851125719615225, details={'was_impossible': False}),\n",
       " Prediction(uid=62.0, iid=187595, r_ui=4.0, est=4.17377948341226, details={'was_impossible': False}),\n",
       " Prediction(uid=18.0, iid=780, r_ui=4.0, est=3.421514048662025, details={'was_impossible': False}),\n",
       " Prediction(uid=475.0, iid=4306, r_ui=4.5, est=4.496081115895869, details={'was_impossible': False}),\n",
       " Prediction(uid=561.0, iid=49530, r_ui=3.0, est=3.3988924486951992, details={'was_impossible': False}),\n",
       " Prediction(uid=599.0, iid=122886, r_ui=3.5, est=3.1625069003881636, details={'was_impossible': False}),\n",
       " Prediction(uid=465.0, iid=3505, r_ui=4.0, est=4.320642721534746, details={'was_impossible': False}),\n",
       " Prediction(uid=68.0, iid=3981, r_ui=2.5, est=2.5537041345622336, details={'was_impossible': False}),\n",
       " Prediction(uid=534.0, iid=1801, r_ui=4.5, est=3.9407404578359757, details={'was_impossible': False}),\n",
       " Prediction(uid=474.0, iid=6377, r_ui=4.0, est=3.8984202878538015, details={'was_impossible': False}),\n",
       " Prediction(uid=274.0, iid=1544, r_ui=1.5, est=2.4867673148150713, details={'was_impossible': False}),\n",
       " Prediction(uid=232.0, iid=42011, r_ui=3.0, est=2.7154146311083127, details={'was_impossible': False}),\n",
       " Prediction(uid=602.0, iid=14, r_ui=5.0, est=3.6116083903698497, details={'was_impossible': False}),\n",
       " Prediction(uid=54.0, iid=1, r_ui=3.0, est=3.252105025295952, details={'was_impossible': False}),\n",
       " Prediction(uid=211.0, iid=3988, r_ui=3.5, est=3.390371666473808, details={'was_impossible': False}),\n",
       " Prediction(uid=599.0, iid=3669, r_ui=2.5, est=2.67412820792779, details={'was_impossible': False}),\n",
       " Prediction(uid=411.0, iid=52, r_ui=2.0, est=2.6826789675908054, details={'was_impossible': False}),\n",
       " Prediction(uid=483.0, iid=1381, r_ui=0.5, est=2.6897689474703186, details={'was_impossible': False}),\n",
       " Prediction(uid=45.0, iid=3176, r_ui=4.0, est=3.9028430540012664, details={'was_impossible': False}),\n",
       " Prediction(uid=311.0, iid=2706, r_ui=0.5, est=1.7618312621366674, details={'was_impossible': False}),\n",
       " Prediction(uid=445.0, iid=4995, r_ui=4.0, est=3.886378945693773, details={'was_impossible': False}),\n",
       " Prediction(uid=89.0, iid=94661, r_ui=4.0, est=3.8336903708356718, details={'was_impossible': False}),\n",
       " Prediction(uid=57.0, iid=969, r_ui=4.0, est=4.040726652484252, details={'was_impossible': False}),\n",
       " Prediction(uid=485.0, iid=292, r_ui=5.0, est=4.465928813581106, details={'was_impossible': False}),\n",
       " Prediction(uid=204.0, iid=83601, r_ui=0.5, est=1.1044970675987968, details={'was_impossible': False}),\n",
       " Prediction(uid=414.0, iid=4903, r_ui=4.0, est=3.4539385277895787, details={'was_impossible': False}),\n",
       " Prediction(uid=593.0, iid=3753, r_ui=2.0, est=2.4812758197706493, details={'was_impossible': False}),\n",
       " Prediction(uid=556.0, iid=54001, r_ui=4.0, est=4.259022519962363, details={'was_impossible': False}),\n",
       " Prediction(uid=198.0, iid=2791, r_ui=3.0, est=3.2914898223789146, details={'was_impossible': False}),\n",
       " Prediction(uid=471.0, iid=158966, r_ui=4.5, est=4.010451958221547, details={'was_impossible': False}),\n",
       " Prediction(uid=610.0, iid=8784, r_ui=3.5, est=3.756178161180455, details={'was_impossible': False}),\n",
       " Prediction(uid=125.0, iid=133217, r_ui=3.5, est=3.5782355958746237, details={'was_impossible': False}),\n",
       " Prediction(uid=414.0, iid=6709, r_ui=4.0, est=3.573806572402314, details={'was_impossible': False}),\n",
       " Prediction(uid=462.0, iid=1200, r_ui=2.0, est=2.961387529406161, details={'was_impossible': False}),\n",
       " Prediction(uid=221.0, iid=3498, r_ui=4.0, est=4.115030800694393, details={'was_impossible': False}),\n",
       " Prediction(uid=258.0, iid=4995, r_ui=5.0, est=4.210834128223169, details={'was_impossible': False}),\n",
       " Prediction(uid=509.0, iid=1665, r_ui=3.5, est=2.9987731372675714, details={'was_impossible': False}),\n",
       " Prediction(uid=368.0, iid=1957, r_ui=4.0, est=3.720694917962034, details={'was_impossible': False}),\n",
       " Prediction(uid=275.0, iid=3983, r_ui=5.0, est=4.706007195130928, details={'was_impossible': False}),\n",
       " Prediction(uid=166.0, iid=17, r_ui=4.0, est=3.9988285499528877, details={'was_impossible': False}),\n",
       " Prediction(uid=378.0, iid=364, r_ui=4.5, est=4.180982665298135, details={'was_impossible': False}),\n",
       " Prediction(uid=182.0, iid=6870, r_ui=3.5, est=3.7583652408917323, details={'was_impossible': False}),\n",
       " Prediction(uid=462.0, iid=2527, r_ui=4.0, est=3.5402584066406613, details={'was_impossible': False}),\n",
       " Prediction(uid=280.0, iid=52973, r_ui=5.0, est=4.3038605414361495, details={'was_impossible': False}),\n",
       " Prediction(uid=448.0, iid=3755, r_ui=3.0, est=2.7691303953378292, details={'was_impossible': False}),\n",
       " Prediction(uid=113.0, iid=1380, r_ui=3.0, est=3.169046592918983, details={'was_impossible': False}),\n",
       " Prediction(uid=573.0, iid=69436, r_ui=3.0, est=3.080712104855061, details={'was_impossible': False}),\n",
       " Prediction(uid=469.0, iid=1078, r_ui=4.0, est=3.6385442555923007, details={'was_impossible': False}),\n",
       " Prediction(uid=448.0, iid=102025, r_ui=0.5, est=1.2635948918758515, details={'was_impossible': False}),\n",
       " Prediction(uid=50.0, iid=149406, r_ui=2.0, est=2.4688562576345676, details={'was_impossible': False}),\n",
       " Prediction(uid=414.0, iid=2707, r_ui=3.0, est=3.0855782144652104, details={'was_impossible': False}),\n",
       " Prediction(uid=608.0, iid=2140, r_ui=3.0, est=3.0551895694410294, details={'was_impossible': False}),\n",
       " Prediction(uid=274.0, iid=58295, r_ui=3.5, est=3.2270812804873774, details={'was_impossible': False}),\n",
       " Prediction(uid=297.0, iid=736, r_ui=1.0, est=1.581101160092355, details={'was_impossible': False}),\n",
       " Prediction(uid=380.0, iid=104241, r_ui=4.0, est=3.697671692332941, details={'was_impossible': False}),\n",
       " Prediction(uid=40.0, iid=48, r_ui=2.0, est=2.5540305924675666, details={'was_impossible': False}),\n",
       " Prediction(uid=298.0, iid=8961, r_ui=2.0, est=2.8200082120903196, details={'was_impossible': False}),\n",
       " Prediction(uid=483.0, iid=3752, r_ui=3.5, est=3.4961761461774867, details={'was_impossible': False}),\n",
       " Prediction(uid=275.0, iid=2054, r_ui=2.0, est=2.658662990102844, details={'was_impossible': False}),\n",
       " Prediction(uid=292.0, iid=2167, r_ui=3.0, est=3.088538928538391, details={'was_impossible': False}),\n",
       " Prediction(uid=560.0, iid=92694, r_ui=4.0, est=3.974015044264331, details={'was_impossible': False}),\n",
       " Prediction(uid=2.0, iid=106782, r_ui=5.0, est=4.161593310803122, details={'was_impossible': False}),\n",
       " Prediction(uid=45.0, iid=1569, r_ui=4.0, est=3.7433611441792145, details={'was_impossible': False}),\n",
       " Prediction(uid=480.0, iid=3785, r_ui=0.5, est=1.8952596288098214, details={'was_impossible': False}),\n",
       " Prediction(uid=287.0, iid=5992, r_ui=5.0, est=4.532230810255674, details={'was_impossible': False}),\n",
       " Prediction(uid=599.0, iid=1876, r_ui=2.0, est=2.2781923191138795, details={'was_impossible': False}),\n",
       " Prediction(uid=400.0, iid=541, r_ui=4.5, est=4.656759342607277, details={'was_impossible': False}),\n",
       " Prediction(uid=122.0, iid=2804, r_ui=5.0, est=4.688768167067604, details={'was_impossible': False}),\n",
       " Prediction(uid=286.0, iid=508, r_ui=4.5, est=4.206172944669786, details={'was_impossible': False}),\n",
       " Prediction(uid=380.0, iid=84944, r_ui=5.0, est=4.421560254677675, details={'was_impossible': False}),\n",
       " Prediction(uid=354.0, iid=3578, r_ui=3.5, est=3.9400875498450407, details={'was_impossible': False}),\n",
       " Prediction(uid=448.0, iid=106782, r_ui=4.5, est=3.8369765085189744, details={'was_impossible': False}),\n",
       " Prediction(uid=64.0, iid=6874, r_ui=4.0, est=4.251121665986048, details={'was_impossible': False}),\n",
       " Prediction(uid=27.0, iid=648, r_ui=4.0, est=3.463243475617772, details={'was_impossible': False}),\n",
       " Prediction(uid=266.0, iid=2947, r_ui=5.0, est=4.261722234785548, details={'was_impossible': False}),\n",
       " Prediction(uid=382.0, iid=2273, r_ui=3.5, est=3.5711704958332873, details={'was_impossible': False}),\n",
       " Prediction(uid=474.0, iid=5670, r_ui=3.0, est=3.2992575289744965, details={'was_impossible': False}),\n",
       " Prediction(uid=607.0, iid=608, r_ui=2.0, est=3.3045427393514526, details={'was_impossible': False}),\n",
       " Prediction(uid=135.0, iid=2959, r_ui=5.0, est=4.514832803082123, details={'was_impossible': False}),\n",
       " Prediction(uid=414.0, iid=1291, r_ui=4.0, est=4.071057988481122, details={'was_impossible': False}),\n",
       " Prediction(uid=565.0, iid=318, r_ui=4.0, est=4.3679939980022775, details={'was_impossible': False}),\n",
       " Prediction(uid=223.0, iid=1342, r_ui=1.0, est=2.8414644727575156, details={'was_impossible': False}),\n",
       " Prediction(uid=232.0, iid=4991, r_ui=3.0, est=3.193132077747323, details={'was_impossible': False}),\n",
       " Prediction(uid=28.0, iid=2944, r_ui=3.5, est=3.3874422094153247, details={'was_impossible': False}),\n",
       " Prediction(uid=288.0, iid=35836, r_ui=4.5, est=3.6219109078266394, details={'was_impossible': False}),\n",
       " Prediction(uid=95.0, iid=5246, r_ui=4.0, est=3.9010965562604683, details={'was_impossible': False}),\n",
       " Prediction(uid=547.0, iid=1288, r_ui=5.0, est=4.738650262678999, details={'was_impossible': False}),\n",
       " Prediction(uid=141.0, iid=1918, r_ui=3.0, est=2.9345442973784164, details={'was_impossible': False}),\n",
       " Prediction(uid=68.0, iid=5553, r_ui=3.0, est=3.066442989338808, details={'was_impossible': False}),\n",
       " Prediction(uid=607.0, iid=1994, r_ui=4.0, est=3.9369245408177087, details={'was_impossible': False}),\n",
       " Prediction(uid=234.0, iid=485, r_ui=4.0, est=3.0790916398281136, details={'was_impossible': False}),\n",
       " Prediction(uid=72.0, iid=296, r_ui=4.5, est=4.527108158249777, details={'was_impossible': False}),\n",
       " Prediction(uid=562.0, iid=5989, r_ui=4.0, est=4.095212989541332, details={'was_impossible': False}),\n",
       " Prediction(uid=330.0, iid=71535, r_ui=5.0, est=4.4117109154384675, details={'was_impossible': False}),\n",
       " Prediction(uid=387.0, iid=500, r_ui=2.5, est=2.808628878395522, details={'was_impossible': False}),\n",
       " Prediction(uid=590.0, iid=40819, r_ui=3.5, est=3.7014686864041924, details={'was_impossible': False}),\n",
       " Prediction(uid=421.0, iid=912, r_ui=4.0, est=4.207353045598701, details={'was_impossible': False}),\n",
       " Prediction(uid=309.0, iid=6947, r_ui=4.0, est=3.882225043571097, details={'was_impossible': False}),\n",
       " Prediction(uid=141.0, iid=3114, r_ui=4.5, est=3.7386067767434623, details={'was_impossible': False}),\n",
       " Prediction(uid=182.0, iid=2146, r_ui=3.5, est=3.4736428387328107, details={'was_impossible': False}),\n",
       " Prediction(uid=129.0, iid=5445, r_ui=4.0, est=3.8349497612181076, details={'was_impossible': False}),\n",
       " Prediction(uid=603.0, iid=2504, r_ui=3.0, est=2.854453167993322, details={'was_impossible': False}),\n",
       " Prediction(uid=234.0, iid=594, r_ui=5.0, est=4.318929420839139, details={'was_impossible': False}),\n",
       " Prediction(uid=597.0, iid=2405, r_ui=4.0, est=3.684981942982352, details={'was_impossible': False}),\n",
       " Prediction(uid=438.0, iid=1267, r_ui=5.0, est=4.211396400460027, details={'was_impossible': False}),\n",
       " Prediction(uid=426.0, iid=88810, r_ui=4.0, est=4.154391200623887, details={'was_impossible': False}),\n",
       " Prediction(uid=100.0, iid=4161, r_ui=4.5, est=4.104939843793502, details={'was_impossible': False}),\n",
       " Prediction(uid=52.0, iid=93838, r_ui=3.5, est=4.90890541430485, details={'was_impossible': False}),\n",
       " Prediction(uid=309.0, iid=4886, r_ui=4.0, est=3.908165542868568, details={'was_impossible': False}),\n",
       " Prediction(uid=39.0, iid=1907, r_ui=2.0, est=2.9513754814905773, details={'was_impossible': False}),\n",
       " Prediction(uid=181.0, iid=349, r_ui=4.0, est=3.6501924274308744, details={'was_impossible': False}),\n",
       " Prediction(uid=67.0, iid=318, r_ui=4.5, est=4.491770282030142, details={'was_impossible': False}),\n",
       " Prediction(uid=387.0, iid=3018, r_ui=2.5, est=2.9820186069918324, details={'was_impossible': False}),\n",
       " Prediction(uid=325.0, iid=5033, r_ui=3.0, est=2.8721594035039306, details={'was_impossible': False}),\n",
       " Prediction(uid=533.0, iid=83134, r_ui=5.0, est=4.277033304165053, details={'was_impossible': False}),\n",
       " Prediction(uid=111.0, iid=108156, r_ui=3.5, est=3.4787253363420128, details={'was_impossible': False}),\n",
       " Prediction(uid=40.0, iid=595, r_ui=3.0, est=3.5839224193796633, details={'was_impossible': False}),\n",
       " Prediction(uid=177.0, iid=5957, r_ui=4.0, est=3.5032510174102574, details={'was_impossible': False}),\n",
       " Prediction(uid=63.0, iid=6502, r_ui=4.0, est=3.887118225083421, details={'was_impossible': False}),\n",
       " Prediction(uid=292.0, iid=5400, r_ui=4.0, est=3.648902186580375, details={'was_impossible': False}),\n",
       " Prediction(uid=596.0, iid=37729, r_ui=4.0, est=3.580596953744858, details={'was_impossible': False}),\n",
       " Prediction(uid=564.0, iid=69757, r_ui=4.0, est=3.801642852276901, details={'was_impossible': False}),\n",
       " Prediction(uid=307.0, iid=66097, r_ui=4.5, est=3.8694272603003252, details={'was_impossible': False}),\n",
       " Prediction(uid=523.0, iid=1704, r_ui=5.0, est=4.878878024929789, details={'was_impossible': False}),\n",
       " Prediction(uid=122.0, iid=592, r_ui=4.5, est=4.096106939717702, details={'was_impossible': False}),\n",
       " Prediction(uid=474.0, iid=1266, r_ui=4.0, est=4.0070781978833185, details={'was_impossible': False}),\n",
       " Prediction(uid=331.0, iid=6157, r_ui=1.0, est=1.9658223927945926, details={'was_impossible': False}),\n",
       " Prediction(uid=50.0, iid=91094, r_ui=1.5, est=2.0344261915609057, details={'was_impossible': False}),\n",
       " Prediction(uid=151.0, iid=1, r_ui=5.0, est=4.2950320427536575, details={'was_impossible': False}),\n",
       " Prediction(uid=411.0, iid=551, r_ui=4.0, est=3.78059185091671, details={'was_impossible': False}),\n",
       " Prediction(uid=18.0, iid=5952, r_ui=3.5, est=4.0717034753930355, details={'was_impossible': False}),\n",
       " Prediction(uid=239.0, iid=6942, r_ui=3.5, est=3.700369357272394, details={'was_impossible': False}),\n",
       " Prediction(uid=414.0, iid=5954, r_ui=4.0, est=3.8875158417061972, details={'was_impossible': False}),\n",
       " Prediction(uid=21.0, iid=33493, r_ui=4.5, est=3.8933936456065856, details={'was_impossible': False}),\n",
       " Prediction(uid=291.0, iid=8368, r_ui=5.0, est=4.907217719994051, details={'was_impossible': False}),\n",
       " Prediction(uid=225.0, iid=2371, r_ui=4.0, est=3.9198363325934125, details={'was_impossible': False}),\n",
       " Prediction(uid=525.0, iid=5481, r_ui=2.5, est=2.7796022702619485, details={'was_impossible': False}),\n",
       " Prediction(uid=428.0, iid=2335, r_ui=2.0, est=2.282333583442115, details={'was_impossible': False}),\n",
       " Prediction(uid=45.0, iid=1242, r_ui=5.0, est=4.515034014580638, details={'was_impossible': False}),\n",
       " Prediction(uid=274.0, iid=8961, r_ui=3.5, est=3.634133915322461, details={'was_impossible': False}),\n",
       " Prediction(uid=339.0, iid=480, r_ui=4.0, est=3.7778769021409166, details={'was_impossible': False}),\n",
       " Prediction(uid=520.0, iid=329, r_ui=3.5, est=3.5750298351662004, details={'was_impossible': False}),\n",
       " Prediction(uid=371.0, iid=1258, r_ui=5.0, est=4.845903733056182, details={'was_impossible': False}),\n",
       " Prediction(uid=436.0, iid=440, r_ui=4.0, est=3.5075284606922645, details={'was_impossible': False}),\n",
       " Prediction(uid=119.0, iid=136666, r_ui=3.5, est=3.427930525647823, details={'was_impossible': False}),\n",
       " Prediction(uid=525.0, iid=1639, r_ui=3.5, est=3.3571794961901227, details={'was_impossible': False}),\n",
       " Prediction(uid=561.0, iid=59784, r_ui=3.5, est=3.434927505835888, details={'was_impossible': False}),\n",
       " Prediction(uid=217.0, iid=351, r_ui=2.0, est=2.440776733721021, details={'was_impossible': False}),\n",
       " Prediction(uid=307.0, iid=45447, r_ui=2.0, est=2.340232526910637, details={'was_impossible': False}),\n",
       " Prediction(uid=357.0, iid=6612, r_ui=4.0, est=3.960601527277259, details={'was_impossible': False}),\n",
       " Prediction(uid=489.0, iid=5541, r_ui=2.5, est=3.094768806096244, details={'was_impossible': False}),\n",
       " Prediction(uid=362.0, iid=2288, r_ui=5.0, est=4.535842096566382, details={'was_impossible': False}),\n",
       " Prediction(uid=474.0, iid=4462, r_ui=2.0, est=2.132229508651557, details={'was_impossible': False}),\n",
       " Prediction(uid=100.0, iid=932, r_ui=4.0, est=3.765644676415858, details={'was_impossible': False}),\n",
       " Prediction(uid=274.0, iid=3552, r_ui=4.0, est=3.543945040540786, details={'was_impossible': False}),\n",
       " Prediction(uid=560.0, iid=589, r_ui=3.0, est=3.661553238149975, details={'was_impossible': False}),\n",
       " Prediction(uid=45.0, iid=2959, r_ui=5.0, est=4.407456619893807, details={'was_impossible': False}),\n",
       " Prediction(uid=28.0, iid=3535, r_ui=4.0, est=3.357842209410347, details={'was_impossible': False}),\n",
       " Prediction(uid=534.0, iid=4993, r_ui=4.0, est=4.214658029690112, details={'was_impossible': False}),\n",
       " Prediction(uid=153.0, iid=117176, r_ui=2.5, est=2.5329416139105008, details={'was_impossible': False}),\n",
       " Prediction(uid=200.0, iid=7149, r_ui=3.0, est=3.3832952189843386, details={'was_impossible': False}),\n",
       " Prediction(uid=483.0, iid=637, r_ui=3.5, est=3.1622609260963133, details={'was_impossible': False}),\n",
       " Prediction(uid=308.0, iid=292, r_ui=1.0, est=1.6206591428572037, details={'was_impossible': False}),\n",
       " Prediction(uid=274.0, iid=46965, r_ui=3.0, est=2.5416460907361103, details={'was_impossible': False}),\n",
       " Prediction(uid=85.0, iid=1624, r_ui=1.0, est=3.1538252388571606, details={'was_impossible': False}),\n",
       " Prediction(uid=132.0, iid=1196, r_ui=2.0, est=3.1456155020770895, details={'was_impossible': False}),\n",
       " Prediction(uid=602.0, iid=160, r_ui=3.0, est=3.111371952588981, details={'was_impossible': False}),\n",
       " Prediction(uid=398.0, iid=5971, r_ui=5.0, est=4.664765962779743, details={'was_impossible': False}),\n",
       " Prediction(uid=139.0, iid=60040, r_ui=1.5, est=1.8954886217053066, details={'was_impossible': False}),\n",
       " Prediction(uid=610.0, iid=63826, r_ui=4.0, est=3.82373003315959, details={'was_impossible': False}),\n",
       " Prediction(uid=217.0, iid=2944, r_ui=4.0, est=3.5735977177681013, details={'was_impossible': False}),\n",
       " Prediction(uid=42.0, iid=2146, r_ui=4.0, est=3.262569940049646, details={'was_impossible': False}),\n",
       " Prediction(uid=448.0, iid=1396, r_ui=4.0, est=3.423940845028711, details={'was_impossible': False}),\n",
       " Prediction(uid=606.0, iid=46965, r_ui=1.0, est=2.1150120958402847, details={'was_impossible': False}),\n",
       " Prediction(uid=100.0, iid=1101, r_ui=5.0, est=4.345038180088238, details={'was_impossible': False}),\n",
       " Prediction(uid=288.0, iid=5543, r_ui=2.0, est=2.3570885667712775, details={'was_impossible': False}),\n",
       " Prediction(uid=125.0, iid=1215, r_ui=4.0, est=4.09308013647123, details={'was_impossible': False}),\n",
       " Prediction(uid=292.0, iid=113378, r_ui=3.0, est=2.9447216726089245, details={'was_impossible': False}),\n",
       " Prediction(uid=380.0, iid=4990, r_ui=3.0, est=3.189609153618452, details={'was_impossible': False}),\n",
       " Prediction(uid=387.0, iid=45499, r_ui=2.0, est=2.9725403376980997, details={'was_impossible': False}),\n",
       " Prediction(uid=202.0, iid=1387, r_ui=4.0, est=4.142003469452851, details={'was_impossible': False}),\n",
       " Prediction(uid=597.0, iid=1292, r_ui=5.0, est=4.621251873454232, details={'was_impossible': False}),\n",
       " Prediction(uid=75.0, iid=1320, r_ui=3.0, est=2.8969898370524167, details={'was_impossible': False}),\n",
       " Prediction(uid=20.0, iid=3549, r_ui=5.0, est=4.786408594644641, details={'was_impossible': False}),\n",
       " Prediction(uid=91.0, iid=1337, r_ui=4.5, est=4.327888002696297, details={'was_impossible': False}),\n",
       " Prediction(uid=216.0, iid=3210, r_ui=4.0, est=3.720814100249022, details={'was_impossible': False}),\n",
       " Prediction(uid=62.0, iid=122892, r_ui=4.0, est=4.05846465295133, details={'was_impossible': False}),\n",
       " Prediction(uid=104.0, iid=91500, r_ui=4.0, est=3.62931965715521, details={'was_impossible': False}),\n",
       " Prediction(uid=560.0, iid=51662, r_ui=3.5, est=3.7594583660618577, details={'was_impossible': False}),\n",
       " Prediction(uid=139.0, iid=8985, r_ui=0.5, est=1.1866240886798218, details={'was_impossible': False}),\n",
       " Prediction(uid=561.0, iid=1089, r_ui=3.5, est=3.897282941963141, details={'was_impossible': False}),\n",
       " Prediction(uid=122.0, iid=95088, r_ui=4.0, est=4.390554291131272, details={'was_impossible': False}),\n",
       " Prediction(uid=132.0, iid=3275, r_ui=3.5, est=3.706594896701816, details={'was_impossible': False}),\n",
       " Prediction(uid=63.0, iid=1278, r_ui=3.0, est=3.7011625203532805, details={'was_impossible': False}),\n",
       " Prediction(uid=462.0, iid=8917, r_ui=4.5, est=3.7538718162062774, details={'was_impossible': False}),\n",
       " Prediction(uid=339.0, iid=105844, r_ui=4.0, est=3.9743128713388094, details={'was_impossible': False}),\n",
       " Prediction(uid=370.0, iid=5378, r_ui=1.0, est=2.859639512292425, details={'was_impossible': False}),\n",
       " Prediction(uid=313.0, iid=1625, r_ui=5.0, est=4.274824726790125, details={'was_impossible': False}),\n",
       " Prediction(uid=135.0, iid=1196, r_ui=4.0, est=4.288324358578029, details={'was_impossible': False}),\n",
       " Prediction(uid=233.0, iid=122912, r_ui=2.0, est=3.054569101625707, details={'was_impossible': False}),\n",
       " Prediction(uid=448.0, iid=3401, r_ui=2.0, est=2.16806561133985, details={'was_impossible': False}),\n",
       " Prediction(uid=567.0, iid=50, r_ui=1.0, est=2.602927011308986, details={'was_impossible': False}),\n",
       " Prediction(uid=177.0, iid=1032, r_ui=3.5, est=3.0694082361614208, details={'was_impossible': False}),\n",
       " Prediction(uid=171.0, iid=471, r_ui=3.0, est=3.840052936815364, details={'was_impossible': False}),\n",
       " Prediction(uid=200.0, iid=46970, r_ui=3.5, est=3.711604723712174, details={'was_impossible': False}),\n",
       " Prediction(uid=610.0, iid=6541, r_ui=1.5, est=2.49300049803784, details={'was_impossible': False}),\n",
       " Prediction(uid=600.0, iid=332, r_ui=3.5, est=2.325185798284276, details={'was_impossible': False}),\n",
       " Prediction(uid=517.0, iid=91653, r_ui=3.0, est=2.9787731168127873, details={'was_impossible': False}),\n",
       " Prediction(uid=183.0, iid=1527, r_ui=2.0, est=2.9745020121855568, details={'was_impossible': False}),\n",
       " Prediction(uid=47.0, iid=62, r_ui=3.0, est=3.278526964640217, details={'was_impossible': False}),\n",
       " Prediction(uid=550.0, iid=79132, r_ui=5.0, est=4.590439728161592, details={'was_impossible': False}),\n",
       " Prediction(uid=91.0, iid=5378, r_ui=4.0, est=3.157304353932056, details={'was_impossible': False}),\n",
       " Prediction(uid=347.0, iid=1, r_ui=5.0, est=4.210645567568234, details={'was_impossible': False}),\n",
       " Prediction(uid=405.0, iid=2329, r_ui=3.5, est=4.222228944396494, details={'was_impossible': False}),\n",
       " Prediction(uid=220.0, iid=1517, r_ui=3.5, est=3.8835682423308695, details={'was_impossible': False}),\n",
       " Prediction(uid=318.0, iid=106918, r_ui=4.0, est=4.102431941909801, details={'was_impossible': False}),\n",
       " Prediction(uid=448.0, iid=5445, r_ui=4.0, est=3.293688515617758, details={'was_impossible': False}),\n",
       " Prediction(uid=288.0, iid=2369, r_ui=3.0, est=2.8755712803723994, details={'was_impossible': False}),\n",
       " Prediction(uid=34.0, iid=1682, r_ui=2.5, est=3.3741965068571638, details={'was_impossible': False}),\n",
       " Prediction(uid=520.0, iid=2716, r_ui=4.0, est=3.9284339400566526, details={'was_impossible': False}),\n",
       " Prediction(uid=610.0, iid=6936, r_ui=3.5, est=3.70105441649263, details={'was_impossible': False}),\n",
       " Prediction(uid=209.0, iid=96079, r_ui=4.0, est=4.033365919369255, details={'was_impossible': False}),\n",
       " Prediction(uid=140.0, iid=4019, r_ui=3.0, est=3.4957110903649364, details={'was_impossible': False}),\n",
       " Prediction(uid=599.0, iid=3882, r_ui=2.0, est=2.032095482097459, details={'was_impossible': False}),\n",
       " Prediction(uid=168.0, iid=2019, r_ui=4.5, est=4.778968500522283, details={'was_impossible': False}),\n",
       " Prediction(uid=608.0, iid=153, r_ui=2.5, est=2.7698702827424015, details={'was_impossible': False}),\n",
       " Prediction(uid=305.0, iid=67197, r_ui=2.5, est=2.912643950194433, details={'was_impossible': False}),\n",
       " Prediction(uid=563.0, iid=139747, r_ui=3.5, est=3.4639396853028073, details={'was_impossible': False}),\n",
       " Prediction(uid=410.0, iid=549, r_ui=5.0, est=4.703316063140279, details={'was_impossible': False}),\n",
       " Prediction(uid=254.0, iid=1270, r_ui=3.5, est=3.905325584720942, details={'was_impossible': False}),\n",
       " Prediction(uid=288.0, iid=60514, r_ui=2.5, est=2.666805689777197, details={'was_impossible': False}),\n",
       " Prediction(uid=331.0, iid=116797, r_ui=4.0, est=3.8132667463725545, details={'was_impossible': False}),\n",
       " Prediction(uid=217.0, iid=2949, r_ui=3.0, est=3.2211840313614797, details={'was_impossible': False}),\n",
       " Prediction(uid=469.0, iid=1500, r_ui=4.0, est=3.7616990243962567, details={'was_impossible': False}),\n",
       " Prediction(uid=63.0, iid=69481, r_ui=4.0, est=4.00299329866949, details={'was_impossible': False}),\n",
       " Prediction(uid=546.0, iid=293, r_ui=3.0, est=3.298561514198333, details={'was_impossible': False}),\n",
       " Prediction(uid=483.0, iid=110, r_ui=4.0, est=3.962015164078193, details={'was_impossible': False}),\n",
       " Prediction(uid=140.0, iid=2070, r_ui=4.0, est=3.6635907026904584, details={'was_impossible': False}),\n",
       " Prediction(uid=6.0, iid=327, r_ui=1.0, est=2.0556377739992624, details={'was_impossible': False}),\n",
       " Prediction(uid=448.0, iid=3168, r_ui=4.0, est=3.6929626507685533, details={'was_impossible': False}),\n",
       " Prediction(uid=68.0, iid=2806, r_ui=3.5, est=3.119729875866567, details={'was_impossible': False}),\n",
       " Prediction(uid=483.0, iid=87867, r_ui=3.0, est=3.06267873604902, details={'was_impossible': False}),\n",
       " Prediction(uid=325.0, iid=80, r_ui=4.0, est=3.863786259146115, details={'was_impossible': False}),\n",
       " Prediction(uid=290.0, iid=3201, r_ui=5.0, est=4.7334235702138665, details={'was_impossible': False}),\n",
       " Prediction(uid=420.0, iid=5669, r_ui=4.0, est=3.9060789919630015, details={'was_impossible': False}),\n",
       " Prediction(uid=68.0, iid=7566, r_ui=4.0, est=3.9371397835170576, details={'was_impossible': False}),\n",
       " Prediction(uid=605.0, iid=62970, r_ui=3.0, est=2.7674816713064705, details={'was_impossible': False}),\n",
       " Prediction(uid=490.0, iid=69844, r_ui=3.0, est=3.020360015001333, details={'was_impossible': False}),\n",
       " Prediction(uid=312.0, iid=1573, r_ui=3.0, est=3.518669673595732, details={'was_impossible': False}),\n",
       " Prediction(uid=177.0, iid=69640, r_ui=3.5, est=3.4706758863143623, details={'was_impossible': False}),\n",
       " Prediction(uid=174.0, iid=344, r_ui=5.0, est=2.7702957911786097, details={'was_impossible': False}),\n",
       " Prediction(uid=357.0, iid=587, r_ui=3.5, est=3.830142988341273, details={'was_impossible': False}),\n",
       " Prediction(uid=140.0, iid=3107, r_ui=3.0, est=3.2568820567868184, details={'was_impossible': False}),\n",
       " Prediction(uid=561.0, iid=1097, r_ui=4.5, est=3.8496215530883715, details={'was_impossible': False}),\n",
       " Prediction(uid=132.0, iid=1059, r_ui=3.0, est=3.106503445802549, details={'was_impossible': False}),\n",
       " Prediction(uid=156.0, iid=1295, r_ui=3.0, est=3.4498610485451127, details={'was_impossible': False}),\n",
       " Prediction(uid=20.0, iid=4783, r_ui=3.5, est=3.722875754192379, details={'was_impossible': False}),\n",
       " Prediction(uid=608.0, iid=4452, r_ui=3.0, est=2.7910956568157808, details={'was_impossible': False}),\n",
       " Prediction(uid=610.0, iid=107348, r_ui=3.5, est=3.472793767618905, details={'was_impossible': False}),\n",
       " Prediction(uid=45.0, iid=3481, r_ui=4.0, est=3.9089012694270378, details={'was_impossible': False}),\n",
       " Prediction(uid=474.0, iid=1797, r_ui=4.0, est=3.9456446570222514, details={'was_impossible': False}),\n",
       " Prediction(uid=448.0, iid=92048, r_ui=2.5, est=2.8536803516910365, details={'was_impossible': False}),\n",
       " Prediction(uid=19.0, iid=2606, r_ui=4.0, est=2.921402728696784, details={'was_impossible': False}),\n",
       " Prediction(uid=17.0, iid=2329, r_ui=4.5, est=4.36488078252257, details={'was_impossible': False}),\n",
       " Prediction(uid=593.0, iid=34162, r_ui=2.0, est=2.5103554907445655, details={'was_impossible': False}),\n",
       " Prediction(uid=233.0, iid=1136, r_ui=3.0, est=3.5854702074233074, details={'was_impossible': False}),\n",
       " Prediction(uid=352.0, iid=36401, r_ui=3.0, est=2.851063692640296, details={'was_impossible': False}),\n",
       " Prediction(uid=21.0, iid=95167, r_ui=3.5, est=3.2961510484279564, details={'was_impossible': False}),\n",
       " Prediction(uid=68.0, iid=81932, r_ui=4.0, est=3.853221765031401, details={'was_impossible': False}),\n",
       " Prediction(uid=212.0, iid=72641, r_ui=4.0, est=3.505028535855628, details={'was_impossible': False}),\n",
       " Prediction(uid=150.0, iid=7, r_ui=3.0, est=3.1615169945069805, details={'was_impossible': False}),\n",
       " Prediction(uid=57.0, iid=2054, r_ui=3.0, est=2.785136756969697, details={'was_impossible': False}),\n",
       " Prediction(uid=64.0, iid=2542, r_ui=3.5, est=4.059803884241367, details={'was_impossible': False}),\n",
       " Prediction(uid=280.0, iid=2005, r_ui=4.0, est=3.9269514049733405, details={'was_impossible': False}),\n",
       " Prediction(uid=32.0, iid=708, r_ui=4.0, est=3.7963144152145114, details={'was_impossible': False}),\n",
       " Prediction(uid=21.0, iid=8972, r_ui=4.0, est=3.669836290631809, details={'was_impossible': False}),\n",
       " Prediction(uid=610.0, iid=91485, r_ui=3.0, est=3.1494818058778873, details={'was_impossible': False}),\n",
       " Prediction(uid=420.0, iid=52245, r_ui=3.5, est=3.3202836983298036, details={'was_impossible': False}),\n",
       " Prediction(uid=414.0, iid=8645, r_ui=4.0, est=3.974986577711376, details={'was_impossible': False}),\n",
       " Prediction(uid=288.0, iid=36401, r_ui=3.0, est=2.689229811204025, details={'was_impossible': False}),\n",
       " Prediction(uid=319.0, iid=6942, r_ui=4.0, est=3.919005765177064, details={'was_impossible': False}),\n",
       " Prediction(uid=181.0, iid=590, r_ui=3.0, est=3.56899475824222, details={'was_impossible': False}),\n",
       " Prediction(uid=220.0, iid=39183, r_ui=2.5, est=3.073346285927695, details={'was_impossible': False}),\n",
       " Prediction(uid=422.0, iid=3980, r_ui=4.0, est=3.7655656058216853, details={'was_impossible': False}),\n",
       " Prediction(uid=153.0, iid=2572, r_ui=1.0, est=1.4538646934507986, details={'was_impossible': False}),\n",
       " Prediction(uid=4.0, iid=351, r_ui=3.0, est=3.07330630752631, details={'was_impossible': False}),\n",
       " Prediction(uid=361.0, iid=6539, r_ui=3.5, est=3.5578583821197287, details={'was_impossible': False}),\n",
       " Prediction(uid=448.0, iid=6373, r_ui=3.0, est=2.968485739174253, details={'was_impossible': False}),\n",
       " Prediction(uid=596.0, iid=95167, r_ui=4.0, est=3.525131424814408, details={'was_impossible': False}),\n",
       " Prediction(uid=437.0, iid=5, r_ui=2.0, est=2.508495610395144, details={'was_impossible': False}),\n",
       " Prediction(uid=380.0, iid=5377, r_ui=4.0, est=4.040716371271607, details={'was_impossible': False}),\n",
       " Prediction(uid=231.0, iid=2858, r_ui=4.0, est=3.946851812373691, details={'was_impossible': False}),\n",
       " Prediction(uid=599.0, iid=4593, r_ui=2.0, est=2.328532157043451, details={'was_impossible': False}),\n",
       " Prediction(uid=260.0, iid=6711, r_ui=4.0, est=3.989315115010201, details={'was_impossible': False}),\n",
       " Prediction(uid=593.0, iid=1711, r_ui=3.0, est=2.843111196879786, details={'was_impossible': False}),\n",
       " Prediction(uid=244.0, iid=2919, r_ui=5.0, est=4.839723588832467, details={'was_impossible': False}),\n",
       " Prediction(uid=530.0, iid=509, r_ui=3.0, est=3.369018514666532, details={'was_impossible': False}),\n",
       " Prediction(uid=294.0, iid=317, r_ui=2.0, est=2.77155565090915, details={'was_impossible': False}),\n",
       " Prediction(uid=226.0, iid=54272, r_ui=4.0, est=3.7931393663086426, details={'was_impossible': False}),\n",
       " Prediction(uid=199.0, iid=307, r_ui=2.0, est=3.4975137349465992, details={'was_impossible': False}),\n",
       " Prediction(uid=381.0, iid=7153, r_ui=4.0, est=4.026809488893048, details={'was_impossible': False}),\n",
       " Prediction(uid=105.0, iid=4874, r_ui=5.0, est=4.076838843077593, details={'was_impossible': False}),\n",
       " Prediction(uid=352.0, iid=68791, r_ui=3.5, est=3.4560454723027325, details={'was_impossible': False}),\n",
       " Prediction(uid=211.0, iid=5418, r_ui=4.0, est=3.848826422534696, details={'was_impossible': False}),\n",
       " Prediction(uid=51.0, iid=8464, r_ui=5.0, est=4.274466381998418, details={'was_impossible': False}),\n",
       " Prediction(uid=275.0, iid=3160, r_ui=1.0, est=4.021262648495156, details={'was_impossible': False}),\n",
       " Prediction(uid=68.0, iid=44004, r_ui=3.0, est=2.9642208276222557, details={'was_impossible': False}),\n",
       " Prediction(uid=298.0, iid=79091, r_ui=2.5, est=2.706040296346602, details={'was_impossible': False}),\n",
       " Prediction(uid=599.0, iid=1299, r_ui=3.0, est=3.2825053112743308, details={'was_impossible': False}),\n",
       " Prediction(uid=292.0, iid=2080, r_ui=3.0, est=3.2786659279256787, details={'was_impossible': False}),\n",
       " Prediction(uid=551.0, iid=166643, r_ui=4.0, est=3.7221461559737246, details={'was_impossible': False}),\n",
       " Prediction(uid=165.0, iid=377, r_ui=4.0, est=3.6166295499211363, details={'was_impossible': False}),\n",
       " Prediction(uid=559.0, iid=174, r_ui=1.0, est=1.8994145588677809, details={'was_impossible': False}),\n",
       " Prediction(uid=23.0, iid=1237, r_ui=4.0, est=3.8894251053457287, details={'was_impossible': False}),\n",
       " Prediction(uid=488.0, iid=8368, r_ui=5.0, est=4.714775315941868, details={'was_impossible': False}),\n",
       " Prediction(uid=555.0, iid=39, r_ui=4.0, est=3.502811959635213, details={'was_impossible': False}),\n",
       " Prediction(uid=603.0, iid=914, r_ui=5.0, est=4.337117375341848, details={'was_impossible': False}),\n",
       " Prediction(uid=260.0, iid=188, r_ui=4.0, est=3.8491029059028907, details={'was_impossible': False}),\n",
       " Prediction(uid=274.0, iid=648, r_ui=3.5, est=3.1241258419556397, details={'was_impossible': False}),\n",
       " Prediction(uid=8.0, iid=253, r_ui=5.0, est=4.503434718233249, details={'was_impossible': False}),\n",
       " Prediction(uid=116.0, iid=1088, r_ui=4.5, est=3.6063195356965827, details={'was_impossible': False}),\n",
       " Prediction(uid=104.0, iid=2485, r_ui=3.0, est=3.0932692847380285, details={'was_impossible': False}),\n",
       " Prediction(uid=182.0, iid=4407, r_ui=4.5, est=4.143731051716938, details={'was_impossible': False}),\n",
       " Prediction(uid=378.0, iid=68358, r_ui=4.0, est=3.98392651551381, details={'was_impossible': False}),\n",
       " Prediction(uid=469.0, iid=1299, r_ui=4.0, est=3.978705456155456, details={'was_impossible': False}),\n",
       " Prediction(uid=563.0, iid=7320, r_ui=2.5, est=3.006846470067973, details={'was_impossible': False}),\n",
       " Prediction(uid=493.0, iid=1240, r_ui=4.0, est=4.1076905435634385, details={'was_impossible': False}),\n",
       " Prediction(uid=244.0, iid=151, r_ui=5.0, est=4.648554980234584, details={'was_impossible': False}),\n",
       " Prediction(uid=201.0, iid=1035, r_ui=4.0, est=4.0899505946326435, details={'was_impossible': False}),\n",
       " Prediction(uid=279.0, iid=608, r_ui=2.0, est=3.171355971069387, details={'was_impossible': False}),\n",
       " Prediction(uid=307.0, iid=4602, r_ui=3.0, est=2.9702155896085127, details={'was_impossible': False}),\n",
       " Prediction(uid=534.0, iid=5445, r_ui=4.5, est=3.8868513813975247, details={'was_impossible': False}),\n",
       " Prediction(uid=91.0, iid=2146, r_ui=2.5, est=2.7791676100655165, details={'was_impossible': False}),\n",
       " Prediction(uid=561.0, iid=2794, r_ui=3.0, est=2.9081943453420864, details={'was_impossible': False}),\n",
       " Prediction(uid=98.0, iid=67408, r_ui=2.0, est=2.5448464541815685, details={'was_impossible': False}),\n",
       " Prediction(uid=21.0, iid=63082, r_ui=3.5, est=3.3866489998833282, details={'was_impossible': False}),\n",
       " Prediction(uid=280.0, iid=344, r_ui=3.0, est=3.058938690235352, details={'was_impossible': False}),\n",
       " Prediction(uid=483.0, iid=96588, r_ui=4.0, est=3.8293571976612637, details={'was_impossible': False}),\n",
       " Prediction(uid=288.0, iid=7438, r_ui=4.0, est=3.7857601963611356, details={'was_impossible': False}),\n",
       " Prediction(uid=448.0, iid=74789, r_ui=3.0, est=2.9496455582344807, details={'was_impossible': False}),\n",
       " Prediction(uid=462.0, iid=296, r_ui=2.5, est=3.67726559691882, details={'was_impossible': False}),\n",
       " Prediction(uid=111.0, iid=47997, r_ui=1.5, est=2.490064483594601, details={'was_impossible': False}),\n",
       " Prediction(uid=274.0, iid=2402, r_ui=3.5, est=2.953869673218035, details={'was_impossible': False}),\n",
       " Prediction(uid=484.0, iid=4128, r_ui=4.0, est=3.9358061291043467, details={'was_impossible': False}),\n",
       " Prediction(uid=272.0, iid=122922, r_ui=2.0, est=2.8389029156418597, details={'was_impossible': False}),\n",
       " Prediction(uid=111.0, iid=6003, r_ui=4.0, est=3.8407804233755183, details={'was_impossible': False}),\n",
       " Prediction(uid=448.0, iid=2366, r_ui=5.0, est=3.9704988578135647, details={'was_impossible': False}),\n",
       " Prediction(uid=292.0, iid=2657, r_ui=1.0, est=2.4383993411123916, details={'was_impossible': False}),\n",
       " Prediction(uid=132.0, iid=1172, r_ui=4.0, est=3.6454103960509774, details={'was_impossible': False}),\n",
       " Prediction(uid=414.0, iid=2018, r_ui=4.0, est=3.696289185977258, details={'was_impossible': False}),\n",
       " Prediction(uid=610.0, iid=593, r_ui=4.5, est=4.2282305257149035, details={'was_impossible': False}),\n",
       " Prediction(uid=288.0, iid=2147, r_ui=2.0, est=2.4220769896440633, details={'was_impossible': False}),\n",
       " Prediction(uid=474.0, iid=593, r_ui=4.5, est=3.9721495162078546, details={'was_impossible': False}),\n",
       " Prediction(uid=133.0, iid=223, r_ui=3.0, est=3.068050495963646, details={'was_impossible': False}),\n",
       " Prediction(uid=385.0, iid=5060, r_ui=3.0, est=3.3027687105103025, details={'was_impossible': False}),\n",
       " Prediction(uid=222.0, iid=50, r_ui=3.0, est=3.8285376319297737, details={'was_impossible': False}),\n",
       " Prediction(uid=177.0, iid=3997, r_ui=0.5, est=1.2945658364409989, details={'was_impossible': False}),\n",
       " Prediction(uid=487.0, iid=94959, r_ui=2.5, est=3.108304183818369, details={'was_impossible': False}),\n",
       " Prediction(uid=390.0, iid=4191, r_ui=2.5, est=2.741389794504015, details={'was_impossible': False}),\n",
       " Prediction(uid=62.0, iid=94864, r_ui=3.5, est=3.7961776790752015, details={'was_impossible': False}),\n",
       " Prediction(uid=221.0, iid=7361, r_ui=4.0, est=4.452412265431881, details={'was_impossible': False}),\n",
       " Prediction(uid=414.0, iid=5023, r_ui=4.0, est=3.8820246179616853, details={'was_impossible': False}),\n",
       " Prediction(uid=198.0, iid=480, r_ui=3.0, est=3.3295248509422057, details={'was_impossible': False}),\n",
       " Prediction(uid=489.0, iid=61160, r_ui=1.5, est=1.9395548204826591, details={'was_impossible': False}),\n",
       " Prediction(uid=313.0, iid=2628, r_ui=2.0, est=2.92154750569738, details={'was_impossible': False}),\n",
       " Prediction(uid=144.0, iid=6591, r_ui=3.5, est=4.044850173284802, details={'was_impossible': False}),\n",
       " Prediction(uid=37.0, iid=356, r_ui=4.0, est=4.268990354370817, details={'was_impossible': False}),\n",
       " Prediction(uid=140.0, iid=3230, r_ui=4.0, est=3.8353395491446274, details={'was_impossible': False}),\n",
       " Prediction(uid=64.0, iid=3396, r_ui=4.0, est=3.9489218093927136, details={'was_impossible': False}),\n",
       " Prediction(uid=232.0, iid=7294, r_ui=2.5, est=3.368017798190898, details={'was_impossible': False}),\n",
       " Prediction(uid=474.0, iid=2692, r_ui=4.0, est=3.7388036087857595, details={'was_impossible': False}),\n",
       " Prediction(uid=131.0, iid=1288, r_ui=3.5, est=3.584403263606549, details={'was_impossible': False}),\n",
       " Prediction(uid=62.0, iid=107406, r_ui=4.0, est=3.6259144542601445, details={'was_impossible': False}),\n",
       " Prediction(uid=23.0, iid=6920, r_ui=3.0, est=3.405800998652834, details={'was_impossible': False}),\n",
       " Prediction(uid=474.0, iid=900, r_ui=3.5, est=3.6085870141678797, details={'was_impossible': False}),\n",
       " Prediction(uid=378.0, iid=99114, r_ui=3.0, est=3.8300417706684002, details={'was_impossible': False}),\n",
       " Prediction(uid=503.0, iid=2877, r_ui=4.0, est=3.6243002510014946, details={'was_impossible': False}),\n",
       " Prediction(uid=484.0, iid=1968, r_ui=4.0, est=3.847413040082624, details={'was_impossible': False}),\n",
       " Prediction(uid=307.0, iid=5139, r_ui=4.0, est=3.530438084671491, details={'was_impossible': False}),\n",
       " Prediction(uid=45.0, iid=1005, r_ui=2.0, est=2.310978323231946, details={'was_impossible': False}),\n",
       " Prediction(uid=381.0, iid=1517, r_ui=3.0, est=3.2868456502379533, details={'was_impossible': False}),\n",
       " Prediction(uid=105.0, iid=1244, r_ui=5.0, est=4.237001690220933, details={'was_impossible': False}),\n",
       " Prediction(uid=68.0, iid=1210, r_ui=5.0, est=3.6508915469742647, details={'was_impossible': False}),\n",
       " Prediction(uid=382.0, iid=79132, r_ui=5.0, est=4.305497917098149, details={'was_impossible': False}),\n",
       " Prediction(uid=354.0, iid=2997, r_ui=3.5, est=3.8847152548517063, details={'was_impossible': False}),\n",
       " Prediction(uid=64.0, iid=6796, r_ui=4.0, est=3.8217989589218737, details={'was_impossible': False}),\n",
       " Prediction(uid=64.0, iid=8917, r_ui=5.0, est=4.148901329416457, details={'was_impossible': False}),\n",
       " Prediction(uid=89.0, iid=3097, r_ui=2.0, est=3.710229075630241, details={'was_impossible': False}),\n",
       " Prediction(uid=601.0, iid=70286, r_ui=4.5, est=4.247422187226233, details={'was_impossible': False}),\n",
       " Prediction(uid=393.0, iid=34405, r_ui=5.0, est=3.6711322832924376, details={'was_impossible': False}),\n",
       " Prediction(uid=605.0, iid=6787, r_ui=4.0, est=3.8441278075353473, details={'was_impossible': False}),\n",
       " Prediction(uid=68.0, iid=1029, r_ui=2.5, est=2.6724917250816187, details={'was_impossible': False}),\n",
       " Prediction(uid=232.0, iid=66097, r_ui=3.0, est=3.6327215696049513, details={'was_impossible': False}),\n",
       " Prediction(uid=105.0, iid=81562, r_ui=4.0, est=3.9802812002722523, details={'was_impossible': False}),\n",
       " Prediction(uid=63.0, iid=53125, r_ui=3.5, est=3.462637427407342, details={'was_impossible': False}),\n",
       " Prediction(uid=136.0, iid=93, r_ui=4.0, est=3.78944622610713, details={'was_impossible': False}),\n",
       " Prediction(uid=288.0, iid=2951, r_ui=3.5, est=3.6676778780331323, details={'was_impossible': False}),\n",
       " Prediction(uid=232.0, iid=1907, r_ui=3.5, est=3.558016474048216, details={'was_impossible': False}),\n",
       " Prediction(uid=132.0, iid=5878, r_ui=3.5, est=3.4468959085996915, details={'was_impossible': False}),\n",
       " Prediction(uid=27.0, iid=661, r_ui=3.0, est=3.4359830574035417, details={'was_impossible': False}),\n",
       " Prediction(uid=58.0, iid=282, r_ui=4.0, est=3.8247261962857326, details={'was_impossible': False}),\n",
       " Prediction(uid=45.0, iid=3114, r_ui=5.0, est=4.066102620895599, details={'was_impossible': False}),\n",
       " Prediction(uid=534.0, iid=112897, r_ui=4.0, est=3.8844184069232304, details={'was_impossible': False}),\n",
       " Prediction(uid=219.0, iid=3972, r_ui=4.0, est=3.7510881295470204, details={'was_impossible': False}),\n",
       " Prediction(uid=68.0, iid=3536, r_ui=4.0, est=3.564235776799161, details={'was_impossible': False}),\n",
       " Prediction(uid=590.0, iid=8360, r_ui=3.5, est=3.116212011542544, details={'was_impossible': False}),\n",
       " Prediction(uid=22.0, iid=4886, r_ui=3.5, est=3.4064413494427495, details={'was_impossible': False}),\n",
       " Prediction(uid=221.0, iid=6852, r_ui=4.0, est=4.033626495811097, details={'was_impossible': False}),\n",
       " Prediction(uid=448.0, iid=85510, r_ui=2.0, est=2.607070987850126, details={'was_impossible': False}),\n",
       " Prediction(uid=280.0, iid=1393, r_ui=4.5, est=3.8325302593918806, details={'was_impossible': False}),\n",
       " Prediction(uid=608.0, iid=435, r_ui=0.5, est=1.7241092109646616, details={'was_impossible': False}),\n",
       " Prediction(uid=599.0, iid=253, r_ui=3.0, est=3.005084624634366, details={'was_impossible': False}),\n",
       " Prediction(uid=523.0, iid=356, r_ui=4.5, est=4.920032066883164, details={'was_impossible': False}),\n",
       " Prediction(uid=474.0, iid=5064, r_ui=4.0, est=3.6898336465877932, details={'was_impossible': False}),\n",
       " Prediction(uid=91.0, iid=27873, r_ui=2.5, est=2.7367246199782467, details={'was_impossible': False}),\n",
       " Prediction(uid=328.0, iid=79091, r_ui=2.5, est=2.8196515066209606, details={'was_impossible': False}),\n",
       " Prediction(uid=559.0, iid=186, r_ui=3.0, est=2.8347907735171165, details={'was_impossible': False}),\n",
       " Prediction(uid=216.0, iid=648, r_ui=2.0, est=2.8595099702600533, details={'was_impossible': False}),\n",
       " Prediction(uid=498.0, iid=592, r_ui=3.0, est=3.5903740038710317, details={'was_impossible': False}),\n",
       " Prediction(uid=467.0, iid=1357, r_ui=4.0, est=3.9373065732844688, details={'was_impossible': False}),\n",
       " Prediction(uid=262.0, iid=272, r_ui=5.0, est=4.38544562961348, details={'was_impossible': False}),\n",
       " Prediction(uid=28.0, iid=1256, r_ui=4.0, est=2.7774204870543033, details={'was_impossible': False}),\n",
       " Prediction(uid=387.0, iid=6063, r_ui=3.5, est=2.9211157511710866, details={'was_impossible': False}),\n",
       " Prediction(uid=170.0, iid=587, r_ui=4.0, est=3.7426415633986685, details={'was_impossible': False}),\n",
       " Prediction(uid=555.0, iid=2498, r_ui=2.0, est=2.3050978609982957, details={'was_impossible': False}),\n",
       " Prediction(uid=567.0, iid=104074, r_ui=0.5, est=2.3300116741089294, details={'was_impossible': False}),\n",
       " Prediction(uid=161.0, iid=2080, r_ui=3.5, est=3.503954164620903, details={'was_impossible': False}),\n",
       " Prediction(uid=534.0, iid=51255, r_ui=4.5, est=4.287215190168945, details={'was_impossible': False}),\n",
       " Prediction(uid=182.0, iid=1635, r_ui=4.5, est=4.17735334266491, details={'was_impossible': False}),\n",
       " Prediction(uid=311.0, iid=40, r_ui=3.5, est=3.336516645042356, details={'was_impossible': False}),\n",
       " Prediction(uid=51.0, iid=2634, r_ui=3.0, est=3.133253236904789, details={'was_impossible': False}),\n",
       " Prediction(uid=318.0, iid=70533, r_ui=4.0, est=4.256371634000351, details={'was_impossible': False}),\n",
       " Prediction(uid=525.0, iid=116797, r_ui=4.0, est=3.9634541791650593, details={'was_impossible': False}),\n",
       " Prediction(uid=172.0, iid=3087, r_ui=5.0, est=4.47414180520078, details={'was_impossible': False}),\n",
       " Prediction(uid=380.0, iid=7076, r_ui=3.0, est=3.672989676072349, details={'was_impossible': False}),\n",
       " Prediction(uid=425.0, iid=8970, r_ui=4.0, est=3.629546451441215, details={'was_impossible': False}),\n",
       " Prediction(uid=68.0, iid=8873, r_ui=4.0, est=3.4994371960961423, details={'was_impossible': False}),\n",
       " Prediction(uid=332.0, iid=5226, r_ui=2.5, est=3.4049399754088903, details={'was_impossible': False}),\n",
       " Prediction(uid=117.0, iid=256, r_ui=3.0, est=2.8082749490248453, details={'was_impossible': False}),\n",
       " Prediction(uid=249.0, iid=7361, r_ui=4.0, est=4.41053089845712, details={'was_impossible': False}),\n",
       " Prediction(uid=573.0, iid=2617, r_ui=5.0, est=4.37520393340427, details={'was_impossible': False}),\n",
       " Prediction(uid=483.0, iid=367, r_ui=3.0, est=3.132253435306423, details={'was_impossible': False}),\n",
       " Prediction(uid=201.0, iid=543, r_ui=5.0, est=4.499563762623406, details={'was_impossible': False}),\n",
       " Prediction(uid=231.0, iid=1270, r_ui=4.0, est=3.7214334891766523, details={'was_impossible': False}),\n",
       " Prediction(uid=414.0, iid=45720, r_ui=4.0, est=3.6617669856020183, details={'was_impossible': False}),\n",
       " Prediction(uid=601.0, iid=4226, r_ui=5.0, est=4.577592254085243, details={'was_impossible': False}),\n",
       " Prediction(uid=7.0, iid=165, r_ui=4.0, est=3.5899789199991043, details={'was_impossible': False}),\n",
       " Prediction(uid=232.0, iid=56174, r_ui=3.0, est=3.4583769647868388, details={'was_impossible': False}),\n",
       " Prediction(uid=599.0, iid=99638, r_ui=3.0, est=2.943869753036422, details={'was_impossible': False}),\n",
       " Prediction(uid=499.0, iid=2644, r_ui=2.5, est=3.4905437825608394, details={'was_impossible': False}),\n",
       " Prediction(uid=169.0, iid=1088, r_ui=4.5, est=4.24422414739215, details={'was_impossible': False}),\n",
       " Prediction(uid=567.0, iid=103596, r_ui=0.5, est=1, details={'was_impossible': False}),\n",
       " Prediction(uid=584.0, iid=296, r_ui=3.0, est=4.497523371760512, details={'was_impossible': False}),\n",
       " Prediction(uid=469.0, iid=1201, r_ui=5.0, est=4.185116310036532, details={'was_impossible': False}),\n",
       " Prediction(uid=69.0, iid=3671, r_ui=5.0, est=4.6919544032071725, details={'was_impossible': False}),\n",
       " Prediction(uid=414.0, iid=2724, r_ui=1.0, est=2.290784632926984, details={'was_impossible': False}),\n",
       " Prediction(uid=452.0, iid=4128, r_ui=5.0, est=4.784754252289569, details={'was_impossible': False}),\n",
       " Prediction(uid=1.0, iid=2529, r_ui=5.0, est=4.722757489126808, details={'was_impossible': False}),\n",
       " Prediction(uid=182.0, iid=760, r_ui=4.0, est=3.819282680294285, details={'was_impossible': False}),\n",
       " Prediction(uid=597.0, iid=1042, r_ui=4.0, est=3.8158706750382936, details={'was_impossible': False}),\n",
       " Prediction(uid=105.0, iid=4343, r_ui=4.0, est=3.610274400867186, details={'was_impossible': False}),\n",
       " Prediction(uid=219.0, iid=49272, r_ui=4.5, est=3.5701165167682682, details={'was_impossible': False}),\n",
       " Prediction(uid=239.0, iid=356, r_ui=5.0, est=4.427216346826335, details={'was_impossible': False}),\n",
       " Prediction(uid=177.0, iid=2132, r_ui=4.0, est=3.67830481778913, details={'was_impossible': False}),\n",
       " Prediction(uid=425.0, iid=2231, r_ui=4.0, est=4.021687902606963, details={'was_impossible': False}),\n",
       " Prediction(uid=411.0, iid=122, r_ui=2.0, est=2.332536045986881, details={'was_impossible': False}),\n",
       " Prediction(uid=610.0, iid=4368, r_ui=2.0, est=2.2080208069118967, details={'was_impossible': False}),\n",
       " Prediction(uid=590.0, iid=50068, r_ui=4.0, est=3.7428561842702455, details={'was_impossible': False}),\n",
       " Prediction(uid=256.0, iid=4155, r_ui=4.0, est=3.5176981426961484, details={'was_impossible': False}),\n",
       " Prediction(uid=15.0, iid=6502, r_ui=3.5, est=3.6232675051290233, details={'was_impossible': False}),\n",
       " Prediction(uid=362.0, iid=64614, r_ui=4.0, est=4.234485977151264, details={'was_impossible': False}),\n",
       " Prediction(uid=274.0, iid=4241, r_ui=3.0, est=2.6191009422626452, details={'was_impossible': False}),\n",
       " Prediction(uid=230.0, iid=45722, r_ui=5.0, est=4.227770611628545, details={'was_impossible': False}),\n",
       " Prediction(uid=555.0, iid=3591, r_ui=3.0, est=3.236605764624148, details={'was_impossible': False}),\n",
       " Prediction(uid=288.0, iid=4963, r_ui=3.5, est=3.550555529279982, details={'was_impossible': False}),\n",
       " Prediction(uid=217.0, iid=2376, r_ui=3.0, est=2.9642126990540025, details={'was_impossible': False}),\n",
       " Prediction(uid=57.0, iid=2617, r_ui=3.0, est=2.792032275165775, details={'was_impossible': False}),\n",
       " Prediction(uid=443.0, iid=2959, r_ui=4.0, est=3.9756759075275068, details={'was_impossible': False}),\n",
       " Prediction(uid=511.0, iid=55908, r_ui=4.0, est=4.26600856359309, details={'was_impossible': False}),\n",
       " Prediction(uid=105.0, iid=2925, r_ui=3.5, est=4.025479960317606, details={'was_impossible': False}),\n",
       " Prediction(uid=387.0, iid=2987, r_ui=3.5, est=3.2556233385438285, details={'was_impossible': False}),\n",
       " Prediction(uid=448.0, iid=101612, r_ui=2.0, est=3.2970071316837077, details={'was_impossible': False}),\n",
       " Prediction(uid=438.0, iid=3452, r_ui=2.5, est=2.9050541979134143, details={'was_impossible': False}),\n",
       " Prediction(uid=610.0, iid=2076, r_ui=5.0, est=4.2062335907233095, details={'was_impossible': False}),\n",
       " Prediction(uid=563.0, iid=1566, r_ui=3.5, est=3.4936913857558376, details={'was_impossible': False}),\n",
       " Prediction(uid=474.0, iid=2141, r_ui=2.0, est=3.028570305211201, details={'was_impossible': False}),\n",
       " Prediction(uid=298.0, iid=98809, r_ui=3.0, est=3.1777872159033835, details={'was_impossible': False}),\n",
       " Prediction(uid=160.0, iid=1917, r_ui=1.0, est=1.4705512071527624, details={'was_impossible': False}),\n",
       " Prediction(uid=57.0, iid=3638, r_ui=2.0, est=3.0079657652074694, details={'was_impossible': False}),\n",
       " Prediction(uid=483.0, iid=101283, r_ui=3.0, est=3.0524461399493545, details={'was_impossible': False}),\n",
       " Prediction(uid=221.0, iid=4361, r_ui=4.0, est=3.8482392910723866, details={'was_impossible': False}),\n",
       " Prediction(uid=286.0, iid=296, r_ui=5.0, est=4.409257727620872, details={'was_impossible': False}),\n",
       " Prediction(uid=568.0, iid=3053, r_ui=4.0, est=4.0419322841732415, details={'was_impossible': False}),\n",
       " Prediction(uid=249.0, iid=1220, r_ui=4.0, est=3.8611383010880824, details={'was_impossible': False}),\n",
       " Prediction(uid=30.0, iid=116823, r_ui=4.0, est=4.207017546245721, details={'was_impossible': False}),\n",
       " Prediction(uid=135.0, iid=1876, r_ui=2.0, est=2.5626556555723004, details={'was_impossible': False}),\n",
       " Prediction(uid=282.0, iid=1517, r_ui=4.5, est=4.002886707279041, details={'was_impossible': False}),\n",
       " Prediction(uid=489.0, iid=49272, r_ui=3.5, est=3.5093106282084885, details={'was_impossible': False}),\n",
       " Prediction(uid=247.0, iid=2028, r_ui=4.0, est=3.8724660819641703, details={'was_impossible': False}),\n",
       " Prediction(uid=414.0, iid=3980, r_ui=3.0, est=3.5646219909734134, details={'was_impossible': False}),\n",
       " Prediction(uid=522.0, iid=89492, r_ui=4.0, est=3.983881408267196, details={'was_impossible': False}),\n",
       " Prediction(uid=599.0, iid=84772, r_ui=1.5, est=2.2586797349174725, details={'was_impossible': False}),\n",
       " Prediction(uid=469.0, iid=329, r_ui=2.0, est=2.7569819755560117, details={'was_impossible': False}),\n",
       " Prediction(uid=105.0, iid=1272, r_ui=3.5, est=4.335320473371505, details={'was_impossible': False}),\n",
       " Prediction(uid=33.0, iid=1672, r_ui=3.0, est=3.292289336557896, details={'was_impossible': False}),\n",
       " Prediction(uid=365.0, iid=2716, r_ui=3.0, est=3.042275703751385, details={'was_impossible': False}),\n",
       " Prediction(uid=112.0, iid=551, r_ui=3.5, est=3.451904070678792, details={'was_impossible': False}),\n",
       " Prediction(uid=220.0, iid=8644, r_ui=4.0, est=3.1464962054051484, details={'was_impossible': False}),\n",
       " Prediction(uid=293.0, iid=742, r_ui=2.0, est=2.2873386443605144, details={'was_impossible': False}),\n",
       " Prediction(uid=606.0, iid=3587, r_ui=3.5, est=3.5648939072574044, details={'was_impossible': False}),\n",
       " Prediction(uid=263.0, iid=4886, r_ui=4.5, est=4.1167355729003, details={'was_impossible': False}),\n",
       " Prediction(uid=318.0, iid=3751, r_ui=3.5, est=3.7322241754661505, details={'was_impossible': False}),\n",
       " Prediction(uid=274.0, iid=27773, r_ui=3.5, est=3.8937070896203307, details={'was_impossible': False}),\n",
       " Prediction(uid=514.0, iid=2194, r_ui=4.0, est=3.8839919577119497, details={'was_impossible': False}),\n",
       " Prediction(uid=226.0, iid=1380, r_ui=2.5, est=2.9225110900991305, details={'was_impossible': False}),\n",
       " Prediction(uid=594.0, iid=2617, r_ui=3.5, est=3.727148392496302, details={'was_impossible': False}),\n",
       " Prediction(uid=28.0, iid=608, r_ui=3.0, est=3.412367171741388, details={'was_impossible': False}),\n",
       " Prediction(uid=310.0, iid=4306, r_ui=3.5, est=3.6552914368461975, details={'was_impossible': False}),\n",
       " Prediction(uid=41.0, iid=3949, r_ui=4.0, est=3.5558686569638325, details={'was_impossible': False}),\n",
       " Prediction(uid=560.0, iid=97752, r_ui=2.5, est=3.406700650353281, details={'was_impossible': False}),\n",
       " Prediction(uid=391.0, iid=1219, r_ui=5.0, est=4.315818258518538, details={'was_impossible': False}),\n",
       " Prediction(uid=495.0, iid=2683, r_ui=5.0, est=4.364980717730608, details={'was_impossible': False}),\n",
       " Prediction(uid=187.0, iid=49272, r_ui=4.0, est=3.6352152194836895, details={'was_impossible': False}),\n",
       " Prediction(uid=603.0, iid=3167, r_ui=4.0, est=3.80438228072138, details={'was_impossible': False}),\n",
       " Prediction(uid=249.0, iid=5445, r_ui=4.0, est=3.832766007160177, details={'was_impossible': False}),\n",
       " Prediction(uid=380.0, iid=46965, r_ui=3.0, est=3.1496733443532454, details={'was_impossible': False}),\n",
       " Prediction(uid=448.0, iid=5523, r_ui=2.0, est=2.2267067598070516, details={'was_impossible': False}),\n",
       " Prediction(uid=560.0, iid=8970, r_ui=3.5, est=3.4566537084381315, details={'was_impossible': False}),\n",
       " Prediction(uid=108.0, iid=1684, r_ui=5.0, est=4.7526337964768794, details={'was_impossible': False}),\n",
       " Prediction(uid=365.0, iid=58998, r_ui=2.0, est=2.4702602037375634, details={'was_impossible': False}),\n",
       " Prediction(uid=45.0, iid=3052, r_ui=4.0, est=3.9953126865256876, details={'was_impossible': False}),\n",
       " Prediction(uid=220.0, iid=3753, r_ui=4.5, est=3.9944476231090422, details={'was_impossible': False}),\n",
       " Prediction(uid=599.0, iid=3598, r_ui=2.5, est=2.54558867475593, details={'was_impossible': False}),\n",
       " Prediction(uid=414.0, iid=45635, r_ui=3.0, est=3.1189217395022983, details={'was_impossible': False}),\n",
       " Prediction(uid=68.0, iid=66934, r_ui=5.0, est=3.540074662333462, details={'was_impossible': False}),\n",
       " Prediction(uid=105.0, iid=608, r_ui=4.0, est=4.295065075677848, details={'was_impossible': False}),\n",
       " Prediction(uid=387.0, iid=6763, r_ui=2.0, est=2.3328474542775934, details={'was_impossible': False}),\n",
       " Prediction(uid=597.0, iid=2988, r_ui=4.0, est=3.9627084867953437, details={'was_impossible': False}),\n",
       " Prediction(uid=564.0, iid=79428, r_ui=3.5, est=3.3714368162749677, details={'was_impossible': False}),\n",
       " Prediction(uid=187.0, iid=50, r_ui=4.5, est=4.099360340850157, details={'was_impossible': False}),\n",
       " Prediction(uid=177.0, iid=60161, r_ui=3.0, est=3.4057006580861047, details={'was_impossible': False}),\n",
       " Prediction(uid=489.0, iid=6615, r_ui=1.0, est=2.2340513174255454, details={'was_impossible': False}),\n",
       " Prediction(uid=163.0, iid=1614, r_ui=3.0, est=2.930049712025923, details={'was_impossible': False}),\n",
       " Prediction(uid=483.0, iid=2997, r_ui=5.0, est=4.294858937197261, details={'was_impossible': False}),\n",
       " Prediction(uid=587.0, iid=3130, r_ui=4.0, est=3.6634795017860036, details={'was_impossible': False}),\n",
       " Prediction(uid=603.0, iid=3623, r_ui=3.0, est=2.514121240246294, details={'was_impossible': False}),\n",
       " Prediction(uid=188.0, iid=1086, r_ui=4.0, est=4.556326475947649, details={'was_impossible': False}),\n",
       " Prediction(uid=234.0, iid=374, r_ui=1.0, est=1.6714104062306183, details={'was_impossible': False}),\n",
       " Prediction(uid=610.0, iid=44199, r_ui=4.0, est=3.5446233893021377, details={'was_impossible': False}),\n",
       " Prediction(uid=222.0, iid=1537, r_ui=3.0, est=3.299696894329486, details={'was_impossible': False}),\n",
       " Prediction(uid=91.0, iid=2625, r_ui=3.5, est=3.186854005526278, details={'was_impossible': False}),\n",
       " Prediction(uid=599.0, iid=2716, r_ui=4.5, est=3.1818811305710395, details={'was_impossible': False}),\n",
       " Prediction(uid=560.0, iid=6156, r_ui=2.0, est=3.0871986510908087, details={'was_impossible': False}),\n",
       " Prediction(uid=328.0, iid=33004, r_ui=3.0, est=3.030683559035818, details={'was_impossible': False}),\n",
       " Prediction(uid=573.0, iid=111362, r_ui=5.0, est=4.635828674519821, details={'was_impossible': False}),\n",
       " Prediction(uid=64.0, iid=1569, r_ui=2.5, est=3.2918678038193665, details={'was_impossible': False}),\n",
       " Prediction(uid=179.0, iid=208, r_ui=3.0, est=3.095444690102858, details={'was_impossible': False}),\n",
       " Prediction(uid=230.0, iid=2683, r_ui=0.5, est=1.7666722908038714, details={'was_impossible': False}),\n",
       " Prediction(uid=57.0, iid=2193, r_ui=3.0, est=3.052351808890716, details={'was_impossible': False}),\n",
       " Prediction(uid=486.0, iid=110, r_ui=5.0, est=4.592213574989228, details={'was_impossible': False}),\n",
       " Prediction(uid=28.0, iid=68358, r_ui=3.5, est=3.307544529475665, details={'was_impossible': False}),\n",
       " Prediction(uid=448.0, iid=3107, r_ui=4.0, est=3.528242973638303, details={'was_impossible': False}),\n",
       " Prediction(uid=217.0, iid=3361, r_ui=2.0, est=3.4034388419464574, details={'was_impossible': False}),\n",
       " Prediction(uid=67.0, iid=4886, r_ui=4.5, est=4.301896778647473, details={'was_impossible': False}),\n",
       " Prediction(uid=381.0, iid=72226, r_ui=5.0, est=4.384550015254598, details={'was_impossible': False}),\n",
       " Prediction(uid=103.0, iid=30793, r_ui=3.5, est=3.4059422898886966, details={'was_impossible': False}),\n",
       " Prediction(uid=599.0, iid=292, r_ui=3.0, est=2.617006364703662, details={'was_impossible': False}),\n",
       " Prediction(uid=422.0, iid=922, r_ui=5.0, est=4.491733320417203, details={'was_impossible': False}),\n",
       " Prediction(uid=317.0, iid=91077, r_ui=5.0, est=4.594089335490755, details={'was_impossible': False}),\n",
       " Prediction(uid=489.0, iid=2340, r_ui=1.0, est=1.823710332484046, details={'was_impossible': False}),\n",
       " Prediction(uid=325.0, iid=30, r_ui=4.0, est=3.4815233914667036, details={'was_impossible': False}),\n",
       " Prediction(uid=529.0, iid=743, r_ui=3.0, est=2.9760682695911926, details={'was_impossible': False}),\n",
       " Prediction(uid=483.0, iid=799, r_ui=4.0, est=3.8368465374832685, details={'was_impossible': False}),\n",
       " Prediction(uid=313.0, iid=3033, r_ui=2.0, est=2.747543343535323, details={'was_impossible': False}),\n",
       " Prediction(uid=387.0, iid=30810, r_ui=3.5, est=3.2698946413490915, details={'was_impossible': False}),\n",
       " Prediction(uid=305.0, iid=8361, r_ui=4.0, est=3.15675767713741, details={'was_impossible': False}),\n",
       " Prediction(uid=285.0, iid=3262, r_ui=3.0, est=3.2304667216417933, details={'was_impossible': False}),\n",
       " Prediction(uid=182.0, iid=8784, r_ui=4.5, est=3.9797756941585534, details={'was_impossible': False}),\n",
       " Prediction(uid=448.0, iid=5388, r_ui=3.5, est=3.193709203199858, details={'was_impossible': False}),\n",
       " Prediction(uid=101.0, iid=2770, r_ui=2.0, est=2.5861494954432027, details={'was_impossible': False}),\n",
       " Prediction(uid=483.0, iid=100068, r_ui=3.5, est=3.4637550619764546, details={'was_impossible': False}),\n",
       " Prediction(uid=217.0, iid=2741, r_ui=2.0, est=2.065130420732302, details={'was_impossible': False}),\n",
       " Prediction(uid=608.0, iid=750, r_ui=4.0, est=3.859988932693205, details={'was_impossible': False}),\n",
       " Prediction(uid=111.0, iid=46972, r_ui=3.5, est=3.5016729853106465, details={'was_impossible': False}),\n",
       " Prediction(uid=256.0, iid=48780, r_ui=4.0, est=4.307672536034234, details={'was_impossible': False}),\n",
       " Prediction(uid=140.0, iid=480, r_ui=4.0, est=3.8254550614948264, details={'was_impossible': False}),\n",
       " Prediction(uid=414.0, iid=1409, r_ui=1.0, est=2.221848112233247, details={'was_impossible': False}),\n",
       " Prediction(uid=414.0, iid=85510, r_ui=4.0, est=3.502570787342676, details={'was_impossible': False}),\n",
       " Prediction(uid=68.0, iid=103249, r_ui=3.5, est=3.183287689893772, details={'was_impossible': False}),\n",
       " Prediction(uid=525.0, iid=69122, r_ui=3.0, est=3.67211697699347, details={'was_impossible': False}),\n",
       " Prediction(uid=240.0, iid=225, r_ui=4.0, est=3.9304448467188586, details={'was_impossible': False}),\n",
       " Prediction(uid=57.0, iid=3769, r_ui=4.0, est=3.8175077245785367, details={'was_impossible': False}),\n",
       " Prediction(uid=112.0, iid=1393, r_ui=4.0, est=3.875032240947149, details={'was_impossible': False}),\n",
       " Prediction(uid=606.0, iid=6954, r_ui=4.5, est=4.15541741784192, details={'was_impossible': False}),\n",
       " Prediction(uid=610.0, iid=4023, r_ui=3.0, est=3.0852504563126564, details={'was_impossible': False}),\n",
       " Prediction(uid=432.0, iid=3114, r_ui=2.0, est=3.29215026503338, details={'was_impossible': False}),\n",
       " Prediction(uid=608.0, iid=45499, r_ui=4.0, est=3.37018990506198, details={'was_impossible': False}),\n",
       " Prediction(uid=117.0, iid=593, r_ui=5.0, est=3.9469566129266935, details={'was_impossible': False}),\n",
       " Prediction(uid=448.0, iid=6537, r_ui=1.5, est=2.2049676213014346, details={'was_impossible': False}),\n",
       " Prediction(uid=104.0, iid=357, r_ui=5.0, est=3.894649760033385, details={'was_impossible': False}),\n",
       " Prediction(uid=21.0, iid=3697, r_ui=2.5, est=2.9874105303909717, details={'was_impossible': False}),\n",
       " Prediction(uid=356.0, iid=2596, r_ui=4.0, est=3.9979719993459533, details={'was_impossible': False}),\n",
       " Prediction(uid=478.0, iid=2987, r_ui=2.5, est=2.94796530585341, details={'was_impossible': False}),\n",
       " Prediction(uid=103.0, iid=36, r_ui=4.0, est=3.9232205640764546, details={'was_impossible': False}),\n",
       " Prediction(uid=103.0, iid=923, r_ui=4.0, est=4.377936790483974, details={'was_impossible': False}),\n",
       " Prediction(uid=168.0, iid=7256, r_ui=5.0, est=4.479026874648596, details={'was_impossible': False}),\n",
       " Prediction(uid=436.0, iid=350, r_ui=4.0, est=3.605018114346675, details={'was_impossible': False}),\n",
       " Prediction(uid=323.0, iid=116797, r_ui=4.5, est=3.7752833209261976, details={'was_impossible': False}),\n",
       " Prediction(uid=292.0, iid=110, r_ui=2.5, est=3.456601677206044, details={'was_impossible': False}),\n",
       " Prediction(uid=167.0, iid=784, r_ui=0.5, est=1.5552949685467234, details={'was_impossible': False}),\n",
       " Prediction(uid=594.0, iid=7320, r_ui=4.5, est=4.29416342895185, details={'was_impossible': False}),\n",
       " Prediction(uid=362.0, iid=1263, r_ui=4.5, est=4.358232429606219, details={'was_impossible': False}),\n",
       " Prediction(uid=202.0, iid=1047, r_ui=3.0, est=3.4360994002899607, details={'was_impossible': False}),\n",
       " Prediction(uid=606.0, iid=33564, r_ui=4.0, est=3.9172133772419166, details={'was_impossible': False}),\n",
       " Prediction(uid=232.0, iid=3483, r_ui=3.0, est=2.8792254762266265, details={'was_impossible': False}),\n",
       " Prediction(uid=117.0, iid=231, r_ui=2.0, est=2.885501852371305, details={'was_impossible': False}),\n",
       " Prediction(uid=309.0, iid=954, r_ui=2.5, est=3.4009040377087123, details={'was_impossible': False}),\n",
       " Prediction(uid=89.0, iid=11, r_ui=2.5, est=2.6711574351714136, details={'was_impossible': False}),\n",
       " Prediction(uid=372.0, iid=293, r_ui=4.0, est=3.8704050391743094, details={'was_impossible': False}),\n",
       " Prediction(uid=51.0, iid=2746, r_ui=3.0, est=3.375425218884781, details={'was_impossible': False}),\n",
       " Prediction(uid=82.0, iid=2380, r_ui=3.0, est=2.8195478738699213, details={'was_impossible': False}),\n",
       " Prediction(uid=535.0, iid=2805, r_ui=1.0, est=1.4814238023691964, details={'was_impossible': False}),\n",
       " Prediction(uid=541.0, iid=344, r_ui=3.0, est=2.956715837786602, details={'was_impossible': False}),\n",
       " Prediction(uid=336.0, iid=3114, r_ui=4.0, est=4.122036998372816, details={'was_impossible': False}),\n",
       " Prediction(uid=606.0, iid=232, r_ui=5.0, est=4.068337261539909, details={'was_impossible': False}),\n",
       " Prediction(uid=567.0, iid=108689, r_ui=0.5, est=1, details={'was_impossible': False}),\n",
       " Prediction(uid=313.0, iid=2100, r_ui=1.0, est=2.9962145376329175, details={'was_impossible': False}),\n",
       " Prediction(uid=342.0, iid=2433, r_ui=3.0, est=2.764668502855425, details={'was_impossible': False}),\n",
       " Prediction(uid=298.0, iid=84954, r_ui=0.5, est=1.4753902628911264, details={'was_impossible': False}),\n",
       " Prediction(uid=437.0, iid=356, r_ui=3.0, est=4.083237698247979, details={'was_impossible': False}),\n",
       " Prediction(uid=393.0, iid=4226, r_ui=5.0, est=4.541320017512233, details={'was_impossible': False}),\n",
       " Prediction(uid=610.0, iid=72226, r_ui=4.0, est=4.3058392124898965, details={'was_impossible': False}),\n",
       " Prediction(uid=537.0, iid=97304, r_ui=4.5, est=4.284840711419349, details={'was_impossible': False}),\n",
       " Prediction(uid=209.0, iid=2858, r_ui=4.5, est=4.397703606260172, details={'was_impossible': False}),\n",
       " Prediction(uid=381.0, iid=4069, r_ui=2.0, est=2.7064031912525057, details={'was_impossible': False}),\n",
       " Prediction(uid=600.0, iid=26680, r_ui=4.0, est=3.722623965721537, details={'was_impossible': False}),\n",
       " Prediction(uid=330.0, iid=5952, r_ui=4.0, est=4.272719114284056, details={'was_impossible': False}),\n",
       " Prediction(uid=305.0, iid=133419, r_ui=3.5, est=3.632099660526154, details={'was_impossible': False}),\n",
       " Prediction(uid=232.0, iid=6564, r_ui=3.0, est=2.906620488780223, details={'was_impossible': False}),\n",
       " Prediction(uid=232.0, iid=57669, r_ui=3.5, est=3.9492916272365473, details={'was_impossible': False}),\n",
       " Prediction(uid=448.0, iid=3791, r_ui=3.0, est=3.018100520914267, details={'was_impossible': False}),\n",
       " Prediction(uid=18.0, iid=500, r_ui=3.5, est=3.3334649401655425, details={'was_impossible': False}),\n",
       " Prediction(uid=265.0, iid=1240, r_ui=5.0, est=3.972040350764741, details={'was_impossible': False}),\n",
       " Prediction(uid=160.0, iid=158, r_ui=3.0, est=2.488624177291246, details={'was_impossible': False}),\n",
       " Prediction(uid=132.0, iid=337, r_ui=3.0, est=3.0297068490161627, details={'was_impossible': False}),\n",
       " Prediction(uid=489.0, iid=485, r_ui=2.5, est=2.5189933541209184, details={'was_impossible': False}),\n",
       " Prediction(uid=51.0, iid=1267, r_ui=4.0, est=4.432216663283208, details={'was_impossible': False}),\n",
       " Prediction(uid=377.0, iid=1215, r_ui=5.0, est=4.23039293591963, details={'was_impossible': False}),\n",
       " Prediction(uid=412.0, iid=2150, r_ui=4.0, est=3.9456914817046136, details={'was_impossible': False}),\n",
       " Prediction(uid=7.0, iid=1610, r_ui=4.0, est=4.042856838769867, details={'was_impossible': False}),\n",
       " Prediction(uid=141.0, iid=2959, r_ui=5.0, est=3.8860331462858215, details={'was_impossible': False}),\n",
       " Prediction(uid=474.0, iid=50068, r_ui=3.5, est=3.7371274969962465, details={'was_impossible': False}),\n",
       " Prediction(uid=521.0, iid=36, r_ui=4.0, est=3.8780993694469283, details={'was_impossible': False}),\n",
       " Prediction(uid=448.0, iid=152083, r_ui=3.0, est=3.048904776439897, details={'was_impossible': False}),\n",
       " Prediction(uid=199.0, iid=1356, r_ui=3.5, est=3.4568883225059155, details={'was_impossible': False}),\n",
       " Prediction(uid=219.0, iid=6188, r_ui=2.5, est=2.884259194845158, details={'was_impossible': False}),\n",
       " Prediction(uid=252.0, iid=98491, r_ui=5.0, est=4.48715761176404, details={'was_impossible': False}),\n",
       " Prediction(uid=489.0, iid=5313, r_ui=3.0, est=2.6316302555159643, details={'was_impossible': False}),\n",
       " Prediction(uid=453.0, iid=2997, r_ui=5.0, est=4.5393802066471975, details={'was_impossible': False}),\n",
       " Prediction(uid=290.0, iid=1957, r_ui=4.0, est=4.38872267020504, details={'was_impossible': False}),\n",
       " Prediction(uid=313.0, iid=2664, r_ui=3.0, est=3.197313833544387, details={'was_impossible': False}),\n",
       " Prediction(uid=607.0, iid=2000, r_ui=5.0, est=4.376560872593831, details={'was_impossible': False}),\n",
       " Prediction(uid=540.0, iid=260, r_ui=5.0, est=4.835404524075083, details={'was_impossible': False}),\n",
       " Prediction(uid=292.0, iid=102407, r_ui=2.0, est=2.7393630214409312, details={'was_impossible': False}),\n",
       " Prediction(uid=482.0, iid=1961, r_ui=3.0, est=3.4515164786253028, details={'was_impossible': False}),\n",
       " Prediction(uid=603.0, iid=3732, r_ui=4.0, est=3.645897963148455, details={'was_impossible': False}),\n",
       " Prediction(uid=19.0, iid=3825, r_ui=3.0, est=2.0233466233875737, details={'was_impossible': False}),\n",
       " Prediction(uid=283.0, iid=1500, r_ui=2.0, est=2.6198501203125457, details={'was_impossible': False}),\n",
       " Prediction(uid=493.0, iid=2366, r_ui=2.0, est=2.640161775202226, details={'was_impossible': False}),\n",
       " Prediction(uid=105.0, iid=68237, r_ui=3.5, est=4.007500703278022, details={'was_impossible': False}),\n",
       " Prediction(uid=290.0, iid=2384, r_ui=3.0, est=3.1125681603072053, details={'was_impossible': False}),\n",
       " Prediction(uid=325.0, iid=1028, r_ui=4.0, est=3.906474236014235, details={'was_impossible': False}),\n",
       " Prediction(uid=212.0, iid=30707, r_ui=4.0, est=3.7728715730654256, details={'was_impossible': False}),\n",
       " Prediction(uid=577.0, iid=1968, r_ui=3.0, est=3.569645106162338, details={'was_impossible': False}),\n",
       " Prediction(uid=29.0, iid=1100, r_ui=3.5, est=3.228489928690721, details={'was_impossible': False}),\n",
       " Prediction(uid=489.0, iid=1270, r_ui=3.5, est=3.6979927010047384, details={'was_impossible': False}),\n",
       " Prediction(uid=249.0, iid=1500, r_ui=4.0, est=3.771912489195602, details={'was_impossible': False}),\n",
       " Prediction(uid=244.0, iid=1480, r_ui=4.0, est=3.9030440189148616, details={'was_impossible': False}),\n",
       " Prediction(uid=599.0, iid=84523, r_ui=3.0, est=2.867110299927652, details={'was_impossible': False}),\n",
       " Prediction(uid=168.0, iid=3334, r_ui=4.5, est=4.484171356150175, details={'was_impossible': False}),\n",
       " Prediction(uid=448.0, iid=94896, r_ui=3.0, est=3.1623302684788595, details={'was_impossible': False}),\n",
       " Prediction(uid=117.0, iid=10, r_ui=3.0, est=3.2628403456460386, details={'was_impossible': False}),\n",
       " Prediction(uid=318.0, iid=4995, r_ui=3.5, est=4.129816461127179, details={'was_impossible': False}),\n",
       " Prediction(uid=368.0, iid=1291, r_ui=2.0, est=3.2887292090091105, details={'was_impossible': False}),\n",
       " Prediction(uid=305.0, iid=3300, r_ui=3.0, est=3.7468658112894127, details={'was_impossible': False}),\n",
       " Prediction(uid=307.0, iid=2288, r_ui=4.0, est=3.79248114154742, details={'was_impossible': False}),\n",
       " Prediction(uid=307.0, iid=3255, r_ui=2.5, est=2.619567234162664, details={'was_impossible': False}),\n",
       " Prediction(uid=10.0, iid=98203, r_ui=3.0, est=1.9048944516136157, details={'was_impossible': False}),\n",
       " Prediction(uid=105.0, iid=129514, r_ui=5.0, est=3.861213948759283, details={'was_impossible': False}),\n",
       " Prediction(uid=479.0, iid=5378, r_ui=1.0, est=2.1126567918180728, details={'was_impossible': False}),\n",
       " Prediction(uid=599.0, iid=2880, r_ui=2.5, est=2.6182957595628706, details={'was_impossible': False}),\n",
       " Prediction(uid=380.0, iid=6350, r_ui=5.0, est=4.716830523764604, details={'was_impossible': False}),\n",
       " Prediction(uid=42.0, iid=3882, r_ui=2.0, est=2.379555000297142, details={'was_impossible': False}),\n",
       " Prediction(uid=29.0, iid=5010, r_ui=4.0, est=4.135242681187784, details={'was_impossible': False}),\n",
       " Prediction(uid=160.0, iid=4055, r_ui=5.0, est=4.820384251789997, details={'was_impossible': False}),\n",
       " Prediction(uid=6.0, iid=8, r_ui=3.0, est=3.24024913313421, details={'was_impossible': False}),\n",
       " Prediction(uid=462.0, iid=83827, r_ui=5.0, est=4.76329363116318, details={'was_impossible': False}),\n",
       " Prediction(uid=600.0, iid=216, r_ui=3.0, est=3.2133841425043164, details={'was_impossible': False}),\n",
       " Prediction(uid=91.0, iid=2518, r_ui=2.5, est=2.898717521827029, details={'was_impossible': False}),\n",
       " Prediction(uid=111.0, iid=6952, r_ui=0.5, est=3.0227025242678818, details={'was_impossible': False}),\n",
       " Prediction(uid=274.0, iid=45447, r_ui=3.0, est=2.8317040531653657, details={'was_impossible': False}),\n",
       " Prediction(uid=82.0, iid=6687, r_ui=4.0, est=2.5277397860708875, details={'was_impossible': False}),\n",
       " Prediction(uid=122.0, iid=115617, r_ui=4.0, est=4.382702417371285, details={'was_impossible': False}),\n",
       " Prediction(uid=561.0, iid=5500, r_ui=4.0, est=3.989048831796311, details={'was_impossible': False}),\n",
       " Prediction(uid=572.0, iid=1834, r_ui=4.0, est=4.04504017326171, details={'was_impossible': False}),\n",
       " Prediction(uid=89.0, iid=140481, r_ui=4.5, est=3.3458706291181106, details={'was_impossible': False}),\n",
       " Prediction(uid=217.0, iid=1201, r_ui=1.0, est=2.8458005366756556, details={'was_impossible': False}),\n",
       " Prediction(uid=16.0, iid=1201, r_ui=3.0, est=3.706456087047396, details={'was_impossible': False}),\n",
       " Prediction(uid=328.0, iid=80463, r_ui=1.0, est=3.358617643845317, details={'was_impossible': False}),\n",
       " Prediction(uid=590.0, iid=1219, r_ui=5.0, est=3.9557871057541476, details={'was_impossible': False}),\n",
       " Prediction(uid=489.0, iid=481, r_ui=1.5, est=2.2728524459934127, details={'was_impossible': False}),\n",
       " Prediction(uid=41.0, iid=59900, r_ui=2.5, est=2.413033106181192, details={'was_impossible': False}),\n",
       " Prediction(uid=411.0, iid=368, r_ui=4.0, est=3.614560818252234, details={'was_impossible': False}),\n",
       " Prediction(uid=42.0, iid=350, r_ui=4.0, est=3.701460795079983, details={'was_impossible': False}),\n",
       " Prediction(uid=19.0, iid=2255, r_ui=2.0, est=1.97865286964891, details={'was_impossible': False}),\n",
       " Prediction(uid=29.0, iid=2761, r_ui=3.5, est=3.9139958450079435, details={'was_impossible': False}),\n",
       " Prediction(uid=606.0, iid=29, r_ui=4.5, est=3.9957661962778728, details={'was_impossible': False}),\n",
       " Prediction(uid=368.0, iid=2001, r_ui=3.0, est=2.7319843677150444, details={'was_impossible': False}),\n",
       " Prediction(uid=328.0, iid=111781, r_ui=3.5, est=2.9885066847358384, details={'was_impossible': False}),\n",
       " Prediction(uid=607.0, iid=2028, r_ui=5.0, est=4.389890480138458, details={'was_impossible': False}),\n",
       " Prediction(uid=249.0, iid=60072, r_ui=4.5, est=3.54492547567143, details={'was_impossible': False}),\n",
       " Prediction(uid=84.0, iid=34, r_ui=4.0, est=3.752258402088427, details={'was_impossible': False}),\n",
       " Prediction(uid=184.0, iid=159817, r_ui=5.0, est=4.766979973977308, details={'was_impossible': False}),\n",
       " Prediction(uid=477.0, iid=1222, r_ui=5.0, est=4.386782992645898, details={'was_impossible': False}),\n",
       " Prediction(uid=337.0, iid=637, r_ui=4.0, est=3.8742110308668023, details={'was_impossible': False}),\n",
       " Prediction(uid=474.0, iid=3893, r_ui=3.0, est=3.3168177199766387, details={'was_impossible': False}),\n",
       " Prediction(uid=177.0, iid=246, r_ui=3.0, est=3.555981869603463, details={'was_impossible': False}),\n",
       " Prediction(uid=169.0, iid=4639, r_ui=4.5, est=3.7238995930912777, details={'was_impossible': False}),\n",
       " Prediction(uid=599.0, iid=5991, r_ui=2.0, est=2.786153955637221, details={'was_impossible': False}),\n",
       " Prediction(uid=280.0, iid=69757, r_ui=4.0, est=3.9017477319983915, details={'was_impossible': False}),\n",
       " Prediction(uid=2.0, iid=114060, r_ui=2.0, est=2.4811704715283667, details={'was_impossible': False}),\n",
       " Prediction(uid=68.0, iid=49286, r_ui=4.0, est=3.232936121492494, details={'was_impossible': False}),\n",
       " Prediction(uid=282.0, iid=5669, r_ui=4.0, est=4.005751554097558, details={'was_impossible': False}),\n",
       " Prediction(uid=105.0, iid=7063, r_ui=3.5, est=4.015312103372558, details={'was_impossible': False}),\n",
       " Prediction(uid=274.0, iid=36401, r_ui=1.0, est=2.323890730903662, details={'was_impossible': False}),\n",
       " Prediction(uid=89.0, iid=102747, r_ui=3.5, est=3.445406786584415, details={'was_impossible': False}),\n",
       " Prediction(uid=464.0, iid=7007, r_ui=4.0, est=3.857545547117834, details={'was_impossible': False}),\n",
       " Prediction(uid=253.0, iid=3083, r_ui=5.0, est=4.314156331971359, details={'was_impossible': False}),\n",
       " Prediction(uid=95.0, iid=3793, r_ui=4.0, est=3.9897184621389075, details={'was_impossible': False}),\n",
       " Prediction(uid=560.0, iid=3408, r_ui=3.5, est=3.389518187352692, details={'was_impossible': False}),\n",
       " Prediction(uid=51.0, iid=2942, r_ui=2.0, est=3.383762925808189, details={'was_impossible': False}),\n",
       " Prediction(uid=486.0, iid=293, r_ui=5.0, est=4.741553187617347, details={'was_impossible': False}),\n",
       " Prediction(uid=197.0, iid=153, r_ui=2.0, est=2.5149377497168643, details={'was_impossible': False}),\n",
       " Prediction(uid=559.0, iid=165, r_ui=3.0, est=3.4167851902582425, details={'was_impossible': False}),\n",
       " Prediction(uid=221.0, iid=2248, r_ui=4.0, est=4.02086320712465, details={'was_impossible': False}),\n",
       " Prediction(uid=95.0, iid=6534, r_ui=3.5, est=3.247183820615164, details={'was_impossible': False}),\n",
       " Prediction(uid=534.0, iid=122886, r_ui=3.5, est=3.9097645883018717, details={'was_impossible': False}),\n",
       " Prediction(uid=517.0, iid=4361, r_ui=1.0, est=1.6420411157859949, details={'was_impossible': False}),\n",
       " Prediction(uid=393.0, iid=4022, r_ui=5.0, est=4.3174862471623685, details={'was_impossible': False}),\n",
       " Prediction(uid=346.0, iid=1172, r_ui=3.0, est=3.564240684322863, details={'was_impossible': False}),\n",
       " Prediction(uid=489.0, iid=41285, r_ui=4.0, est=3.679873259744506, details={'was_impossible': False}),\n",
       " Prediction(uid=105.0, iid=165959, r_ui=5.0, est=4.5233209668108545, details={'was_impossible': False}),\n",
       " Prediction(uid=307.0, iid=2712, r_ui=3.0, est=3.002868119527655, details={'was_impossible': False}),\n",
       " Prediction(uid=74.0, iid=3019, r_ui=4.0, est=4.283963948738609, details={'was_impossible': False}),\n",
       " Prediction(uid=288.0, iid=2535, r_ui=2.0, est=2.5960377442342075, details={'was_impossible': False}),\n",
       " Prediction(uid=405.0, iid=3676, r_ui=5.0, est=4.465476551821777, details={'was_impossible': False}),\n",
       " Prediction(uid=474.0, iid=2554, r_ui=3.5, est=3.525402290969493, details={'was_impossible': False}),\n",
       " Prediction(uid=601.0, iid=1197, r_ui=5.0, est=4.433508041536683, details={'was_impossible': False}),\n",
       " Prediction(uid=275.0, iid=215, r_ui=5.0, est=4.6132253417093185, details={'was_impossible': False}),\n",
       " Prediction(uid=517.0, iid=105504, r_ui=3.0, est=2.9816922118154787, details={'was_impossible': False}),\n",
       " Prediction(uid=121.0, iid=237, r_ui=4.0, est=3.545848598115718, details={'was_impossible': False}),\n",
       " Prediction(uid=169.0, iid=2791, r_ui=4.5, est=4.343411602178979, details={'was_impossible': False}),\n",
       " Prediction(uid=318.0, iid=5617, r_ui=4.5, est=3.9958148227512162, details={'was_impossible': False}),\n",
       " Prediction(uid=217.0, iid=22, r_ui=3.0, est=2.9992723677564084, details={'was_impossible': False}),\n",
       " Prediction(uid=514.0, iid=1200, r_ui=5.0, est=4.002116485659783, details={'was_impossible': False}),\n",
       " Prediction(uid=51.0, iid=1249, r_ui=5.0, est=4.814890510795511, details={'was_impossible': False}),\n",
       " Prediction(uid=474.0, iid=1222, r_ui=4.0, est=3.7241524381906075, details={'was_impossible': False}),\n",
       " Prediction(uid=39.0, iid=1027, r_ui=4.0, est=3.6729767567006197, details={'was_impossible': False}),\n",
       " Prediction(uid=603.0, iid=3091, r_ui=4.0, est=3.8328537506125437, details={'was_impossible': False}),\n",
       " Prediction(uid=298.0, iid=6213, r_ui=0.5, est=1.183937463176112, details={'was_impossible': False}),\n",
       " Prediction(uid=9.0, iid=3328, r_ui=3.0, est=3.750669670356794, details={'was_impossible': False}),\n",
       " Prediction(uid=564.0, iid=96079, r_ui=3.0, est=3.4287877050957, details={'was_impossible': False}),\n",
       " Prediction(uid=105.0, iid=3275, r_ui=4.5, est=4.639804139185757, details={'was_impossible': False}),\n",
       " Prediction(uid=599.0, iid=3752, r_ui=1.5, est=2.3650022970513103, details={'was_impossible': False}),\n",
       " Prediction(uid=554.0, iid=2282, r_ui=5.0, est=4.824847389549475, details={'was_impossible': False}),\n",
       " Prediction(uid=118.0, iid=590, r_ui=4.0, est=3.8147685471829424, details={'was_impossible': False}),\n",
       " Prediction(uid=372.0, iid=555, r_ui=4.0, est=3.702171414461898, details={'was_impossible': False}),\n",
       " Prediction(uid=318.0, iid=3424, r_ui=3.5, est=4.090695162663535, details={'was_impossible': False}),\n",
       " Prediction(uid=316.0, iid=3968, r_ui=2.5, est=2.661453381804638, details={'was_impossible': False}),\n",
       " Prediction(uid=458.0, iid=296, r_ui=4.0, est=4.136188956977334, details={'was_impossible': False}),\n",
       " Prediction(uid=89.0, iid=4701, r_ui=4.0, est=3.654318991350595, details={'was_impossible': False}),\n",
       " Prediction(uid=145.0, iid=344, r_ui=2.0, est=2.566758378138109, details={'was_impossible': False}),\n",
       " Prediction(uid=1.0, iid=2470, r_ui=5.0, est=4.303355218307422, details={'was_impossible': False}),\n",
       " Prediction(uid=305.0, iid=111759, r_ui=3.5, est=3.7689136939223316, details={'was_impossible': False}),\n",
       " Prediction(uid=89.0, iid=157775, r_ui=5.0, est=3.3458706291181106, details={'was_impossible': False}),\n",
       " Prediction(uid=488.0, iid=3996, r_ui=4.5, est=4.255333617300678, details={'was_impossible': False}),\n",
       " Prediction(uid=306.0, iid=97913, r_ui=4.0, est=3.679167150125667, details={'was_impossible': False}),\n",
       " Prediction(uid=380.0, iid=110, r_ui=4.0, est=4.303270944799282, details={'was_impossible': False}),\n",
       " Prediction(uid=249.0, iid=296, r_ui=4.0, est=4.2722286869423565, details={'was_impossible': False}),\n",
       " Prediction(uid=254.0, iid=648, r_ui=3.5, est=3.3903855806792573, details={'was_impossible': False}),\n",
       " Prediction(uid=593.0, iid=3408, r_ui=4.0, est=3.5475163190273493, details={'was_impossible': False}),\n",
       " Prediction(uid=428.0, iid=4745, r_ui=4.0, est=3.4212744040535163, details={'was_impossible': False}),\n",
       " Prediction(uid=522.0, iid=2329, r_ui=4.5, est=4.42345648115301, details={'was_impossible': False}),\n",
       " Prediction(uid=352.0, iid=54286, r_ui=3.0, est=3.814439249039171, details={'was_impossible': False}),\n",
       " Prediction(uid=301.0, iid=1307, r_ui=4.0, est=3.823668453332063, details={'was_impossible': False}),\n",
       " Prediction(uid=414.0, iid=53121, r_ui=3.0, est=3.161418513670106, details={'was_impossible': False}),\n",
       " Prediction(uid=232.0, iid=6365, r_ui=4.0, est=3.5101459722163555, details={'was_impossible': False}),\n",
       " Prediction(uid=209.0, iid=64614, r_ui=4.5, est=4.350702896864417, details={'was_impossible': False}),\n",
       " Prediction(uid=274.0, iid=34162, r_ui=2.5, est=3.247571961045073, details={'was_impossible': False}),\n",
       " Prediction(uid=491.0, iid=49286, r_ui=4.5, est=3.801568000416907, details={'was_impossible': False}),\n",
       " Prediction(uid=536.0, iid=261, r_ui=5.0, est=4.5087835815712, details={'was_impossible': False}),\n",
       " Prediction(uid=6.0, iid=88, r_ui=2.0, est=2.8580647189918986, details={'was_impossible': False}),\n",
       " Prediction(uid=177.0, iid=33794, r_ui=4.0, est=3.632943860718173, details={'was_impossible': False}),\n",
       " Prediction(uid=73.0, iid=134393, r_ui=3.5, est=3.6786767646977836, details={'was_impossible': False}),\n",
       " Prediction(uid=68.0, iid=71579, r_ui=3.5, est=3.6197442094116288, details={'was_impossible': False}),\n",
       " Prediction(uid=352.0, iid=83134, r_ui=4.0, est=4.068864086547541, details={'was_impossible': False}),\n",
       " Prediction(uid=363.0, iid=4993, r_ui=3.0, est=3.267059405492275, details={'was_impossible': False}),\n",
       " Prediction(uid=294.0, iid=3263, r_ui=1.0, est=1.8584525715176357, details={'was_impossible': False}),\n",
       " Prediction(uid=290.0, iid=25, r_ui=4.0, est=3.928911637820394, details={'was_impossible': False}),\n",
       " Prediction(uid=606.0, iid=97225, r_ui=3.5, est=3.6074546541482615, details={'was_impossible': False}),\n",
       " Prediction(uid=63.0, iid=4022, r_ui=3.0, est=3.289437845875387, details={'was_impossible': False}),\n",
       " Prediction(uid=570.0, iid=165, r_ui=4.0, est=3.4065378430591093, details={'was_impossible': False}),\n",
       " Prediction(uid=352.0, iid=296, r_ui=5.0, est=4.254158496052837, details={'was_impossible': False}),\n",
       " Prediction(uid=391.0, iid=3967, r_ui=1.0, est=4.096716407611156, details={'was_impossible': False}),\n",
       " Prediction(uid=462.0, iid=6611, r_ui=5.0, est=4.704079844372848, details={'was_impossible': False}),\n",
       " Prediction(uid=603.0, iid=346, r_ui=4.0, est=3.7019662707530685, details={'was_impossible': False}),\n",
       " Prediction(uid=603.0, iid=3983, r_ui=3.0, est=4.216858166809568, details={'was_impossible': False}),\n",
       " Prediction(uid=596.0, iid=122920, r_ui=3.5, est=3.573478964401552, details={'was_impossible': False}),\n",
       " Prediction(uid=482.0, iid=30825, r_ui=4.0, est=3.9977376841929844, details={'was_impossible': False}),\n",
       " Prediction(uid=64.0, iid=377, r_ui=3.0, est=3.699605154132166, details={'was_impossible': False}),\n",
       " Prediction(uid=376.0, iid=19, r_ui=2.0, est=2.807187264139399, details={'was_impossible': False}),\n",
       " Prediction(uid=369.0, iid=2859, r_ui=3.0, est=3.3686047267430426, details={'was_impossible': False}),\n",
       " Prediction(uid=219.0, iid=2763, r_ui=3.5, est=3.202802521304901, details={'was_impossible': False}),\n",
       " Prediction(uid=242.0, iid=32, r_ui=5.0, est=4.616509776907767, details={'was_impossible': False}),\n",
       " Prediction(uid=474.0, iid=55687, r_ui=4.5, est=4.032569046018912, details={'was_impossible': False}),\n",
       " Prediction(uid=182.0, iid=4308, r_ui=4.0, est=3.206686165055295, details={'was_impossible': False}),\n",
       " Prediction(uid=510.0, iid=39292, r_ui=3.0, est=3.097107502239536, details={'was_impossible': False}),\n",
       " Prediction(uid=6.0, iid=270, r_ui=3.0, est=3.264910333934403, details={'was_impossible': False}),\n",
       " Prediction(uid=216.0, iid=1256, r_ui=3.0, est=3.4170560547470217, details={'was_impossible': False}),\n",
       " Prediction(uid=160.0, iid=2827, r_ui=1.0, est=1.2489905788670934, details={'was_impossible': False}),\n",
       " Prediction(uid=448.0, iid=59900, r_ui=2.0, est=2.3159843110352876, details={'was_impossible': False}),\n",
       " Prediction(uid=534.0, iid=8874, r_ui=4.5, est=4.214157361806013, details={'was_impossible': False}),\n",
       " Prediction(uid=232.0, iid=6879, r_ui=4.0, est=3.6122325899293006, details={'was_impossible': False}),\n",
       " Prediction(uid=334.0, iid=4963, r_ui=3.5, est=3.3635078286034603, details={'was_impossible': False}),\n",
       " Prediction(uid=438.0, iid=4167, r_ui=3.5, est=3.3454843353307284, details={'was_impossible': False}),\n",
       " Prediction(uid=294.0, iid=2352, r_ui=4.0, est=3.7649525638863, details={'was_impossible': False}),\n",
       " Prediction(uid=562.0, iid=3897, r_ui=4.0, est=4.2040890399417785, details={'was_impossible': False}),\n",
       " Prediction(uid=603.0, iid=2023, r_ui=2.0, est=2.727800852560176, details={'was_impossible': False}),\n",
       " Prediction(uid=438.0, iid=6992, r_ui=3.5, est=3.3176761084047315, details={'was_impossible': False}),\n",
       " Prediction(uid=355.0, iid=1721, r_ui=4.0, est=3.8507816542009494, details={'was_impossible': False}),\n",
       " Prediction(uid=398.0, iid=26631, r_ui=4.5, est=3.8295705114017173, details={'was_impossible': False}),\n",
       " Prediction(uid=474.0, iid=4138, r_ui=1.0, est=2.3910663506515606, details={'was_impossible': False}),\n",
       " Prediction(uid=555.0, iid=3698, r_ui=5.0, est=4.242165864241966, details={'was_impossible': False}),\n",
       " Prediction(uid=290.0, iid=341, r_ui=4.0, est=3.968860498058607, details={'was_impossible': False}),\n",
       " Prediction(uid=328.0, iid=35836, r_ui=4.5, est=3.9015432892975332, details={'was_impossible': False}),\n",
       " Prediction(uid=600.0, iid=2936, r_ui=5.0, est=4.5315071722127005, details={'was_impossible': False}),\n",
       " Prediction(uid=305.0, iid=49347, r_ui=3.0, est=3.574421159615521, details={'was_impossible': False}),\n",
       " Prediction(uid=555.0, iid=1518, r_ui=1.0, est=2.2967492138675523, details={'was_impossible': False}),\n",
       " Prediction(uid=503.0, iid=3545, r_ui=3.0, est=2.9291869657251763, details={'was_impossible': False}),\n",
       " Prediction(uid=474.0, iid=919, r_ui=4.5, est=3.7893684808174095, details={'was_impossible': False}),\n",
       " Prediction(uid=288.0, iid=2313, r_ui=3.0, est=3.6046624816941937, details={'was_impossible': False}),\n",
       " Prediction(uid=382.0, iid=100737, r_ui=3.5, est=3.5784049144051195, details={'was_impossible': False}),\n",
       " Prediction(uid=307.0, iid=2248, r_ui=2.5, est=2.8922582607521825, details={'was_impossible': False}),\n",
       " Prediction(uid=274.0, iid=35836, r_ui=3.0, est=3.4549219943852325, details={'was_impossible': False}),\n",
       " Prediction(uid=469.0, iid=2550, r_ui=5.0, est=3.416415725680378, details={'was_impossible': False}),\n",
       " Prediction(uid=368.0, iid=376, r_ui=3.0, est=2.5287629091903048, details={'was_impossible': False}),\n",
       " Prediction(uid=440.0, iid=1093, r_ui=3.0, est=3.316314070300028, details={'was_impossible': False}),\n",
       " Prediction(uid=509.0, iid=69406, r_ui=2.5, est=2.9046877276682546, details={'was_impossible': False}),\n",
       " Prediction(uid=135.0, iid=1732, r_ui=4.0, est=3.973745509825644, details={'was_impossible': False}),\n",
       " Prediction(uid=66.0, iid=5957, r_ui=4.0, est=3.6460387311004085, details={'was_impossible': False}),\n",
       " Prediction(uid=292.0, iid=349, r_ui=4.0, est=3.6219440954684576, details={'was_impossible': False}),\n",
       " Prediction(uid=232.0, iid=3979, r_ui=2.5, est=2.7268892218851133, details={'was_impossible': False}),\n",
       " Prediction(uid=45.0, iid=54286, r_ui=4.5, est=3.9600789551546516, details={'was_impossible': False}),\n",
       " Prediction(uid=17.0, iid=2571, r_ui=5.0, est=4.58272798995854, details={'was_impossible': False}),\n",
       " Prediction(uid=10.0, iid=97024, r_ui=0.5, est=3.103929444138873, details={'was_impossible': False}),\n",
       " Prediction(uid=227.0, iid=8638, r_ui=4.0, est=4.028703689324947, details={'was_impossible': False}),\n",
       " ...]"
      ]
     },
     "execution_count": 121,
     "metadata": {},
     "output_type": "execute_result"
    }
   ],
   "source": [
    "model.test(testset)"
   ]
  },
  {
   "cell_type": "code",
   "execution_count": null,
   "metadata": {},
   "outputs": [],
   "source": []
  },
  {
   "cell_type": "markdown",
   "metadata": {},
   "source": [
    "## Deployment "
   ]
  },
  {
   "cell_type": "code",
   "execution_count": null,
   "metadata": {
    "ExecuteTime": {
     "end_time": "2022-05-11T00:11:54.611519Z",
     "start_time": "2022-05-11T00:11:53.825451Z"
    }
   },
   "outputs": [],
   "source": [
    "train['est_rating_user10'] = train['movieId'].apply(lambda x: model3.predict(train.userId[10], x).est)\n",
    "train.sort_values(by='est_rating_user10', ascending=False, inplace=True)"
   ]
  },
  {
   "cell_type": "code",
   "execution_count": null,
   "metadata": {
    "ExecuteTime": {
     "end_time": "2022-05-11T00:11:55.447739Z",
     "start_time": "2022-05-11T00:11:55.424036Z"
    }
   },
   "outputs": [],
   "source": [
    "train"
   ]
  },
  {
   "cell_type": "code",
   "execution_count": null,
   "metadata": {
    "ExecuteTime": {
     "end_time": "2022-05-11T00:11:57.312013Z",
     "start_time": "2022-05-11T00:11:56.435466Z"
    }
   },
   "outputs": [],
   "source": [
    "user = input('userId: ')\n",
    "genre = input('What genres are you interested in? ')\n",
    "num_recs = input('How many recomendations would you like? ')"
   ]
  },
  {
   "cell_type": "code",
   "execution_count": null,
   "metadata": {
    "ExecuteTime": {
     "end_time": "2022-05-11T00:11:57.555147Z",
     "start_time": "2022-05-11T00:11:57.516300Z"
    }
   },
   "outputs": [],
   "source": [
    "train.info()"
   ]
  },
  {
   "cell_type": "code",
   "execution_count": null,
   "metadata": {
    "ExecuteTime": {
     "end_time": "2022-05-11T00:11:57.698563Z",
     "start_time": "2022-05-11T00:11:57.691831Z"
    }
   },
   "outputs": [],
   "source": [
    "genre"
   ]
  },
  {
   "cell_type": "code",
   "execution_count": null,
   "metadata": {
    "ExecuteTime": {
     "end_time": "2022-05-11T00:11:57.928618Z",
     "start_time": "2022-05-11T00:11:57.874059Z"
    },
    "scrolled": true
   },
   "outputs": [],
   "source": [
    "genre_df = train[train['genres'].str.contains(genre)]"
   ]
  },
  {
   "cell_type": "code",
   "execution_count": null,
   "metadata": {
    "ExecuteTime": {
     "end_time": "2022-05-11T00:11:58.084051Z",
     "start_time": "2022-05-11T00:11:58.072828Z"
    }
   },
   "outputs": [],
   "source": [
    "genre_df"
   ]
  },
  {
   "cell_type": "code",
   "execution_count": null,
   "metadata": {
    "ExecuteTime": {
     "end_time": "2022-05-11T00:11:58.568010Z",
     "start_time": "2022-05-11T00:11:58.300158Z"
    }
   },
   "outputs": [],
   "source": [
    "movies['est_rating_user10'] = train['movieId'].apply(lambda x: model3.predict(uid=user, iid=x).est)\n",
    "movies.sort_values(by='est_rating_user10', ascending=False, inplace=True) "
   ]
  },
  {
   "cell_type": "code",
   "execution_count": null,
   "metadata": {
    "ExecuteTime": {
     "end_time": "2022-05-11T00:11:58.609164Z",
     "start_time": "2022-05-11T00:11:58.601670Z"
    }
   },
   "outputs": [],
   "source": [
    "movies #['Title'].head(int(num_recs))"
   ]
  },
  {
   "cell_type": "code",
   "execution_count": null,
   "metadata": {
    "ExecuteTime": {
     "end_time": "2022-05-11T00:11:58.686395Z",
     "start_time": "2022-05-11T00:11:58.681908Z"
    }
   },
   "outputs": [],
   "source": [
    "movies['est_rating_user10'].value_counts()"
   ]
  },
  {
   "cell_type": "code",
   "execution_count": null,
   "metadata": {
    "ExecuteTime": {
     "end_time": "2022-05-11T00:11:58.888989Z",
     "start_time": "2022-05-11T00:11:58.882290Z"
    },
    "scrolled": true
   },
   "outputs": [],
   "source": [
    "movies['Title'].head(int(num_recs))"
   ]
  },
  {
   "cell_type": "code",
   "execution_count": null,
   "metadata": {
    "ExecuteTime": {
     "end_time": "2022-05-11T00:11:59.077394Z",
     "start_time": "2022-05-11T00:11:59.067823Z"
    }
   },
   "outputs": [],
   "source": [
    "movie_rating"
   ]
  },
  {
   "cell_type": "markdown",
   "metadata": {},
   "source": [
    "## Deployment 2.0"
   ]
  },
  {
   "cell_type": "code",
   "execution_count": null,
   "metadata": {
    "ExecuteTime": {
     "end_time": "2022-05-11T00:12:00.438652Z",
     "start_time": "2022-05-11T00:11:59.834178Z"
    }
   },
   "outputs": [],
   "source": [
    "user = input('userId: ')\n",
    "genre = input('What genres are you interested in? ')\n",
    "num_recs = input('How many recomendations would you like? ')"
   ]
  },
  {
   "cell_type": "code",
   "execution_count": null,
   "metadata": {
    "ExecuteTime": {
     "end_time": "2022-05-11T00:12:00.638255Z",
     "start_time": "2022-05-11T00:12:00.616496Z"
    }
   },
   "outputs": [],
   "source": [
    "df_user = rating_review.reset_index('userId')\n",
    "df_user.drop(columns=['Title', 'year_released', 'timestamp', 'genres', ], inplace=True)\n",
    "df_user.head()"
   ]
  },
  {
   "cell_type": "code",
   "execution_count": null,
   "metadata": {},
   "outputs": [],
   "source": []
  },
  {
   "cell_type": "code",
   "execution_count": null,
   "metadata": {},
   "outputs": [],
   "source": []
  },
  {
   "cell_type": "code",
   "execution_count": null,
   "metadata": {},
   "outputs": [],
   "source": []
  },
  {
   "cell_type": "code",
   "execution_count": null,
   "metadata": {},
   "outputs": [],
   "source": []
  },
  {
   "cell_type": "code",
   "execution_count": null,
   "metadata": {
    "ExecuteTime": {
     "end_time": "2022-05-11T00:12:01.764231Z",
     "start_time": "2022-05-11T00:12:01.744753Z"
    }
   },
   "outputs": [],
   "source": [
    "reader = Reader(rating_scale=(1, 5))\n",
    "full_data = Dataset.load_from_df(rating_review[['userId', 'movieId', 'rating']], reader)"
   ]
  },
  {
   "cell_type": "code",
   "execution_count": null,
   "metadata": {
    "ExecuteTime": {
     "end_time": "2022-05-11T00:12:01.964301Z",
     "start_time": "2022-05-11T00:12:01.947130Z"
    }
   },
   "outputs": [],
   "source": [
    "final_model.fit(full_data)"
   ]
  },
  {
   "cell_type": "code",
   "execution_count": null,
   "metadata": {
    "ExecuteTime": {
     "end_time": "2022-05-11T00:12:02.131849Z",
     "start_time": "2022-05-11T00:12:02.126267Z"
    }
   },
   "outputs": [],
   "source": [
    "#Function\n",
    "def Stuff():\n",
    "    user = input('userId: ')\n",
    "    genre = input('What genres are you interested in? ')\n",
    "    num_recs = input('How many recomendations would you like? ')\n",
    "    sub1 = user full_data['']\n",
    "\n",
    "\n",
    "\n",
    "\n",
    "\n"
   ]
  },
  {
   "cell_type": "code",
   "execution_count": null,
   "metadata": {},
   "outputs": [],
   "source": []
  },
  {
   "cell_type": "code",
   "execution_count": null,
   "metadata": {},
   "outputs": [],
   "source": []
  },
  {
   "cell_type": "code",
   "execution_count": null,
   "metadata": {},
   "outputs": [],
   "source": []
  },
  {
   "cell_type": "code",
   "execution_count": null,
   "metadata": {},
   "outputs": [],
   "source": []
  },
  {
   "cell_type": "code",
   "execution_count": null,
   "metadata": {},
   "outputs": [],
   "source": []
  }
 ],
 "metadata": {
  "kernelspec": {
   "display_name": "learn-env",
   "language": "python",
   "name": "learn-env"
  },
  "language_info": {
   "codemirror_mode": {
    "name": "ipython",
    "version": 3
   },
   "file_extension": ".py",
   "mimetype": "text/x-python",
   "name": "python",
   "nbconvert_exporter": "python",
   "pygments_lexer": "ipython3",
   "version": "3.8.5"
  },
  "toc": {
   "base_numbering": 1,
   "nav_menu": {},
   "number_sections": true,
   "sideBar": true,
   "skip_h1_title": false,
   "title_cell": "Table of Contents",
   "title_sidebar": "Contents",
   "toc_cell": false,
   "toc_position": {},
   "toc_section_display": true,
   "toc_window_display": false
  },
  "varInspector": {
   "cols": {
    "lenName": 16,
    "lenType": 16,
    "lenVar": 40
   },
   "kernels_config": {
    "python": {
     "delete_cmd_postfix": "",
     "delete_cmd_prefix": "del ",
     "library": "var_list.py",
     "varRefreshCmd": "print(var_dic_list())"
    },
    "r": {
     "delete_cmd_postfix": ") ",
     "delete_cmd_prefix": "rm(",
     "library": "var_list.r",
     "varRefreshCmd": "cat(var_dic_list()) "
    }
   },
   "types_to_exclude": [
    "module",
    "function",
    "builtin_function_or_method",
    "instance",
    "_Feature"
   ],
   "window_display": false
  }
 },
 "nbformat": 4,
 "nbformat_minor": 5
}
