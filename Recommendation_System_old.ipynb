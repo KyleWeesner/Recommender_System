{
 "cells": [
  {
   "cell_type": "markdown",
   "id": "aea8c261",
   "metadata": {},
   "source": [
    "# Imports"
   ]
  },
  {
   "cell_type": "code",
   "execution_count": 1,
   "id": "d66f985f",
   "metadata": {
    "ExecuteTime": {
     "end_time": "2022-05-11T18:31:59.365549Z",
     "start_time": "2022-05-11T18:31:59.355413Z"
    }
   },
   "outputs": [],
   "source": [
    "import pandas as pd\n",
    "\n",
    "from surprise import Dataset, Reader, accuracy\n",
    "from surprise.model_selection import cross_validate,GridSearchCV\n",
    "from surprise.prediction_algorithms import SVD, SVDpp, NMF, BaselineOnly,\\\n",
    "                                            NormalPredictor, KNNBasic\n",
    "from sklearn.model_selection import train_test_split\n",
    "\n",
    "import matplotlib.pyplot as plt; plt.rcdefaults()\n",
    "import numpy as np\n",
    "import matplotlib.pyplot as plt"
   ]
  },
  {
   "cell_type": "markdown",
   "id": "cfc4b199",
   "metadata": {},
   "source": [
    "# EDA"
   ]
  },
  {
   "cell_type": "code",
   "execution_count": 2,
   "id": "a8c75183",
   "metadata": {
    "ExecuteTime": {
     "end_time": "2022-05-11T18:06:39.644916Z",
     "start_time": "2022-05-11T18:06:39.577529Z"
    }
   },
   "outputs": [],
   "source": [
    "movies = pd.read_csv('./data/movies.csv')\n",
    "rating = pd.read_csv('./data/ratings.csv')"
   ]
  },
  {
   "cell_type": "code",
   "execution_count": 3,
   "id": "a6ea5c61",
   "metadata": {
    "ExecuteTime": {
     "end_time": "2022-05-11T18:06:40.245685Z",
     "start_time": "2022-05-11T18:06:40.209611Z"
    }
   },
   "outputs": [
    {
     "data": {
      "text/html": [
       "<div>\n",
       "<style scoped>\n",
       "    .dataframe tbody tr th:only-of-type {\n",
       "        vertical-align: middle;\n",
       "    }\n",
       "\n",
       "    .dataframe tbody tr th {\n",
       "        vertical-align: top;\n",
       "    }\n",
       "\n",
       "    .dataframe thead th {\n",
       "        text-align: right;\n",
       "    }\n",
       "</style>\n",
       "<table border=\"1\" class=\"dataframe\">\n",
       "  <thead>\n",
       "    <tr style=\"text-align: right;\">\n",
       "      <th></th>\n",
       "      <th>movieId</th>\n",
       "      <th>title</th>\n",
       "      <th>genres</th>\n",
       "    </tr>\n",
       "  </thead>\n",
       "  <tbody>\n",
       "    <tr>\n",
       "      <th>0</th>\n",
       "      <td>1</td>\n",
       "      <td>Toy Story (1995)</td>\n",
       "      <td>Adventure|Animation|Children|Comedy|Fantasy</td>\n",
       "    </tr>\n",
       "    <tr>\n",
       "      <th>1</th>\n",
       "      <td>2</td>\n",
       "      <td>Jumanji (1995)</td>\n",
       "      <td>Adventure|Children|Fantasy</td>\n",
       "    </tr>\n",
       "    <tr>\n",
       "      <th>2</th>\n",
       "      <td>3</td>\n",
       "      <td>Grumpier Old Men (1995)</td>\n",
       "      <td>Comedy|Romance</td>\n",
       "    </tr>\n",
       "    <tr>\n",
       "      <th>3</th>\n",
       "      <td>4</td>\n",
       "      <td>Waiting to Exhale (1995)</td>\n",
       "      <td>Comedy|Drama|Romance</td>\n",
       "    </tr>\n",
       "    <tr>\n",
       "      <th>4</th>\n",
       "      <td>5</td>\n",
       "      <td>Father of the Bride Part II (1995)</td>\n",
       "      <td>Comedy</td>\n",
       "    </tr>\n",
       "    <tr>\n",
       "      <th>...</th>\n",
       "      <td>...</td>\n",
       "      <td>...</td>\n",
       "      <td>...</td>\n",
       "    </tr>\n",
       "    <tr>\n",
       "      <th>9737</th>\n",
       "      <td>193581</td>\n",
       "      <td>Black Butler: Book of the Atlantic (2017)</td>\n",
       "      <td>Action|Animation|Comedy|Fantasy</td>\n",
       "    </tr>\n",
       "    <tr>\n",
       "      <th>9738</th>\n",
       "      <td>193583</td>\n",
       "      <td>No Game No Life: Zero (2017)</td>\n",
       "      <td>Animation|Comedy|Fantasy</td>\n",
       "    </tr>\n",
       "    <tr>\n",
       "      <th>9739</th>\n",
       "      <td>193585</td>\n",
       "      <td>Flint (2017)</td>\n",
       "      <td>Drama</td>\n",
       "    </tr>\n",
       "    <tr>\n",
       "      <th>9740</th>\n",
       "      <td>193587</td>\n",
       "      <td>Bungo Stray Dogs: Dead Apple (2018)</td>\n",
       "      <td>Action|Animation</td>\n",
       "    </tr>\n",
       "    <tr>\n",
       "      <th>9741</th>\n",
       "      <td>193609</td>\n",
       "      <td>Andrew Dice Clay: Dice Rules (1991)</td>\n",
       "      <td>Comedy</td>\n",
       "    </tr>\n",
       "  </tbody>\n",
       "</table>\n",
       "<p>9742 rows × 3 columns</p>\n",
       "</div>"
      ],
      "text/plain": [
       "      movieId                                      title  \\\n",
       "0           1                           Toy Story (1995)   \n",
       "1           2                             Jumanji (1995)   \n",
       "2           3                    Grumpier Old Men (1995)   \n",
       "3           4                   Waiting to Exhale (1995)   \n",
       "4           5         Father of the Bride Part II (1995)   \n",
       "...       ...                                        ...   \n",
       "9737   193581  Black Butler: Book of the Atlantic (2017)   \n",
       "9738   193583               No Game No Life: Zero (2017)   \n",
       "9739   193585                               Flint (2017)   \n",
       "9740   193587        Bungo Stray Dogs: Dead Apple (2018)   \n",
       "9741   193609        Andrew Dice Clay: Dice Rules (1991)   \n",
       "\n",
       "                                           genres  \n",
       "0     Adventure|Animation|Children|Comedy|Fantasy  \n",
       "1                      Adventure|Children|Fantasy  \n",
       "2                                  Comedy|Romance  \n",
       "3                            Comedy|Drama|Romance  \n",
       "4                                          Comedy  \n",
       "...                                           ...  \n",
       "9737              Action|Animation|Comedy|Fantasy  \n",
       "9738                     Animation|Comedy|Fantasy  \n",
       "9739                                        Drama  \n",
       "9740                             Action|Animation  \n",
       "9741                                       Comedy  \n",
       "\n",
       "[9742 rows x 3 columns]"
      ]
     },
     "execution_count": 3,
     "metadata": {},
     "output_type": "execute_result"
    }
   ],
   "source": [
    "#looking at the movies df\n",
    "movies"
   ]
  },
  {
   "cell_type": "code",
   "execution_count": 4,
   "id": "d1ab2c6c",
   "metadata": {
    "ExecuteTime": {
     "end_time": "2022-05-11T18:06:40.460536Z",
     "start_time": "2022-05-11T18:06:40.444535Z"
    }
   },
   "outputs": [
    {
     "data": {
      "text/plain": [
       "movieId    0\n",
       "title      0\n",
       "genres     0\n",
       "dtype: int64"
      ]
     },
     "execution_count": 4,
     "metadata": {},
     "output_type": "execute_result"
    }
   ],
   "source": [
    "movies.isna().sum()"
   ]
  },
  {
   "cell_type": "code",
   "execution_count": 5,
   "id": "cf9c962d",
   "metadata": {
    "ExecuteTime": {
     "end_time": "2022-05-11T18:06:40.920420Z",
     "start_time": "2022-05-11T18:06:40.894986Z"
    }
   },
   "outputs": [
    {
     "data": {
      "text/plain": [
       "War of the Worlds (2005)                                                                                                         2\n",
       "Saturn 3 (1980)                                                                                                                  2\n",
       "Emma (1996)                                                                                                                      2\n",
       "Eros (2004)                                                                                                                      2\n",
       "Confessions of a Dangerous Mind (2002)                                                                                           2\n",
       "                                                                                                                                ..\n",
       "Woman Next Door, The (Femme d'à côté, La) (1981)                                                                                 1\n",
       "Dragon Ball Z: The History of Trunks (Doragon bôru Z: Zetsubô e no hankô!! Nokosareta chô senshi - Gohan to Torankusu) (1993)    1\n",
       "Green Zone (2010)                                                                                                                1\n",
       "Seven Up! (1964)                                                                                                                 1\n",
       "Bliss (2012)                                                                                                                     1\n",
       "Name: title, Length: 9737, dtype: int64"
      ]
     },
     "execution_count": 5,
     "metadata": {},
     "output_type": "execute_result"
    }
   ],
   "source": [
    "movies.title.value_counts()"
   ]
  },
  {
   "cell_type": "code",
   "execution_count": 6,
   "id": "65d0ddb7",
   "metadata": {
    "ExecuteTime": {
     "end_time": "2022-05-11T18:06:41.109376Z",
     "start_time": "2022-05-11T18:06:41.099210Z"
    }
   },
   "outputs": [
    {
     "data": {
      "text/plain": [
       "5"
      ]
     },
     "execution_count": 6,
     "metadata": {},
     "output_type": "execute_result"
    }
   ],
   "source": [
    "movies.title.duplicated().sum()"
   ]
  },
  {
   "cell_type": "code",
   "execution_count": 7,
   "id": "3f909d51",
   "metadata": {
    "ExecuteTime": {
     "end_time": "2022-05-11T18:06:41.332928Z",
     "start_time": "2022-05-11T18:06:41.315725Z"
    }
   },
   "outputs": [],
   "source": [
    "#Drop the 5 duplicated movie titles\n",
    "movies.drop_duplicates(subset='title', inplace=True)"
   ]
  },
  {
   "cell_type": "code",
   "execution_count": 8,
   "id": "f9fbd501",
   "metadata": {
    "ExecuteTime": {
     "end_time": "2022-05-11T18:06:41.486080Z",
     "start_time": "2022-05-11T18:06:41.474383Z"
    }
   },
   "outputs": [
    {
     "data": {
      "text/plain": [
       "0"
      ]
     },
     "execution_count": 8,
     "metadata": {},
     "output_type": "execute_result"
    }
   ],
   "source": [
    "#Sanity check to ensure all duplicates were dropped from title column\n",
    "\n",
    "movies.title.duplicated().sum()"
   ]
  },
  {
   "cell_type": "code",
   "execution_count": 9,
   "id": "47a10643",
   "metadata": {
    "ExecuteTime": {
     "end_time": "2022-05-11T18:06:41.663117Z",
     "start_time": "2022-05-11T18:06:41.643421Z"
    }
   },
   "outputs": [
    {
     "data": {
      "text/html": [
       "<div>\n",
       "<style scoped>\n",
       "    .dataframe tbody tr th:only-of-type {\n",
       "        vertical-align: middle;\n",
       "    }\n",
       "\n",
       "    .dataframe tbody tr th {\n",
       "        vertical-align: top;\n",
       "    }\n",
       "\n",
       "    .dataframe thead th {\n",
       "        text-align: right;\n",
       "    }\n",
       "</style>\n",
       "<table border=\"1\" class=\"dataframe\">\n",
       "  <thead>\n",
       "    <tr style=\"text-align: right;\">\n",
       "      <th></th>\n",
       "      <th>movieId</th>\n",
       "      <th>title</th>\n",
       "      <th>genres</th>\n",
       "    </tr>\n",
       "  </thead>\n",
       "  <tbody>\n",
       "  </tbody>\n",
       "</table>\n",
       "</div>"
      ],
      "text/plain": [
       "Empty DataFrame\n",
       "Columns: [movieId, title, genres]\n",
       "Index: []"
      ]
     },
     "execution_count": 9,
     "metadata": {},
     "output_type": "execute_result"
    }
   ],
   "source": [
    "movies[movies.title.duplicated() == True]"
   ]
  },
  {
   "cell_type": "code",
   "execution_count": 10,
   "id": "e6a3453a",
   "metadata": {
    "ExecuteTime": {
     "end_time": "2022-05-11T18:06:41.846938Z",
     "start_time": "2022-05-11T18:06:41.842824Z"
    }
   },
   "outputs": [
    {
     "data": {
      "text/plain": [
       "9737"
      ]
     },
     "execution_count": 10,
     "metadata": {},
     "output_type": "execute_result"
    }
   ],
   "source": [
    "len(movies)"
   ]
  },
  {
   "cell_type": "code",
   "execution_count": 11,
   "id": "8efbb902",
   "metadata": {
    "ExecuteTime": {
     "end_time": "2022-05-11T18:06:42.076781Z",
     "start_time": "2022-05-11T18:06:42.027407Z"
    }
   },
   "outputs": [],
   "source": [
    "# Split title column into two new columns: Title and year \n",
    "\n",
    "movies['Title'] = movies['title'].str.split('(', n=1, expand=True)[0]\n",
    "\n",
    "movies['year_released'] = movies['title'].str.split('(', n=1, expand=True)[1]"
   ]
  },
  {
   "cell_type": "code",
   "execution_count": 12,
   "id": "18366de5",
   "metadata": {
    "ExecuteTime": {
     "end_time": "2022-05-11T18:06:42.240304Z",
     "start_time": "2022-05-11T18:06:42.229269Z"
    }
   },
   "outputs": [],
   "source": [
    "# Drop original column title\n",
    "\n",
    "movies.drop(columns='title', inplace=True)"
   ]
  },
  {
   "cell_type": "code",
   "execution_count": 13,
   "id": "18c5fbc9",
   "metadata": {
    "ExecuteTime": {
     "end_time": "2022-05-11T18:06:42.470222Z",
     "start_time": "2022-05-11T18:06:42.448061Z"
    }
   },
   "outputs": [
    {
     "data": {
      "text/html": [
       "<div>\n",
       "<style scoped>\n",
       "    .dataframe tbody tr th:only-of-type {\n",
       "        vertical-align: middle;\n",
       "    }\n",
       "\n",
       "    .dataframe tbody tr th {\n",
       "        vertical-align: top;\n",
       "    }\n",
       "\n",
       "    .dataframe thead th {\n",
       "        text-align: right;\n",
       "    }\n",
       "</style>\n",
       "<table border=\"1\" class=\"dataframe\">\n",
       "  <thead>\n",
       "    <tr style=\"text-align: right;\">\n",
       "      <th></th>\n",
       "      <th>movieId</th>\n",
       "      <th>genres</th>\n",
       "      <th>Title</th>\n",
       "      <th>year_released</th>\n",
       "    </tr>\n",
       "  </thead>\n",
       "  <tbody>\n",
       "    <tr>\n",
       "      <th>0</th>\n",
       "      <td>1</td>\n",
       "      <td>Adventure|Animation|Children|Comedy|Fantasy</td>\n",
       "      <td>Toy Story</td>\n",
       "      <td>1995)</td>\n",
       "    </tr>\n",
       "    <tr>\n",
       "      <th>1</th>\n",
       "      <td>2</td>\n",
       "      <td>Adventure|Children|Fantasy</td>\n",
       "      <td>Jumanji</td>\n",
       "      <td>1995)</td>\n",
       "    </tr>\n",
       "    <tr>\n",
       "      <th>2</th>\n",
       "      <td>3</td>\n",
       "      <td>Comedy|Romance</td>\n",
       "      <td>Grumpier Old Men</td>\n",
       "      <td>1995)</td>\n",
       "    </tr>\n",
       "    <tr>\n",
       "      <th>3</th>\n",
       "      <td>4</td>\n",
       "      <td>Comedy|Drama|Romance</td>\n",
       "      <td>Waiting to Exhale</td>\n",
       "      <td>1995)</td>\n",
       "    </tr>\n",
       "    <tr>\n",
       "      <th>4</th>\n",
       "      <td>5</td>\n",
       "      <td>Comedy</td>\n",
       "      <td>Father of the Bride Part II</td>\n",
       "      <td>1995)</td>\n",
       "    </tr>\n",
       "    <tr>\n",
       "      <th>...</th>\n",
       "      <td>...</td>\n",
       "      <td>...</td>\n",
       "      <td>...</td>\n",
       "      <td>...</td>\n",
       "    </tr>\n",
       "    <tr>\n",
       "      <th>9737</th>\n",
       "      <td>193581</td>\n",
       "      <td>Action|Animation|Comedy|Fantasy</td>\n",
       "      <td>Black Butler: Book of the Atlantic</td>\n",
       "      <td>2017)</td>\n",
       "    </tr>\n",
       "    <tr>\n",
       "      <th>9738</th>\n",
       "      <td>193583</td>\n",
       "      <td>Animation|Comedy|Fantasy</td>\n",
       "      <td>No Game No Life: Zero</td>\n",
       "      <td>2017)</td>\n",
       "    </tr>\n",
       "    <tr>\n",
       "      <th>9739</th>\n",
       "      <td>193585</td>\n",
       "      <td>Drama</td>\n",
       "      <td>Flint</td>\n",
       "      <td>2017)</td>\n",
       "    </tr>\n",
       "    <tr>\n",
       "      <th>9740</th>\n",
       "      <td>193587</td>\n",
       "      <td>Action|Animation</td>\n",
       "      <td>Bungo Stray Dogs: Dead Apple</td>\n",
       "      <td>2018)</td>\n",
       "    </tr>\n",
       "    <tr>\n",
       "      <th>9741</th>\n",
       "      <td>193609</td>\n",
       "      <td>Comedy</td>\n",
       "      <td>Andrew Dice Clay: Dice Rules</td>\n",
       "      <td>1991)</td>\n",
       "    </tr>\n",
       "  </tbody>\n",
       "</table>\n",
       "<p>9737 rows × 4 columns</p>\n",
       "</div>"
      ],
      "text/plain": [
       "      movieId                                       genres  \\\n",
       "0           1  Adventure|Animation|Children|Comedy|Fantasy   \n",
       "1           2                   Adventure|Children|Fantasy   \n",
       "2           3                               Comedy|Romance   \n",
       "3           4                         Comedy|Drama|Romance   \n",
       "4           5                                       Comedy   \n",
       "...       ...                                          ...   \n",
       "9737   193581              Action|Animation|Comedy|Fantasy   \n",
       "9738   193583                     Animation|Comedy|Fantasy   \n",
       "9739   193585                                        Drama   \n",
       "9740   193587                             Action|Animation   \n",
       "9741   193609                                       Comedy   \n",
       "\n",
       "                                    Title year_released  \n",
       "0                              Toy Story          1995)  \n",
       "1                                Jumanji          1995)  \n",
       "2                       Grumpier Old Men          1995)  \n",
       "3                      Waiting to Exhale          1995)  \n",
       "4            Father of the Bride Part II          1995)  \n",
       "...                                   ...           ...  \n",
       "9737  Black Butler: Book of the Atlantic          2017)  \n",
       "9738               No Game No Life: Zero          2017)  \n",
       "9739                               Flint          2017)  \n",
       "9740        Bungo Stray Dogs: Dead Apple          2018)  \n",
       "9741        Andrew Dice Clay: Dice Rules          1991)  \n",
       "\n",
       "[9737 rows x 4 columns]"
      ]
     },
     "execution_count": 13,
     "metadata": {},
     "output_type": "execute_result"
    }
   ],
   "source": [
    "# Sanity Check \n",
    "movies"
   ]
  },
  {
   "cell_type": "code",
   "execution_count": 14,
   "id": "8267cf46",
   "metadata": {
    "ExecuteTime": {
     "end_time": "2022-05-11T18:06:42.951505Z",
     "start_time": "2022-05-11T18:06:42.929991Z"
    }
   },
   "outputs": [],
   "source": [
    "# Format year_released column\n",
    "\n",
    "movies['year_released'] = movies.year_released.str.replace(')', '')"
   ]
  },
  {
   "cell_type": "code",
   "execution_count": 15,
   "id": "16eeee74",
   "metadata": {
    "ExecuteTime": {
     "end_time": "2022-05-11T18:06:43.397520Z",
     "start_time": "2022-05-11T18:06:43.374540Z"
    }
   },
   "outputs": [
    {
     "data": {
      "text/html": [
       "<div>\n",
       "<style scoped>\n",
       "    .dataframe tbody tr th:only-of-type {\n",
       "        vertical-align: middle;\n",
       "    }\n",
       "\n",
       "    .dataframe tbody tr th {\n",
       "        vertical-align: top;\n",
       "    }\n",
       "\n",
       "    .dataframe thead th {\n",
       "        text-align: right;\n",
       "    }\n",
       "</style>\n",
       "<table border=\"1\" class=\"dataframe\">\n",
       "  <thead>\n",
       "    <tr style=\"text-align: right;\">\n",
       "      <th></th>\n",
       "      <th>movieId</th>\n",
       "      <th>genres</th>\n",
       "      <th>Title</th>\n",
       "      <th>year_released</th>\n",
       "    </tr>\n",
       "  </thead>\n",
       "  <tbody>\n",
       "    <tr>\n",
       "      <th>0</th>\n",
       "      <td>1</td>\n",
       "      <td>Adventure|Animation|Children|Comedy|Fantasy</td>\n",
       "      <td>Toy Story</td>\n",
       "      <td>1995</td>\n",
       "    </tr>\n",
       "    <tr>\n",
       "      <th>1</th>\n",
       "      <td>2</td>\n",
       "      <td>Adventure|Children|Fantasy</td>\n",
       "      <td>Jumanji</td>\n",
       "      <td>1995</td>\n",
       "    </tr>\n",
       "    <tr>\n",
       "      <th>2</th>\n",
       "      <td>3</td>\n",
       "      <td>Comedy|Romance</td>\n",
       "      <td>Grumpier Old Men</td>\n",
       "      <td>1995</td>\n",
       "    </tr>\n",
       "    <tr>\n",
       "      <th>3</th>\n",
       "      <td>4</td>\n",
       "      <td>Comedy|Drama|Romance</td>\n",
       "      <td>Waiting to Exhale</td>\n",
       "      <td>1995</td>\n",
       "    </tr>\n",
       "    <tr>\n",
       "      <th>4</th>\n",
       "      <td>5</td>\n",
       "      <td>Comedy</td>\n",
       "      <td>Father of the Bride Part II</td>\n",
       "      <td>1995</td>\n",
       "    </tr>\n",
       "    <tr>\n",
       "      <th>...</th>\n",
       "      <td>...</td>\n",
       "      <td>...</td>\n",
       "      <td>...</td>\n",
       "      <td>...</td>\n",
       "    </tr>\n",
       "    <tr>\n",
       "      <th>9737</th>\n",
       "      <td>193581</td>\n",
       "      <td>Action|Animation|Comedy|Fantasy</td>\n",
       "      <td>Black Butler: Book of the Atlantic</td>\n",
       "      <td>2017</td>\n",
       "    </tr>\n",
       "    <tr>\n",
       "      <th>9738</th>\n",
       "      <td>193583</td>\n",
       "      <td>Animation|Comedy|Fantasy</td>\n",
       "      <td>No Game No Life: Zero</td>\n",
       "      <td>2017</td>\n",
       "    </tr>\n",
       "    <tr>\n",
       "      <th>9739</th>\n",
       "      <td>193585</td>\n",
       "      <td>Drama</td>\n",
       "      <td>Flint</td>\n",
       "      <td>2017</td>\n",
       "    </tr>\n",
       "    <tr>\n",
       "      <th>9740</th>\n",
       "      <td>193587</td>\n",
       "      <td>Action|Animation</td>\n",
       "      <td>Bungo Stray Dogs: Dead Apple</td>\n",
       "      <td>2018</td>\n",
       "    </tr>\n",
       "    <tr>\n",
       "      <th>9741</th>\n",
       "      <td>193609</td>\n",
       "      <td>Comedy</td>\n",
       "      <td>Andrew Dice Clay: Dice Rules</td>\n",
       "      <td>1991</td>\n",
       "    </tr>\n",
       "  </tbody>\n",
       "</table>\n",
       "<p>9737 rows × 4 columns</p>\n",
       "</div>"
      ],
      "text/plain": [
       "      movieId                                       genres  \\\n",
       "0           1  Adventure|Animation|Children|Comedy|Fantasy   \n",
       "1           2                   Adventure|Children|Fantasy   \n",
       "2           3                               Comedy|Romance   \n",
       "3           4                         Comedy|Drama|Romance   \n",
       "4           5                                       Comedy   \n",
       "...       ...                                          ...   \n",
       "9737   193581              Action|Animation|Comedy|Fantasy   \n",
       "9738   193583                     Animation|Comedy|Fantasy   \n",
       "9739   193585                                        Drama   \n",
       "9740   193587                             Action|Animation   \n",
       "9741   193609                                       Comedy   \n",
       "\n",
       "                                    Title year_released  \n",
       "0                              Toy Story           1995  \n",
       "1                                Jumanji           1995  \n",
       "2                       Grumpier Old Men           1995  \n",
       "3                      Waiting to Exhale           1995  \n",
       "4            Father of the Bride Part II           1995  \n",
       "...                                   ...           ...  \n",
       "9737  Black Butler: Book of the Atlantic           2017  \n",
       "9738               No Game No Life: Zero           2017  \n",
       "9739                               Flint           2017  \n",
       "9740        Bungo Stray Dogs: Dead Apple           2018  \n",
       "9741        Andrew Dice Clay: Dice Rules           1991  \n",
       "\n",
       "[9737 rows x 4 columns]"
      ]
     },
     "execution_count": 15,
     "metadata": {},
     "output_type": "execute_result"
    }
   ],
   "source": [
    "# Sanity Check to ensure formatting was completed\n",
    "movies"
   ]
  },
  {
   "cell_type": "code",
   "execution_count": 16,
   "id": "8c66c2a2",
   "metadata": {
    "ExecuteTime": {
     "end_time": "2022-05-11T18:06:43.611404Z",
     "start_time": "2022-05-11T18:06:43.595162Z"
    }
   },
   "outputs": [],
   "source": [
    "movies['genres']=[row.strip().lower().replace('|',', ') for row in movies['genres']]"
   ]
  },
  {
   "cell_type": "code",
   "execution_count": 17,
   "id": "4feec854",
   "metadata": {
    "ExecuteTime": {
     "end_time": "2022-05-11T18:06:43.857808Z",
     "start_time": "2022-05-11T18:06:43.837110Z"
    }
   },
   "outputs": [
    {
     "data": {
      "text/html": [
       "<div>\n",
       "<style scoped>\n",
       "    .dataframe tbody tr th:only-of-type {\n",
       "        vertical-align: middle;\n",
       "    }\n",
       "\n",
       "    .dataframe tbody tr th {\n",
       "        vertical-align: top;\n",
       "    }\n",
       "\n",
       "    .dataframe thead th {\n",
       "        text-align: right;\n",
       "    }\n",
       "</style>\n",
       "<table border=\"1\" class=\"dataframe\">\n",
       "  <thead>\n",
       "    <tr style=\"text-align: right;\">\n",
       "      <th></th>\n",
       "      <th>movieId</th>\n",
       "      <th>genres</th>\n",
       "      <th>Title</th>\n",
       "      <th>year_released</th>\n",
       "    </tr>\n",
       "  </thead>\n",
       "  <tbody>\n",
       "    <tr>\n",
       "      <th>0</th>\n",
       "      <td>1</td>\n",
       "      <td>adventure, animation, children, comedy, fantasy</td>\n",
       "      <td>Toy Story</td>\n",
       "      <td>1995</td>\n",
       "    </tr>\n",
       "    <tr>\n",
       "      <th>1</th>\n",
       "      <td>2</td>\n",
       "      <td>adventure, children, fantasy</td>\n",
       "      <td>Jumanji</td>\n",
       "      <td>1995</td>\n",
       "    </tr>\n",
       "    <tr>\n",
       "      <th>2</th>\n",
       "      <td>3</td>\n",
       "      <td>comedy, romance</td>\n",
       "      <td>Grumpier Old Men</td>\n",
       "      <td>1995</td>\n",
       "    </tr>\n",
       "    <tr>\n",
       "      <th>3</th>\n",
       "      <td>4</td>\n",
       "      <td>comedy, drama, romance</td>\n",
       "      <td>Waiting to Exhale</td>\n",
       "      <td>1995</td>\n",
       "    </tr>\n",
       "    <tr>\n",
       "      <th>4</th>\n",
       "      <td>5</td>\n",
       "      <td>comedy</td>\n",
       "      <td>Father of the Bride Part II</td>\n",
       "      <td>1995</td>\n",
       "    </tr>\n",
       "    <tr>\n",
       "      <th>...</th>\n",
       "      <td>...</td>\n",
       "      <td>...</td>\n",
       "      <td>...</td>\n",
       "      <td>...</td>\n",
       "    </tr>\n",
       "    <tr>\n",
       "      <th>9737</th>\n",
       "      <td>193581</td>\n",
       "      <td>action, animation, comedy, fantasy</td>\n",
       "      <td>Black Butler: Book of the Atlantic</td>\n",
       "      <td>2017</td>\n",
       "    </tr>\n",
       "    <tr>\n",
       "      <th>9738</th>\n",
       "      <td>193583</td>\n",
       "      <td>animation, comedy, fantasy</td>\n",
       "      <td>No Game No Life: Zero</td>\n",
       "      <td>2017</td>\n",
       "    </tr>\n",
       "    <tr>\n",
       "      <th>9739</th>\n",
       "      <td>193585</td>\n",
       "      <td>drama</td>\n",
       "      <td>Flint</td>\n",
       "      <td>2017</td>\n",
       "    </tr>\n",
       "    <tr>\n",
       "      <th>9740</th>\n",
       "      <td>193587</td>\n",
       "      <td>action, animation</td>\n",
       "      <td>Bungo Stray Dogs: Dead Apple</td>\n",
       "      <td>2018</td>\n",
       "    </tr>\n",
       "    <tr>\n",
       "      <th>9741</th>\n",
       "      <td>193609</td>\n",
       "      <td>comedy</td>\n",
       "      <td>Andrew Dice Clay: Dice Rules</td>\n",
       "      <td>1991</td>\n",
       "    </tr>\n",
       "  </tbody>\n",
       "</table>\n",
       "<p>9737 rows × 4 columns</p>\n",
       "</div>"
      ],
      "text/plain": [
       "      movieId                                           genres  \\\n",
       "0           1  adventure, animation, children, comedy, fantasy   \n",
       "1           2                     adventure, children, fantasy   \n",
       "2           3                                  comedy, romance   \n",
       "3           4                           comedy, drama, romance   \n",
       "4           5                                           comedy   \n",
       "...       ...                                              ...   \n",
       "9737   193581               action, animation, comedy, fantasy   \n",
       "9738   193583                       animation, comedy, fantasy   \n",
       "9739   193585                                            drama   \n",
       "9740   193587                                action, animation   \n",
       "9741   193609                                           comedy   \n",
       "\n",
       "                                    Title year_released  \n",
       "0                              Toy Story           1995  \n",
       "1                                Jumanji           1995  \n",
       "2                       Grumpier Old Men           1995  \n",
       "3                      Waiting to Exhale           1995  \n",
       "4            Father of the Bride Part II           1995  \n",
       "...                                   ...           ...  \n",
       "9737  Black Butler: Book of the Atlantic           2017  \n",
       "9738               No Game No Life: Zero           2017  \n",
       "9739                               Flint           2017  \n",
       "9740        Bungo Stray Dogs: Dead Apple           2018  \n",
       "9741        Andrew Dice Clay: Dice Rules           1991  \n",
       "\n",
       "[9737 rows x 4 columns]"
      ]
     },
     "execution_count": 17,
     "metadata": {},
     "output_type": "execute_result"
    }
   ],
   "source": [
    "movies"
   ]
  },
  {
   "cell_type": "code",
   "execution_count": 18,
   "id": "0ed088c4",
   "metadata": {
    "ExecuteTime": {
     "end_time": "2022-05-11T18:06:44.064759Z",
     "start_time": "2022-05-11T18:06:44.041103Z"
    }
   },
   "outputs": [
    {
     "data": {
      "text/html": [
       "<div>\n",
       "<style scoped>\n",
       "    .dataframe tbody tr th:only-of-type {\n",
       "        vertical-align: middle;\n",
       "    }\n",
       "\n",
       "    .dataframe tbody tr th {\n",
       "        vertical-align: top;\n",
       "    }\n",
       "\n",
       "    .dataframe thead th {\n",
       "        text-align: right;\n",
       "    }\n",
       "</style>\n",
       "<table border=\"1\" class=\"dataframe\">\n",
       "  <thead>\n",
       "    <tr style=\"text-align: right;\">\n",
       "      <th></th>\n",
       "      <th>userId</th>\n",
       "      <th>movieId</th>\n",
       "      <th>rating</th>\n",
       "      <th>timestamp</th>\n",
       "    </tr>\n",
       "  </thead>\n",
       "  <tbody>\n",
       "    <tr>\n",
       "      <th>0</th>\n",
       "      <td>1</td>\n",
       "      <td>1</td>\n",
       "      <td>4.0</td>\n",
       "      <td>964982703</td>\n",
       "    </tr>\n",
       "    <tr>\n",
       "      <th>1</th>\n",
       "      <td>1</td>\n",
       "      <td>3</td>\n",
       "      <td>4.0</td>\n",
       "      <td>964981247</td>\n",
       "    </tr>\n",
       "    <tr>\n",
       "      <th>2</th>\n",
       "      <td>1</td>\n",
       "      <td>6</td>\n",
       "      <td>4.0</td>\n",
       "      <td>964982224</td>\n",
       "    </tr>\n",
       "    <tr>\n",
       "      <th>3</th>\n",
       "      <td>1</td>\n",
       "      <td>47</td>\n",
       "      <td>5.0</td>\n",
       "      <td>964983815</td>\n",
       "    </tr>\n",
       "    <tr>\n",
       "      <th>4</th>\n",
       "      <td>1</td>\n",
       "      <td>50</td>\n",
       "      <td>5.0</td>\n",
       "      <td>964982931</td>\n",
       "    </tr>\n",
       "    <tr>\n",
       "      <th>...</th>\n",
       "      <td>...</td>\n",
       "      <td>...</td>\n",
       "      <td>...</td>\n",
       "      <td>...</td>\n",
       "    </tr>\n",
       "    <tr>\n",
       "      <th>100831</th>\n",
       "      <td>610</td>\n",
       "      <td>166534</td>\n",
       "      <td>4.0</td>\n",
       "      <td>1493848402</td>\n",
       "    </tr>\n",
       "    <tr>\n",
       "      <th>100832</th>\n",
       "      <td>610</td>\n",
       "      <td>168248</td>\n",
       "      <td>5.0</td>\n",
       "      <td>1493850091</td>\n",
       "    </tr>\n",
       "    <tr>\n",
       "      <th>100833</th>\n",
       "      <td>610</td>\n",
       "      <td>168250</td>\n",
       "      <td>5.0</td>\n",
       "      <td>1494273047</td>\n",
       "    </tr>\n",
       "    <tr>\n",
       "      <th>100834</th>\n",
       "      <td>610</td>\n",
       "      <td>168252</td>\n",
       "      <td>5.0</td>\n",
       "      <td>1493846352</td>\n",
       "    </tr>\n",
       "    <tr>\n",
       "      <th>100835</th>\n",
       "      <td>610</td>\n",
       "      <td>170875</td>\n",
       "      <td>3.0</td>\n",
       "      <td>1493846415</td>\n",
       "    </tr>\n",
       "  </tbody>\n",
       "</table>\n",
       "<p>100836 rows × 4 columns</p>\n",
       "</div>"
      ],
      "text/plain": [
       "        userId  movieId  rating   timestamp\n",
       "0            1        1     4.0   964982703\n",
       "1            1        3     4.0   964981247\n",
       "2            1        6     4.0   964982224\n",
       "3            1       47     5.0   964983815\n",
       "4            1       50     5.0   964982931\n",
       "...        ...      ...     ...         ...\n",
       "100831     610   166534     4.0  1493848402\n",
       "100832     610   168248     5.0  1493850091\n",
       "100833     610   168250     5.0  1494273047\n",
       "100834     610   168252     5.0  1493846352\n",
       "100835     610   170875     3.0  1493846415\n",
       "\n",
       "[100836 rows x 4 columns]"
      ]
     },
     "execution_count": 18,
     "metadata": {},
     "output_type": "execute_result"
    }
   ],
   "source": [
    "#checking rating df\n",
    "rating"
   ]
  },
  {
   "cell_type": "code",
   "execution_count": 19,
   "id": "1e1524ad",
   "metadata": {
    "ExecuteTime": {
     "end_time": "2022-05-11T18:06:44.376945Z",
     "start_time": "2022-05-11T18:06:44.342295Z"
    }
   },
   "outputs": [],
   "source": [
    "#converted timestamp to datetime\n",
    "rating['timestamp'] = pd.to_datetime(rating['timestamp'], unit='s')"
   ]
  },
  {
   "cell_type": "code",
   "execution_count": 20,
   "id": "86737d9f",
   "metadata": {
    "ExecuteTime": {
     "end_time": "2022-05-11T18:06:44.891322Z",
     "start_time": "2022-05-11T18:06:44.874819Z"
    }
   },
   "outputs": [
    {
     "data": {
      "text/plain": [
       "4.0    0.265957\n",
       "3.0    0.198808\n",
       "5.0    0.131015\n",
       "3.5    0.130271\n",
       "4.5    0.084801\n",
       "2.0    0.074884\n",
       "2.5    0.055040\n",
       "1.0    0.027877\n",
       "1.5    0.017762\n",
       "0.5    0.013586\n",
       "Name: rating, dtype: float64"
      ]
     },
     "execution_count": 20,
     "metadata": {},
     "output_type": "execute_result"
    }
   ],
   "source": [
    "rating.rating.value_counts(normalize=True)"
   ]
  },
  {
   "cell_type": "code",
   "execution_count": 21,
   "id": "26594622",
   "metadata": {
    "ExecuteTime": {
     "end_time": "2022-05-11T18:06:45.120405Z",
     "start_time": "2022-05-11T18:06:45.093910Z"
    }
   },
   "outputs": [
    {
     "data": {
      "text/plain": [
       "0"
      ]
     },
     "execution_count": 21,
     "metadata": {},
     "output_type": "execute_result"
    }
   ],
   "source": [
    "rating.duplicated().sum()"
   ]
  },
  {
   "cell_type": "code",
   "execution_count": 22,
   "id": "5c0dd922",
   "metadata": {
    "ExecuteTime": {
     "end_time": "2022-05-11T18:06:45.427428Z",
     "start_time": "2022-05-11T18:06:45.415615Z"
    }
   },
   "outputs": [
    {
     "data": {
      "text/plain": [
       "userId       0\n",
       "movieId      0\n",
       "rating       0\n",
       "timestamp    0\n",
       "dtype: int64"
      ]
     },
     "execution_count": 22,
     "metadata": {},
     "output_type": "execute_result"
    }
   ],
   "source": [
    "rating.isna().sum()"
   ]
  },
  {
   "cell_type": "code",
   "execution_count": 23,
   "id": "4a1bf134",
   "metadata": {
    "ExecuteTime": {
     "end_time": "2022-05-11T18:06:45.795944Z",
     "start_time": "2022-05-11T18:06:45.761802Z"
    }
   },
   "outputs": [],
   "source": [
    "# merging rating and movies\n",
    "movie_rating = movies.merge(rating, on='movieId', how='outer')"
   ]
  },
  {
   "cell_type": "code",
   "execution_count": 24,
   "id": "c82b8de9",
   "metadata": {
    "ExecuteTime": {
     "end_time": "2022-05-11T18:06:46.003585Z",
     "start_time": "2022-05-11T18:06:45.974894Z"
    }
   },
   "outputs": [
    {
     "data": {
      "text/html": [
       "<div>\n",
       "<style scoped>\n",
       "    .dataframe tbody tr th:only-of-type {\n",
       "        vertical-align: middle;\n",
       "    }\n",
       "\n",
       "    .dataframe tbody tr th {\n",
       "        vertical-align: top;\n",
       "    }\n",
       "\n",
       "    .dataframe thead th {\n",
       "        text-align: right;\n",
       "    }\n",
       "</style>\n",
       "<table border=\"1\" class=\"dataframe\">\n",
       "  <thead>\n",
       "    <tr style=\"text-align: right;\">\n",
       "      <th></th>\n",
       "      <th>movieId</th>\n",
       "      <th>genres</th>\n",
       "      <th>Title</th>\n",
       "      <th>year_released</th>\n",
       "      <th>userId</th>\n",
       "      <th>rating</th>\n",
       "      <th>timestamp</th>\n",
       "    </tr>\n",
       "  </thead>\n",
       "  <tbody>\n",
       "    <tr>\n",
       "      <th>0</th>\n",
       "      <td>1</td>\n",
       "      <td>adventure, animation, children, comedy, fantasy</td>\n",
       "      <td>Toy Story</td>\n",
       "      <td>1995</td>\n",
       "      <td>1.0</td>\n",
       "      <td>4.0</td>\n",
       "      <td>2000-07-30 18:45:03</td>\n",
       "    </tr>\n",
       "    <tr>\n",
       "      <th>1</th>\n",
       "      <td>1</td>\n",
       "      <td>adventure, animation, children, comedy, fantasy</td>\n",
       "      <td>Toy Story</td>\n",
       "      <td>1995</td>\n",
       "      <td>5.0</td>\n",
       "      <td>4.0</td>\n",
       "      <td>1996-11-08 06:36:02</td>\n",
       "    </tr>\n",
       "    <tr>\n",
       "      <th>2</th>\n",
       "      <td>1</td>\n",
       "      <td>adventure, animation, children, comedy, fantasy</td>\n",
       "      <td>Toy Story</td>\n",
       "      <td>1995</td>\n",
       "      <td>7.0</td>\n",
       "      <td>4.5</td>\n",
       "      <td>2005-01-25 06:52:26</td>\n",
       "    </tr>\n",
       "    <tr>\n",
       "      <th>3</th>\n",
       "      <td>1</td>\n",
       "      <td>adventure, animation, children, comedy, fantasy</td>\n",
       "      <td>Toy Story</td>\n",
       "      <td>1995</td>\n",
       "      <td>15.0</td>\n",
       "      <td>2.5</td>\n",
       "      <td>2017-11-13 12:59:30</td>\n",
       "    </tr>\n",
       "    <tr>\n",
       "      <th>4</th>\n",
       "      <td>1</td>\n",
       "      <td>adventure, animation, children, comedy, fantasy</td>\n",
       "      <td>Toy Story</td>\n",
       "      <td>1995</td>\n",
       "      <td>17.0</td>\n",
       "      <td>4.5</td>\n",
       "      <td>2011-05-18 05:28:03</td>\n",
       "    </tr>\n",
       "    <tr>\n",
       "      <th>...</th>\n",
       "      <td>...</td>\n",
       "      <td>...</td>\n",
       "      <td>...</td>\n",
       "      <td>...</td>\n",
       "      <td>...</td>\n",
       "      <td>...</td>\n",
       "      <td>...</td>\n",
       "    </tr>\n",
       "    <tr>\n",
       "      <th>100849</th>\n",
       "      <td>64997</td>\n",
       "      <td>NaN</td>\n",
       "      <td>NaN</td>\n",
       "      <td>NaN</td>\n",
       "      <td>68.0</td>\n",
       "      <td>2.5</td>\n",
       "      <td>2008-12-28 20:55:15</td>\n",
       "    </tr>\n",
       "    <tr>\n",
       "      <th>100850</th>\n",
       "      <td>144606</td>\n",
       "      <td>NaN</td>\n",
       "      <td>NaN</td>\n",
       "      <td>NaN</td>\n",
       "      <td>111.0</td>\n",
       "      <td>4.0</td>\n",
       "      <td>2018-01-31 23:27:37</td>\n",
       "    </tr>\n",
       "    <tr>\n",
       "      <th>100851</th>\n",
       "      <td>147002</td>\n",
       "      <td>NaN</td>\n",
       "      <td>NaN</td>\n",
       "      <td>NaN</td>\n",
       "      <td>318.0</td>\n",
       "      <td>4.0</td>\n",
       "      <td>2017-08-08 15:45:52</td>\n",
       "    </tr>\n",
       "    <tr>\n",
       "      <th>100852</th>\n",
       "      <td>26958</td>\n",
       "      <td>NaN</td>\n",
       "      <td>NaN</td>\n",
       "      <td>NaN</td>\n",
       "      <td>509.0</td>\n",
       "      <td>3.5</td>\n",
       "      <td>2015-07-04 17:42:33</td>\n",
       "    </tr>\n",
       "    <tr>\n",
       "      <th>100853</th>\n",
       "      <td>168358</td>\n",
       "      <td>NaN</td>\n",
       "      <td>NaN</td>\n",
       "      <td>NaN</td>\n",
       "      <td>514.0</td>\n",
       "      <td>2.5</td>\n",
       "      <td>2018-08-11 00:06:10</td>\n",
       "    </tr>\n",
       "  </tbody>\n",
       "</table>\n",
       "<p>100854 rows × 7 columns</p>\n",
       "</div>"
      ],
      "text/plain": [
       "        movieId                                           genres       Title  \\\n",
       "0             1  adventure, animation, children, comedy, fantasy  Toy Story    \n",
       "1             1  adventure, animation, children, comedy, fantasy  Toy Story    \n",
       "2             1  adventure, animation, children, comedy, fantasy  Toy Story    \n",
       "3             1  adventure, animation, children, comedy, fantasy  Toy Story    \n",
       "4             1  adventure, animation, children, comedy, fantasy  Toy Story    \n",
       "...         ...                                              ...         ...   \n",
       "100849    64997                                              NaN         NaN   \n",
       "100850   144606                                              NaN         NaN   \n",
       "100851   147002                                              NaN         NaN   \n",
       "100852    26958                                              NaN         NaN   \n",
       "100853   168358                                              NaN         NaN   \n",
       "\n",
       "       year_released  userId  rating           timestamp  \n",
       "0               1995     1.0     4.0 2000-07-30 18:45:03  \n",
       "1               1995     5.0     4.0 1996-11-08 06:36:02  \n",
       "2               1995     7.0     4.5 2005-01-25 06:52:26  \n",
       "3               1995    15.0     2.5 2017-11-13 12:59:30  \n",
       "4               1995    17.0     4.5 2011-05-18 05:28:03  \n",
       "...              ...     ...     ...                 ...  \n",
       "100849           NaN    68.0     2.5 2008-12-28 20:55:15  \n",
       "100850           NaN   111.0     4.0 2018-01-31 23:27:37  \n",
       "100851           NaN   318.0     4.0 2017-08-08 15:45:52  \n",
       "100852           NaN   509.0     3.5 2015-07-04 17:42:33  \n",
       "100853           NaN   514.0     2.5 2018-08-11 00:06:10  \n",
       "\n",
       "[100854 rows x 7 columns]"
      ]
     },
     "execution_count": 24,
     "metadata": {},
     "output_type": "execute_result"
    }
   ],
   "source": [
    "movie_rating"
   ]
  },
  {
   "cell_type": "code",
   "execution_count": 25,
   "id": "2342bc43",
   "metadata": {
    "ExecuteTime": {
     "end_time": "2022-05-11T18:06:46.321081Z",
     "start_time": "2022-05-11T18:06:46.283200Z"
    }
   },
   "outputs": [],
   "source": [
    "movie_rating.dropna(inplace=True)"
   ]
  },
  {
   "cell_type": "code",
   "execution_count": 26,
   "id": "23ae9a36",
   "metadata": {
    "ExecuteTime": {
     "end_time": "2022-05-11T18:06:46.574834Z",
     "start_time": "2022-05-11T18:06:46.562232Z"
    }
   },
   "outputs": [
    {
     "data": {
      "text/plain": [
       "610"
      ]
     },
     "execution_count": 26,
     "metadata": {},
     "output_type": "execute_result"
    }
   ],
   "source": [
    "movie_rating['userId'].nunique()"
   ]
  },
  {
   "cell_type": "code",
   "execution_count": 27,
   "id": "cb3f6c46",
   "metadata": {
    "ExecuteTime": {
     "end_time": "2022-05-11T18:06:47.121476Z",
     "start_time": "2022-05-11T18:06:47.094906Z"
    }
   },
   "outputs": [
    {
     "data": {
      "text/html": [
       "<div>\n",
       "<style scoped>\n",
       "    .dataframe tbody tr th:only-of-type {\n",
       "        vertical-align: middle;\n",
       "    }\n",
       "\n",
       "    .dataframe tbody tr th {\n",
       "        vertical-align: top;\n",
       "    }\n",
       "\n",
       "    .dataframe thead th {\n",
       "        text-align: right;\n",
       "    }\n",
       "</style>\n",
       "<table border=\"1\" class=\"dataframe\">\n",
       "  <thead>\n",
       "    <tr style=\"text-align: right;\">\n",
       "      <th></th>\n",
       "      <th>movieId</th>\n",
       "      <th>genres</th>\n",
       "      <th>Title</th>\n",
       "      <th>year_released</th>\n",
       "      <th>userId</th>\n",
       "      <th>rating</th>\n",
       "      <th>timestamp</th>\n",
       "    </tr>\n",
       "  </thead>\n",
       "  <tbody>\n",
       "    <tr>\n",
       "      <th>0</th>\n",
       "      <td>1</td>\n",
       "      <td>adventure, animation, children, comedy, fantasy</td>\n",
       "      <td>Toy Story</td>\n",
       "      <td>1995</td>\n",
       "      <td>1.0</td>\n",
       "      <td>4.0</td>\n",
       "      <td>2000-07-30 18:45:03</td>\n",
       "    </tr>\n",
       "    <tr>\n",
       "      <th>1</th>\n",
       "      <td>1</td>\n",
       "      <td>adventure, animation, children, comedy, fantasy</td>\n",
       "      <td>Toy Story</td>\n",
       "      <td>1995</td>\n",
       "      <td>5.0</td>\n",
       "      <td>4.0</td>\n",
       "      <td>1996-11-08 06:36:02</td>\n",
       "    </tr>\n",
       "    <tr>\n",
       "      <th>2</th>\n",
       "      <td>1</td>\n",
       "      <td>adventure, animation, children, comedy, fantasy</td>\n",
       "      <td>Toy Story</td>\n",
       "      <td>1995</td>\n",
       "      <td>7.0</td>\n",
       "      <td>4.5</td>\n",
       "      <td>2005-01-25 06:52:26</td>\n",
       "    </tr>\n",
       "    <tr>\n",
       "      <th>3</th>\n",
       "      <td>1</td>\n",
       "      <td>adventure, animation, children, comedy, fantasy</td>\n",
       "      <td>Toy Story</td>\n",
       "      <td>1995</td>\n",
       "      <td>15.0</td>\n",
       "      <td>2.5</td>\n",
       "      <td>2017-11-13 12:59:30</td>\n",
       "    </tr>\n",
       "    <tr>\n",
       "      <th>4</th>\n",
       "      <td>1</td>\n",
       "      <td>adventure, animation, children, comedy, fantasy</td>\n",
       "      <td>Toy Story</td>\n",
       "      <td>1995</td>\n",
       "      <td>17.0</td>\n",
       "      <td>4.5</td>\n",
       "      <td>2011-05-18 05:28:03</td>\n",
       "    </tr>\n",
       "    <tr>\n",
       "      <th>...</th>\n",
       "      <td>...</td>\n",
       "      <td>...</td>\n",
       "      <td>...</td>\n",
       "      <td>...</td>\n",
       "      <td>...</td>\n",
       "      <td>...</td>\n",
       "      <td>...</td>\n",
       "    </tr>\n",
       "    <tr>\n",
       "      <th>100843</th>\n",
       "      <td>193581</td>\n",
       "      <td>action, animation, comedy, fantasy</td>\n",
       "      <td>Black Butler: Book of the Atlantic</td>\n",
       "      <td>2017</td>\n",
       "      <td>184.0</td>\n",
       "      <td>4.0</td>\n",
       "      <td>2018-09-16 14:44:42</td>\n",
       "    </tr>\n",
       "    <tr>\n",
       "      <th>100844</th>\n",
       "      <td>193583</td>\n",
       "      <td>animation, comedy, fantasy</td>\n",
       "      <td>No Game No Life: Zero</td>\n",
       "      <td>2017</td>\n",
       "      <td>184.0</td>\n",
       "      <td>3.5</td>\n",
       "      <td>2018-09-16 14:52:25</td>\n",
       "    </tr>\n",
       "    <tr>\n",
       "      <th>100845</th>\n",
       "      <td>193585</td>\n",
       "      <td>drama</td>\n",
       "      <td>Flint</td>\n",
       "      <td>2017</td>\n",
       "      <td>184.0</td>\n",
       "      <td>3.5</td>\n",
       "      <td>2018-09-16 14:56:45</td>\n",
       "    </tr>\n",
       "    <tr>\n",
       "      <th>100846</th>\n",
       "      <td>193587</td>\n",
       "      <td>action, animation</td>\n",
       "      <td>Bungo Stray Dogs: Dead Apple</td>\n",
       "      <td>2018</td>\n",
       "      <td>184.0</td>\n",
       "      <td>3.5</td>\n",
       "      <td>2018-09-16 15:00:21</td>\n",
       "    </tr>\n",
       "    <tr>\n",
       "      <th>100847</th>\n",
       "      <td>193609</td>\n",
       "      <td>comedy</td>\n",
       "      <td>Andrew Dice Clay: Dice Rules</td>\n",
       "      <td>1991</td>\n",
       "      <td>331.0</td>\n",
       "      <td>4.0</td>\n",
       "      <td>2018-09-17 04:13:26</td>\n",
       "    </tr>\n",
       "  </tbody>\n",
       "</table>\n",
       "<p>100813 rows × 7 columns</p>\n",
       "</div>"
      ],
      "text/plain": [
       "        movieId                                           genres  \\\n",
       "0             1  adventure, animation, children, comedy, fantasy   \n",
       "1             1  adventure, animation, children, comedy, fantasy   \n",
       "2             1  adventure, animation, children, comedy, fantasy   \n",
       "3             1  adventure, animation, children, comedy, fantasy   \n",
       "4             1  adventure, animation, children, comedy, fantasy   \n",
       "...         ...                                              ...   \n",
       "100843   193581               action, animation, comedy, fantasy   \n",
       "100844   193583                       animation, comedy, fantasy   \n",
       "100845   193585                                            drama   \n",
       "100846   193587                                action, animation   \n",
       "100847   193609                                           comedy   \n",
       "\n",
       "                                      Title year_released  userId  rating  \\\n",
       "0                                Toy Story           1995     1.0     4.0   \n",
       "1                                Toy Story           1995     5.0     4.0   \n",
       "2                                Toy Story           1995     7.0     4.5   \n",
       "3                                Toy Story           1995    15.0     2.5   \n",
       "4                                Toy Story           1995    17.0     4.5   \n",
       "...                                     ...           ...     ...     ...   \n",
       "100843  Black Butler: Book of the Atlantic           2017   184.0     4.0   \n",
       "100844               No Game No Life: Zero           2017   184.0     3.5   \n",
       "100845                               Flint           2017   184.0     3.5   \n",
       "100846        Bungo Stray Dogs: Dead Apple           2018   184.0     3.5   \n",
       "100847        Andrew Dice Clay: Dice Rules           1991   331.0     4.0   \n",
       "\n",
       "                 timestamp  \n",
       "0      2000-07-30 18:45:03  \n",
       "1      1996-11-08 06:36:02  \n",
       "2      2005-01-25 06:52:26  \n",
       "3      2017-11-13 12:59:30  \n",
       "4      2011-05-18 05:28:03  \n",
       "...                    ...  \n",
       "100843 2018-09-16 14:44:42  \n",
       "100844 2018-09-16 14:52:25  \n",
       "100845 2018-09-16 14:56:45  \n",
       "100846 2018-09-16 15:00:21  \n",
       "100847 2018-09-17 04:13:26  \n",
       "\n",
       "[100813 rows x 7 columns]"
      ]
     },
     "execution_count": 27,
     "metadata": {},
     "output_type": "execute_result"
    }
   ],
   "source": [
    "movie_rating"
   ]
  },
  {
   "cell_type": "code",
   "execution_count": 28,
   "id": "1678f786",
   "metadata": {
    "ExecuteTime": {
     "end_time": "2022-05-11T18:06:47.560862Z",
     "start_time": "2022-05-11T18:06:47.544040Z"
    },
    "scrolled": true
   },
   "outputs": [
    {
     "data": {
      "text/plain": [
       "414.0    2697\n",
       "599.0    2477\n",
       "474.0    2108\n",
       "448.0    1863\n",
       "274.0    1346\n",
       "         ... \n",
       "406.0      20\n",
       "147.0      20\n",
       "442.0      20\n",
       "569.0      20\n",
       "320.0      20\n",
       "Name: userId, Length: 610, dtype: int64"
      ]
     },
     "execution_count": 28,
     "metadata": {},
     "output_type": "execute_result"
    }
   ],
   "source": [
    "movie_rating['userId'].value_counts()"
   ]
  },
  {
   "cell_type": "code",
   "execution_count": 29,
   "id": "33e3ba23",
   "metadata": {
    "ExecuteTime": {
     "end_time": "2022-05-11T18:30:03.318811Z",
     "start_time": "2022-05-11T18:30:03.276606Z"
    }
   },
   "outputs": [
    {
     "data": {
      "text/plain": [
       "count     610.000000\n",
       "mean      165.267213\n",
       "std       269.394107\n",
       "min        20.000000\n",
       "25%        35.000000\n",
       "50%        70.500000\n",
       "75%       168.000000\n",
       "max      2697.000000\n",
       "Name: userId, dtype: float64"
      ]
     },
     "execution_count": 29,
     "metadata": {},
     "output_type": "execute_result"
    }
   ],
   "source": [
    "movie_rating['userId'].value_counts().describe()"
   ]
  },
  {
   "cell_type": "code",
   "execution_count": 30,
   "id": "c5b5675a",
   "metadata": {
    "ExecuteTime": {
     "end_time": "2022-05-11T18:06:48.144095Z",
     "start_time": "2022-05-11T18:06:48.112022Z"
    }
   },
   "outputs": [
    {
     "data": {
      "text/plain": [
       "165.2672131147541"
      ]
     },
     "execution_count": 30,
     "metadata": {},
     "output_type": "execute_result"
    }
   ],
   "source": [
    "len(movie_rating['rating'])/len(set(movie_rating['userId']))"
   ]
  },
  {
   "cell_type": "markdown",
   "id": "e99e43a0",
   "metadata": {},
   "source": [
    "On average a user rates 165 movies. Each user has at least 20 ratings."
   ]
  },
  {
   "cell_type": "code",
   "execution_count": 31,
   "id": "913a6f37",
   "metadata": {
    "ExecuteTime": {
     "end_time": "2022-05-11T18:08:26.878264Z",
     "start_time": "2022-05-11T18:08:26.843184Z"
    },
    "scrolled": false
   },
   "outputs": [
    {
     "data": {
      "text/plain": [
       "count    9385.000000\n",
       "mean       10.741929\n",
       "std        22.913690\n",
       "min         1.000000\n",
       "25%         1.000000\n",
       "50%         3.000000\n",
       "75%         9.000000\n",
       "max       329.000000\n",
       "Name: Title, dtype: float64"
      ]
     },
     "execution_count": 31,
     "metadata": {},
     "output_type": "execute_result"
    }
   ],
   "source": [
    "movie_rating['Title'].value_counts().describe()"
   ]
  },
  {
   "cell_type": "code",
   "execution_count": 32,
   "id": "a3cb3dfb",
   "metadata": {
    "ExecuteTime": {
     "end_time": "2022-05-11T18:12:54.807021Z",
     "start_time": "2022-05-11T18:12:54.759510Z"
    }
   },
   "outputs": [
    {
     "data": {
      "text/plain": [
       "1      3264\n",
       "2      1243\n",
       "3       764\n",
       "4       505\n",
       "5       375\n",
       "       ... \n",
       "123       1\n",
       "203       1\n",
       "215       1\n",
       "251       1\n",
       "211       1\n",
       "Name: Title, Length: 180, dtype: int64"
      ]
     },
     "execution_count": 32,
     "metadata": {},
     "output_type": "execute_result"
    }
   ],
   "source": [
    "movie_rating['Title'].value_counts().value_counts()"
   ]
  },
  {
   "cell_type": "code",
   "execution_count": 33,
   "id": "9e5c3da4",
   "metadata": {
    "ExecuteTime": {
     "end_time": "2022-05-11T18:08:19.468392Z",
     "start_time": "2022-05-11T18:08:19.436485Z"
    },
    "scrolled": true
   },
   "outputs": [
    {
     "data": {
      "text/plain": [
       "Forrest Gump                                               329\n",
       "Shawshank Redemption, The                                  317\n",
       "Pulp Fiction                                               307\n",
       "Silence of the Lambs, The                                  279\n",
       "Matrix, The                                                278\n",
       "                                                          ... \n",
       "Frances                                                      1\n",
       "42                                                           1\n",
       "Manic                                                        1\n",
       "Mamma Mia: Here We Go Again!                                 1\n",
       "Jeff Ross Roasts Criminals: Live at Brazos County Jail       1\n",
       "Name: Title, Length: 9385, dtype: int64"
      ]
     },
     "execution_count": 33,
     "metadata": {},
     "output_type": "execute_result"
    }
   ],
   "source": [
    "movie_rating['Title'].value_counts()"
   ]
  },
  {
   "cell_type": "markdown",
   "id": "66bcd96b",
   "metadata": {
    "ExecuteTime": {
     "end_time": "2022-05-11T16:31:42.274164Z",
     "start_time": "2022-05-11T16:31:42.266381Z"
    }
   },
   "source": [
    "Forrest Gump has the most ratings. There are a considerable number of movies that only have 1-3 ratings (>5,000)."
   ]
  },
  {
   "cell_type": "markdown",
   "id": "f04ec687",
   "metadata": {},
   "source": [
    "# Splits"
   ]
  },
  {
   "cell_type": "code",
   "execution_count": 34,
   "id": "bdced111",
   "metadata": {
    "ExecuteTime": {
     "end_time": "2022-05-11T18:15:40.511172Z",
     "start_time": "2022-05-11T18:15:40.391720Z"
    }
   },
   "outputs": [],
   "source": [
    "#for function building/final model\n",
    "reader = Reader(rating_scale=(1, 5))\n",
    "complete_data = Dataset.load_from_df(movie_rating[['userId', 'movieId', 'rating']], reader)"
   ]
  },
  {
   "cell_type": "code",
   "execution_count": 35,
   "id": "82b5e7eb",
   "metadata": {
    "ExecuteTime": {
     "end_time": "2022-05-11T18:15:40.812854Z",
     "start_time": "2022-05-11T18:15:40.575523Z"
    }
   },
   "outputs": [],
   "source": [
    "#use sklearn for model selection/choosing \n",
    "train, test = train_test_split(movie_rating, random_state=42)\n",
    "\n",
    "reader = Reader(rating_scale=(1, 5))\n",
    "train_data = Dataset.load_from_df(train[['userId', 'movieId', 'rating']], reader)\n",
    "test_data = Dataset.load_from_df(test[['userId', 'movieId', 'rating']], reader)\n",
    "\n",
    "\n",
    "train_data2 = train_data.build_full_trainset()\n",
    "test_data2 = test_data.build_full_trainset().build_testset()"
   ]
  },
  {
   "cell_type": "markdown",
   "id": "1d25b71e",
   "metadata": {},
   "source": [
    "# Modeling"
   ]
  },
  {
   "cell_type": "markdown",
   "id": "a0e0a953",
   "metadata": {},
   "source": [
    "### Baseline/dummy"
   ]
  },
  {
   "cell_type": "code",
   "execution_count": 36,
   "id": "e8e7a99e",
   "metadata": {
    "ExecuteTime": {
     "end_time": "2022-05-11T16:11:14.281493Z",
     "start_time": "2022-05-11T16:11:13.061362Z"
    }
   },
   "outputs": [],
   "source": [
    "dummy_model = NormalPredictor()\n",
    "#cross_validate(dummy_model, train_data, measures=['RMSE'], cv=5, verbose=True)"
   ]
  },
  {
   "cell_type": "code",
   "execution_count": 37,
   "id": "b3d5494b",
   "metadata": {
    "ExecuteTime": {
     "end_time": "2022-05-11T16:38:39.340167Z",
     "start_time": "2022-05-11T16:38:39.079201Z"
    }
   },
   "outputs": [
    {
     "name": "stdout",
     "output_type": "stream",
     "text": [
      "RMSE: 1.4276\n"
     ]
    },
    {
     "data": {
      "text/plain": [
       "1.427551684870842"
      ]
     },
     "execution_count": 37,
     "metadata": {},
     "output_type": "execute_result"
    }
   ],
   "source": [
    "predictions = dummy_model.fit(train_data2).test(test_data2)\n",
    "baseline_rsme = accuracy.rmse(predictions)\n",
    "baseline_rsme"
   ]
  },
  {
   "cell_type": "markdown",
   "id": "c5440eb0",
   "metadata": {},
   "source": [
    "### KNNBasics"
   ]
  },
  {
   "cell_type": "code",
   "execution_count": 59,
   "id": "51867c26",
   "metadata": {
    "ExecuteTime": {
     "end_time": "2022-05-11T16:17:28.739738Z",
     "start_time": "2022-05-11T16:17:01.656080Z"
    },
    "collapsed": true
   },
   "outputs": [
    {
     "name": "stderr",
     "output_type": "stream",
     "text": [
      "[Parallel(n_jobs=1)]: Using backend SequentialBackend with 1 concurrent workers.\n"
     ]
    },
    {
     "name": "stdout",
     "output_type": "stream",
     "text": [
      "Computing the msd similarity matrix...\n",
      "Done computing similarity matrix.\n"
     ]
    },
    {
     "name": "stderr",
     "output_type": "stream",
     "text": [
      "[Parallel(n_jobs=1)]: Done   1 out of   1 | elapsed:    0.5s remaining:    0.0s\n"
     ]
    },
    {
     "name": "stdout",
     "output_type": "stream",
     "text": [
      "Computing the msd similarity matrix...\n",
      "Done computing similarity matrix.\n"
     ]
    },
    {
     "name": "stderr",
     "output_type": "stream",
     "text": [
      "[Parallel(n_jobs=1)]: Done   2 out of   2 | elapsed:    0.9s remaining:    0.0s\n"
     ]
    },
    {
     "name": "stdout",
     "output_type": "stream",
     "text": [
      "Computing the msd similarity matrix...\n",
      "Done computing similarity matrix.\n"
     ]
    },
    {
     "name": "stderr",
     "output_type": "stream",
     "text": [
      "[Parallel(n_jobs=1)]: Done   3 out of   3 | elapsed:    1.4s remaining:    0.0s\n"
     ]
    },
    {
     "name": "stdout",
     "output_type": "stream",
     "text": [
      "Computing the msd similarity matrix...\n",
      "Done computing similarity matrix.\n"
     ]
    },
    {
     "name": "stderr",
     "output_type": "stream",
     "text": [
      "[Parallel(n_jobs=1)]: Done   4 out of   4 | elapsed:    1.9s remaining:    0.0s\n"
     ]
    },
    {
     "name": "stdout",
     "output_type": "stream",
     "text": [
      "Computing the msd similarity matrix...\n",
      "Done computing similarity matrix.\n",
      "Computing the msd similarity matrix...\n",
      "Done computing similarity matrix.\n",
      "Computing the msd similarity matrix...\n",
      "Done computing similarity matrix.\n",
      "Computing the msd similarity matrix...\n",
      "Done computing similarity matrix.\n",
      "Computing the msd similarity matrix...\n",
      "Done computing similarity matrix.\n",
      "Computing the msd similarity matrix...\n",
      "Done computing similarity matrix.\n",
      "Computing the msd similarity matrix...\n",
      "Done computing similarity matrix.\n",
      "Computing the msd similarity matrix...\n",
      "Done computing similarity matrix.\n",
      "Computing the msd similarity matrix...\n",
      "Done computing similarity matrix.\n",
      "Computing the msd similarity matrix...\n",
      "Done computing similarity matrix.\n",
      "Computing the msd similarity matrix...\n",
      "Done computing similarity matrix.\n",
      "Computing the msd similarity matrix...\n",
      "Done computing similarity matrix.\n",
      "Computing the msd similarity matrix...\n",
      "Done computing similarity matrix.\n",
      "Computing the msd similarity matrix...\n",
      "Done computing similarity matrix.\n",
      "Computing the msd similarity matrix...\n",
      "Done computing similarity matrix.\n",
      "Computing the msd similarity matrix...\n",
      "Done computing similarity matrix.\n",
      "Computing the msd similarity matrix...\n",
      "Done computing similarity matrix.\n",
      "Computing the msd similarity matrix...\n",
      "Done computing similarity matrix.\n",
      "Computing the msd similarity matrix...\n",
      "Done computing similarity matrix.\n",
      "Computing the msd similarity matrix...\n",
      "Done computing similarity matrix.\n",
      "Computing the msd similarity matrix...\n",
      "Done computing similarity matrix.\n",
      "Computing the msd similarity matrix...\n",
      "Done computing similarity matrix.\n",
      "Computing the msd similarity matrix...\n",
      "Done computing similarity matrix.\n",
      "Computing the msd similarity matrix...\n",
      "Done computing similarity matrix.\n",
      "Computing the msd similarity matrix...\n",
      "Done computing similarity matrix.\n",
      "Computing the msd similarity matrix...\n",
      "Done computing similarity matrix.\n",
      "Computing the msd similarity matrix...\n",
      "Done computing similarity matrix.\n",
      "Computing the msd similarity matrix...\n",
      "Done computing similarity matrix.\n",
      "Computing the msd similarity matrix...\n",
      "Done computing similarity matrix.\n",
      "Computing the msd similarity matrix...\n",
      "Done computing similarity matrix.\n",
      "Computing the msd similarity matrix...\n",
      "Done computing similarity matrix.\n",
      "Computing the msd similarity matrix...\n",
      "Done computing similarity matrix.\n",
      "Computing the msd similarity matrix...\n",
      "Done computing similarity matrix.\n",
      "Computing the msd similarity matrix...\n",
      "Done computing similarity matrix.\n",
      "Computing the msd similarity matrix...\n",
      "Done computing similarity matrix.\n",
      "Computing the msd similarity matrix...\n",
      "Done computing similarity matrix.\n",
      "Computing the msd similarity matrix...\n",
      "Done computing similarity matrix.\n",
      "Computing the msd similarity matrix...\n",
      "Done computing similarity matrix.\n",
      "Computing the msd similarity matrix...\n",
      "Done computing similarity matrix.\n",
      "Computing the msd similarity matrix...\n",
      "Done computing similarity matrix.\n",
      "Computing the msd similarity matrix...\n",
      "Done computing similarity matrix.\n"
     ]
    },
    {
     "name": "stderr",
     "output_type": "stream",
     "text": [
      "[Parallel(n_jobs=1)]: Done  45 out of  45 | elapsed:   26.6s finished\n"
     ]
    }
   ],
   "source": [
    "param_grid = {'k':[10, 50, 100],'min_k': [1, 5, 10]}\n",
    "base_model = GridSearchCV(KNNBasic,param_grid=param_grid,joblib_verbose=5, measures=['RMSE'])\n",
    "base_model.fit(train_data)"
   ]
  },
  {
   "cell_type": "code",
   "execution_count": 60,
   "id": "77373a31",
   "metadata": {
    "ExecuteTime": {
     "end_time": "2022-05-11T16:18:08.893448Z",
     "start_time": "2022-05-11T16:18:08.876676Z"
    }
   },
   "outputs": [
    {
     "data": {
      "text/plain": [
       "{'rmse': {'k': 10, 'min_k': 5}}"
      ]
     },
     "execution_count": 60,
     "metadata": {},
     "output_type": "execute_result"
    }
   ],
   "source": [
    "base_model.best_params"
   ]
  },
  {
   "cell_type": "code",
   "execution_count": 61,
   "id": "64fcfb34",
   "metadata": {
    "ExecuteTime": {
     "end_time": "2022-05-11T16:18:35.789798Z",
     "start_time": "2022-05-11T16:18:14.344612Z"
    },
    "collapsed": true
   },
   "outputs": [
    {
     "name": "stderr",
     "output_type": "stream",
     "text": [
      "[Parallel(n_jobs=1)]: Using backend SequentialBackend with 1 concurrent workers.\n"
     ]
    },
    {
     "name": "stdout",
     "output_type": "stream",
     "text": [
      "Computing the msd similarity matrix...\n",
      "Done computing similarity matrix.\n"
     ]
    },
    {
     "name": "stderr",
     "output_type": "stream",
     "text": [
      "[Parallel(n_jobs=1)]: Done   1 out of   1 | elapsed:    0.4s remaining:    0.0s\n"
     ]
    },
    {
     "name": "stdout",
     "output_type": "stream",
     "text": [
      "Computing the msd similarity matrix...\n",
      "Done computing similarity matrix.\n"
     ]
    },
    {
     "name": "stderr",
     "output_type": "stream",
     "text": [
      "[Parallel(n_jobs=1)]: Done   2 out of   2 | elapsed:    0.8s remaining:    0.0s\n"
     ]
    },
    {
     "name": "stdout",
     "output_type": "stream",
     "text": [
      "Computing the msd similarity matrix...\n",
      "Done computing similarity matrix.\n"
     ]
    },
    {
     "name": "stderr",
     "output_type": "stream",
     "text": [
      "[Parallel(n_jobs=1)]: Done   3 out of   3 | elapsed:    1.3s remaining:    0.0s\n"
     ]
    },
    {
     "name": "stdout",
     "output_type": "stream",
     "text": [
      "Computing the msd similarity matrix...\n",
      "Done computing similarity matrix.\n"
     ]
    },
    {
     "name": "stderr",
     "output_type": "stream",
     "text": [
      "[Parallel(n_jobs=1)]: Done   4 out of   4 | elapsed:    1.7s remaining:    0.0s\n"
     ]
    },
    {
     "name": "stdout",
     "output_type": "stream",
     "text": [
      "Computing the msd similarity matrix...\n",
      "Done computing similarity matrix.\n",
      "Computing the msd similarity matrix...\n",
      "Done computing similarity matrix.\n",
      "Computing the msd similarity matrix...\n",
      "Done computing similarity matrix.\n",
      "Computing the msd similarity matrix...\n",
      "Done computing similarity matrix.\n",
      "Computing the msd similarity matrix...\n",
      "Done computing similarity matrix.\n",
      "Computing the msd similarity matrix...\n",
      "Done computing similarity matrix.\n",
      "Computing the msd similarity matrix...\n",
      "Done computing similarity matrix.\n",
      "Computing the msd similarity matrix...\n",
      "Done computing similarity matrix.\n",
      "Computing the msd similarity matrix...\n",
      "Done computing similarity matrix.\n",
      "Computing the msd similarity matrix...\n",
      "Done computing similarity matrix.\n",
      "Computing the msd similarity matrix...\n",
      "Done computing similarity matrix.\n",
      "Computing the msd similarity matrix...\n",
      "Done computing similarity matrix.\n",
      "Computing the msd similarity matrix...\n",
      "Done computing similarity matrix.\n",
      "Computing the msd similarity matrix...\n",
      "Done computing similarity matrix.\n",
      "Computing the msd similarity matrix...\n",
      "Done computing similarity matrix.\n",
      "Computing the msd similarity matrix...\n",
      "Done computing similarity matrix.\n",
      "Computing the msd similarity matrix...\n",
      "Done computing similarity matrix.\n",
      "Computing the msd similarity matrix...\n",
      "Done computing similarity matrix.\n",
      "Computing the msd similarity matrix...\n",
      "Done computing similarity matrix.\n",
      "Computing the msd similarity matrix...\n",
      "Done computing similarity matrix.\n",
      "Computing the msd similarity matrix...\n",
      "Done computing similarity matrix.\n",
      "Computing the msd similarity matrix...\n",
      "Done computing similarity matrix.\n",
      "Computing the msd similarity matrix...\n",
      "Done computing similarity matrix.\n",
      "Computing the msd similarity matrix...\n",
      "Done computing similarity matrix.\n",
      "Computing the msd similarity matrix...\n",
      "Done computing similarity matrix.\n",
      "Computing the msd similarity matrix...\n",
      "Done computing similarity matrix.\n",
      "Computing the msd similarity matrix...\n",
      "Done computing similarity matrix.\n",
      "Computing the msd similarity matrix...\n",
      "Done computing similarity matrix.\n",
      "Computing the msd similarity matrix...\n",
      "Done computing similarity matrix.\n",
      "Computing the msd similarity matrix...\n",
      "Done computing similarity matrix.\n",
      "Computing the msd similarity matrix...\n",
      "Done computing similarity matrix.\n",
      "Computing the msd similarity matrix...\n",
      "Done computing similarity matrix.\n",
      "Computing the msd similarity matrix...\n",
      "Done computing similarity matrix.\n",
      "Computing the msd similarity matrix...\n",
      "Done computing similarity matrix.\n",
      "Computing the msd similarity matrix...\n",
      "Done computing similarity matrix.\n",
      "Computing the msd similarity matrix...\n",
      "Done computing similarity matrix.\n",
      "Computing the msd similarity matrix...\n",
      "Done computing similarity matrix.\n",
      "Computing the msd similarity matrix...\n",
      "Done computing similarity matrix.\n",
      "Computing the msd similarity matrix...\n",
      "Done computing similarity matrix.\n",
      "Computing the msd similarity matrix...\n",
      "Done computing similarity matrix.\n",
      "Computing the msd similarity matrix...\n",
      "Done computing similarity matrix.\n"
     ]
    },
    {
     "name": "stderr",
     "output_type": "stream",
     "text": [
      "[Parallel(n_jobs=1)]: Done  45 out of  45 | elapsed:   21.0s finished\n"
     ]
    }
   ],
   "source": [
    "#trying different parameters\n",
    "param_grid = {'k':[5, 10, 15],'min_k': [1, 5, 10]}\n",
    "base_model = GridSearchCV(KNNBasic,param_grid=param_grid,joblib_verbose=5, measures=['RMSE'])\n",
    "base_model.fit(train_data)"
   ]
  },
  {
   "cell_type": "code",
   "execution_count": null,
   "id": "c65acd00",
   "metadata": {},
   "outputs": [],
   "source": [
    "base_model.best_params"
   ]
  },
  {
   "cell_type": "code",
   "execution_count": null,
   "id": "30e45544",
   "metadata": {},
   "outputs": [],
   "source": [
    "param_grid = {'k':[10, 15, 20],'min_k': [1, 5, 10]}\n",
    "base_model = GridSearchCV(KNNBasic,param_grid=param_grid,joblib_verbose=5, measures=['RMSE'])\n",
    "base_model.fit(train_data)"
   ]
  },
  {
   "cell_type": "code",
   "execution_count": null,
   "id": "6c5f5d96",
   "metadata": {},
   "outputs": [],
   "source": [
    "base_model.best_params"
   ]
  },
  {
   "cell_type": "markdown",
   "id": "35db738c",
   "metadata": {},
   "source": [
    "#### KNN Cross Validation"
   ]
  },
  {
   "cell_type": "code",
   "execution_count": 38,
   "id": "c78c5d0d",
   "metadata": {
    "ExecuteTime": {
     "end_time": "2022-05-11T16:18:35.792687Z",
     "start_time": "2022-05-11T16:18:35.790888Z"
    }
   },
   "outputs": [],
   "source": [
    "#instantiate KNN model \n",
    "model1=KNNBasic(k=15, min_k=5)"
   ]
  },
  {
   "cell_type": "code",
   "execution_count": 39,
   "id": "057b6594",
   "metadata": {
    "ExecuteTime": {
     "end_time": "2022-05-11T16:39:44.336062Z",
     "start_time": "2022-05-11T16:39:41.217623Z"
    },
    "scrolled": false
   },
   "outputs": [
    {
     "name": "stdout",
     "output_type": "stream",
     "text": [
      "Computing the msd similarity matrix...\n",
      "Done computing similarity matrix.\n",
      "Computing the msd similarity matrix...\n",
      "Done computing similarity matrix.\n",
      "Computing the msd similarity matrix...\n",
      "Done computing similarity matrix.\n",
      "Computing the msd similarity matrix...\n",
      "Done computing similarity matrix.\n",
      "Computing the msd similarity matrix...\n",
      "Done computing similarity matrix.\n",
      "Evaluating RMSE of algorithm KNNBasic on 5 split(s).\n",
      "\n",
      "                  Fold 1  Fold 2  Fold 3  Fold 4  Fold 5  Mean    Std     \n",
      "RMSE (testset)    0.9516  0.9550  0.9621  0.9418  0.9465  0.9514  0.0070  \n",
      "Fit time          0.04    0.04    0.04    0.04    0.04    0.04    0.00    \n",
      "Test time         0.54    0.47    0.51    0.47    0.44    0.49    0.03    \n"
     ]
    },
    {
     "data": {
      "text/plain": [
       "{'test_rmse': array([0.95155803, 0.95503677, 0.96206012, 0.94179567, 0.94654934]),\n",
       " 'fit_time': (0.03717398643493652,\n",
       "  0.04219317436218262,\n",
       "  0.04359602928161621,\n",
       "  0.03920698165893555,\n",
       "  0.03804802894592285),\n",
       " 'test_time': (0.5408999919891357,\n",
       "  0.4726581573486328,\n",
       "  0.5065121650695801,\n",
       "  0.47301816940307617,\n",
       "  0.44199705123901367)}"
      ]
     },
     "execution_count": 39,
     "metadata": {},
     "output_type": "execute_result"
    }
   ],
   "source": [
    "#instaniatite and perform cross val with training data\n",
    "knn_cv_results = cross_validate(model1, train_data, measures=['RMSE'], cv=5, verbose=True)\n",
    "knn_cv_results"
   ]
  },
  {
   "cell_type": "code",
   "execution_count": null,
   "id": "8569a5aa",
   "metadata": {},
   "outputs": [],
   "source": [
    "#use model to predict\n",
    "model1.predict(uid=10, iid = 20)\n",
    "#this model just predicted what user 10 would predict movie 20"
   ]
  },
  {
   "cell_type": "markdown",
   "id": "61d49eb8",
   "metadata": {},
   "source": [
    "Looking at the output above we can determine that our model predicted that use 10 would rate movie 20 a 2.5 give or take our RSME which is .95."
   ]
  },
  {
   "cell_type": "code",
   "execution_count": 40,
   "id": "21c152a8",
   "metadata": {
    "ExecuteTime": {
     "end_time": "2022-05-11T16:41:24.811007Z",
     "start_time": "2022-05-11T16:41:24.804825Z"
    }
   },
   "outputs": [
    {
     "data": {
      "text/plain": [
       "0.9513999865335929"
      ]
     },
     "execution_count": 40,
     "metadata": {},
     "output_type": "execute_result"
    }
   ],
   "source": [
    "knn_rsme = knn_cv_results['test_rmse'].mean()\n",
    "knn_rsme"
   ]
  },
  {
   "cell_type": "markdown",
   "id": "bd13a547",
   "metadata": {},
   "source": [
    "### SVD"
   ]
  },
  {
   "cell_type": "code",
   "execution_count": 43,
   "id": "1a1832f6",
   "metadata": {},
   "outputs": [],
   "source": [
    "model2 = SVD()"
   ]
  },
  {
   "cell_type": "code",
   "execution_count": null,
   "id": "49e4f14c",
   "metadata": {},
   "outputs": [],
   "source": [
    "cross_validate(model2, train_data, measures=['RMSE'], cv=5, verbose=True)"
   ]
  },
  {
   "cell_type": "code",
   "execution_count": null,
   "id": "d03b9595",
   "metadata": {},
   "outputs": [],
   "source": [
    "param_grid = {'n_factors':[10,20,50],'n_epochs': [5, 10, 15], 'lr_all': [0.002,0.005,0.01],\n",
    "             'reg_all': [0.2,0.4,0.6]}\n",
    "gs_model2 = GridSearchCV(SVD,param_grid=param_grid,joblib_verbose=5, measures=['RMSE'])\n",
    "gs_model2.fit(train_data)"
   ]
  },
  {
   "cell_type": "code",
   "execution_count": null,
   "id": "94d1a4bd",
   "metadata": {},
   "outputs": [],
   "source": [
    "gs_model2.best_params"
   ]
  },
  {
   "cell_type": "code",
   "execution_count": null,
   "id": "d9bc2eff",
   "metadata": {},
   "outputs": [],
   "source": [
    "param_grid = {'n_factors':[25, 50, 75],'n_epochs': [15, 30, 45], 'lr_all': [0.01,0.05,0.1],\n",
    "             'reg_all': [0.1,0.2,0.3]}\n",
    "gs_model2 = GridSearchCV(SVD,param_grid=param_grid,joblib_verbose=5, measures=['RMSE'])\n",
    "gs_model2.fit(train_data)"
   ]
  },
  {
   "cell_type": "code",
   "execution_count": null,
   "id": "8c802dd9",
   "metadata": {},
   "outputs": [],
   "source": [
    "gs_model2.best_params"
   ]
  },
  {
   "cell_type": "code",
   "execution_count": null,
   "id": "80ed7ce6",
   "metadata": {},
   "outputs": [],
   "source": [
    "\n",
    "cross_validate(SVD(n_factors=75,n_epochs=45,lr_all=0.01,reg_all=0.1), train_data, measures=['RMSE'], \n",
    "               cv=5, verbose=True)"
   ]
  },
  {
   "cell_type": "code",
   "execution_count": null,
   "id": "1d8bd3f8",
   "metadata": {},
   "outputs": [],
   "source": [
    "param_grid = {'n_factors':[75, 100, 125],'n_epochs': [45, 60, 75], 'lr_all': [.005, 0.01, .015],\n",
    "             'reg_all': [.05, 0.1, 0.15]}\n",
    "gs_model2 = GridSearchCV(SVD,param_grid=param_grid,joblib_verbose=5, measures=['RMSE'])\n",
    "gs_model2.fit(train_data)"
   ]
  },
  {
   "cell_type": "code",
   "execution_count": null,
   "id": "5d5464dd",
   "metadata": {},
   "outputs": [],
   "source": [
    "gs_model2.best_params"
   ]
  },
  {
   "cell_type": "code",
   "execution_count": 41,
   "id": "9b3e261c",
   "metadata": {
    "ExecuteTime": {
     "end_time": "2022-05-11T16:43:07.493802Z",
     "start_time": "2022-05-11T16:42:25.812800Z"
    }
   },
   "outputs": [
    {
     "name": "stdout",
     "output_type": "stream",
     "text": [
      "Evaluating RMSE of algorithm SVD on 5 split(s).\n",
      "\n",
      "                  Fold 1  Fold 2  Fold 3  Fold 4  Fold 5  Mean    Std     \n",
      "RMSE (testset)    0.8647  0.8588  0.8653  0.8466  0.8578  0.8586  0.0067  \n",
      "Fit time          8.04    8.04    7.97    8.04    8.18    8.06    0.07    \n",
      "Test time         0.07    0.06    0.06    0.06    0.12    0.08    0.02    \n"
     ]
    },
    {
     "data": {
      "text/plain": [
       "{'test_rmse': array([0.86471184, 0.8587829 , 0.86531234, 0.84659972, 0.85777211]),\n",
       " 'fit_time': (8.043996810913086,\n",
       "  8.040624856948853,\n",
       "  7.974098205566406,\n",
       "  8.043864965438843,\n",
       "  8.183681964874268),\n",
       " 'test_time': (0.06973695755004883,\n",
       "  0.06315803527832031,\n",
       "  0.06459808349609375,\n",
       "  0.06373000144958496,\n",
       "  0.12199187278747559)}"
      ]
     },
     "execution_count": 41,
     "metadata": {},
     "output_type": "execute_result"
    }
   ],
   "source": [
    "svd_cv_results = cross_validate(SVD(n_factors=125,n_epochs=45,lr_all=0.015,reg_all=0.1), train_data, measures=['RMSE'], \n",
    "               cv=5, verbose=True)\n",
    "svd_cv_results"
   ]
  },
  {
   "cell_type": "code",
   "execution_count": 42,
   "id": "400be664",
   "metadata": {
    "ExecuteTime": {
     "end_time": "2022-05-11T16:43:07.497876Z",
     "start_time": "2022-05-11T16:43:07.495424Z"
    }
   },
   "outputs": [
    {
     "data": {
      "text/plain": [
       "0.8586357827204919"
      ]
     },
     "execution_count": 42,
     "metadata": {},
     "output_type": "execute_result"
    }
   ],
   "source": [
    "svd_rsme = svd_cv_results['test_rmse'].mean()\n",
    "svd_rsme"
   ]
  },
  {
   "cell_type": "markdown",
   "id": "d7db8060",
   "metadata": {},
   "source": [
    "### NMF"
   ]
  },
  {
   "cell_type": "code",
   "execution_count": 46,
   "id": "ace7b588",
   "metadata": {},
   "outputs": [],
   "source": [
    "model3 = NMF()"
   ]
  },
  {
   "cell_type": "code",
   "execution_count": null,
   "id": "29777eac",
   "metadata": {},
   "outputs": [],
   "source": [
    "cross_validate(model3, train_data, measures=['RMSE'], cv=5, verbose=True)"
   ]
  },
  {
   "cell_type": "code",
   "execution_count": null,
   "id": "9f9eeefa",
   "metadata": {},
   "outputs": [],
   "source": [
    "param_grid = {'n_factors':[10,15,20],'n_epochs': [25, 50, 75]}\n",
    "gs_model3 = GridSearchCV(NMF,param_grid=param_grid,joblib_verbose=5, measures=['RMSE'])\n",
    "gs_model3.fit(train_data)"
   ]
  },
  {
   "cell_type": "code",
   "execution_count": null,
   "id": "8951a15b",
   "metadata": {},
   "outputs": [],
   "source": [
    "gs_model3.best_params"
   ]
  },
  {
   "cell_type": "code",
   "execution_count": null,
   "id": "3a0d00b3",
   "metadata": {},
   "outputs": [],
   "source": [
    "cross_validate(NMF(n_factors=10,n_epochs=25), train_data, measures=['RMSE'], \n",
    "               cv=5, verbose=True)"
   ]
  },
  {
   "cell_type": "code",
   "execution_count": 150,
   "id": "b024e841",
   "metadata": {
    "ExecuteTime": {
     "end_time": "2022-05-11T16:44:27.860007Z",
     "start_time": "2022-05-11T16:43:40.604980Z"
    }
   },
   "outputs": [
    {
     "name": "stderr",
     "output_type": "stream",
     "text": [
      "[Parallel(n_jobs=1)]: Using backend SequentialBackend with 1 concurrent workers.\n",
      "[Parallel(n_jobs=1)]: Done   1 out of   1 | elapsed:    0.7s remaining:    0.0s\n",
      "[Parallel(n_jobs=1)]: Done   2 out of   2 | elapsed:    1.3s remaining:    0.0s\n",
      "[Parallel(n_jobs=1)]: Done   3 out of   3 | elapsed:    2.0s remaining:    0.0s\n",
      "[Parallel(n_jobs=1)]: Done   4 out of   4 | elapsed:    2.7s remaining:    0.0s\n",
      "[Parallel(n_jobs=1)]: Done  45 out of  45 | elapsed:   46.9s finished\n"
     ]
    }
   ],
   "source": [
    "param_grid = {'n_factors':[3,5,10],'n_epochs': [15, 20, 25]}\n",
    "gs_model3 = GridSearchCV(NMF,param_grid=param_grid,joblib_verbose=5, measures=['RMSE'])\n",
    "gs_model3.fit(train_data)"
   ]
  },
  {
   "cell_type": "code",
   "execution_count": 151,
   "id": "b6ab8050",
   "metadata": {
    "ExecuteTime": {
     "end_time": "2022-05-11T16:44:27.864242Z",
     "start_time": "2022-05-11T16:44:27.861448Z"
    }
   },
   "outputs": [
    {
     "data": {
      "text/plain": [
       "{'rmse': {'n_factors': 10, 'n_epochs': 25}}"
      ]
     },
     "execution_count": 151,
     "metadata": {},
     "output_type": "execute_result"
    }
   ],
   "source": [
    "gs_model3.best_params"
   ]
  },
  {
   "cell_type": "code",
   "execution_count": 155,
   "id": "6dcc1b54",
   "metadata": {
    "ExecuteTime": {
     "end_time": "2022-05-11T16:49:26.020560Z",
     "start_time": "2022-05-11T16:46:32.311588Z"
    }
   },
   "outputs": [
    {
     "name": "stderr",
     "output_type": "stream",
     "text": [
      "[Parallel(n_jobs=1)]: Using backend SequentialBackend with 1 concurrent workers.\n",
      "[Parallel(n_jobs=1)]: Done   1 out of   1 | elapsed:    1.4s remaining:    0.0s\n",
      "[Parallel(n_jobs=1)]: Done   2 out of   2 | elapsed:    2.8s remaining:    0.0s\n",
      "[Parallel(n_jobs=1)]: Done   3 out of   3 | elapsed:    4.7s remaining:    0.0s\n",
      "[Parallel(n_jobs=1)]: Done   4 out of   4 | elapsed:    6.1s remaining:    0.0s\n",
      "[Parallel(n_jobs=1)]: Done  45 out of  45 | elapsed:  2.9min finished\n"
     ]
    }
   ],
   "source": [
    "param_grid = {'n_factors':[10, 20, 30],'n_epochs': [25, 50, 75]}\n",
    "gs_model3 = GridSearchCV(NMF,param_grid=param_grid,joblib_verbose=5, measures=['RMSE'])\n",
    "gs_model3.fit(train_data)"
   ]
  },
  {
   "cell_type": "code",
   "execution_count": 156,
   "id": "a7c4b410",
   "metadata": {
    "ExecuteTime": {
     "end_time": "2022-05-11T16:51:20.901862Z",
     "start_time": "2022-05-11T16:51:20.894123Z"
    }
   },
   "outputs": [
    {
     "data": {
      "text/plain": [
       "{'rmse': {'n_factors': 20, 'n_epochs': 50}}"
      ]
     },
     "execution_count": 156,
     "metadata": {},
     "output_type": "execute_result"
    }
   ],
   "source": [
    "gs_model3.best_params"
   ]
  },
  {
   "cell_type": "code",
   "execution_count": null,
   "id": "53b3607f",
   "metadata": {},
   "outputs": [],
   "source": []
  },
  {
   "cell_type": "code",
   "execution_count": null,
   "id": "8150f3de",
   "metadata": {},
   "outputs": [],
   "source": []
  },
  {
   "cell_type": "code",
   "execution_count": 43,
   "id": "d3511ef5",
   "metadata": {
    "ExecuteTime": {
     "end_time": "2022-05-11T16:51:55.029101Z",
     "start_time": "2022-05-11T16:51:35.915650Z"
    }
   },
   "outputs": [
    {
     "name": "stdout",
     "output_type": "stream",
     "text": [
      "Evaluating RMSE of algorithm NMF on 5 split(s).\n",
      "\n",
      "                  Fold 1  Fold 2  Fold 3  Fold 4  Fold 5  Mean    Std     \n",
      "RMSE (testset)    0.9389  0.9279  0.9367  0.9383  0.9395  0.9363  0.0043  \n",
      "Fit time          3.63    3.70    3.76    4.09    3.74    3.78    0.16    \n",
      "Test time         0.05    0.19    0.06    0.06    0.05    0.08    0.05    \n"
     ]
    }
   ],
   "source": [
    "nmf_cv_results = cross_validate(NMF(n_factors=20,n_epochs=50), train_data, measures=['RMSE'], \n",
    "               cv=5, verbose=True)"
   ]
  },
  {
   "cell_type": "code",
   "execution_count": 44,
   "id": "adf1ddd9",
   "metadata": {
    "ExecuteTime": {
     "end_time": "2022-05-11T16:51:55.033406Z",
     "start_time": "2022-05-11T16:51:55.030692Z"
    }
   },
   "outputs": [
    {
     "data": {
      "text/plain": [
       "0.9362789839471507"
      ]
     },
     "execution_count": 44,
     "metadata": {},
     "output_type": "execute_result"
    }
   ],
   "source": [
    "nmf_rsme = nmf_cv_results['test_rmse'].mean()\n",
    "nmf_rsme"
   ]
  },
  {
   "cell_type": "markdown",
   "id": "27912c8e",
   "metadata": {},
   "source": [
    "### Model Performance"
   ]
  },
  {
   "cell_type": "code",
   "execution_count": 45,
   "id": "e52c5362",
   "metadata": {
    "ExecuteTime": {
     "end_time": "2022-05-11T16:52:24.947798Z",
     "start_time": "2022-05-11T16:52:24.942233Z"
    }
   },
   "outputs": [
    {
     "data": {
      "text/plain": [
       "(1.427551684870842, 0.9513999865335929, 0.8586357827204919, 0.9362789839471507)"
      ]
     },
     "execution_count": 45,
     "metadata": {},
     "output_type": "execute_result"
    }
   ],
   "source": [
    "baseline_rsme, knn_rsme, svd_rsme, nmf_rsme"
   ]
  },
  {
   "cell_type": "code",
   "execution_count": 47,
   "id": "23a7497d",
   "metadata": {
    "ExecuteTime": {
     "end_time": "2022-05-11T16:57:46.561318Z",
     "start_time": "2022-05-11T16:57:46.433650Z"
    },
    "scrolled": false
   },
   "outputs": [
    {
     "data": {
      "image/png": "[encoded data removed]",
      "text/plain": [
       "<Figure size 640x480 with 1 Axes>"
      ]
     },
     "metadata": {},
     "output_type": "display_data"
    }
   ],
   "source": [
    "objects = ('Baseline', 'KNN', 'NMF', 'SVD')\n",
    "y_pos = np.arange(len(objects))\n",
    "performance = [baseline_rsme, knn_rsme, nmf_rsme, svd_rsme]\n",
    "\n",
    "plt.bar(y_pos, performance, align='center', alpha=0.5, color=['red', 'blue', 'blue', 'green'])\n",
    "plt.xticks(y_pos, objects)\n",
    "plt.ylabel('Error')\n",
    "plt.title('Model Performance')\n",
    "\n",
    "plt.savefig('./images/model_performance.png', dpi = 200 )\n",
    "\n",
    "plt.show();"
   ]
  },
  {
   "cell_type": "code",
   "execution_count": 52,
   "id": "23462d1b",
   "metadata": {
    "scrolled": true
   },
   "outputs": [
    {
     "data": {
      "text/plain": [
       "<Figure size 640x480 with 0 Axes>"
      ]
     },
     "metadata": {},
     "output_type": "display_data"
    }
   ],
   "source": []
  },
  {
   "cell_type": "markdown",
   "id": "a076da22",
   "metadata": {},
   "source": [
    "With all the best parameters calculated, our SVD model scored the lowest on RSME"
   ]
  },
  {
   "cell_type": "markdown",
   "id": "aaa069a6",
   "metadata": {},
   "source": [
    "### Final Model Evaluation"
   ]
  },
  {
   "cell_type": "code",
   "execution_count": 36,
   "id": "78e32d2d",
   "metadata": {
    "ExecuteTime": {
     "end_time": "2022-05-11T18:15:54.378941Z",
     "start_time": "2022-05-11T18:15:54.372126Z"
    }
   },
   "outputs": [],
   "source": [
    "final_model = SVD(n_factors=125,n_epochs=45,lr_all=0.015,reg_all=0.1)"
   ]
  },
  {
   "cell_type": "code",
   "execution_count": 37,
   "id": "a2820edc",
   "metadata": {
    "ExecuteTime": {
     "end_time": "2022-05-11T18:16:05.008323Z",
     "start_time": "2022-05-11T18:15:54.801508Z"
    }
   },
   "outputs": [],
   "source": [
    "predictions = final_model.fit(train_data2).test(test_data2)"
   ]
  },
  {
   "cell_type": "code",
   "execution_count": 38,
   "id": "112342b2",
   "metadata": {
    "ExecuteTime": {
     "end_time": "2022-05-11T18:16:05.036643Z",
     "start_time": "2022-05-11T18:16:05.011229Z"
    }
   },
   "outputs": [
    {
     "name": "stdout",
     "output_type": "stream",
     "text": [
      "RMSE: 0.8605\n"
     ]
    },
    {
     "data": {
      "text/plain": [
       "0.8605311839107885"
      ]
     },
     "execution_count": 38,
     "metadata": {},
     "output_type": "execute_result"
    }
   ],
   "source": [
    "accuracy.rmse(predictions)"
   ]
  },
  {
   "cell_type": "markdown",
   "id": "45593551",
   "metadata": {},
   "source": [
    "## Deployment"
   ]
  },
  {
   "cell_type": "code",
   "execution_count": 39,
   "id": "0d563564",
   "metadata": {
    "ExecuteTime": {
     "end_time": "2022-05-11T18:16:36.720025Z",
     "start_time": "2022-05-11T18:16:36.536692Z"
    }
   },
   "outputs": [],
   "source": [
    "#create trainset object from surprise dataset\n",
    "full_data = complete_data.build_full_trainset()"
   ]
  },
  {
   "cell_type": "code",
   "execution_count": 40,
   "id": "9056c604",
   "metadata": {
    "ExecuteTime": {
     "end_time": "2022-05-11T18:16:49.733076Z",
     "start_time": "2022-05-11T18:16:36.721450Z"
    }
   },
   "outputs": [
    {
     "data": {
      "text/plain": [
       "<surprise.prediction_algorithms.matrix_factorization.SVD at 0x12ba00f84c0>"
      ]
     },
     "execution_count": 40,
     "metadata": {},
     "output_type": "execute_result"
    }
   ],
   "source": [
    "final_model.fit(full_data)"
   ]
  },
  {
   "cell_type": "markdown",
   "id": "1ed44f85",
   "metadata": {},
   "source": [
    "#### Function Building"
   ]
  },
  {
   "cell_type": "code",
   "execution_count": 41,
   "id": "f9748da3",
   "metadata": {
    "ExecuteTime": {
     "end_time": "2022-05-11T18:16:49.747635Z",
     "start_time": "2022-05-11T18:16:49.735335Z"
    }
   },
   "outputs": [],
   "source": [
    "#setting index to ensure dropping\n",
    "userdf = movie_rating.set_index('userId')"
   ]
  },
  {
   "cell_type": "code",
   "execution_count": 42,
   "id": "160cb305",
   "metadata": {
    "ExecuteTime": {
     "end_time": "2022-05-11T18:16:49.766575Z",
     "start_time": "2022-05-11T18:16:49.750443Z"
    }
   },
   "outputs": [
    {
     "data": {
      "text/html": [
       "<div>\n",
       "<style scoped>\n",
       "    .dataframe tbody tr th:only-of-type {\n",
       "        vertical-align: middle;\n",
       "    }\n",
       "\n",
       "    .dataframe tbody tr th {\n",
       "        vertical-align: top;\n",
       "    }\n",
       "\n",
       "    .dataframe thead th {\n",
       "        text-align: right;\n",
       "    }\n",
       "</style>\n",
       "<table border=\"1\" class=\"dataframe\">\n",
       "  <thead>\n",
       "    <tr style=\"text-align: right;\">\n",
       "      <th></th>\n",
       "      <th>movieId</th>\n",
       "      <th>genres</th>\n",
       "      <th>Title</th>\n",
       "      <th>year_released</th>\n",
       "      <th>rating</th>\n",
       "      <th>timestamp</th>\n",
       "    </tr>\n",
       "    <tr>\n",
       "      <th>userId</th>\n",
       "      <th></th>\n",
       "      <th></th>\n",
       "      <th></th>\n",
       "      <th></th>\n",
       "      <th></th>\n",
       "      <th></th>\n",
       "    </tr>\n",
       "  </thead>\n",
       "  <tbody>\n",
       "    <tr>\n",
       "      <th>1.0</th>\n",
       "      <td>1</td>\n",
       "      <td>adventure, animation, children, comedy, fantasy</td>\n",
       "      <td>Toy Story</td>\n",
       "      <td>1995</td>\n",
       "      <td>4.0</td>\n",
       "      <td>2000-07-30 18:45:03</td>\n",
       "    </tr>\n",
       "    <tr>\n",
       "      <th>5.0</th>\n",
       "      <td>1</td>\n",
       "      <td>adventure, animation, children, comedy, fantasy</td>\n",
       "      <td>Toy Story</td>\n",
       "      <td>1995</td>\n",
       "      <td>4.0</td>\n",
       "      <td>1996-11-08 06:36:02</td>\n",
       "    </tr>\n",
       "    <tr>\n",
       "      <th>7.0</th>\n",
       "      <td>1</td>\n",
       "      <td>adventure, animation, children, comedy, fantasy</td>\n",
       "      <td>Toy Story</td>\n",
       "      <td>1995</td>\n",
       "      <td>4.5</td>\n",
       "      <td>2005-01-25 06:52:26</td>\n",
       "    </tr>\n",
       "    <tr>\n",
       "      <th>15.0</th>\n",
       "      <td>1</td>\n",
       "      <td>adventure, animation, children, comedy, fantasy</td>\n",
       "      <td>Toy Story</td>\n",
       "      <td>1995</td>\n",
       "      <td>2.5</td>\n",
       "      <td>2017-11-13 12:59:30</td>\n",
       "    </tr>\n",
       "    <tr>\n",
       "      <th>17.0</th>\n",
       "      <td>1</td>\n",
       "      <td>adventure, animation, children, comedy, fantasy</td>\n",
       "      <td>Toy Story</td>\n",
       "      <td>1995</td>\n",
       "      <td>4.5</td>\n",
       "      <td>2011-05-18 05:28:03</td>\n",
       "    </tr>\n",
       "    <tr>\n",
       "      <th>...</th>\n",
       "      <td>...</td>\n",
       "      <td>...</td>\n",
       "      <td>...</td>\n",
       "      <td>...</td>\n",
       "      <td>...</td>\n",
       "      <td>...</td>\n",
       "    </tr>\n",
       "    <tr>\n",
       "      <th>184.0</th>\n",
       "      <td>193581</td>\n",
       "      <td>action, animation, comedy, fantasy</td>\n",
       "      <td>Black Butler: Book of the Atlantic</td>\n",
       "      <td>2017</td>\n",
       "      <td>4.0</td>\n",
       "      <td>2018-09-16 14:44:42</td>\n",
       "    </tr>\n",
       "    <tr>\n",
       "      <th>184.0</th>\n",
       "      <td>193583</td>\n",
       "      <td>animation, comedy, fantasy</td>\n",
       "      <td>No Game No Life: Zero</td>\n",
       "      <td>2017</td>\n",
       "      <td>3.5</td>\n",
       "      <td>2018-09-16 14:52:25</td>\n",
       "    </tr>\n",
       "    <tr>\n",
       "      <th>184.0</th>\n",
       "      <td>193585</td>\n",
       "      <td>drama</td>\n",
       "      <td>Flint</td>\n",
       "      <td>2017</td>\n",
       "      <td>3.5</td>\n",
       "      <td>2018-09-16 14:56:45</td>\n",
       "    </tr>\n",
       "    <tr>\n",
       "      <th>184.0</th>\n",
       "      <td>193587</td>\n",
       "      <td>action, animation</td>\n",
       "      <td>Bungo Stray Dogs: Dead Apple</td>\n",
       "      <td>2018</td>\n",
       "      <td>3.5</td>\n",
       "      <td>2018-09-16 15:00:21</td>\n",
       "    </tr>\n",
       "    <tr>\n",
       "      <th>331.0</th>\n",
       "      <td>193609</td>\n",
       "      <td>comedy</td>\n",
       "      <td>Andrew Dice Clay: Dice Rules</td>\n",
       "      <td>1991</td>\n",
       "      <td>4.0</td>\n",
       "      <td>2018-09-17 04:13:26</td>\n",
       "    </tr>\n",
       "  </tbody>\n",
       "</table>\n",
       "<p>100813 rows × 6 columns</p>\n",
       "</div>"
      ],
      "text/plain": [
       "        movieId                                           genres  \\\n",
       "userId                                                             \n",
       "1.0           1  adventure, animation, children, comedy, fantasy   \n",
       "5.0           1  adventure, animation, children, comedy, fantasy   \n",
       "7.0           1  adventure, animation, children, comedy, fantasy   \n",
       "15.0          1  adventure, animation, children, comedy, fantasy   \n",
       "17.0          1  adventure, animation, children, comedy, fantasy   \n",
       "...         ...                                              ...   \n",
       "184.0    193581               action, animation, comedy, fantasy   \n",
       "184.0    193583                       animation, comedy, fantasy   \n",
       "184.0    193585                                            drama   \n",
       "184.0    193587                                action, animation   \n",
       "331.0    193609                                           comedy   \n",
       "\n",
       "                                      Title year_released  rating  \\\n",
       "userId                                                              \n",
       "1.0                              Toy Story           1995     4.0   \n",
       "5.0                              Toy Story           1995     4.0   \n",
       "7.0                              Toy Story           1995     4.5   \n",
       "15.0                             Toy Story           1995     2.5   \n",
       "17.0                             Toy Story           1995     4.5   \n",
       "...                                     ...           ...     ...   \n",
       "184.0   Black Butler: Book of the Atlantic           2017     4.0   \n",
       "184.0                No Game No Life: Zero           2017     3.5   \n",
       "184.0                                Flint           2017     3.5   \n",
       "184.0         Bungo Stray Dogs: Dead Apple           2018     3.5   \n",
       "331.0         Andrew Dice Clay: Dice Rules           1991     4.0   \n",
       "\n",
       "                 timestamp  \n",
       "userId                      \n",
       "1.0    2000-07-30 18:45:03  \n",
       "5.0    1996-11-08 06:36:02  \n",
       "7.0    2005-01-25 06:52:26  \n",
       "15.0   2017-11-13 12:59:30  \n",
       "17.0   2011-05-18 05:28:03  \n",
       "...                    ...  \n",
       "184.0  2018-09-16 14:44:42  \n",
       "184.0  2018-09-16 14:52:25  \n",
       "184.0  2018-09-16 14:56:45  \n",
       "184.0  2018-09-16 15:00:21  \n",
       "331.0  2018-09-17 04:13:26  \n",
       "\n",
       "[100813 rows x 6 columns]"
      ]
     },
     "execution_count": 42,
     "metadata": {},
     "output_type": "execute_result"
    }
   ],
   "source": [
    "userdf"
   ]
  },
  {
   "cell_type": "code",
   "execution_count": 43,
   "id": "3710494c",
   "metadata": {
    "ExecuteTime": {
     "end_time": "2022-05-11T18:16:49.769943Z",
     "start_time": "2022-05-11T18:16:49.767958Z"
    }
   },
   "outputs": [],
   "source": [
    "#create \n",
    "userdf1 = userdf['movieId']"
   ]
  },
  {
   "cell_type": "code",
   "execution_count": 44,
   "id": "a39dbb4d",
   "metadata": {
    "ExecuteTime": {
     "end_time": "2022-05-11T18:16:49.780553Z",
     "start_time": "2022-05-11T18:16:49.771260Z"
    }
   },
   "outputs": [
    {
     "data": {
      "text/plain": [
       "userId\n",
       "9.0      41\n",
       "9.0     187\n",
       "9.0     223\n",
       "9.0     371\n",
       "9.0     627\n",
       "9.0     922\n",
       "9.0     923\n",
       "9.0    1037\n",
       "9.0    1095\n",
       "9.0    1198\n",
       "9.0    1270\n",
       "9.0    1674\n",
       "9.0    1987\n",
       "9.0    2011\n",
       "9.0    2012\n",
       "9.0    2023\n",
       "9.0    2300\n",
       "9.0    2877\n",
       "9.0    2901\n",
       "9.0    3173\n",
       "9.0    3328\n",
       "9.0    3735\n",
       "9.0    4131\n",
       "9.0    4558\n",
       "9.0    4993\n",
       "9.0    5218\n",
       "9.0    5378\n",
       "9.0    5445\n",
       "9.0    5447\n",
       "9.0    5451\n",
       "9.0    5481\n",
       "9.0    5507\n",
       "9.0    5841\n",
       "9.0    5843\n",
       "9.0    5872\n",
       "9.0    5890\n",
       "9.0    5891\n",
       "9.0    5893\n",
       "9.0    5902\n",
       "9.0    5952\n",
       "9.0    5956\n",
       "9.0    5962\n",
       "9.0    5965\n",
       "9.0    5988\n",
       "9.0    6001\n",
       "9.0    6044\n",
       "Name: movieId, dtype: int64"
      ]
     },
     "execution_count": 44,
     "metadata": {},
     "output_type": "execute_result"
    }
   ],
   "source": [
    "userdf1.loc[9,]"
   ]
  },
  {
   "cell_type": "code",
   "execution_count": 45,
   "id": "6a5669b7",
   "metadata": {
    "ExecuteTime": {
     "end_time": "2022-05-11T18:16:49.786152Z",
     "start_time": "2022-05-11T18:16:49.783391Z"
    }
   },
   "outputs": [],
   "source": [
    "user_rate = list(userdf1.loc[9,])"
   ]
  },
  {
   "cell_type": "code",
   "execution_count": 46,
   "id": "2b528fa1",
   "metadata": {
    "ExecuteTime": {
     "end_time": "2022-05-11T18:16:49.790728Z",
     "start_time": "2022-05-11T18:16:49.788081Z"
    }
   },
   "outputs": [
    {
     "data": {
      "text/plain": [
       "[41,\n",
       " 187,\n",
       " 223,\n",
       " 371,\n",
       " 627,\n",
       " 922,\n",
       " 923,\n",
       " 1037,\n",
       " 1095,\n",
       " 1198,\n",
       " 1270,\n",
       " 1674,\n",
       " 1987,\n",
       " 2011,\n",
       " 2012,\n",
       " 2023,\n",
       " 2300,\n",
       " 2877,\n",
       " 2901,\n",
       " 3173,\n",
       " 3328,\n",
       " 3735,\n",
       " 4131,\n",
       " 4558,\n",
       " 4993,\n",
       " 5218,\n",
       " 5378,\n",
       " 5445,\n",
       " 5447,\n",
       " 5451,\n",
       " 5481,\n",
       " 5507,\n",
       " 5841,\n",
       " 5843,\n",
       " 5872,\n",
       " 5890,\n",
       " 5891,\n",
       " 5893,\n",
       " 5902,\n",
       " 5952,\n",
       " 5956,\n",
       " 5962,\n",
       " 5965,\n",
       " 5988,\n",
       " 6001,\n",
       " 6044]"
      ]
     },
     "execution_count": 46,
     "metadata": {},
     "output_type": "execute_result"
    }
   ],
   "source": [
    "user_rate"
   ]
  },
  {
   "cell_type": "code",
   "execution_count": 47,
   "id": "353e1cd7",
   "metadata": {
    "ExecuteTime": {
     "end_time": "2022-05-11T18:16:49.794169Z",
     "start_time": "2022-05-11T18:16:49.791659Z"
    }
   },
   "outputs": [],
   "source": [
    "#setting index so we can drop base off of specific movieId\n",
    "moviedf = movies.set_index('movieId')"
   ]
  },
  {
   "cell_type": "code",
   "execution_count": 48,
   "id": "6b15a8b4",
   "metadata": {
    "ExecuteTime": {
     "end_time": "2022-05-11T18:16:49.802343Z",
     "start_time": "2022-05-11T18:16:49.795147Z"
    }
   },
   "outputs": [
    {
     "data": {
      "text/html": [
       "<div>\n",
       "<style scoped>\n",
       "    .dataframe tbody tr th:only-of-type {\n",
       "        vertical-align: middle;\n",
       "    }\n",
       "\n",
       "    .dataframe tbody tr th {\n",
       "        vertical-align: top;\n",
       "    }\n",
       "\n",
       "    .dataframe thead th {\n",
       "        text-align: right;\n",
       "    }\n",
       "</style>\n",
       "<table border=\"1\" class=\"dataframe\">\n",
       "  <thead>\n",
       "    <tr style=\"text-align: right;\">\n",
       "      <th></th>\n",
       "      <th>genres</th>\n",
       "      <th>Title</th>\n",
       "      <th>year_released</th>\n",
       "    </tr>\n",
       "    <tr>\n",
       "      <th>movieId</th>\n",
       "      <th></th>\n",
       "      <th></th>\n",
       "      <th></th>\n",
       "    </tr>\n",
       "  </thead>\n",
       "  <tbody>\n",
       "    <tr>\n",
       "      <th>1</th>\n",
       "      <td>adventure, animation, children, comedy, fantasy</td>\n",
       "      <td>Toy Story</td>\n",
       "      <td>1995</td>\n",
       "    </tr>\n",
       "    <tr>\n",
       "      <th>2</th>\n",
       "      <td>adventure, children, fantasy</td>\n",
       "      <td>Jumanji</td>\n",
       "      <td>1995</td>\n",
       "    </tr>\n",
       "    <tr>\n",
       "      <th>3</th>\n",
       "      <td>comedy, romance</td>\n",
       "      <td>Grumpier Old Men</td>\n",
       "      <td>1995</td>\n",
       "    </tr>\n",
       "    <tr>\n",
       "      <th>4</th>\n",
       "      <td>comedy, drama, romance</td>\n",
       "      <td>Waiting to Exhale</td>\n",
       "      <td>1995</td>\n",
       "    </tr>\n",
       "    <tr>\n",
       "      <th>5</th>\n",
       "      <td>comedy</td>\n",
       "      <td>Father of the Bride Part II</td>\n",
       "      <td>1995</td>\n",
       "    </tr>\n",
       "    <tr>\n",
       "      <th>...</th>\n",
       "      <td>...</td>\n",
       "      <td>...</td>\n",
       "      <td>...</td>\n",
       "    </tr>\n",
       "    <tr>\n",
       "      <th>193581</th>\n",
       "      <td>action, animation, comedy, fantasy</td>\n",
       "      <td>Black Butler: Book of the Atlantic</td>\n",
       "      <td>2017</td>\n",
       "    </tr>\n",
       "    <tr>\n",
       "      <th>193583</th>\n",
       "      <td>animation, comedy, fantasy</td>\n",
       "      <td>No Game No Life: Zero</td>\n",
       "      <td>2017</td>\n",
       "    </tr>\n",
       "    <tr>\n",
       "      <th>193585</th>\n",
       "      <td>drama</td>\n",
       "      <td>Flint</td>\n",
       "      <td>2017</td>\n",
       "    </tr>\n",
       "    <tr>\n",
       "      <th>193587</th>\n",
       "      <td>action, animation</td>\n",
       "      <td>Bungo Stray Dogs: Dead Apple</td>\n",
       "      <td>2018</td>\n",
       "    </tr>\n",
       "    <tr>\n",
       "      <th>193609</th>\n",
       "      <td>comedy</td>\n",
       "      <td>Andrew Dice Clay: Dice Rules</td>\n",
       "      <td>1991</td>\n",
       "    </tr>\n",
       "  </tbody>\n",
       "</table>\n",
       "<p>9737 rows × 3 columns</p>\n",
       "</div>"
      ],
      "text/plain": [
       "                                                  genres  \\\n",
       "movieId                                                    \n",
       "1        adventure, animation, children, comedy, fantasy   \n",
       "2                           adventure, children, fantasy   \n",
       "3                                        comedy, romance   \n",
       "4                                 comedy, drama, romance   \n",
       "5                                                 comedy   \n",
       "...                                                  ...   \n",
       "193581                action, animation, comedy, fantasy   \n",
       "193583                        animation, comedy, fantasy   \n",
       "193585                                             drama   \n",
       "193587                                 action, animation   \n",
       "193609                                            comedy   \n",
       "\n",
       "                                       Title year_released  \n",
       "movieId                                                     \n",
       "1                                 Toy Story           1995  \n",
       "2                                   Jumanji           1995  \n",
       "3                          Grumpier Old Men           1995  \n",
       "4                         Waiting to Exhale           1995  \n",
       "5               Father of the Bride Part II           1995  \n",
       "...                                      ...           ...  \n",
       "193581   Black Butler: Book of the Atlantic           2017  \n",
       "193583                No Game No Life: Zero           2017  \n",
       "193585                                Flint           2017  \n",
       "193587         Bungo Stray Dogs: Dead Apple           2018  \n",
       "193609         Andrew Dice Clay: Dice Rules           1991  \n",
       "\n",
       "[9737 rows x 3 columns]"
      ]
     },
     "execution_count": 48,
     "metadata": {},
     "output_type": "execute_result"
    }
   ],
   "source": [
    "moviedf"
   ]
  },
  {
   "cell_type": "code",
   "execution_count": 49,
   "id": "30dc6d85",
   "metadata": {
    "ExecuteTime": {
     "end_time": "2022-05-11T18:16:49.809957Z",
     "start_time": "2022-05-11T18:16:49.804965Z"
    }
   },
   "outputs": [],
   "source": [
    "moviedf.drop(user_rate, inplace = True)"
   ]
  },
  {
   "cell_type": "code",
   "execution_count": 50,
   "id": "53f9a167",
   "metadata": {
    "ExecuteTime": {
     "end_time": "2022-05-11T18:16:49.817016Z",
     "start_time": "2022-05-11T18:16:49.810910Z"
    }
   },
   "outputs": [
    {
     "data": {
      "text/html": [
       "<div>\n",
       "<style scoped>\n",
       "    .dataframe tbody tr th:only-of-type {\n",
       "        vertical-align: middle;\n",
       "    }\n",
       "\n",
       "    .dataframe tbody tr th {\n",
       "        vertical-align: top;\n",
       "    }\n",
       "\n",
       "    .dataframe thead th {\n",
       "        text-align: right;\n",
       "    }\n",
       "</style>\n",
       "<table border=\"1\" class=\"dataframe\">\n",
       "  <thead>\n",
       "    <tr style=\"text-align: right;\">\n",
       "      <th></th>\n",
       "      <th>genres</th>\n",
       "      <th>Title</th>\n",
       "      <th>year_released</th>\n",
       "    </tr>\n",
       "    <tr>\n",
       "      <th>movieId</th>\n",
       "      <th></th>\n",
       "      <th></th>\n",
       "      <th></th>\n",
       "    </tr>\n",
       "  </thead>\n",
       "  <tbody>\n",
       "    <tr>\n",
       "      <th>1</th>\n",
       "      <td>adventure, animation, children, comedy, fantasy</td>\n",
       "      <td>Toy Story</td>\n",
       "      <td>1995</td>\n",
       "    </tr>\n",
       "    <tr>\n",
       "      <th>2</th>\n",
       "      <td>adventure, children, fantasy</td>\n",
       "      <td>Jumanji</td>\n",
       "      <td>1995</td>\n",
       "    </tr>\n",
       "    <tr>\n",
       "      <th>3</th>\n",
       "      <td>comedy, romance</td>\n",
       "      <td>Grumpier Old Men</td>\n",
       "      <td>1995</td>\n",
       "    </tr>\n",
       "    <tr>\n",
       "      <th>4</th>\n",
       "      <td>comedy, drama, romance</td>\n",
       "      <td>Waiting to Exhale</td>\n",
       "      <td>1995</td>\n",
       "    </tr>\n",
       "    <tr>\n",
       "      <th>5</th>\n",
       "      <td>comedy</td>\n",
       "      <td>Father of the Bride Part II</td>\n",
       "      <td>1995</td>\n",
       "    </tr>\n",
       "    <tr>\n",
       "      <th>...</th>\n",
       "      <td>...</td>\n",
       "      <td>...</td>\n",
       "      <td>...</td>\n",
       "    </tr>\n",
       "    <tr>\n",
       "      <th>193581</th>\n",
       "      <td>action, animation, comedy, fantasy</td>\n",
       "      <td>Black Butler: Book of the Atlantic</td>\n",
       "      <td>2017</td>\n",
       "    </tr>\n",
       "    <tr>\n",
       "      <th>193583</th>\n",
       "      <td>animation, comedy, fantasy</td>\n",
       "      <td>No Game No Life: Zero</td>\n",
       "      <td>2017</td>\n",
       "    </tr>\n",
       "    <tr>\n",
       "      <th>193585</th>\n",
       "      <td>drama</td>\n",
       "      <td>Flint</td>\n",
       "      <td>2017</td>\n",
       "    </tr>\n",
       "    <tr>\n",
       "      <th>193587</th>\n",
       "      <td>action, animation</td>\n",
       "      <td>Bungo Stray Dogs: Dead Apple</td>\n",
       "      <td>2018</td>\n",
       "    </tr>\n",
       "    <tr>\n",
       "      <th>193609</th>\n",
       "      <td>comedy</td>\n",
       "      <td>Andrew Dice Clay: Dice Rules</td>\n",
       "      <td>1991</td>\n",
       "    </tr>\n",
       "  </tbody>\n",
       "</table>\n",
       "<p>9691 rows × 3 columns</p>\n",
       "</div>"
      ],
      "text/plain": [
       "                                                  genres  \\\n",
       "movieId                                                    \n",
       "1        adventure, animation, children, comedy, fantasy   \n",
       "2                           adventure, children, fantasy   \n",
       "3                                        comedy, romance   \n",
       "4                                 comedy, drama, romance   \n",
       "5                                                 comedy   \n",
       "...                                                  ...   \n",
       "193581                action, animation, comedy, fantasy   \n",
       "193583                        animation, comedy, fantasy   \n",
       "193585                                             drama   \n",
       "193587                                 action, animation   \n",
       "193609                                            comedy   \n",
       "\n",
       "                                       Title year_released  \n",
       "movieId                                                     \n",
       "1                                 Toy Story           1995  \n",
       "2                                   Jumanji           1995  \n",
       "3                          Grumpier Old Men           1995  \n",
       "4                         Waiting to Exhale           1995  \n",
       "5               Father of the Bride Part II           1995  \n",
       "...                                      ...           ...  \n",
       "193581   Black Butler: Book of the Atlantic           2017  \n",
       "193583                No Game No Life: Zero           2017  \n",
       "193585                                Flint           2017  \n",
       "193587         Bungo Stray Dogs: Dead Apple           2018  \n",
       "193609         Andrew Dice Clay: Dice Rules           1991  \n",
       "\n",
       "[9691 rows x 3 columns]"
      ]
     },
     "execution_count": 50,
     "metadata": {},
     "output_type": "execute_result"
    }
   ],
   "source": [
    "moviedf"
   ]
  },
  {
   "cell_type": "code",
   "execution_count": 51,
   "id": "6d393640",
   "metadata": {
    "ExecuteTime": {
     "end_time": "2022-05-11T18:16:49.822255Z",
     "start_time": "2022-05-11T18:16:49.818027Z"
    }
   },
   "outputs": [],
   "source": [
    "#reset index to be able to use .apply on the movieId\n",
    "moviedf = moviedf.reset_index()"
   ]
  },
  {
   "cell_type": "code",
   "execution_count": 52,
   "id": "3054932c",
   "metadata": {
    "ExecuteTime": {
     "end_time": "2022-05-11T18:16:49.832396Z",
     "start_time": "2022-05-11T18:16:49.823454Z"
    }
   },
   "outputs": [
    {
     "data": {
      "text/html": [
       "<div>\n",
       "<style scoped>\n",
       "    .dataframe tbody tr th:only-of-type {\n",
       "        vertical-align: middle;\n",
       "    }\n",
       "\n",
       "    .dataframe tbody tr th {\n",
       "        vertical-align: top;\n",
       "    }\n",
       "\n",
       "    .dataframe thead th {\n",
       "        text-align: right;\n",
       "    }\n",
       "</style>\n",
       "<table border=\"1\" class=\"dataframe\">\n",
       "  <thead>\n",
       "    <tr style=\"text-align: right;\">\n",
       "      <th></th>\n",
       "      <th>movieId</th>\n",
       "      <th>genres</th>\n",
       "      <th>Title</th>\n",
       "      <th>year_released</th>\n",
       "    </tr>\n",
       "  </thead>\n",
       "  <tbody>\n",
       "    <tr>\n",
       "      <th>0</th>\n",
       "      <td>1</td>\n",
       "      <td>adventure, animation, children, comedy, fantasy</td>\n",
       "      <td>Toy Story</td>\n",
       "      <td>1995</td>\n",
       "    </tr>\n",
       "    <tr>\n",
       "      <th>1</th>\n",
       "      <td>2</td>\n",
       "      <td>adventure, children, fantasy</td>\n",
       "      <td>Jumanji</td>\n",
       "      <td>1995</td>\n",
       "    </tr>\n",
       "    <tr>\n",
       "      <th>2</th>\n",
       "      <td>3</td>\n",
       "      <td>comedy, romance</td>\n",
       "      <td>Grumpier Old Men</td>\n",
       "      <td>1995</td>\n",
       "    </tr>\n",
       "    <tr>\n",
       "      <th>3</th>\n",
       "      <td>4</td>\n",
       "      <td>comedy, drama, romance</td>\n",
       "      <td>Waiting to Exhale</td>\n",
       "      <td>1995</td>\n",
       "    </tr>\n",
       "    <tr>\n",
       "      <th>4</th>\n",
       "      <td>5</td>\n",
       "      <td>comedy</td>\n",
       "      <td>Father of the Bride Part II</td>\n",
       "      <td>1995</td>\n",
       "    </tr>\n",
       "    <tr>\n",
       "      <th>...</th>\n",
       "      <td>...</td>\n",
       "      <td>...</td>\n",
       "      <td>...</td>\n",
       "      <td>...</td>\n",
       "    </tr>\n",
       "    <tr>\n",
       "      <th>9686</th>\n",
       "      <td>193581</td>\n",
       "      <td>action, animation, comedy, fantasy</td>\n",
       "      <td>Black Butler: Book of the Atlantic</td>\n",
       "      <td>2017</td>\n",
       "    </tr>\n",
       "    <tr>\n",
       "      <th>9687</th>\n",
       "      <td>193583</td>\n",
       "      <td>animation, comedy, fantasy</td>\n",
       "      <td>No Game No Life: Zero</td>\n",
       "      <td>2017</td>\n",
       "    </tr>\n",
       "    <tr>\n",
       "      <th>9688</th>\n",
       "      <td>193585</td>\n",
       "      <td>drama</td>\n",
       "      <td>Flint</td>\n",
       "      <td>2017</td>\n",
       "    </tr>\n",
       "    <tr>\n",
       "      <th>9689</th>\n",
       "      <td>193587</td>\n",
       "      <td>action, animation</td>\n",
       "      <td>Bungo Stray Dogs: Dead Apple</td>\n",
       "      <td>2018</td>\n",
       "    </tr>\n",
       "    <tr>\n",
       "      <th>9690</th>\n",
       "      <td>193609</td>\n",
       "      <td>comedy</td>\n",
       "      <td>Andrew Dice Clay: Dice Rules</td>\n",
       "      <td>1991</td>\n",
       "    </tr>\n",
       "  </tbody>\n",
       "</table>\n",
       "<p>9691 rows × 4 columns</p>\n",
       "</div>"
      ],
      "text/plain": [
       "      movieId                                           genres  \\\n",
       "0           1  adventure, animation, children, comedy, fantasy   \n",
       "1           2                     adventure, children, fantasy   \n",
       "2           3                                  comedy, romance   \n",
       "3           4                           comedy, drama, romance   \n",
       "4           5                                           comedy   \n",
       "...       ...                                              ...   \n",
       "9686   193581               action, animation, comedy, fantasy   \n",
       "9687   193583                       animation, comedy, fantasy   \n",
       "9688   193585                                            drama   \n",
       "9689   193587                                action, animation   \n",
       "9690   193609                                           comedy   \n",
       "\n",
       "                                    Title year_released  \n",
       "0                              Toy Story           1995  \n",
       "1                                Jumanji           1995  \n",
       "2                       Grumpier Old Men           1995  \n",
       "3                      Waiting to Exhale           1995  \n",
       "4            Father of the Bride Part II           1995  \n",
       "...                                   ...           ...  \n",
       "9686  Black Butler: Book of the Atlantic           2017  \n",
       "9687               No Game No Life: Zero           2017  \n",
       "9688                               Flint           2017  \n",
       "9689        Bungo Stray Dogs: Dead Apple           2018  \n",
       "9690        Andrew Dice Clay: Dice Rules           1991  \n",
       "\n",
       "[9691 rows x 4 columns]"
      ]
     },
     "execution_count": 52,
     "metadata": {},
     "output_type": "execute_result"
    }
   ],
   "source": [
    "moviedf"
   ]
  },
  {
   "cell_type": "code",
   "execution_count": 53,
   "id": "cca3596b",
   "metadata": {
    "ExecuteTime": {
     "end_time": "2022-05-11T18:16:49.901693Z",
     "start_time": "2022-05-11T18:16:49.833502Z"
    }
   },
   "outputs": [],
   "source": [
    "moviedf['est_rating'] = moviedf['movieId'].apply(lambda x: final_model.predict(9, x).est)\n",
    "moviedf.sort_values(by='est_rating', ascending=False, inplace=True)"
   ]
  },
  {
   "cell_type": "code",
   "execution_count": 54,
   "id": "1151c91f",
   "metadata": {
    "ExecuteTime": {
     "end_time": "2022-05-11T18:16:49.908239Z",
     "start_time": "2022-05-11T18:16:49.902609Z"
    }
   },
   "outputs": [
    {
     "data": {
      "text/html": [
       "<div>\n",
       "<style scoped>\n",
       "    .dataframe tbody tr th:only-of-type {\n",
       "        vertical-align: middle;\n",
       "    }\n",
       "\n",
       "    .dataframe tbody tr th {\n",
       "        vertical-align: top;\n",
       "    }\n",
       "\n",
       "    .dataframe thead th {\n",
       "        text-align: right;\n",
       "    }\n",
       "</style>\n",
       "<table border=\"1\" class=\"dataframe\">\n",
       "  <thead>\n",
       "    <tr style=\"text-align: right;\">\n",
       "      <th></th>\n",
       "      <th>movieId</th>\n",
       "      <th>genres</th>\n",
       "      <th>Title</th>\n",
       "      <th>year_released</th>\n",
       "      <th>est_rating</th>\n",
       "    </tr>\n",
       "  </thead>\n",
       "  <tbody>\n",
       "    <tr>\n",
       "      <th>4344</th>\n",
       "      <td>6442</td>\n",
       "      <td>comedy, romance</td>\n",
       "      <td>Belle époque</td>\n",
       "      <td>1992</td>\n",
       "      <td>4.819555</td>\n",
       "    </tr>\n",
       "    <tr>\n",
       "      <th>8791</th>\n",
       "      <td>132333</td>\n",
       "      <td>documentary, drama</td>\n",
       "      <td>Seve</td>\n",
       "      <td>2014</td>\n",
       "      <td>4.643252</td>\n",
       "    </tr>\n",
       "    <tr>\n",
       "      <th>5686</th>\n",
       "      <td>30745</td>\n",
       "      <td>comedy, crime, drama, horror, mystery</td>\n",
       "      <td>Gozu</td>\n",
       "      <td>Gokudô kyôfu dai-gekijô: Gozu (2003</td>\n",
       "      <td>4.615092</td>\n",
       "    </tr>\n",
       "    <tr>\n",
       "      <th>5574</th>\n",
       "      <td>27156</td>\n",
       "      <td>action, animation, drama, fantasy, sci-fi</td>\n",
       "      <td>Neon Genesis Evangelion: The End of Evangelion</td>\n",
       "      <td>Shin seiki Evangelion Gekijô-ban: Air/Magokoro...</td>\n",
       "      <td>4.606831</td>\n",
       "    </tr>\n",
       "    <tr>\n",
       "      <th>7316</th>\n",
       "      <td>78836</td>\n",
       "      <td>drama</td>\n",
       "      <td>Enter the Void</td>\n",
       "      <td>2009</td>\n",
       "      <td>4.585153</td>\n",
       "    </tr>\n",
       "  </tbody>\n",
       "</table>\n",
       "</div>"
      ],
      "text/plain": [
       "      movieId                                     genres  \\\n",
       "4344     6442                            comedy, romance   \n",
       "8791   132333                         documentary, drama   \n",
       "5686    30745      comedy, crime, drama, horror, mystery   \n",
       "5574    27156  action, animation, drama, fantasy, sci-fi   \n",
       "7316    78836                                      drama   \n",
       "\n",
       "                                                Title  \\\n",
       "4344                                    Belle époque    \n",
       "8791                                            Seve    \n",
       "5686                                            Gozu    \n",
       "5574  Neon Genesis Evangelion: The End of Evangelion    \n",
       "7316                                  Enter the Void    \n",
       "\n",
       "                                          year_released  est_rating  \n",
       "4344                                               1992    4.819555  \n",
       "8791                                               2014    4.643252  \n",
       "5686                Gokudô kyôfu dai-gekijô: Gozu (2003    4.615092  \n",
       "5574  Shin seiki Evangelion Gekijô-ban: Air/Magokoro...    4.606831  \n",
       "7316                                               2009    4.585153  "
      ]
     },
     "execution_count": 54,
     "metadata": {},
     "output_type": "execute_result"
    }
   ],
   "source": [
    "moviedf.head(5)"
   ]
  },
  {
   "cell_type": "markdown",
   "id": "78bc626a",
   "metadata": {},
   "source": [
    "#### Function"
   ]
  },
  {
   "cell_type": "code",
   "execution_count": 36,
   "id": "9dbbd33c",
   "metadata": {
    "ExecuteTime": {
     "end_time": "2022-05-11T18:16:49.912920Z",
     "start_time": "2022-05-11T18:16:49.909080Z"
    }
   },
   "outputs": [],
   "source": [
    "#creating a variable that only has the userid and movies that they've rated\n",
    "#this uses the original train dataset not surprise's version\n",
    "users_movies_seen = movie_rating[['movieId', 'userId']]\n",
    "#setting user id as index to make it easier to use loc on it\n",
    "users_movies_seen = users_movies_seen.set_index('userId')"
   ]
  },
  {
   "cell_type": "code",
   "execution_count": 42,
   "id": "1c996495",
   "metadata": {},
   "outputs": [],
   "source": [
    "users_movies_seen.to_csv('../../ml-latest-small/users_movies_seen.csv')\n",
    "movies.to_csv('../../ml-latest-small/movies_cleaned.csv')"
   ]
  },
  {
   "cell_type": "code",
   "execution_count": 56,
   "id": "dfd45c38",
   "metadata": {
    "ExecuteTime": {
     "end_time": "2022-05-11T18:16:49.917142Z",
     "start_time": "2022-05-11T18:16:49.913788Z"
    },
    "code_folding": [
     0
    ]
   },
   "outputs": [],
   "source": [
    "def recommender():\n",
    "    user = float(input('userId: '))\n",
    "    genre = input('What genres are you interested in? ')\n",
    "    num_recs = int(input('How many recomendations would you like? '))\n",
    "\n",
    "    #using the train data\n",
    "    #create the seen_movie\n",
    "    seen_movie = list(users_movies_seen.loc[user, 'movieId'])\n",
    "\n",
    "    #create df with all the unseen/unrated movies\n",
    "    train_copy = movies.copy()\n",
    "    train_copy2 = train_copy.set_index('movieId')\n",
    "\n",
    "    #using the not_seen df, create a rating for a user\n",
    "    not_seen = train_copy2.drop(index = seen_movie)\n",
    "\n",
    "    #subsetting the df to unseen movies of a certain genre\n",
    "    not_seen = not_seen[not_seen['genres'].str.contains(genre)]\n",
    "    \n",
    "    #reset not_seen index\n",
    "    not_seen = not_seen.reset_index()\n",
    "    \n",
    "    #creating an est rating and the sorted it\n",
    "    not_seen['est_rating'] = not_seen['movieId'].apply(lambda x: final_model.predict(user, x).est)\n",
    "    not_seen.sort_values(by='est_rating', ascending=False, inplace=True)\n",
    "\n",
    "    #returns the recommendations that the model predicts to be the highest rating\n",
    "    return (not_seen.head(num_recs))"
   ]
  },
  {
   "cell_type": "code",
   "execution_count": 57,
   "id": "31b12130",
   "metadata": {
    "ExecuteTime": {
     "end_time": "2022-05-11T19:40:32.989406Z",
     "start_time": "2022-05-11T19:40:32.973283Z"
    },
    "code_folding": [
     0
    ]
   },
   "outputs": [],
   "source": [
    "def recommender2():\n",
    "    user = float(input('userId: '))\n",
    "    genre = input('What genres are you interested in? ').split(' ')\n",
    "    num_recs = int(input('How many recomendations would you like? '))\n",
    "\n",
    "    #using the train data\n",
    "    #create the seen_movie\n",
    "    seen_movie = list(users_movies_seen.loc[user, 'movieId'])\n",
    "\n",
    "    #create df with all the unseen/unrated movies\n",
    "    train_copy = movies.copy()\n",
    "    train_copy2 = train_copy.set_index('movieId')\n",
    "\n",
    "    #using the not_seen df, create a rating for a user\n",
    "    not_seen = train_copy2.drop(index = seen_movie)\n",
    "\n",
    "    #subsetting the df to unseen movies of a certain genre\n",
    "    seen_test = pd.DataFrame(columns=['genres', 'Title', 'year_released'])\n",
    "    for x in genre:\n",
    "        for row, data in not_seen.iterrows():\n",
    "            if x in not_seen['genres'][row]:\n",
    "                seen_test.loc[row] = list(not_seen.loc[row,:])\n",
    "    \n",
    "    #reset not_seen index\n",
    "    seen_test = seen_test.reset_index()\n",
    "    \n",
    "    #creating an est rating and the sorted it\n",
    "    seen_test['est_rating'] = seen_test['index'].apply(lambda x: final_model.predict(user, x).est)\n",
    "    seen_test.sort_values(by='est_rating', ascending=False, inplace=True)\n",
    "\n",
    "    #returns the recommendations that the model predicts to be the highest rating\n",
    "    return (seen_test[['Title', 'genres']].head(num_recs))"
   ]
  },
  {
   "cell_type": "code",
   "execution_count": 84,
   "id": "30fadfe1",
   "metadata": {
    "ExecuteTime": {
     "end_time": "2022-05-11T19:40:55.618066Z",
     "start_time": "2022-05-11T19:40:33.541553Z"
    },
    "scrolled": true
   },
   "outputs": [
    {
     "name": "stdout",
     "output_type": "stream",
     "text": [
      "userId: 10\n",
      "What genres are you interested in? 'action', 'adventure','animation', 'children', 'comedy','crime','documentary','drama','fantasy','film-noir','horror','musical','mystery','romance','sci-fi','thriller','war','western'\n",
      "How many recomendations would you like? 10\n"
     ]
    },
    {
     "data": {
      "text/html": [
       "<div>\n",
       "<style scoped>\n",
       "    .dataframe tbody tr th:only-of-type {\n",
       "        vertical-align: middle;\n",
       "    }\n",
       "\n",
       "    .dataframe tbody tr th {\n",
       "        vertical-align: top;\n",
       "    }\n",
       "\n",
       "    .dataframe thead th {\n",
       "        text-align: right;\n",
       "    }\n",
       "</style>\n",
       "<table border=\"1\" class=\"dataframe\">\n",
       "  <thead>\n",
       "    <tr style=\"text-align: right;\">\n",
       "      <th></th>\n",
       "      <th>Title</th>\n",
       "      <th>genres</th>\n",
       "    </tr>\n",
       "  </thead>\n",
       "  <tbody>\n",
       "  </tbody>\n",
       "</table>\n",
       "</div>"
      ],
      "text/plain": [
       "Empty DataFrame\n",
       "Columns: [Title, genres]\n",
       "Index: []"
      ]
     },
     "execution_count": 84,
     "metadata": {},
     "output_type": "execute_result"
    }
   ],
   "source": [
    "recommender2()"
   ]
  },
  {
   "cell_type": "code",
   "execution_count": null,
   "id": "42a428d9",
   "metadata": {},
   "outputs": [],
   "source": []
  }
 ],
 "metadata": {
  "kernelspec": {
   "display_name": "Python (learn-env)",
   "language": "python",
   "name": "learn-env"
  },
  "language_info": {
   "codemirror_mode": {
    "name": "ipython",
    "version": 3
   },
   "file_extension": ".py",
   "mimetype": "text/x-python",
   "name": "python",
   "nbconvert_exporter": "python",
   "pygments_lexer": "ipython3",
   "version": "3.8.5"
  },
  "toc": {
   "base_numbering": 1,
   "nav_menu": {},
   "number_sections": true,
   "sideBar": true,
   "skip_h1_title": false,
   "title_cell": "Table of Contents",
   "title_sidebar": "Contents",
   "toc_cell": false,
   "toc_position": {},
   "toc_section_display": true,
   "toc_window_display": false
  }
 },
 "nbformat": 4,
 "nbformat_minor": 5
}
